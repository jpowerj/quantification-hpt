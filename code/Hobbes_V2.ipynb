{
 "cells": [
  {
   "cell_type": "code",
   "execution_count": 1,
   "outputs": [],
   "source": [
    "%load_ext autoreload\n",
    "%autoreload 2"
   ],
   "metadata": {
    "collapsed": false,
    "pycharm": {
     "name": "#%%\n"
    }
   }
  },
  {
   "cell_type": "code",
   "execution_count": 6,
   "outputs": [],
   "source": [
    "from collections import Counter\n",
    "import glob\n",
    "import itertools\n",
    "import os\n",
    "\n",
    "import pandas as pd\n",
    "import numpy as np\n",
    "import matplotlib.pyplot as plt\n",
    "import seaborn as sns\n",
    "def set_seaborn_style():\n",
    "    # Idk why we have to call this twice for it to work but... here we are\n",
    "    sns.set(rc={'figure.figsize':(8,5)})\n",
    "    sns.set_theme(style=\"whitegrid\")\n",
    "set_seaborn_style()\n",
    "import nltk\n",
    "from gensim.models import Word2Vec\n",
    "import joblib\n",
    "from tqdm import tqdm\n",
    "tqdm.pandas()\n",
    "\n",
    "import hptutil"
   ],
   "metadata": {
    "collapsed": false,
    "pycharm": {
     "name": "#%%\n"
    }
   }
  },
  {
   "cell_type": "code",
   "execution_count": 7,
   "outputs": [],
   "source": [
    "global_window_high = 21\n",
    "global_window_low = 9\n",
    "global_epochs = 80\n",
    "global_min_count = 10\n",
    "global_seed = 1949\n",
    "fig_path = os.path.join(\"..\",\"figs\")"
   ],
   "metadata": {
    "collapsed": false,
    "pycharm": {
     "name": "#%%\n"
    }
   }
  },
  {
   "cell_type": "code",
   "execution_count": 8,
   "outputs": [],
   "source": [
    "stopwords_en = nltk.corpus.stopwords.words('english')"
   ],
   "metadata": {
    "collapsed": false,
    "pycharm": {
     "name": "#%%\n"
    }
   }
  },
  {
   "cell_type": "code",
   "execution_count": 46,
   "outputs": [],
   "source": [
    "keywords = [\n",
    "    #'covenant',\n",
    "    #'god',\n",
    "    'authority',\n",
    "    'christ',\n",
    "    'civill',\n",
    "    'common-wealth',\n",
    "    #'duty',\n",
    "    #'externall',\n",
    "    'externall_impediment',\n",
    "    'externall-impediment',\n",
    "    'fear',\n",
    "    'free',\n",
    "    'government',\n",
    "    'holy',\n",
    "    #'impediment',\n",
    "    #'internall',\n",
    "    #'judge',\n",
    "    'justice',\n",
    "    'king',\n",
    "    'kingdome',\n",
    "    'law',\n",
    "    'liberty',\n",
    "    'lord',\n",
    "    #'man',\n",
    "    'obey',\n",
    "    'power',\n",
    "    #'reason',\n",
    "    'soveraign',\n",
    "    #'subject'\n",
    "    #'supreme',\n",
    "    #'obligation',\n",
    "    #'right',\n",
    "    #'nature',\n",
    "]\n",
    "\n",
    "join_tokens = [\n",
    "    ('externall','impediment'),\n",
    "]\n",
    "\n",
    "token_clusters = [\n",
    "    ['christ','jesus'],\n",
    "    ['externall','external'],\n",
    "    ['fear','feare','feared','fears','fearing','feares','fearfull','feareth','feare—'],\n",
    "    ['free','freely','freedome','free-will','freewill'],\n",
    "    ['god','gods'],\n",
    "    ['impediment','impediments'],\n",
    "    ['internall','internal'],\n",
    "    ['king','kings'],\n",
    "    ['law','laws','lawes'],\n",
    "    ['liberty', 'libertie', 'libertatis', 'libertas'],\n",
    "    ['man','men'],\n",
    "    ['obey', 'obedience'],\n",
    "    ['soveraign','soveraignty','soveraigne'],\n",
    "    ['subject','subjects'],\n",
    "]\n",
    "cluster_map = {}\n",
    "for cur_cluster in token_clusters:\n",
    "    cluster_main = cur_cluster[0]\n",
    "    for cur_token in cur_cluster:\n",
    "        cluster_map[cur_token] = cluster_main\n",
    "kw_pairs = list(itertools.combinations_with_replacement(keywords, 2))\n",
    "#kw_pairs"
   ],
   "metadata": {
    "collapsed": false,
    "pycharm": {
     "name": "#%%\n"
    }
   }
  },
  {
   "cell_type": "markdown",
   "source": [
    "## Load Texts"
   ],
   "metadata": {
    "collapsed": false,
    "pycharm": {
     "name": "#%% md\n"
    }
   }
  },
  {
   "cell_type": "code",
   "execution_count": 47,
   "outputs": [],
   "source": [
    "text_path = os.path.join(\"..\",\"corpus_hobbes\")\n",
    "default_texts = ['behemoth', 'de_cive', 'elements', 'leviathan']\n",
    "def load_texts(text_list=default_texts):\n",
    "    raw_texts = []\n",
    "    for text_name in text_list:\n",
    "        fname = f\"{text_name}.txt\"\n",
    "        fpath = os.path.join(text_path, fname)\n",
    "        with open(fpath, 'r', encoding='utf-8') as infile:\n",
    "            cur_text = infile.read()\n",
    "            raw_texts.append(cur_text)\n",
    "    raw_text = \"\\n\\n\\n\".join(raw_texts)\n",
    "    return raw_text"
   ],
   "metadata": {
    "collapsed": false,
    "pycharm": {
     "name": "#%%\n"
    }
   }
  },
  {
   "cell_type": "code",
   "execution_count": 48,
   "outputs": [],
   "source": [
    "text = load_texts()"
   ],
   "metadata": {
    "collapsed": false,
    "pycharm": {
     "name": "#%%\n"
    }
   }
  },
  {
   "cell_type": "code",
   "execution_count": 49,
   "outputs": [],
   "source": [
    "clean_text = text.lower()"
   ],
   "metadata": {
    "collapsed": false,
    "pycharm": {
     "name": "#%%\n"
    }
   }
  },
  {
   "cell_type": "code",
   "execution_count": 50,
   "outputs": [],
   "source": [
    "def preprocess_tokens(token_list):\n",
    "    punct_list = \".,\\\"':!?;()“”’&[]1234567890\"\n",
    "    def remove_punct(token):\n",
    "        return \"\".join([t for t in token if t not in punct_list])\n",
    "    clean_tokens = [remove_punct(t) for t in token_list]\n",
    "    en_stopwords = nltk.corpus.stopwords.words('english')\n",
    "    clean_tokens = [t for t in clean_tokens if t not in en_stopwords]\n",
    "\n",
    "    #cluster_map\n",
    "    def collapse_token(orig_token):\n",
    "        return cluster_map[orig_token] if orig_token in cluster_map else orig_token\n",
    "    clean_tokens = [collapse_token(t) for t in clean_tokens]\n",
    "    # Join phrases\n",
    "    for token_index in range(len(clean_tokens)-1):\n",
    "        cur_token = clean_tokens[token_index]\n",
    "        next_token = clean_tokens[token_index+1]\n",
    "        token_tuple = (cur_token, next_token)\n",
    "        if cur_token == \"externall\" or next_token == \"externall\":\n",
    "            print(cur_token, next_token)\n",
    "        if (cur_token, next_token) in join_tokens:\n",
    "            print(f\"Joining {token_tuple}\")\n",
    "            clean_tokens[token_index] = cur_token + \"_\" + next_token\n",
    "            clean_tokens[token_index+1] = \"\"\n",
    "    # Lastly, remove any blank tokens\n",
    "    clean_tokens = [t for t in clean_tokens if len(t) > 0]\n",
    "    return clean_tokens"
   ],
   "metadata": {
    "collapsed": false,
    "pycharm": {
     "name": "#%%\n"
    }
   }
  },
  {
   "cell_type": "code",
   "execution_count": 51,
   "outputs": [
    {
     "data": {
      "text/plain": "1201162"
     },
     "execution_count": 51,
     "metadata": {},
     "output_type": "execute_result"
    }
   ],
   "source": [
    "text_lev = load_texts([\"leviathan\"])\n",
    "len(text_lev)"
   ],
   "metadata": {
    "collapsed": false,
    "pycharm": {
     "name": "#%%\n"
    }
   }
  },
  {
   "cell_type": "code",
   "execution_count": 52,
   "outputs": [
    {
     "name": "stdout",
     "output_type": "stream",
     "text": [
      " externall\n",
      "externall body\n",
      " externall\n",
      "externall things\n",
      "receive externall\n",
      "externall bodies\n",
      "action externall\n",
      "externall objects\n",
      "action externall\n",
      "externall objects\n",
      "helps externall\n",
      "externall \n",
      " externall\n",
      "externall substances\n",
      "absence externall\n",
      "externall impediment\n",
      "Joining ('externall', 'impediment')\n",
      "mean externall\n",
      "externall impediment\n",
      "Joining ('externall', 'impediment')\n",
      "opposition externall\n",
      "externall body\n",
      "without externall\n",
      "externall impediment\n",
      "Joining ('externall', 'impediment')\n",
      " externall\n",
      "externall accidents\n",
      "caused externall\n",
      "externall obstacle\n",
      " externall\n",
      "externall violence\n",
      " externall\n",
      "externall signes\n",
      " externall\n",
      "externall signes\n",
      "parts externall\n",
      "externall worship\n",
      "raised externall\n",
      "externall things\n",
      "perceptible externall\n",
      "externall senses\n",
      " externall\n",
      "externall sign\n",
      " externall\n",
      "externall matter\n",
      " externall\n",
      "externall darknesse\n",
      " externall\n",
      "externall acts\n",
      "god externall\n",
      "externall worship\n",
      "tongue externall\n",
      "externall thing\n",
      " externall\n",
      "externall actions\n",
      " externall\n",
      "externall marks\n",
      "manners externall\n",
      "externall actions\n",
      "mens externall\n",
      "externall actions\n",
      " externall\n",
      "externall actions\n",
      "impression externall\n",
      "externall bodies\n",
      "representations externall\n",
      "externall bodies\n",
      "doe externall\n",
      "externall acts\n",
      "doe externall\n",
      "externall honor\n",
      " externall\n",
      "externall works\n",
      "justification externall\n",
      "externall works\n"
     ]
    }
   ],
   "source": [
    "clean_text_lev = text_lev.lower()\n",
    "sents_lev = nltk.tokenize.sent_tokenize(clean_text_lev, \"english\")\n",
    "sent_tokens_lev = [nltk.tokenize.word_tokenize(sent) for sent in sents_lev]\n",
    "clean_sent_tokens_lev = [preprocess_tokens(sent_tokens) for sent_tokens in sent_tokens_lev]"
   ],
   "metadata": {
    "collapsed": false,
    "pycharm": {
     "name": "#%%\n"
    }
   }
  },
  {
   "cell_type": "code",
   "execution_count": 53,
   "outputs": [],
   "source": [
    "# For the sake of getting individual token counts, we combine into a giant list here\n",
    "# (But this is just for sanity-checking)\n",
    "def combine_sent_tokens(sent_tokens):\n",
    "    tokens_combined = []\n",
    "    for cur_sent_tokens in sent_tokens:\n",
    "        tokens_combined.extend(cur_sent_tokens)\n",
    "    return tokens_combined\n",
    "\n",
    "def get_token_counts(clean_sent_tokens):\n",
    "    clean_tokens_combined = combine_sent_tokens(clean_sent_tokens)\n",
    "    clean_tokens_count = Counter(clean_tokens_combined)\n",
    "    counts_sorted = sorted(clean_tokens_count.items(), key=lambda x: x[1], reverse=True)\n",
    "    return counts_sorted"
   ],
   "metadata": {
    "collapsed": false,
    "pycharm": {
     "name": "#%%\n"
    }
   }
  },
  {
   "cell_type": "code",
   "execution_count": 54,
   "outputs": [
    {
     "data": {
      "text/plain": "[('man', 2020),\n ('god', 1279),\n ('law', 1079),\n ('one', 831),\n ('power', 735),\n ('soveraign', 655),\n ('therefore', 606),\n ('shall', 582),\n ('also', 579),\n ('may', 573),\n ('hath', 446),\n ('say', 446),\n ('subject', 434),\n ('every', 425),\n ('common-wealth', 424),\n ('nature', 417),\n ('onely', 413),\n ('another', 411),\n ('time', 399),\n ('christ', 385),\n ('king', 381),\n ('right', 366),\n ('yet', 346),\n ('upon', 339),\n ('people', 332),\n ('called', 330),\n ('words', 327),\n ('without', 325),\n ('though', 321),\n ('civill', 320),\n ('authority', 317),\n ('place', 313),\n ('first', 312),\n ('made', 304),\n ('thing', 298),\n ('make', 296),\n ('kingdome', 284),\n ('reason', 275),\n ('things', 269),\n ('many', 265),\n ('good', 250),\n ('obey', 249),\n ('moses', 242),\n ('word', 240),\n ('church', 239),\n ('life', 231),\n ('naturall', 230),\n ('himselfe', 227),\n ('said', 210),\n ('bee', 209),\n ('body', 205),\n ('name', 201),\n ('spirit', 197),\n ('christian', 196),\n ('either', 196),\n ('nothing', 196),\n ('person', 195),\n ('much', 194),\n ('publique', 193),\n ('part', 192),\n ('great', 192),\n ('world', 191),\n ('use', 189),\n ('saviour', 189),\n ('done', 188),\n ('hee', 187),\n ('like', 184),\n ('fear', 183),\n ('scripture', 180),\n ('come', 177),\n ('assembly', 176),\n ('sense', 174),\n ('us', 173),\n ('actions', 172),\n ('doctrine', 172),\n ('doe', 168),\n ('holy', 164),\n ('cause', 163),\n ('take', 160),\n ('private', 158),\n ('government', 158),\n ('contrary', 157),\n ('give', 154),\n ('liberty', 154),\n ('manner', 153),\n ('apostles', 150),\n ('st', 150),\n ('faith', 149),\n ('others', 148),\n ('saith', 146),\n ('sometimes', 144),\n ('judge', 144),\n ('honour', 144),\n ('covenant', 144),\n ('death', 143),\n ('must', 143),\n ('new', 143),\n ('two', 140),\n ('know', 139),\n ('true', 137),\n ('would', 136),\n ('wee', 135),\n ('taken', 135),\n ('unto', 132),\n ('religion', 132),\n ('whose', 131),\n ('places', 129),\n ('end', 129),\n ('necessary', 128),\n ('peace', 128),\n ('think', 127),\n ('amongst', 127),\n ('evill', 126),\n ('earth', 126),\n ('bodies', 125),\n ('given', 125),\n ('call', 121),\n ('see', 121),\n ('ought', 121),\n ('worship', 121),\n ('whereof', 120),\n ('names', 119),\n ('common', 118),\n ('consequently', 117),\n ('whatsoever', 117),\n ('could', 116),\n ('act', 116),\n ('seeing', 115),\n ('concerning', 115),\n ('never', 115),\n ('lord', 115),\n ('understood', 114),\n ('neither', 114),\n ('present', 113),\n ('way', 111),\n ('warre', 111),\n ('justice', 111),\n ('whether', 110),\n ('command', 110),\n ('pope', 110),\n ('case', 108),\n ('chapter', 108),\n ('beleeve', 108),\n ('day', 107),\n ('opinion', 107),\n ('wherein', 106),\n ('mans', 105),\n ('prophets', 105),\n ('testament', 105),\n ('particular', 104),\n ('false', 104),\n ('well', 102),\n ('manifest', 102),\n ('none', 102),\n ('old', 101),\n ('till', 101),\n ('put', 100),\n ('greater', 99),\n ('causes', 99),\n ('whole', 98),\n ('thought', 98),\n ('punishment', 97),\n ('set', 97),\n ('thereby', 96),\n ('eternall', 96),\n ('might', 95),\n ('written', 92),\n ('means', 92),\n ('counsell', 92),\n ('away', 91),\n ('crime', 91),\n ('already', 91),\n ('desire', 90),\n ('second', 90),\n ('persons', 89),\n ('children', 89),\n ('heaven', 89),\n ('times', 88),\n ('prophet', 88),\n ('thou', 88),\n ('paul', 88),\n ('jews', 88),\n ('together', 87),\n ('selfe', 87),\n ('lesse', 87),\n ('soveraigns', 87),\n ('benefit', 86),\n ('speak', 85),\n ('speech', 85),\n ('obliged', 85),\n ('else', 85),\n ('according', 84),\n ('consequences', 83),\n ('mind', 82),\n ('thereof', 81),\n ('knowledge', 81),\n ('office', 81),\n ('whereas', 81),\n ('israel', 81),\n ('passions', 80),\n ('generall', 80),\n ('acts', 80),\n ('received', 80),\n ('parts', 79),\n ('action', 79),\n ('condition', 79),\n ('common-wealths', 79),\n ('peter', 78),\n ('judges', 78),\n ('motion', 77),\n ('truth', 77),\n ('long', 77),\n ('question', 77),\n ('hands', 77),\n ('otherwise', 77),\n ('lawfull', 77),\n ('fire', 77),\n ('books', 76),\n ('former', 76),\n ('fact', 76),\n ('father', 76),\n ('priest', 76),\n ('teach', 75),\n ('divers', 75),\n ('salvation', 75),\n ('representative', 75),\n ('high', 74),\n ('ministers', 74),\n ('find', 73),\n ('living', 72),\n ('dominion', 72),\n ('commanded', 72),\n ('signes', 71),\n ('bound', 71),\n ('verse', 71),\n ('matter', 70),\n ('consisteth', 70),\n ('certain', 70),\n ('resurrection', 70),\n ('doth', 69),\n ('meant', 69),\n ('john', 69),\n ('state', 68),\n ('signifie', 68),\n ('neverthelesse', 68),\n ('christians', 68),\n ('consider', 67),\n ('thy', 67),\n ('three', 67),\n ('force', 67),\n ('rest', 66),\n ('fancy', 66),\n ('spirits', 66),\n ('known', 66),\n ('miracles', 66),\n ('read', 65),\n ('thus', 65),\n ('priests', 65),\n ('pastors', 65),\n ('taught', 64),\n ('judgement', 64),\n ('rome', 64),\n ('thee', 64),\n ('whereby', 63),\n ('sufficient', 63),\n ('let', 62),\n ('commonly', 62),\n ('effect', 62),\n ('consequence', 62),\n ('sent', 62),\n ('last', 62),\n ('want', 62),\n ('ghost', 62),\n ('injustice', 62),\n ('little', 61),\n ('dead', 61),\n ('making', 61),\n ('enough', 61),\n ('proceed', 61),\n ('vertue', 60),\n ('enemy', 60),\n ('ignorance', 60),\n ('live', 60),\n ('philosophy', 60),\n ('c', 59),\n ('monarchy', 59),\n ('princes', 59),\n ('used', 58),\n ('ordained', 58),\n ('gave', 58),\n ('need', 58),\n ('divine', 58),\n ('spake', 58),\n ('spirituall', 58),\n ('receive', 57),\n ('spoken', 57),\n ('sentence', 57),\n ('nations', 57),\n ('thoughts', 56),\n ('kind', 56),\n ('unlesse', 56),\n ('ever', 56),\n ('rather', 56),\n ('evident', 56),\n ('promise', 56),\n ('supreme', 56),\n ('war', 55),\n ('mens', 55),\n ('hand', 55),\n ('properly', 55),\n ('third', 55),\n ('love', 55),\n ('supernaturall', 55),\n ('monarch', 55),\n ('example', 54),\n ('equall', 54),\n ('argument', 54),\n ('science', 53),\n ('image', 53),\n ('maketh', 53),\n ('author', 53),\n ('number', 53),\n ('free', 53),\n ('came', 52),\n ('land', 52),\n ('son', 52),\n ('left', 51),\n ('understanding', 51),\n ('water', 51),\n ('severall', 51),\n ('keep', 51),\n ('besides', 51),\n ('secondly', 50),\n ('past', 50),\n ('best', 50),\n ('able', 50),\n ('hurt', 50),\n ('unjust', 50),\n ('understand', 49),\n ('namely', 49),\n ('discourse', 49),\n ('difference', 49),\n ('judgment', 49),\n ('endeavour', 48),\n ('generally', 48),\n ('later', 48),\n ('rule', 48),\n ('cast', 48),\n ('institution', 48),\n ('rights', 47),\n ('doctrines', 47),\n ('vision', 47),\n ('often', 47),\n ('different', 47),\n ('passe', 47),\n ('passion', 47),\n ('kill', 47),\n ('hope', 46),\n ('observe', 46),\n ('even', 46),\n ('follow', 46),\n ('book', 46),\n ('angels', 46),\n ('saying', 45),\n ('seem', 45),\n ('experience', 45),\n ('mony', 45),\n ('rules', 45),\n ('humane', 45),\n ('multitude', 45),\n ('absolute', 45),\n ('therein', 45),\n ('abraham', 45),\n ('mat', 45),\n ('strength', 44),\n ('derived', 44),\n ('proper', 44),\n ('signe', 44),\n ('contract', 44),\n ('signifieth', 44),\n ('service', 44),\n ('declared', 44),\n ('heart', 43),\n ('afterwards', 43),\n ('light', 43),\n ('cases', 43),\n ('believe', 43),\n ('work', 43),\n ('scriptures', 43),\n ('required', 43),\n ('heathen', 43),\n ('punishments', 43),\n ('interpretation', 43),\n ('baptisme', 43),\n ('art', 42),\n ('duty', 42),\n ('easily', 42),\n ('appetite', 42),\n ('images', 42),\n ('gentiles', 42),\n ('sorts', 42),\n ('governed', 42),\n ('consent', 42),\n ('extraordinary', 42),\n ('businesse', 41),\n ('covenants', 41),\n ('still', 41),\n ('imagination', 41),\n ('next', 41),\n ('thence', 41),\n ('signification', 41),\n ('prove', 41),\n ('owne', 41),\n ('injury', 41),\n ('opinions', 41),\n ('obligation', 41),\n ('purgatory', 41),\n ('bishops', 41),\n ('equity', 40),\n ('found', 40),\n ('dream', 40),\n ('brought', 40),\n ('future', 40),\n ('alwayes', 40),\n ('reasoning', 40),\n ('soule', 40),\n ('sin', 40),\n ('sins', 40),\n ('ver', 40),\n ('self', 39),\n ('object', 39),\n ('sight', 39),\n ('impossible', 39),\n ('point', 39),\n ('peculiar', 39),\n ('immediately', 39),\n ('naturally', 39),\n ('stand', 39),\n ('soever', 39),\n ('idolatry', 39),\n ('defence', 38),\n ('makes', 38),\n ('seen', 38),\n ('dreams', 38),\n ('followeth', 38),\n ('conscience', 38),\n ('purpose', 38),\n ('succession', 38),\n ('occasion', 38),\n ('labour', 38),\n ('meaning', 38),\n ('determined', 38),\n ('lay', 38),\n ('answer', 38),\n ('house', 38),\n ('text', 38),\n ('christs', 38),\n ('article', 38),\n ('pastor', 38),\n ('lastly', 37),\n ('creatures', 37),\n ('needs', 37),\n ('beginning', 37),\n ('order', 37),\n ('prophecy', 37),\n ('danger', 37),\n ('vain', 37),\n ('pretend', 37),\n ('fit', 37),\n ('morall', 37),\n ('sinne', 37),\n ('language', 36),\n ('whence', 36),\n ('appear', 36),\n ('drawn', 36),\n ('observed', 36),\n ('wisdome', 36),\n ('serve', 36),\n ('universall', 36),\n ('incorporeall', 36),\n ('speaketh', 36),\n ('witnesse', 36),\n ('committed', 36),\n ('popes', 36),\n ('giving', 35),\n ('thirdly', 35),\n ('master', 35),\n ('ordinary', 35),\n ('commandement', 35),\n ('partly', 35),\n ('city', 35),\n ('unlawfull', 35),\n ('delivered', 35),\n ('jurisdiction', 35),\n ('propriety', 35),\n ('congregation', 35),\n ('subordinate', 35),\n ('commands', 35),\n ('teaching', 35),\n ('darknesse', 35),\n ('whosoever', 34),\n ('value', 34),\n ('mankind', 34),\n ('reputation', 34),\n ('require', 34),\n ('intention', 34),\n ('servants', 34),\n ('prince', 34),\n ('miracle', 34),\n ('everlasting', 34),\n ('angel', 34),\n ('ecclesiasticall', 34),\n ('externall', 33),\n ('change', 33),\n ('mean', 33),\n ('conceive', 33),\n ('summe', 33),\n ('enemies', 33),\n ('principles', 33),\n ('speaking', 33),\n ('ambition', 33),\n ('supposed', 33),\n ('ground', 33),\n ('revelation', 33),\n ('manners', 33),\n ('works', 33),\n ('belongeth', 33),\n ('crimes', 33),\n ('inflicted', 33),\n ('preach', 33),\n ('apostle', 33),\n ('shew', 32),\n ('nation', 32),\n ('hear', 32),\n ('greeks', 32),\n ('voluntary', 32),\n ('custome', 32),\n ('perhaps', 32),\n ('study', 32),\n ('speciall', 32),\n ('pleasure', 32),\n ('bring', 32),\n ('grace', 32),\n ('elders', 32),\n ('lived', 32),\n ('appointed', 32),\n ('england', 32),\n ('giveth', 32),\n ('gift', 32),\n ('saul', 32),\n ('riches', 31),\n ('originall', 31),\n ('seemeth', 31),\n ('greatest', 31),\n ('company', 31),\n ('adam', 31),\n ('account', 31),\n ('substance', 31),\n ('history', 31),\n ('dependeth', 31),\n ('took', 31),\n ('alwaies', 31),\n ('testimony', 31),\n ('judged', 31),\n ('lawfully', 31),\n ('jerusalem', 31),\n ('gen', 31),\n ('commandements', 31),\n ('twelve', 31),\n ('proved', 31),\n ('coming', 31),\n ('beleeved', 31),\n ('officers', 30),\n ('memory', 30),\n ('politique', 30),\n ('hearing', 30),\n ('shewn', 30),\n ('declare', 30),\n ('errour', 30),\n ('allowed', 30),\n ('go', 30),\n ('contempt', 30),\n ('glory', 30),\n ('arguments', 30),\n ('aaron', 30),\n ('title', 30),\n ('deny', 30),\n ('hell', 30),\n ('forbidden', 30),\n ('commandeth', 30),\n ('excommunication', 30),\n ('execution', 29),\n ('govern', 29),\n ('care', 29),\n ('notice', 29),\n ('foundation', 29),\n ('considered', 29),\n ('greek', 29),\n ('acknowledge', 29),\n ('save', 29),\n ('far', 29),\n ('exod', 29),\n ('popular', 29),\n ('meer', 29),\n ('due', 29),\n ('joshua', 29),\n ('teachers', 29),\n ('sufficiently', 29),\n ('breach', 29),\n ('commission', 29),\n ('voice', 29),\n ('david', 29),\n ('die', 29),\n ('saved', 29),\n ('latine', 28),\n ('protection', 28),\n ('moved', 28),\n ('acquired', 28),\n ('organs', 28),\n ('distinguish', 28),\n ('arise', 28),\n ('effects', 28),\n ('interest', 28),\n ('vertues', 28),\n ('bear', 28),\n ('precedent', 28),\n ('presence', 28),\n ('fault', 28),\n ('tis', 28),\n ('punish', 28),\n ('especially', 28),\n ('samuel', 28),\n ('preaching', 28),\n ('represented', 28),\n ('israelites', 28),\n ('elect', 28),\n ('goe', 28),\n ('within', 27),\n ('eyes', 27),\n ('forth', 27),\n ('somewhat', 27),\n ('doubt', 27),\n ('knowing', 27),\n ('creature', 27),\n ('wit', 27),\n ('almost', 27),\n ('please', 27),\n ('taking', 27),\n ('better', 27),\n ('generation', 27),\n ('madnesse', 27),\n ('pretended', 27),\n ('possession', 27),\n ('subjection', 27),\n ('masters', 27),\n ('charge', 27),\n ('estate', 27),\n ('temporall', 27),\n ('clergy', 27),\n ('administration', 27),\n ('chap', 27),\n ('disciples', 27),\n ('innocent', 27),\n ('faithfull', 27),\n ('churches', 27),\n ('luke', 27),\n ('texts', 26),\n ('visible', 26),\n ('senses', 26),\n ('distinction', 26),\n ('ghosts', 26),\n ('punished', 26),\n ('difficulty', 26),\n ('consequent', 26),\n ('mutuall', 26),\n ('authors', 26),\n ('likewise', 26),\n ('friends', 26),\n ('security', 26),\n ('felicity', 26),\n ('designe', 26),\n ('except', 26),\n ('jewes', 26),\n ('following', 26),\n ('powers', 26),\n ('defend', 26),\n ('ancient', 26),\n ('lords', 26),\n ('attributed', 26),\n ('bishop', 26),\n ('goods', 26),\n ('gospel', 26),\n ('cor', 26),\n ('occasions', 25),\n ('hard', 25),\n ('longer', 25),\n ('comes', 25),\n ('prudence', 25),\n ('least', 25),\n ('leave', 25),\n ('refuse', 25),\n ('invisible', 25),\n ('expresse', 25),\n ('proceedeth', 25),\n ('signified', 25),\n ('discretion', 25),\n ('held', 25),\n ('dishonour', 25),\n ('forme', 25),\n ('writing', 25),\n ('sword', 25),\n ('chosen', 25),\n ('marriage', 25),\n ('granted', 25),\n ('submit', 25),\n ('captivity', 25),\n ('deut', 25),\n ('reign', 25),\n ('judicature', 24),\n ('wise', 24),\n ('trust', 24),\n ('brain', 24),\n ('qualities', 24),\n ('reall', 24),\n ('caused', 24),\n ('grounded', 24),\n ('heard', 24),\n ('comming', 24),\n ('formerly', 24),\n ('saw', 24),\n ('lost', 24),\n ('presumption', 24),\n ('letters', 24),\n ('numbers', 24),\n ('mark', 24),\n ('went', 24),\n ('favour', 24),\n ('hold', 24),\n ('immediate', 24),\n ('sort', 24),\n ('performance', 24),\n ('represent', 24),\n ('legislator', 24),\n ('alledged', 24),\n ('minister', 24),\n ('baptized', 24),\n ('seventy', 24),\n ('yee', 24),\n ('excommunicate', 24),\n ('reward', 23),\n ('members', 23),\n ('towards', 23),\n ('easie', 23),\n ('fall', 23),\n ('signifies', 23),\n ('look', 23),\n ('return', 23),\n ('possible', 23),\n ('help', 23),\n ('divided', 23),\n ('absurd', 23),\n ('pleased', 23),\n ('constituted', 23),\n ('demand', 23),\n ('indeed', 23),\n ('bloud', 23),\n ('raised', 23),\n ('witnesses', 23),\n ('strange', 23),\n ('attribute', 23),\n ('appeareth', 23),\n ('choose', 23),\n ('stone', 23),\n ('submission', 23),\n ('forraign', 23),\n ('advice', 23),\n ('expressely', 23),\n ('election', 23),\n ('contained', 23),\n ('shalt', 23),\n ('honor', 23),\n ('deliver', 22),\n ('aristotle', 22),\n ('exercise', 22),\n ('appears', 22),\n ('calling', 22),\n ('ends', 22),\n ('proceeding', 22),\n ('society', 22),\n ('country', 22),\n ('tell', 22),\n ('definition', 22),\n ('enter', 22),\n ('accidents', 22),\n ('small', 22),\n ('deliberation', 22),\n ('writings', 22),\n ('equally', 22),\n ('judgements', 22),\n ('quantity', 22),\n ('violence', 22),\n ('romans', 22),\n ('examples', 22),\n ('acknowledged', 22),\n ('distribution', 22),\n ('fundamentall', 22),\n ('dammage', 22),\n ('lieutenant', 22),\n ('temple', 22),\n ('preached', 22),\n ('artificiall', 21),\n ('constitution', 21),\n ('diversity', 21),\n ('produce', 21),\n ('rise', 21),\n ('caesar', 21),\n ('possessed', 21),\n ('alone', 21),\n ('ariseth', 21),\n ('kinds', 21),\n ('seek', 21),\n ('supernaturally', 21),\n ('fourthly', 21),\n ('selves', 21),\n ('respect', 21),\n ('attributes', 21),\n ('writers', 21),\n ('politiques', 21),\n ('family', 21),\n ('expressed', 21),\n ('depend', 21),\n ('councell', 21),\n ('withall', 21),\n ('interpret', 21),\n ('head', 21),\n ('empire', 21),\n ('home', 21),\n ('disposeth', 21),\n ('excuse', 21),\n ('necessity', 21),\n ('sam', 21),\n ('grant', 21),\n ('promised', 21),\n ('debt', 21),\n ('assemblies', 21),\n ('dominions', 21),\n ('democracy', 21),\n ('sole', 21),\n ('mount', 21),\n ('wicked', 21),\n ('flesh', 21),\n ('performe', 20),\n ('safety', 20),\n ('thereunto', 20),\n ('degrees', 20),\n ('latines', 20),\n ('weak', 20),\n ('againe', 20),\n ('sleep', 20),\n ('anger', 20),\n ('visions', 20),\n ('beasts', 20),\n ('scope', 20),\n ('gotten', 20),\n ('apt', 20),\n ('imposition', 20),\n ('expect', 20),\n ('positive', 20),\n ('bread', 20),\n ('mentioned', 20),\n ('phantasmes', 20),\n ('fourth', 20),\n ('sayes', 20),\n ('employment', 20),\n ('inspiration', 20),\n ('antient', 20),\n ('victory', 20),\n ('titles', 20),\n ('gifts', 20),\n ('agree', 20),\n ('mouth', 20),\n ('oblige', 20),\n ('condemned', 20),\n ('bind', 20),\n ('maintenance', 20),\n ('governours', 20),\n ('aristocracy', 20),\n ('fathers', 20),\n ('eat', 20),\n ('schools', 20),\n ('side', 19),\n ('eternally', 19),\n ('considering', 19),\n ('proceeds', 19),\n ('taketh', 19),\n ('worshipped', 19),\n ('turn', 19),\n ('supposing', 19),\n ('child', 19),\n ('infinite', 19),\n ('adde', 19),\n ('proceeded', 19),\n ('mother', 19),\n ('significations', 19),\n ('added', 19),\n ('wayes', 19),\n ('fortune', 19),\n ('farre', 19),\n ('contention', 19),\n ('pretence', 19),\n ('necessarily', 19),\n ('prayer', 19),\n ('enjoy', 19),\n ('profit', 19),\n ('daemons', 19),\n ('commit', 19),\n ('esteemed', 19),\n ('perpetuall', 19),\n ('torments', 19),\n ('seed', 19),\n ('accuse', 19),\n ('since', 19),\n ('render', 19),\n ('egypt', 19),\n ('build', 19),\n ('voyd', 19),\n ('appoint', 19),\n ('interpreter', 19),\n ('answered', 19),\n ('sacrifice', 19),\n ('beleef', 19),\n ('canonicall', 19),\n ('converted', 19),\n ('devill', 19),\n ('saviours', 19),\n ('quality', 18),\n ('tongue', 18),\n ('motions', 18),\n ('hence', 18),\n ('obscure', 18),\n ('night', 18),\n ('fancies', 18),\n ('credit', 18),\n ('ask', 18),\n ('roman', 18),\n ('event', 18),\n ('born', 18),\n ('learned', 18),\n ('instruction', 18),\n ('rebellion', 18),\n ('wrong', 18),\n ('conclude', 18),\n ('examine', 18),\n ('avoyd', 18),\n ('calleth', 18),\n ('controversies', 18),\n ('aversion', 18),\n ('honourable', 18),\n ('sudden', 18),\n ('form', 18),\n ('insomuch', 18),\n ('pay', 18),\n ('abroad', 18),\n ('questions', 18),\n ('civil', 18),\n ('precepts', 18),\n ('instituted', 18),\n ('resist', 18),\n ('stranger', 18),\n ('protect', 18),\n ('annexed', 18),\n ('senate', 18),\n ('kingdom', 18),\n ('suffer', 18),\n ('capitall', 18),\n ('established', 18),\n ('writer', 18),\n ('doctors', 18),\n ('conversion', 18),\n ('satan', 18),\n ('baptize', 18),\n ('united', 17),\n ('els', 17),\n ('universities', 17),\n ('nay', 17),\n ('cities', 17),\n ('difficult', 17),\n ('notwithstanding', 17),\n ('price', 17),\n ('greatnesse', 17),\n ('begin', 17),\n ('limited', 17),\n ('become', 17),\n ('industry', 17),\n ('philosophers', 17),\n ('commodities', 17),\n ('hitherto', 17),\n ('appetites', 17),\n ('inferre', 17),\n ('controversie', 17),\n ...]"
     },
     "execution_count": 54,
     "metadata": {},
     "output_type": "execute_result"
    }
   ],
   "source": [
    "lev_token_counts = get_token_counts(clean_sent_tokens_lev)\n",
    "lev_token_counts"
   ],
   "metadata": {
    "collapsed": false,
    "pycharm": {
     "name": "#%%\n"
    }
   }
  },
  {
   "cell_type": "code",
   "execution_count": 76,
   "outputs": [
    {
     "data": {
      "text/plain": "['externall',\n 'externall',\n 'externall',\n 'externall',\n 'externall',\n 'externall',\n 'externall',\n 'externall_impediment',\n 'externall_impediment',\n 'externall',\n 'externall_impediment',\n 'externall',\n 'externall',\n 'externall',\n 'externall',\n 'externall',\n 'externall',\n 'externall',\n 'externall',\n 'externall',\n 'externall',\n 'externall',\n 'externall',\n 'externall',\n 'externall',\n 'externall',\n 'externall',\n 'externall',\n 'externall',\n 'externall',\n 'externall',\n 'externall',\n 'externall',\n 'externall',\n 'externall',\n 'externall']"
     },
     "execution_count": 76,
     "metadata": {},
     "output_type": "execute_result"
    }
   ],
   "source": [
    "lev_tokens = combine_sent_tokens(clean_sent_tokens_lev)\n",
    "[t for t in lev_tokens if \"externall\" in t]"
   ],
   "metadata": {
    "collapsed": false,
    "pycharm": {
     "name": "#%%\n"
    }
   }
  },
  {
   "cell_type": "code",
   "execution_count": 56,
   "outputs": [],
   "source": [
    "lev_model = Word2Vec(sentences=clean_sent_tokens_lev, vector_size=2, window=global_window_low,\n",
    "                     min_count=1, workers=8, epochs=global_epochs, seed=global_seed)\n",
    "\n",
    "lev_model.save(\"w2v_leviathan.model\")"
   ],
   "metadata": {
    "collapsed": false,
    "pycharm": {
     "name": "#%%\n"
    }
   }
  },
  {
   "cell_type": "code",
   "execution_count": 57,
   "outputs": [
    {
     "data": {
      "text/plain": "9482"
     },
     "execution_count": 57,
     "metadata": {},
     "output_type": "execute_result"
    }
   ],
   "source": [
    "len(lev_model.wv)"
   ],
   "metadata": {
    "collapsed": false,
    "pycharm": {
     "name": "#%%\n"
    }
   }
  },
  {
   "cell_type": "code",
   "execution_count": 58,
   "outputs": [],
   "source": [
    "def get_embedding_df(w2v_model, kw_list, tagged=False):\n",
    "    w2v_rows = []\n",
    "    emb_keywords = kw_list\n",
    "    if tagged:\n",
    "        emb_keywords = [kw+\"[m]\" for kw in kw_list] + [kw+\"[h]\" for kw in kw_list]\n",
    "    for cur_kw in emb_keywords:\n",
    "        if cur_kw not in w2v_model.wv:\n",
    "            continue\n",
    "        cur_vec = w2v_model.wv[cur_kw]\n",
    "        cur_row = [cur_kw] + list(cur_vec)\n",
    "        w2v_rows.append(cur_row)\n",
    "    w2v_df = pd.DataFrame(w2v_rows, columns=['token','x','y'])\n",
    "    return w2v_df"
   ],
   "metadata": {
    "collapsed": false,
    "pycharm": {
     "name": "#%%\n"
    }
   }
  },
  {
   "cell_type": "code",
   "execution_count": 59,
   "outputs": [],
   "source": [
    "# For the main keywords\n",
    "df = get_embedding_df(lev_model, keywords)"
   ],
   "metadata": {
    "collapsed": false,
    "pycharm": {
     "name": "#%%\n"
    }
   }
  },
  {
   "cell_type": "code",
   "execution_count": 60,
   "outputs": [
    {
     "data": {
      "text/plain": "                   token         x          y\n0              authority -2.115229  -0.122190\n1                 christ  1.199110  -9.320261\n2                 civill -2.261407   0.020990\n3          common-wealth -5.300452   2.473663\n4   externall_impediment -1.410727  -0.879304\n5                   fear -4.704437   2.426374\n6                   free -3.125126   0.960405\n7             government -3.937372   1.898518\n8                   holy  0.728009  -8.522900\n9                justice -6.292325   3.657266\n10                  king  0.477917  -4.875514\n11              kingdome  0.619632  -6.027303\n12                   law -3.612243   1.003160\n13               liberty -6.697371   3.788100\n14                  lord  1.259229 -10.214752\n15                  obey -1.693444  -0.481693\n16                 power -2.895562   0.587714\n17             soveraign -4.442111   1.623887",
      "text/html": "<div>\n<style scoped>\n    .dataframe tbody tr th:only-of-type {\n        vertical-align: middle;\n    }\n\n    .dataframe tbody tr th {\n        vertical-align: top;\n    }\n\n    .dataframe thead th {\n        text-align: right;\n    }\n</style>\n<table border=\"1\" class=\"dataframe\">\n  <thead>\n    <tr style=\"text-align: right;\">\n      <th></th>\n      <th>token</th>\n      <th>x</th>\n      <th>y</th>\n    </tr>\n  </thead>\n  <tbody>\n    <tr>\n      <th>0</th>\n      <td>authority</td>\n      <td>-2.115229</td>\n      <td>-0.122190</td>\n    </tr>\n    <tr>\n      <th>1</th>\n      <td>christ</td>\n      <td>1.199110</td>\n      <td>-9.320261</td>\n    </tr>\n    <tr>\n      <th>2</th>\n      <td>civill</td>\n      <td>-2.261407</td>\n      <td>0.020990</td>\n    </tr>\n    <tr>\n      <th>3</th>\n      <td>common-wealth</td>\n      <td>-5.300452</td>\n      <td>2.473663</td>\n    </tr>\n    <tr>\n      <th>4</th>\n      <td>externall_impediment</td>\n      <td>-1.410727</td>\n      <td>-0.879304</td>\n    </tr>\n    <tr>\n      <th>5</th>\n      <td>fear</td>\n      <td>-4.704437</td>\n      <td>2.426374</td>\n    </tr>\n    <tr>\n      <th>6</th>\n      <td>free</td>\n      <td>-3.125126</td>\n      <td>0.960405</td>\n    </tr>\n    <tr>\n      <th>7</th>\n      <td>government</td>\n      <td>-3.937372</td>\n      <td>1.898518</td>\n    </tr>\n    <tr>\n      <th>8</th>\n      <td>holy</td>\n      <td>0.728009</td>\n      <td>-8.522900</td>\n    </tr>\n    <tr>\n      <th>9</th>\n      <td>justice</td>\n      <td>-6.292325</td>\n      <td>3.657266</td>\n    </tr>\n    <tr>\n      <th>10</th>\n      <td>king</td>\n      <td>0.477917</td>\n      <td>-4.875514</td>\n    </tr>\n    <tr>\n      <th>11</th>\n      <td>kingdome</td>\n      <td>0.619632</td>\n      <td>-6.027303</td>\n    </tr>\n    <tr>\n      <th>12</th>\n      <td>law</td>\n      <td>-3.612243</td>\n      <td>1.003160</td>\n    </tr>\n    <tr>\n      <th>13</th>\n      <td>liberty</td>\n      <td>-6.697371</td>\n      <td>3.788100</td>\n    </tr>\n    <tr>\n      <th>14</th>\n      <td>lord</td>\n      <td>1.259229</td>\n      <td>-10.214752</td>\n    </tr>\n    <tr>\n      <th>15</th>\n      <td>obey</td>\n      <td>-1.693444</td>\n      <td>-0.481693</td>\n    </tr>\n    <tr>\n      <th>16</th>\n      <td>power</td>\n      <td>-2.895562</td>\n      <td>0.587714</td>\n    </tr>\n    <tr>\n      <th>17</th>\n      <td>soveraign</td>\n      <td>-4.442111</td>\n      <td>1.623887</td>\n    </tr>\n  </tbody>\n</table>\n</div>"
     },
     "execution_count": 60,
     "metadata": {},
     "output_type": "execute_result"
    }
   ],
   "source": [
    "df"
   ],
   "metadata": {
    "collapsed": false,
    "pycharm": {
     "name": "#%%\n"
    }
   }
  },
  {
   "cell_type": "code",
   "execution_count": 61,
   "outputs": [
    {
     "data": {
      "text/plain": "<Figure size 864x576 with 1 Axes>",
      "image/png": "[encoded data removed]"
     },
     "metadata": {},
     "output_type": "display_data"
    }
   ],
   "source": [
    "set_seaborn_style()\n",
    "plt.figure(figsize=(12,8))\n",
    "word_plot = sns.scatterplot(data=df,x='x',y='y')\n",
    "word_plot.grid(False)\n",
    "#word_plot.set_xlim(xlim)\n",
    "#word_plot.set_ylim(ylim)\n",
    "sns.despine(bottom=False, left=False, right=True, top=True)\n",
    "#word_plot.set_xticks([])\n",
    "#word_plot.set_yticks([])\n",
    "word_plot.set_title(\"Word Embeddings for Leviathan\", fontdict={'size':14})\n",
    "hptutil.label_points(df['x'], df['y'], df['token'], plt.gca(), x_offset=0.01)\n",
    "#plt.arrow(0.99,1.76,1,1,width=0.01,head_width=0.1,head_length=0.1,length_includes_head=True,color='black')\n",
    "#plt.annotate(\"\", xy=(0.99, 1.76), xytext=(1.96, -0.45), arrowprops=dict(arrowstyle=\"->\",color='black'))\n",
    "plt.tight_layout()\n",
    "svg_fpath = os.path.join(fig_path, \"lev_embeddings.svg\")\n",
    "plt.savefig(svg_fpath)"
   ],
   "metadata": {
    "collapsed": false,
    "pycharm": {
     "name": "#%%\n"
    }
   }
  },
  {
   "cell_type": "code",
   "execution_count": 62,
   "outputs": [],
   "source": [
    "df.index.name"
   ],
   "metadata": {
    "collapsed": false,
    "pycharm": {
     "name": "#%%\n"
    }
   }
  },
  {
   "cell_type": "code",
   "execution_count": 63,
   "outputs": [
    {
     "name": "stdout",
     "output_type": "stream",
     "text": [
      "Adding authority\n",
      "cur_pd (PointData): PointData[x=-2.1152288913726807,y=-0.1221897229552269,label=authority,anchor=north]\n",
      "[point_str()] self.label = authority\n",
      "Adding christ\n",
      "cur_pd (PointData): PointData[x=1.1991099119186401,y=-9.320261001586914,label=christ,anchor=north]\n",
      "[point_str()] self.label = christ\n",
      "Adding civill\n",
      "cur_pd (PointData): PointData[x=-2.261406660079956,y=0.020989974960684776,label=civill,anchor=north]\n",
      "[point_str()] self.label = civill\n",
      "Adding common-wealth\n",
      "cur_pd (PointData): PointData[x=-5.300451755523682,y=2.4736626148223877,label=common-wealth,anchor=north]\n",
      "[point_str()] self.label = common-wealth\n",
      "Adding externall_impediment\n",
      "cur_pd (PointData): PointData[x=-1.4107270240783691,y=-0.8793035745620728,label=externall_impediment,anchor=north]\n",
      "[point_str()] self.label = externall_impediment\n",
      "Adding fear\n",
      "cur_pd (PointData): PointData[x=-4.704436779022217,y=2.4263739585876465,label=fear,anchor=north]\n",
      "[point_str()] self.label = fear\n",
      "Adding free\n",
      "cur_pd (PointData): PointData[x=-3.1251256465911865,y=0.9604054689407349,label=free,anchor=north]\n",
      "[point_str()] self.label = free\n",
      "Adding government\n",
      "cur_pd (PointData): PointData[x=-3.9373724460601807,y=1.898518443107605,label=government,anchor=north]\n",
      "[point_str()] self.label = government\n",
      "Adding holy\n",
      "cur_pd (PointData): PointData[x=0.728008508682251,y=-8.522899627685547,label=holy,anchor=north]\n",
      "[point_str()] self.label = holy\n",
      "Adding justice\n",
      "cur_pd (PointData): PointData[x=-6.292324542999268,y=3.6572659015655518,label=justice,anchor=north]\n",
      "[point_str()] self.label = justice\n",
      "Adding king\n",
      "cur_pd (PointData): PointData[x=0.4779174029827118,y=-4.875514030456543,label=king,anchor=north]\n",
      "[point_str()] self.label = king\n",
      "Adding kingdome\n",
      "cur_pd (PointData): PointData[x=0.6196319460868835,y=-6.027303218841553,label=kingdome,anchor=north]\n",
      "[point_str()] self.label = kingdome\n",
      "Adding law\n",
      "cur_pd (PointData): PointData[x=-3.6122429370880127,y=1.0031601190567017,label=law,anchor=north]\n",
      "[point_str()] self.label = law\n",
      "Adding liberty\n",
      "cur_pd (PointData): PointData[x=-6.697371006011963,y=3.788100004196167,label=liberty,anchor=north]\n",
      "[point_str()] self.label = liberty\n",
      "Adding lord\n",
      "cur_pd (PointData): PointData[x=1.2592288255691528,y=-10.214752197265625,label=lord,anchor=north]\n",
      "[point_str()] self.label = lord\n",
      "Adding obey\n",
      "cur_pd (PointData): PointData[x=-1.6934442520141602,y=-0.48169347643852234,label=obey,anchor=north]\n",
      "[point_str()] self.label = obey\n",
      "Adding power\n",
      "cur_pd (PointData): PointData[x=-2.895562171936035,y=0.5877139568328857,label=power,anchor=north]\n",
      "[point_str()] self.label = power\n",
      "Adding soveraign\n",
      "cur_pd (PointData): PointData[x=-4.442111492156982,y=1.623887300491333,label=soveraign,anchor=north]\n",
      "[point_str()] self.label = soveraign\n"
     ]
    }
   ],
   "source": [
    "if df.index.name != \"token\":\n",
    "    df.set_index(\"token\", inplace=True)\n",
    "latex_str = hptutil.custom_latex_export(df, self_contained=True, debug=True)\n",
    "with open(\"hobbes_standalone.tex\", 'w', encoding='utf-8') as outfile:\n",
    "    outfile.write(latex_str)"
   ],
   "metadata": {
    "collapsed": false,
    "pycharm": {
     "name": "#%%\n"
    }
   }
  },
  {
   "cell_type": "markdown",
   "source": [
    "## tSNE"
   ],
   "metadata": {
    "collapsed": false,
    "pycharm": {
     "name": "#%% md\n"
    }
   }
  },
  {
   "cell_type": "code",
   "execution_count": 64,
   "outputs": [
    {
     "data": {
      "text/plain": "                       0         1\nman            -0.995214  0.097717\ngod             0.042193 -0.999109\nlaw            -0.963534  0.267584\none            -0.993808  0.111112\npower          -0.980017  0.198915\n...                  ...       ...\nrectitude      -0.996307 -0.085868\nfurnishes      -0.993698  0.112091\nencourageth    -0.995057  0.099302\ncircumspection -0.870298  0.492525\npromotion      -0.999860 -0.016710\n\n[9482 rows x 2 columns]",
      "text/html": "<div>\n<style scoped>\n    .dataframe tbody tr th:only-of-type {\n        vertical-align: middle;\n    }\n\n    .dataframe tbody tr th {\n        vertical-align: top;\n    }\n\n    .dataframe thead th {\n        text-align: right;\n    }\n</style>\n<table border=\"1\" class=\"dataframe\">\n  <thead>\n    <tr style=\"text-align: right;\">\n      <th></th>\n      <th>0</th>\n      <th>1</th>\n    </tr>\n  </thead>\n  <tbody>\n    <tr>\n      <th>man</th>\n      <td>-0.995214</td>\n      <td>0.097717</td>\n    </tr>\n    <tr>\n      <th>god</th>\n      <td>0.042193</td>\n      <td>-0.999109</td>\n    </tr>\n    <tr>\n      <th>law</th>\n      <td>-0.963534</td>\n      <td>0.267584</td>\n    </tr>\n    <tr>\n      <th>one</th>\n      <td>-0.993808</td>\n      <td>0.111112</td>\n    </tr>\n    <tr>\n      <th>power</th>\n      <td>-0.980017</td>\n      <td>0.198915</td>\n    </tr>\n    <tr>\n      <th>...</th>\n      <td>...</td>\n      <td>...</td>\n    </tr>\n    <tr>\n      <th>rectitude</th>\n      <td>-0.996307</td>\n      <td>-0.085868</td>\n    </tr>\n    <tr>\n      <th>furnishes</th>\n      <td>-0.993698</td>\n      <td>0.112091</td>\n    </tr>\n    <tr>\n      <th>encourageth</th>\n      <td>-0.995057</td>\n      <td>0.099302</td>\n    </tr>\n    <tr>\n      <th>circumspection</th>\n      <td>-0.870298</td>\n      <td>0.492525</td>\n    </tr>\n    <tr>\n      <th>promotion</th>\n      <td>-0.999860</td>\n      <td>-0.016710</td>\n    </tr>\n  </tbody>\n</table>\n<p>9482 rows × 2 columns</p>\n</div>"
     },
     "execution_count": 64,
     "metadata": {},
     "output_type": "execute_result"
    }
   ],
   "source": [
    "cur_model = lev_model\n",
    "\n",
    "tsne_vecs = cur_model.wv.vectors\n",
    "tsne_vecs_normed = cur_model.wv.get_normed_vectors()\n",
    "# Change this to change whether it uses normed vectors\n",
    "tsne_vec_df = pd.DataFrame(tsne_vecs_normed, index=cur_model.wv.index_to_key)\n",
    "tsne_vec_df"
   ],
   "metadata": {
    "collapsed": false,
    "pycharm": {
     "name": "#%%\n"
    }
   }
  },
  {
   "cell_type": "code",
   "execution_count": 82,
   "outputs": [
    {
     "data": {
      "text/plain": "                       0         1\nman            -0.995214  0.097717\ngod             0.042193 -0.999109\nlaw            -0.963534  0.267584\none            -0.993808  0.111112\npower          -0.980017  0.198915\n...                  ...       ...\nrectitude      -0.996307 -0.085868\nfurnishes      -0.993698  0.112091\nencourageth    -0.995057  0.099302\ncircumspection -0.870298  0.492525\npromotion      -0.999860 -0.016710\n\n[8000 rows x 2 columns]",
      "text/html": "<div>\n<style scoped>\n    .dataframe tbody tr th:only-of-type {\n        vertical-align: middle;\n    }\n\n    .dataframe tbody tr th {\n        vertical-align: top;\n    }\n\n    .dataframe thead th {\n        text-align: right;\n    }\n</style>\n<table border=\"1\" class=\"dataframe\">\n  <thead>\n    <tr style=\"text-align: right;\">\n      <th></th>\n      <th>0</th>\n      <th>1</th>\n    </tr>\n  </thead>\n  <tbody>\n    <tr>\n      <th>man</th>\n      <td>-0.995214</td>\n      <td>0.097717</td>\n    </tr>\n    <tr>\n      <th>god</th>\n      <td>0.042193</td>\n      <td>-0.999109</td>\n    </tr>\n    <tr>\n      <th>law</th>\n      <td>-0.963534</td>\n      <td>0.267584</td>\n    </tr>\n    <tr>\n      <th>one</th>\n      <td>-0.993808</td>\n      <td>0.111112</td>\n    </tr>\n    <tr>\n      <th>power</th>\n      <td>-0.980017</td>\n      <td>0.198915</td>\n    </tr>\n    <tr>\n      <th>...</th>\n      <td>...</td>\n      <td>...</td>\n    </tr>\n    <tr>\n      <th>rectitude</th>\n      <td>-0.996307</td>\n      <td>-0.085868</td>\n    </tr>\n    <tr>\n      <th>furnishes</th>\n      <td>-0.993698</td>\n      <td>0.112091</td>\n    </tr>\n    <tr>\n      <th>encourageth</th>\n      <td>-0.995057</td>\n      <td>0.099302</td>\n    </tr>\n    <tr>\n      <th>circumspection</th>\n      <td>-0.870298</td>\n      <td>0.492525</td>\n    </tr>\n    <tr>\n      <th>promotion</th>\n      <td>-0.999860</td>\n      <td>-0.016710</td>\n    </tr>\n  </tbody>\n</table>\n<p>8000 rows × 2 columns</p>\n</div>"
     },
     "execution_count": 82,
     "metadata": {},
     "output_type": "execute_result"
    }
   ],
   "source": [
    "tsne_N = 8000\n",
    "top_n_tokens = [t[0] for t in lev_token_counts[:tsne_N]]\n",
    "tsne_topn_df = tsne_vec_df[tsne_vec_df.index.isin(top_n_tokens)].copy()\n",
    "tsne_topn_df"
   ],
   "metadata": {
    "collapsed": false,
    "pycharm": {
     "name": "#%%\n"
    }
   }
  },
  {
   "cell_type": "code",
   "execution_count": 83,
   "outputs": [
    {
     "data": {
      "text/plain": "['externall', 'externall_impediment', 'externo']"
     },
     "execution_count": 83,
     "metadata": {},
     "output_type": "execute_result"
    }
   ],
   "source": [
    "[t for t in tsne_topn_df.index if \"extern\" in t]"
   ],
   "metadata": {
    "collapsed": false,
    "pycharm": {
     "name": "#%%\n"
    }
   }
  },
  {
   "cell_type": "code",
   "execution_count": 84,
   "outputs": [],
   "source": [
    "from sklearn.manifold import TSNE"
   ],
   "metadata": {
    "collapsed": false,
    "pycharm": {
     "name": "#%%\n"
    }
   }
  },
  {
   "cell_type": "code",
   "execution_count": 85,
   "outputs": [],
   "source": [
    "tsne = TSNE(n_components=2, random_state=global_seed,\n",
    "            metric='cosine',\n",
    "            learning_rate=10,\n",
    "            perplexity=12.0, n_jobs=8,\n",
    "            n_iter=2000)"
   ],
   "metadata": {
    "collapsed": false,
    "pycharm": {
     "name": "#%%\n"
    }
   }
  },
  {
   "cell_type": "code",
   "execution_count": 86,
   "outputs": [
    {
     "name": "stderr",
     "output_type": "stream",
     "text": [
      "C:\\Users\\jpjac\\lib\\site-packages\\sklearn\\manifold\\_t_sne.py:795: FutureWarning: The default initialization in TSNE will change from 'random' to 'pca' in 1.2.\n",
      "  warnings.warn(\n"
     ]
    }
   ],
   "source": [
    "#timeit -r1 -n1\n",
    "# Project the data in 2D\n",
    "#X_tsne = tsne.fit_transform(wpa_vecs)\n",
    "\n",
    "# Convert df to just nunmeric matrix\n",
    "#X_wpa_kw = wpa_kw_df.drop(columns=['token'])\n",
    "X_tsne_topn = tsne.fit_transform(tsne_topn_df)"
   ],
   "metadata": {
    "collapsed": false,
    "pycharm": {
     "name": "#%%\n"
    }
   }
  },
  {
   "cell_type": "code",
   "execution_count": 87,
   "outputs": [
    {
     "data": {
      "text/plain": "                        x          y\nman             42.185413 -30.103691\ngod            -52.609283   6.512658\nlaw             46.503422  34.586960\none             26.029749 -63.992344\npower          -24.624355 -46.391071\n...                   ...        ...\nrectitude       11.664919  67.774620\nfurnishes       25.919928 -64.655861\nencourageth     34.441639 -50.910622\ncircumspection  66.732483 -49.117222\npromotion       40.949463  72.696304\n\n[8000 rows x 2 columns]",
      "text/html": "<div>\n<style scoped>\n    .dataframe tbody tr th:only-of-type {\n        vertical-align: middle;\n    }\n\n    .dataframe tbody tr th {\n        vertical-align: top;\n    }\n\n    .dataframe thead th {\n        text-align: right;\n    }\n</style>\n<table border=\"1\" class=\"dataframe\">\n  <thead>\n    <tr style=\"text-align: right;\">\n      <th></th>\n      <th>x</th>\n      <th>y</th>\n    </tr>\n  </thead>\n  <tbody>\n    <tr>\n      <th>man</th>\n      <td>42.185413</td>\n      <td>-30.103691</td>\n    </tr>\n    <tr>\n      <th>god</th>\n      <td>-52.609283</td>\n      <td>6.512658</td>\n    </tr>\n    <tr>\n      <th>law</th>\n      <td>46.503422</td>\n      <td>34.586960</td>\n    </tr>\n    <tr>\n      <th>one</th>\n      <td>26.029749</td>\n      <td>-63.992344</td>\n    </tr>\n    <tr>\n      <th>power</th>\n      <td>-24.624355</td>\n      <td>-46.391071</td>\n    </tr>\n    <tr>\n      <th>...</th>\n      <td>...</td>\n      <td>...</td>\n    </tr>\n    <tr>\n      <th>rectitude</th>\n      <td>11.664919</td>\n      <td>67.774620</td>\n    </tr>\n    <tr>\n      <th>furnishes</th>\n      <td>25.919928</td>\n      <td>-64.655861</td>\n    </tr>\n    <tr>\n      <th>encourageth</th>\n      <td>34.441639</td>\n      <td>-50.910622</td>\n    </tr>\n    <tr>\n      <th>circumspection</th>\n      <td>66.732483</td>\n      <td>-49.117222</td>\n    </tr>\n    <tr>\n      <th>promotion</th>\n      <td>40.949463</td>\n      <td>72.696304</td>\n    </tr>\n  </tbody>\n</table>\n<p>8000 rows × 2 columns</p>\n</div>"
     },
     "execution_count": 87,
     "metadata": {},
     "output_type": "execute_result"
    }
   ],
   "source": [
    "tsne_df_full = pd.DataFrame(X_tsne_topn, columns=['x','y'], index=tsne_topn_df.index)\n",
    "tsne_df_full"
   ],
   "metadata": {
    "collapsed": false,
    "pycharm": {
     "name": "#%%\n"
    }
   }
  },
  {
   "cell_type": "code",
   "execution_count": 88,
   "outputs": [],
   "source": [
    "# Now just the keywords\n",
    "#kw_remove = ['freedom', 'slavery']\n",
    "#kw_filtered = [kw for kw in keywords if kw not in kw_remove]\n",
    "#kw_add = ['baby', 'child', 'rich', 'poor']\n",
    "#kw_final = kw_filtered + kw_add\n",
    "tsne_df = tsne_df_full[tsne_df_full.index.isin(keywords)].copy()"
   ],
   "metadata": {
    "collapsed": false,
    "pycharm": {
     "name": "#%%\n"
    }
   }
  },
  {
   "cell_type": "code",
   "execution_count": 92,
   "outputs": [
    {
     "data": {
      "text/plain": "<Figure size 864x576 with 1 Axes>",
      "image/png": "[encoded data removed]"
     },
     "metadata": {},
     "output_type": "display_data"
    }
   ],
   "source": [
    "# Plot tSNE like it's the 2d space\n",
    "set_seaborn_style()\n",
    "plt.figure(figsize=(12,8))\n",
    "word_plot = sns.scatterplot(data=tsne_df,x='x',y='y')\n",
    "word_plot.grid(False)\n",
    "#word_plot.set_xlim(tsne_xlim)\n",
    "#word_plot.set_ylim(tsne_ylim)\n",
    "sns.despine(bottom=False, left=False, right=True, top=True)\n",
    "#word_plot.set_xticks([])\n",
    "#word_plot.set_yticks([])\n",
    "\n",
    "#plt.arrow(0.99,1.76,1,1,width=0.01,head_width=0.1,head_length=0.1,length_includes_head=True,color='black')\n",
    "#plt.annotate(\"\", xy=(0.99, 1.76), xytext=(1.96, -0.45), arrowprops=dict(arrowstyle=\"->\",color='black'))\n",
    "word_plot.set_title(\"Word Embeddings for Leviathan\", fontdict={'size':14})\n",
    "hptutil.label_points(tsne_df['x'], tsne_df['y'], tsne_df.index, plt.gca(), x_offset=0.01)\n",
    "plt.tight_layout()"
   ],
   "metadata": {
    "collapsed": false,
    "pycharm": {
     "name": "#%%\n"
    }
   }
  },
  {
   "cell_type": "code",
   "execution_count": 98,
   "outputs": [
    {
     "name": "stdout",
     "output_type": "stream",
     "text": [
      "Adding law\n",
      "cur_pd (PointData): PointData[x=46.503421783447266,y=34.58695983886719,label=law,anchor=north]\n",
      "[point_str()] self.label = law\n",
      "Adding power\n",
      "cur_pd (PointData): PointData[x=-24.62435531616211,y=-46.39107131958008,label=power,anchor=north]\n",
      "[point_str()] self.label = power\n",
      "Adding soveraign\n",
      "cur_pd (PointData): PointData[x=-39.39225387573242,y=-45.462982177734375,label=soveraign,anchor=north]\n",
      "[point_str()] self.label = soveraign\n",
      "Adding common-wealth\n",
      "cur_pd (PointData): PointData[x=77.98419952392578,y=22.16880226135254,label=common-wealth,anchor=north]\n",
      "[point_str()] self.label = common-wealth\n",
      "Adding christ\n",
      "cur_pd (PointData): PointData[x=-7.418119430541992,y=46.909645080566406,label=christ,anchor=north]\n",
      "[point_str()] self.label = christ\n",
      "Adding king\n",
      "cur_pd (PointData): PointData[x=-23.69881820678711,y=40.56747817993164,label=king,anchor=north]\n",
      "[point_str()] self.label = king\n",
      "Adding civill\n",
      "cur_pd (PointData): PointData[x=80.02437591552734,y=-17.630285263061523,label=civill,anchor=north]\n",
      "[point_str()] self.label = civill\n",
      "Adding authority\n",
      "cur_pd (PointData): PointData[x=-9.717127799987793,y=-27.4947509765625,label=authority,anchor=north]\n",
      "[point_str()] self.label = authority\n",
      "Adding kingdome\n",
      "cur_pd (PointData): PointData[x=-21.712207794189453,y=42.580501556396484,label=kingdome,anchor=north]\n",
      "[point_str()] self.label = kingdome\n",
      "Adding obey\n",
      "cur_pd (PointData): PointData[x=-11.602441787719727,y=7.57306432723999,label=obey,anchor=north]\n",
      "[point_str()] self.label = obey\n",
      "Adding fear\n",
      "cur_pd (PointData): PointData[x=51.006492614746094,y=-43.76272964477539,label=fear,anchor=north]\n",
      "[point_str()] self.label = fear\n",
      "Adding holy\n",
      "cur_pd (PointData): PointData[x=-30.660472869873047,y=38.5079345703125,label=holy,anchor=north]\n",
      "[point_str()] self.label = holy\n",
      "Adding government\n",
      "cur_pd (PointData): PointData[x=76.3743896484375,y=14.180973052978516,label=government,anchor=north]\n",
      "[point_str()] self.label = government\n",
      "Adding liberty\n",
      "cur_pd (PointData): PointData[x=66.69720458984375,y=-49.17308807373047,label=liberty,anchor=north]\n",
      "[point_str()] self.label = liberty\n",
      "Adding lord\n",
      "cur_pd (PointData): PointData[x=-10.736512184143066,y=50.325340270996094,label=lord,anchor=north]\n",
      "[point_str()] self.label = lord\n",
      "Adding justice\n",
      "cur_pd (PointData): PointData[x=68.78113555908203,y=-44.66043472290039,label=justice,anchor=north]\n",
      "[point_str()] self.label = justice\n",
      "Adding free\n",
      "cur_pd (PointData): PointData[x=-32.444984436035156,y=-25.612884521484375,label=free,anchor=north]\n",
      "[point_str()] self.label = free\n",
      "Adding externall_impediment\n",
      "cur_pd (PointData): PointData[x=-39.919151306152344,y=70.95811462402344,label=externall_impediment,anchor=north]\n",
      "[point_str()] self.label = externall_impediment\n"
     ]
    }
   ],
   "source": [
    "# tex export\n",
    "tsne_df\n",
    "latex_str = hptutil.custom_latex_export(tsne_df, self_contained=True, debug=True, pad_pct=0.2)\n",
    "with open(\"hobbes_tsne_standalone.tex\", 'w', encoding='utf-8') as outfile:\n",
    "    outfile.write(latex_str)"
   ],
   "metadata": {
    "collapsed": false,
    "pycharm": {
     "name": "#%%\n"
    }
   }
  },
  {
   "cell_type": "markdown",
   "source": [
    "## Now same for pre-Leviathan texts"
   ],
   "metadata": {
    "collapsed": false,
    "pycharm": {
     "name": "#%% md\n"
    }
   }
  },
  {
   "cell_type": "code",
   "execution_count": null,
   "outputs": [],
   "source": [],
   "metadata": {
    "collapsed": false,
    "pycharm": {
     "name": "#%%\n"
    }
   }
  }
 ],
 "metadata": {
  "kernelspec": {
   "display_name": "Python 3",
   "language": "python",
   "name": "python3"
  },
  "language_info": {
   "codemirror_mode": {
    "name": "ipython",
    "version": 2
   },
   "file_extension": ".py",
   "mimetype": "text/x-python",
   "name": "python",
   "nbconvert_exporter": "python",
   "pygments_lexer": "ipython2",
   "version": "2.7.6"
  }
 },
 "nbformat": 4,
 "nbformat_minor": 0
}