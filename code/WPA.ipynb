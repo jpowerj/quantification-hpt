{
 "cells": [
  {
   "cell_type": "code",
   "execution_count": 1,
   "outputs": [],
   "source": [
    "%load_ext autoreload\n",
    "%autoreload 2"
   ],
   "metadata": {
    "collapsed": false,
    "pycharm": {
     "name": "#%%\n"
    }
   }
  },
  {
   "cell_type": "code",
   "execution_count": 2,
   "outputs": [],
   "source": [
    "from collections import Counter\n",
    "import glob\n",
    "import os\n",
    "\n",
    "import pandas as pd\n",
    "import numpy as np\n",
    "import matplotlib.pyplot as plt\n",
    "import seaborn as sns\n",
    "def set_seaborn_style():\n",
    "    # Idk why we have to call this twice for it to work but... here we are\n",
    "    sns.set(rc={'figure.figsize':(8,5)})\n",
    "    sns.set_theme(style=\"whitegrid\")\n",
    "set_seaborn_style()\n",
    "import nltk\n",
    "from gensim.models import Word2Vec\n",
    "import joblib\n",
    "from tqdm import tqdm\n",
    "tqdm.pandas()\n",
    "\n",
    "import hptutil"
   ],
   "metadata": {
    "collapsed": false,
    "pycharm": {
     "name": "#%%\n"
    }
   }
  },
  {
   "cell_type": "code",
   "execution_count": 3,
   "outputs": [],
   "source": [
    "global_window_high = 21\n",
    "global_window_low = 9\n",
    "global_epochs = 80\n",
    "global_min_count = 10\n",
    "global_seed = 1949\n",
    "fig_path = os.path.join(\"..\",\"figs\")"
   ],
   "metadata": {
    "collapsed": false,
    "pycharm": {
     "name": "#%%\n"
    }
   }
  },
  {
   "cell_type": "code",
   "execution_count": 4,
   "outputs": [
    {
     "data": {
      "text/plain": "{'colored': 'black',\n 'n*****': 'black',\n 'nigger': 'black',\n 'niggers': 'black',\n 'negro': 'black',\n 'negros': 'black',\n 'negroes': 'black',\n 'blacks': 'black',\n 'children': 'child',\n 'childs': 'child',\n 'chillun': 'child',\n 'coops': 'coop',\n 'fields': 'field',\n 'houses': 'house',\n 'men': 'man',\n 'mans': 'man',\n 'marster': 'master',\n 'masters': 'master',\n 'marsters': 'master',\n 'marse': 'master',\n 'massa': 'master',\n 'slaves': 'slave',\n 'whites': 'white',\n 'women': 'woman',\n 'exslaves': 'exslave',\n 'slavry': 'slavery',\n 'darkey': 'darky',\n 'ting': 'thing',\n 'hab': 'have',\n 'lib': 'live',\n 'wus': 'was',\n 'folks': 'folk'}"
     },
     "execution_count": 4,
     "metadata": {},
     "output_type": "execute_result"
    }
   ],
   "source": [
    "token_sets = [\n",
    "    [\"black\",\"colored\",\"n*****\",\"nigger\",\"niggers\",\"negro\",\"negros\",\"negroes\",\"blacks\"],\n",
    "    [\"child\",\"children\",\"childs\",\"chillun\"],\n",
    "    [\"coop\",\"coops\"],\n",
    "    [\"field\",\"fields\"],\n",
    "    #[\"free\"]\n",
    "    [\"house\",\"houses\"],\n",
    "    [\"man\",\"men\",\"mans\"],\n",
    "    [\"master\",\"marster\",\"masters\",\"marsters\",\"marse\",'massa'],\n",
    "    #[\"quarters\",\"quarter\",\"coop\",\"coops\"],\n",
    "    [\"slave\",\"slaves\"],\n",
    "    [\"white\",\"whites\"],\n",
    "    [\"woman\",\"women\"],\n",
    "    [\"exslave\",\"exslaves\"],\n",
    "    [\"slavery\",\"slavry\"],\n",
    "    ['darky', 'darkey'],\n",
    "    ['thing','ting'],\n",
    "    ['have', 'hab'],\n",
    "    ['live', 'lib'],\n",
    "    ['was', 'wus'],\n",
    "    ['folk', 'folks'],\n",
    "]\n",
    "token_map = {}\n",
    "for cur_token_set in token_sets:\n",
    "    first_token = cur_token_set[0]\n",
    "    for cur_other_token in cur_token_set[1:]:\n",
    "        token_map[cur_other_token] = first_token\n",
    "token_map"
   ],
   "metadata": {
    "collapsed": false,
    "pycharm": {
     "name": "#%%\n"
    }
   }
  },
  {
   "cell_type": "code",
   "execution_count": 5,
   "outputs": [],
   "source": [
    "stopwords_en = nltk.corpus.stopwords.words('english')\n",
    "stopwords_custom = [\n",
    "    # Alphabetical\n",
    "    'abc', 'ah', 'ai', 'around', 'atter', 'aw', 'can', 'come', 'dar', 'dat', 'day', 'de', \"dey\", 'em', 'er',\n",
    "    'every', 'fa', 'far',\n",
    "    'go', 'got', 'jes', 'know', 'move',\n",
    "    'n', 'none', 'nt',\n",
    "    'oh', 'old', 'ole', 'p', 'say', 'see', 'still', 'tell', 'th', 'time', 'try',\n",
    "    'us', 'uv', 'uz', 'w', \"war\", 'would', 'wuz', 'year', 'yo', 'yuh',\n",
    "    '$', '_',\n",
    "    # Unordered\n",
    "    'make', 'never', 'take', 'could', 'bout', 'live', 'en', 'wid', 'big', 'back',\n",
    "    'dem', 'give', 'place', 'ter', 'bear', 'get', 'like', 'little', 'do', 'use', 'long',\n",
    "    'well', 'den', 'two', 'dere', 'way', 'thing', 'much', 'put', 'ge', 'uh',\n",
    "    'call', 'git', 'run', 'keep', 'cause', 'think', 'remember', 'wus',\n",
    "    'look', 'away', 'let', 'yes', 'many', 'dis', 'till', 'ever', 'lot', 'first', 'sho',\n",
    "    'nothin', 'always', 'member', 'round', 'sometimes', 'not', 'fer', 'lak',\n",
    "    # months\n",
    "    'january', 'february', 'march', 'april', 'may', 'june', 'july', 'august', 'september',\n",
    "    'october', 'november', 'december',\n",
    "    # numbers\n",
    "    'one', 'two', 'three', 'four', 'five', 'six', 'seven', 'eight', 'nine', 'ten',\n",
    "    'eleven', 'twelve', 'thirteen', 'fourteen', 'fifteen', 'sixteen', 'seventeen',\n",
    "    'eighteen', 'nineteen', 'twenty',\n",
    "    'thirtysix', 'fifty', 'fiftyfive', 'eighty', 'eightytwo', 'eightyseven', 'ninety',\n",
    "    'once', 'twice', 'third', 'fourth', 'fifth', 'sixth', 'seventh', 'eighth', 'ninth', 'tenth',\n",
    "]\n",
    "stopwords_en_full = stopwords_en + stopwords_custom"
   ],
   "metadata": {
    "collapsed": false,
    "pycharm": {
     "name": "#%%\n"
    }
   }
  },
  {
   "cell_type": "code",
   "execution_count": 6,
   "outputs": [],
   "source": [
    "state_paths = glob.glob(\"../WPA_Online_Appendix/Narratives by State/*\")"
   ],
   "metadata": {
    "collapsed": false,
    "pycharm": {
     "name": "#%%\n"
    }
   }
  },
  {
   "cell_type": "code",
   "execution_count": 7,
   "outputs": [],
   "source": [
    "cur_path = state_paths[0]"
   ],
   "metadata": {
    "collapsed": false,
    "pycharm": {
     "name": "#%%\n"
    }
   }
  },
  {
   "cell_type": "code",
   "execution_count": 8,
   "outputs": [],
   "source": [
    "wpa_texts = []"
   ],
   "metadata": {
    "collapsed": false,
    "pycharm": {
     "name": "#%%\n"
    }
   }
  },
  {
   "cell_type": "code",
   "execution_count": 9,
   "outputs": [],
   "source": [
    "def load_text(fpath):\n",
    "    with open(fpath, 'r', encoding='utf-8') as infile:\n",
    "        text = infile.read()\n",
    "    return text"
   ],
   "metadata": {
    "collapsed": false,
    "pycharm": {
     "name": "#%%\n"
    }
   }
  },
  {
   "cell_type": "markdown",
   "source": [
    "### Loading"
   ],
   "metadata": {
    "collapsed": false,
    "pycharm": {
     "name": "#%% md\n"
    }
   }
  },
  {
   "cell_type": "code",
   "execution_count": 10,
   "outputs": [],
   "source": [
    "for cur_path in state_paths:\n",
    "    cur_state = os.path.basename(cur_path)\n",
    "    for cur_subdir in [\"Black\",\"Unidentified\",\"White\"]:\n",
    "        subdir_path = os.path.join(cur_path, cur_subdir)\n",
    "        subdir_fpaths = glob.glob(os.path.join(subdir_path, \"*\"))\n",
    "        for cur_subdir_fpath in subdir_fpaths:\n",
    "            file_data = {}\n",
    "            file_data['text_raw'] = load_text(cur_subdir_fpath)\n",
    "            file_data['fname'] = os.path.basename(cur_subdir_fpath)\n",
    "            file_data['race'] = cur_subdir\n",
    "            file_data['state'] = cur_state\n",
    "            wpa_texts.append(file_data)"
   ],
   "metadata": {
    "collapsed": false,
    "pycharm": {
     "name": "#%%\n"
    }
   }
  },
  {
   "cell_type": "code",
   "execution_count": 11,
   "outputs": [
    {
     "data": {
      "text/plain": "{'text_raw': '\"I was born in the Junction city community and belonged to the Cooks. I\\nwas ten years old at surrender. Mother and father had 12 children and we\\nlived in a one room log cabin and cooked on a fireplace and oven. Mos\\nand Miss Cook did not allow ma and pa to whip me. When ever I do\\nsomething and I knew I was going to get a whipping I would make it to\\nold Miss. She would keep me from getting that whipping. I was a devilish\\nboy. I would do everything in the world I could think of just for\\ndevilment. Old mos was sure good to his slaves. I never went to school\\na day in my life. Old Miss would carry me to church sometimes when it\\nwas hot so we could fan for her. We used palmeter fan leaves for fans.\\nWe ate pretty good in slavery time, but we did not have all of this late\\nstuff. Some of our dishes was possum stew, vegetables, persimmon pie and\\ntato bread. Ma did not allow us to sit around grown folks. When they\\nwere talking she always made us get under the bed. Our bed was made from\\npine poles. We children slept on pallets on the floor. The way slaves\\nmarried in slavery time they jumped over the broom and when they\\nseparated they jumped backward over the broom. Times were better in\\nslavery time to my notion than they are now because they did not go\\nhungry, neither necked. They ate common and wore one kind of clothes.\"\\n\\nA duck, a bullfrog and a skunk went to a circus, the duck and the\\nbullfrog got in, why didn\\'t the skunk get in?\\n\\n(Answer). The duck had a bill, the bullfrog had a greenback but the\\nskunk had nothing but a scent.\\n\\nIf your father\\'s sister is not your aunt what kin is she to you? (your\\nmother).\\n\\nWhat is the difference between a four quart measure and a side saddle?\\n(Answer). They both hold a gallon. (a gal on)\\n\\n',\n 'fname': 'Anderson 1.txt',\n 'race': 'Black',\n 'state': 'AR'}"
     },
     "execution_count": 11,
     "metadata": {},
     "output_type": "execute_result"
    }
   ],
   "source": [
    "wpa_texts[0]"
   ],
   "metadata": {
    "collapsed": false,
    "pycharm": {
     "name": "#%%\n"
    }
   }
  },
  {
   "cell_type": "code",
   "execution_count": 12,
   "outputs": [
    {
     "data": {
      "text/plain": "                                               text_raw            fname  \\\n0     \"I was born in the Junction city community and...   Anderson 1.txt   \n1     \"I was born in Alabama. My old mistress and ma...  Anderson 10.txt   \n2     \"O. C. Hardy is my name and I is 69 years old....  Anderson 11.txt   \n3     \"I was born in Farmerville, La., I don't know ...  Anderson 12.txt   \n4     \"I was born in Union Parish, Louisiana in the ...  Anderson 13.txt   \n...                                                 ...              ...   \n1669  One of the rooms in the Old Folks Home for Col...    Dunston 2.txt   \n1670  Mrs. Georgina Giwbs, an ex-slave, resides at 7...      Dunston.txt   \n1671  Mrs. Marriah Hines--Born July 4, 1835, South H...    Hoggard 1.txt   \n1672  History of Ex-slave and Civil War Veteran\\n\\nC...      Hoggard.txt   \n1673  Material from Upper Guinea.\\n\\nIn the upper pa...        Jayne.txt   \n\n       race state  \n0     Black    AR  \n1     Black    AR  \n2     Black    AR  \n3     Black    AR  \n4     Black    AR  \n...     ...   ...  \n1669  Black    VA  \n1670  Black    VA  \n1671  Black    VA  \n1672  Black    VA  \n1673  White    VA  \n\n[1674 rows x 4 columns]",
      "text/html": "<div>\n<style scoped>\n    .dataframe tbody tr th:only-of-type {\n        vertical-align: middle;\n    }\n\n    .dataframe tbody tr th {\n        vertical-align: top;\n    }\n\n    .dataframe thead th {\n        text-align: right;\n    }\n</style>\n<table border=\"1\" class=\"dataframe\">\n  <thead>\n    <tr style=\"text-align: right;\">\n      <th></th>\n      <th>text_raw</th>\n      <th>fname</th>\n      <th>race</th>\n      <th>state</th>\n    </tr>\n  </thead>\n  <tbody>\n    <tr>\n      <th>0</th>\n      <td>\"I was born in the Junction city community and...</td>\n      <td>Anderson 1.txt</td>\n      <td>Black</td>\n      <td>AR</td>\n    </tr>\n    <tr>\n      <th>1</th>\n      <td>\"I was born in Alabama. My old mistress and ma...</td>\n      <td>Anderson 10.txt</td>\n      <td>Black</td>\n      <td>AR</td>\n    </tr>\n    <tr>\n      <th>2</th>\n      <td>\"O. C. Hardy is my name and I is 69 years old....</td>\n      <td>Anderson 11.txt</td>\n      <td>Black</td>\n      <td>AR</td>\n    </tr>\n    <tr>\n      <th>3</th>\n      <td>\"I was born in Farmerville, La., I don't know ...</td>\n      <td>Anderson 12.txt</td>\n      <td>Black</td>\n      <td>AR</td>\n    </tr>\n    <tr>\n      <th>4</th>\n      <td>\"I was born in Union Parish, Louisiana in the ...</td>\n      <td>Anderson 13.txt</td>\n      <td>Black</td>\n      <td>AR</td>\n    </tr>\n    <tr>\n      <th>...</th>\n      <td>...</td>\n      <td>...</td>\n      <td>...</td>\n      <td>...</td>\n    </tr>\n    <tr>\n      <th>1669</th>\n      <td>One of the rooms in the Old Folks Home for Col...</td>\n      <td>Dunston 2.txt</td>\n      <td>Black</td>\n      <td>VA</td>\n    </tr>\n    <tr>\n      <th>1670</th>\n      <td>Mrs. Georgina Giwbs, an ex-slave, resides at 7...</td>\n      <td>Dunston.txt</td>\n      <td>Black</td>\n      <td>VA</td>\n    </tr>\n    <tr>\n      <th>1671</th>\n      <td>Mrs. Marriah Hines--Born July 4, 1835, South H...</td>\n      <td>Hoggard 1.txt</td>\n      <td>Black</td>\n      <td>VA</td>\n    </tr>\n    <tr>\n      <th>1672</th>\n      <td>History of Ex-slave and Civil War Veteran\\n\\nC...</td>\n      <td>Hoggard.txt</td>\n      <td>Black</td>\n      <td>VA</td>\n    </tr>\n    <tr>\n      <th>1673</th>\n      <td>Material from Upper Guinea.\\n\\nIn the upper pa...</td>\n      <td>Jayne.txt</td>\n      <td>White</td>\n      <td>VA</td>\n    </tr>\n  </tbody>\n</table>\n<p>1674 rows × 4 columns</p>\n</div>"
     },
     "execution_count": 12,
     "metadata": {},
     "output_type": "execute_result"
    }
   ],
   "source": [
    "wpa_df = pd.DataFrame(wpa_texts)\n",
    "wpa_df"
   ],
   "metadata": {
    "collapsed": false,
    "pycharm": {
     "name": "#%%\n"
    }
   }
  },
  {
   "cell_type": "markdown",
   "source": [
    "### Cleaning"
   ],
   "metadata": {
    "collapsed": false,
    "pycharm": {
     "name": "#%% md\n"
    }
   }
  },
  {
   "cell_type": "code",
   "execution_count": 13,
   "outputs": [],
   "source": [
    "from nltk import WordNetLemmatizer\n",
    "from multiprocessing import Pool\n",
    "\n",
    "wnl = WordNetLemmatizer()\n",
    "\n",
    "def lemmed(text, cores=4): # tweak cores as needed\n",
    "    with Pool(processes=cores) as pool:\n",
    "        wnl = WordNetLemmatizer()\n",
    "        result = pool.map(wnl.lemmatize, text)\n",
    "    return result"
   ],
   "metadata": {
    "collapsed": false,
    "pycharm": {
     "name": "#%%\n"
    }
   }
  },
  {
   "cell_type": "code",
   "execution_count": 14,
   "outputs": [],
   "source": [
    "punct_chars = \".,\\\"':!?;()“”’`&[]1234567890–§-—\"\n",
    "def remove_punct(token):\n",
    "    return \"\".join([t for t in token if t not in punct_chars])\n",
    "def clean_text(text):\n",
    "    all_sent_tokens = []\n",
    "    text_sents = nltk.sent_tokenize(text, \"english\")\n",
    "    for cur_sent in text_sents:\n",
    "        sent_tokens = nltk.word_tokenize(cur_sent, \"english\")\n",
    "        clean_tokens = [t.lower() for t in sent_tokens]\n",
    "        clean_tokens = [remove_punct(t) for t in clean_tokens]\n",
    "        clean_tokens = [t for t in clean_tokens if t not in stopwords_en_full]\n",
    "        clean_tokens = [t for t in clean_tokens if len(t) > 0]\n",
    "        clean_tokens = [(token_map[t] if t in token_map else t) for t in clean_tokens]\n",
    "        # Lastly, lemmatize using spacy\n",
    "        #clean_sent = \" \".join(clean_tokens)\n",
    "        #clean_doc = spacy_en(clean_sent)\n",
    "        #clean_lemmas = [cur_token.lemma_ for cur_token in clean_doc]\n",
    "        clean_lemmas = [wnl.lemmatize(t) for t in clean_tokens]\n",
    "        all_sent_tokens.append(clean_lemmas)\n",
    "    return all_sent_tokens"
   ],
   "metadata": {
    "collapsed": false,
    "pycharm": {
     "name": "#%%\n"
    }
   }
  },
  {
   "cell_type": "code",
   "execution_count": 15,
   "outputs": [
    {
     "name": "stderr",
     "output_type": "stream",
     "text": [
      "100%|██████████| 1674/1674 [00:18<00:00, 91.68it/s] \n"
     ]
    }
   ],
   "source": [
    "wpa_df['text'] = wpa_df['text_raw'].progress_apply(clean_text)"
   ],
   "metadata": {
    "collapsed": false,
    "pycharm": {
     "name": "#%%\n"
    }
   }
  },
  {
   "cell_type": "code",
   "execution_count": 16,
   "outputs": [
    {
     "data": {
      "text/plain": "[['born', 'junction', 'city', 'community', 'belonged', 'cook'],\n ['year', 'surrender'],\n ['mother',\n  'father',\n  'child',\n  'lived',\n  'room',\n  'log',\n  'cabin',\n  'cooked',\n  'fireplace',\n  'oven'],\n ['mo', 'miss', 'cook', 'allow', 'pa', 'whip'],\n ['something', 'knew', 'going', 'whipping', 'miss'],\n ['getting', 'whipping'],\n ['devilish', 'boy'],\n ['everything', 'world', 'devilment'],\n ['mo', 'sure', 'good', 'slave'],\n ['went', 'school', 'life'],\n ['miss', 'carry', 'church', 'hot', 'fan'],\n ['used', 'palmeter', 'fan', 'leaf', 'fan'],\n ['ate', 'pretty', 'good', 'slavery', 'late', 'stuff'],\n ['dish', 'possum', 'stew', 'vegetable', 'persimmon', 'pie', 'tato', 'bread'],\n ['allow', 'sit', 'grown', 'folk'],\n ['talking', 'made', 'bed'],\n ['bed', 'made', 'pine', 'pole'],\n ['child', 'slept', 'pallet', 'floor'],\n ['slave',\n  'married',\n  'slavery',\n  'jumped',\n  'broom',\n  'separated',\n  'jumped',\n  'backward',\n  'broom'],\n ['time', 'better', 'slavery', 'notion', 'hungry', 'neither', 'necked'],\n ['ate', 'common', 'wore', 'kind', 'clothes'],\n ['duck', 'bullfrog', 'skunk', 'went', 'circus', 'duck', 'bullfrog', 'skunk'],\n ['answer'],\n ['duck', 'bill', 'bullfrog', 'greenback', 'skunk', 'nothing', 'scent'],\n ['father', 'sister', 'aunt', 'kin'],\n ['mother'],\n ['difference', 'quart', 'measure', 'side', 'saddle'],\n ['answer'],\n ['hold', 'gallon'],\n ['gal']]"
     },
     "execution_count": 16,
     "metadata": {},
     "output_type": "execute_result"
    }
   ],
   "source": [
    "wpa_df.iloc[0]['text']"
   ],
   "metadata": {
    "collapsed": false,
    "pycharm": {
     "name": "#%%\n"
    }
   }
  },
  {
   "cell_type": "code",
   "execution_count": 17,
   "outputs": [],
   "source": [
    "wpa_df.to_pickle(\"wpa_text_df.pkl\")"
   ],
   "metadata": {
    "collapsed": false,
    "pycharm": {
     "name": "#%%\n"
    }
   }
  },
  {
   "cell_type": "markdown",
   "source": [
    "### (Start from here to skip cleaning)"
   ],
   "metadata": {
    "collapsed": false,
    "pycharm": {
     "name": "#%% md\n"
    }
   }
  },
  {
   "cell_type": "code",
   "execution_count": 18,
   "outputs": [],
   "source": [
    "wpa_df = pd.read_pickle(\"wpa_text_df.pkl\")"
   ],
   "metadata": {
    "collapsed": false,
    "pycharm": {
     "name": "#%%\n"
    }
   }
  },
  {
   "cell_type": "code",
   "execution_count": 19,
   "outputs": [
    {
     "data": {
      "text/plain": "                                               text_raw            fname  \\\n0     \"I was born in the Junction city community and...   Anderson 1.txt   \n1     \"I was born in Alabama. My old mistress and ma...  Anderson 10.txt   \n2     \"O. C. Hardy is my name and I is 69 years old....  Anderson 11.txt   \n3     \"I was born in Farmerville, La., I don't know ...  Anderson 12.txt   \n4     \"I was born in Union Parish, Louisiana in the ...  Anderson 13.txt   \n...                                                 ...              ...   \n1669  One of the rooms in the Old Folks Home for Col...    Dunston 2.txt   \n1670  Mrs. Georgina Giwbs, an ex-slave, resides at 7...      Dunston.txt   \n1671  Mrs. Marriah Hines--Born July 4, 1835, South H...    Hoggard 1.txt   \n1672  History of Ex-slave and Civil War Veteran\\n\\nC...      Hoggard.txt   \n1673  Material from Upper Guinea.\\n\\nIn the upper pa...        Jayne.txt   \n\n       race state                                               text  \n0     Black    AR  [[born, junction, city, community, belonged, c...  \n1     Black    AR  [[born, alabama], [mistress, master, told, bor...  \n2     Black    AR  [[c, hardy, name, year], [hw, lack], [kwf, rea...  \n3     Black    AR  [[born, farmerville, la], [year, surrender], [...  \n4     Black    AR  [[born, union, parish, louisiana, white, folk,...  \n...     ...   ...                                                ...  \n1669  Black    VA  [[room, folk, home, black, portsmouth, virgini...  \n1670  Black    VA  [[mr, georgina, giwbs, exslave, resides, linds...  \n1671  Black    VA  [[mr, marriah, hines, born, south, hampton, co...  \n1672  Black    VA  [[history, exslave, civil, veteran, charles, g...  \n1673  White    VA  [[material, upper, guinea], [upper, part, guin...  \n\n[1674 rows x 5 columns]",
      "text/html": "<div>\n<style scoped>\n    .dataframe tbody tr th:only-of-type {\n        vertical-align: middle;\n    }\n\n    .dataframe tbody tr th {\n        vertical-align: top;\n    }\n\n    .dataframe thead th {\n        text-align: right;\n    }\n</style>\n<table border=\"1\" class=\"dataframe\">\n  <thead>\n    <tr style=\"text-align: right;\">\n      <th></th>\n      <th>text_raw</th>\n      <th>fname</th>\n      <th>race</th>\n      <th>state</th>\n      <th>text</th>\n    </tr>\n  </thead>\n  <tbody>\n    <tr>\n      <th>0</th>\n      <td>\"I was born in the Junction city community and...</td>\n      <td>Anderson 1.txt</td>\n      <td>Black</td>\n      <td>AR</td>\n      <td>[[born, junction, city, community, belonged, c...</td>\n    </tr>\n    <tr>\n      <th>1</th>\n      <td>\"I was born in Alabama. My old mistress and ma...</td>\n      <td>Anderson 10.txt</td>\n      <td>Black</td>\n      <td>AR</td>\n      <td>[[born, alabama], [mistress, master, told, bor...</td>\n    </tr>\n    <tr>\n      <th>2</th>\n      <td>\"O. C. Hardy is my name and I is 69 years old....</td>\n      <td>Anderson 11.txt</td>\n      <td>Black</td>\n      <td>AR</td>\n      <td>[[c, hardy, name, year], [hw, lack], [kwf, rea...</td>\n    </tr>\n    <tr>\n      <th>3</th>\n      <td>\"I was born in Farmerville, La., I don't know ...</td>\n      <td>Anderson 12.txt</td>\n      <td>Black</td>\n      <td>AR</td>\n      <td>[[born, farmerville, la], [year, surrender], [...</td>\n    </tr>\n    <tr>\n      <th>4</th>\n      <td>\"I was born in Union Parish, Louisiana in the ...</td>\n      <td>Anderson 13.txt</td>\n      <td>Black</td>\n      <td>AR</td>\n      <td>[[born, union, parish, louisiana, white, folk,...</td>\n    </tr>\n    <tr>\n      <th>...</th>\n      <td>...</td>\n      <td>...</td>\n      <td>...</td>\n      <td>...</td>\n      <td>...</td>\n    </tr>\n    <tr>\n      <th>1669</th>\n      <td>One of the rooms in the Old Folks Home for Col...</td>\n      <td>Dunston 2.txt</td>\n      <td>Black</td>\n      <td>VA</td>\n      <td>[[room, folk, home, black, portsmouth, virgini...</td>\n    </tr>\n    <tr>\n      <th>1670</th>\n      <td>Mrs. Georgina Giwbs, an ex-slave, resides at 7...</td>\n      <td>Dunston.txt</td>\n      <td>Black</td>\n      <td>VA</td>\n      <td>[[mr, georgina, giwbs, exslave, resides, linds...</td>\n    </tr>\n    <tr>\n      <th>1671</th>\n      <td>Mrs. Marriah Hines--Born July 4, 1835, South H...</td>\n      <td>Hoggard 1.txt</td>\n      <td>Black</td>\n      <td>VA</td>\n      <td>[[mr, marriah, hines, born, south, hampton, co...</td>\n    </tr>\n    <tr>\n      <th>1672</th>\n      <td>History of Ex-slave and Civil War Veteran\\n\\nC...</td>\n      <td>Hoggard.txt</td>\n      <td>Black</td>\n      <td>VA</td>\n      <td>[[history, exslave, civil, veteran, charles, g...</td>\n    </tr>\n    <tr>\n      <th>1673</th>\n      <td>Material from Upper Guinea.\\n\\nIn the upper pa...</td>\n      <td>Jayne.txt</td>\n      <td>White</td>\n      <td>VA</td>\n      <td>[[material, upper, guinea], [upper, part, guin...</td>\n    </tr>\n  </tbody>\n</table>\n<p>1674 rows × 5 columns</p>\n</div>"
     },
     "execution_count": 19,
     "metadata": {},
     "output_type": "execute_result"
    }
   ],
   "source": [
    "wpa_df"
   ],
   "metadata": {
    "collapsed": false,
    "pycharm": {
     "name": "#%%\n"
    }
   }
  },
  {
   "cell_type": "code",
   "execution_count": 20,
   "outputs": [],
   "source": [
    "# Cluster genders\n",
    "gend_male = [\n",
    "    'man',\n",
    "    'boy',\n",
    "    'father',\n",
    "    'son',\n",
    "    'husband',\n",
    "    'grandson',\n",
    "    'pa', 'papa', 'pappy',\n",
    "    'brothers',\n",
    "    'brother',\n",
    "    'grandpa',\n",
    "    'grandfather',\n",
    "    'soninlaw',\n",
    "    'stepfather',\n",
    "    'gentleman',\n",
    "    'mr', 'mister',\n",
    "    'uncle',\n",
    "]\n",
    "gen_male_ext = [\n",
    "    'roger', 'alfred', 'randall', 'billy', 'jake', 'nicholas', 'jim',\n",
    "    'col', 'colonel', 'daddy',\n",
    "]\n",
    "gend_female = [\n",
    "    'woman',\n",
    "    'miss',\n",
    "    'girl',\n",
    "    'wife',\n",
    "    'mother',\n",
    "    'mammy',\n",
    "    'daughter',\n",
    "    'sisters',\n",
    "    'sister',\n",
    "    'grandma',\n",
    "    'grandmother',\n",
    "    'missus',\n",
    "    'granddaughter',\n",
    "    'mistress', 'mistess',\n",
    "    'maam', 'ms', 'mrs',\n",
    "    'aunt',\n",
    "    'mama',\n",
    "    'gal',\n",
    "]\n",
    "gen_female_ext = [\n",
    "    'ann', 'lucy', 'nellie', 'maggie', 'elizabeth', 'mary', 'mamie', 'marse',\n",
    "]\n",
    "map_gend = {token: 'man' for token in gend_male}\n",
    "map_gend.update({token: 'woman' for token in gend_female})"
   ],
   "metadata": {
    "collapsed": false,
    "pycharm": {
     "name": "#%%\n"
    }
   }
  },
  {
   "cell_type": "code",
   "execution_count": 21,
   "outputs": [],
   "source": [
    "def get_mapped_token(word, replacement_map):\n",
    "    return replacement_map[word] if word in replacement_map else word\n",
    "\n",
    "def replace_word_tokens(word_tokens, replacement_map):\n",
    "    return [get_mapped_token(w, replacement_map) for w in word_tokens]\n",
    "\n",
    "def remove_word_tokens(word_tokens, remove_list):\n",
    "    return [w for w in word_tokens if w not in remove_list]\n",
    "\n",
    "def replace_sent_tokens(orig_sent_tokens, replacement_map):\n",
    "    new_sent_tokens = [replace_word_tokens(sent, replacement_map) for sent in orig_sent_tokens]\n",
    "    return new_sent_tokens\n",
    "\n",
    "def remove_sent_tokens(orig_sent_tokens, remove_list):\n",
    "    new_sent_tokens = [remove_word_tokens(sent, remove_list) for sent in orig_sent_tokens]\n",
    "    # Remove empty sents\n",
    "    new_sent_tokens = [t for t in new_sent_tokens if len(t) > 0]\n",
    "    return new_sent_tokens\n"
   ],
   "metadata": {
    "collapsed": false,
    "pycharm": {
     "name": "#%%\n"
    }
   }
  },
  {
   "cell_type": "markdown",
   "source": [
    "## Here we make a version where the gendered words are pre-clustered"
   ],
   "metadata": {
    "collapsed": false,
    "pycharm": {
     "name": "#%% md\n"
    }
   }
  },
  {
   "cell_type": "code",
   "execution_count": 22,
   "outputs": [],
   "source": [
    "corpus_sent_tokens = []\n",
    "corpus_sent_tokens_gend = []\n",
    "for row_index, row in wpa_df.iterrows():\n",
    "    cur_sent_tokens = row['text']\n",
    "    #print(cur_sent_tokens[:5])\n",
    "    # Gender map\n",
    "    cur_sent_tokens_gend = replace_sent_tokens(cur_sent_tokens, map_gend)\n",
    "    #print(cur_sent_tokens[:5])\n",
    "    #break\n",
    "    corpus_sent_tokens.extend(cur_sent_tokens)\n",
    "    corpus_sent_tokens_gend.extend(cur_sent_tokens_gend)"
   ],
   "metadata": {
    "collapsed": false,
    "pycharm": {
     "name": "#%%\n"
    }
   }
  },
  {
   "cell_type": "code",
   "execution_count": 23,
   "outputs": [],
   "source": [
    "# For the sake of getting individual token counts, we combine into a giant list here\n",
    "# (But this is just for sanity-checking)\n",
    "def combine_sent_tokens(sent_tokens):\n",
    "    tokens_combined = []\n",
    "    for cur_sent_tokens in sent_tokens:\n",
    "        tokens_combined.extend(cur_sent_tokens)\n",
    "    return tokens_combined\n",
    "all_tokens = combine_sent_tokens(corpus_sent_tokens)"
   ],
   "metadata": {
    "collapsed": false,
    "pycharm": {
     "name": "#%%\n"
    }
   }
  },
  {
   "cell_type": "code",
   "execution_count": 24,
   "outputs": [
    {
     "data": {
      "text/plain": "[('master', 8273),\n ('black', 7187),\n ('slave', 6358),\n ('white', 5642),\n ('man', 5364),\n ('house', 5156),\n ('folk', 4888),\n ('good', 4863),\n ('child', 4800),\n ('went', 4364),\n ('mother', 4252),\n ('year', 3723),\n ('said', 3697),\n ('work', 3395),\n ('mr', 3155),\n ('made', 3016),\n ('right', 2852),\n ('father', 2831),\n ('plantation', 2736),\n ('people', 2673),\n ('done', 2635),\n ('name', 2484),\n ('used', 2351),\n ('home', 2342),\n ('married', 2228),\n ('born', 2207),\n ('miss', 2179),\n ('night', 2120),\n ('told', 2111),\n ('yankee', 1999),\n ('took', 1989),\n ('died', 1971),\n ('day', 1964),\n ('church', 1936),\n ('lived', 1907),\n ('woman', 1901),\n ('boy', 1862),\n ('young', 1858),\n ('time', 1800),\n ('free', 1666),\n ('county', 1638),\n ('eat', 1583),\n ('slavery', 1497),\n ('life', 1490),\n ('field', 1484),\n ('freedom', 1469),\n ('money', 1458),\n ('sold', 1452),\n ('heard', 1429),\n ('called', 1418),\n ('came', 1413),\n ('thing', 1402),\n ('worked', 1394),\n ('family', 1376),\n ('wife', 1351),\n ('want', 1348),\n ('mammy', 1321),\n ('stayed', 1303),\n ('cotton', 1275),\n ('hand', 1256),\n ('wanted', 1251),\n ('left', 1245),\n ('school', 1222),\n ('named', 1193),\n ('hard', 1125),\n ('clothes', 1112),\n ('mistress', 1085),\n ('girl', 1085),\n ('john', 1070),\n ('plenty', 1060),\n ('bed', 1045),\n ('horse', 1043),\n ('another', 1040),\n ('corn', 1039),\n ('wood', 1032),\n ('stay', 1028),\n ('brother', 1020),\n ('gwine', 1000),\n ('farm', 997),\n ('better', 986),\n ('seen', 970),\n ('sister', 962),\n ('uncle', 961),\n ('set', 951),\n ('water', 948),\n ('jus', 942),\n ('hear', 942),\n ('side', 941),\n ('head', 926),\n ('hit', 923),\n ('bad', 920),\n ('dead', 913),\n ('cook', 910),\n ('ca', 887),\n ('since', 885),\n ('soldier', 873),\n ('anything', 872),\n ('overseer', 872),\n ('seed', 859),\n ('kept', 857),\n ('enough', 857),\n ('near', 854),\n ('baby', 854),\n ('raised', 852),\n ('mile', 852),\n ('sunday', 845),\n ('husband', 845),\n ('kind', 839),\n ('son', 833),\n ('yard', 821),\n ('town', 818),\n ('meat', 790),\n ('knowed', 779),\n ('whip', 776),\n ('gone', 775),\n ('talk', 767),\n ('age', 766),\n ('doctor', 766),\n ('fore', 762),\n ('saw', 759),\n ('bought', 757),\n ('room', 753),\n ('goin', 751),\n ('read', 745),\n ('thought', 743),\n ('help', 743),\n ('pa', 733),\n ('lord', 729),\n ('arkansas', 723),\n ('going', 719),\n ('cut', 717),\n ('shoe', 715),\n ('tree', 714),\n ('foot', 710),\n ('cabin', 705),\n ('living', 704),\n ('daughter', 698),\n ('sick', 692),\n ('mean', 691),\n ('missus', 686),\n ('road', 685),\n ('next', 684),\n ('along', 682),\n ('land', 672),\n ('started', 671),\n ('nobody', 671),\n ('aunt', 670),\n ('together', 669),\n ('mighty', 665),\n ('mama', 662),\n ('lot', 660),\n ('pretty', 658),\n ('brought', 658),\n ('river', 658),\n ('owner', 654),\n ('week', 652),\n ('last', 649),\n ('owned', 648),\n ('heap', 646),\n ('beat', 645),\n ('small', 642),\n ('ago', 635),\n ('dr', 634),\n ('new', 632),\n ('god', 630),\n ('nothing', 629),\n ('month', 624),\n ('dese', 620),\n ('ku', 617),\n ('say', 616),\n ('north', 615),\n ('great', 614),\n ('street', 614),\n ('fine', 613),\n ('preacher', 613),\n ('care', 609),\n ('fire', 604),\n ('belonged', 600),\n ('soon', 600),\n ('south', 596),\n ('mississippi', 589),\n ('sent', 584),\n ('death', 579),\n ('klux', 577),\n ('dress', 576),\n ('wore', 572),\n ('moved', 572),\n ('whipped', 571),\n ('found', 569),\n ('log', 568),\n ('asked', 568),\n ('daddy', 566),\n ('door', 565),\n ('looked', 565),\n ('killed', 564),\n ('country', 557),\n ('everything', 556),\n ('cow', 552),\n ('hog', 548),\n ('pas', 548),\n ('hundred', 543),\n ('food', 542),\n ('cooked', 541),\n ('whar', 539),\n ('pay', 537),\n ('til', 535),\n ('tom', 534),\n ('find', 530),\n ('ise', 526),\n ('bread', 523),\n ('mule', 520),\n ('best', 519),\n ('part', 518),\n ('morning', 517),\n ('even', 515),\n ('something', 514),\n ('close', 514),\n ('dog', 514),\n ('mind', 511),\n ('mary', 511),\n ('gal', 510),\n ('george', 509),\n ('marry', 509),\n ('sell', 506),\n ('leave', 505),\n ('chicken', 500),\n ('large', 499),\n ('ground', 498),\n ('deir', 498),\n ('carolina', 497),\n ('bos', 497),\n ('know', 494),\n ('lady', 492),\n ('henry', 492),\n ('gave', 492),\n ('sure', 490),\n ('jim', 489),\n ('grown', 487),\n ('carried', 486),\n ('given', 486),\n ('georgia', 484),\n ('parent', 482),\n ('pappy', 482),\n ('write', 477),\n ('piece', 477),\n ('else', 472),\n ('buy', 468),\n ('whole', 462),\n ('acre', 453),\n ('song', 451),\n ('high', 450),\n ('half', 447),\n ('scared', 444),\n ('state', 444),\n ('quarter', 440),\n ('dollar', 439),\n ('wagon', 438),\n ('livin', 437),\n ('red', 436),\n ('sing', 435),\n ('full', 434),\n ('able', 427),\n ('carry', 426),\n ('virginia', 426),\n ('spring', 425),\n ('eye', 423),\n ('davis', 423),\n ('maam', 423),\n ('learned', 422),\n ('believe', 421),\n ('cloth', 419),\n ('wuk', 418),\n ('wear', 416),\n ('several', 416),\n ('caught', 415),\n ('course', 414),\n ('kin', 413),\n ('honey', 413),\n ('mi', 410),\n ('comin', 409),\n ('pot', 409),\n ('front', 409),\n ('somebody', 408),\n ('light', 406),\n ('dance', 405),\n ('grandma', 405),\n ('papa', 404),\n ('end', 403),\n ('joe', 402),\n ('rock', 401),\n ('chilluns', 399),\n ('kill', 397),\n ('story', 397),\n ('winter', 396),\n ('member', 395),\n ('knew', 392),\n ('stick', 392),\n ('lincoln', 392),\n ('die', 392),\n ('crop', 388),\n ('also', 388),\n ('mam', 388),\n ('everybody', 387),\n ('turn', 385),\n ('walk', 383),\n ('word', 383),\n ('fust', 383),\n ('boat', 383),\n ('hot', 380),\n ('trouble', 379),\n ('kitchen', 378),\n ('love', 377),\n ('hair', 376),\n ('low', 375),\n ('folks', 375),\n ('built', 374),\n ('clean', 372),\n ('book', 371),\n ('pick', 370),\n ('grandmother', 370),\n ('broke', 369),\n ('gun', 369),\n ('raise', 369),\n ('dinner', 368),\n ('often', 368),\n ('play', 367),\n ('later', 367),\n ('though', 366),\n ('christmas', 366),\n ('vote', 366),\n ('blue', 365),\n ('taken', 365),\n ('allowed', 365),\n ('mo', 363),\n ('meal', 362),\n ('hill', 361),\n ('have', 361),\n ('job', 360),\n ('glad', 360),\n ('milk', 358),\n ('ho', 358),\n ('ran', 357),\n ('civil', 354),\n ('garden', 353),\n ('dan', 353),\n ('indian', 353),\n ('mornin', 351),\n ('table', 350),\n ('rest', 350),\n ('tried', 348),\n ('show', 348),\n ('paid', 346),\n ('floor', 344),\n ('hold', 344),\n ('tole', 344),\n ('bring', 344),\n ('world', 343),\n ('without', 342),\n ('surrender', 341),\n ('poor', 341),\n ('played', 339),\n ('army', 339),\n ('others', 339),\n ('sleep', 338),\n ('et', 337),\n ('face', 337),\n ('working', 336),\n ('befo', 335),\n ('hide', 334),\n ('might', 333),\n ('blood', 332),\n ('buried', 332),\n ('ask', 330),\n ('friend', 330),\n ('block', 329),\n ('allus', 329),\n ('green', 328),\n ('nice', 328),\n ('reckon', 326),\n ('dark', 326),\n ('cold', 325),\n ('treated', 325),\n ('nearly', 323),\n ('hw', 322),\n ('aint', 322),\n ('coming', 321),\n ('somethin', 321),\n ('stand', 321),\n ('oman', 321),\n ('need', 319),\n ('tennessee', 318),\n ('shirt', 318),\n ('body', 317),\n ('cept', 313),\n ('one', 312),\n ('today', 310),\n ('bible', 309),\n ('general', 309),\n ('different', 307),\n ('stop', 307),\n ('wash', 307),\n ('bill', 306),\n ('remembers', 304),\n ('fo', 303),\n ('sam', 303),\n ('stock', 303),\n ('brown', 302),\n ('must', 302),\n ('person', 301),\n ('top', 301),\n ('open', 301),\n ('drink', 299),\n ('across', 297),\n ('texas', 297),\n ('sir', 297),\n ('smith', 296),\n ('darky', 295),\n ('cake', 295),\n ('mah', 295),\n ('ready', 293),\n ('farmed', 292),\n ('city', 291),\n ('place', 291),\n ('turned', 290),\n ('saturday', 290),\n ('anybody', 288),\n ('second', 288),\n ('wo', 287),\n ('lawd', 286),\n ('william', 286),\n ('taught', 285),\n ('hole', 285),\n ('lay', 285),\n ('possum', 284),\n ('mill', 284),\n ('start', 284),\n ('neither', 283),\n ('shot', 283),\n ('git', 283),\n ('mar', 282),\n ('real', 281),\n ('catch', 280),\n ('paper', 280),\n ('williams', 280),\n ('leg', 279),\n ('creek', 278),\n ('fast', 277),\n ('happy', 277),\n ('roun', 276),\n ('im', 276),\n ('iron', 275),\n ('didnt', 275),\n ('pension', 275),\n ('freed', 274),\n ('jest', 274),\n ('union', 273),\n ('learn', 272),\n ('belong', 272),\n ('case', 272),\n ('whut', 271),\n ('fight', 271),\n ('early', 271),\n ('sign', 271),\n ('behind', 270),\n ('alabama', 269),\n ('pine', 268),\n ('drove', 267),\n ('store', 266),\n ('fell', 265),\n ('voted', 264),\n ('fed', 263),\n ('send', 262),\n ('come', 260),\n ('race', 259),\n ('hired', 259),\n ('older', 259),\n ('hid', 259),\n ('step', 258),\n ('fish', 258),\n ('fall', 258),\n ('ought', 257),\n ('helped', 257),\n ('cross', 255),\n ('rich', 255),\n ('reason', 253),\n ('feed', 253),\n ('cry', 253),\n ('jail', 252),\n ('tuk', 252),\n ('fence', 251),\n ('oldest', 251),\n ('teacher', 251),\n ('sort', 251),\n ('ax', 250),\n ('known', 250),\n ('go', 249),\n ('wheat', 248),\n ('fur', 247),\n ('summer', 246),\n ('line', 246),\n ('hurt', 246),\n ('stopped', 245),\n ('guess', 244),\n ('finally', 244),\n ('chile', 243),\n ('business', 243),\n ('chair', 243),\n ('quit', 241),\n ('nough', 241),\n ('baptist', 241),\n ('ben', 241),\n ('ash', 240),\n ('railroad', 240),\n ('began', 238),\n ('supper', 238),\n ('jones', 237),\n ('train', 234),\n ('generation', 234),\n ('arm', 233),\n ('jack', 233),\n ('ride', 232),\n ('tied', 232),\n ('porch', 231),\n ('sun', 231),\n ('washington', 231),\n ('grandfather', 230),\n ('tea', 229),\n ('yet', 229),\n ('oclock', 228),\n ('fireplace', 227),\n ('dont', 227),\n ('present', 227),\n ('doin', 226),\n ('mostly', 226),\n ('held', 225),\n ('lost', 224),\n ('maybe', 224),\n ('service', 223),\n ('rabbit', 223),\n ('mistess', 222),\n ('sweet', 221),\n ('lowed', 221),\n ('pray', 219),\n ('wait', 219),\n ('pea', 218),\n ('tall', 217),\n ('salt', 217),\n ('rode', 216),\n ('straight', 216),\n ('tell', 215),\n ('box', 214),\n ('kentucky', 214),\n ('potato', 213),\n ('sometime', 213),\n ('smart', 213),\n ('whipping', 210),\n ('steal', 210),\n ('picked', 210),\n ('mad', 210),\n ('captain', 210),\n ('wild', 210),\n ('jeff', 209),\n ('sight', 208),\n ('loved', 208),\n ('needed', 208),\n ('among', 208),\n ('rice', 208),\n ('nigh', 208),\n ('washed', 207),\n ('jane', 207),\n ('recollect', 206),\n ('whiskey', 206),\n ('almost', 206),\n ('raleigh', 206),\n ('neck', 205),\n ('thomas', 205),\n ('bit', 205),\n ('walked', 205),\n ('runnin', 204),\n ('sich', 204),\n ('battle', 204),\n ('visit', 203),\n ('awful', 203),\n ('number', 203),\n ('burn', 203),\n ('stole', 202),\n ('gittin', 202),\n ('chance', 201),\n ('became', 201),\n ('ration', 201),\n ('corner', 200),\n ('colonel', 200),\n ('feel', 199),\n ('mouth', 199),\n ('bottom', 199),\n ('teach', 199),\n ('mine', 199),\n ('seem', 198),\n ('president', 198),\n ('whupped', 198),\n ('loose', 197),\n ('servant', 197),\n ('slept', 196),\n ('lookin', 196),\n ('lef', 195),\n ('tellin', 195),\n ('younger', 195),\n ('robert', 195),\n ('hour', 194),\n ('seems', 194),\n ('wen', 194),\n ('short', 193),\n ('johnson', 193),\n ('oak', 193),\n ('getting', 192),\n ('pound', 192),\n ('cooking', 192),\n ('tuh', 192),\n ('law', 192),\n ('meetin', 192),\n ('stood', 192),\n ('upon', 192),\n ('nurse', 191),\n ('widout', 191),\n ('ol', 191),\n ('ob', 191),\n ('bob', 190),\n ('patch', 190),\n ('happened', 190),\n ('board', 190),\n ('color', 190),\n ('game', 189),\n ('wooden', 189),\n ('met', 188),\n ('workin', 188),\n ('tr', 187),\n ('passed', 187),\n ('fellow', 187),\n ('crowd', 187),\n ('plow', 186),\n ('sot', 186),\n ('neighbor', 186),\n ('make', 185),\n ('coffee', 185),\n ('cried', 185),\n ('looking', 185),\n ('driver', 185),\n ('barn', 185),\n ('st', 185),\n ('men', 185),\n ('liked', 184),\n ('except', 184),\n ('heavy', 184),\n ('sit', 183),\n ('speak', 183),\n ('ghost', 183),\n ('strong', 182),\n ('cent', 182),\n ('willis', 182),\n ('abraham', 182),\n ('meeting', 181),\n ('dirt', 181),\n ('sugar', 180),\n ('medicine', 180),\n ('patroller', 180),\n ('root', 180),\n ('grandpa', 180),\n ('silver', 180),\n ('jackson', 180),\n ('warm', 179),\n ('laid', 179),\n ('forty', 178),\n ('nuthin', 178),\n ('burned', 178),\n ('wrong', 178),\n ('afraid', 178),\n ('share', 178),\n ('nancy', 178),\n ('james', 178),\n ('settin', 177),\n ('talkin', 177),\n ('bell', 177),\n ('flour', 177),\n ('marriage', 177),\n ('carriage', 177),\n ('hat', 176),\n ('hunt', 176),\n ('billy', 176),\n ('exslave', 175),\n ('prayer', 175),\n ('heart', 175),\n ('frum', 175),\n ('louisiana', 174),\n ('camp', 174),\n ('usually', 174),\n ('seemed', 173),\n ('borned', 173),\n ('le', 172),\n ('ed', 172),\n ('making', 171),\n ('wish', 171),\n ('truth', 171),\n ('weather', 171),\n ('gate', 170),\n ('devil', 170),\n ('late', 169),\n ('hardly', 169),\n ('gin', 169),\n ('lee', 169),\n ('durin', 169),\n ('straw', 169),\n ('quite', 169),\n ('row', 169),\n ('matter', 169),\n ('company', 169),\n ('office', 169),\n ('ketch', 169),\n ('talked', 169),\n ('weddin', 169),\n ('fly', 168),\n ('barrel', 168),\n ('wall', 167),\n ('candy', 167),\n ('peace', 167),\n ('nex', 166),\n ('lizzie', 166),\n ('holler', 165),\n ('saved', 165),\n ('certain', 165),\n ('fix', 164),\n ('bother', 164),\n ('declared', 164),\n ('doan', 164),\n ('leaf', 163),\n ('pull', 163),\n ('post', 163),\n ('ate', 162),\n ('southern', 162),\n ('pulled', 162),\n ('jump', 162),\n ('change', 162),\n ('turkey', 162),\n ('save', 162),\n ('breakfast', 162),\n ('look', 162),\n ('judge', 162),\n ('hung', 161),\n ('get', 161),\n ('graveyard', 161),\n ('plain', 160),\n ('fum', 160),\n ('shoulder', 160),\n ('skeered', 159),\n ('fixed', 159),\n ('fact', 159),\n ('dressed', 159),\n ('sheep', 159),\n ('biscuit', 159),\n ('whippin', 159),\n ('confederate', 159),\n ('government', 159),\n ('hoe', 158),\n ('sack', 158),\n ('peter', 158),\n ('um', 157),\n ('property', 157),\n ('dat', 157),\n ('yer', 157),\n ('felt', 157),\n ('way', 157),\n ('methodist', 157),\n ('wake', 157),\n ('price', 157),\n ('talking', 156),\n ('count', 156),\n ('pair', 156),\n ('ball', 156),\n ('bark', 156),\n ('smoke', 156),\n ('tie', 156),\n ('joined', 156),\n ('meet', 156),\n ('question', 156),\n ('neber', 156),\n ('ended', 155),\n ('c', 154),\n ('yonder', 154),\n ('tobacco', 154),\n ('window', 154),\n ('bluff', 154),\n ('gettin', 154),\n ('frank', 154),\n ('thread', 153),\n ('cookin', 153),\n ('shoot', 153),\n ('bein', 153),\n ('han', 153),\n ('slip', 153),\n ('ann', 153),\n ('forgot', 153),\n ('lucy', 153),\n ('drunk', 152),\n ('memphis', 152),\n ('whenever', 152),\n ('pig', 152),\n ('hall', 152),\n ('however', 152),\n ('rail', 151),\n ('order', 151),\n ('lie', 151),\n ('apple', 151),\n ('education', 150),\n ('finger', 150),\n ('outside', 150),\n ('singin', 150),\n ('recall', 150),\n ('florida', 150),\n ('belief', 150),\n ('either', 149),\n ('luck', 149),\n ('west', 149),\n ('party', 148),\n ('whup', 148),\n ('served', 148),\n ('drive', 148),\n ('section', 148),\n ('stuff', 147),\n ('homemade', 147),\n ('fat', 147),\n ('tail', 147),\n ('charlie', 147),\n ('grave', 147),\n ('laugh', 147),\n ('although', 147),\n ('quilt', 146),\n ('bank', 146),\n ('sense', 146),\n ('cane', 146),\n ('fightin', 145),\n ('sarah', 145),\n ('missy', 145),\n ('loom', 144),\n ('whether', 144),\n ('throw', 144),\n ('bright', 144),\n ('columbia', 144),\n ('bucket', 143),\n ('moore', 143),\n ('spirit', 143),\n ('rain', 143),\n ('thousand', 142),\n ('tired', 142),\n ('allow', 141),\n ('plant', 141),\n ('thirty', 141),\n ('sat', 141),\n ('building', 141),\n ('memory', 141),\n ('horn', 141),\n ('cum', 141),\n ('brush', 140),\n ('fiel', 140),\n ('chimney', 140),\n ('proud', 140),\n ('trying', 140),\n ('shop', 140),\n ('evvy', 140),\n ('vegetable', 139),\n ('meant', 139),\n ('voice', 139),\n ('sung', 139),\n ('evening', 138),\n ('knee', 138),\n ('watch', 138),\n ('regular', 138),\n ('hope', 138),\n ('bird', 137),\n ('wheel', 137),\n ('coffin', 137),\n ('following', 137),\n ('somewhere', 137),\n ('inside', 137),\n ('farmer', 137),\n ('pile', 137),\n ('gray', 136),\n ('task', 136),\n ('manner', 136),\n ('*', 136),\n ('fannie', 136),\n ('cattle', 135),\n ('covered', 135),\n ('tryin', 135),\n ('skin', 135),\n ('clear', 135),\n ('build', 135),\n ('broom', 134),\n ('whoop', 134),\n ('fit', 134),\n ('fever', 134),\n ('stone', 134),\n ('betty', 134),\n ('tater', 134),\n ('egg', 133),\n ('wove', 133),\n ('rough', 133),\n ('shuck', 133),\n ('true', 133),\n ('plank', 133),\n ('finished', 133),\n ('rather', 133),\n ('running', 133),\n ('alone', 133),\n ('basket', 133),\n ('longer', 132),\n ('followed', 132),\n ('sound', 132),\n ('minute', 132),\n ('ticket', 132),\n ('butter', 131),\n ('awhile', 131),\n ('wha', 131),\n ('bothered', 131),\n ('think', 131),\n ('somepin', 131),\n ('jist', 131),\n ('coat', 130),\n ('agin', 130),\n ('cat', 130),\n ('bone', 130),\n ('point', 130),\n ('placed', 130),\n ('molasses', 129),\n ('snake', 129),\n ('trip', 129),\n ('track', 129),\n ('worry', 129),\n ('past', 129),\n ('coal', 129),\n ('taking', 129),\n ('sale', 129),\n ('charles', 129),\n ('ear', 129),\n ('bless', 129),\n ('buggy', 128),\n ('mud', 128),\n ('martha', 128),\n ('blacksmith', 128),\n ('fun', 128),\n ('anyhow', 128),\n ('brick', 128),\n ('string', 128),\n ('hang', 128),\n ('sherman', 128),\n ('charleston', 128),\n ('take', 128),\n ('smokehouse', 127),\n ('seat', 127),\n ('rope', 126),\n ('suit', 126),\n ('funeral', 126),\n ('iffen', 126),\n ('growed', 125),\n ('jumped', 124),\n ('easy', 124),\n ('cruel', 124),\n ('republican', 124),\n ('continued', 124),\n ('tote', 123),\n ('sallie', 123),\n ('chain', 123),\n ('spell', 123),\n ('changed', 123),\n ('religion', 123),\n ('onliest', 123),\n ('mistis', 123),\n ('pole', 122),\n ('ox', 122),\n ('knock', 122),\n ('be', 122),\n ('condition', 122),\n ('hound', 122),\n ('really', 122),\n ('atlanta', 122),\n ('break', 122),\n ('blind', 122),\n ('wedding', 122),\n ('received', 122),\n ('mattress', 122),\n ('settled', 121),\n ('lan', 121),\n ('jined', 121),\n ('lewis', 121),\n ('hotel', 121),\n ('blow', 121),\n ('e', 121),\n ('rent', 121),\n ('afternoon', 121),\n ('brung', 121),\n ('spin', 120),\n ('pant', 120),\n ...]"
     },
     "execution_count": 24,
     "metadata": {},
     "output_type": "execute_result"
    }
   ],
   "source": [
    "def get_token_counts(tokens):\n",
    "    clean_tokens_count = Counter(tokens)\n",
    "    counts_sorted = sorted(clean_tokens_count.items(), key=lambda x: x[1], reverse=True)\n",
    "    return counts_sorted\n",
    "tcounts = get_token_counts(all_tokens)\n",
    "tcounts"
   ],
   "metadata": {
    "collapsed": false,
    "pycharm": {
     "name": "#%%\n"
    }
   }
  },
  {
   "cell_type": "code",
   "execution_count": 25,
   "outputs": [],
   "source": [
    "# # 300-dim, window=21\n",
    "# wpa_model_highwin = Word2Vec(\n",
    "#     sentences=corpus_sent_tokens, vector_size=300,\n",
    "#     window=global_window_high,\n",
    "#     min_count=global_min_count, workers=8,\n",
    "#     epochs=global_epochs, seed=global_seed\n",
    "# )\n",
    "# wpa_model_highwin.save(\"w2v_wpa_highwin.model\")\n",
    "# 300-dim, window=9\n",
    "wpa_model_lowwin = Word2Vec(\n",
    "    sentences=corpus_sent_tokens, vector_size=300,\n",
    "    window=global_window_low,\n",
    "    min_count=global_min_count, workers=8,\n",
    "    epochs=global_epochs, seed=global_seed\n",
    ")\n",
    "wpa_model_lowwin_gend = Word2Vec(\n",
    "    sentences=corpus_sent_tokens_gend, vector_size=300,\n",
    "    window=global_window_low,\n",
    "    min_count=global_min_count, workers=8,\n",
    "    epochs=global_epochs, seed=global_seed\n",
    ")\n",
    "# 100-dim\n",
    "#wpa_model = Word2Vec(sentences=corpus_sent_tokens, vector_size=100, window=global_window,\n",
    "#                     min_count=4, workers=8, epochs=global_epochs)"
   ],
   "metadata": {
    "collapsed": false,
    "pycharm": {
     "name": "#%%\n"
    }
   }
  },
  {
   "cell_type": "markdown",
   "source": [
    "## Export (for TensorFlow)\n",
    "\n",
    "[https://projector.tensorflow.org/](https://projector.tensorflow.org/)"
   ],
   "metadata": {
    "collapsed": false,
    "pycharm": {
     "name": "#%% md\n"
    }
   }
  },
  {
   "cell_type": "code",
   "execution_count": 26,
   "outputs": [],
   "source": [
    "def export_tf(model, token_counts, tf_N):\n",
    "    # Keep only the top N most-common words\n",
    "    top_n_tokens = [t[0] for t in token_counts[:tf_N]]\n",
    "    model_vec_df = pd.DataFrame(model.wv.vectors, index=model.wv.index_to_key)\n",
    "    model_vec_df_sub = model_vec_df[model_vec_df.index.isin(top_n_tokens)].copy()\n",
    "    # Export vectors\n",
    "    model_vec_df_sub.to_csv(\"wpa_vecs_tf.tsv\", sep=\"\\t\", index=False, header=False)\n",
    "    # Metadata\n",
    "    model_meta_df = pd.DataFrame(model_vec_df_sub.index, columns=[\"token\"])\n",
    "    model_meta_df.to_csv(\"wpa_meta_tf.tsv\", sep=\"\\t\", header=False, index=False)\n",
    "    return model_vec_df_sub, model_meta_df"
   ],
   "metadata": {
    "collapsed": false,
    "pycharm": {
     "name": "#%%\n"
    }
   }
  },
  {
   "cell_type": "code",
   "execution_count": 27,
   "outputs": [
    {
     "data": {
      "text/plain": "              0         1         2         3         4         5         6    \\\nmaster   0.022543 -0.288221  0.113888  0.506025 -0.251065  0.523576 -0.976467   \nblack   -0.464287  0.125906 -0.641358  0.952906  0.094673  0.920534 -0.897289   \nslave    0.584279  0.072831 -0.092089  0.384946 -0.464161 -0.076048 -1.017395   \nwhite   -0.436605 -0.978217 -1.001445  0.401196 -2.281483  0.092821 -0.402683   \nman      0.380748 -0.933800 -0.594153 -0.004503 -0.659954  1.243544 -0.631732   \n...           ...       ...       ...       ...       ...       ...       ...   \nnaked    0.306421 -1.610552 -0.633283 -0.840449 -0.883989  0.621426 -1.650573   \nsand     0.057732  0.154764  0.290438  0.617301  1.560652 -0.903573  2.416245   \nattend   2.362545 -1.141649 -0.705885  0.924770  0.895021  0.968267  0.954351   \nfederal  2.463107  0.689576  1.442922 -0.872957  1.125834 -0.998520  0.793645   \ncamped  -0.558419  1.099747  1.362851 -1.193449  0.183024  0.046336  0.610460   \n\n              7         8         9    ...       290       291       292  \\\nmaster   0.106974 -0.480104 -1.603247  ...  0.221127  0.157061  0.156188   \nblack    0.355507 -0.506286  0.394683  ... -0.132428 -0.267561  0.228856   \nslave   -0.164490 -1.603700  0.143436  ...  0.101214  1.129685  0.688682   \nwhite   -0.726331  0.970221  0.430271  ...  0.629940 -0.380549 -0.074244   \nman     -0.897822  0.370410  0.450214  ... -0.009695  0.968744  0.000354   \n...           ...       ...       ...  ...       ...       ...       ...   \nnaked   -0.335689 -0.247261  0.282069  ... -0.888657  0.595995 -1.013689   \nsand    -0.678608 -0.398551 -1.245892  ... -1.843976  0.718076  1.321827   \nattend   0.623054 -1.068112 -0.744889  ...  1.686368  0.658988  1.122719   \nfederal -0.556652  1.438048 -0.898605  ... -0.415457  0.713119  1.689072   \ncamped  -0.828095  0.276839  1.462372  ... -1.137914  0.017248 -0.071743   \n\n              293       294       295       296       297       298       299  \nmaster  -0.214477  0.792065  0.138209  0.625182 -0.038374  1.519970 -0.440423  \nblack    0.003560  0.792688 -0.253491 -0.184414 -0.628600  0.662658 -0.188722  \nslave   -0.111653 -0.287914  0.118754 -0.794785 -0.418130  0.612775 -0.688853  \nwhite   -0.152935  0.190552 -0.042474  0.220343 -0.023477 -0.073835 -0.373601  \nman     -0.034775  0.250908 -0.381490  0.176244 -0.156845  0.221454 -0.084287  \n...           ...       ...       ...       ...       ...       ...       ...  \nnaked   -0.323083 -0.767961  0.551644  1.599646  0.635693  0.932844  0.031321  \nsand    -0.932374 -0.648318  0.366570  1.605295  0.814785 -0.111689 -0.013376  \nattend  -1.149837 -1.674314  0.551697 -0.616445 -1.506158 -0.065883  0.713435  \nfederal  0.366770 -1.604385  0.442381  0.985128  2.755091  0.913665  1.434210  \ncamped   1.005299 -1.055361  2.050077  1.649875  1.162169  0.089994 -0.100340  \n\n[1500 rows x 300 columns]",
      "text/html": "<div>\n<style scoped>\n    .dataframe tbody tr th:only-of-type {\n        vertical-align: middle;\n    }\n\n    .dataframe tbody tr th {\n        vertical-align: top;\n    }\n\n    .dataframe thead th {\n        text-align: right;\n    }\n</style>\n<table border=\"1\" class=\"dataframe\">\n  <thead>\n    <tr style=\"text-align: right;\">\n      <th></th>\n      <th>0</th>\n      <th>1</th>\n      <th>2</th>\n      <th>3</th>\n      <th>4</th>\n      <th>5</th>\n      <th>6</th>\n      <th>7</th>\n      <th>8</th>\n      <th>9</th>\n      <th>...</th>\n      <th>290</th>\n      <th>291</th>\n      <th>292</th>\n      <th>293</th>\n      <th>294</th>\n      <th>295</th>\n      <th>296</th>\n      <th>297</th>\n      <th>298</th>\n      <th>299</th>\n    </tr>\n  </thead>\n  <tbody>\n    <tr>\n      <th>master</th>\n      <td>0.022543</td>\n      <td>-0.288221</td>\n      <td>0.113888</td>\n      <td>0.506025</td>\n      <td>-0.251065</td>\n      <td>0.523576</td>\n      <td>-0.976467</td>\n      <td>0.106974</td>\n      <td>-0.480104</td>\n      <td>-1.603247</td>\n      <td>...</td>\n      <td>0.221127</td>\n      <td>0.157061</td>\n      <td>0.156188</td>\n      <td>-0.214477</td>\n      <td>0.792065</td>\n      <td>0.138209</td>\n      <td>0.625182</td>\n      <td>-0.038374</td>\n      <td>1.519970</td>\n      <td>-0.440423</td>\n    </tr>\n    <tr>\n      <th>black</th>\n      <td>-0.464287</td>\n      <td>0.125906</td>\n      <td>-0.641358</td>\n      <td>0.952906</td>\n      <td>0.094673</td>\n      <td>0.920534</td>\n      <td>-0.897289</td>\n      <td>0.355507</td>\n      <td>-0.506286</td>\n      <td>0.394683</td>\n      <td>...</td>\n      <td>-0.132428</td>\n      <td>-0.267561</td>\n      <td>0.228856</td>\n      <td>0.003560</td>\n      <td>0.792688</td>\n      <td>-0.253491</td>\n      <td>-0.184414</td>\n      <td>-0.628600</td>\n      <td>0.662658</td>\n      <td>-0.188722</td>\n    </tr>\n    <tr>\n      <th>slave</th>\n      <td>0.584279</td>\n      <td>0.072831</td>\n      <td>-0.092089</td>\n      <td>0.384946</td>\n      <td>-0.464161</td>\n      <td>-0.076048</td>\n      <td>-1.017395</td>\n      <td>-0.164490</td>\n      <td>-1.603700</td>\n      <td>0.143436</td>\n      <td>...</td>\n      <td>0.101214</td>\n      <td>1.129685</td>\n      <td>0.688682</td>\n      <td>-0.111653</td>\n      <td>-0.287914</td>\n      <td>0.118754</td>\n      <td>-0.794785</td>\n      <td>-0.418130</td>\n      <td>0.612775</td>\n      <td>-0.688853</td>\n    </tr>\n    <tr>\n      <th>white</th>\n      <td>-0.436605</td>\n      <td>-0.978217</td>\n      <td>-1.001445</td>\n      <td>0.401196</td>\n      <td>-2.281483</td>\n      <td>0.092821</td>\n      <td>-0.402683</td>\n      <td>-0.726331</td>\n      <td>0.970221</td>\n      <td>0.430271</td>\n      <td>...</td>\n      <td>0.629940</td>\n      <td>-0.380549</td>\n      <td>-0.074244</td>\n      <td>-0.152935</td>\n      <td>0.190552</td>\n      <td>-0.042474</td>\n      <td>0.220343</td>\n      <td>-0.023477</td>\n      <td>-0.073835</td>\n      <td>-0.373601</td>\n    </tr>\n    <tr>\n      <th>man</th>\n      <td>0.380748</td>\n      <td>-0.933800</td>\n      <td>-0.594153</td>\n      <td>-0.004503</td>\n      <td>-0.659954</td>\n      <td>1.243544</td>\n      <td>-0.631732</td>\n      <td>-0.897822</td>\n      <td>0.370410</td>\n      <td>0.450214</td>\n      <td>...</td>\n      <td>-0.009695</td>\n      <td>0.968744</td>\n      <td>0.000354</td>\n      <td>-0.034775</td>\n      <td>0.250908</td>\n      <td>-0.381490</td>\n      <td>0.176244</td>\n      <td>-0.156845</td>\n      <td>0.221454</td>\n      <td>-0.084287</td>\n    </tr>\n    <tr>\n      <th>...</th>\n      <td>...</td>\n      <td>...</td>\n      <td>...</td>\n      <td>...</td>\n      <td>...</td>\n      <td>...</td>\n      <td>...</td>\n      <td>...</td>\n      <td>...</td>\n      <td>...</td>\n      <td>...</td>\n      <td>...</td>\n      <td>...</td>\n      <td>...</td>\n      <td>...</td>\n      <td>...</td>\n      <td>...</td>\n      <td>...</td>\n      <td>...</td>\n      <td>...</td>\n      <td>...</td>\n    </tr>\n    <tr>\n      <th>naked</th>\n      <td>0.306421</td>\n      <td>-1.610552</td>\n      <td>-0.633283</td>\n      <td>-0.840449</td>\n      <td>-0.883989</td>\n      <td>0.621426</td>\n      <td>-1.650573</td>\n      <td>-0.335689</td>\n      <td>-0.247261</td>\n      <td>0.282069</td>\n      <td>...</td>\n      <td>-0.888657</td>\n      <td>0.595995</td>\n      <td>-1.013689</td>\n      <td>-0.323083</td>\n      <td>-0.767961</td>\n      <td>0.551644</td>\n      <td>1.599646</td>\n      <td>0.635693</td>\n      <td>0.932844</td>\n      <td>0.031321</td>\n    </tr>\n    <tr>\n      <th>sand</th>\n      <td>0.057732</td>\n      <td>0.154764</td>\n      <td>0.290438</td>\n      <td>0.617301</td>\n      <td>1.560652</td>\n      <td>-0.903573</td>\n      <td>2.416245</td>\n      <td>-0.678608</td>\n      <td>-0.398551</td>\n      <td>-1.245892</td>\n      <td>...</td>\n      <td>-1.843976</td>\n      <td>0.718076</td>\n      <td>1.321827</td>\n      <td>-0.932374</td>\n      <td>-0.648318</td>\n      <td>0.366570</td>\n      <td>1.605295</td>\n      <td>0.814785</td>\n      <td>-0.111689</td>\n      <td>-0.013376</td>\n    </tr>\n    <tr>\n      <th>attend</th>\n      <td>2.362545</td>\n      <td>-1.141649</td>\n      <td>-0.705885</td>\n      <td>0.924770</td>\n      <td>0.895021</td>\n      <td>0.968267</td>\n      <td>0.954351</td>\n      <td>0.623054</td>\n      <td>-1.068112</td>\n      <td>-0.744889</td>\n      <td>...</td>\n      <td>1.686368</td>\n      <td>0.658988</td>\n      <td>1.122719</td>\n      <td>-1.149837</td>\n      <td>-1.674314</td>\n      <td>0.551697</td>\n      <td>-0.616445</td>\n      <td>-1.506158</td>\n      <td>-0.065883</td>\n      <td>0.713435</td>\n    </tr>\n    <tr>\n      <th>federal</th>\n      <td>2.463107</td>\n      <td>0.689576</td>\n      <td>1.442922</td>\n      <td>-0.872957</td>\n      <td>1.125834</td>\n      <td>-0.998520</td>\n      <td>0.793645</td>\n      <td>-0.556652</td>\n      <td>1.438048</td>\n      <td>-0.898605</td>\n      <td>...</td>\n      <td>-0.415457</td>\n      <td>0.713119</td>\n      <td>1.689072</td>\n      <td>0.366770</td>\n      <td>-1.604385</td>\n      <td>0.442381</td>\n      <td>0.985128</td>\n      <td>2.755091</td>\n      <td>0.913665</td>\n      <td>1.434210</td>\n    </tr>\n    <tr>\n      <th>camped</th>\n      <td>-0.558419</td>\n      <td>1.099747</td>\n      <td>1.362851</td>\n      <td>-1.193449</td>\n      <td>0.183024</td>\n      <td>0.046336</td>\n      <td>0.610460</td>\n      <td>-0.828095</td>\n      <td>0.276839</td>\n      <td>1.462372</td>\n      <td>...</td>\n      <td>-1.137914</td>\n      <td>0.017248</td>\n      <td>-0.071743</td>\n      <td>1.005299</td>\n      <td>-1.055361</td>\n      <td>2.050077</td>\n      <td>1.649875</td>\n      <td>1.162169</td>\n      <td>0.089994</td>\n      <td>-0.100340</td>\n    </tr>\n  </tbody>\n</table>\n<p>1500 rows × 300 columns</p>\n</div>"
     },
     "execution_count": 27,
     "metadata": {},
     "output_type": "execute_result"
    }
   ],
   "source": [
    "vec_df, meta_df = export_tf(wpa_model_lowwin, tcounts, 1500)\n",
    "vec_df"
   ],
   "metadata": {
    "collapsed": false,
    "pycharm": {
     "name": "#%%\n"
    }
   }
  },
  {
   "cell_type": "markdown",
   "source": [
    "## Low-dim model (for 2d plotting)"
   ],
   "metadata": {
    "collapsed": false,
    "pycharm": {
     "name": "#%% md\n"
    }
   }
  },
  {
   "cell_type": "code",
   "execution_count": 28,
   "outputs": [
    {
     "data": {
      "text/plain": "[('folk', 0.5378397703170776),\n ('black', 0.4622129201889038),\n ('people', 0.4398829936981201),\n ('slave', 0.3812119960784912),\n ('woman', 0.3759816288948059),\n ('master', 0.37009119987487793),\n ('father', 0.3181830048561096),\n ('boy', 0.30139681696891785),\n ('overseer', 0.26503822207450867),\n ('fellow', 0.2519229054450989)]"
     },
     "execution_count": 28,
     "metadata": {},
     "output_type": "execute_result"
    }
   ],
   "source": [
    "wpa_model_lowwin.wv.similar_by_word(\"man\")"
   ],
   "metadata": {
    "collapsed": false,
    "pycharm": {
     "name": "#%%\n"
    }
   }
  },
  {
   "cell_type": "code",
   "execution_count": 29,
   "outputs": [],
   "source": [
    "#timeit -r1 -n1\n",
    "wpa_model_lowdim = Word2Vec(\n",
    "    sentences=corpus_sent_tokens, vector_size=2,\n",
    "    #window=global_window,\n",
    "    window=global_window_low,\n",
    "    min_count=global_min_count, workers=8,\n",
    "    #epochs=global_epochs,\n",
    "    epochs=global_epochs,\n",
    "    seed=1949,\n",
    ")\n",
    "wpa_model_lowdim.save(\"w2v_wpa_lowdim.model\")\n",
    "wpa_model_lowdim_gend = Word2Vec(\n",
    "    sentences=corpus_sent_tokens_gend, vector_size=2,\n",
    "    #window=global_window,\n",
    "    window=global_window_low,\n",
    "    min_count=global_min_count, workers=8,\n",
    "    #epochs=global_epochs,\n",
    "    epochs=global_epochs,\n",
    "    seed=1949,\n",
    ")\n",
    "wpa_model_lowdim_gend.save(\"w2v_wpa_lowdim_gend.model\")"
   ],
   "metadata": {
    "collapsed": false,
    "pycharm": {
     "name": "#%%\n"
    }
   }
  },
  {
   "cell_type": "code",
   "execution_count": 30,
   "outputs": [],
   "source": [
    "#len(wpa_model.wv)"
   ],
   "metadata": {
    "collapsed": false,
    "pycharm": {
     "name": "#%%\n"
    }
   }
  },
  {
   "cell_type": "code",
   "execution_count": 31,
   "outputs": [
    {
     "data": {
      "text/plain": "5822"
     },
     "execution_count": 31,
     "metadata": {},
     "output_type": "execute_result"
    }
   ],
   "source": [
    "len(wpa_model_lowdim_gend.wv)"
   ],
   "metadata": {
    "collapsed": false,
    "pycharm": {
     "name": "#%%\n"
    }
   }
  },
  {
   "cell_type": "code",
   "execution_count": 32,
   "outputs": [],
   "source": [
    "#wpa_model_lowdim.wv.similar_by_vector(np.array([1.6,-2]),topn=100)"
   ],
   "metadata": {
    "collapsed": false,
    "pycharm": {
     "name": "#%%\n"
    }
   }
  },
  {
   "cell_type": "code",
   "execution_count": 33,
   "outputs": [
    {
     "data": {
      "text/plain": "[('limit', 1.0),\n ('minnie', 1.0),\n ('meridian', 0.9999999403953552),\n ('aiken', 0.9999998807907104),\n ('wayne', 0.9999998807907104),\n ('ray', 0.9999998807907104),\n ('pike', 0.9999997019767761),\n ('hagar', 0.9999997019767761),\n ('buying', 0.9999995827674866),\n ('marion', 0.9999995827674866),\n ('peace', 0.9999995827674866),\n ('clarksville', 0.999999463558197),\n ('interested', 0.9999989867210388),\n ('tate', 0.999998927116394),\n ('acquired', 0.9999988079071045),\n ('eightysix', 0.9999983906745911),\n ('demanded', 0.9999980926513672),\n ('epps', 0.9999979734420776),\n ('farmer', 0.9999979138374329),\n ('callie', 0.9999977946281433),\n ('signed', 0.999997615814209),\n ('advantage', 0.9999973773956299),\n ('waccamaw', 0.9999969601631165),\n ('mason', 0.9999969005584717),\n ('legal', 0.9999968409538269),\n ('england', 0.9999968409538269),\n ('prominent', 0.9999967813491821),\n ('gaillard', 0.9999966621398926),\n ('employment', 0.9999966025352478),\n ('dialect', 0.9999966025352478),\n ('knowledge', 0.9999964833259583),\n ('circumstance', 0.9999963045120239),\n ('sergeant', 0.9999961853027344),\n ('caledonia', 0.9999958276748657),\n ('armstrong', 0.9999946355819702),\n ('position', 0.9999942183494568),\n ('belongs', 0.999994158744812),\n ('organized', 0.9999940991401672),\n ('militia', 0.9999940991401672),\n ('boston', 0.9999940991401672),\n ('manning', 0.9999938011169434),\n ('opinion', 0.9999938011169434),\n ('action', 0.9999936819076538),\n ('griffin', 0.9999935626983643),\n ('settled', 0.9999935626983643),\n ('winchester', 0.9999929070472717),\n ('lucy', 0.9999927282333374),\n ('office', 0.9999923706054688),\n ('situation', 0.9999918341636658),\n ('publican', 0.9999914169311523)]"
     },
     "execution_count": 33,
     "metadata": {},
     "output_type": "execute_result"
    }
   ],
   "source": [
    "#wpa_model.wv.similar_by_word(\"man\", topn=100)\n",
    "wpa_model_lowdim_gend.wv.similar_by_word(\"man\", topn=50)"
   ],
   "metadata": {
    "collapsed": false,
    "pycharm": {
     "name": "#%%\n"
    }
   }
  },
  {
   "cell_type": "code",
   "execution_count": 34,
   "outputs": [
    {
     "data": {
      "text/plain": "[('lamar', 1.0),\n ('dinah', 1.0),\n ('unable', 0.999999463558197),\n ('liberty', 0.9999991655349731),\n ('ruled', 0.9999988675117493),\n ('flagg', 0.999998152256012),\n ('poll', 0.9999958276748657),\n ('ridley', 0.9999947547912598),\n ('keeper', 0.9999946355819702),\n ('obedient', 0.9999943375587463),\n ('aboard', 0.9999932646751404),\n ('realize', 0.9999925494194031),\n ('claimed', 0.9999924898147583),\n ('molly', 0.9999923706054688),\n ('wright', 0.9999921321868896),\n ('list', 0.9999915957450867),\n ('belle', 0.99998939037323),\n ('eason', 0.9999889731407166),\n ('frankie', 0.9999884963035583),\n ('maggie', 0.9999884366989136),\n ('committed', 0.9999874234199524),\n ('encouraged', 0.9999873638153076),\n ('recent', 0.9999872446060181),\n ('verse', 0.999987006187439),\n ('denied', 0.9999862909317017),\n ('obtain', 0.9999831318855286),\n ('ma', 0.9999829530715942),\n ('libed', 0.9999828338623047),\n ('nursed', 0.9999820590019226),\n ('nursing', 0.9999817609786987),\n ('blooded', 0.9999812245368958),\n ('mcdaniel', 0.9999809861183167),\n ('sale', 0.9999747276306152),\n ('reckons', 0.9999732375144958),\n ('peggy', 0.9999703764915466),\n ('snellings', 0.9999697804450989),\n ('control', 0.9999684691429138),\n ('valley', 0.999966561794281),\n ('yeahs', 0.9999630451202393),\n ('gunboat', 0.9999619126319885),\n ('paused', 0.9999608993530273),\n ('murder', 0.9999587535858154),\n ('camped', 0.9999566674232483),\n ('passage', 0.99995356798172),\n ('discovered', 0.999953031539917),\n ('tworoom', 0.9999469518661499),\n ('spanish', 0.9999462366104126),\n ('maid', 0.9999423027038574),\n ('hoyle', 0.9999411106109619),\n ('gregory', 0.9999385476112366)]"
     },
     "execution_count": 34,
     "metadata": {},
     "output_type": "execute_result"
    }
   ],
   "source": [
    "#wpa_model.wv.similar_by_word(\"woman\", topn=100)\n",
    "wpa_model_lowdim_gend.wv.similar_by_word(\"woman\", topn=50)"
   ],
   "metadata": {
    "collapsed": false,
    "pycharm": {
     "name": "#%%\n"
    }
   }
  },
  {
   "cell_type": "markdown",
   "source": [
    "### (Run from here for updated keywords)"
   ],
   "metadata": {
    "collapsed": false,
    "pycharm": {
     "name": "#%% md\n"
    }
   }
  },
  {
   "cell_type": "code",
   "execution_count": 35,
   "outputs": [],
   "source": [
    "# (From the diss)\n",
    "kw_main_orig = [\"white\",\"slave\",\"master\",\"black\",\"man\",\"woman\",]\n",
    "           #\"coop\",\"house\",\n",
    "           #\"field\",\n",
    "           #\"town\",\n",
    "           #\"yard\",\n",
    "            #\"land\",\n",
    "#            \"prison\"]\n",
    "# (New)\n",
    "kw_tsne = [\n",
    "    \"white\",\"black\",\"slave\",\"master\",\"man\",\"woman\",\n",
    "    #\"rich\",\"poor\",\n",
    "    \"slavery\",\"freedom\"\n",
    "]\n",
    "kw_main = kw_main_orig + [\n",
    "    #\"plantation\",\n",
    "    #\"jail\",\n",
    "    #\"free\",\n",
    "    #\"mother\", \"father\", \"child\",\n",
    "    #\"field\",\n",
    "    #\"church\",\n",
    "    #\"whip\"\n",
    "    #\"rich\",\n",
    "    #\"poor\",\n",
    "]\n",
    "kw_full = kw_main + [\n",
    "    \"cotton\",\n",
    "    #\"colored\",\n",
    "    #\"n*****\",\n",
    "    \"slavery\",\n",
    "    \"freedom\",\n",
    "    \"whip\",\n",
    "    \"sold\",\n",
    "    \"good\",\n",
    "    \"plantation\",\n",
    "    \"overseer\",\n",
    "    \"beat\",\n",
    "    \"north\",\"south\",\n",
    "    \"care\",\n",
    "    \"house\",\"field\",\n",
    "    \"child\",\n",
    "    \"cook\",\"clean\",\n",
    "    \"money\"\n",
    "]\n"
   ],
   "metadata": {
    "collapsed": false,
    "pycharm": {
     "name": "#%%\n"
    }
   }
  },
  {
   "cell_type": "code",
   "execution_count": 36,
   "outputs": [],
   "source": [
    "def get_embedding_df(w2v_model, kw_list, tagged=False):\n",
    "    w2v_rows = []\n",
    "    emb_keywords = kw_list\n",
    "    if tagged:\n",
    "        emb_keywords = [kw+\"[m]\" for kw in kw_list] + [kw+\"[h]\" for kw in kw_list]\n",
    "    for cur_kw in emb_keywords:\n",
    "        if cur_kw not in w2v_model.wv:\n",
    "            continue\n",
    "        cur_vec = w2v_model.wv[cur_kw]\n",
    "        cur_row = [cur_kw] + list(cur_vec)\n",
    "        w2v_rows.append(cur_row)\n",
    "    w2v_df = pd.DataFrame(w2v_rows, columns=['token','x','y'])\n",
    "    return w2v_df"
   ],
   "metadata": {
    "collapsed": false,
    "pycharm": {
     "name": "#%%\n"
    }
   }
  },
  {
   "cell_type": "code",
   "execution_count": 37,
   "outputs": [],
   "source": [
    "# For the main keywords\n",
    "df = get_embedding_df(wpa_model_lowdim_gend, kw_main)\n",
    "# For kw_full\n",
    "#wpa_emb_df = get_embedding_df(wpa_model_lowdim, kw_full)"
   ],
   "metadata": {
    "collapsed": false,
    "pycharm": {
     "name": "#%%\n"
    }
   }
  },
  {
   "cell_type": "code",
   "execution_count": 38,
   "outputs": [
    {
     "data": {
      "text/plain": "    token         x         y\n0   white  0.978058 -0.503934\n1   slave -0.455911 -0.793117\n2  master -1.175227 -0.916850\n3   black  0.752255 -0.506419\n4     man -2.147866 -1.134159\n5   woman -1.306821 -0.921412",
      "text/html": "<div>\n<style scoped>\n    .dataframe tbody tr th:only-of-type {\n        vertical-align: middle;\n    }\n\n    .dataframe tbody tr th {\n        vertical-align: top;\n    }\n\n    .dataframe thead th {\n        text-align: right;\n    }\n</style>\n<table border=\"1\" class=\"dataframe\">\n  <thead>\n    <tr style=\"text-align: right;\">\n      <th></th>\n      <th>token</th>\n      <th>x</th>\n      <th>y</th>\n    </tr>\n  </thead>\n  <tbody>\n    <tr>\n      <th>0</th>\n      <td>white</td>\n      <td>0.978058</td>\n      <td>-0.503934</td>\n    </tr>\n    <tr>\n      <th>1</th>\n      <td>slave</td>\n      <td>-0.455911</td>\n      <td>-0.793117</td>\n    </tr>\n    <tr>\n      <th>2</th>\n      <td>master</td>\n      <td>-1.175227</td>\n      <td>-0.916850</td>\n    </tr>\n    <tr>\n      <th>3</th>\n      <td>black</td>\n      <td>0.752255</td>\n      <td>-0.506419</td>\n    </tr>\n    <tr>\n      <th>4</th>\n      <td>man</td>\n      <td>-2.147866</td>\n      <td>-1.134159</td>\n    </tr>\n    <tr>\n      <th>5</th>\n      <td>woman</td>\n      <td>-1.306821</td>\n      <td>-0.921412</td>\n    </tr>\n  </tbody>\n</table>\n</div>"
     },
     "execution_count": 38,
     "metadata": {},
     "output_type": "execute_result"
    }
   ],
   "source": [
    "df"
   ],
   "metadata": {
    "collapsed": false,
    "pycharm": {
     "name": "#%%\n"
    }
   }
  },
  {
   "cell_type": "code",
   "execution_count": 39,
   "outputs": [],
   "source": [
    "# Since \"slave\" and \"master\" are so close they overlap\n",
    "adjust_points = True\n",
    "if adjust_points:\n",
    "    wpa_adjust = {\n",
    "        #\"slave\": (0,0.05),\n",
    "        \"master\": (0.0,0.03),\n",
    "        #\"black\": (0,0),\n",
    "        #\"white\": (0,0),\n",
    "    }\n",
    "    df.set_index(\"token\",inplace=True)\n",
    "    for adj_token, adj_shift in wpa_adjust.items():\n",
    "        df.loc[adj_token,\"x\"] = df.loc[adj_token,\"x\"] + adj_shift[0]\n",
    "        df.loc[adj_token,\"y\"] = df.loc[adj_token,\"y\"] + adj_shift[1]\n",
    "    df.reset_index(inplace=True)"
   ],
   "metadata": {
    "collapsed": false,
    "pycharm": {
     "name": "#%%\n"
    }
   }
  },
  {
   "cell_type": "code",
   "execution_count": 40,
   "outputs": [],
   "source": [
    "pad = 0.5\n",
    "xlim = (df['x'].min() - pad, df['x'].max() + pad)\n",
    "width = xlim[1] - xlim[0]\n",
    "ylim = (df['y'].min() - pad, df['y'].max() + pad)\n",
    "height = ylim[1] - ylim[0]\n",
    "label_adj = {\n",
    "    #\"white\": (-0.075*width,0),\n",
    "    \"black\": (-0.075*width,0),\n",
    "    \"woman\": (-0.09*width,0),\n",
    "    \"man\": (-0.065*width,0),\n",
    "    \"slave\": (-0.075*width,0),\n",
    "}"
   ],
   "metadata": {
    "collapsed": false,
    "pycharm": {
     "name": "#%%\n"
    }
   }
  },
  {
   "cell_type": "code",
   "execution_count": 41,
   "outputs": [
    {
     "data": {
      "text/plain": "<Figure size 864x576 with 1 Axes>",
      "image/png": "[encoded data removed]"
     },
     "metadata": {
      "needs_background": "light"
     },
     "output_type": "display_data"
    }
   ],
   "source": [
    "set_seaborn_style()\n",
    "plt.figure(figsize=(12,8))\n",
    "word_plot = sns.scatterplot(data=df,x='x',y='y')\n",
    "word_plot.grid(False)\n",
    "word_plot.set_xlim(xlim)\n",
    "word_plot.set_ylim(ylim)\n",
    "sns.despine(bottom=False, left=False, right=True, top=True)\n",
    "#word_plot.set_xticks([])\n",
    "#word_plot.set_yticks([])\n",
    "word_plot.set_title(\"Word Embeddings for WPA Slave Narrative Collection\", fontdict={'size':14})\n",
    "hptutil.label_points(df['x'], df['y'], df['token'], plt.gca(), x_offset=0.01, adjustments=label_adj)\n",
    "# Line from white to black\n",
    "hptutil.draw_arrow(df, \"white\", \"black\", astyle=\"->\")\n",
    "hptutil.draw_arrow(df, \"master\", \"slave\", astyle=\"->\")\n",
    "#draw_arrow(df, \"free\", \"prison\")\n",
    "hptutil.draw_arrow(\n",
    "    df, \"man\", \"woman\",\n",
    "    #lstyle=\"--\"\n",
    "    #lstyle=\":\"\n",
    "    lstyle=\"-.\"\n",
    ")\n",
    "#plt.arrow(0.99,1.76,1,1,width=0.01,head_width=0.1,head_length=0.1,length_includes_head=True,color='black')\n",
    "#plt.annotate(\"\", xy=(0.99, 1.76), xytext=(1.96, -0.45), arrowprops=dict(arrowstyle=\"->\",color='black'))\n",
    "plt.tight_layout()\n",
    "svg_fpath = os.path.join(fig_path, \"wpa_embeddings.svg\")\n",
    "plt.savefig(svg_fpath)"
   ],
   "metadata": {
    "collapsed": false,
    "pycharm": {
     "name": "#%%\n"
    }
   }
  },
  {
   "cell_type": "markdown",
   "source": [
    "Export to latex"
   ],
   "metadata": {
    "collapsed": false,
    "pycharm": {
     "name": "#%% md\n"
    }
   }
  },
  {
   "cell_type": "code",
   "execution_count": 42,
   "outputs": [],
   "source": [
    "df.set_index('token', inplace=True)"
   ],
   "metadata": {
    "collapsed": false,
    "pycharm": {
     "name": "#%%\n"
    }
   }
  },
  {
   "cell_type": "code",
   "execution_count": 43,
   "outputs": [],
   "source": [
    "# For exporting\n",
    "import hptutil\n",
    "import pyperclip\n",
    "tex_str = hptutil.custom_latex_export(df, self_contained=True, debug=False)\n",
    "pyperclip.copy(tex_str)\n",
    "tex_output_fpath = os.path.join(\"wpa_embeddings.tex\")\n",
    "with open(tex_output_fpath, 'w', encoding='utf-8') as outfile:\n",
    "    outfile.write(tex_str)"
   ],
   "metadata": {
    "collapsed": false,
    "pycharm": {
     "name": "#%%\n"
    }
   }
  },
  {
   "cell_type": "markdown",
   "source": [
    "## tSNE?"
   ],
   "metadata": {
    "collapsed": false,
    "pycharm": {
     "name": "#%% md\n"
    }
   }
  },
  {
   "cell_type": "code",
   "execution_count": 44,
   "outputs": [
    {
     "data": {
      "text/plain": "               0         1         2         3         4         5    \\\nman       0.026651  0.016837  0.100974  0.077695 -0.121002  0.115528   \nwoman    -0.044807  0.037199 -0.021989  0.111816 -0.107161  0.086134   \nmaster    0.027482 -0.009120  0.030179 -0.019444 -0.055579  0.094466   \nblack    -0.072359 -0.032156 -0.028689  0.019961 -0.184516  0.119629   \nslave    -0.134339  0.002878  0.010141 -0.006823 -0.089158  0.001529   \n...            ...       ...       ...       ...       ...       ...   \nfirmly    0.042609  0.013004 -0.024562  0.066215 -0.082603 -0.091862   \ncrawling  0.025117 -0.078393  0.084888  0.012052  0.022910  0.051394   \nsavin    -0.009597 -0.067028 -0.036183 -0.051143 -0.042927  0.001705   \nsic       0.052029  0.039605  0.080066 -0.070040  0.028422 -0.021939   \ndunbar    0.079002  0.002981 -0.056968  0.068272  0.057505 -0.011132   \n\n               6         7         8         9    ...       290       291  \\\nman       0.074319  0.052603 -0.101809  0.118342  ... -0.007831 -0.048071   \nwoman     0.081739 -0.059442 -0.104443  0.056720  ... -0.045955 -0.090596   \nmaster    0.021778  0.001374 -0.089551 -0.024620  ... -0.028191  0.008844   \nblack     0.030289 -0.047071  0.038061  0.135106  ... -0.028736 -0.047805   \nslave     0.035913 -0.062195  0.034344  0.131427  ... -0.108546 -0.053111   \n...            ...       ...       ...       ...  ...       ...       ...   \nfirmly   -0.078005  0.104179  0.120197  0.104596  ...  0.018867  0.000326   \ncrawling -0.004902 -0.041967 -0.071909  0.032822  ...  0.025159 -0.000648   \nsavin     0.053152 -0.092026  0.041165  0.036374  ... -0.005745  0.004480   \nsic      -0.083642 -0.079910  0.001093  0.059508  ...  0.060587  0.132005   \ndunbar    0.066286  0.067362 -0.068286 -0.016634  ... -0.034139 -0.057280   \n\n               292       293       294       295       296       297  \\\nman      -0.091392 -0.031662  0.012967  0.017400 -0.023531 -0.099867   \nwoman    -0.058264 -0.004633 -0.015893 -0.007962 -0.028158 -0.100407   \nmaster   -0.052253  0.001825 -0.042983 -0.005386 -0.004702 -0.085928   \nblack     0.018488 -0.009934 -0.000386  0.034844  0.024191  0.002779   \nslave    -0.029770  0.028734 -0.060424 -0.007066  0.014866 -0.031862   \n...            ...       ...       ...       ...       ...       ...   \nfirmly    0.023826 -0.018018 -0.020626 -0.077297 -0.005758 -0.051399   \ncrawling  0.079819 -0.064287 -0.079902 -0.039981 -0.079333 -0.037998   \nsavin     0.082285  0.099190 -0.083727  0.019266  0.000878  0.048500   \nsic       0.130717  0.016796 -0.107373 -0.025059  0.074822  0.070192   \ndunbar   -0.161910 -0.082582  0.014408  0.117503 -0.007458  0.002562   \n\n               298       299  \nman      -0.039554  0.082031  \nwoman     0.041626 -0.029303  \nmaster    0.036786  0.048482  \nblack     0.011058  0.043880  \nslave    -0.037500  0.034421  \n...            ...       ...  \nfirmly   -0.012698  0.099845  \ncrawling  0.028190 -0.056121  \nsavin     0.057538  0.035737  \nsic       0.025505 -0.022679  \ndunbar    0.021479  0.026384  \n\n[5822 rows x 300 columns]",
      "text/html": "<div>\n<style scoped>\n    .dataframe tbody tr th:only-of-type {\n        vertical-align: middle;\n    }\n\n    .dataframe tbody tr th {\n        vertical-align: top;\n    }\n\n    .dataframe thead th {\n        text-align: right;\n    }\n</style>\n<table border=\"1\" class=\"dataframe\">\n  <thead>\n    <tr style=\"text-align: right;\">\n      <th></th>\n      <th>0</th>\n      <th>1</th>\n      <th>2</th>\n      <th>3</th>\n      <th>4</th>\n      <th>5</th>\n      <th>6</th>\n      <th>7</th>\n      <th>8</th>\n      <th>9</th>\n      <th>...</th>\n      <th>290</th>\n      <th>291</th>\n      <th>292</th>\n      <th>293</th>\n      <th>294</th>\n      <th>295</th>\n      <th>296</th>\n      <th>297</th>\n      <th>298</th>\n      <th>299</th>\n    </tr>\n  </thead>\n  <tbody>\n    <tr>\n      <th>man</th>\n      <td>0.026651</td>\n      <td>0.016837</td>\n      <td>0.100974</td>\n      <td>0.077695</td>\n      <td>-0.121002</td>\n      <td>0.115528</td>\n      <td>0.074319</td>\n      <td>0.052603</td>\n      <td>-0.101809</td>\n      <td>0.118342</td>\n      <td>...</td>\n      <td>-0.007831</td>\n      <td>-0.048071</td>\n      <td>-0.091392</td>\n      <td>-0.031662</td>\n      <td>0.012967</td>\n      <td>0.017400</td>\n      <td>-0.023531</td>\n      <td>-0.099867</td>\n      <td>-0.039554</td>\n      <td>0.082031</td>\n    </tr>\n    <tr>\n      <th>woman</th>\n      <td>-0.044807</td>\n      <td>0.037199</td>\n      <td>-0.021989</td>\n      <td>0.111816</td>\n      <td>-0.107161</td>\n      <td>0.086134</td>\n      <td>0.081739</td>\n      <td>-0.059442</td>\n      <td>-0.104443</td>\n      <td>0.056720</td>\n      <td>...</td>\n      <td>-0.045955</td>\n      <td>-0.090596</td>\n      <td>-0.058264</td>\n      <td>-0.004633</td>\n      <td>-0.015893</td>\n      <td>-0.007962</td>\n      <td>-0.028158</td>\n      <td>-0.100407</td>\n      <td>0.041626</td>\n      <td>-0.029303</td>\n    </tr>\n    <tr>\n      <th>master</th>\n      <td>0.027482</td>\n      <td>-0.009120</td>\n      <td>0.030179</td>\n      <td>-0.019444</td>\n      <td>-0.055579</td>\n      <td>0.094466</td>\n      <td>0.021778</td>\n      <td>0.001374</td>\n      <td>-0.089551</td>\n      <td>-0.024620</td>\n      <td>...</td>\n      <td>-0.028191</td>\n      <td>0.008844</td>\n      <td>-0.052253</td>\n      <td>0.001825</td>\n      <td>-0.042983</td>\n      <td>-0.005386</td>\n      <td>-0.004702</td>\n      <td>-0.085928</td>\n      <td>0.036786</td>\n      <td>0.048482</td>\n    </tr>\n    <tr>\n      <th>black</th>\n      <td>-0.072359</td>\n      <td>-0.032156</td>\n      <td>-0.028689</td>\n      <td>0.019961</td>\n      <td>-0.184516</td>\n      <td>0.119629</td>\n      <td>0.030289</td>\n      <td>-0.047071</td>\n      <td>0.038061</td>\n      <td>0.135106</td>\n      <td>...</td>\n      <td>-0.028736</td>\n      <td>-0.047805</td>\n      <td>0.018488</td>\n      <td>-0.009934</td>\n      <td>-0.000386</td>\n      <td>0.034844</td>\n      <td>0.024191</td>\n      <td>0.002779</td>\n      <td>0.011058</td>\n      <td>0.043880</td>\n    </tr>\n    <tr>\n      <th>slave</th>\n      <td>-0.134339</td>\n      <td>0.002878</td>\n      <td>0.010141</td>\n      <td>-0.006823</td>\n      <td>-0.089158</td>\n      <td>0.001529</td>\n      <td>0.035913</td>\n      <td>-0.062195</td>\n      <td>0.034344</td>\n      <td>0.131427</td>\n      <td>...</td>\n      <td>-0.108546</td>\n      <td>-0.053111</td>\n      <td>-0.029770</td>\n      <td>0.028734</td>\n      <td>-0.060424</td>\n      <td>-0.007066</td>\n      <td>0.014866</td>\n      <td>-0.031862</td>\n      <td>-0.037500</td>\n      <td>0.034421</td>\n    </tr>\n    <tr>\n      <th>...</th>\n      <td>...</td>\n      <td>...</td>\n      <td>...</td>\n      <td>...</td>\n      <td>...</td>\n      <td>...</td>\n      <td>...</td>\n      <td>...</td>\n      <td>...</td>\n      <td>...</td>\n      <td>...</td>\n      <td>...</td>\n      <td>...</td>\n      <td>...</td>\n      <td>...</td>\n      <td>...</td>\n      <td>...</td>\n      <td>...</td>\n      <td>...</td>\n      <td>...</td>\n      <td>...</td>\n    </tr>\n    <tr>\n      <th>firmly</th>\n      <td>0.042609</td>\n      <td>0.013004</td>\n      <td>-0.024562</td>\n      <td>0.066215</td>\n      <td>-0.082603</td>\n      <td>-0.091862</td>\n      <td>-0.078005</td>\n      <td>0.104179</td>\n      <td>0.120197</td>\n      <td>0.104596</td>\n      <td>...</td>\n      <td>0.018867</td>\n      <td>0.000326</td>\n      <td>0.023826</td>\n      <td>-0.018018</td>\n      <td>-0.020626</td>\n      <td>-0.077297</td>\n      <td>-0.005758</td>\n      <td>-0.051399</td>\n      <td>-0.012698</td>\n      <td>0.099845</td>\n    </tr>\n    <tr>\n      <th>crawling</th>\n      <td>0.025117</td>\n      <td>-0.078393</td>\n      <td>0.084888</td>\n      <td>0.012052</td>\n      <td>0.022910</td>\n      <td>0.051394</td>\n      <td>-0.004902</td>\n      <td>-0.041967</td>\n      <td>-0.071909</td>\n      <td>0.032822</td>\n      <td>...</td>\n      <td>0.025159</td>\n      <td>-0.000648</td>\n      <td>0.079819</td>\n      <td>-0.064287</td>\n      <td>-0.079902</td>\n      <td>-0.039981</td>\n      <td>-0.079333</td>\n      <td>-0.037998</td>\n      <td>0.028190</td>\n      <td>-0.056121</td>\n    </tr>\n    <tr>\n      <th>savin</th>\n      <td>-0.009597</td>\n      <td>-0.067028</td>\n      <td>-0.036183</td>\n      <td>-0.051143</td>\n      <td>-0.042927</td>\n      <td>0.001705</td>\n      <td>0.053152</td>\n      <td>-0.092026</td>\n      <td>0.041165</td>\n      <td>0.036374</td>\n      <td>...</td>\n      <td>-0.005745</td>\n      <td>0.004480</td>\n      <td>0.082285</td>\n      <td>0.099190</td>\n      <td>-0.083727</td>\n      <td>0.019266</td>\n      <td>0.000878</td>\n      <td>0.048500</td>\n      <td>0.057538</td>\n      <td>0.035737</td>\n    </tr>\n    <tr>\n      <th>sic</th>\n      <td>0.052029</td>\n      <td>0.039605</td>\n      <td>0.080066</td>\n      <td>-0.070040</td>\n      <td>0.028422</td>\n      <td>-0.021939</td>\n      <td>-0.083642</td>\n      <td>-0.079910</td>\n      <td>0.001093</td>\n      <td>0.059508</td>\n      <td>...</td>\n      <td>0.060587</td>\n      <td>0.132005</td>\n      <td>0.130717</td>\n      <td>0.016796</td>\n      <td>-0.107373</td>\n      <td>-0.025059</td>\n      <td>0.074822</td>\n      <td>0.070192</td>\n      <td>0.025505</td>\n      <td>-0.022679</td>\n    </tr>\n    <tr>\n      <th>dunbar</th>\n      <td>0.079002</td>\n      <td>0.002981</td>\n      <td>-0.056968</td>\n      <td>0.068272</td>\n      <td>0.057505</td>\n      <td>-0.011132</td>\n      <td>0.066286</td>\n      <td>0.067362</td>\n      <td>-0.068286</td>\n      <td>-0.016634</td>\n      <td>...</td>\n      <td>-0.034139</td>\n      <td>-0.057280</td>\n      <td>-0.161910</td>\n      <td>-0.082582</td>\n      <td>0.014408</td>\n      <td>0.117503</td>\n      <td>-0.007458</td>\n      <td>0.002562</td>\n      <td>0.021479</td>\n      <td>0.026384</td>\n    </tr>\n  </tbody>\n</table>\n<p>5822 rows × 300 columns</p>\n</div>"
     },
     "execution_count": 44,
     "metadata": {},
     "output_type": "execute_result"
    }
   ],
   "source": [
    "cur_model = wpa_model_lowwin_gend\n",
    "\n",
    "tsne_vecs = cur_model.wv.vectors\n",
    "tsne_vecs_normed = cur_model.wv.get_normed_vectors()\n",
    "# Change this to change whether it uses normed vectors\n",
    "tsne_vec_df = pd.DataFrame(tsne_vecs_normed, index=cur_model.wv.index_to_key)\n",
    "tsne_vec_df"
   ],
   "metadata": {
    "collapsed": false,
    "pycharm": {
     "name": "#%%\n"
    }
   }
  },
  {
   "cell_type": "markdown",
   "source": [
    "### Select only top N"
   ],
   "metadata": {
    "collapsed": false,
    "pycharm": {
     "name": "#%% md\n"
    }
   }
  },
  {
   "cell_type": "code",
   "execution_count": 45,
   "outputs": [
    {
     "data": {
      "text/plain": "               0         1         2         3         4         5    \\\nman       0.026651  0.016837  0.100974  0.077695 -0.121002  0.115528   \nwoman    -0.044807  0.037199 -0.021989  0.111816 -0.107161  0.086134   \nmaster    0.027482 -0.009120  0.030179 -0.019444 -0.055579  0.094466   \nblack    -0.072359 -0.032156 -0.028689  0.019961 -0.184516  0.119629   \nslave    -0.134339  0.002878  0.010141 -0.006823 -0.089158  0.001529   \n...            ...       ...       ...       ...       ...       ...   \nfranklin  0.008566  0.014483 -0.092574  0.109314  0.083127 -0.026338   \nlabor    -0.003280  0.092883  0.049819  0.027037 -0.045403 -0.006735   \nsquirrel -0.020708 -0.025894  0.002444 -0.007732  0.029863 -0.055889   \ncamped   -0.061048 -0.003644 -0.051253  0.001493  0.034865 -0.077401   \nattend   -0.073097 -0.022874 -0.058935  0.066877 -0.033821 -0.037445   \n\n               6         7         8         9    ...       290       291  \\\nman       0.074319  0.052603 -0.101809  0.118342  ... -0.007831 -0.048071   \nwoman     0.081739 -0.059442 -0.104443  0.056720  ... -0.045955 -0.090596   \nmaster    0.021778  0.001374 -0.089551 -0.024620  ... -0.028191  0.008844   \nblack     0.030289 -0.047071  0.038061  0.135106  ... -0.028736 -0.047805   \nslave     0.035913 -0.062195  0.034344  0.131427  ... -0.108546 -0.053111   \n...            ...       ...       ...       ...  ...       ...       ...   \nfranklin  0.041273  0.011504  0.046206  0.023091  ...  0.008437 -0.089468   \nlabor    -0.043787  0.032115 -0.131414 -0.008739  ... -0.032035 -0.000661   \nsquirrel -0.012156 -0.096284 -0.037423 -0.022051  ... -0.089388  0.044709   \ncamped    0.075787  0.029277  0.039911  0.038405  ... -0.034185 -0.009598   \nattend    0.027426  0.131495 -0.039247  0.055935  ... -0.059779 -0.012304   \n\n               292       293       294       295       296       297  \\\nman      -0.091392 -0.031662  0.012967  0.017400 -0.023531 -0.099867   \nwoman    -0.058264 -0.004633 -0.015893 -0.007962 -0.028158 -0.100407   \nmaster   -0.052253  0.001825 -0.042983 -0.005386 -0.004702 -0.085928   \nblack     0.018488 -0.009934 -0.000386  0.034844  0.024191  0.002779   \nslave    -0.029770  0.028734 -0.060424 -0.007066  0.014866 -0.031862   \n...            ...       ...       ...       ...       ...       ...   \nfranklin  0.072205 -0.113821 -0.074913  0.022901  0.019481  0.030518   \nlabor     0.040700  0.075201 -0.072265  0.022468  0.057612 -0.027840   \nsquirrel -0.016220  0.062534  0.047895 -0.099535 -0.046160 -0.019665   \ncamped    0.071405  0.040014 -0.085645  0.065168  0.037213  0.135809   \nattend   -0.035637 -0.008933  0.005204 -0.059120 -0.003184 -0.003759   \n\n               298       299  \nman      -0.039554  0.082031  \nwoman     0.041626 -0.029303  \nmaster    0.036786  0.048482  \nblack     0.011058  0.043880  \nslave    -0.037500  0.034421  \n...            ...       ...  \nfranklin  0.003112 -0.006919  \nlabor     0.060774 -0.139254  \nsquirrel -0.032331 -0.073619  \ncamped   -0.041203  0.041796  \nattend    0.014458 -0.078004  \n\n[1471 rows x 300 columns]",
      "text/html": "<div>\n<style scoped>\n    .dataframe tbody tr th:only-of-type {\n        vertical-align: middle;\n    }\n\n    .dataframe tbody tr th {\n        vertical-align: top;\n    }\n\n    .dataframe thead th {\n        text-align: right;\n    }\n</style>\n<table border=\"1\" class=\"dataframe\">\n  <thead>\n    <tr style=\"text-align: right;\">\n      <th></th>\n      <th>0</th>\n      <th>1</th>\n      <th>2</th>\n      <th>3</th>\n      <th>4</th>\n      <th>5</th>\n      <th>6</th>\n      <th>7</th>\n      <th>8</th>\n      <th>9</th>\n      <th>...</th>\n      <th>290</th>\n      <th>291</th>\n      <th>292</th>\n      <th>293</th>\n      <th>294</th>\n      <th>295</th>\n      <th>296</th>\n      <th>297</th>\n      <th>298</th>\n      <th>299</th>\n    </tr>\n  </thead>\n  <tbody>\n    <tr>\n      <th>man</th>\n      <td>0.026651</td>\n      <td>0.016837</td>\n      <td>0.100974</td>\n      <td>0.077695</td>\n      <td>-0.121002</td>\n      <td>0.115528</td>\n      <td>0.074319</td>\n      <td>0.052603</td>\n      <td>-0.101809</td>\n      <td>0.118342</td>\n      <td>...</td>\n      <td>-0.007831</td>\n      <td>-0.048071</td>\n      <td>-0.091392</td>\n      <td>-0.031662</td>\n      <td>0.012967</td>\n      <td>0.017400</td>\n      <td>-0.023531</td>\n      <td>-0.099867</td>\n      <td>-0.039554</td>\n      <td>0.082031</td>\n    </tr>\n    <tr>\n      <th>woman</th>\n      <td>-0.044807</td>\n      <td>0.037199</td>\n      <td>-0.021989</td>\n      <td>0.111816</td>\n      <td>-0.107161</td>\n      <td>0.086134</td>\n      <td>0.081739</td>\n      <td>-0.059442</td>\n      <td>-0.104443</td>\n      <td>0.056720</td>\n      <td>...</td>\n      <td>-0.045955</td>\n      <td>-0.090596</td>\n      <td>-0.058264</td>\n      <td>-0.004633</td>\n      <td>-0.015893</td>\n      <td>-0.007962</td>\n      <td>-0.028158</td>\n      <td>-0.100407</td>\n      <td>0.041626</td>\n      <td>-0.029303</td>\n    </tr>\n    <tr>\n      <th>master</th>\n      <td>0.027482</td>\n      <td>-0.009120</td>\n      <td>0.030179</td>\n      <td>-0.019444</td>\n      <td>-0.055579</td>\n      <td>0.094466</td>\n      <td>0.021778</td>\n      <td>0.001374</td>\n      <td>-0.089551</td>\n      <td>-0.024620</td>\n      <td>...</td>\n      <td>-0.028191</td>\n      <td>0.008844</td>\n      <td>-0.052253</td>\n      <td>0.001825</td>\n      <td>-0.042983</td>\n      <td>-0.005386</td>\n      <td>-0.004702</td>\n      <td>-0.085928</td>\n      <td>0.036786</td>\n      <td>0.048482</td>\n    </tr>\n    <tr>\n      <th>black</th>\n      <td>-0.072359</td>\n      <td>-0.032156</td>\n      <td>-0.028689</td>\n      <td>0.019961</td>\n      <td>-0.184516</td>\n      <td>0.119629</td>\n      <td>0.030289</td>\n      <td>-0.047071</td>\n      <td>0.038061</td>\n      <td>0.135106</td>\n      <td>...</td>\n      <td>-0.028736</td>\n      <td>-0.047805</td>\n      <td>0.018488</td>\n      <td>-0.009934</td>\n      <td>-0.000386</td>\n      <td>0.034844</td>\n      <td>0.024191</td>\n      <td>0.002779</td>\n      <td>0.011058</td>\n      <td>0.043880</td>\n    </tr>\n    <tr>\n      <th>slave</th>\n      <td>-0.134339</td>\n      <td>0.002878</td>\n      <td>0.010141</td>\n      <td>-0.006823</td>\n      <td>-0.089158</td>\n      <td>0.001529</td>\n      <td>0.035913</td>\n      <td>-0.062195</td>\n      <td>0.034344</td>\n      <td>0.131427</td>\n      <td>...</td>\n      <td>-0.108546</td>\n      <td>-0.053111</td>\n      <td>-0.029770</td>\n      <td>0.028734</td>\n      <td>-0.060424</td>\n      <td>-0.007066</td>\n      <td>0.014866</td>\n      <td>-0.031862</td>\n      <td>-0.037500</td>\n      <td>0.034421</td>\n    </tr>\n    <tr>\n      <th>...</th>\n      <td>...</td>\n      <td>...</td>\n      <td>...</td>\n      <td>...</td>\n      <td>...</td>\n      <td>...</td>\n      <td>...</td>\n      <td>...</td>\n      <td>...</td>\n      <td>...</td>\n      <td>...</td>\n      <td>...</td>\n      <td>...</td>\n      <td>...</td>\n      <td>...</td>\n      <td>...</td>\n      <td>...</td>\n      <td>...</td>\n      <td>...</td>\n      <td>...</td>\n      <td>...</td>\n    </tr>\n    <tr>\n      <th>franklin</th>\n      <td>0.008566</td>\n      <td>0.014483</td>\n      <td>-0.092574</td>\n      <td>0.109314</td>\n      <td>0.083127</td>\n      <td>-0.026338</td>\n      <td>0.041273</td>\n      <td>0.011504</td>\n      <td>0.046206</td>\n      <td>0.023091</td>\n      <td>...</td>\n      <td>0.008437</td>\n      <td>-0.089468</td>\n      <td>0.072205</td>\n      <td>-0.113821</td>\n      <td>-0.074913</td>\n      <td>0.022901</td>\n      <td>0.019481</td>\n      <td>0.030518</td>\n      <td>0.003112</td>\n      <td>-0.006919</td>\n    </tr>\n    <tr>\n      <th>labor</th>\n      <td>-0.003280</td>\n      <td>0.092883</td>\n      <td>0.049819</td>\n      <td>0.027037</td>\n      <td>-0.045403</td>\n      <td>-0.006735</td>\n      <td>-0.043787</td>\n      <td>0.032115</td>\n      <td>-0.131414</td>\n      <td>-0.008739</td>\n      <td>...</td>\n      <td>-0.032035</td>\n      <td>-0.000661</td>\n      <td>0.040700</td>\n      <td>0.075201</td>\n      <td>-0.072265</td>\n      <td>0.022468</td>\n      <td>0.057612</td>\n      <td>-0.027840</td>\n      <td>0.060774</td>\n      <td>-0.139254</td>\n    </tr>\n    <tr>\n      <th>squirrel</th>\n      <td>-0.020708</td>\n      <td>-0.025894</td>\n      <td>0.002444</td>\n      <td>-0.007732</td>\n      <td>0.029863</td>\n      <td>-0.055889</td>\n      <td>-0.012156</td>\n      <td>-0.096284</td>\n      <td>-0.037423</td>\n      <td>-0.022051</td>\n      <td>...</td>\n      <td>-0.089388</td>\n      <td>0.044709</td>\n      <td>-0.016220</td>\n      <td>0.062534</td>\n      <td>0.047895</td>\n      <td>-0.099535</td>\n      <td>-0.046160</td>\n      <td>-0.019665</td>\n      <td>-0.032331</td>\n      <td>-0.073619</td>\n    </tr>\n    <tr>\n      <th>camped</th>\n      <td>-0.061048</td>\n      <td>-0.003644</td>\n      <td>-0.051253</td>\n      <td>0.001493</td>\n      <td>0.034865</td>\n      <td>-0.077401</td>\n      <td>0.075787</td>\n      <td>0.029277</td>\n      <td>0.039911</td>\n      <td>0.038405</td>\n      <td>...</td>\n      <td>-0.034185</td>\n      <td>-0.009598</td>\n      <td>0.071405</td>\n      <td>0.040014</td>\n      <td>-0.085645</td>\n      <td>0.065168</td>\n      <td>0.037213</td>\n      <td>0.135809</td>\n      <td>-0.041203</td>\n      <td>0.041796</td>\n    </tr>\n    <tr>\n      <th>attend</th>\n      <td>-0.073097</td>\n      <td>-0.022874</td>\n      <td>-0.058935</td>\n      <td>0.066877</td>\n      <td>-0.033821</td>\n      <td>-0.037445</td>\n      <td>0.027426</td>\n      <td>0.131495</td>\n      <td>-0.039247</td>\n      <td>0.055935</td>\n      <td>...</td>\n      <td>-0.059779</td>\n      <td>-0.012304</td>\n      <td>-0.035637</td>\n      <td>-0.008933</td>\n      <td>0.005204</td>\n      <td>-0.059120</td>\n      <td>-0.003184</td>\n      <td>-0.003759</td>\n      <td>0.014458</td>\n      <td>-0.078004</td>\n    </tr>\n  </tbody>\n</table>\n<p>1471 rows × 300 columns</p>\n</div>"
     },
     "execution_count": 45,
     "metadata": {},
     "output_type": "execute_result"
    }
   ],
   "source": [
    "tsne_N = 1500\n",
    "top_n_tokens = [t[0] for t in tcounts[:tsne_N]]\n",
    "tsne_topn_df = tsne_vec_df[tsne_vec_df.index.isin(top_n_tokens)].copy()\n",
    "tsne_topn_df"
   ],
   "metadata": {
    "collapsed": false,
    "pycharm": {
     "name": "#%%\n"
    }
   }
  },
  {
   "cell_type": "code",
   "execution_count": 46,
   "outputs": [],
   "source": [
    "from sklearn.manifold import TSNE"
   ],
   "metadata": {
    "collapsed": false,
    "pycharm": {
     "name": "#%%\n"
    }
   }
  },
  {
   "cell_type": "code",
   "execution_count": 47,
   "outputs": [],
   "source": [
    "tsne = TSNE(n_components=2, random_state=global_seed,\n",
    "            metric='cosine',\n",
    "            learning_rate=10,\n",
    "            perplexity=12.0, n_jobs=8,\n",
    "            n_iter=2000)"
   ],
   "metadata": {
    "collapsed": false,
    "pycharm": {
     "name": "#%%\n"
    }
   }
  },
  {
   "cell_type": "code",
   "execution_count": 48,
   "outputs": [
    {
     "name": "stderr",
     "output_type": "stream",
     "text": [
      "C:\\Users\\jpjac\\lib\\site-packages\\sklearn\\manifold\\_t_sne.py:795: FutureWarning: The default initialization in TSNE will change from 'random' to 'pca' in 1.2.\n",
      "  warnings.warn(\n"
     ]
    }
   ],
   "source": [
    "#timeit -r1 -n1\n",
    "# Project the data in 2D\n",
    "#X_tsne = tsne.fit_transform(wpa_vecs)\n",
    "\n",
    "# Convert df to just nunmeric matrix\n",
    "#X_wpa_kw = wpa_kw_df.drop(columns=['token'])\n",
    "X_tsne_topn = tsne.fit_transform(tsne_topn_df)"
   ],
   "metadata": {
    "collapsed": false,
    "pycharm": {
     "name": "#%%\n"
    }
   }
  },
  {
   "cell_type": "code",
   "execution_count": 49,
   "outputs": [],
   "source": [
    "tsne_df_full = pd.DataFrame(X_tsne_topn, columns=['x','y'], index=tsne_topn_df.index)"
   ],
   "metadata": {
    "collapsed": false,
    "pycharm": {
     "name": "#%%\n"
    }
   }
  },
  {
   "cell_type": "code",
   "execution_count": 50,
   "outputs": [
    {
     "data": {
      "text/plain": "                  x          y\nman       49.807411  -0.213680\nwoman     53.393616  -3.961056\nmaster    49.613235  -1.007129\nblack     44.174366  -8.286601\nslave     43.263889  -6.071627\n...             ...        ...\nfranklin  50.674828  25.374142\nlabor     10.281645  32.457920\nsquirrel -63.473106  -6.590760\ncamped    26.484499  48.892315\nattend    12.614835   8.098406\n\n[1471 rows x 2 columns]",
      "text/html": "<div>\n<style scoped>\n    .dataframe tbody tr th:only-of-type {\n        vertical-align: middle;\n    }\n\n    .dataframe tbody tr th {\n        vertical-align: top;\n    }\n\n    .dataframe thead th {\n        text-align: right;\n    }\n</style>\n<table border=\"1\" class=\"dataframe\">\n  <thead>\n    <tr style=\"text-align: right;\">\n      <th></th>\n      <th>x</th>\n      <th>y</th>\n    </tr>\n  </thead>\n  <tbody>\n    <tr>\n      <th>man</th>\n      <td>49.807411</td>\n      <td>-0.213680</td>\n    </tr>\n    <tr>\n      <th>woman</th>\n      <td>53.393616</td>\n      <td>-3.961056</td>\n    </tr>\n    <tr>\n      <th>master</th>\n      <td>49.613235</td>\n      <td>-1.007129</td>\n    </tr>\n    <tr>\n      <th>black</th>\n      <td>44.174366</td>\n      <td>-8.286601</td>\n    </tr>\n    <tr>\n      <th>slave</th>\n      <td>43.263889</td>\n      <td>-6.071627</td>\n    </tr>\n    <tr>\n      <th>...</th>\n      <td>...</td>\n      <td>...</td>\n    </tr>\n    <tr>\n      <th>franklin</th>\n      <td>50.674828</td>\n      <td>25.374142</td>\n    </tr>\n    <tr>\n      <th>labor</th>\n      <td>10.281645</td>\n      <td>32.457920</td>\n    </tr>\n    <tr>\n      <th>squirrel</th>\n      <td>-63.473106</td>\n      <td>-6.590760</td>\n    </tr>\n    <tr>\n      <th>camped</th>\n      <td>26.484499</td>\n      <td>48.892315</td>\n    </tr>\n    <tr>\n      <th>attend</th>\n      <td>12.614835</td>\n      <td>8.098406</td>\n    </tr>\n  </tbody>\n</table>\n<p>1471 rows × 2 columns</p>\n</div>"
     },
     "execution_count": 50,
     "metadata": {},
     "output_type": "execute_result"
    }
   ],
   "source": [
    "tsne_df_full"
   ],
   "metadata": {
    "collapsed": false,
    "pycharm": {
     "name": "#%%\n"
    }
   }
  },
  {
   "cell_type": "markdown",
   "source": [
    "## Keep just the keywords"
   ],
   "metadata": {
    "collapsed": false,
    "pycharm": {
     "name": "#%% md\n"
    }
   }
  },
  {
   "cell_type": "code",
   "execution_count": 51,
   "outputs": [],
   "source": [
    "# Now just the keywords\n",
    "kw_remove = ['freedom', 'slavery']\n",
    "kw_filtered = [kw for kw in kw_tsne if kw not in kw_remove]\n",
    "#kw_add = ['plantation', 'rich', 'poor', 'child']\n",
    "kw_add = ['baby', 'child', 'rich', 'poor']\n",
    "kw_final = kw_filtered + kw_add\n",
    "tsne_df = tsne_df_full[tsne_df_full.index.isin(kw_final)].copy()"
   ],
   "metadata": {
    "collapsed": false,
    "pycharm": {
     "name": "#%%\n"
    }
   }
  },
  {
   "cell_type": "code",
   "execution_count": 52,
   "outputs": [],
   "source": [
    "# Just rescaling the poor/rich, since they're so far away in the y direction you can't\n",
    "# see the angles in the plot\n",
    "tsne_df.at['centroid','x'] = tsne_df['x'].mean()\n",
    "tsne_df.at['centroid','y'] = tsne_df['y'].mean()\n",
    "dilation_amount = 0.85\n",
    "def contract_midpoint(df, token, proportion):\n",
    "    for dimension in ['x','y']:\n",
    "        orig_point = df.loc[token, dimension]\n",
    "        centroid = df.loc['centroid', dimension]\n",
    "        midpoint = proportion * centroid + (1 - proportion) * orig_point\n",
    "        df.at[token, dimension] = midpoint\n",
    "contract_midpoint(tsne_df, 'poor', dilation_amount)\n",
    "contract_midpoint(tsne_df, 'rich', dilation_amount)\n",
    "#tsne_df.at['rich','y'] = tsne_df.loc['rich', 'y'] / 3\n",
    "# And now we can drop the centroid\n",
    "tsne_df = tsne_df[tsne_df.index != 'centroid'].copy()"
   ],
   "metadata": {
    "collapsed": false,
    "pycharm": {
     "name": "#%%\n"
    }
   }
  },
  {
   "cell_type": "code",
   "execution_count": 53,
   "outputs": [
    {
     "data": {
      "text/plain": "x    45.466774\ny    -9.030346\nName: white, dtype: float32"
     },
     "execution_count": 53,
     "metadata": {},
     "output_type": "execute_result"
    }
   ],
   "source": [
    "tsne_df.loc['white']"
   ],
   "metadata": {
    "collapsed": false,
    "pycharm": {
     "name": "#%%\n"
    }
   }
  },
  {
   "cell_type": "code",
   "execution_count": 54,
   "outputs": [
    {
     "data": {
      "text/plain": "(x    47.540005\n y    -5.018737\n dtype: float32,\n x    43.719128\n y    -7.179114\n dtype: float32)"
     },
     "execution_count": 54,
     "metadata": {},
     "output_type": "execute_result"
    }
   ],
   "source": [
    "# Compute averages\n",
    "white_master = (tsne_df.loc['white'] + tsne_df.loc['master']) / 2\n",
    "black_slave = (tsne_df.loc['black'] + tsne_df.loc['slave']) / 2\n",
    "white_master, black_slave"
   ],
   "metadata": {
    "collapsed": false,
    "pycharm": {
     "name": "#%%\n"
    }
   }
  },
  {
   "cell_type": "code",
   "execution_count": 55,
   "outputs": [],
   "source": [
    "def gen_point(x, y):\n",
    "    return pd.Series({'x': x, 'y': y})\n",
    "tsne_df.at['whitemaster'] = gen_point(white_master['x'], white_master['y'])\n",
    "tsne_df.at['blackslave'] = gen_point(black_slave['x'], black_slave['y'])"
   ],
   "metadata": {
    "collapsed": false,
    "pycharm": {
     "name": "#%%\n"
    }
   }
  },
  {
   "cell_type": "code",
   "execution_count": 56,
   "outputs": [],
   "source": [
    "# Now get the continuation of whitemaster->blackslave intersecting man->woman\n",
    "#tsne_df.at['negativerace'] = tsne_df.loc['whitemaster'] - tsne_df['blackslave']\n",
    "#tsne_df.at['negativerace'] = tsne_df.loc['whitemaster'] + 0.9*(tsne_df.loc['whitemaster'] - tsne_df.loc['blackslave'])"
   ],
   "metadata": {
    "collapsed": false,
    "pycharm": {
     "name": "#%%\n"
    }
   }
  },
  {
   "cell_type": "code",
   "execution_count": 57,
   "outputs": [
    {
     "data": {
      "text/plain": "(51.995144, -2.4997342)"
     },
     "execution_count": 57,
     "metadata": {},
     "output_type": "execute_result"
    }
   ],
   "source": [
    "# Find where it intersects man->woman\n",
    "race_vec = tsne_df.loc['blackslave'] - tsne_df.loc['whitemaster']\n",
    "gender_vec = tsne_df.loc['woman'] - tsne_df.loc['man']\n",
    "race_slope = race_vec['y'] / race_vec['x']\n",
    "gender_slope = gender_vec['y'] / gender_vec['x']\n",
    "wm_x = tsne_df.loc['whitemaster', 'x']\n",
    "wm_y = tsne_df.loc['whitemaster', 'y']\n",
    "m_x = tsne_df.loc['man', 'x']\n",
    "m_y = tsne_df.loc['man', 'y']\n",
    "intersect_numer = (race_slope * wm_x - gender_slope * m_x) + (m_y - wm_y)\n",
    "intersect_denom = race_slope - gender_slope\n",
    "intersect_x = intersect_numer / intersect_denom\n",
    "intersect_y = gender_slope * (intersect_x - m_x) + m_y\n",
    "intersect_x, intersect_y"
   ],
   "metadata": {
    "collapsed": false,
    "pycharm": {
     "name": "#%%\n"
    }
   }
  },
  {
   "cell_type": "code",
   "execution_count": 58,
   "outputs": [
    {
     "data": {
      "text/plain": "'104.26'"
     },
     "execution_count": 58,
     "metadata": {},
     "output_type": "execute_result"
    }
   ],
   "source": [
    "tsne_df.at['intersect'] = gen_point(intersect_x, intersect_y)\n",
    "# Angle at the intersection\n",
    "cos_theta = np.dot(race_vec, gender_vec) / (np.linalg.norm(race_vec) * np.linalg.norm(gender_vec))\n",
    "vec_angle = np.arccos(cos_theta)\n",
    "theta_degrees = np.rad2deg(vec_angle)\n",
    "theta_degrees = str(np.round(theta_degrees, 2))\n",
    "theta_degrees"
   ],
   "metadata": {
    "collapsed": false,
    "pycharm": {
     "name": "#%%\n"
    }
   }
  },
  {
   "cell_type": "code",
   "execution_count": 59,
   "outputs": [],
   "source": [
    "tsne_xmin = tsne_df['x'].min()\n",
    "tsne_xmax = tsne_df['x'].max()\n",
    "tsne_xrange = tsne_xmax - tsne_xmin\n",
    "tsne_xpad = 0.01*tsne_xrange\n",
    "tsne_xlim = (tsne_xmin - tsne_xpad, tsne_xmax + tsne_xpad)\n",
    "# y\n",
    "tsne_ymin = tsne_df['y'].min()\n",
    "tsne_ymax = tsne_df['y'].max()\n",
    "tsne_yrange = tsne_ymax - tsne_ymin\n",
    "tsne_ypad = 0.01*tsne_yrange\n",
    "tsne_ylim = (tsne_ymin - tsne_ypad, tsne_ymax + tsne_ypad)"
   ],
   "metadata": {
    "collapsed": false,
    "pycharm": {
     "name": "#%%\n"
    }
   }
  },
  {
   "cell_type": "code",
   "execution_count": 60,
   "outputs": [
    {
     "data": {
      "text/plain": "<Figure size 864x576 with 1 Axes>",
      "image/png": "[encoded data removed]"
     },
     "metadata": {},
     "output_type": "display_data"
    }
   ],
   "source": [
    "# Plot tSNE like it's the 2d space\n",
    "set_seaborn_style()\n",
    "plt.figure(figsize=(12,8))\n",
    "word_plot = sns.scatterplot(data=tsne_df,x='x',y='y')\n",
    "word_plot.grid(False)\n",
    "word_plot.set_xlim(tsne_xlim)\n",
    "word_plot.set_ylim(tsne_ylim)\n",
    "sns.despine(bottom=False, left=False, right=True, top=True)\n",
    "#word_plot.set_xticks([])\n",
    "#word_plot.set_yticks([])\n",
    "# Line from white to black\n",
    "hptutil.draw_arrow(tsne_df, \"white\", \"black\")\n",
    "hptutil.draw_arrow(tsne_df, \"master\", \"slave\")\n",
    "hptutil.draw_arrow(tsne_df, \"whitemaster\", \"blackslave\")\n",
    "hptutil.draw_arrow(tsne_df, \"man\", \"woman\", lstyle=\"--\")\n",
    "#plt.arrow(0.99,1.76,1,1,width=0.01,head_width=0.1,head_length=0.1,length_includes_head=True,color='black')\n",
    "#plt.annotate(\"\", xy=(0.99, 1.76), xytext=(1.96, -0.45), arrowprops=dict(arrowstyle=\"->\",color='black'))\n",
    "word_plot.set_title(\"Word Embeddings for WPA Slave Narrative Collection\", fontdict={'size':14})\n",
    "hptutil.label_points(tsne_df['x'], tsne_df['y'], tsne_df.index, plt.gca(), x_offset=0.01, adjustments=label_adj)\n",
    "plt.tight_layout()"
   ],
   "metadata": {
    "collapsed": false,
    "pycharm": {
     "name": "#%%\n"
    }
   }
  },
  {
   "cell_type": "code",
   "execution_count": 61,
   "outputs": [
    {
     "data": {
      "text/plain": "-8.394489"
     },
     "execution_count": 61,
     "metadata": {},
     "output_type": "execute_result"
    }
   ],
   "source": [
    "tsne_df.loc['poor','y']"
   ],
   "metadata": {
    "collapsed": false,
    "pycharm": {
     "name": "#%%\n"
    }
   }
  },
  {
   "cell_type": "code",
   "execution_count": 62,
   "outputs": [],
   "source": [
    "# Trying this...\n",
    "#logx_df = tsne_df.copy()\n",
    "#logx_df['x'] = logx_df['x'].apply(np.log)\n",
    "##logx_df['y'] = log_df['y'].apply(np.log)\n",
    "#logx_df"
   ],
   "metadata": {
    "collapsed": false,
    "pycharm": {
     "name": "#%%\n"
    }
   }
  },
  {
   "cell_type": "code",
   "execution_count": 63,
   "outputs": [
    {
     "name": "stdout",
     "output_type": "stream",
     "text": [
      "[Arrow()] self.dash_str = \n",
      "[Arrow()] self.dash_str = \n",
      "[Arrow()] self.dash_str = dashed,\n",
      "[Arrow()] self.dash_str = \n",
      "[Arrow()] self.dash_str = \n",
      "[Arrow()] self.dash_str = dashed,\n"
     ]
    }
   ],
   "source": [
    "# To latex\n",
    "arrow_data = [\n",
    "    {'pointA': 'man', 'pointB': 'woman', 'linestyle': '', 'arrowtype': '->'},\n",
    "    #{'pointA': 'master', 'pointB': 'slave', 'linestyle': 'dashed', 'arrowtype': '->'},\n",
    "    #{'pointA': 'white', 'pointB': 'black', 'linestyle': 'dashed', 'arrowtype': '->'},\n",
    "    {'pointA': 'whitemaster', 'pointB': 'blackslave', 'linestyle': '', 'arrowtype': '->'},\n",
    "    {'pointA': 'whitemaster', 'pointB': 'intersect', 'linestyle': 'dashed', 'arrowtype': '-'},\n",
    "]\n",
    "label_data = {\n",
    "    'slave': {'anchor': 'south', 'xshift': 0.0, 'yshift': 0.0},\n",
    "    'black': {'anchor': 'south'},\n",
    "    'master': {'anchor': 'north', 'xshift': 12.0, 'yshift': 0.0},\n",
    "    'woman': {'anchor': 'south', 'xshift': 2.0, 'yshift': 0.0, 'formatted': '${\\\\large \\\\entpgf{woman}}$'},\n",
    "    'man': {'yshift': -2.0, 'formatted': '${\\\\large \\\\entpgf{man}}$'},\n",
    "    'child': {'anchor': 'south'},\n",
    "    'whitemaster': {'formatted': '${\\\\large \\\\entpgf{white} \\\\bowtie \\\\entpgf{master}}$',\n",
    "                    'xshift': 8.0, 'yshift': 4.0, 'anchor': 'south'},\n",
    "    'blackslave': {'formatted': '${\\\\large \\\\entpgf{black} \\\\bowtie \\\\entpgf{slave}}$', 'yshift': 0.0, 'anchor': 'south'},\n",
    "    'intersect': {'draw_point': False, 'formatted': f'\\\\large $\\\\theta \\\\approx {theta_degrees}^\\circ$',\n",
    "                  'anchor': 'north', 'xshift': -29.0},\n",
    "}\n",
    "# Self-contained version\n",
    "tsne_tex_standalone = hptutil.custom_latex_export(tsne_df, label_data=label_data, arrow_data=arrow_data,\n",
    "                                       self_contained=True, pad_pct=0.1)\n",
    "tex_standalone_fpath = \"./tsne_standalone.tex\"\n",
    "with open(tex_standalone_fpath, 'w', encoding='utf-8') as outfile:\n",
    "    outfile.write(tsne_tex_standalone)\n",
    "# Version for paper\n",
    "tsne_tex = hptutil.custom_latex_export(tsne_df, label_data=label_data, arrow_data=arrow_data,\n",
    "                                                  self_contained=False, pad_pct=0.1)\n",
    "tex_output_fpath = os.path.join(fig_path, \"wpa_tsne_morewords.tex\")\n",
    "with open(tex_output_fpath, 'w', encoding='utf-8') as outfile:\n",
    "    outfile.write(tsne_tex)"
   ],
   "metadata": {
    "collapsed": false,
    "pycharm": {
     "name": "#%%\n"
    }
   }
  },
  {
   "cell_type": "code",
   "execution_count": 64,
   "outputs": [],
   "source": [
    "# Save to file\n",
    "tsne_df.to_csv(\"./wpa_vecs_tsne.csv\")\n",
    "tsne_df_full.to_csv(\"./wpa_vecs_tsne_full.csv\")"
   ],
   "metadata": {
    "collapsed": false,
    "pycharm": {
     "name": "#%%\n"
    }
   }
  },
  {
   "cell_type": "markdown",
   "source": [
    "## Now with projection!"
   ],
   "metadata": {
    "collapsed": false,
    "pycharm": {
     "name": "#%% md\n"
    }
   }
  },
  {
   "cell_type": "code",
   "execution_count": 65,
   "outputs": [
    {
     "data": {
      "text/plain": "<Figure size 864x576 with 1 Axes>",
      "image/png": "[encoded data removed]"
     },
     "metadata": {},
     "output_type": "display_data"
    }
   ],
   "source": [
    "# Plot tSNE like it's the 2d space\n",
    "set_seaborn_style()\n",
    "plt.figure(figsize=(12,8))\n",
    "word_plot = sns.scatterplot(data=tsne_df,x='x',y='y')\n",
    "word_plot.grid(False)\n",
    "word_plot.set_xlim(tsne_xlim)\n",
    "word_plot.set_ylim(tsne_ylim)\n",
    "sns.despine(bottom=False, left=False, right=True, top=True)\n",
    "#word_plot.set_xticks([])\n",
    "#word_plot.set_yticks([])\n",
    "# Line from white to black\n",
    "hptutil.draw_arrow(tsne_df, \"white\", \"black\")\n",
    "hptutil.draw_arrow(tsne_df, \"master\", \"slave\")\n",
    "hptutil.draw_arrow(tsne_df, \"whitemaster\", \"blackslave\")\n",
    "hptutil.draw_arrow(tsne_df, \"man\", \"woman\", lstyle=\"--\")\n",
    "#plt.arrow(0.99,1.76,1,1,width=0.01,head_width=0.1,head_length=0.1,length_includes_head=True,color='black')\n",
    "#plt.annotate(\"\", xy=(0.99, 1.76), xytext=(1.96, -0.45), arrowprops=dict(arrowstyle=\"->\",color='black'))\n",
    "word_plot.set_title(\"Word Embeddings for WPA Slave Narrative Collection\", fontdict={'size':14})\n",
    "hptutil.label_points(tsne_df['x'], tsne_df['y'], tsne_df.index, plt.gca(), x_offset=0.01, adjustments=label_adj)\n",
    "plt.tight_layout()"
   ],
   "metadata": {
    "collapsed": false,
    "pycharm": {
     "name": "#%%\n"
    }
   }
  },
  {
   "cell_type": "code",
   "execution_count": 66,
   "outputs": [],
   "source": [
    "gender_vec_np = np.array(gender_vec)\n",
    "#np.dot(tsne_df.loc['child'], gender_vec)"
   ],
   "metadata": {
    "collapsed": false,
    "pycharm": {
     "name": "#%%\n"
    }
   }
  },
  {
   "cell_type": "code",
   "execution_count": 67,
   "outputs": [],
   "source": [
    "def normalize_vector(orig_vec):\n",
    "    return orig_vec / np.sqrt(np.sum(orig_vec ** 2))"
   ],
   "metadata": {
    "collapsed": false,
    "pycharm": {
     "name": "#%%\n"
    }
   }
  },
  {
   "cell_type": "code",
   "execution_count": 68,
   "outputs": [],
   "source": [
    "gender_vec_norm = normalize_vector(gender_vec_np)\n",
    "race_vec_norm = normalize_vector(race_vec)"
   ],
   "metadata": {
    "collapsed": false,
    "pycharm": {
     "name": "#%%\n"
    }
   }
  },
  {
   "cell_type": "markdown",
   "source": [
    "## Gender coords"
   ],
   "metadata": {
    "collapsed": false,
    "pycharm": {
     "name": "#%% md\n"
    }
   }
  },
  {
   "cell_type": "code",
   "execution_count": 69,
   "outputs": [
    {
     "data": {
      "text/plain": "                     x         y                      vec\nman          49.807411 -0.213680  [49.80741, -0.21368003]\nwoman        53.393616 -3.961056  [53.393616, -3.9610562]\nmaster       49.613235 -1.007129  [49.613235, -1.0071291]\nblack        44.174366 -8.286601   [44.174366, -8.286601]\nslave        43.263889 -6.071627    [43.26389, -6.071627]\nwhite        45.466774 -9.030346   [45.466774, -9.030346]\nchild        52.866508 -5.140674   [52.86651, -5.1406736]\nbaby         54.070774 -5.793362  [54.070774, -5.7933617]\npoor         38.852177 -8.394489   [38.852177, -8.394489]\nrich         44.761120 -2.535480   [44.76112, -2.5354805]\nwhitemaster  47.540005 -5.018737  [47.540005, -5.0187373]\nblackslave   43.719128 -7.179114  [43.719128, -7.1791143]\nintersect    51.995144 -2.499734  [51.995144, -2.4997342]",
      "text/html": "<div>\n<style scoped>\n    .dataframe tbody tr th:only-of-type {\n        vertical-align: middle;\n    }\n\n    .dataframe tbody tr th {\n        vertical-align: top;\n    }\n\n    .dataframe thead th {\n        text-align: right;\n    }\n</style>\n<table border=\"1\" class=\"dataframe\">\n  <thead>\n    <tr style=\"text-align: right;\">\n      <th></th>\n      <th>x</th>\n      <th>y</th>\n      <th>vec</th>\n    </tr>\n  </thead>\n  <tbody>\n    <tr>\n      <th>man</th>\n      <td>49.807411</td>\n      <td>-0.213680</td>\n      <td>[49.80741, -0.21368003]</td>\n    </tr>\n    <tr>\n      <th>woman</th>\n      <td>53.393616</td>\n      <td>-3.961056</td>\n      <td>[53.393616, -3.9610562]</td>\n    </tr>\n    <tr>\n      <th>master</th>\n      <td>49.613235</td>\n      <td>-1.007129</td>\n      <td>[49.613235, -1.0071291]</td>\n    </tr>\n    <tr>\n      <th>black</th>\n      <td>44.174366</td>\n      <td>-8.286601</td>\n      <td>[44.174366, -8.286601]</td>\n    </tr>\n    <tr>\n      <th>slave</th>\n      <td>43.263889</td>\n      <td>-6.071627</td>\n      <td>[43.26389, -6.071627]</td>\n    </tr>\n    <tr>\n      <th>white</th>\n      <td>45.466774</td>\n      <td>-9.030346</td>\n      <td>[45.466774, -9.030346]</td>\n    </tr>\n    <tr>\n      <th>child</th>\n      <td>52.866508</td>\n      <td>-5.140674</td>\n      <td>[52.86651, -5.1406736]</td>\n    </tr>\n    <tr>\n      <th>baby</th>\n      <td>54.070774</td>\n      <td>-5.793362</td>\n      <td>[54.070774, -5.7933617]</td>\n    </tr>\n    <tr>\n      <th>poor</th>\n      <td>38.852177</td>\n      <td>-8.394489</td>\n      <td>[38.852177, -8.394489]</td>\n    </tr>\n    <tr>\n      <th>rich</th>\n      <td>44.761120</td>\n      <td>-2.535480</td>\n      <td>[44.76112, -2.5354805]</td>\n    </tr>\n    <tr>\n      <th>whitemaster</th>\n      <td>47.540005</td>\n      <td>-5.018737</td>\n      <td>[47.540005, -5.0187373]</td>\n    </tr>\n    <tr>\n      <th>blackslave</th>\n      <td>43.719128</td>\n      <td>-7.179114</td>\n      <td>[43.719128, -7.1791143]</td>\n    </tr>\n    <tr>\n      <th>intersect</th>\n      <td>51.995144</td>\n      <td>-2.499734</td>\n      <td>[51.995144, -2.4997342]</td>\n    </tr>\n  </tbody>\n</table>\n</div>"
     },
     "execution_count": 69,
     "metadata": {},
     "output_type": "execute_result"
    }
   ],
   "source": [
    "tsne_df['vec'] = tsne_df.apply(lambda row: np.array([row['x'],row['y']]), axis=1)\n",
    "tsne_df"
   ],
   "metadata": {
    "collapsed": false,
    "pycharm": {
     "name": "#%%\n"
    }
   }
  },
  {
   "cell_type": "code",
   "execution_count": 70,
   "outputs": [],
   "source": [
    "def get_coord(raw_vec, normed_unit_vec):\n",
    "    normalized_vec = normalize_vector(raw_vec)\n",
    "    return normed_unit_vec * np.dot(normalized_vec, normed_unit_vec)\n",
    "\n",
    "def ortho_projection(orig_vec, unit_vec):\n",
    "    return np.dot(orig_vec, unit_vec) / np.dot(unit_vec, unit_vec)\n",
    "\n",
    "#tsne_df['gender_coord'] = tsne_df['vec'].apply(lambda x: get_coord(x, gender_vec_norm))\n",
    "#tsne_df['race_coord'] = tsne_df['vec'].apply(lambda x: get_coord(x, race_vec_norm))\n",
    "tsne_df['ortho_proj_gender'] = tsne_df['vec'].apply(lambda x: ortho_projection(x, gender_vec))\n",
    "tsne_df['ortho_proj_race'] = tsne_df['vec'].apply(lambda x: ortho_projection(x, race_vec))"
   ],
   "metadata": {
    "collapsed": false,
    "pycharm": {
     "name": "#%%\n"
    }
   }
  },
  {
   "cell_type": "code",
   "execution_count": 71,
   "outputs": [
    {
     "data": {
      "text/plain": "                     x         y                      vec  ortho_proj_gender  \\\nman          49.807411 -0.213680  [49.80741, -0.21368003]           6.668985   \nwoman        53.393616 -3.961056  [53.393616, -3.9610562]           7.668985   \nmaster       49.613235 -1.007129  [49.613235, -1.0071291]           6.753620   \nblack        44.174366 -8.286601   [44.174366, -8.286601]           7.042577   \nslave        43.263889 -6.071627    [43.26389, -6.071627]           6.612692   \nwhite        45.466774 -9.030346   [45.466774, -9.030346]           7.318448   \nchild        52.866508 -5.140674   [52.86651, -5.1406736]           7.763030   \nbaby         54.070774 -5.793362  [54.070774, -5.7933617]           8.014468   \npoor         38.852177 -8.394489   [38.852177, -8.394489]           6.348168   \nrich         44.761120 -2.535480   [44.76112, -2.5354805]           6.319726   \nwhitemaster  47.540005 -5.018737  [47.540005, -5.0187373]           7.036034   \nblackslave   43.719128 -7.179114  [43.719128, -7.1791143]           6.827635   \nintersect    51.995144 -2.499734  [51.995144, -2.4997342]           7.279027   \n\n             ortho_proj_race  \nman                -9.853790  \nwoman             -10.144799  \nmaster             -9.726309  \nblack              -7.831416  \nslave              -7.899220  \nwhite              -8.004327  \nchild              -9.907991  \nbaby              -10.073633  \npoor               -6.763826  \nrich               -8.592666  \nwhitemaster        -8.865318  \nblackslave         -7.865318  \nintersect         -10.031318  ",
      "text/html": "<div>\n<style scoped>\n    .dataframe tbody tr th:only-of-type {\n        vertical-align: middle;\n    }\n\n    .dataframe tbody tr th {\n        vertical-align: top;\n    }\n\n    .dataframe thead th {\n        text-align: right;\n    }\n</style>\n<table border=\"1\" class=\"dataframe\">\n  <thead>\n    <tr style=\"text-align: right;\">\n      <th></th>\n      <th>x</th>\n      <th>y</th>\n      <th>vec</th>\n      <th>ortho_proj_gender</th>\n      <th>ortho_proj_race</th>\n    </tr>\n  </thead>\n  <tbody>\n    <tr>\n      <th>man</th>\n      <td>49.807411</td>\n      <td>-0.213680</td>\n      <td>[49.80741, -0.21368003]</td>\n      <td>6.668985</td>\n      <td>-9.853790</td>\n    </tr>\n    <tr>\n      <th>woman</th>\n      <td>53.393616</td>\n      <td>-3.961056</td>\n      <td>[53.393616, -3.9610562]</td>\n      <td>7.668985</td>\n      <td>-10.144799</td>\n    </tr>\n    <tr>\n      <th>master</th>\n      <td>49.613235</td>\n      <td>-1.007129</td>\n      <td>[49.613235, -1.0071291]</td>\n      <td>6.753620</td>\n      <td>-9.726309</td>\n    </tr>\n    <tr>\n      <th>black</th>\n      <td>44.174366</td>\n      <td>-8.286601</td>\n      <td>[44.174366, -8.286601]</td>\n      <td>7.042577</td>\n      <td>-7.831416</td>\n    </tr>\n    <tr>\n      <th>slave</th>\n      <td>43.263889</td>\n      <td>-6.071627</td>\n      <td>[43.26389, -6.071627]</td>\n      <td>6.612692</td>\n      <td>-7.899220</td>\n    </tr>\n    <tr>\n      <th>white</th>\n      <td>45.466774</td>\n      <td>-9.030346</td>\n      <td>[45.466774, -9.030346]</td>\n      <td>7.318448</td>\n      <td>-8.004327</td>\n    </tr>\n    <tr>\n      <th>child</th>\n      <td>52.866508</td>\n      <td>-5.140674</td>\n      <td>[52.86651, -5.1406736]</td>\n      <td>7.763030</td>\n      <td>-9.907991</td>\n    </tr>\n    <tr>\n      <th>baby</th>\n      <td>54.070774</td>\n      <td>-5.793362</td>\n      <td>[54.070774, -5.7933617]</td>\n      <td>8.014468</td>\n      <td>-10.073633</td>\n    </tr>\n    <tr>\n      <th>poor</th>\n      <td>38.852177</td>\n      <td>-8.394489</td>\n      <td>[38.852177, -8.394489]</td>\n      <td>6.348168</td>\n      <td>-6.763826</td>\n    </tr>\n    <tr>\n      <th>rich</th>\n      <td>44.761120</td>\n      <td>-2.535480</td>\n      <td>[44.76112, -2.5354805]</td>\n      <td>6.319726</td>\n      <td>-8.592666</td>\n    </tr>\n    <tr>\n      <th>whitemaster</th>\n      <td>47.540005</td>\n      <td>-5.018737</td>\n      <td>[47.540005, -5.0187373]</td>\n      <td>7.036034</td>\n      <td>-8.865318</td>\n    </tr>\n    <tr>\n      <th>blackslave</th>\n      <td>43.719128</td>\n      <td>-7.179114</td>\n      <td>[43.719128, -7.1791143]</td>\n      <td>6.827635</td>\n      <td>-7.865318</td>\n    </tr>\n    <tr>\n      <th>intersect</th>\n      <td>51.995144</td>\n      <td>-2.499734</td>\n      <td>[51.995144, -2.4997342]</td>\n      <td>7.279027</td>\n      <td>-10.031318</td>\n    </tr>\n  </tbody>\n</table>\n</div>"
     },
     "execution_count": 71,
     "metadata": {},
     "output_type": "execute_result"
    }
   ],
   "source": [
    "tsne_df"
   ],
   "metadata": {
    "collapsed": false,
    "pycharm": {
     "name": "#%%\n"
    }
   }
  },
  {
   "cell_type": "code",
   "execution_count": 72,
   "outputs": [],
   "source": [
    "# Old: 0-1 scaling\n",
    "def scale_coord(raw_coord, scale_min, scale_max):\n",
    "    scale_numer = raw_coord - scale_min\n",
    "    scale_denom = scale_max - scale_min\n",
    "    return scale_numer / scale_denom\n",
    "\n",
    "def scale_coords():\n",
    "    gender_min = tsne_df['gender_coord'].min()\n",
    "    gender_max = tsne_df['gender_coord'].max()\n",
    "    race_min = tsne_df['race_coord'].min()\n",
    "    race_max = tsne_df['race_coord'].max()\n",
    "    tsne_df['gender_coord_scaled'] = tsne_df['gender_coord'].apply(lambda x: scale_coord(x, gender_min, gender_max))\n",
    "    tsne_df['race_coord_scaled'] = tsne_df['race_coord'].apply(lambda x: scale_coord(x, race_min, race_max))"
   ],
   "metadata": {
    "collapsed": false,
    "pycharm": {
     "name": "#%%\n"
    }
   }
  },
  {
   "cell_type": "code",
   "execution_count": 73,
   "outputs": [],
   "source": [
    "# New: just center at 0\n",
    "tsne_df['gender_coord'] = tsne_df['ortho_proj_gender'] - tsne_df['ortho_proj_gender'].mean()\n",
    "tsne_df['race_coord'] = tsne_df['ortho_proj_race'] - tsne_df['ortho_proj_race'].mean()"
   ],
   "metadata": {
    "collapsed": false,
    "pycharm": {
     "name": "#%%\n"
    }
   }
  },
  {
   "cell_type": "code",
   "execution_count": 74,
   "outputs": [
    {
     "data": {
      "text/plain": "<Figure size 864x576 with 1 Axes>",
      "image/png": "[encoded data removed]"
     },
     "metadata": {},
     "output_type": "display_data"
    }
   ],
   "source": [
    "# Plot tSNE like it's the 2d space\n",
    "#xvar = 'ortho_proj_race'\n",
    "xvar = 'race_coord'\n",
    "#yvar = 'ortho_proj_gender'\n",
    "yvar = 'gender_coord'\n",
    "set_seaborn_style()\n",
    "plt.figure(figsize=(12,8))\n",
    "word_plot = sns.scatterplot(data=tsne_df,x=xvar,y=yvar)\n",
    "word_plot.grid(False)\n",
    "#word_plot.set_xlim((-0.1,1.1))\n",
    "#word_plot.set_ylim((-0.1,1.1))\n",
    "sns.despine(bottom=False, left=False, right=True, top=True)\n",
    "#word_plot.set_xticks([])\n",
    "#word_plot.set_yticks([])\n",
    "# Line from white to black\n",
    "hptutil.draw_arrow(tsne_df, \"white\", \"black\")\n",
    "hptutil.draw_arrow(tsne_df, \"master\", \"slave\")\n",
    "hptutil.draw_arrow(tsne_df, \"whitemaster\", \"blackslave\")\n",
    "hptutil.draw_arrow(tsne_df, \"man\", \"woman\", lstyle=\"--\")\n",
    "#plt.arrow(0.99,1.76,1,1,width=0.01,head_width=0.1,head_length=0.1,length_includes_head=True,color='black')\n",
    "#plt.annotate(\"\", xy=(0.99, 1.76), xytext=(1.96, -0.45), arrowprops=dict(arrowstyle=\"->\",color='black'))\n",
    "word_plot.set_title(\"Word Embeddings for WPA Slave Narrative Collection\", fontdict={'size':14})\n",
    "hptutil.label_points(tsne_df[xvar], tsne_df[yvar], tsne_df.index, plt.gca(), x_offset=0.01)\n",
    "plt.tight_layout()"
   ],
   "metadata": {
    "collapsed": false,
    "pycharm": {
     "name": "#%%\n"
    }
   }
  },
  {
   "cell_type": "code",
   "execution_count": 75,
   "outputs": [],
   "source": [
    "# Cool. So, just drop the original x/y, and now these coords are the x/y\n",
    "tsne_df['x'] = tsne_df['race_coord']\n",
    "tsne_df['y'] = tsne_df['gender_coord']"
   ],
   "metadata": {
    "collapsed": false,
    "pycharm": {
     "name": "#%%\n"
    }
   }
  },
  {
   "cell_type": "code",
   "execution_count": 76,
   "outputs": [
    {
     "name": "stdout",
     "output_type": "stream",
     "text": [
      "[Arrow()] self.dash_str = \n",
      "[Arrow()] self.dash_str = \n",
      "[Arrow()] self.dash_str = dashed,\n",
      "[Arrow()] self.dash_str = \n",
      "[Arrow()] self.dash_str = \n",
      "[Arrow()] self.dash_str = dashed,\n"
     ]
    }
   ],
   "source": [
    "# LaTeX for this version, where the axes are now meaningful\n",
    "# To latex\n",
    "arrow_data = [\n",
    "    {'pointA': 'man', 'pointB': 'woman', 'linestyle': '', 'arrowtype': '->'},\n",
    "    #{'pointA': 'master', 'pointB': 'slave', 'linestyle': 'dashed', 'arrowtype': '->'},\n",
    "    #{'pointA': 'white', 'pointB': 'black', 'linestyle': 'dashed', 'arrowtype': '->'},\n",
    "    {'pointA': 'whitemaster', 'pointB': 'blackslave', 'linestyle': '', 'arrowtype': '->'},\n",
    "    {'pointA': 'whitemaster', 'pointB': 'intersect', 'linestyle': 'dashed', 'arrowtype': '-'},\n",
    "]\n",
    "label_data = {\n",
    "    'slave': {'anchor': 'south', 'xshift': 0.0, 'yshift': 0.0},\n",
    "    'black': {'anchor': 'south'},\n",
    "    'master': {'anchor': 'north', 'xshift': 12.0, 'yshift': 0.0},\n",
    "    'woman': {'anchor': 'south', 'xshift': 2.0, 'yshift': 0.0, 'formatted': '${\\\\large \\\\entpgf{woman}}$'},\n",
    "    'man': {'yshift': -2.0, 'formatted': '${\\\\large \\\\entpgf{man}}$'},\n",
    "    'child': {'anchor': 'south'},\n",
    "    'whitemaster': {'formatted': '${\\\\large \\\\entpgf{white} \\\\bowtie \\\\entpgf{master}}$',\n",
    "                    'xshift': 8.0, 'yshift': 4.0, 'anchor': 'south'},\n",
    "    'blackslave': {'formatted': '${\\\\large \\\\entpgf{black} \\\\bowtie \\\\entpgf{slave}}$', 'yshift': 0.0, 'anchor': 'south'},\n",
    "    'intersect': {'draw_point': False, 'formatted': f'\\\\large $\\\\theta \\\\approx {theta_degrees}^\\circ$',\n",
    "                  'anchor': 'north', 'xshift': -29.0},\n",
    "}\n",
    "axis_options = {\n",
    "    'xlabel': 'Race Dimension',\n",
    "    'ylabel': 'Gender Dimension'\n",
    "}\n",
    "# Self-contained version\n",
    "tsne_tex_standalone = hptutil.custom_latex_export(tsne_df, label_data=label_data, arrow_data=arrow_data,\n",
    "                                                  self_contained=True, pad_pct=0.1, axis_options=axis_options)\n",
    "tex_standalone_fpath = \"./tsne_standalone_projected.tex\"\n",
    "with open(tex_standalone_fpath, 'w', encoding='utf-8') as outfile:\n",
    "    outfile.write(tsne_tex_standalone)\n",
    "# Version for paper\n",
    "tsne_tex = hptutil.custom_latex_export(tsne_df, label_data=label_data, arrow_data=arrow_data,\n",
    "                                       self_contained=False, pad_pct=0.1)\n",
    "tex_output_fpath = os.path.join(fig_path, \"wpa_tsne_projected.tex\")\n",
    "with open(tex_output_fpath, 'w', encoding='utf-8') as outfile:\n",
    "    outfile.write(tsne_tex)"
   ],
   "metadata": {
    "collapsed": false,
    "pycharm": {
     "name": "#%%\n"
    }
   }
  },
  {
   "cell_type": "code",
   "execution_count": 76,
   "outputs": [],
   "source": [],
   "metadata": {
    "collapsed": false,
    "pycharm": {
     "name": "#%%\n"
    }
   }
  },
  {
   "cell_type": "code",
   "execution_count": 76,
   "outputs": [],
   "source": [],
   "metadata": {
    "collapsed": false,
    "pycharm": {
     "name": "#%%\n"
    }
   }
  },
  {
   "cell_type": "code",
   "execution_count": 76,
   "outputs": [],
   "source": [],
   "metadata": {
    "collapsed": false,
    "pycharm": {
     "name": "#%%\n"
    }
   }
  }
 ],
 "metadata": {
  "kernelspec": {
   "display_name": "Python 3",
   "language": "python",
   "name": "python3"
  },
  "language_info": {
   "codemirror_mode": {
    "name": "ipython",
    "version": 2
   },
   "file_extension": ".py",
   "mimetype": "text/x-python",
   "name": "python",
   "nbconvert_exporter": "python",
   "pygments_lexer": "ipython2",
   "version": "2.7.6"
  }
 },
 "nbformat": 4,
 "nbformat_minor": 0
}