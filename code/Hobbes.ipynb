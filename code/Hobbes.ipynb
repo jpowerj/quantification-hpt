{
 "cells": [
  {
   "cell_type": "code",
   "execution_count": 2,
   "outputs": [],
   "source": [
    "from collections import Counter\n",
    "from collections import defaultdict\n",
    "import itertools\n",
    "import math\n",
    "import os\n",
    "\n",
    "import nltk\n",
    "import pandas as pd\n",
    "import numpy as np\n",
    "import matplotlib.pyplot as plt\n",
    "import seaborn as sns\n",
    "import pyperclip\n",
    "from gensim.corpora import Dictionary\n",
    "from gensim.models import Word2Vec"
   ],
   "metadata": {
    "collapsed": false,
    "pycharm": {
     "name": "#%%\n"
    }
   }
  },
  {
   "cell_type": "code",
   "execution_count": 3,
   "outputs": [],
   "source": [
    "# Seaborn globals\n",
    "sns.set(rc={'figure.figsize':(10,6)})\n",
    "sns.set_theme(style=\"whitegrid\")\n",
    "\n",
    "# Path globals\n",
    "fig_path = \"../figs/\""
   ],
   "metadata": {
    "collapsed": false,
    "pycharm": {
     "name": "#%%\n"
    }
   }
  },
  {
   "cell_type": "markdown",
   "source": [
    "### Global Functions"
   ],
   "metadata": {
    "collapsed": false,
    "pycharm": {
     "name": "#%% md\n"
    }
   }
  },
  {
   "cell_type": "code",
   "execution_count": 4,
   "outputs": [],
   "source": [
    "def get_embedding_df(w2v_model):\n",
    "    w2v_rows = []\n",
    "    for cur_kw in keywords:\n",
    "        if cur_kw not in w2v_model.wv:\n",
    "            continue\n",
    "        cur_vec = w2v_model.wv[cur_kw]\n",
    "        cur_row = [cur_kw] + list(cur_vec)\n",
    "        w2v_rows.append(cur_row)\n",
    "    w2v_df = pd.DataFrame(w2v_rows, columns=['token','x','y'])\n",
    "    return w2v_df\n",
    "\n",
    "def label_points(x, y, val, ax, x_offset=0.015, adjustments=None):\n",
    "    label_df = pd.concat({'x': x, 'y': y, 'label': val}, axis=1)\n",
    "    if adjustments:\n",
    "        # And adjust the vals accordingly\n",
    "        label_df.set_index('label', inplace=True)\n",
    "        for adj_word, adj_shift in adjustments.items():\n",
    "            if adj_word in label_df.index:\n",
    "                label_df.loc[adj_word] = label_df.loc[adj_word] + adj_shift\n",
    "        label_df.reset_index(inplace=True)\n",
    "    for i, point in label_df.iterrows():\n",
    "        ax.text(point['x']+x_offset, point['y'], str(point['label']), va='center', fontdict={'size':13})\n",
    "\n",
    "def copy_colab_str(word_vecs):\n",
    "    colab_str = str([[ti for ti in t] for t in word_vecs.values])\n",
    "    pyperclip.copy(colab_str)"
   ],
   "metadata": {
    "collapsed": false,
    "pycharm": {
     "name": "#%%\n"
    }
   }
  },
  {
   "cell_type": "markdown",
   "source": [
    "### Global Variables"
   ],
   "metadata": {
    "collapsed": false,
    "pycharm": {
     "name": "#%% md\n"
    }
   }
  },
  {
   "cell_type": "code",
   "execution_count": 5,
   "outputs": [],
   "source": [
    "#global_window = 21\n",
    "global_window = 11\n",
    "global_epochs = 50"
   ],
   "metadata": {
    "collapsed": false,
    "pycharm": {
     "name": "#%%\n"
    }
   }
  },
  {
   "cell_type": "markdown",
   "source": [
    "### Define keywords"
   ],
   "metadata": {
    "collapsed": false,
    "pycharm": {
     "name": "#%% md\n"
    }
   }
  },
  {
   "cell_type": "code",
   "execution_count": 6,
   "outputs": [],
   "source": [
    "keywords = [\n",
    "    #'covenant',\n",
    "    #'god',\n",
    "    'authority',\n",
    "    'christ',\n",
    "    'civill',\n",
    "    'common-wealth',\n",
    "    #'duty',\n",
    "    #'externall',\n",
    "    'externall_impediment',\n",
    "    'fear',\n",
    "    'free',\n",
    "    'government',\n",
    "    'holy',\n",
    "    #'impediment',\n",
    "    #'internall',\n",
    "    #'judge',\n",
    "    'justice',\n",
    "    'king',\n",
    "    'kingdome',\n",
    "    'law',\n",
    "    'liberty',\n",
    "    'lord',\n",
    "    #'man',\n",
    "    'obey',\n",
    "    'power',\n",
    "    #'reason',\n",
    "    'soveraign',\n",
    "    #'subject'\n",
    "    #'supreme',\n",
    "    #'obligation',\n",
    "    #'right',\n",
    "    #'nature',\n",
    "]\n",
    "\n",
    "join_tokens = [\n",
    "    ('externall','impediment'),\n",
    "]\n",
    "\n",
    "token_clusters = [\n",
    "    ['christ','jesus'],\n",
    "    ['externall','external'],\n",
    "    ['fear','feare','feared','fears','fearing','feares','fearfull','feareth','feare—'],\n",
    "    ['free','freely','freedome','free-will','freewill'],\n",
    "    ['god','gods'],\n",
    "    ['impediment','impediments'],\n",
    "    ['internall','internal'],\n",
    "    ['king','kings'],\n",
    "    ['law','laws','lawes'],\n",
    "    ['liberty', 'libertie', 'libertatis', 'libertas'],\n",
    "    ['man','men'],\n",
    "    ['obey', 'obedience'],\n",
    "    ['soveraign','soveraignty','soveraigne'],\n",
    "    ['subject','subjects'],\n",
    "]\n",
    "cluster_map = {}\n",
    "for cur_cluster in token_clusters:\n",
    "    cluster_main = cur_cluster[0]\n",
    "    for cur_token in cur_cluster:\n",
    "        cluster_map[cur_token] = cluster_main\n",
    "kw_pairs = list(itertools.combinations_with_replacement(keywords, 2))\n",
    "#kw_pairs"
   ],
   "metadata": {
    "collapsed": false,
    "pycharm": {
     "name": "#%%\n"
    }
   }
  },
  {
   "cell_type": "markdown",
   "source": [
    "### Load Texts"
   ],
   "metadata": {
    "collapsed": false,
    "pycharm": {
     "name": "#%% md\n"
    }
   }
  },
  {
   "cell_type": "code",
   "execution_count": 7,
   "outputs": [],
   "source": [
    "text_path = os.path.join(\"..\",\"corpus_hobbes\")\n",
    "default_texts = ['behemoth', 'de_cive', 'elements', 'leviathan']\n",
    "def load_texts(text_list=default_texts):\n",
    "    raw_texts = []\n",
    "    for text_name in text_list:\n",
    "        fname = f\"{text_name}.txt\"\n",
    "        fpath = os.path.join(text_path, fname)\n",
    "        with open(fpath, 'r', encoding='utf-8') as infile:\n",
    "            cur_text = infile.read()\n",
    "            raw_texts.append(cur_text)\n",
    "    raw_text = \"\\n\\n\\n\".join(raw_texts)\n",
    "    return raw_text"
   ],
   "metadata": {
    "collapsed": false,
    "pycharm": {
     "name": "#%%\n"
    }
   }
  },
  {
   "cell_type": "code",
   "execution_count": 8,
   "outputs": [],
   "source": [
    "text = load_texts()"
   ],
   "metadata": {
    "collapsed": false,
    "pycharm": {
     "name": "#%%\n"
    }
   }
  },
  {
   "cell_type": "markdown",
   "source": [],
   "metadata": {
    "collapsed": false,
    "pycharm": {
     "name": "#%% md\n"
    }
   }
  },
  {
   "cell_type": "code",
   "execution_count": 9,
   "outputs": [],
   "source": [
    "clean_text = text.lower()"
   ],
   "metadata": {
    "collapsed": false,
    "pycharm": {
     "name": "#%%\n"
    }
   }
  },
  {
   "cell_type": "code",
   "execution_count": 10,
   "outputs": [],
   "source": [
    "def preprocess_tokens(token_list):\n",
    "    punct_list = \".,\\\"':!?;()“”’&[]1234567890\"\n",
    "    def remove_punct(token):\n",
    "        return \"\".join([t for t in token if t not in punct_list])\n",
    "    clean_tokens = [remove_punct(t) for t in token_list]\n",
    "    en_stopwords = nltk.corpus.stopwords.words('english')\n",
    "    clean_tokens = [t for t in clean_tokens if t not in en_stopwords]\n",
    "\n",
    "    #cluster_map\n",
    "    def collapse_token(orig_token):\n",
    "        return cluster_map[orig_token] if orig_token in cluster_map else orig_token\n",
    "    clean_tokens = [collapse_token(t) for t in clean_tokens]\n",
    "    # Join phrases\n",
    "    for token_index in range(len(clean_tokens)-1):\n",
    "        cur_token = clean_tokens[token_index]\n",
    "        next_token = clean_tokens[token_index+1]\n",
    "        token_tuple = (cur_token, next_token)\n",
    "        if cur_token == \"externall\" or next_token == \"externall\":\n",
    "            print(cur_token, next_token)\n",
    "        if (cur_token, next_token) in join_tokens:\n",
    "            print(f\"Joining {token_tuple}\")\n",
    "            clean_tokens[token_index] = cur_token + \"_\" + next_token\n",
    "            clean_tokens[token_index+1] = \"\"\n",
    "    # Lastly, remove any blank tokens\n",
    "    clean_tokens = [t for t in clean_tokens if len(t) > 0]\n",
    "    return clean_tokens"
   ],
   "metadata": {
    "collapsed": false,
    "pycharm": {
     "name": "#%%\n"
    }
   }
  },
  {
   "cell_type": "markdown",
   "source": [
    "## Method 1: Tokenize words (ignoring sentence structure)"
   ],
   "metadata": {
    "collapsed": false,
    "pycharm": {
     "name": "#%% md\n"
    }
   }
  },
  {
   "cell_type": "code",
   "execution_count": 11,
   "outputs": [],
   "source": [
    "tokens = clean_text.split()"
   ],
   "metadata": {
    "collapsed": false,
    "pycharm": {
     "name": "#%%\n"
    }
   }
  },
  {
   "cell_type": "code",
   "execution_count": 12,
   "outputs": [
    {
     "name": "stdout",
     "output_type": "stream",
     "text": [
      "alwayes externall\n",
      "externall court\n",
      "belongs externall\n",
      "externall obey\n",
      "promise externall\n",
      "externall signes\n",
      "lets externall\n",
      "externall absolute\n",
      "produced externall\n",
      "externall agent\n",
      "profession externall\n",
      "externall say\n",
      "internall externall\n",
      "externall rest\n",
      "action externall\n",
      "externall objects\n",
      "already externall\n",
      "externall objects\n",
      "jews externall\n",
      "externall performance\n",
      "religion externall\n",
      "externall worship\n",
      "operatum externall\n",
      "externall action\n",
      "internall externall\n",
      "externall righteousness\n",
      "sense externall\n",
      "externall body\n",
      "motion externall\n",
      "externall things\n",
      "receive externall\n",
      "externall bodies\n",
      "action externall\n",
      "externall objects\n",
      "action externall\n",
      "externall objects\n",
      "helps externall\n",
      "externall women\n",
      "reall externall\n",
      "externall substances\n",
      "absence externall\n",
      "externall impediment\n",
      "Joining ('externall', 'impediment')\n",
      "mean externall\n",
      "externall impediment\n",
      "Joining ('externall', 'impediment')\n",
      "opposition externall\n",
      "externall body\n",
      "without externall\n",
      "externall impediment\n",
      "Joining ('externall', 'impediment')\n",
      "appetite externall\n",
      "externall accidents\n",
      "caused externall\n",
      "externall obstacle\n",
      "dissolved externall\n",
      "externall violence\n",
      "education externall\n",
      "externall signes\n",
      "opinion externall\n",
      "externall signes\n",
      "parts externall\n",
      "externall worship\n",
      "raised externall\n",
      "externall things\n",
      "perceptible externall\n",
      "externall senses\n",
      "self externall\n",
      "externall sign\n",
      "offerings externall\n",
      "externall matter\n",
      "exoteron externall\n",
      "externall darknesse\n",
      "soveraign externall\n",
      "externall acts\n",
      "god externall\n",
      "externall worship\n",
      "tongue externall\n",
      "externall thing\n",
      "authority externall\n",
      "externall actions\n",
      "repentance externall\n",
      "externall marks\n",
      "manners externall\n",
      "externall actions\n",
      "mens externall\n",
      "externall actions\n",
      "law externall\n",
      "externall actions\n",
      "impression externall\n",
      "externall bodies\n",
      "representations externall\n",
      "externall bodies\n",
      "doe externall\n",
      "externall acts\n",
      "doe externall\n",
      "externall honor\n",
      "indulgences externall\n",
      "externall works\n",
      "justification externall\n",
      "externall works\n"
     ]
    }
   ],
   "source": [
    "clean_tokens = preprocess_tokens(tokens)"
   ],
   "metadata": {
    "collapsed": false,
    "pycharm": {
     "name": "#%%\n"
    }
   }
  },
  {
   "cell_type": "code",
   "execution_count": 13,
   "outputs": [
    {
     "data": {
      "text/plain": "['dialogue',\n 'time',\n 'place',\n 'degrees',\n 'high',\n 'low',\n 'verily',\n 'believe',\n 'highest',\n 'time',\n 'would',\n 'passed',\n 'years',\n 'thence',\n 'devils',\n 'mountain',\n 'looked',\n 'upon',\n 'world',\n 'observed',\n 'actions',\n 'man',\n 'especially',\n 'england',\n 'might',\n 'prospect',\n 'kinds',\n 'injustice',\n 'kinds',\n 'folly',\n 'world',\n 'could',\n 'afford',\n 'produced',\n 'dams',\n 'hypocrisy',\n 'self-conceit',\n 'whereof',\n 'one',\n 'double',\n 'iniquity',\n 'double',\n 'folly',\n 'glad',\n 'behold',\n 'prospect',\n 'lived',\n 'time',\n 'part',\n 'age',\n 'wherein',\n 'man',\n 'used',\n 'see',\n 'best',\n 'good',\n 'evil',\n 'pray',\n 'set',\n 'could',\n 'see',\n 'well',\n 'upon',\n 'mountain',\n 'relation',\n 'actions',\n 'saw',\n 'causes',\n 'pretensions',\n 'justice',\n 'order',\n 'artifice',\n 'event',\n 'year',\n 'government',\n 'england',\n 'monarchical',\n 'king',\n 'reigned',\n 'charles',\n 'first',\n 'name',\n 'holding',\n 'sovereignty',\n 'right',\n 'descent',\n 'continued',\n 'six',\n 'hundred',\n 'years',\n 'much',\n 'longer',\n 'descent',\n 'king',\n 'scotland',\n 'time',\n 'ancestor',\n 'henry',\n 'ii',\n 'king',\n 'ireland',\n 'man',\n 'wanted',\n 'virtue',\n 'either',\n 'body',\n 'mind',\n 'endeavoured',\n 'anything',\n 'discharge',\n 'duty',\n 'towards',\n 'god',\n 'well',\n 'governing',\n 'subject',\n 'could',\n 'miscarry',\n 'every',\n 'county',\n 'many',\n 'trained',\n 'soldiers',\n 'would',\n 'put',\n 'together',\n 'made',\n 'army',\n 'man',\n 'divers',\n 'magazines',\n 'ammunition',\n 'places',\n 'fortified',\n 'soldiers',\n 'subject',\n 'ought',\n 'majestys',\n 'command',\n 'peace',\n 'happiness',\n 'three',\n 'kingdoms',\n 'continued',\n 'left',\n 'king',\n 'james',\n 'people',\n 'corrupted',\n 'generally',\n 'disobedient',\n 'persons',\n 'esteemed',\n 'best',\n 'patriots',\n 'sure',\n 'man',\n 'enough',\n 'besides',\n 'ill-affected',\n 'made',\n 'army',\n 'sufficient',\n 'kept',\n 'people',\n 'uniting',\n 'body',\n 'able',\n 'oppose',\n 'truly',\n 'think',\n 'king',\n 'money',\n 'might',\n 'soldiers',\n 'enough',\n 'england',\n 'common',\n 'people',\n 'cared',\n 'much',\n 'either',\n 'causes',\n 'would',\n 'taken',\n 'side',\n 'pay',\n 'plunder',\n 'king',\n 'treasury',\n 'low',\n 'enemies',\n 'pretended',\n 'peoples',\n 'ease',\n 'taxes',\n 'specious',\n 'things',\n 'command',\n 'purses',\n 'city',\n 'london',\n 'cities',\n 'corporate',\n 'towns',\n 'england',\n 'many',\n 'particular',\n 'persons',\n 'besides',\n 'came',\n 'people',\n 'corrupted',\n 'kind',\n 'people',\n 'could',\n 'seduce',\n 'seducers',\n 'divers',\n 'sorts',\n 'one',\n 'sort',\n 'ministers',\n 'ministers',\n 'called',\n 'christ',\n 'sometimes',\n 'sermons',\n 'people',\n 'god',\n 'ambassadors',\n 'pretending',\n 'right',\n 'god',\n 'govern',\n 'every',\n 'one',\n 'parish',\n 'assembly',\n 'whole',\n 'nation',\n 'secondly',\n 'great',\n 'number',\n 'though',\n 'comparable',\n 'notwithstanding',\n 'popes',\n 'power',\n 'england',\n 'temporal',\n 'ecclesiastical',\n 'act',\n 'parliament',\n 'abolished',\n 'still',\n 'retain',\n 'belief',\n 'ought',\n 'governed',\n 'pope',\n 'pretended',\n 'vicar',\n 'christ',\n 'right',\n 'christ',\n 'governor',\n 'christian',\n 'people',\n 'known',\n 'name',\n 'papists',\n 'ministers',\n 'mentioned',\n 'commonly',\n 'called',\n 'presbyterians',\n 'thirdly',\n 'beginning',\n 'troubles',\n 'discovered',\n 'shortly',\n 'declared',\n 'liberty',\n 'religion',\n 'different',\n 'opinions',\n 'one',\n 'another',\n 'would',\n 'congregations',\n 'free',\n 'independent',\n 'upon',\n 'one',\n 'another',\n 'called',\n 'independents',\n 'others',\n 'held',\n 'baptism',\n 'infants',\n 'understood',\n 'baptized',\n 'ineffectual',\n 'called',\n 'therefore',\n 'anabaptists',\n 'others',\n 'held',\n 'christs',\n 'kingdom',\n 'time',\n 'begin',\n 'upon',\n 'earth',\n 'called',\n 'fifth-monarchy-men',\n 'besides',\n 'divers',\n 'sects',\n 'quakers',\n 'adamites',\n 'c',\n 'whose',\n 'names',\n 'peculiar',\n 'doctrines',\n 'well',\n 'remember',\n 'enemies',\n 'arose',\n 'majesty',\n 'private',\n 'interpretation',\n 'scripture',\n 'exposed',\n 'every',\n 'mans',\n 'scanning',\n 'mother-tongue',\n 'fourthly',\n 'exceeding',\n 'great',\n 'number',\n 'man',\n 'better',\n 'sort',\n 'educated',\n 'youth',\n 'read',\n 'books',\n 'written',\n 'famous',\n 'man',\n 'ancient',\n 'grecian',\n 'roman',\n 'commonwealths',\n 'concerning',\n 'polity',\n 'great',\n 'actions',\n 'books',\n 'popular',\n 'government',\n 'extolled',\n 'glorious',\n 'name',\n 'liberty',\n 'monarchy',\n 'disgraced',\n 'name',\n 'tyranny',\n 'became',\n 'thereby',\n 'love',\n 'forms',\n 'government',\n 'man',\n 'chosen',\n 'greatest',\n 'part',\n 'house',\n 'commons',\n 'greatest',\n 'part',\n 'yet',\n 'advantage',\n 'eloquence',\n 'always',\n 'able',\n 'sway',\n 'rest',\n 'fifthly',\n 'city',\n 'london',\n 'great',\n 'towns',\n 'trade',\n 'admiration',\n 'great',\n 'prosperity',\n 'low',\n 'countries',\n 'revolted',\n 'monarch',\n 'king',\n 'spain',\n 'inclined',\n 'think',\n 'like',\n 'change',\n 'government',\n 'would',\n 'produce',\n 'like',\n 'prosperity',\n 'sixthly',\n 'great',\n 'number',\n 'either',\n 'wasted',\n 'fortunes',\n 'thought',\n 'mean',\n 'good',\n 'parts',\n 'thought',\n 'able',\n 'bodies',\n 'saw',\n 'means',\n 'honestly',\n 'get',\n 'bread',\n 'longed',\n 'war',\n 'hoped',\n 'maintain',\n 'hereafter',\n 'lucky',\n 'choosing',\n 'party',\n 'side',\n 'consequently',\n 'part',\n 'serve',\n 'greatest',\n 'plenty',\n 'money',\n 'lastly',\n 'people',\n 'general',\n 'ignorant',\n 'duty',\n 'one',\n 'perhaps',\n 'ten',\n 'thousand',\n 'knew',\n 'right',\n 'man',\n 'command',\n 'necessity',\n 'king',\n 'commonwealth',\n 'part',\n 'money',\n 'thought',\n 'much',\n 'master',\n 'whatsoever',\n 'possessed',\n 'could',\n 'taken',\n 'upon',\n 'pretence',\n 'common',\n 'safety',\n 'without',\n 'consent',\n 'king',\n 'thought',\n 'title',\n 'highest',\n 'honour',\n 'gentleman',\n 'knight',\n 'baron',\n 'earl',\n 'duke',\n 'steps',\n 'ascend',\n 'help',\n 'riches',\n 'rule',\n 'equity',\n 'precedents',\n 'custom',\n 'thought',\n 'wisest',\n 'fittest',\n 'chosen',\n 'parliament',\n 'averse',\n 'granting',\n 'subsidies',\n 'public',\n 'payments',\n 'constitution',\n 'people',\n 'methinks',\n 'king',\n 'already',\n 'ousted',\n 'government',\n 'needed',\n 'taken',\n 'arms',\n 'cannot',\n 'imagine',\n 'king',\n 'come',\n 'means',\n 'resist',\n 'indeed',\n 'great',\n 'difficulty',\n 'business',\n 'point',\n 'better',\n 'informed',\n 'pursuit',\n 'narration',\n 'desire',\n 'know',\n 'first',\n 'several',\n 'grounds',\n 'pretences',\n 'pope',\n 'presbyterians',\n 'claim',\n 'right',\n 'govern',\n 'us',\n 'chief',\n 'whence',\n 'crept',\n 'pretences',\n 'long',\n 'parliament',\n 'democracy',\n 'papists',\n 'challenge',\n 'right',\n 'text',\n 'deut',\n 'xvii',\n 'like',\n 'texts',\n 'according',\n 'old',\n 'latin',\n 'translation',\n 'words',\n 'pride',\n 'shall',\n 'refuse',\n 'obey',\n 'commandment',\n 'priest',\n 'shall',\n 'time',\n 'minister',\n 'lord',\n 'thy',\n 'god',\n 'man',\n 'shall',\n 'sentence',\n 'judge',\n 'put',\n 'death',\n 'jews',\n 'people',\n 'god',\n 'christendom',\n 'people',\n 'god',\n 'infer',\n 'thence',\n 'pope',\n 'pretend',\n 'high-priest',\n 'christian',\n 'people',\n 'ought',\n 'also',\n 'obeyed',\n 'decrees',\n 'christians',\n 'upon',\n 'pain',\n 'death',\n 'whereas',\n 'new',\n 'testament',\n 'matt',\n 'xxviii',\n '-',\n 'christ',\n 'saith',\n 'power',\n 'given',\n 'unto',\n 'heaven',\n 'earth',\n 'go',\n 'therefore',\n 'teach',\n 'nations',\n 'baptize',\n 'name',\n 'father',\n 'son',\n 'holy',\n 'ghost',\n 'teach',\n 'observe',\n 'things',\n 'commanded',\n 'thence',\n 'infer',\n 'command',\n 'apostles',\n 'obeyed',\n 'consequence',\n 'nations',\n 'bound',\n 'governed',\n 'especially',\n 'prince',\n 'apostles',\n 'st',\n 'peter',\n 'successors',\n 'popes',\n 'rome',\n 'text',\n 'old',\n 'testament',\n 'see',\n 'commandment',\n 'god',\n 'jews',\n 'obey',\n 'priests',\n 'interpreted',\n 'like',\n 'force',\n 'case',\n 'nations',\n 'christian',\n 'upon',\n 'nations',\n 'unchristian',\n 'world',\n 'god',\n 'people',\n 'unless',\n 'also',\n 'grant',\n 'king',\n 'cannot',\n 'infidel',\n 'made',\n 'christian',\n 'without',\n 'making',\n 'subject',\n 'law',\n 'apostle',\n 'priest',\n 'minister',\n 'shall',\n 'convert',\n 'jews',\n 'peculiar',\n 'people',\n 'god',\n 'sacerdotal',\n 'kingdom',\n 'bound',\n 'law',\n 'first',\n 'moses',\n 'afterwards',\n 'every',\n 'high-priest',\n 'go',\n 'receive',\n 'immediately',\n 'mouth',\n 'god',\n 'mount',\n 'sinai',\n 'tabernacle',\n 'ark',\n 'sanctum',\n 'sanctorum',\n 'temple',\n 'text',\n 'st',\n 'matthew',\n 'know',\n 'words',\n 'gospel',\n 'go',\n 'teach',\n 'go',\n 'make',\n 'disciples',\n 'great',\n 'difference',\n 'subject',\n 'disciple',\n 'teaching',\n 'commanding',\n 'texts',\n 'must',\n 'interpreted',\n 'christian',\n 'king',\n 'lay',\n 'titles',\n 'majesty',\n 'sovereignty',\n 'call',\n 'popes',\n 'lieutenants',\n 'doctors',\n 'romish',\n 'church',\n 'seem',\n 'decline',\n 'title',\n 'absolute',\n 'power',\n 'distinction',\n 'power',\n 'spiritual',\n 'temporal',\n 'distinction',\n 'well',\n 'understand',\n 'spiritual',\n 'power',\n 'mean',\n 'power',\n 'determine',\n 'points',\n 'faith',\n 'judges',\n 'inner',\n 'court',\n 'conscience',\n 'moral',\n 'duties',\n 'power',\n 'punish',\n 'man',\n 'obey',\n 'precepts',\n 'ecclesiastical',\n 'censure',\n 'excommunication',\n 'power',\n 'say',\n 'pope',\n 'hath',\n 'immediately',\n 'christ',\n 'without',\n 'dependence',\n 'king',\n 'sovereign',\n 'assembly',\n 'whose',\n 'subject',\n 'stand',\n 'excommunicate',\n 'power',\n 'temporal',\n 'consists',\n 'judging',\n 'punishing',\n 'actions',\n 'done',\n 'civil',\n 'law',\n 'say',\n 'pretend',\n 'directly',\n 'indirectly',\n 'say',\n 'far',\n 'forth',\n 'actions',\n 'tend',\n 'hindrance',\n 'advancement',\n 'religion',\n 'good',\n 'manners',\n 'mean',\n 'say',\n 'ordine',\n 'ad',\n 'spiritualia',\n 'power',\n 'left',\n 'king',\n 'civil',\n 'sovereigns',\n 'pope',\n 'may',\n 'pretend',\n 'ordine',\n 'ad',\n 'spiritualia',\n 'none',\n 'little',\n 'power',\n 'pope',\n 'pretends',\n 'christendom',\n 'bishops',\n 'also',\n 'several',\n 'dioceses',\n 'jure',\n 'divino',\n 'immediately',\n 'christ',\n 'without',\n 'deriving',\n 'pope',\n 'man',\n 'refuse',\n 'obey',\n 'pretended',\n 'power',\n 'pope',\n 'bishops',\n 'harm',\n 'excommunication',\n 'especially',\n 'subject',\n 'another',\n 'sovereign',\n 'great',\n 'harm',\n 'popes',\n 'bishops',\n 'signification',\n 'civil',\n 'power',\n 'shall',\n 'punished',\n 'sufficiently',\n 'ill',\n 'case',\n 'adventured',\n 'write',\n 'speak',\n 'defence',\n 'civil',\n 'power',\n 'must',\n 'punished',\n 'whose',\n 'rights',\n 'defended',\n 'like',\n 'uzza',\n 'slain',\n 'would',\n 'needs',\n 'unbidden',\n 'put',\n 'forth',\n 'hand',\n 'keep',\n 'ark',\n 'falling',\n 'whole',\n 'nation',\n 'revolt',\n 'pope',\n 'effect',\n 'could',\n 'excommunication',\n 'upon',\n 'nation',\n 'mass',\n 'said',\n 'least',\n 'popes',\n 'priests',\n 'besides',\n 'pope',\n 'would',\n 'cast',\n 'would',\n 'case',\n 'nation',\n 'cast',\n 'king',\n 'left',\n 'governed',\n 'would',\n 'would',\n 'taken',\n 'much',\n 'punishment',\n 'people',\n 'king',\n 'therefore',\n 'pope',\n 'excommunicates',\n 'whole',\n 'nation',\n 'methinks',\n 'rather',\n 'excommunicates',\n 'pray',\n 'tell',\n 'rights',\n 'pope',\n 'pretended',\n 'kingdoms',\n 'princes',\n 'first',\n 'exemption',\n 'priests',\n 'friars',\n 'monks',\n 'criminal',\n 'causes',\n 'cognizance',\n 'civil',\n 'judges',\n 'secondly',\n 'collation',\n 'benefices',\n 'pleased',\n 'native',\n 'stranger',\n 'exaction',\n 'tenths',\n 'first',\n 'fruits',\n 'payments',\n 'thirdly',\n 'appeals',\n 'rome',\n 'causes',\n 'church',\n 'could',\n 'pretend',\n 'concerned',\n 'fourthly',\n 'supreme',\n 'judge',\n 'concerning',\n 'lawfulness',\n 'marriage',\n 'concerning',\n 'hereditary',\n 'succession',\n 'king',\n 'cognizance',\n 'causes',\n 'concerning',\n 'adultery',\n 'fornication',\n 'good',\n 'monopoly',\n 'women',\n 'fifthly',\n 'power',\n 'absolving',\n 'subject',\n 'duties',\n 'oaths',\n 'fidelity',\n 'lawful',\n 'sovereigns',\n ...]"
     },
     "execution_count": 13,
     "metadata": {},
     "output_type": "execute_result"
    }
   ],
   "source": [
    "clean_tokens"
   ],
   "metadata": {
    "collapsed": false,
    "pycharm": {
     "name": "#%%\n"
    }
   }
  },
  {
   "cell_type": "markdown",
   "source": [
    "### Now we can compute token counts"
   ],
   "metadata": {
    "collapsed": false,
    "pycharm": {
     "name": "#%% md\n"
    }
   }
  },
  {
   "cell_type": "code",
   "execution_count": 14,
   "outputs": [],
   "source": [
    "token_counts = Counter(clean_tokens)\n",
    "token_counts_sorted = sorted(token_counts.items(), key=lambda x: x[1], reverse=True)"
   ],
   "metadata": {
    "collapsed": false,
    "pycharm": {
     "name": "#%%\n"
    }
   }
  },
  {
   "cell_type": "code",
   "execution_count": 15,
   "outputs": [],
   "source": [
    "token_counts_nonunique = [t for t in token_counts_sorted if t[1] > 20]"
   ],
   "metadata": {
    "collapsed": false,
    "pycharm": {
     "name": "#%%\n"
    }
   }
  },
  {
   "cell_type": "code",
   "execution_count": 16,
   "outputs": [
    {
     "data": {
      "text/plain": "1575"
     },
     "execution_count": 16,
     "metadata": {},
     "output_type": "execute_result"
    }
   ],
   "source": [
    "len(token_counts_nonunique)"
   ],
   "metadata": {
    "collapsed": false,
    "pycharm": {
     "name": "#%%\n"
    }
   }
  },
  {
   "cell_type": "code",
   "execution_count": 17,
   "outputs": [
    {
     "data": {
      "text/plain": "[('v', 62),\n ('observed', 61),\n ('especially', 61),\n ('help', 61),\n ('lay', 61),\n ('allowed', 61),\n ('articles', 61),\n ('works', 61),\n ('forbidden', 61),\n ('please', 61),\n ('shew', 61),\n ('mutuall', 61),\n ('shewed', 61),\n ('moyses', 61),\n ('clergy', 60),\n ('gift', 60),\n ('charge', 60),\n ('sedition', 60),\n ('country', 60),\n ('proceeding', 60),\n ('signs', 60),\n ('signifieth', 60),\n ('tell', 59),\n ('born', 59),\n ('fall', 59),\n ('commission', 59),\n ('preaching', 59),\n ('foundation', 59),\n ('went', 59),\n ('coming', 59),\n ('gotten', 59),\n ('sign', 59),\n ('alwayes', 59),\n ('supernaturall', 59),\n ('proceedeth', 59),\n ('sufficiently', 58),\n ('masters', 58),\n ('heathen', 58),\n ('alone', 58),\n ('powers', 58),\n ('following', 58),\n ('extraordinary', 58),\n ('lawfully', 58),\n ('matters', 58),\n ('creatures', 58),\n ('morall', 58),\n ('followes', 58),\n ('elders', 58),\n ('agree', 57),\n ('wise', 57),\n ('language', 57),\n ('twelve', 57),\n ('dreams', 57),\n ('vision', 57),\n ('sort', 56),\n ('held', 56),\n ('peculiar', 56),\n ('riches', 56),\n ('distinction', 56),\n ('began', 56),\n ('congregation', 56),\n ('friends', 56),\n ('care', 56),\n ('pretended', 55),\n ('change', 55),\n ('democracy', 55),\n ('hard', 55),\n ('voice', 55),\n ('sir', 55),\n ('subordinate', 55),\n ('wherefore', 55),\n ('baptisme', 55),\n ('ye', 55),\n ('evil', 54),\n ('scotland', 54),\n ('kept', 54),\n ('christs', 54),\n ('ancient', 54),\n ('chosen', 54),\n ('heard', 54),\n ('aristotle', 54),\n ('raised', 54),\n ('leave', 54),\n ('conceptions', 54),\n ('dream', 54),\n ('truly', 53),\n ('popular', 53),\n ('grant', 53),\n ('seems', 53),\n ('head', 53),\n ('sight', 53),\n ('definition', 53),\n ('angels', 53),\n ('proved', 53),\n ('mankind', 53),\n ('speaking', 53),\n ('images', 53),\n ('labour', 53),\n ('soule', 53),\n ('yee', 53),\n ('mother', 53),\n ('difficulty', 52),\n ('repentance', 52),\n ('nay', 52),\n ('universities', 52),\n ('drawn', 52),\n ('parliaments', 52),\n ('defend', 52),\n ('distinguish', 52),\n ('caused', 52),\n ('oblige', 52),\n ('respect', 52),\n ('militia', 52),\n ('universall', 52),\n ('belongs', 52),\n ('precept', 52),\n ('longer', 51),\n ('several', 51),\n ('teaching', 51),\n ('possible', 51),\n ('judged', 51),\n ('home', 51),\n ('possession', 51),\n ('churches', 51),\n ('almighty', 51),\n ('return', 51),\n ('ordinary', 51),\n ('ground', 51),\n ('equally', 51),\n ('questions', 51),\n ('selves', 51),\n ('seemeth', 51),\n ('pretence', 50),\n ('resist', 50),\n ('chief', 50),\n ('comes', 50),\n ('writing', 50),\n ('later', 50),\n ('greek', 50),\n ('anothers', 50),\n ('wrong', 50),\n ('suffer', 50),\n ('happen', 50),\n ('custome', 50),\n ('contracts', 50),\n ('notwithstanding', 49),\n ('presbyterians', 49),\n ('always', 49),\n ('reign', 49),\n ('hold', 49),\n ('formerly', 49),\n ('look', 49),\n ('likewise', 49),\n ('simply', 49),\n ('unlawfull', 49),\n ('constitution', 48),\n ('punish', 48),\n ('jurisdiction', 48),\n ('bear', 48),\n ('submit', 48),\n ('become', 48),\n ('study', 48),\n ('profit', 48),\n ('arguments', 48),\n ('learned', 48),\n ('delight', 48),\n ('proceeded', 48),\n ('fault', 48),\n ('company', 48),\n ('wisdome', 48),\n ('goe', 48),\n ('magistrates', 48),\n ('mony', 48),\n ('gentiles', 48),\n ('ireland', 47),\n ('advantage', 47),\n ('text', 47),\n ('refuse', 47),\n ('die', 47),\n ('told', 47),\n ('execution', 47),\n ('seek', 47),\n ('jewes', 47),\n ('speaketh', 47),\n ('brain', 47),\n ('arms', 46),\n ('unless', 46),\n ('excommunication', 46),\n ('manners', 46),\n ('nevertheless', 46),\n ('fight', 46),\n ('choose', 46),\n ('acquired', 46),\n ('greeks', 46),\n ('form', 46),\n ('interest', 46),\n ('strange', 46),\n ('protection', 46),\n ('sect', 46),\n ('aristocracy', 46),\n ('contempt', 46),\n ('wicked', 46),\n ('businesse', 46),\n ('externall', 46),\n ('commandement', 46),\n ('saved', 45),\n ('save', 45),\n ('oath', 45),\n ('idolatry', 45),\n ('thereunto', 45),\n ('family', 45),\n ('dissolved', 45),\n ('reputation', 45),\n ('diversity', 45),\n ('forbid', 45),\n ('violence', 45),\n ('promised', 45),\n ('councell', 45),\n ('senses', 45),\n ('saw', 44),\n ('public', 44),\n ('mouth', 44),\n ('punished', 44),\n ('calling', 44),\n ('pass', 44),\n ('ends', 44),\n ('break', 44),\n ('suppose', 44),\n ('hearing', 44),\n ('everlasting', 44),\n ('election', 44),\n ('enjoy', 44),\n ('proposition', 44),\n ('limited', 44),\n ('consequent', 44),\n ('originall', 44),\n ('gen', 44),\n ('aaron', 44),\n ('appeareth', 44),\n ('esteemed', 43),\n ('remember', 43),\n ('maintain', 43),\n ('business', 43),\n ('lawful', 43),\n ('bishop', 43),\n ('elected', 43),\n ('precedent', 43),\n ('writings', 43),\n ('late', 43),\n ('testimony', 43),\n ('propositions', 43),\n ('meet', 43),\n ('counsel', 43),\n ('single', 43),\n ('eyes', 43),\n ('purgatory', 43),\n ('sake', 43),\n ('history', 43),\n ('politic', 43),\n ('honourable', 43),\n ('moved', 43),\n ('prophecy', 43),\n ('generation', 43),\n ('tyed', 43),\n ('temporall', 43),\n ('sinnes', 43),\n ('passed', 42),\n ('precepts', 42),\n ('condemned', 42),\n ('fourth', 42),\n ('acknowledged', 42),\n ('controversy', 42),\n ('anger', 42),\n ('something', 42),\n ('substance', 42),\n ('parties', 42),\n ('colour', 42),\n ('knowing', 42),\n ('prudence', 42),\n ('protector', 42),\n ('attributed', 42),\n ('deliberation', 42),\n ('sonne', 42),\n ('revelation', 42),\n ('vertues', 42),\n ('cor', 42),\n ('administration', 42),\n ('kinds', 41),\n ('lived', 41),\n ('roman', 41),\n ('deut', 41),\n ('apostle', 41),\n ('signifies', 41),\n ('philosophers', 41),\n ('error', 41),\n ('pastor', 41),\n ('usually', 41),\n ('thereto', 41),\n ('lost', 41),\n ('guilty', 41),\n ('sit', 41),\n ('expect', 41),\n ('signified', 41),\n ('judicature', 41),\n ('value', 41),\n ('fathers', 41),\n ('effects', 41),\n ('summe', 41),\n ('anything', 40),\n ('disciples', 40),\n ('ill', 40),\n ('flesh', 40),\n ('interpreter', 40),\n ('raise', 40),\n ('farther', 40),\n ('followed', 40),\n ('laid', 40),\n ('depend', 40),\n ('attributes', 40),\n ('saul', 40),\n ('jerusalem', 40),\n ('child', 40),\n ('send', 40),\n ('demand', 40),\n ('performance', 40),\n ('appears', 40),\n ('dispose', 40),\n ('rightly', 40),\n ('transferred', 40),\n ('matth', 40),\n ('exod', 40),\n ('instituted', 40),\n ('pay', 39),\n ('mentioned', 39),\n ('produce', 39),\n ('get', 39),\n ('charity', 39),\n ('design', 39),\n ('advice', 39),\n ('crimes', 39),\n ('hitherto', 39),\n ('belong', 39),\n ('david', 39),\n ('commandeth', 39),\n ('faction', 39),\n ('tis', 39),\n ('town', 39),\n ('reasons', 39),\n ('meer', 39),\n ('errour', 39),\n ('ecclesiasticall', 39),\n ('ariseth', 39),\n ('witnesse', 39),\n ('attribute', 39),\n ('commandements', 39),\n ('beleeved', 39),\n ('angel', 39),\n ('minister', 38),\n ('marriage', 38),\n ('plain', 38),\n ('treason', 38),\n ('petition', 38),\n ('forced', 38),\n ('learning', 38),\n ('afterward', 38),\n ('sea', 38),\n ('strong', 38),\n ('romans', 38),\n ('preached', 38),\n ('mark', 38),\n ('immediate', 38),\n ('absurd', 38),\n ('fortune', 38),\n ('happens', 38),\n ('examples', 38),\n ('woman', 38),\n ('memory', 38),\n ('small', 38),\n ('propounded', 38),\n ('sudden', 38),\n ('answered', 38),\n ('lot', 38),\n ('miracle', 38),\n ('performe', 38),\n ('luke', 38),\n ('ii', 37),\n ('virtue', 37),\n ('sure', 37),\n ('baptized', 37),\n ('hell', 37),\n ('interpret', 37),\n ('trusted', 37),\n ('measure', 37),\n ('consideration', 37),\n ('reward', 37),\n ('destroy', 37),\n ('conclude', 37),\n ('authors', 37),\n ('beasts', 37),\n ('major', 37),\n ('contention', 37),\n ('seventy', 37),\n ('discretion', 37),\n ('inflicted', 37),\n ('fourthly', 36),\n ('knew', 36),\n ('gospel', 36),\n ('added', 36),\n ('maintenance', 36),\n ('dispute', 36),\n ('assemblies', 36),\n ('parents', 36),\n ('revenge', 36),\n ('wayes', 36),\n ('darknesse', 36),\n ('mine', 36),\n ('creature', 36),\n ('grace', 36),\n ('saint', 36),\n ('qualities', 36),\n ('seed', 36),\n ('israelites', 36),\n ('belongeth', 36),\n ('incorporeall', 36),\n ('degrees', 35),\n ('eloquence', 35),\n ('titles', 35),\n ('determine', 35),\n ('excommunicate', 35),\n ('directly', 35),\n ('turn', 35),\n ('likely', 35),\n ('innocent', 35),\n ('presbyterian', 35),\n ('sum', 35),\n ('grounded', 35),\n ('elect', 35),\n ('perform', 35),\n ('magistrate', 35),\n ('eye', 35),\n ('considering', 35),\n ('presence', 35),\n ('certaine', 35),\n ('againe', 35),\n ('forasmuch', 35),\n ('cometh', 35),\n ('legislator', 35),\n ('dependeth', 35),\n ('ignorant', 34),\n ('doctors', 34),\n ('confirmed', 34),\n ('certainly', 34),\n ('agreed', 34),\n ('occasions', 34),\n ('deliver', 34),\n ('inspiration', 34),\n ('arbitrary', 34),\n ('fundamental', 34),\n ('appoint', 34),\n ('declaration', 34),\n ('represented', 34),\n ('infinite', 34),\n ('judgements', 34),\n ('speciall', 34),\n ('faculties', 34),\n ('captivity', 34),\n ('sam', 34),\n ('samuel', 34),\n ('adam', 34),\n ('taketh', 34),\n ('assembled', 33),\n ('joshua', 33),\n ('obscure', 33),\n ('possibly', 33),\n ('neighbour', 33),\n ('young', 33),\n ('continually', 33),\n ('ability', 33),\n ('wholly', 33),\n ('intended', 33),\n ('latter', 33),\n ('consist', 33),\n ('visible', 33),\n ('becomes', 33),\n ('democraty', 33),\n ('politique', 33),\n ('controversie', 33),\n ('commit', 33),\n ('sayes', 33),\n ('teachers', 33),\n ('remembrance', 33),\n ('alwaies', 33),\n ('organs', 33),\n ('pray', 32),\n ('supposing', 32),\n ('four', 32),\n ('submission', 32),\n ('letters', 32),\n ('tongue', 32),\n ('resolved', 32),\n ('numbers', 32),\n ('hatred', 32),\n ('battle', 32),\n ('avoid', 32),\n ('apt', 32),\n ('employment', 32),\n ('accused', 32),\n ('equal', 32),\n ('wisdom', 32),\n ('carried', 32),\n ('desired', 32),\n ('dishonour', 32),\n ('accounted', 32),\n ('hinder', 32),\n ('dictates', 32),\n ('stone', 32),\n ('rom', 32),\n ('shewn', 32),\n ('event', 31),\n ('retain', 31),\n ('begin', 31),\n ('hereafter', 31),\n ('defined', 31),\n ('imposition', 31),\n ('inconvenience', 31),\n ('states', 31),\n ('really', 31),\n ('courage', 31),\n ('abroad', 31),\n ('broken', 31),\n ('united', 31),\n ('conclusion', 31),\n ('writers', 31),\n ('simple', 31),\n ('rise', 31),\n ('manifestly', 31),\n ('voted', 31),\n ('pardon', 31),\n ('farre', 31),\n ('latine', 31),\n ('easie', 31),\n ('forraign', 31),\n ('imagine', 30),\n ('texts', 30),\n ('duties', 30),\n ('preserve', 30),\n ('converted', 30),\n ('gives', 30),\n ('established', 30),\n ('schools', 30),\n ('named', 30),\n ('soon', 30),\n ('motions', 30),\n ('putting', 30),\n ('worthy', 30),\n ('sole', 30),\n ('near', 30),\n ('worth', 30),\n ('represent', 30),\n ('protect', 30),\n ('felicity', 30),\n ('repent', 30),\n ('union', 30),\n ('apparent', 30),\n ('quantity', 30),\n ('regard', 30),\n ('fundamentall', 30),\n ('forme', 30),\n ('faithfull', 30),\n ('years', 29),\n ('continued', 29),\n ('became', 29),\n ('grounds', 29),\n ('pain', 29),\n ('temple', 29),\n ('jure', 29),\n ('disobedience', 29),\n ('direct', 29),\n ('absolutely', 29),\n ('saviours', 29),\n ('weak', 29),\n ('wonder', 29),\n ('carry', 29),\n ('chapters', 29),\n ('neighbours', 29),\n ('openly', 29),\n ('injuries', 29),\n ('back', 29),\n ('keeping', 29),\n ('lieutenant', 29),\n ('profitable', 29),\n ('depends', 29),\n ('trouble', 29),\n ('member', 29),\n ('lose', 29),\n ('lands', 29),\n ('night', 29),\n ('five', 29),\n ('ones', 29),\n ('lest', 29),\n ('faculty', 29),\n ('sleep', 29),\n ('actually', 29),\n ('perpetuall', 29),\n ('distribution', 29),\n ('inward', 29),\n ('positive', 29),\n ('disposeth', 29),\n ('scope', 29),\n ('folly', 28),\n ('age', 28),\n ('oppose', 28),\n ('tend', 28),\n ('concern', 28),\n ('empire', 28),\n ('reverence', 28),\n ('iii', 28),\n ('expected', 28),\n ('iv', 28),\n ('willing', 28),\n ('brother', 28),\n ('prayer', 28),\n ('credit', 28),\n ('days', 28),\n ('hostility', 28),\n ('procure', 28),\n ('justly', 28),\n ('praise', 28),\n ('placed', 28),\n ('essence', 28),\n ('quality', 28),\n ('reasonable', 28),\n ('conceived', 28),\n ('differ', 28),\n ('dissolution', 28),\n ('expressed', 28),\n ('appeared', 28),\n ('worse', 28),\n ('vote', 28),\n ('disposition', 28),\n ('witnesses', 28),\n ('votes', 28),\n ('sacrifice', 28),\n ('gifts', 28),\n ('full', 28),\n ('offer', 28),\n ('industry', 28),\n ('thine', 28),\n ('sacred', 28),\n ('section', 28),\n ('ruler', 28),\n ('comparison', 28),\n ('obligd', 28),\n ('degree', 28),\n ('internall', 28),\n ('comming', 28),\n ('expresse', 28),\n ('madnesse', 28),\n ('policy', 28),\n ('produced', 27),\n ('latin', 27),\n ('mount', 27),\n ('commanding', 27),\n ('consists', 27),\n ('women', 27),\n ('queen', 27),\n ('proceeds', 27),\n ('seventh', 27),\n ('eat', 27),\n ('difficult', 27),\n ('remission', 27),\n ('believed', 27),\n ('education', 27),\n ('viii', 27),\n ('preachers', 27),\n ('assured', 27),\n ('howsoever', 27),\n ('price', 27),\n ('obtain', 27),\n ('ordinance', 27),\n ('approved', 27),\n ('fairfax', 27),\n ('excuse', 27),\n ('caution', 27),\n ('foregoing', 27),\n ('gospell', 27),\n ('caesar', 27),\n ('supernaturally', 27),\n ('invisible', 27),\n ('accidents', 27),\n ('ghosts', 27),\n ('henry', 26),\n ('obeyed', 26),\n ('decrees', 26),\n ('interpreted', 26),\n ('soul', 26),\n ('dominions', 26),\n ('capacity', 26),\n ('inferred', 26),\n ('maintained', 26),\n ('endued', 26),\n ('confession', 26),\n ('revenue', 26),\n ('eminent', 26),\n ('content', 26),\n ('demanded', 26),\n ('essex', 26),\n ('refused', 26),\n ('minds', 26),\n ('signify', 26),\n ('method', 26),\n ('secure', 26),\n ('bind', 26),\n ('erroneous', 26),\n ('got', 26),\n ('accuse', 26),\n ('senate', 26),\n ('conjecture', 26),\n ('offices', 26),\n ('dissolve', 26),\n ('debt', 26),\n ('commanders', 26),\n ('repugnant', 26),\n ('prison', 26),\n ('takes', 26),\n ('lambert', 26),\n ('de', 26),\n ('assemble', 26),\n ('rationall', 26),\n ('furthermore', 26),\n ('build', 26),\n ('benefits', 26),\n ('withall', 26),\n ('promises', 26),\n ('expressely', 26),\n ('remaineth', 26),\n ('presumption', 26),\n ('requireth', 26),\n ('designe', 26),\n ('endeavoured', 25),\n ('governing', 25),\n ('countries', 25),\n ('possessed', 25),\n ('pride', 25),\n ('comprehended', 25),\n ('plainly', 25),\n ('yes', 25),\n ('examine', 25),\n ('provided', 25),\n ('consisting', 25),\n ('vi', 25),\n ('continue', 25),\n ('draw', 25),\n ('lust', 25),\n ('seditious', 25),\n ('sciences', 25),\n ('horse', 25),\n ('separated', 25),\n ('ask', 25),\n ('evidence', 25),\n ('reading', 25),\n ('mercy', 25),\n ('omit', 25),\n ('blessed', 25),\n ('constant', 25),\n ('bill', 25),\n ('counsellors', 25),\n ('approve', 25),\n ('asked', 25),\n ('gathered', 25),\n ('divide', 25),\n ('capable', 25),\n ('joy', 25),\n ('antient', 25),\n ('sound', 25),\n ('minde', 25),\n ('armes', 25),\n ('adde', 25),\n ('contradiction', 25),\n ('politiques', 25),\n ('violation', 25),\n ('penalty', 25),\n ('significations', 25),\n ('calleth', 25),\n ('ease', 24),\n ('sermons', 24),\n ('bread', 24),\n ('custom', 24),\n ('stranger', 24),\n ('ambitious', 24),\n ('secret', 24),\n ('thither', 24),\n ('assistance', 24),\n ('perceive', 24),\n ('lives', 24),\n ('returned', 24),\n ('tyrant', 24),\n ('conquered', 24),\n ('brethren', 24),\n ('ways', 24),\n ('armies', 24),\n ('whilst', 24),\n ('gain', 24),\n ('oft', 24),\n ('thinks', 24),\n ('↑', 24),\n ('excommunicated', 24),\n ('dutch', 24),\n ('egypt', 24),\n ('going', 24),\n ('annexed', 24),\n ('arising', 24),\n ('affaires', 24),\n ('bonds', 24),\n ('dammage', 24),\n ('universally', 24),\n ('rejected', 24),\n ('objects', 24),\n ('eternally', 24),\n ('reall', 24),\n ('alledged', 24),\n ('belief', 23),\n ('tyranny', 23),\n ('baptize', 23),\n ('judging', 23),\n ('consciences', 23),\n ('divinity', 23),\n ('legislative', 23),\n ('directed', 23),\n ('priesthood', 23),\n ('disputed', 23),\n ('instruction', 23),\n ('hardly', 23),\n ('risen', 23),\n ('saving', 23),\n ('inclination', 23),\n ('vulgar', 23),\n ('countenance', 23),\n ('seemed', 23),\n ('prayers', 23),\n ('remain', 23),\n ('wherewith', 23),\n ('march', 23),\n ('define', 23),\n ('accident', 23),\n ('search', 23),\n ('vice', 23),\n ('affections', 23),\n ('vii', 23),\n ('affairs', 23),\n ('factions', 23),\n ('observation', 23),\n ('apart', 23),\n ('viz', 23),\n ('admitted', 23),\n ('sell', 23),\n ('citizen', 23),\n ('imagined', 23),\n ('conduce', 23),\n ('visions', 23),\n ('sixth', 23),\n ('tree', 23),\n ('beene', 23),\n ('avoyd', 23),\n ('defect', 23),\n ('ratiocination', 23),\n ('conservation', 23),\n ('absurdity', 23),\n ('diverse', 23),\n ('artificiall', 23),\n ('transferre', 23),\n ('governours', 23),\n ('heare', 23),\n ('sinned', 23),\n ('happeneth', 23),\n ('imaginations', 23),\n ('seeth', 23),\n ('bloud', 23),\n ('honor', 23),\n ('relation', 22),\n ('commonwealths', 22),\n ('punishing', 22),\n ('damned', 22),\n ('crown', 22),\n ('performed', 22),\n ('erected', 22),\n ('sides', 22),\n ('supremacy', 22),\n ('scotch', 22),\n ('ordinarily', 22),\n ('ended', 22),\n ('destruction', 22),\n ('divines', 22),\n ('wealth', 22),\n ('obtained', 22),\n ('westminster', 22),\n ('ready', 22),\n ('newcastle', 22),\n ('l', 22),\n ('holdeth', 22),\n ('served', 22),\n ('voluntarily', 22),\n ('execute', 22),\n ('finding', 22),\n ('torments', 22),\n ('course', 22),\n ('profession', 22),\n ('pleaseth', 22),\n ('dangerous', 22),\n ('killing', 22),\n ('differences', 22),\n ('desires', 22),\n ('successor', 22),\n ('belonged', 22),\n ('sought', 22),\n ('greatnesse', 22),\n ('dayes', 22),\n ('publiquely', 22),\n ('meanes', 22),\n ('promiseth', 22),\n ('sun', 22),\n ('conversion', 22),\n ('voyd', 22),\n ('distinct', 22),\n ('finite', 22),\n ('deceive', 22),\n ('events', 22),\n ('consecration', 22),\n ('apparition', 22),\n ('behold', 21),\n ('needed', 21),\n ('fifth', 21),\n ('whensoever', 21),\n ('oxford', 21),\n ('arts', 21),\n ('built', 21),\n ('open', 21),\n ('conclusions', 21),\n ('considerable', 21),\n ('success', 21),\n ('poor', 21),\n ('bible', 21),\n ('saints', 21),\n ('envy', 21),\n ('removed', 21),\n ('payment', 21),\n ('burthen', 21),\n ('knows', 21),\n ('cicero', 21),\n ('wars', 21),\n ('requires', 21),\n ('denied', 21),\n ('merit', 21),\n ('frequent', 21),\n ('sitting', 21),\n ('meeting', 21),\n ('ceremonies', 21),\n ('killed', 21),\n ('cruelty', 21),\n ('speeches', 21),\n ('admit', 21),\n ('advise', 21),\n ('assist', 21),\n ('entire', 21),\n ('face', 21),\n ('render', 21),\n ('inheritance', 21),\n ('writer', 21),\n ('beast', 21),\n ('calld', 21),\n ('yeeld', 21),\n ('figure', 21),\n ('ie', 21),\n ('sensible', 21),\n ('compact', 21),\n ('bare', 21),\n ('offence', 21),\n ('definitions', 21),\n ('discern', 21),\n ('vaine', 21),\n ('xiii', 21),\n ('enquire', 21),\n ('transferring', 21),\n ('deed', 21),\n ('righteousnesse', 21),\n ('distributive', 21),\n ('prescribed', 21),\n ('latines', 21),\n ('appetites', 21),\n ('conformable', 21),\n ('voyce', 21),\n ('hast', 21),\n ('families', 21),\n ('waking', 21),\n ('particularly', 21),\n ('worshipped', 21),\n ('marks', 21),\n ('canon', 21),\n ('beleeveth', 21),\n ('messiah', 21)]"
     },
     "execution_count": 17,
     "metadata": {},
     "output_type": "execute_result"
    }
   ],
   "source": [
    "token_counts_nonunique[-1000:]"
   ],
   "metadata": {
    "collapsed": false,
    "pycharm": {
     "name": "#%%\n"
    }
   }
  },
  {
   "cell_type": "code",
   "execution_count": 18,
   "outputs": [],
   "source": [
    "all_tokens = [t[0] for t in token_counts_nonunique]"
   ],
   "metadata": {
    "collapsed": false,
    "pycharm": {
     "name": "#%%\n"
    }
   }
  },
  {
   "cell_type": "code",
   "execution_count": 19,
   "outputs": [
    {
     "data": {
      "text/plain": "['man',\n 'law',\n 'god',\n 'one',\n 'power',\n 'therefore',\n 'king',\n 'may',\n 'also',\n 'hath',\n 'right',\n 'shall',\n 'nature',\n 'every',\n 'subject',\n 'say',\n 'another',\n 'people',\n 'yet',\n 'time',\n 'upon',\n 'christ',\n 'things',\n 'soveraign',\n 'without',\n 'made',\n 'first',\n 'called',\n 'reason',\n 'authority',\n 'make',\n 'onely',\n 'many',\n 'obey',\n 'though',\n 'good',\n 'thing',\n 'civill',\n 'words',\n 'cannot',\n 'place',\n 'either',\n 'done',\n 'must',\n 'said',\n 'great',\n 'would',\n 'parliament',\n 'doe',\n 'part',\n 'much',\n 'word',\n 'church',\n 'nothing',\n 'government',\n 'common-wealth',\n 'kingdome',\n 'naturall',\n 'others',\n 'unto',\n 'us',\n 'peace',\n 'like',\n 'fear',\n 'city',\n 'himselfe',\n 'come',\n 'actions',\n 'two',\n 'name',\n 'life',\n 'use',\n 'person',\n 'could',\n 'faith',\n 'covenant',\n 'command',\n 'body',\n 'take',\n 'think',\n 'know',\n 'manner',\n 'necessary',\n 'concerning',\n 'give',\n 'lord',\n 'world',\n 'neither',\n 'christian',\n 'whether',\n 'might',\n 'liberty',\n 'true',\n 'well',\n 'taken',\n 'cause',\n 'contrary',\n 'judge',\n 'honour',\n 'moses',\n 'given',\n 'sense',\n 'end',\n 'call',\n 'common',\n 'whereof',\n 'doctrine',\n 'whose',\n 'amongst',\n 'private',\n 'scripture',\n 'whatsoever',\n 'saviour',\n 'present',\n 'way',\n 'state',\n 'see',\n 'publique',\n 'supreme',\n 'else',\n 'never',\n 'spirit',\n 'death',\n 'bee',\n 'whole',\n 'according',\n 'places',\n 'sometimes',\n 'war',\n 'put',\n 'new',\n 'understood',\n 'justice',\n 'ought',\n 'seeing',\n 'assembly',\n 'chapter',\n 'holy',\n 'doth',\n 'together',\n 'opinion',\n 'army',\n 'act',\n 'religion',\n 'apostles',\n 'thou',\n 'mind',\n 'saith',\n 'thought',\n 'persons',\n 'thus',\n 'knowledge',\n 'house',\n 'worship',\n 'wherein',\n 'set',\n 'hee',\n 'st',\n 'evill',\n 'rest',\n 'long',\n 'particular',\n 'day',\n 'otherwise',\n 'action',\n 'case',\n 'away',\n 'greater',\n 'children',\n 'england',\n 'mans',\n 'already',\n 'sent',\n 'consequently',\n 'means',\n 'till',\n 'thereof',\n 'sovereign',\n 'names',\n 'none',\n 'punishment',\n 'pope',\n 'whereby',\n 'certain',\n 'dominion',\n 'manifest',\n 'benefit',\n 'selfe',\n 'divers',\n 'truth',\n 'father',\n 'little',\n 'desire',\n 'former',\n 'thereby',\n 'second',\n 'hands',\n 'divine',\n 'beleeve',\n 'consent',\n 'earth',\n 'times',\n 'old',\n 'speak',\n 'wee',\n 'warre',\n 'c',\n 'false',\n 'written',\n 'three',\n 'prophets',\n 'bodies',\n 'salvation',\n 'motion',\n 'enough',\n 'understand',\n 'heaven',\n 'lesse',\n 'even',\n 'multitude',\n 'causes',\n 'commanded',\n 'besides',\n 'received',\n 'acts',\n 'ministers',\n 'question',\n 'kind',\n 'number',\n 'last',\n 'thy',\n 'rather',\n 'passions',\n 'believe',\n 'free',\n 'parts',\n 'obliged',\n 'counsell',\n 'general',\n 'absolute',\n 'monarchy',\n 'sufficient',\n 'bound',\n 'contract',\n 'commands',\n 'came',\n 'namely',\n 'let',\n 'paul',\n 'love',\n 'consisteth',\n 'matter',\n 'condition',\n 'office',\n 'testament',\n 'force',\n 'consider',\n 'speech',\n 'thee',\n 'want',\n 'nations',\n 'known',\n 'declared',\n 'teach',\n 'next',\n 'beginning',\n 'kingdom',\n 'proceed',\n 'better',\n 'opinions',\n 'ever',\n 'third',\n 'article',\n 'example',\n 'commonwealth',\n 'judges',\n 'monarch',\n 'princes',\n 'hope',\n 'eternall',\n 'whereas',\n 'making',\n 'passion',\n 'need',\n 'follow',\n 'scriptures',\n 'john',\n 'promise',\n 'duty',\n 'effect',\n 'rule',\n 'receive',\n 'commonly',\n 'priest',\n 'lawfull',\n 'israel',\n 'judgement',\n 'chap',\n 'jews',\n 'living',\n 'prophet',\n 'high',\n 'whence',\n 'lords',\n 'unjust',\n 'enemy',\n 'future',\n 'rome',\n 'taught',\n 'find',\n 'meant',\n 'consequence',\n 'priests',\n 'strength',\n 'injury',\n 'read',\n 'sentence',\n 'endeavour',\n 'spoken',\n 'experience',\n 'abraham',\n 'able',\n 'philosophy',\n 'unlesse',\n 'christians',\n 'conscience',\n 'enemies',\n 'greatest',\n 'defence',\n 'keep',\n 'took',\n 'judgment',\n 'equall',\n 'used',\n 'live',\n 'party',\n 'vain',\n 'brought',\n 'verse',\n 'books',\n 'son',\n 'peter',\n 'since',\n 'spirits',\n 'evident',\n 'crime',\n 'fact',\n 'signes',\n 'order',\n 'rights',\n 'often',\n 'generall',\n 'appetite',\n 'fire',\n 'gave',\n 'art',\n 'wit',\n 'sinne',\n 'money',\n 'still',\n 'natural',\n 'left',\n 'lastly',\n 'humane',\n 'injustice',\n 'best',\n 'required',\n 'among',\n 'trust',\n 'properly',\n 'maketh',\n 'thence',\n 'bishops',\n 'easily',\n 'glory',\n 'indeed',\n 'civil',\n 'forth',\n 'hand',\n 'kill',\n 'mens',\n 'land',\n 'pleasure',\n 'interpretation',\n 'perhaps',\n 'observe',\n 'found',\n 'members',\n 'past',\n 'nation',\n 'impossible',\n 'heart',\n 'vertue',\n 'covenants',\n 'doctrines',\n 'mean',\n 'difference',\n 'less',\n 'servants',\n 'although',\n 'consequences',\n 'soveraigns',\n 'title',\n 'prince',\n 'secondly',\n 'hurt',\n 'understanding',\n 'cromwell',\n 'vers',\n 'afterwards',\n 'except',\n 'danger',\n 'dead',\n 'signifie',\n 'seem',\n 'object',\n 'year',\n 'ordained',\n 'appear',\n 'english',\n 'light',\n 'somewhat',\n 'conception',\n 'sovereignty',\n 'point',\n 'stand',\n 'sin',\n 'science',\n 'officers',\n 'representative',\n 'servant',\n 'sorts',\n 'master',\n 'fit',\n 'service',\n 'bring',\n 'purpose',\n 'obligation',\n 'shalt',\n 'society',\n 'common-wealths',\n 'cast',\n 'answer',\n 'london',\n 'ignorance',\n 'towards',\n 'generally',\n 'governed',\n 'needs',\n 'within',\n 'security',\n 'image',\n 'rules',\n 'doubt',\n 'rump',\n 'owne',\n 'work',\n 'presently',\n 'declare',\n 'spirituall',\n 'different',\n 'earl',\n 'miracles',\n 'whosoever',\n 'resurrection',\n 'ghost',\n 'arise',\n 'soever',\n 'partly',\n 'pastors',\n 'cases',\n 'th',\n 'acknowledge',\n 'breach',\n 'supposed',\n 'subjection',\n 'necessarily',\n 'imagination',\n 'passe',\n 'serve',\n 'equity',\n 'occasion',\n 'sins',\n 'saying',\n 'self',\n 'soldiers',\n 'court',\n 'succession',\n 'meaning',\n 'due',\n 'granted',\n 'appointed',\n 'institution',\n 'discourse',\n 'equality',\n 'side',\n 'points',\n 'far',\n 'rebellion',\n 'scots',\n 'principles',\n 'water',\n 'mat',\n 'majesty',\n 'go',\n 'estate',\n 'forces',\n 'favour',\n 'goods',\n 'ambition',\n 'fancy',\n 'ver',\n 'council',\n 'makes',\n 'committed',\n 'taking',\n 'almost',\n 'contained',\n 'author',\n 'argument',\n 'prove',\n 'proper',\n 'signe',\n 'neverthelesse',\n 'cities',\n 'safety',\n 'least',\n 'wills',\n 'spake',\n 'propriety',\n 'necessity',\n 'derived',\n 'thoughts',\n 'victory',\n 'followeth',\n 'govern',\n 'insomuch',\n 'book',\n 'controversies',\n 'considered',\n 'popes',\n 'commons',\n 'pretend',\n 'immediately',\n 'punishments',\n 'conceive',\n 'houses',\n 'naturally',\n 'exercise',\n 'account',\n 'hear',\n 'hence',\n 'voluntary',\n 'constituted',\n 'reasoning',\n 'sword',\n 'thirdly',\n 'signification',\n 'pleased',\n 'therein',\n 'require',\n 'enter',\n 'seen',\n 'preservation',\n 'determined',\n 'giveth',\n 'preach',\n 'delivered',\n 'citizens',\n 'notice',\n 'divided',\n 'giving',\n 'deny',\n 'intention',\n 'severall',\n 'v',\n 'observed',\n 'especially',\n 'help',\n 'lay',\n 'allowed',\n 'articles',\n 'works',\n 'forbidden',\n 'please',\n 'shew',\n 'mutuall',\n 'shewed',\n 'moyses',\n 'clergy',\n 'gift',\n 'charge',\n 'sedition',\n 'country',\n 'proceeding',\n 'signs',\n 'signifieth',\n 'tell',\n 'born',\n 'fall',\n 'commission',\n 'preaching',\n 'foundation',\n 'went',\n 'coming',\n 'gotten',\n 'sign',\n 'alwayes',\n 'supernaturall',\n 'proceedeth',\n 'sufficiently',\n 'masters',\n 'heathen',\n 'alone',\n 'powers',\n 'following',\n 'extraordinary',\n 'lawfully',\n 'matters',\n 'creatures',\n 'morall',\n 'followes',\n 'elders',\n 'agree',\n 'wise',\n 'language',\n 'twelve',\n 'dreams',\n 'vision',\n 'sort',\n 'held',\n 'peculiar',\n 'riches',\n 'distinction',\n 'began',\n 'congregation',\n 'friends',\n 'care',\n 'pretended',\n 'change',\n 'democracy',\n 'hard',\n 'voice',\n 'sir',\n 'subordinate',\n 'wherefore',\n 'baptisme',\n 'ye',\n 'evil',\n 'scotland',\n 'kept',\n 'christs',\n 'ancient',\n 'chosen',\n 'heard',\n 'aristotle',\n 'raised',\n 'leave',\n 'conceptions',\n 'dream',\n 'truly',\n 'popular',\n 'grant',\n 'seems',\n 'head',\n 'sight',\n 'definition',\n 'angels',\n 'proved',\n 'mankind',\n 'speaking',\n 'images',\n 'labour',\n 'soule',\n 'yee',\n 'mother',\n 'difficulty',\n 'repentance',\n 'nay',\n 'universities',\n 'drawn',\n 'parliaments',\n 'defend',\n 'distinguish',\n 'caused',\n 'oblige',\n 'respect',\n 'militia',\n 'universall',\n 'belongs',\n 'precept',\n 'longer',\n 'several',\n 'teaching',\n 'possible',\n 'judged',\n 'home',\n 'possession',\n 'churches',\n 'almighty',\n 'return',\n 'ordinary',\n 'ground',\n 'equally',\n 'questions',\n 'selves',\n 'seemeth',\n 'pretence',\n 'resist',\n 'chief',\n 'comes',\n 'writing',\n 'later',\n 'greek',\n 'anothers',\n 'wrong',\n 'suffer',\n 'happen',\n 'custome',\n 'contracts',\n 'notwithstanding',\n 'presbyterians',\n 'always',\n 'reign',\n 'hold',\n 'formerly',\n 'look',\n 'likewise',\n 'simply',\n 'unlawfull',\n 'constitution',\n 'punish',\n 'jurisdiction',\n 'bear',\n 'submit',\n 'become',\n 'study',\n 'profit',\n 'arguments',\n 'learned',\n 'delight',\n 'proceeded',\n 'fault',\n 'company',\n 'wisdome',\n 'goe',\n 'magistrates',\n 'mony',\n 'gentiles',\n 'ireland',\n 'advantage',\n 'text',\n 'refuse',\n 'die',\n 'told',\n 'execution',\n 'seek',\n 'jewes',\n 'speaketh',\n 'brain',\n 'arms',\n 'unless',\n 'excommunication',\n 'manners',\n 'nevertheless',\n 'fight',\n 'choose',\n 'acquired',\n 'greeks',\n 'form',\n 'interest',\n 'strange',\n 'protection',\n 'sect',\n 'aristocracy',\n 'contempt',\n 'wicked',\n 'businesse',\n 'externall',\n 'commandement',\n 'saved',\n 'save',\n 'oath',\n 'idolatry',\n 'thereunto',\n 'family',\n 'dissolved',\n 'reputation',\n 'diversity',\n 'forbid',\n 'violence',\n 'promised',\n 'councell',\n 'senses',\n 'saw',\n 'public',\n 'mouth',\n 'punished',\n 'calling',\n 'pass',\n 'ends',\n 'break',\n 'suppose',\n 'hearing',\n 'everlasting',\n 'election',\n 'enjoy',\n 'proposition',\n 'limited',\n 'consequent',\n 'originall',\n 'gen',\n 'aaron',\n 'appeareth',\n 'esteemed',\n 'remember',\n 'maintain',\n 'business',\n 'lawful',\n 'bishop',\n 'elected',\n 'precedent',\n 'writings',\n 'late',\n 'testimony',\n 'propositions',\n 'meet',\n 'counsel',\n 'single',\n 'eyes',\n 'purgatory',\n 'sake',\n 'history',\n 'politic',\n 'honourable',\n 'moved',\n 'prophecy',\n 'generation',\n 'tyed',\n 'temporall',\n 'sinnes',\n 'passed',\n 'precepts',\n 'condemned',\n 'fourth',\n 'acknowledged',\n 'controversy',\n 'anger',\n 'something',\n 'substance',\n 'parties',\n 'colour',\n 'knowing',\n 'prudence',\n 'protector',\n 'attributed',\n 'deliberation',\n 'sonne',\n 'revelation',\n 'vertues',\n 'cor',\n 'administration',\n 'kinds',\n 'lived',\n 'roman',\n 'deut',\n 'apostle',\n 'signifies',\n 'philosophers',\n 'error',\n 'pastor',\n 'usually',\n 'thereto',\n 'lost',\n 'guilty',\n 'sit',\n 'expect',\n 'signified',\n 'judicature',\n 'value',\n 'fathers',\n 'effects',\n 'summe',\n 'anything',\n 'disciples',\n 'ill',\n 'flesh',\n 'interpreter',\n 'raise',\n 'farther',\n 'followed',\n 'laid',\n 'depend',\n 'attributes',\n 'saul',\n 'jerusalem',\n 'child',\n 'send',\n 'demand',\n 'performance',\n 'appears',\n 'dispose',\n 'rightly',\n 'transferred',\n 'matth',\n 'exod',\n 'instituted',\n 'pay',\n 'mentioned',\n 'produce',\n 'get',\n 'charity',\n 'design',\n 'advice',\n 'crimes',\n 'hitherto',\n 'belong',\n 'david',\n 'commandeth',\n 'faction',\n 'tis',\n 'town',\n 'reasons',\n 'meer',\n 'errour',\n 'ecclesiasticall',\n 'ariseth',\n 'witnesse',\n 'attribute',\n 'commandements',\n 'beleeved',\n 'angel',\n 'minister',\n 'marriage',\n 'plain',\n 'treason',\n 'petition',\n 'forced',\n 'learning',\n 'afterward',\n 'sea',\n 'strong',\n 'romans',\n 'preached',\n 'mark',\n 'immediate',\n 'absurd',\n 'fortune',\n 'happens',\n 'examples',\n 'woman',\n 'memory',\n 'small',\n 'propounded',\n 'sudden',\n 'answered',\n 'lot',\n 'miracle',\n 'performe',\n 'luke',\n 'ii',\n 'virtue',\n 'sure',\n 'baptized',\n 'hell',\n 'interpret',\n 'trusted',\n 'measure',\n 'consideration',\n 'reward',\n 'destroy',\n 'conclude',\n 'authors',\n 'beasts',\n 'major',\n 'contention',\n 'seventy',\n 'discretion',\n 'inflicted',\n 'fourthly',\n 'knew',\n 'gospel',\n 'added',\n 'maintenance',\n 'dispute',\n 'assemblies',\n 'parents',\n 'revenge',\n 'wayes',\n 'darknesse',\n 'mine',\n 'creature',\n 'grace',\n 'saint',\n 'qualities',\n 'seed',\n 'israelites',\n 'belongeth',\n 'incorporeall',\n 'degrees',\n ...]"
     },
     "execution_count": 19,
     "metadata": {},
     "output_type": "execute_result"
    }
   ],
   "source": [
    "all_tokens"
   ],
   "metadata": {
    "collapsed": false,
    "pycharm": {
     "name": "#%%\n"
    }
   }
  },
  {
   "cell_type": "code",
   "execution_count": 20,
   "outputs": [
    {
     "data": {
      "text/plain": "1575"
     },
     "execution_count": 20,
     "metadata": {},
     "output_type": "execute_result"
    }
   ],
   "source": [
    "num_tokens = len(all_tokens)\n",
    "num_tokens"
   ],
   "metadata": {
    "collapsed": false,
    "pycharm": {
     "name": "#%%\n"
    }
   }
  },
  {
   "cell_type": "markdown",
   "source": [
    "And now assign numbers to each token"
   ],
   "metadata": {
    "collapsed": false,
    "pycharm": {
     "name": "#%% md\n"
    }
   }
  },
  {
   "cell_type": "code",
   "execution_count": 21,
   "outputs": [],
   "source": [
    "token_dict = Dictionary([clean_tokens])"
   ],
   "metadata": {
    "collapsed": false,
    "pycharm": {
     "name": "#%%\n"
    }
   }
  },
  {
   "cell_type": "code",
   "execution_count": 22,
   "outputs": [
    {
     "data": {
      "text/plain": "{'*arise': 0,\n '-': 1,\n 'aaron': 2,\n 'aarons': 3,\n 'abandon': 4,\n 'abandoned': 5,\n 'abandoning': 6,\n 'abandons': 7,\n 'abased': 8,\n 'abate': 9,\n 'abatement': 10,\n 'abating': 11,\n 'abaton': 12,\n 'abbadon': 13,\n 'abbeys': 14,\n 'abdera': 15,\n 'abdias': 16,\n 'abdication': 17,\n 'aberdeen': 18,\n 'abettors': 19,\n 'abhor': 20,\n 'abhorre': 21,\n 'abhorreth': 22,\n 'abiathar': 23,\n 'abide': 24,\n 'abides': 25,\n 'abideth': 26,\n 'abihu': 27,\n 'abilities': 28,\n 'ability': 29,\n 'abilityes': 30,\n 'abimelech': 31,\n 'abiram': 32,\n 'abirom': 33,\n 'abishai': 34,\n 'abjuration': 35,\n 'able': 36,\n 'abler': 37,\n 'ablest': 38,\n 'abner': 39,\n 'aboad': 40,\n 'abode': 41,\n 'abolish': 42,\n 'abolished': 43,\n 'abolishing': 44,\n 'abolisht': 45,\n 'abolition': 46,\n 'abominable': 47,\n 'abomination': 48,\n 'abound': 49,\n 'aboundance': 50,\n 'above-named': 51,\n 'abraham': 52,\n 'abrahams': 53,\n 'abridge': 54,\n 'abridged': 55,\n 'abroad': 56,\n 'abrogate': 57,\n 'abrogated': 58,\n 'abrogating': 59,\n 'abrogation': 60,\n 'absence': 61,\n 'absent': 62,\n 'absented': 63,\n 'absolom': 64,\n 'absolute': 65,\n 'absolute*': 66,\n 'absolutely': 67,\n 'absoluteness': 68,\n 'absolution': 69,\n 'absolvd': 70,\n 'absolve': 71,\n 'absolved': 72,\n 'absolvent': 73,\n 'absolves': 74,\n 'absolveth': 75,\n 'absolving': 76,\n 'abstain': 77,\n 'abstaine': 78,\n 'abstained': 79,\n 'abstaineth': 80,\n 'abstaining': 81,\n 'abstinence': 82,\n 'abstract': 83,\n 'abstracted': 84,\n 'abstruse': 85,\n 'absurd': 86,\n 'absurditie': 87,\n 'absurdities': 88,\n 'absurdity': 89,\n 'absurdly': 90,\n 'abundance': 91,\n 'abundantly': 92,\n 'abuse': 93,\n 'abused': 94,\n 'abuses': 95,\n 'abusing': 96,\n 'academia': 97,\n 'academians': 98,\n 'academies': 99,\n 'academiques': 100,\n 'academus': 101,\n 'accent': 102,\n 'accept': 103,\n 'acceptable': 104,\n 'acceptance': 105,\n 'acceptation': 106,\n 'accepted': 107,\n 'accepteth': 108,\n 'accepting': 109,\n 'acception': 110,\n 'acceptions': 111,\n 'accepts': 112,\n 'accession': 113,\n 'accessories': 114,\n 'accident': 115,\n 'accidental': 116,\n 'accidentall': 117,\n 'accidentally': 118,\n 'accidentarily': 119,\n 'accidents': 120,\n 'acclamations': 121,\n 'accommodate': 122,\n 'accommodating': 123,\n 'accommodation': 124,\n 'accompanied': 125,\n 'accompanies': 126,\n 'accompany': 127,\n 'accompanying': 128,\n 'accomplices': 129,\n 'accomplish': 130,\n 'accomplished': 131,\n 'accomplishing': 132,\n 'accomplisht': 133,\n 'accompted': 134,\n 'accord': 135,\n 'accorded': 136,\n 'accordeth': 137,\n 'according': 138,\n 'accordingly': 139,\n 'account': 140,\n 'accountants': 141,\n 'accounted': 142,\n 'accounting': 143,\n 'accounts': 144,\n 'accrew': 145,\n 'accreweth': 146,\n 'accrue': 147,\n 'accrueth': 148,\n 'accumulation': 149,\n 'accurate': 150,\n 'accurately': 151,\n 'accursed': 152,\n 'accusation': 153,\n 'accusations': 154,\n 'accusd': 155,\n 'accuse': 156,\n 'accused': 157,\n 'accuser': 158,\n 'accusers': 159,\n 'accusing': 160,\n 'accustomed': 161,\n 'achaeans': 162,\n 'achan': 163,\n 'achor': 164,\n 'acknowledgd': 165,\n 'acknowledge': 166,\n 'acknowledged': 167,\n 'acknowledgement': 168,\n 'acknowledges': 169,\n 'acknowledgeth': 170,\n 'acknowledging': 171,\n 'acknowledgment': 172,\n 'acquaint': 173,\n 'acquaintance': 174,\n 'acquainted': 175,\n 'acquainting': 176,\n 'acquiesce': 177,\n 'acquiesced': 178,\n 'acquiese': 179,\n 'acquird': 180,\n 'acquire': 181,\n 'acquired': 182,\n 'acquires': 183,\n 'acquireth': 184,\n 'acquiring': 185,\n 'acquisition': 186,\n 'acquitall': 187,\n 'acquitted': 188,\n 'acquitteth': 189,\n 'acre': 190,\n 'acres': 191,\n 'acrosse': 192,\n 'act': 193,\n 'acted': 194,\n 'acteth': 195,\n 'acting': 196,\n 'action': 197,\n 'actions': 198,\n 'active': 199,\n 'actively': 200,\n 'actor': 201,\n 'actors': 202,\n 'acts': 203,\n 'actual': 204,\n 'actuall': 205,\n 'actually': 206,\n 'acutenesse': 207,\n 'ad': 208,\n 'adam': 209,\n 'adamant': 210,\n 'adamites': 211,\n 'adams': 212,\n 'adayes': 213,\n 'add': 214,\n 'adde': 215,\n 'added': 216,\n 'adder': 217,\n 'adderton': 218,\n 'addes': 219,\n 'addeth': 220,\n 'addicted': 221,\n 'adding': 222,\n 'addition': 223,\n 'additions': 224,\n 'addo': 225,\n 'address': 226,\n 'addressed': 227,\n 'addresses': 228,\n 'addresseth': 229,\n 'addressing': 230,\n 'adduced': 231,\n 'adhaerance': 232,\n 'adhaere': 233,\n 'adhaerence': 234,\n 'adhaerent': 235,\n 'adhaereth': 236,\n 'adhaering': 237,\n 'adhere': 238,\n 'adhered': 239,\n 'adherence': 240,\n 'adherents': 241,\n 'adheres': 242,\n 'adhering': 243,\n 'adikema': 244,\n 'adikia': 245,\n 'adjacent': 246,\n 'adjourn': 247,\n 'adjournd': 248,\n 'adjourned': 249,\n 'adjoynes': 250,\n 'adjudge': 251,\n 'adjudged': 252,\n 'adjudging': 253,\n 'adjutators': 254,\n 'administer': 255,\n 'administered': 256,\n 'administration': 257,\n 'administrators': 258,\n 'administred': 259,\n 'administring': 260,\n 'admirable': 261,\n 'admirably': 262,\n 'admiral': 263,\n 'admiration': 264,\n 'admiration—': 265,\n 'admire': 266,\n 'admired': 267,\n 'admireth': 268,\n 'admiring': 269,\n 'admission': 270,\n 'admit': 271,\n 'admits': 272,\n 'admittance': 273,\n 'admitted': 274,\n 'admitteth': 275,\n 'admitting': 276,\n 'admonish': 277,\n 'admonisheth': 278,\n 'admonishing': 279,\n 'admonition': 280,\n 'ado': 281,\n 'adoption': 282,\n 'adoration': 283,\n 'adore': 284,\n 'adored': 285,\n 'adoring': 286,\n 'adorn': 287,\n 'adorne': 288,\n 'adorned': 289,\n 'adornes': 290,\n 'adorning': 291,\n 'adrian': 292,\n 'adulterate': 293,\n 'adulteries': 294,\n 'adultery': 295,\n 'advance': 296,\n 'advanced': 297,\n 'advancement': 298,\n 'advancing': 299,\n 'advantage': 300,\n 'advantageous': 301,\n 'advantages': 302,\n 'adventure': 303,\n 'adventured': 304,\n 'adventurer': 305,\n 'adventurers': 306,\n 'adventures': 307,\n 'adventureth': 308,\n 'adversarie': 309,\n 'adversaries': 310,\n 'adversarii': 311,\n 'adversary': 312,\n 'adverse': 313,\n 'adversities': 314,\n 'adversity': 315,\n 'advertise': 316,\n 'advertised': 317,\n 'advice': 318,\n 'advise': 319,\n 'advised': 320,\n 'advised—but': 321,\n 'advisers': 322,\n 'advises': 323,\n 'adviseth': 324,\n 'advising': 325,\n 'advocate': 326,\n 'advocates': 327,\n 'aedifice': 328,\n 'aediles': 329,\n 'aegypt': 330,\n 'aegyptian': 331,\n 'aemulation': 332,\n 'aenigmatically': 333,\n 'aeolus': 334,\n 'aequalia': 335,\n 'aequalibus': 336,\n 'aequity': 337,\n 'aequivalent': 338,\n 'aequivocal': 339,\n 'aequivocall': 340,\n 'aequivocation': 341,\n 'aereal': 342,\n 'aereall': 343,\n 'aeriall': 344,\n 'aeternal': 345,\n 'aeternall': 346,\n 'aeternum': 347,\n 'aethereall': 348,\n 'aetherial': 349,\n 'aetheriall': 350,\n 'affability': 351,\n 'affable': 352,\n 'affair': 353,\n 'affaire': 354,\n 'affaires': 355,\n 'affairs': 356,\n 'affect': 357,\n 'affectation': 358,\n 'affected': 359,\n 'affecteth': 360,\n 'affection': 361,\n 'affectionate': 362,\n 'affections': 363,\n 'affinity': 364,\n 'affirm': 365,\n 'affirmation': 366,\n 'affirmations': 367,\n 'affirmative': 368,\n 'affirmatives': 369,\n 'affirmatory': 370,\n 'affirmd': 371,\n 'affirme': 372,\n 'affirmed': 373,\n 'affirmes': 374,\n 'affirmeth': 375,\n 'affirms': 376,\n 'afflicted': 377,\n 'afflicteth': 378,\n 'afflicting': 379,\n 'affliction': 380,\n 'afflictions': 381,\n 'afflicts': 382,\n 'afford': 383,\n 'afforded': 384,\n 'affordeth': 385,\n 'affords': 386,\n 'affrighted': 387,\n 'affrighteth': 388,\n 'affront': 389,\n 'affronted': 390,\n 'affronts': 391,\n 'aforementioned': 392,\n 'aforenamed': 393,\n 'aforesaid': 394,\n 'afraid': 395,\n 'afric': 396,\n 'africans': 397,\n 'afrique': 398,\n 'after-performance': 399,\n 'after-times': 400,\n 'afterward': 401,\n 'afterwards': 402,\n 'after—it': 403,\n 'agag': 404,\n 'againe': 405,\n 'againechapt': 406,\n 'agar': 407,\n 'agathon': 408,\n 'age': 409,\n 'agenor': 410,\n 'agent': 411,\n 'agents': 412,\n 'ages': 413,\n 'aggeus': 414,\n 'aggravate': 415,\n 'aggravated': 416,\n 'aggravateth': 417,\n 'aggravating': 418,\n 'aggravation': 419,\n 'aggravations': 420,\n 'aggregate': 421,\n 'agility': 422,\n 'agitated': 423,\n 'agitation': 424,\n 'ago': 425,\n 'agoe': 426,\n 'agree': 427,\n 'agreeable': 428,\n 'agreed': 429,\n 'agreed-upon': 430,\n 'agreeing': 431,\n 'agreement': 432,\n 'agrees': 433,\n 'agreeth': 434,\n 'agriculture': 435,\n 'ague': 436,\n 'agur': 437,\n 'ahab': 438,\n 'ahijah': 439,\n 'aid': 440,\n 'aided': 441,\n 'aiding': 442,\n 'aids': 443,\n 'aiery': 444,\n 'aim': 445,\n 'aimd': 446,\n 'aime': 447,\n 'aimed': 448,\n 'aimeth': 449,\n 'aims': 450,\n 'air': 451,\n 'aire': 452,\n 'aitia': 453,\n 'akorns': 454,\n 'al': 455,\n 'alban': 456,\n 'albans': 457,\n 'albeit': 458,\n 'alcibiades': 459,\n 'alderman': 460,\n 'aldermen': 461,\n 'aletheian': 462,\n 'alexander': 463,\n 'alexandria': 464,\n 'alexandrians': 465,\n 'alienable': 466,\n 'alienate': 467,\n 'alienation': 468,\n 'alienos': 469,\n 'alike': 470,\n 'alive': 471,\n 'allay': 472,\n 'allayed': 473,\n 'alleadging': 474,\n 'alleageance': 475,\n 'alleaging': 476,\n 'alledge': 477,\n 'alledged': 478,\n 'alledges': 479,\n 'alledgeth': 480,\n 'alledging': 481,\n 'allegation': 482,\n 'allegations': 483,\n 'allege': 484,\n 'allegeance': 485,\n 'alleged': 486,\n 'allegiance': 487,\n 'allegoricall': 488,\n 'allegorically': 489,\n 'allegories': 490,\n 'allegory': 491,\n 'alliance': 492,\n 'allot': 493,\n 'allow': 494,\n 'allowable': 495,\n 'allowance': 496,\n 'allowed': 497,\n 'allowes': 498,\n 'alloweth': 499,\n 'allowing': 500,\n 'allready': 501,\n 'allude': 502,\n 'alluding': 503,\n 'allure': 504,\n 'allusion': 505,\n 'almanacs': 506,\n 'almes': 507,\n 'almighty': 508,\n 'almost': 509,\n 'alms': 510,\n 'alone': 511,\n 'along': 512,\n 'alphabet': 513,\n 'already': 514,\n 'alreadyjohn': 515,\n 'also': 516,\n 'altar': 517,\n 'altars': 518,\n 'alter': 519,\n 'alteration': 520,\n 'alterations': 521,\n 'altercations': 522,\n 'altered': 523,\n 'alteri': 524,\n 'altering': 525,\n 'alternate': 526,\n 'alternately': 527,\n 'although': 528,\n 'altitude': 529,\n 'altogether': 530,\n 'alured': 531,\n 'alwaies': 532,\n 'alwayes': 533,\n 'always': 534,\n 'amalekite': 535,\n 'amanuensis': 536,\n 'amartema': 537,\n 'amathia': 538,\n 'amazed': 539,\n 'amaziah': 540,\n 'amazons': 541,\n 'ambarvalia': 542,\n 'ambassador': 543,\n 'ambassadors': 544,\n 'ambassadour': 545,\n 'ambiguity': 546,\n 'ambiguous': 547,\n 'ambition': 548,\n 'ambition—': 549,\n 'ambitious': 550,\n 'amboyna': 551,\n 'ambrose': 552,\n 'amen': 553,\n 'amend': 554,\n 'amended': 555,\n 'amendment': 556,\n 'amends': 557,\n 'amerce': 558,\n 'america': 559,\n 'amiable': 560,\n 'amiss': 561,\n 'amisse': 562,\n 'amity': 563,\n 'ammianus': 564,\n 'ammon': 565,\n 'ammonites': 566,\n 'ammunition': 567,\n 'among': 568,\n 'amongst': 569,\n 'amos': 570,\n 'amount': 571,\n 'amounted': 572,\n 'amounts': 573,\n 'ample': 574,\n 'amplified': 575,\n 'amplitude': 576,\n 'amply': 577,\n 'anabaptists': 578,\n 'analogie': 579,\n 'analogy': 580,\n 'analysis': 581,\n 'ananias': 582,\n 'anarchies': 583,\n 'anarchy': 584,\n 'anathoth': 585,\n 'anatomist': 586,\n 'anatomy': 587,\n 'ancestor': 588,\n 'ancestors': 589,\n 'ancient': 590,\n 'anciently': 591,\n 'ancients': 592,\n 'andrew': 593,\n 'andrews': 594,\n 'andromeda': 595,\n 'anew': 596,\n 'angel': 597,\n 'angelicall': 598,\n 'angell': 599,\n 'angells': 600,\n 'angels': 601,\n 'anger': 602,\n 'anger—': 603,\n 'angles': 604,\n 'angliæ': 605,\n 'angry': 606,\n 'angular': 607,\n 'animae': 608,\n 'animage': 609,\n 'animal': 610,\n 'animalia': 611,\n 'animall': 612,\n 'animalls': 613,\n 'animals': 614,\n 'animam': 615,\n 'animate': 616,\n 'animated': 617,\n 'animosity': 618,\n 'annas': 619,\n 'annexed': 620,\n 'annexeth': 621,\n 'annext': 622,\n 'annihilated': 623,\n 'anniversary': 624,\n 'annotations': 625,\n 'annoy': 626,\n 'annual': 627,\n 'anoint': 628,\n 'anointed': 629,\n 'anointing': 630,\n 'another': 631,\n 'anothers': 632,\n 'another—the': 633,\n 'anoynt': 634,\n 'anoynted': 635,\n 'answer': 636,\n 'answerable': 637,\n 'answerd': 638,\n 'answered': 639,\n 'answereth': 640,\n 'answering': 641,\n 'answers': 642,\n 'ant': 643,\n 'antecedence': 644,\n 'antecedent': 645,\n 'antecedents': 646,\n 'antecessors': 647,\n 'anthropopathos': 648,\n 'anti-monarchies': 649,\n 'antichrist': 650,\n 'antichristos': 651,\n 'antichrists': 652,\n 'anticipate': 653,\n 'anticipating': 654,\n 'anticipation': 655,\n 'antidote': 656,\n 'antient': 657,\n 'antiently': 658,\n 'antients': 659,\n 'antioch': 660,\n 'antiochus': 661,\n 'antipapa': 662,\n 'antipathy': 663,\n 'antiperistasis': 664,\n 'antipodes': 665,\n 'antiq': 666,\n 'antiquary': 667,\n 'antiquity': 668,\n 'antistities': 669,\n 'anto': 670,\n 'antonius': 671,\n 'ants': 672,\n 'antwerp': 673,\n 'anxiety': 674,\n 'anything': 675,\n 'anywhere': 676,\n 'apart': 677,\n 'apellations': 678,\n 'aphorismes': 679,\n 'aphorme': 680,\n 'aplox': 681,\n 'apoc': 682,\n 'apocalypse': 683,\n 'apocrypha': 684,\n 'apollo': 685,\n 'apollonians': 686,\n 'apollos': 687,\n 'apostasie': 688,\n 'apostate': 689,\n 'apostates': 690,\n 'apostemes': 691,\n 'apostle': 692,\n 'apostles': 693,\n 'apostleship': 694,\n 'apostolicall': 695,\n 'aposunagogon': 696,\n 'apothegms': 697,\n 'apotheosis': 698,\n 'apparant': 699,\n 'apparel': 700,\n 'apparell': 701,\n 'apparence': 702,\n 'apparences': 703,\n 'apparent': 704,\n 'apparently': 705,\n 'apparition': 706,\n 'apparitions': 707,\n 'appeal': 708,\n 'appeale': 709,\n 'appeals': 710,\n 'appear': 711,\n 'appearance': 712,\n 'appeard': 713,\n 'appeare': 714,\n 'appeared': 715,\n 'appeared—to': 716,\n 'appeares': 717,\n 'appeareth': 718,\n 'appearing': 719,\n 'appears': 720,\n 'appease': 721,\n 'appeased': 722,\n 'appeaseth': 723,\n 'appeasing': 724,\n 'appellation': 725,\n 'appellations': 726,\n 'appellatives': 727,\n 'appendage': 728,\n 'appertain': 729,\n 'appertaines': 730,\n 'appertaineth': 731,\n 'appertaining': 732,\n 'appertains': 733,\n 'appetite': 734,\n 'appetites': 735,\n 'applaud': 736,\n 'applauded': 737,\n 'applause': 738,\n 'appliable': 739,\n 'applicable': 740,\n 'application': 741,\n 'applied': 742,\n 'apply': 743,\n 'applyed': 744,\n 'applyeth': 745,\n 'applying': 746,\n 'appoint': 747,\n 'appointed': 748,\n 'appointest': 749,\n 'appointeth': 750,\n 'appointing': 751,\n 'appointment': 752,\n 'appollo': 753,\n 'apprehend': 754,\n 'apprehended': 755,\n 'apprehends': 756,\n 'apprehension': 757,\n 'apprehensions': 758,\n 'apprentices': 759,\n 'approach': 760,\n 'approacheth': 761,\n 'approaching': 762,\n 'approbation': 763,\n 'appropriate': 764,\n 'appropriated': 765,\n 'appropriating': 766,\n 'appropriation': 767,\n 'approve': 768,\n 'approved': 769,\n 'approves': 770,\n 'approveth': 771,\n 'approving': 772,\n 'april': 773,\n 'aproach': 774,\n 'apt': 775,\n 'aptest': 776,\n 'aptitude': 777,\n 'aptly': 778,\n 'aptness': 779,\n 'aptnesse': 780,\n 'aqua': 781,\n 'arable': 782,\n 'arbiter': 783,\n 'arbiters': 784,\n 'arbitrarily': 785,\n 'arbitrary': 786,\n 'arbitration': 787,\n 'arbitrator': 788,\n 'arbitrators': 789,\n 'arbitrement': 790,\n 'arch-bishop': 791,\n 'archbishop': 792,\n 'archbishops': 793,\n 'archduke': 794,\n 'archicall': 795,\n 'archimedes': 796,\n 'archipelago': 797,\n 'architect': 798,\n 'architecture': 799,\n 'ardent': 800,\n 'areopagus': 801,\n 'argue': 802,\n 'argued': 803,\n 'argues': 804,\n 'argueth': 805,\n 'arguing': 806,\n 'argument': 807,\n 'argumentation': 808,\n 'arguments': 809,\n 'arians': 810,\n 'aright': 811,\n 'arise': 812,\n 'arise*': 813,\n 'arisen': 814,\n 'ariseth': 815,\n 'arising': 816,\n 'aristides': 817,\n 'aristocracie': 818,\n 'aristocracies': 819,\n 'aristocracy': 820,\n 'aristocratical': 821,\n 'aristocraticall': 822,\n 'aristocraticalls': 823,\n 'aristocratically': 824,\n 'aristocratie': 825,\n 'aristocraties': 826,\n 'aristocraty': 827,\n 'aristotelity': 828,\n 'aristotle': 829,\n 'aristotles': 830,\n 'arithmetic': 831,\n 'arithmetical': 832,\n 'arithmeticall': 833,\n 'arithmeticians': 834,\n 'arithmetick': 835,\n 'arithmetique': 836,\n 'arius': 837,\n 'ark': 838,\n 'arke': 839,\n 'arm': 840,\n 'arma': 841,\n 'arme': 842,\n 'armed': 843,\n 'armes': 844,\n 'armies': 845,\n 'arming': 846,\n 'arminians': 847,\n 'arminius': 848,\n 'armor': 849,\n 'arms': 850,\n 'army': 851,\n 'army-faction': 852,\n 'army-officers': 853,\n 'arnon': 854,\n 'arose': 855,\n 'arrant': 856,\n 'array': 857,\n 'arrears': 858,\n 'arrests': 859,\n 'arrian': 860,\n 'arrive': 861,\n 'arrived': 862,\n 'arriveth': 863,\n 'arriving': 864,\n 'arrogance': 865,\n 'arrogant': 866,\n 'arrogate': 867,\n 'arrogated': 868,\n 'arrogating': 869,\n 'arrow': 870,\n 'art': 871,\n 'arteries': 872,\n 'artic': 873,\n 'article': 874,\n 'articles': 875,\n 'artifice': 876,\n 'artificer': 877,\n 'artifices': 878,\n 'artificial': 879,\n 'artificiall': 880,\n 'artillery': 881,\n 'artist': 882,\n 'arts': 883,\n 'arundel': 884,\n 'arundo': 885,\n 'aruspicina': 886,\n 'ascarides': 887,\n 'ascend': 888,\n 'ascended': 889,\n 'ascending': 890,\n 'ascension': 891,\n 'ascham': 892,\n 'ascribe': 893,\n 'ascribed': 894,\n 'ascribeth': 895,\n 'ascribing': 896,\n 'ashamed': 897,\n 'ashes': 898,\n 'asia': 899,\n 'asiaticks': 900,\n 'aside': 901,\n 'ask': 902,\n 'aske': 903,\n 'asked': 904,\n 'asketh': 905,\n 'askew': 906,\n 'asking': 907,\n 'askt': 908,\n 'aspect': 909,\n 'asperges': 910,\n 'asperity': 911,\n 'aspire': 912,\n 'aspired': 913,\n 'aspires': 914,\n 'aspiring': 915,\n 'asquint': 916,\n 'assailant': 917,\n 'assassinating': 918,\n 'assault': 919,\n 'assaulted': 920,\n 'assaulteth': 921,\n 'assaulting': 922,\n 'assaults': 923,\n 'asse': 924,\n 'assemble': 925,\n 'assembled': 926,\n 'assemblie': 927,\n 'assemblies': 928,\n 'assembling': 929,\n 'assembly': 930,\n 'assemblyes': 931,\n 'assent': 932,\n 'assented': 933,\n 'assenting': 934,\n 'assents': 935,\n 'assert': 936,\n 'asserting': 937,\n 'assertion': 938,\n 'assertions': 939,\n 'asses': 940,\n 'assessing': 941,\n 'assiduity': 942,\n 'assign': 943,\n 'assigne': 944,\n 'assigned': 945,\n 'assigneth': 946,\n 'assist': 947,\n 'assistance': 948,\n 'assistances': 949,\n 'assisted': 950,\n 'assister': 951,\n 'assisting': 952,\n 'association': 953,\n 'assoon': 954,\n 'assoone': 955,\n 'assume': 956,\n 'assumed': 957,\n 'assumes': 958,\n 'assuming': 959,\n 'assumption': 960,\n 'assurance': 961,\n 'assure': 962,\n 'assured': 963,\n 'assuredly': 964,\n 'assuring': 965,\n 'assyria': 966,\n 'assyrians': 967,\n 'astonied': 968,\n 'astonish': 969,\n 'astonishment': 970,\n 'astray': 971,\n 'astrologers': 972,\n 'astrology': 973,\n 'astronomer': 974,\n 'astronomy': 975,\n 'asunder': 976,\n 'aswell': 977,\n 'atabalipa': 978,\n 'atchieve': 979,\n 'atchieved': 980,\n 'athaliah': 981,\n 'atheisme': 982,\n 'atheist': 983,\n 'atheists': 984,\n 'athenian': 985,\n 'athenians': 986,\n 'athens': 987,\n 'atlantick': 988,\n 'atomes': 989,\n 'atonement': 990,\n 'attacque': 991,\n 'attain': 992,\n 'attaind': 993,\n 'attainder': 994,\n 'attaine': 995,\n 'attained': 996,\n 'attaineth': 997,\n 'attaining': 998,\n 'attainted': 999,\n ...}"
     },
     "execution_count": 22,
     "metadata": {},
     "output_type": "execute_result"
    }
   ],
   "source": [
    "#token_dict.most_common()\n",
    "token_dict.token2id"
   ],
   "metadata": {
    "collapsed": false,
    "pycharm": {
     "name": "#%%\n"
    }
   }
  },
  {
   "cell_type": "markdown",
   "source": [
    "### Define Keywords"
   ],
   "metadata": {
    "collapsed": false,
    "pycharm": {
     "name": "#%% md\n"
    }
   }
  },
  {
   "cell_type": "code",
   "execution_count": 23,
   "outputs": [],
   "source": [
    "#token_pairs = list(itertools.product(all_tokens,all_tokens))\n",
    "#len(token_pairs)"
   ],
   "metadata": {
    "collapsed": false,
    "pycharm": {
     "name": "#%%\n"
    }
   }
  },
  {
   "cell_type": "code",
   "execution_count": 24,
   "outputs": [
    {
     "data": {
      "text/plain": "[('authority', 'authority'),\n ('authority', 'christ'),\n ('authority', 'civill'),\n ('authority', 'common-wealth'),\n ('authority', 'externall_impediment'),\n ('authority', 'fear'),\n ('authority', 'free'),\n ('authority', 'government'),\n ('authority', 'holy'),\n ('authority', 'justice')]"
     },
     "execution_count": 24,
     "metadata": {},
     "output_type": "execute_result"
    }
   ],
   "source": [
    "#kw_pairs = [pair for pair in list(itertools.product(keywords,keywords)) if pair[0] != pair[1]]\n",
    "kw_pairs = list(itertools.product(keywords,keywords))\n",
    "kw_pairs[:10]"
   ],
   "metadata": {
    "collapsed": false,
    "pycharm": {
     "name": "#%%\n"
    }
   }
  },
  {
   "cell_type": "markdown",
   "source": [
    "### And ngrams"
   ],
   "metadata": {
    "collapsed": false,
    "pycharm": {
     "name": "#%% md\n"
    }
   }
  },
  {
   "cell_type": "code",
   "execution_count": 25,
   "outputs": [],
   "source": [
    "def compute_ngrams(input_list, n):\n",
    "    return zip(*[input_list[i:] for i in range(n)])"
   ],
   "metadata": {
    "collapsed": false,
    "pycharm": {
     "name": "#%%\n"
    }
   }
  },
  {
   "cell_type": "code",
   "execution_count": 26,
   "outputs": [],
   "source": [
    "N = 4"
   ],
   "metadata": {
    "collapsed": false,
    "pycharm": {
     "name": "#%%\n"
    }
   }
  },
  {
   "cell_type": "code",
   "execution_count": 27,
   "outputs": [
    {
     "data": {
      "text/plain": "197827"
     },
     "execution_count": 27,
     "metadata": {},
     "output_type": "execute_result"
    }
   ],
   "source": [
    "all_ngrams = list([set(ng) for ng in compute_ngrams(clean_tokens, N)])\n",
    "len(all_ngrams)"
   ],
   "metadata": {
    "collapsed": false,
    "pycharm": {
     "name": "#%%\n"
    }
   }
  },
  {
   "cell_type": "code",
   "execution_count": 28,
   "outputs": [],
   "source": [
    "from tqdm import tqdm"
   ],
   "metadata": {
    "collapsed": false,
    "pycharm": {
     "name": "#%%\n"
    }
   }
  },
  {
   "cell_type": "code",
   "execution_count": 29,
   "outputs": [],
   "source": [
    "token_pair_counts = defaultdict(lambda: 0)"
   ],
   "metadata": {
    "collapsed": false,
    "pycharm": {
     "name": "#%%\n"
    }
   }
  },
  {
   "cell_type": "code",
   "execution_count": 30,
   "outputs": [
    {
     "name": "stderr",
     "output_type": "stream",
     "text": [
      "100%|██████████| 197827/197827 [00:00<00:00, 298281.90it/s]\n"
     ]
    }
   ],
   "source": [
    "keywords_co = defaultdict(lambda: 0)\n",
    "for cur_ngram in tqdm(all_ngrams):\n",
    "    ngram_pairs = list(itertools.combinations(cur_ngram, r=2))\n",
    "    #print(cur_ngram)\n",
    "    #print(ngram_pairs)\n",
    "    #break\n",
    "    for cur_pair in ngram_pairs:\n",
    "        token_pair_counts[cur_pair] += 1"
   ],
   "metadata": {
    "collapsed": false,
    "pycharm": {
     "name": "#%%\n"
    }
   }
  },
  {
   "cell_type": "code",
   "execution_count": 31,
   "outputs": [
    {
     "data": {
      "text/plain": "defaultdict(<function __main__.<lambda>()>,\n            {('degrees', 'dialogue'): 1,\n             ('degrees', 'place'): 3,\n             ('degrees', 'time'): 5,\n             ('dialogue', 'place'): 1,\n             ('dialogue', 'time'): 1,\n             ('place', 'time'): 90,\n             ('degrees', 'high'): 3,\n             ('place', 'high'): 7,\n             ('time', 'high'): 7,\n             ('degrees', 'low'): 2,\n             ('low', 'place'): 1,\n             ('low', 'high'): 8,\n             ('verily', 'degrees'): 1,\n             ('verily', 'low'): 3,\n             ('verily', 'high'): 2,\n             ('verily', 'believe'): 12,\n             ('believe', 'low'): 1,\n             ('believe', 'high'): 1,\n             ('verily', 'highest'): 2,\n             ('low', 'believe'): 1,\n             ('low', 'highest'): 1,\n             ('believe', 'highest'): 1,\n             ('verily', 'time'): 1,\n             ('highest', 'believe'): 2,\n             ('highest', 'time'): 5,\n             ('believe', 'time'): 4,\n             ('highest', 'would'): 2,\n             ('believe', 'would'): 13,\n             ('time', 'would'): 11,\n             ('highest', 'passed'): 1,\n             ('passed', 'time'): 12,\n             ('passed', 'would'): 3,\n             ('passed', 'years'): 5,\n             ('time', 'years'): 1,\n             ('years', 'would'): 1,\n             ('thence', 'passed'): 2,\n             ('thence', 'would'): 6,\n             ('thence', 'years'): 3,\n             ('would', 'years'): 1,\n             ('thence', 'devils'): 3,\n             ('devils', 'passed'): 1,\n             ('devils', 'years'): 2,\n             ('mountain', 'thence'): 3,\n             ('mountain', 'devils'): 1,\n             ('mountain', 'years'): 1,\n             ('thence', 'mountain'): 4,\n             ('thence', 'looked'): 1,\n             ('devils', 'mountain'): 2,\n             ('devils', 'looked'): 2,\n             ('mountain', 'looked'): 3,\n             ('upon', 'devils'): 1,\n             ('upon', 'mountain'): 4,\n             ('upon', 'looked'): 8,\n             ('upon', 'world'): 2,\n             ('world', 'mountain'): 1,\n             ('world', 'looked'): 2,\n             ('upon', 'observed'): 1,\n             ('world', 'observed'): 6,\n             ('observed', 'looked'): 1,\n             ('world', 'actions'): 5,\n             ('world', 'upon'): 8,\n             ('observed', 'actions'): 7,\n             ('observed', 'upon'): 4,\n             ('actions', 'upon'): 14,\n             ('man', 'world'): 12,\n             ('man', 'observed'): 4,\n             ('man', 'actions'): 170,\n             ('man', 'especially'): 7,\n             ('especially', 'observed'): 1,\n             ('especially', 'actions'): 4,\n             ('especially', 'man'): 13,\n             ('especially', 'england'): 3,\n             ('man', 'england'): 9,\n             ('england', 'actions'): 1,\n             ('might', 'especially'): 2,\n             ('might', 'man'): 101,\n             ('might', 'england'): 13,\n             ('might', 'prospect'): 3,\n             ('especially', 'prospect'): 1,\n             ('england', 'prospect'): 2,\n             ('might', 'kinds'): 2,\n             ('england', 'kinds'): 1,\n             ('kinds', 'prospect'): 2,\n             ('might', 'injustice'): 5,\n             ('injustice', 'prospect'): 2,\n             ('injustice', 'kinds'): 1,\n             ('prospect', 'kinds'): 1,\n             ('kinds', 'injustice'): 5,\n             ('kinds', 'folly'): 3,\n             ('injustice', 'folly'): 2,\n             ('kinds', 'world'): 2,\n             ('injustice', 'world'): 3,\n             ('world', 'folly'): 3,\n             ('kinds', 'could'): 1,\n             ('world', 'could'): 11,\n             ('could', 'folly'): 2,\n             ('could', 'world'): 3,\n             ('could', 'afford'): 1,\n             ('world', 'afford'): 2,\n             ('afford', 'folly'): 1,\n             ('world', 'produced'): 1,\n             ('afford', 'produced'): 3,\n             ('afford', 'could'): 2,\n             ('produced', 'could'): 2,\n             ('dams', 'afford'): 2,\n             ('dams', 'produced'): 3,\n             ('dams', 'could'): 1,\n             ('dams', 'hypocrisy'): 3,\n             ('afford', 'hypocrisy'): 1,\n             ('hypocrisy', 'produced'): 2,\n             ('dams', 'self-conceit'): 2,\n             ('self-conceit', 'hypocrisy'): 3,\n             ('self-conceit', 'produced'): 1,\n             ('dams', 'whereof'): 1,\n             ('whereof', 'self-conceit'): 3,\n             ('whereof', 'hypocrisy'): 2,\n             ('whereof', 'one'): 109,\n             ('self-conceit', 'one'): 2,\n             ('hypocrisy', 'one'): 1,\n             ('double', 'whereof'): 4,\n             ('double', 'self-conceit'): 1,\n             ('double', 'one'): 10,\n             ('double', 'iniquity'): 3,\n             ('whereof', 'iniquity'): 1,\n             ('iniquity', 'one'): 5,\n             ('double', 'folly'): 2,\n             ('iniquity', 'folly'): 2,\n             ('iniquity', 'glad'): 1,\n             ('iniquity', 'double'): 1,\n             ('glad', 'folly'): 3,\n             ('glad', 'double'): 1,\n             ('folly', 'double'): 1,\n             ('double', 'glad'): 1,\n             ('double', 'behold'): 1,\n             ('glad', 'behold'): 1,\n             ('behold', 'folly'): 2,\n             ('behold', 'glad'): 2,\n             ('behold', 'prospect'): 3,\n             ('glad', 'prospect'): 1,\n             ('folly', 'prospect'): 1,\n             ('behold', 'lived'): 2,\n             ('prospect', 'glad'): 1,\n             ('prospect', 'lived'): 3,\n             ('glad', 'lived'): 1,\n             ('behold', 'time'): 1,\n             ('prospect', 'time'): 2,\n             ('time', 'lived'): 27,\n             ('prospect', 'part'): 1,\n             ('part', 'time'): 17,\n             ('part', 'lived'): 2,\n             ('age', 'part'): 2,\n             ('age', 'time'): 3,\n             ('age', 'lived'): 3,\n             ('wherein', 'age'): 3,\n             ('wherein', 'part'): 8,\n             ('wherein', 'time'): 42,\n             ('wherein', 'man'): 61,\n             ('man', 'part'): 120,\n             ('man', 'age'): 16,\n             ('part', 'age'): 1,\n             ('wherein', 'used'): 4,\n             ('man', 'used'): 21,\n             ('age', 'used'): 1,\n             ('wherein', 'see'): 1,\n             ('man', 'see'): 84,\n             ('see', 'used'): 3,\n             ('best', 'man'): 5,\n             ('best', 'see'): 3,\n             ('best', 'used'): 2,\n             ('good', 'best'): 3,\n             ('good', 'see'): 7,\n             ('good', 'used'): 1,\n             ('good', 'evil'): 68,\n             ('best', 'evil'): 2,\n             ('see', 'evil'): 2,\n             ('pray', 'good'): 2,\n             ('pray', 'best'): 1,\n             ('pray', 'evil'): 3,\n             ('pray', 'set'): 3,\n             ('set', 'good'): 4,\n             ('set', 'evil'): 2,\n             ('pray', 'could'): 2,\n             ('set', 'could'): 5,\n             ('could', 'evil'): 3,\n             ('pray', 'see'): 1,\n             ('set', 'see'): 2,\n             ('see', 'could'): 12,\n             ('set', 'well'): 2,\n             ('see', 'well'): 14,\n             ('could', 'well'): 19,\n             ('upon', 'see'): 3,\n             ('upon', 'could'): 1,\n             ('upon', 'well'): 7,\n             ('mountain', 'see'): 1,\n             ('mountain', 'well'): 2,\n             ('upon', 'relation'): 2,\n             ('relation', 'mountain'): 2,\n             ('relation', 'well'): 1,\n             ('relation', 'actions'): 1,\n             ('relation', 'upon'): 3,\n             ('mountain', 'actions'): 2,\n             ('mountain', 'upon'): 1,\n             ('saw', 'mountain'): 1,\n             ('saw', 'actions'): 3,\n             ('saw', 'relation'): 2,\n             ('mountain', 'relation'): 1,\n             ('actions', 'relation'): 2,\n             ('saw', 'causes'): 3,\n             ('causes', 'actions'): 7,\n             ('causes', 'relation'): 1,\n             ('saw', 'pretensions'): 2,\n             ('causes', 'pretensions'): 3,\n             ('pretensions', 'actions'): 1,\n             ('justice', 'saw'): 1,\n             ('justice', 'causes'): 3,\n             ('justice', 'pretensions'): 3,\n             ('justice', 'order'): 3,\n             ('order', 'causes'): 1,\n             ('order', 'pretensions'): 2,\n             ('justice', 'artifice'): 2,\n             ('artifice', 'order'): 3,\n             ('artifice', 'pretensions'): 1,\n             ('justice', 'event'): 1,\n             ('artifice', 'event'): 3,\n             ('order', 'event'): 2,\n             ('artifice', 'year'): 2,\n             ('order', 'year'): 1,\n             ('year', 'event'): 3,\n             ('artifice', 'government'): 1,\n             ('government', 'year'): 3,\n             ('government', 'event'): 2,\n             ('england', 'government'): 12,\n             ('england', 'year'): 7,\n             ('england', 'event'): 4,\n             ('monarchical', 'england'): 1,\n             ('monarchical', 'government'): 14,\n             ('monarchical', 'year'): 1,\n             ('england', 'king'): 24,\n             ('england', 'monarchical'): 2,\n             ('king', 'monarchical'): 3,\n             ('king', 'government'): 35,\n             ('england', 'reigned'): 1,\n             ('king', 'reigned'): 3,\n             ('monarchical', 'reigned'): 2,\n             ('king', 'charles'): 22,\n             ('charles', 'monarchical'): 1,\n             ('charles', 'reigned'): 3,\n             ('first', 'king'): 54,\n             ('first', 'charles'): 3,\n             ('first', 'reigned'): 2,\n             ('first', 'name'): 8,\n             ('charles', 'name'): 2,\n             ('name', 'reigned'): 1,\n             ('first', 'holding'): 2,\n             ('charles', 'holding'): 1,\n             ('name', 'holding'): 3,\n             ('sovereignty', 'first'): 2,\n             ('sovereignty', 'name'): 7,\n             ('sovereignty', 'holding'): 3,\n             ('sovereignty', 'right'): 28,\n             ('right', 'name'): 11,\n             ('right', 'holding'): 2,\n             ('sovereignty', 'descent'): 2,\n             ('right', 'descent'): 3,\n             ('descent', 'holding'): 1,\n             ('sovereignty', 'continued'): 1,\n             ('right', 'continued'): 11,\n             ('descent', 'continued'): 3,\n             ('right', 'six'): 1,\n             ('descent', 'six'): 1,\n             ('continued', 'six'): 1,\n             ('six', 'descent'): 1,\n             ('six', 'continued'): 2,\n             ('six', 'hundred'): 3,\n             ('descent', 'hundred'): 1,\n             ('continued', 'hundred'): 2,\n             ('six', 'years'): 2,\n             ('years', 'continued'): 1,\n             ('years', 'hundred'): 9,\n             ('six', 'much'): 1,\n             ('much', 'years'): 3,\n             ('much', 'hundred'): 2,\n             ('much', 'longer'): 4,\n             ('years', 'longer'): 2,\n             ('hundred', 'longer'): 1,\n             ('descent', 'much'): 2,\n             ('descent', 'years'): 4,\n             ('descent', 'longer'): 3,\n             ('descent', 'king'): 3,\n             ('much', 'king'): 7,\n             ('king', 'longer'): 2,\n             ('scotland', 'descent'): 1,\n             ('scotland', 'king'): 4,\n             ('scotland', 'longer'): 1,\n             ('descent', 'time'): 1,\n             ('descent', 'scotland'): 3,\n             ('king', 'time'): 82,\n             ('king', 'scotland'): 24,\n             ('time', 'scotland'): 11,\n             ('king', 'ancestor'): 2,\n             ('time', 'ancestor'): 3,\n             ('ancestor', 'scotland'): 2,\n             ('henry', 'time'): 15,\n             ('henry', 'ancestor'): 3,\n             ('henry', 'scotland'): 1,\n             ('henry', 'ii'): 3,\n             ('time', 'ii'): 3,\n             ('ancestor', 'ii'): 2,\n             ('king', 'henry'): 20,\n             ('king', 'ii'): 9,\n             ('ireland', 'king'): 2,\n             ('ireland', 'henry'): 1,\n             ('ireland', 'ii'): 2,\n             ('ireland', 'man'): 1,\n             ('king', 'man'): 89,\n             ('man', 'ii'): 4,\n             ('king', 'wanted'): 4,\n             ('king', 'ireland'): 12,\n             ('man', 'wanted'): 6,\n             ('man', 'ireland'): 3,\n             ('wanted', 'ireland'): 2,\n             ('man', 'virtue'): 9,\n             ('wanted', 'virtue'): 2,\n             ('virtue', 'ireland'): 1,\n             ('man', 'either'): 100,\n             ('wanted', 'either'): 5,\n             ('virtue', 'either'): 3,\n             ('body', 'virtue'): 2,\n             ('body', 'wanted'): 1,\n             ('body', 'either'): 5,\n             ('virtue', 'wanted'): 1,\n             ('mind', 'body'): 7,\n             ('mind', 'virtue'): 1,\n             ('mind', 'either'): 4,\n             ('mind', 'endeavoured'): 1,\n             ('body', 'endeavoured'): 1,\n             ('endeavoured', 'either'): 1,\n             ('endeavoured', 'body'): 1,\n             ('endeavoured', 'anything'): 3,\n             ('endeavoured', 'mind'): 2,\n             ('body', 'anything'): 2,\n             ('body', 'mind'): 28,\n             ('anything', 'mind'): 2,\n             ('endeavoured', 'discharge'): 2,\n             ('anything', 'discharge'): 1,\n             ('discharge', 'mind'): 1,\n             ('endeavoured', 'duty'): 1,\n             ('duty', 'discharge'): 6,\n             ('duty', 'anything'): 2,\n             ('discharge', 'anything'): 2,\n             ('towards', 'duty'): 3,\n             ('towards', 'discharge'): 2,\n             ('towards', 'anything'): 1,\n             ('towards', 'god'): 3,\n             ('god', 'duty'): 7,\n             ('god', 'discharge'): 1,\n             ('god', 'towards'): 16,\n             ('god', 'well'): 25,\n             ('duty', 'towards'): 5,\n             ('duty', 'well'): 6,\n             ('towards', 'well'): 2,\n             ('governing', 'god'): 3,\n             ('governing', 'towards'): 1,\n             ('governing', 'well'): 9,\n             ('governing', 'subject'): 6,\n             ('subject', 'god'): 76,\n             ('subject', 'well'): 17,\n             ('governing', 'could'): 1,\n             ('subject', 'could'): 14,\n             ('subject', 'miscarry'): 2,\n             ('subject', 'governing'): 4,\n             ('miscarry', 'could'): 3,\n             ('miscarry', 'governing'): 1,\n             ('could', 'governing'): 1,\n             ('subject', 'every'): 146,\n             ('miscarry', 'every'): 3,\n             ('could', 'every'): 12,\n             ('county', 'miscarry'): 2,\n             ('county', 'could'): 4,\n             ('county', 'every'): 15,\n             ('county', 'many'): 3,\n             ('many', 'miscarry'): 1,\n             ('many', 'every'): 15,\n             ('county', 'trained'): 2,\n             ('many', 'trained'): 3,\n             ('trained', 'every'): 1,\n             ('county', 'soldiers'): 1,\n             ('many', 'soldiers'): 6,\n             ('trained', 'soldiers'): 6,\n             ('many', 'would'): 20,\n             ('trained', 'would'): 4,\n             ('soldiers', 'would'): 10,\n             ('put', 'soldiers'): 2,\n             ('put', 'trained'): 1,\n             ('put', 'would'): 16,\n             ('soldiers', 'trained'): 12,\n             ('together', 'put'): 7,\n             ('together', 'soldiers'): 1,\n             ('together', 'would'): 7,\n             ('together', 'made'): 6,\n             ('put', 'made'): 5,\n             ('would', 'made'): 2,\n             ('put', 'army'): 8,\n             ('put', 'together'): 14,\n             ('army', 'together'): 3,\n             ('army', 'made'): 4,\n             ('man', 'made'): 41,\n             ('man', 'army'): 21,\n             ('man', 'together'): 46,\n             ('made', 'army'): 14,\n             ('made', 'together'): 12,\n             ('man', 'divers'): 14,\n             ('made', 'divers'): 2,\n             ('army', 'divers'): 2,\n             ('man', 'magazines'): 2,\n             ('magazines', 'army'): 2,\n             ('magazines', 'divers'): 1,\n             ('divers', 'ammunition'): 2,\n             ('divers', 'man'): 46,\n             ('divers', 'magazines'): 2,\n             ('ammunition', 'man'): 4,\n             ('ammunition', 'magazines'): 2,\n             ('divers', 'places'): 48,\n             ('ammunition', 'places'): 3,\n             ('places', 'magazines'): 1,\n             ('magazines', 'ammunition'): 4,\n             ('magazines', 'places'): 1,\n             ('magazines', 'fortified'): 1,\n             ('ammunition', 'fortified'): 2,\n             ('places', 'fortified'): 12,\n             ('ammunition', 'soldiers'): 1,\n             ('places', 'soldiers'): 1,\n             ('fortified', 'soldiers'): 1,\n             ('subject', 'soldiers'): 5,\n             ('subject', 'places'): 7,\n             ('subject', 'fortified'): 2,\n             ('soldiers', 'places'): 1,\n             ('soldiers', 'fortified'): 2,\n             ('subject', 'ought'): 43,\n             ('soldiers', 'ought'): 2,\n             ('ought', 'fortified'): 1,\n             ('subject', 'majestys'): 2,\n             ('soldiers', 'majestys'): 1,\n             ('ought', 'majestys'): 1,\n             ('subject', 'command'): 33,\n             ('majestys', 'ought'): 2,\n             ('majestys', 'command'): 3,\n             ('ought', 'command'): 5,\n             ('majestys', 'peace'): 2,\n             ('command', 'ought'): 7,\n             ('command', 'peace'): 6,\n             ('ought', 'peace'): 2,\n             ('majestys', 'happiness'): 1,\n             ('command', 'happiness'): 2,\n             ('happiness', 'peace'): 3,\n             ('command', 'three'): 1,\n             ('happiness', 'three'): 1,\n             ('three', 'peace'): 4,\n             ('kingdoms', 'three'): 4,\n             ('kingdoms', 'happiness'): 2,\n             ('kingdoms', 'peace'): 1,\n             ('three', 'happiness'): 2,\n             ('kingdoms', 'continued'): 3,\n             ('three', 'continued'): 2,\n             ('happiness', 'continued'): 1,\n             ('kingdoms', 'left'): 2,\n             ('three', 'left'): 1,\n             ('continued', 'left'): 3,\n             ('kingdoms', 'king'): 4,\n             ('king', 'continued'): 7,\n             ('king', 'left'): 12,\n             ('king', 'james'): 24,\n             ('james', 'continued'): 1,\n             ('james', 'left'): 2,\n             ('king', 'people'): 50,\n             ('james', 'people'): 2,\n             ('left', 'people'): 1,\n             ('king', 'corrupted'): 1,\n             ('james', 'corrupted'): 2,\n             ('corrupted', 'people'): 1,\n             ('generally', 'people'): 3,\n             ('generally', 'james'): 1,\n             ('generally', 'corrupted'): 3,\n             ('people', 'james'): 3,\n             ('people', 'corrupted'): 6,\n             ('people', 'generally'): 7,\n             ('people', 'disobedient'): 1,\n             ('generally', 'disobedient'): 3,\n             ('disobedient', 'corrupted'): 2,\n             ('generally', 'persons'): 5,\n             ('disobedient', 'persons'): 3,\n             ('persons', 'corrupted'): 1,\n             ('esteemed', 'generally'): 1,\n             ('esteemed', 'disobedient'): 2,\n             ('esteemed', 'persons'): 3,\n             ('esteemed', 'best'): 3,\n             ('disobedient', 'best'): 1,\n             ('best', 'persons'): 4,\n             ('esteemed', 'patriots'): 2,\n             ('best', 'patriots'): 3,\n             ('persons', 'patriots'): 1,\n             ('esteemed', 'sure'): 1,\n             ('sure', 'best'): 2,\n             ('sure', 'patriots'): 3,\n             ('man', 'sure'): 4,\n             ('man', 'best'): 13,\n             ('man', 'patriots'): 2,\n             ('man', 'enough'): 45,\n             ('sure', 'enough'): 6,\n             ('enough', 'patriots'): 1,\n             ('man', 'besides'): 20,\n             ('sure', 'besides'): 3,\n             ('besides', 'enough'): 3,\n             ('ill-affected', 'man'): 1,\n             ('ill-affected', 'besides'): 3,\n             ('ill-affected', 'enough'): 2,\n             ('made', 'ill-affected'): 3,\n             ('made', 'besides'): 7,\n             ('made', 'enough'): 7,\n             ('ill-affected', 'army'): 2,\n             ('army', 'besides'): 1,\n             ('made', 'sufficient'): 12,\n             ('ill-affected', 'sufficient'): 1,\n             ('army', 'sufficient'): 6,\n             ('made', 'kept'): 1,\n             ('army', 'kept'): 2,\n             ('sufficient', 'kept'): 3,\n             ('sufficient', 'people'): 7,\n             ('sufficient', 'army'): 21,\n             ('people', 'army'): 2,\n             ('people', 'kept'): 3,\n             ('sufficient', 'uniting'): 1,\n             ('people', 'uniting'): 1,\n             ('uniting', 'kept'): 2,\n             ('uniting', 'people'): 2,\n             ('uniting', 'body'): 3,\n             ('people', 'body'): 6,\n             ('body', 'kept'): 1,\n             ('uniting', 'able'): 2,\n             ('people', 'able'): 1,\n             ('able', 'body'): 2,\n             ('uniting', 'oppose'): 1,\n             ('oppose', 'able'): 1,\n             ('oppose', 'body'): 1,\n             ('body', 'truly'): 1,\n             ('body', 'able'): 1,\n             ('body', 'oppose'): 1,\n             ('truly', 'able'): 2,\n             ('truly', 'oppose'): 3,\n             ('able', 'oppose'): 4,\n             ('think', 'truly'): 2,\n             ('think', 'able'): 1,\n             ('think', 'oppose'): 2,\n             ('king', 'think'): 13,\n             ('king', 'truly'): 3,\n             ('king', 'oppose'): 11,\n             ('money', 'king'): 31,\n             ('money', 'truly'): 1,\n             ('money', 'think'): 5,\n             ('truly', 'think'): 6,\n             ('money', 'might'): 3,\n             ('king', 'might'): 5,\n             ('might', 'think'): 8,\n             ('money', 'soldiers'): 9,\n             ('king', 'soldiers'): 6,\n             ('might', 'soldiers'): 2,\n             ('money', 'enough'): 12,\n             ('soldiers', 'might'): 1,\n             ('soldiers', 'enough'): 5,\n             ('might', 'enough'): 5,\n             ('soldiers', 'england'): 2,\n             ('england', 'enough'): 4,\n             ('common', 'soldiers'): 6,\n             ('common', 'england'): 10,\n             ('common', 'enough'): 6,\n             ('common', 'people'): 84,\n             ('england', 'people'): 5,\n             ('people', 'enough'): 12,\n             ('common', 'cared'): 2,\n             ('england', 'cared'): 1,\n             ('people', 'cared'): 3,\n             ('common', 'much'): 11,\n             ('people', 'much'): 26,\n             ('cared', 'much'): 2,\n             ('people', 'either'): 20,\n             ('cared', 'either'): 2,\n             ('either', 'much'): 1,\n             ('much', 'cared'): 4,\n             ('much', 'causes'): 5,\n             ('much', 'either'): 11,\n             ('cared', 'causes'): 1,\n             ('causes', 'either'): 6,\n             ('much', 'would'): 35,\n             ('causes', 'would'): 3,\n             ('would', 'either'): 13,\n             ('taken', 'causes'): 2,\n             ('taken', 'would'): 27,\n             ('taken', 'either'): 7,\n             ('taken', 'side'): 3,\n             ('causes', 'side'): 1,\n             ('would', 'side'): 4,\n             ('pay', 'taken'): 2,\n             ('pay', 'would'): 1,\n             ('pay', 'side'): 3,\n             ('pay', 'plunder'): 3,\n             ('taken', 'plunder'): 1,\n             ('plunder', 'side'): 2,\n             ('pay', 'king'): 4,\n             ('king', 'plunder'): 3,\n             ('king', 'side'): 18,\n             ('treasury', 'pay'): 1,\n             ('treasury', 'king'): 3,\n             ('treasury', 'plunder'): 2,\n             ('treasury', 'low'): 2,\n             ('king', 'low'): 2,\n             ('plunder', 'low'): 1,\n             ('treasury', 'enemies'): 2,\n             ('king', 'enemies'): 19,\n             ('low', 'enemies'): 3,\n             ('low', 'treasury'): 1,\n             ('low', 'pretended'): 2,\n             ('treasury', 'pretended'): 1,\n             ('enemies', 'pretended'): 5,\n             ('low', 'peoples'): 1,\n             ('peoples', 'enemies'): 2,\n             ('peoples', 'pretended'): 3,\n             ('ease', 'peoples'): 3,\n             ('ease', 'enemies'): 1,\n             ('ease', 'pretended'): 2,\n             ('ease', 'taxes'): 3,\n             ('peoples', 'taxes'): 2,\n             ('taxes', 'pretended'): 1,\n             ('ease', 'specious'): 2,\n             ('peoples', 'specious'): 1,\n             ('taxes', 'specious'): 3,\n             ('ease', 'things'): 1,\n             ('taxes', 'things'): 2,\n             ('things', 'specious'): 1,\n             ('taxes', 'command'): 1,\n             ('command', 'specious'): 2,\n             ('command', 'things'): 22,\n             ('specious', 'things'): 2,\n             ('command', 'purses'): 3,\n             ('specious', 'purses'): 1,\n             ('things', 'purses'): 1,\n             ('command', 'city'): 39,\n             ('purses', 'things'): 1,\n             ('purses', 'city'): 3,\n             ('things', 'city'): 16,\n             ('london', 'command'): 5,\n             ('london', 'purses'): 2,\n             ('london', 'city'): 37,\n             ('london', 'cities'): 3,\n             ('purses', 'cities'): 1,\n             ('cities', 'city'): 3,\n             ('london', 'corporate'): 2,\n             ('cities', 'corporate'): 3,\n             ('corporate', 'city'): 1,\n             ('london', 'towns'): 6,\n             ('towns', 'cities'): 2,\n             ('towns', 'corporate'): 6,\n             ('england', 'towns'): 10,\n             ('england', 'cities'): 2,\n             ('england', 'corporate'): 4,\n             ('many', 'england'): 13,\n             ('many', 'towns'): 5,\n             ('many', 'corporate'): 1,\n             ('many', 'particular'): 16,\n             ('england', 'particular'): 3,\n             ('towns', 'particular'): 4,\n             ('many', 'persons'): 21,\n             ('england', 'persons'): 1,\n             ('persons', 'particular'): 22,\n             ('many', 'besides'): 18,\n             ('persons', 'besides'): 3,\n             ('besides', 'particular'): 5,\n             ('came', 'persons'): 1,\n             ('came', 'besides'): 1,\n             ('came', 'particular'): 1,\n             ('people', 'persons'): 8,\n             ('people', 'besides'): 3,\n             ('people', 'came'): 7,\n             ('persons', 'came'): 1,\n             ('besides', 'came'): 3,\n             ('besides', 'corrupted'): 1,\n             ('corrupted', 'came'): 2,\n             ('kind', 'people'): 6,\n             ('kind', 'corrupted'): 3,\n             ('kind', 'came'): 3,\n             ('could', 'kind'): 1,\n             ('could', 'people'): 4,\n             ('could', 'corrupted'): 1,\n             ('kind', 'could'): 3,\n             ('kind', 'seduce'): 1,\n             ('people', 'could'): 26,\n             ('people', 'seduce'): 2,\n             ('could', 'seduce'): 3,\n             ('people', 'seducers'): 1,\n             ('seducers', 'could'): 2,\n             ('seducers', 'seduce'): 3,\n             ('divers', 'seducers'): 3,\n             ('divers', 'could'): 3,\n             ('divers', 'seduce'): 2,\n             ('divers', 'sorts'): 15,\n             ('sorts', 'seducers'): 2,\n             ('sorts', 'seduce'): 1,\n             ('divers', 'one'): 13,\n             ('sorts', 'one'): 29,\n             ('seducers', 'one'): 1,\n             ('divers', 'sort'): 1,\n             ('sort', 'sorts'): 5,\n             ('sort', 'one'): 17,\n             ('ministers', 'sort'): 3,\n             ('ministers', 'sorts'): 1,\n             ('ministers', 'one'): 2,\n             ('called', 'ministers'): 1,\n             ('called', 'sort'): 4,\n             ('ministers', 'called'): 8,\n             ('ministers', 'christ'): 19,\n             ('called', 'christ'): 29,\n             ('ministers', 'sometimes'): 1,\n             ('called', 'sometimes'): 32,\n             ('christ', 'sometimes'): 3,\n             ('called', 'sermons'): 1,\n             ('christ', 'sermons'): 2,\n             ('sermons', 'sometimes'): 3,\n             ('people', 'christ'): 4,\n             ('people', 'sermons'): 8,\n             ('people', 'sometimes'): 3,\n             ('people', 'god'): 138,\n             ('sermons', 'god'): 5,\n             ('sometimes', 'god'): 21,\n             ('ambassadors', 'people'): 4,\n             ('ambassadors', 'sermons'): 1,\n             ('ambassadors', 'god'): 4,\n             ('ambassadors', 'pretending'): 3,\n             ('people', 'pretending'): 1,\n             ('pretending', 'god'): 4,\n             ('ambassadors', 'right'): 2,\n             ('pretending', 'right'): 2,\n             ('god', 'right'): 2,\n             ('right', 'govern'): 10,\n             ('right', 'pretending'): 1,\n             ('right', 'god'): 110,\n             ('govern', 'pretending'): 1,\n             ('govern', 'god'): 7,\n             ('right', 'every'): 148,\n             ('govern', 'every'): 6,\n             ('god', 'every'): 40,\n             ('one', 'govern'): 5,\n             ('one', 'god'): 56,\n             ('one', 'every'): 532,\n             ('parish', 'one'): 3,\n             ('parish', 'govern'): 1,\n             ('parish', 'every'): 4,\n             ('parish', 'assembly'): 3,\n             ('one', 'assembly'): 11,\n             ('assembly', 'every'): 20,\n             ('whole', 'parish'): 1,\n             ('whole', 'assembly'): 1,\n             ('whole', 'one'): 15,\n             ('assembly', 'one'): 66,\n             ('nation', 'parish'): 1,\n             ('nation', 'assembly'): 4,\n             ('nation', 'whole'): 41,\n             ('parish', 'whole'): 1,\n             ('assembly', 'whole'): 11,\n             ('nation', 'secondly'): 3,\n             ('secondly', 'assembly'): 6,\n             ('secondly', 'whole'): 3,\n             ('nation', 'great'): 4,\n             ('secondly', 'great'): 7,\n             ('great', 'whole'): 4,\n             ('nation', 'number'): 1,\n             ('secondly', 'number'): 2,\n             ('great', 'number'): 58,\n             ('secondly', 'though'): 4,\n             ('great', 'though'): 24,\n             ('number', 'though'): 3,\n             ('though', 'great'): 6,\n             ('though', 'number'): 6,\n             ('though', 'comparable'): 3,\n             ('great', 'comparable'): 1,\n             ('number', 'comparable'): 2,\n             ('though', 'notwithstanding'): 2,\n             ('number', 'notwithstanding'): 1,\n             ('comparable', 'notwithstanding'): 3,\n             ('popes', 'though'): 1,\n             ('popes', 'comparable'): 2,\n             ('popes', 'notwithstanding'): 3,\n             ('popes', 'power'): 23,\n             ('comparable', 'power'): 1,\n             ('power', 'notwithstanding'): 2,\n             ('popes', 'england'): 3,\n             ('england', 'power'): 13,\n             ('england', 'notwithstanding'): 3,\n             ('popes', 'temporal'): 1,\n             ('england', 'temporal'): 3,\n             ('temporal', 'power'): 15,\n             ('england', 'ecclesiastical'): 2,\n             ('ecclesiastical', 'temporal'): 3,\n             ('ecclesiastical', 'power'): 8,\n             ('england', 'act'): 3,\n             ('ecclesiastical', 'act'): 2,\n             ('act', 'temporal'): 2,\n             ('ecclesiastical', 'parliament'): 1,\n             ('act', 'parliament'): 45,\n             ('temporal', 'parliament'): 1,\n             ('abolished', 'act'): 5,\n             ('abolished', 'parliament'): 5,\n             ('abolished', 'ecclesiastical'): 1,\n             ('act', 'ecclesiastical'): 1,\n             ('parliament', 'ecclesiastical'): 1,\n             ('abolished', 'still'): 3,\n             ('act', 'still'): 1,\n             ('parliament', 'still'): 6,\n             ('retain', 'abolished'): 2,\n             ('retain', 'parliament'): 1,\n             ('retain', 'still'): 12,\n             ('retain', 'belief'): 3,\n             ('abolished', 'belief'): 1,\n             ('belief', 'still'): 2,\n             ('retain', 'ought'): 4,\n             ('ought', 'belief'): 2,\n             ('ought', 'still'): 1,\n             ('retain', 'governed'): 1,\n             ('ought', 'governed'): 5,\n             ('belief', 'governed'): 2,\n             ('pope', 'belief'): 2,\n             ('pope', 'ought'): 6,\n             ('pope', 'governed'): 3,\n             ('belief', 'ought'): 1,\n             ('pope', 'pretended'): 13,\n             ('ought', 'pretended'): 1,\n             ('governed', 'pretended'): 2,\n             ('pope', 'vicar'): 9,\n             ('governed', 'vicar'): 1,\n             ('vicar', 'pretended'): 4,\n             ('pope', 'christ'): 6,\n             ('christ', 'vicar'): 9,\n             ('christ', 'pretended'): 2,\n             ('right', 'christ'): 9,\n             ('right', 'vicar'): 4,\n             ('right', 'pretended'): 14,\n             ('right', 'governor'): 5,\n             ('christ', 'governor'): 3,\n             ('right', 'christian'): 16,\n             ('christ', 'christian'): 15,\n             ('governor', 'christian'): 3,\n             ('people', 'governor'): 5,\n             ('people', 'christian'): 26,\n             ('known', 'people'): 2,\n             ('known', 'governor'): 1,\n             ('known', 'christian'): 2,\n             ('known', 'name'): 1,\n             ('people', 'name'): 17,\n             ('name', 'christian'): 1,\n             ('papists', 'people'): 1,\n             ('papists', 'name'): 3,\n             ('papists', 'known'): 2,\n             ('people', 'known'): 16,\n             ('name', 'known'): 2,\n             ('papists', 'ministers'): 2,\n             ('ministers', 'name'): 6,\n             ('ministers', 'known'): 1,\n             ('papists', 'mentioned'): 2,\n             ('ministers', 'mentioned'): 3,\n             ('name', 'mentioned'): 1,\n             ('ministers', 'commonly'): 2,\n             ('ministers', 'papists'): 1,\n             ('commonly', 'papists'): 1,\n             ('commonly', 'mentioned'): 3,\n             ('called', 'commonly'): 105,\n             ('called', 'mentioned'): 3,\n             ('called', 'presbyterians'): 3,\n             ('commonly', 'presbyterians'): 2,\n             ('mentioned', 'presbyterians'): 1,\n             ('called', 'thirdly'): 6,\n             ('thirdly', 'commonly'): 1,\n             ('thirdly', 'presbyterians'): 3,\n             ('called', 'beginning'): 5,\n             ('beginning', 'thirdly'): 3,\n             ('beginning', 'presbyterians'): 2,\n             ('troubles', 'beginning'): 1,\n             ('troubles', 'thirdly'): 1,\n             ('troubles', 'presbyterians'): 1,\n             ('discovered', 'beginning'): 2,\n             ('discovered', 'thirdly'): 1,\n             ('discovered', 'troubles'): 3,\n             ('beginning', 'troubles'): 2,\n             ('thirdly', 'troubles'): 1,\n             ('discovered', 'shortly'): 3,\n             ('beginning', 'shortly'): 1,\n             ('troubles', 'shortly'): 2,\n             ('discovered', 'declared'): 2,\n             ('troubles', 'declared'): 1,\n             ('shortly', 'declared'): 1,\n             ('discovered', 'liberty'): 1,\n             ('declared', 'liberty'): 1,\n             ('declared', 'shortly'): 2,\n             ('liberty', 'shortly'): 2,\n             ('liberty', 'declared'): 5,\n             ('liberty', 'religion'): 7,\n             ('declared', 'religion'): 2,\n             ('shortly', 'religion'): 1,\n             ('different', 'liberty'): 7,\n             ('different', 'declared'): 1,\n             ('different', 'religion'): 5,\n             ('different', 'opinions'): 13,\n             ('liberty', 'opinions'): 2,\n             ('opinions', 'religion'): 5,\n             ('different', 'one'): 14,\n             ('one', 'opinions'): 10,\n             ('one', 'religion'): 18,\n             ('different', 'another'): 5,\n             ('another', 'one'): 778,\n             ('another', 'opinions'): 4,\n             ('another', 'would'): 28,\n             ('one', 'would'): 18,\n             ('would', 'opinions'): 3,\n             ('another', 'congregations'): 2,\n             ('congregations', 'would'): 3,\n             ('congregations', 'one'): 1,\n             ('would', 'one'): 30,\n             ('another', 'free'): 3,\n             ('congregations', 'free'): 3,\n             ('free', 'would'): 4,\n             ('independent', 'congregations'): 2,\n             ('independent', 'free'): 3,\n             ('independent', 'would'): 1,\n             ('independent', 'upon'): 3,\n             ('congregations', 'upon'): 1,\n             ('free', 'upon'): 10,\n             ('independent', 'one'): 10,\n             ('free', 'one'): 10,\n             ('one', 'upon'): 56,\n             ('another', 'independent'): 3,\n             ('another', 'upon'): 41,\n             ('another', 'called'): 29,\n             ('called', 'one'): 50,\n             ('called', 'upon'): 8,\n             ('independents', 'another'): 1,\n             ('independents', 'called'): 1,\n             ('independents', 'one'): 3,\n             ('another', 'others'): 14,\n             ('another', 'independents'): 1,\n             ('called', 'others'): 26,\n             ('called', 'independents'): 2,\n             ('others', 'independents'): 3,\n             ('held', 'called'): 1,\n             ('held', 'others'): 9,\n             ('held', 'independents'): 2,\n             ('held', 'baptism'): 3,\n             ('others', 'baptism'): 2,\n             ('independents', 'baptism'): 1,\n             ('held', 'infants'): 2,\n             ('infants', 'others'): 3,\n             ('infants', 'baptism'): 3,\n             ('held', 'understood'): 1,\n             ('infants', 'understood'): 3,\n             ('understood', 'baptism'): 2,\n             ('infants', 'baptized'): 2,\n             ('understood', 'baptized'): 3,\n             ('baptism', 'baptized'): 1,\n             ('ineffectual', 'infants'): 1,\n             ('ineffectual', 'understood'): 2,\n             ('ineffectual', 'baptized'): 3,\n             ('ineffectual', 'called'): 3,\n             ('called', 'understood'): 3,\n             ('called', 'baptized'): 2,\n             ('ineffectual', 'therefore'): 2,\n             ('called', 'therefore'): 67,\n             ('therefore', 'baptized'): 1,\n             ('ineffectual', 'anabaptists'): 1,\n             ('called', 'anabaptists'): 1,\n             ('anabaptists', 'therefore'): 6,\n             ('anabaptists', 'called'): 1,\n             ('anabaptists', 'others'): 3,\n             ('others', 'therefore'): 27,\n             ('anabaptists', 'held'): 2,\n             ('held', 'therefore'): 1,\n             ('anabaptists', 'christs'): 1,\n             ('held', 'christs'): 3,\n             ('others', 'christs'): 4,\n             ('held', 'kingdom'): 2,\n             ('kingdom', 'others'): 1,\n             ('kingdom', 'christs'): 3,\n             ('held', 'time'): 10,\n             ('kingdom', 'time'): 6,\n             ('christs', 'time'): 4,\n             ('kingdom', 'begin'): 2,\n             ('christs', 'begin'): 1,\n             ('time', 'begin'): 3,\n             ('upon', 'kingdom'): 5,\n             ('upon', 'time'): 3,\n             ('upon', 'begin'): 1,\n             ('begin', 'earth'): 3,\n             ('begin', 'time'): 7,\n             ('begin', 'upon'): 5,\n             ('earth', 'time'): 12,\n             ...})"
     },
     "execution_count": 31,
     "metadata": {},
     "output_type": "execute_result"
    }
   ],
   "source": [
    "token_pair_counts"
   ],
   "metadata": {
    "collapsed": false,
    "pycharm": {
     "name": "#%%\n"
    }
   }
  },
  {
   "cell_type": "code",
   "execution_count": 32,
   "outputs": [
    {
     "data": {
      "text/plain": "421446"
     },
     "execution_count": 32,
     "metadata": {},
     "output_type": "execute_result"
    }
   ],
   "source": [
    "len(token_pair_counts)"
   ],
   "metadata": {
    "collapsed": false,
    "pycharm": {
     "name": "#%%\n"
    }
   }
  },
  {
   "cell_type": "code",
   "execution_count": 33,
   "outputs": [],
   "source": [
    "pair_counts_ids = {}\n",
    "for cur_pair, cur_count in token_pair_counts.items():\n",
    "    #print(cur_pair, cur_count)\n",
    "    cur_t0 = cur_pair[0]\n",
    "    cur_t1 = cur_pair[1]\n",
    "    t0_id = token_dict.token2id[cur_t0]\n",
    "    t1_id = token_dict.token2id[cur_t1]\n",
    "    pair_counts_ids[(t0_id, t1_id)] = cur_count"
   ],
   "metadata": {
    "collapsed": false,
    "pycharm": {
     "name": "#%%\n"
    }
   }
  },
  {
   "cell_type": "code",
   "execution_count": 34,
   "outputs": [
    {
     "data": {
      "text/plain": "{(3313, 3607): 1,\n (3313, 9336): 3,\n (3313, 12718): 5,\n (3607, 9336): 1,\n (3607, 12718): 1,\n (9336, 12718): 90,\n (3313, 6071): 3,\n (9336, 6071): 7,\n (12718, 6071): 7,\n (3313, 7645): 2,\n (7645, 9336): 1,\n (7645, 6071): 8,\n (13437, 3313): 1,\n (13437, 7645): 3,\n (13437, 6071): 2,\n (13437, 1288): 12,\n (1288, 7645): 1,\n (1288, 6071): 1,\n (13437, 6079): 2,\n (7645, 1288): 1,\n (7645, 6079): 1,\n (1288, 6079): 1,\n (13437, 12718): 1,\n (6079, 1288): 2,\n (6079, 12718): 5,\n (1288, 12718): 4,\n (6079, 13922): 2,\n (1288, 13922): 13,\n (12718, 13922): 11,\n (6079, 9028): 1,\n (9028, 12718): 12,\n (9028, 13922): 3,\n (9028, 14001): 5,\n (12718, 14001): 1,\n (14001, 13922): 1,\n (12595, 9028): 2,\n (12595, 13922): 6,\n (12595, 14001): 3,\n (13922, 14001): 1,\n (12595, 3586): 3,\n (3586, 9028): 1,\n (3586, 14001): 2,\n (8267, 12595): 3,\n (8267, 3586): 1,\n (8267, 14001): 1,\n (12595, 8267): 4,\n (12595, 7609): 1,\n (3586, 8267): 2,\n (3586, 7609): 2,\n (8267, 7609): 3,\n (13289, 3586): 1,\n (13289, 8267): 4,\n (13289, 7609): 8,\n (13289, 13897): 2,\n (13897, 8267): 1,\n (13897, 7609): 2,\n (13289, 8637): 1,\n (13897, 8637): 6,\n (8637, 7609): 1,\n (13897, 198): 5,\n (13897, 13289): 8,\n (8637, 198): 7,\n (8637, 13289): 4,\n (198, 13289): 14,\n (7782, 13897): 12,\n (7782, 8637): 4,\n (7782, 198): 170,\n (7782, 4542): 7,\n (4542, 8637): 1,\n (4542, 198): 4,\n (4542, 7782): 13,\n (4542, 4378): 3,\n (7782, 4378): 9,\n (4378, 198): 1,\n (8055, 4542): 2,\n (8055, 7782): 101,\n (8055, 4378): 13,\n (8055, 9975): 3,\n (4542, 9975): 1,\n (4378, 9975): 2,\n (8055, 7212): 2,\n (4378, 7212): 1,\n (7212, 9975): 2,\n (8055, 6729): 5,\n (6729, 9975): 2,\n (6729, 7212): 1,\n (9975, 7212): 1,\n (7212, 6729): 5,\n (7212, 5216): 3,\n (6729, 5216): 2,\n (7212, 13897): 2,\n (6729, 13897): 3,\n (13897, 5216): 3,\n (7212, 2912): 1,\n (13897, 2912): 11,\n (2912, 5216): 2,\n (2912, 13897): 3,\n (2912, 383): 1,\n (13897, 383): 2,\n (383, 5216): 1,\n (13897, 9838): 1,\n (383, 9838): 3,\n (383, 2912): 2,\n (9838, 2912): 2,\n (3132, 383): 2,\n (3132, 9838): 3,\n (3132, 2912): 1,\n (3132, 6255): 3,\n (383, 6255): 1,\n (6255, 9838): 2,\n (3132, 11313): 2,\n (11313, 6255): 3,\n (11313, 9838): 1,\n (3132, 13751): 1,\n (13751, 11313): 3,\n (13751, 6255): 2,\n (13751, 8741): 109,\n (11313, 8741): 2,\n (6255, 8741): 1,\n (4015, 13751): 4,\n (4015, 11313): 1,\n (4015, 8741): 10,\n (4015, 6711): 3,\n (13751, 6711): 1,\n (6711, 8741): 5,\n (4015, 5216): 2,\n (6711, 5216): 2,\n (6711, 5620): 1,\n (6711, 4015): 1,\n (5620, 5216): 3,\n (5620, 4015): 1,\n (5216, 4015): 1,\n (4015, 5620): 1,\n (4015, 1267): 1,\n (5620, 1267): 1,\n (1267, 5216): 2,\n (1267, 5620): 2,\n (1267, 9975): 3,\n (5620, 9975): 1,\n (5216, 9975): 1,\n (1267, 7568): 2,\n (9975, 5620): 1,\n (9975, 7568): 3,\n (5620, 7568): 1,\n (1267, 12718): 1,\n (9975, 12718): 2,\n (12718, 7568): 27,\n (9975, 8999): 1,\n (8999, 12718): 17,\n (8999, 7568): 2,\n (409, 8999): 2,\n (409, 12718): 3,\n (409, 7568): 3,\n (13749, 409): 3,\n (13749, 8999): 8,\n (13749, 12718): 42,\n (13749, 7782): 61,\n (7782, 8999): 120,\n (7782, 409): 16,\n (8999, 409): 1,\n (13749, 13311): 4,\n (7782, 13311): 21,\n (409, 13311): 1,\n (13749, 11280): 1,\n (7782, 11280): 84,\n (11280, 13311): 3,\n (1344, 7782): 5,\n (1344, 11280): 3,\n (1344, 13311): 2,\n (5671, 1344): 3,\n (5671, 11280): 7,\n (5671, 13311): 1,\n (5671, 4614): 68,\n (1344, 4614): 2,\n (11280, 4614): 2,\n (9587, 5671): 2,\n (9587, 1344): 1,\n (9587, 4614): 3,\n (9587, 11405): 3,\n (11405, 5671): 4,\n (11405, 4614): 2,\n (9587, 2912): 2,\n (11405, 2912): 5,\n (2912, 4614): 3,\n (9587, 11280): 1,\n (11405, 11280): 2,\n (11280, 2912): 12,\n (11405, 13711): 2,\n (11280, 13711): 14,\n (2912, 13711): 19,\n (13289, 11280): 3,\n (13289, 2912): 1,\n (13289, 13711): 7,\n (8267, 11280): 1,\n (8267, 13711): 2,\n (13289, 10527): 2,\n (10527, 8267): 2,\n (10527, 13711): 1,\n (10527, 198): 1,\n (10527, 13289): 3,\n (8267, 198): 2,\n (8267, 13289): 1,\n (11131, 8267): 1,\n (11131, 198): 3,\n (11131, 10527): 2,\n (8267, 10527): 1,\n (198, 10527): 2,\n (11131, 1822): 3,\n (1822, 198): 7,\n (1822, 10527): 1,\n (11131, 9727): 2,\n (1822, 9727): 3,\n (9727, 198): 1,\n (7150, 11131): 1,\n (7150, 1822): 3,\n (7150, 9727): 3,\n (7150, 8816): 3,\n (8816, 1822): 1,\n (8816, 9727): 2,\n (7150, 876): 2,\n (876, 8816): 3,\n (876, 9727): 1,\n (7150, 4600): 1,\n (876, 4600): 3,\n (8816, 4600): 2,\n (876, 13997): 2,\n (8816, 13997): 1,\n (13997, 4600): 3,\n (876, 5697): 1,\n (5697, 13997): 3,\n (5697, 4600): 2,\n (4378, 5697): 12,\n (4378, 13997): 7,\n (4378, 4600): 4,\n (8193, 4378): 1,\n (8193, 5697): 14,\n (8193, 13997): 1,\n (4378, 7213): 24,\n (4378, 8193): 2,\n (7213, 8193): 3,\n (7213, 5697): 35,\n (4378, 10502): 1,\n (7213, 10502): 3,\n (8193, 10502): 2,\n (7213, 1937): 22,\n (1937, 8193): 1,\n (1937, 10502): 3,\n (5141, 7213): 54,\n (5141, 1937): 3,\n (5141, 10502): 2,\n (5141, 8350): 8,\n (1937, 8350): 2,\n (8350, 10502): 1,\n (5141, 6128): 2,\n (1937, 6128): 1,\n (8350, 6128): 3,\n (11809, 5141): 2,\n (11809, 8350): 7,\n (11809, 6128): 3,\n (11809, 10887): 28,\n (10887, 8350): 11,\n (10887, 6128): 2,\n (11809, 3475): 2,\n (10887, 3475): 3,\n (3475, 6128): 1,\n (11809, 2740): 1,\n (10887, 2740): 11,\n (3475, 2740): 3,\n (10887, 11630): 1,\n (3475, 11630): 1,\n (2740, 11630): 1,\n (11630, 3475): 1,\n (11630, 2740): 2,\n (11630, 6228): 3,\n (3475, 6228): 1,\n (2740, 6228): 2,\n (11630, 14001): 2,\n (14001, 2740): 1,\n (14001, 6228): 9,\n (11630, 8289): 1,\n (8289, 14001): 3,\n (8289, 6228): 2,\n (8289, 7605): 4,\n (14001, 7605): 2,\n (6228, 7605): 1,\n (3475, 8289): 2,\n (3475, 14001): 4,\n (3475, 7605): 3,\n (3475, 7213): 3,\n (8289, 7213): 7,\n (7213, 7605): 2,\n (11202, 3475): 1,\n (11202, 7213): 4,\n (11202, 7605): 1,\n (3475, 12718): 1,\n (3475, 11202): 3,\n (7213, 12718): 82,\n (7213, 11202): 24,\n (12718, 11202): 11,\n (7213, 588): 2,\n (12718, 588): 3,\n (588, 11202): 2,\n (6024, 12718): 15,\n (6024, 588): 3,\n (6024, 11202): 1,\n (6024, 6298): 3,\n (12718, 6298): 3,\n (588, 6298): 2,\n (7213, 6024): 20,\n (7213, 6298): 9,\n (6954, 7213): 2,\n (6954, 6024): 1,\n (6954, 6298): 2,\n (6954, 7782): 1,\n (7213, 7782): 89,\n (7782, 6298): 4,\n (7213, 13608): 4,\n (7213, 6954): 12,\n (7782, 13608): 6,\n (7782, 6954): 3,\n (13608, 6954): 2,\n (7782, 13513): 9,\n (13608, 13513): 2,\n (13513, 6954): 1,\n (7782, 4221): 100,\n (13608, 4221): 5,\n (13513, 4221): 3,\n (1465, 13513): 2,\n (1465, 13608): 1,\n (1465, 4221): 5,\n (13513, 13608): 1,\n (8074, 1465): 7,\n (8074, 13513): 1,\n (8074, 4221): 4,\n (8074, 4334): 1,\n (1465, 4334): 1,\n (4334, 4221): 1,\n (4334, 1465): 1,\n (4334, 675): 3,\n (4334, 8074): 2,\n (1465, 675): 2,\n (1465, 8074): 28,\n (675, 8074): 2,\n (4334, 3723): 2,\n (675, 3723): 1,\n (3723, 8074): 1,\n (4334, 4115): 1,\n (4115, 3723): 6,\n (4115, 675): 2,\n (3723, 675): 2,\n (12783, 4115): 3,\n (12783, 3723): 2,\n (12783, 675): 1,\n (12783, 5652): 3,\n (5652, 4115): 7,\n (5652, 3723): 1,\n (5652, 12783): 16,\n (5652, 13711): 25,\n (4115, 12783): 5,\n (4115, 13711): 6,\n (12783, 13711): 2,\n (5696, 5652): 3,\n (5696, 12783): 1,\n (5696, 13711): 9,\n (5696, 12142): 6,\n (12142, 5652): 76,\n (12142, 13711): 17,\n (5696, 2912): 1,\n (12142, 2912): 14,\n (12142, 8115): 2,\n (12142, 5696): 4,\n (8115, 2912): 3,\n (8115, 5696): 1,\n (2912, 5696): 1,\n (12142, 4607): 146,\n (8115, 4607): 3,\n (2912, 4607): 12,\n (2958, 8115): 2,\n (2958, 2912): 4,\n (2958, 4607): 15,\n (2958, 7816): 3,\n (7816, 8115): 1,\n (7816, 4607): 15,\n (2958, 12809): 2,\n (7816, 12809): 3,\n (12809, 4607): 1,\n (2958, 11722): 1,\n (7816, 11722): 6,\n (12809, 11722): 6,\n (7816, 13922): 20,\n (12809, 13922): 4,\n (11722, 13922): 10,\n (10122, 11722): 2,\n (10122, 12809): 1,\n (10122, 13922): 16,\n (11722, 12809): 12,\n (12740, 10122): 7,\n (12740, 11722): 1,\n (12740, 13922): 7,\n (12740, 7699): 6,\n (10122, 7699): 5,\n (13922, 7699): 2,\n (10122, 851): 8,\n (10122, 12740): 14,\n (851, 12740): 3,\n (851, 7699): 4,\n (7782, 7699): 41,\n (7782, 851): 21,\n (7782, 12740): 46,\n (7699, 851): 14,\n (7699, 12740): 12,\n (7782, 3931): 14,\n (7699, 3931): 2,\n (851, 3931): 2,\n (7782, 7705): 2,\n (7705, 851): 2,\n (7705, 3931): 1,\n (3931, 567): 2,\n (3931, 7782): 46,\n (3931, 7705): 2,\n (567, 7782): 4,\n (567, 7705): 2,\n (3931, 9338): 48,\n (567, 9338): 3,\n (9338, 7705): 1,\n (7705, 567): 4,\n (7705, 9338): 1,\n (7705, 5352): 1,\n (567, 5352): 2,\n (9338, 5352): 12,\n (567, 11722): 1,\n (9338, 11722): 1,\n (5352, 11722): 1,\n (12142, 11722): 5,\n (12142, 9338): 7,\n (12142, 5352): 2,\n (11722, 9338): 1,\n (11722, 5352): 2,\n (12142, 8853): 43,\n (11722, 8853): 2,\n (8853, 5352): 1,\n (12142, 7757): 2,\n (11722, 7757): 1,\n (8853, 7757): 1,\n (12142, 2241): 33,\n (7757, 8853): 2,\n (7757, 2241): 3,\n (8853, 2241): 5,\n (7757, 9088): 2,\n (2241, 8853): 7,\n (2241, 9088): 6,\n (8853, 9088): 2,\n (7757, 5882): 1,\n (2241, 5882): 2,\n (5882, 9088): 3,\n (2241, 12677): 1,\n (5882, 12677): 1,\n (12677, 9088): 4,\n (7217, 12677): 4,\n (7217, 5882): 2,\n (7217, 9088): 1,\n (12677, 5882): 2,\n (7217, 2740): 3,\n (12677, 2740): 2,\n (5882, 2740): 1,\n (7217, 7384): 2,\n (12677, 7384): 1,\n (2740, 7384): 3,\n (7217, 7213): 4,\n (7213, 2740): 7,\n (7213, 7384): 12,\n (7213, 7016): 24,\n (7016, 2740): 1,\n (7016, 7384): 2,\n (7213, 9132): 50,\n (7016, 9132): 2,\n (7384, 9132): 1,\n (7213, 2900): 1,\n (7016, 2900): 2,\n (2900, 9132): 1,\n (5555, 9132): 3,\n (5555, 7016): 1,\n (5555, 2900): 3,\n (9132, 7016): 3,\n (9132, 2900): 6,\n (9132, 5555): 7,\n (9132, 3802): 1,\n (5555, 3802): 3,\n (3802, 2900): 2,\n (5555, 9217): 5,\n (3802, 9217): 3,\n (9217, 2900): 1,\n (4564, 5555): 1,\n (4564, 3802): 2,\n (4564, 9217): 3,\n (4564, 1344): 3,\n (3802, 1344): 1,\n (1344, 9217): 4,\n (4564, 9065): 2,\n (1344, 9065): 3,\n (9217, 9065): 1,\n (4564, 12334): 1,\n (12334, 1344): 2,\n (12334, 9065): 3,\n (7782, 12334): 4,\n (7782, 1344): 13,\n (7782, 9065): 2,\n (7782, 4411): 45,\n (12334, 4411): 6,\n (4411, 9065): 1,\n (7782, 1337): 20,\n (12334, 1337): 3,\n (1337, 4411): 3,\n (6305, 7782): 1,\n (6305, 1337): 3,\n (6305, 4411): 2,\n (7699, 6305): 3,\n (7699, 1337): 7,\n (7699, 4411): 7,\n (6305, 851): 2,\n (851, 1337): 1,\n (7699, 12236): 12,\n (6305, 12236): 1,\n (851, 12236): 6,\n (7699, 7186): 1,\n (851, 7186): 2,\n (12236, 7186): 3,\n (12236, 9132): 7,\n (12236, 851): 21,\n (9132, 851): 2,\n (9132, 7186): 3,\n (12236, 13178): 1,\n (9132, 13178): 1,\n (13178, 7186): 2,\n (13178, 9132): 2,\n (13178, 1465): 3,\n (9132, 1465): 6,\n (1465, 7186): 1,\n (13178, 36): 2,\n (9132, 36): 1,\n (36, 1465): 2,\n (13178, 8774): 1,\n (8774, 36): 1,\n (8774, 1465): 1,\n (1465, 12957): 1,\n (1465, 36): 1,\n (1465, 8774): 1,\n (12957, 36): 2,\n (12957, 8774): 3,\n (36, 8774): 4,\n (12640, 12957): 2,\n (12640, 36): 1,\n (12640, 8774): 2,\n (7213, 12640): 13,\n (7213, 12957): 3,\n (7213, 8774): 11,\n (8203, 7213): 31,\n (8203, 12957): 1,\n (8203, 12640): 5,\n (12957, 12640): 6,\n (8203, 8055): 3,\n (7213, 8055): 5,\n (8055, 12640): 8,\n (8203, 11722): 9,\n (7213, 11722): 6,\n (8055, 11722): 2,\n (8203, 4411): 12,\n (11722, 8055): 1,\n (11722, 4411): 5,\n (8055, 4411): 5,\n (11722, 4378): 2,\n (4378, 4411): 4,\n (2289, 11722): 6,\n (2289, 4378): 10,\n (2289, 4411): 6,\n (2289, 9132): 84,\n (4378, 9132): 5,\n (9132, 4411): 12,\n (2289, 1751): 2,\n (4378, 1751): 1,\n (9132, 1751): 3,\n (2289, 8289): 11,\n (9132, 8289): 26,\n (1751, 8289): 2,\n (9132, 4221): 20,\n (1751, 4221): 2,\n (4221, 8289): 1,\n (8289, 1751): 4,\n (8289, 1822): 5,\n (8289, 4221): 11,\n (1751, 1822): 1,\n (1822, 4221): 6,\n (8289, 13922): 35,\n (1822, 13922): 3,\n (13922, 4221): 13,\n (12445, 1822): 2,\n (12445, 13922): 27,\n (12445, 4221): 7,\n (12445, 11541): 3,\n (1822, 11541): 1,\n (13922, 11541): 4,\n (9075, 12445): 2,\n (9075, 13922): 1,\n (9075, 11541): 3,\n (9075, 9401): 3,\n (12445, 9401): 1,\n (9401, 11541): 2,\n (9075, 7213): 4,\n (7213, 9401): 3,\n (7213, 11541): 18,\n (12889, 9075): 1,\n (12889, 7213): 3,\n (12889, 9401): 2,\n (12889, 7645): 2,\n (7213, 7645): 2,\n (9401, 7645): 1,\n (12889, 4352): 2,\n (7213, 4352): 19,\n (7645, 4352): 3,\n (7645, 12889): 1,\n (7645, 9721): 2,\n (12889, 9721): 1,\n (4352, 9721): 5,\n (7645, 9133): 1,\n (9133, 4352): 2,\n (9133, 9721): 3,\n (4148, 9133): 3,\n (4148, 4352): 1,\n (4148, 9721): 2,\n (4148, 12481): 3,\n (9133, 12481): 2,\n (12481, 9721): 1,\n (4148, 11847): 2,\n (9133, 11847): 1,\n (12481, 11847): 3,\n (4148, 12639): 1,\n (12481, 12639): 2,\n (12639, 11847): 1,\n (12481, 2241): 1,\n (2241, 11847): 2,\n (2241, 12639): 22,\n (11847, 12639): 2,\n (2241, 10109): 3,\n (11847, 10109): 1,\n (12639, 10109): 1,\n (2241, 2072): 39,\n (10109, 12639): 1,\n (10109, 2072): 3,\n (12639, 2072): 16,\n (7598, 2241): 5,\n (7598, 10109): 2,\n (7598, 2072): 37,\n (7598, 2069): 3,\n (10109, 2069): 1,\n (2069, 2072): 3,\n (7598, 2880): 2,\n (2069, 2880): 3,\n (2880, 2072): 1,\n (7598, 12789): 6,\n (12789, 2069): 2,\n (12789, 2880): 6,\n (4378, 12789): 10,\n (4378, 2069): 2,\n (4378, 2880): 4,\n (7816, 4378): 13,\n (7816, 12789): 5,\n (7816, 2880): 1,\n (7816, 9011): 16,\n (4378, 9011): 3,\n (12789, 9011): 4,\n (7816, 9217): 21,\n (4378, 9217): 1,\n (9217, 9011): 22,\n (7816, 1337): 18,\n (9217, 1337): 3,\n (1337, 9011): 5,\n (1698, 9217): 1,\n (1698, 1337): 1,\n (1698, 9011): 1,\n (9132, 9217): 8,\n (9132, 1337): 3,\n (9132, 1698): 7,\n (9217, 1698): 1,\n (1337, 1698): 3,\n (1337, 2900): 1,\n (2900, 1698): 2,\n (7201, 9132): 6,\n (7201, 2900): 3,\n (7201, 1698): 3,\n (2912, 7201): 1,\n (2912, 9132): 4,\n (2912, 2900): 1,\n (7201, 2912): 3,\n (7201, 11274): 1,\n (9132, 2912): 26,\n (9132, 11274): 2,\n (2912, 11274): 3,\n (9132, 11277): 1,\n (11277, 2912): 2,\n (11277, 11274): 3,\n (3931, 11277): 3,\n (3931, 2912): 3,\n (3931, 11274): 2,\n (3931, 11781): 15,\n (11781, 11277): 2,\n (11781, 11274): 1,\n (3931, 8741): 13,\n (11781, 8741): 29,\n (11277, 8741): 1,\n (3931, 11780): 1,\n (11780, 11781): 5,\n (11780, 8741): 17,\n (8088, 11780): 3,\n (8088, 11781): 1,\n (8088, 8741): 2,\n (1686, 8088): 1,\n (1686, 11780): 4,\n (8088, 1686): 8,\n (8088, 2013): 19,\n (1686, 2013): 29,\n (8088, 11749): 1,\n (1686, 11749): 32,\n (2013, 11749): 3,\n (1686, 11383): 1,\n (2013, 11383): 2,\n (11383, 11749): 3,\n (9132, 2013): 4,\n (9132, 11383): 8,\n (9132, 11749): 3,\n (9132, 5652): 138,\n (11383, 5652): 5,\n (11749, 5652): 21,\n (544, 9132): 4,\n (544, 11383): 1,\n (544, 5652): 4,\n (544, 9725): 3,\n (9132, 9725): 1,\n (9725, 5652): 4,\n (544, 10887): 2,\n (9725, 10887): 2,\n (5652, 10887): 2,\n (10887, 5689): 10,\n (10887, 9725): 1,\n (10887, 5652): 110,\n (5689, 9725): 1,\n (5689, 5652): 7,\n (10887, 4607): 148,\n (5689, 4607): 6,\n (5652, 4607): 40,\n (8741, 5689): 5,\n (8741, 5652): 56,\n (8741, 4607): 532,\n (8977, 8741): 3,\n (8977, 5689): 1,\n (8977, 4607): 4,\n (8977, 930): 3,\n (8741, 930): 11,\n (930, 4607): 20,\n (13774, 8977): 1,\n (13774, 930): 1,\n (13774, 8741): 15,\n (930, 8741): 66,\n (8362, 8977): 1,\n (8362, 930): 4,\n (8362, 13774): 41,\n (8977, 13774): 1,\n (930, 13774): 11,\n (8362, 11248): 3,\n (11248, 930): 6,\n (11248, 13774): 3,\n (8362, 5740): 4,\n (11248, 5740): 7,\n (5740, 13774): 4,\n (8362, 8569): 1,\n (11248, 8569): 2,\n (5740, 8569): 58,\n (11248, 12659): 4,\n (5740, 12659): 24,\n (8569, 12659): 3,\n (12659, 5740): 6,\n (12659, 8569): 6,\n (12659, 2334): 3,\n (5740, 2334): 1,\n (8569, 2334): 2,\n (12659, 8548): 2,\n (8569, 8548): 1,\n (2334, 8548): 3,\n (9470, 12659): 1,\n (9470, 2334): 2,\n (9470, 8548): 3,\n (9470, 9525): 23,\n (2334, 9525): 1,\n (9525, 8548): 2,\n (9470, 4378): 3,\n (4378, 9525): 13,\n (4378, 8548): 3,\n (9470, 12509): 1,\n (4378, 12509): 3,\n (12509, 9525): 15,\n (4378, 4172): 2,\n (4172, 12509): 3,\n (4172, 9525): 8,\n (4378, 193): 3,\n (4172, 193): 2,\n (193, 12509): 2,\n (4172, 8984): 1,\n (193, 8984): 45,\n (12509, 8984): 1,\n (43, 193): 5,\n (43, 8984): 5,\n (43, 4172): 1,\n (193, 4172): 1,\n (8984, 4172): 1,\n (43, 12002): 3,\n (193, 12002): 1,\n (8984, 12002): 6,\n (10796, 43): 2,\n (10796, 8984): 1,\n (10796, 12002): 12,\n (10796, 1286): 3,\n (43, 1286): 1,\n (1286, 12002): 2,\n (10796, 8853): 4,\n (8853, 1286): 2,\n (8853, 12002): 1,\n (10796, 5693): 1,\n (8853, 5693): 5,\n (1286, 5693): 2,\n (9466, 1286): 2,\n (9466, 8853): 6,\n (9466, 5693): 3,\n (1286, 8853): 1,\n (9466, 9721): 13,\n (8853, 9721): 1,\n (5693, 9721): 2,\n (9466, 13457): 9,\n (5693, 13457): 1,\n (13457, 9721): 4,\n (9466, 2013): 6,\n (2013, 13457): 9,\n (2013, 9721): 2,\n (10887, 2013): 9,\n (10887, 13457): 4,\n (10887, 9721): 14,\n (10887, 5699): 5,\n (2013, 5699): 3,\n (10887, 2018): 16,\n (2013, 2018): 15,\n (5699, 2018): 3,\n (9132, 5699): 5,\n (9132, 2018): 26,\n (7245, 9132): 2,\n (7245, 5699): 1,\n (7245, 2018): 2,\n (7245, 8350): 1,\n (9132, 8350): 17,\n (8350, 2018): 1,\n (8951, 9132): 1,\n (8951, 8350): 3,\n (8951, 7245): 2,\n (9132, 7245): 16,\n (8350, 7245): 2,\n (8951, 8088): 2,\n (8088, 8350): 6,\n (8088, 7245): 1,\n (8951, 7995): 2,\n (8088, 7995): 3,\n (8350, 7995): 1,\n (8088, 2306): 2,\n (8088, 8951): 1,\n (2306, 8951): 1,\n (2306, 7995): 3,\n (1686, 2306): 105,\n (1686, 7995): 3,\n (1686, 9671): 3,\n (2306, 9671): 2,\n (7995, 9671): 1,\n (1686, 12647): 6,\n (12647, 2306): 1,\n (12647, 9671): 3,\n (1686, 1253): 5,\n (1253, 12647): 3,\n (1253, 9671): 2,\n (12948, 1253): 1,\n (12948, 12647): 1,\n (12948, 9671): 1,\n (3753, 1253): 2,\n (3753, 12647): 1,\n (3753, 12948): 3,\n (1253, 12948): 2,\n (12647, 12948): 1,\n (3753, 11505): 3,\n (1253, 11505): 1,\n (12948, 11505): 2,\n (3753, 3226): 2,\n (12948, 3226): 1,\n (11505, 3226): 1,\n (3753, 7479): 1,\n (3226, 7479): 1,\n (3226, 11505): 2,\n (7479, 11505): 2,\n (7479, 3226): 5,\n (7479, 10544): 7,\n (3226, 10544): 2,\n (11505, 10544): 1,\n (3632, 7479): 7,\n (3632, 3226): 1,\n (3632, 10544): 5,\n (3632, 8767): 13,\n (7479, 8767): 2,\n (8767, 10544): 5,\n (3632, 8741): 14,\n (8741, 8767): 10,\n (8741, 10544): 18,\n (3632, 631): 5,\n (631, 8741): 778,\n (631, 8767): 4,\n (631, 13922): 28,\n (8741, 13922): 18,\n (13922, 8767): 3,\n (631, 2560): 2,\n (2560, 13922): 3,\n (2560, 8741): 1,\n (13922, 8741): 30,\n (631, 5405): 3,\n (2560, 5405): 3,\n (5405, 13922): 4,\n (6571, 2560): 2,\n (6571, 5405): 3,\n (6571, 13922): 1,\n (6571, 13289): 3,\n (2560, 13289): 1,\n (5405, 13289): 10,\n (6571, 8741): 10,\n (5405, 8741): 10,\n (8741, 13289): 56,\n (631, 6571): 3,\n (631, 13289): 41,\n (631, 1686): 29,\n (1686, 8741): 50,\n (1686, 13289): 8,\n (6572, 631): 1,\n (6572, 1686): 1,\n (6572, 8741): 3,\n (631, 8849): 14,\n (631, 6572): 1,\n (1686, 8849): 26,\n (1686, 6572): 2,\n (8849, 6572): 3,\n (6004, 1686): 1,\n (6004, 8849): 9,\n (6004, 6572): 2,\n (6004, 1147): 3,\n (8849, 1147): 2,\n (6572, 1147): 1,\n (6004, 6631): 2,\n (6631, 8849): 3,\n (6631, 1147): 3,\n (6004, 13108): 1,\n (6631, 13108): 3,\n (13108, 1147): 2,\n (6631, 1152): 2,\n (13108, 1152): 3,\n (1147, 1152): 1,\n (6616, 6631): 1,\n (6616, 13108): 2,\n (6616, 1152): 3,\n (6616, 1686): 3,\n (1686, 13108): 3,\n (1686, 1152): 2,\n (6616, 12615): 2,\n (1686, 12615): 67,\n (12615, 1152): 1,\n (6616, 578): 1,\n (1686, 578): 1,\n (578, 12615): 6,\n (578, 1686): 1,\n (578, 8849): 3,\n (8849, 12615): 27,\n (578, 6004): 2,\n (6004, 12615): 1,\n (578, 2024): 1,\n (6004, 2024): 3,\n (8849, 2024): 4,\n (6004, 7214): 2,\n (7214, 8849): 1,\n (7214, 2024): 3,\n (6004, 12718): 10,\n (7214, 12718): 6,\n (2024, 12718): 4,\n (7214, 1250): 2,\n (2024, 1250): 1,\n (12718, 1250): 3,\n (13289, 7214): 5,\n (13289, 12718): 3,\n (13289, 1250): 1,\n (1250, 4143): 3,\n (1250, 12718): 7,\n (1250, 13289): 5,\n (4143, 12718): 12,\n ...}"
     },
     "execution_count": 34,
     "metadata": {},
     "output_type": "execute_result"
    }
   ],
   "source": [
    "pair_counts_ids"
   ],
   "metadata": {
    "collapsed": false,
    "pycharm": {
     "name": "#%%\n"
    }
   }
  },
  {
   "cell_type": "code",
   "execution_count": 35,
   "outputs": [],
   "source": [
    "# Convert to ids\n",
    "get_tid = lambda x: token_dict.token2id[x]\n",
    "pair_counts_ids = {(get_tid(cur_pair[0]), get_tid(cur_pair[1])): cur_count for cur_pair, cur_count in token_pair_counts.items()}"
   ],
   "metadata": {
    "collapsed": false,
    "pycharm": {
     "name": "#%%\n"
    }
   }
  },
  {
   "cell_type": "code",
   "execution_count": 36,
   "outputs": [],
   "source": [
    "import scipy.sparse"
   ],
   "metadata": {
    "collapsed": false,
    "pycharm": {
     "name": "#%%\n"
    }
   }
  },
  {
   "cell_type": "code",
   "execution_count": 37,
   "outputs": [],
   "source": [
    "data_vals = [v for k,v in pair_counts_ids.items()]\n",
    "data_i = [k[0] for k,v in pair_counts_ids.items()]\n",
    "data_j = [k[1] for k,v in pair_counts_ids.items()]"
   ],
   "metadata": {
    "collapsed": false,
    "pycharm": {
     "name": "#%%\n"
    }
   }
  },
  {
   "cell_type": "code",
   "execution_count": 38,
   "outputs": [
    {
     "data": {
      "text/plain": "[3313,\n 3313,\n 3313,\n 3607,\n 3607,\n 9336,\n 3313,\n 9336,\n 12718,\n 3313,\n 7645,\n 7645,\n 13437,\n 13437,\n 13437,\n 13437,\n 1288,\n 1288,\n 13437,\n 7645,\n 7645,\n 1288,\n 13437,\n 6079,\n 6079,\n 1288,\n 6079,\n 1288,\n 12718,\n 6079,\n 9028,\n 9028,\n 9028,\n 12718,\n 14001,\n 12595,\n 12595,\n 12595,\n 13922,\n 12595,\n 3586,\n 3586,\n 8267,\n 8267,\n 8267,\n 12595,\n 12595,\n 3586,\n 3586,\n 8267,\n 13289,\n 13289,\n 13289,\n 13289,\n 13897,\n 13897,\n 13289,\n 13897,\n 8637,\n 13897,\n 13897,\n 8637,\n 8637,\n 198,\n 7782,\n 7782,\n 7782,\n 7782,\n 4542,\n 4542,\n 4542,\n 4542,\n 7782,\n 4378,\n 8055,\n 8055,\n 8055,\n 8055,\n 4542,\n 4378,\n 8055,\n 4378,\n 7212,\n 8055,\n 6729,\n 6729,\n 9975,\n 7212,\n 7212,\n 6729,\n 7212,\n 6729,\n 13897,\n 7212,\n 13897,\n 2912,\n 2912,\n 2912,\n 13897,\n 383,\n 13897,\n 383,\n 383,\n 9838,\n 3132,\n 3132,\n 3132,\n 3132,\n 383,\n 6255,\n 3132,\n 11313,\n 11313,\n 3132,\n 13751,\n 13751,\n 13751,\n 11313,\n 6255,\n 4015,\n 4015,\n 4015,\n 4015,\n 13751,\n 6711,\n 4015,\n 6711,\n 6711,\n 6711,\n 5620,\n 5620,\n 5216,\n 4015,\n 4015,\n 5620,\n 1267,\n 1267,\n 1267,\n 5620,\n 5216,\n 1267,\n 9975,\n 9975,\n 5620,\n 1267,\n 9975,\n 12718,\n 9975,\n 8999,\n 8999,\n 409,\n 409,\n 409,\n 13749,\n 13749,\n 13749,\n 13749,\n 7782,\n 7782,\n 8999,\n 13749,\n 7782,\n 409,\n 13749,\n 7782,\n 11280,\n 1344,\n 1344,\n 1344,\n 5671,\n 5671,\n 5671,\n 5671,\n 1344,\n 11280,\n 9587,\n 9587,\n 9587,\n 9587,\n 11405,\n 11405,\n 9587,\n 11405,\n 2912,\n 9587,\n 11405,\n 11280,\n 11405,\n 11280,\n 2912,\n 13289,\n 13289,\n 13289,\n 8267,\n 8267,\n 13289,\n 10527,\n 10527,\n 10527,\n 10527,\n 8267,\n 8267,\n 11131,\n 11131,\n 11131,\n 8267,\n 198,\n 11131,\n 1822,\n 1822,\n 11131,\n 1822,\n 9727,\n 7150,\n 7150,\n 7150,\n 7150,\n 8816,\n 8816,\n 7150,\n 876,\n 876,\n 7150,\n 876,\n 8816,\n 876,\n 8816,\n 13997,\n 876,\n 5697,\n 5697,\n 4378,\n 4378,\n 4378,\n 8193,\n 8193,\n 8193,\n 4378,\n 4378,\n 7213,\n 7213,\n 4378,\n 7213,\n 8193,\n 7213,\n 1937,\n 1937,\n 5141,\n 5141,\n 5141,\n 5141,\n 1937,\n 8350,\n 5141,\n 1937,\n 8350,\n 11809,\n 11809,\n 11809,\n 11809,\n 10887,\n 10887,\n 11809,\n 10887,\n 3475,\n 11809,\n 10887,\n 3475,\n 10887,\n 3475,\n 2740,\n 11630,\n 11630,\n 11630,\n 3475,\n 2740,\n 11630,\n 14001,\n 14001,\n 11630,\n 8289,\n 8289,\n 8289,\n 14001,\n 6228,\n 3475,\n 3475,\n 3475,\n 3475,\n 8289,\n 7213,\n 11202,\n 11202,\n 11202,\n 3475,\n 3475,\n 7213,\n 7213,\n 12718,\n 7213,\n 12718,\n 588,\n 6024,\n 6024,\n 6024,\n 6024,\n 12718,\n 588,\n 7213,\n 7213,\n 6954,\n 6954,\n 6954,\n 6954,\n 7213,\n 7782,\n 7213,\n 7213,\n 7782,\n 7782,\n 13608,\n 7782,\n 13608,\n 13513,\n 7782,\n 13608,\n 13513,\n 1465,\n 1465,\n 1465,\n 13513,\n 8074,\n 8074,\n 8074,\n 8074,\n 1465,\n 4334,\n 4334,\n 4334,\n 4334,\n 1465,\n 1465,\n 675,\n 4334,\n 675,\n 3723,\n 4334,\n 4115,\n 4115,\n 3723,\n 12783,\n 12783,\n 12783,\n 12783,\n 5652,\n 5652,\n 5652,\n 5652,\n 4115,\n 4115,\n 12783,\n 5696,\n 5696,\n 5696,\n 5696,\n 12142,\n 12142,\n 5696,\n 12142,\n 12142,\n 12142,\n 8115,\n 8115,\n 2912,\n 12142,\n 8115,\n 2912,\n 2958,\n 2958,\n 2958,\n 2958,\n 7816,\n 7816,\n 2958,\n 7816,\n 12809,\n 2958,\n 7816,\n 12809,\n 7816,\n 12809,\n 11722,\n 10122,\n 10122,\n 10122,\n 11722,\n 12740,\n 12740,\n 12740,\n 12740,\n 10122,\n 13922,\n 10122,\n 10122,\n 851,\n 851,\n 7782,\n 7782,\n 7782,\n 7699,\n 7699,\n 7782,\n 7699,\n 851,\n 7782,\n 7705,\n 7705,\n 3931,\n 3931,\n 3931,\n 567,\n 567,\n 3931,\n 567,\n 9338,\n 7705,\n 7705,\n 7705,\n 567,\n 9338,\n 567,\n 9338,\n 5352,\n 12142,\n 12142,\n 12142,\n 11722,\n 11722,\n 12142,\n 11722,\n 8853,\n 12142,\n 11722,\n 8853,\n 12142,\n 7757,\n 7757,\n 8853,\n 7757,\n 2241,\n 2241,\n 8853,\n 7757,\n 2241,\n 5882,\n 2241,\n 5882,\n 12677,\n 7217,\n 7217,\n 7217,\n 12677,\n 7217,\n 12677,\n 5882,\n 7217,\n 12677,\n 2740,\n 7217,\n 7213,\n 7213,\n 7213,\n 7016,\n 7016,\n 7213,\n 7016,\n 7384,\n 7213,\n 7016,\n 2900,\n 5555,\n 5555,\n 5555,\n 9132,\n 9132,\n 9132,\n 9132,\n 5555,\n 3802,\n 5555,\n 3802,\n 9217,\n 4564,\n 4564,\n 4564,\n 4564,\n 3802,\n 1344,\n 4564,\n 1344,\n 9217,\n 4564,\n 12334,\n 12334,\n 7782,\n 7782,\n 7782,\n 7782,\n 12334,\n 4411,\n 7782,\n 12334,\n 1337,\n 6305,\n 6305,\n 6305,\n 7699,\n 7699,\n 7699,\n 6305,\n 851,\n 7699,\n 6305,\n 851,\n 7699,\n 851,\n 12236,\n 12236,\n 12236,\n 9132,\n 9132,\n 12236,\n 9132,\n 13178,\n 13178,\n 13178,\n 9132,\n 1465,\n 13178,\n 9132,\n 36,\n 13178,\n 8774,\n 8774,\n 1465,\n 1465,\n 1465,\n 12957,\n 12957,\n 36,\n 12640,\n 12640,\n 12640,\n 7213,\n 7213,\n 7213,\n 8203,\n 8203,\n 8203,\n 12957,\n 8203,\n 7213,\n 8055,\n 8203,\n 7213,\n 8055,\n 8203,\n 11722,\n 11722,\n 8055,\n 11722,\n 4378,\n 2289,\n 2289,\n 2289,\n 2289,\n 4378,\n 9132,\n 2289,\n 4378,\n 9132,\n 2289,\n 9132,\n 1751,\n 9132,\n 1751,\n 4221,\n 8289,\n 8289,\n 8289,\n 1751,\n 1822,\n 8289,\n 1822,\n 13922,\n 12445,\n 12445,\n 12445,\n 12445,\n 1822,\n 13922,\n 9075,\n 9075,\n 9075,\n 9075,\n 12445,\n 9401,\n 9075,\n 7213,\n 7213,\n 12889,\n 12889,\n 12889,\n 12889,\n 7213,\n 9401,\n 12889,\n 7213,\n 7645,\n 7645,\n 7645,\n 12889,\n 4352,\n 7645,\n 9133,\n 9133,\n 4148,\n 4148,\n 4148,\n 4148,\n 9133,\n 12481,\n 4148,\n 9133,\n 12481,\n 4148,\n 12481,\n 12639,\n 12481,\n 2241,\n 2241,\n 11847,\n 2241,\n 11847,\n 12639,\n 2241,\n 10109,\n 10109,\n 12639,\n 7598,\n 7598,\n 7598,\n 7598,\n 10109,\n 2069,\n 7598,\n 2069,\n 2880,\n 7598,\n 12789,\n 12789,\n 4378,\n 4378,\n 4378,\n 7816,\n 7816,\n 7816,\n 7816,\n 4378,\n 12789,\n 7816,\n 4378,\n 9217,\n 7816,\n 9217,\n 1337,\n 1698,\n 1698,\n 1698,\n 9132,\n 9132,\n 9132,\n 9217,\n 1337,\n 1337,\n 2900,\n 7201,\n 7201,\n 7201,\n 2912,\n 2912,\n 2912,\n 7201,\n 7201,\n 9132,\n 9132,\n 2912,\n 9132,\n 11277,\n 11277,\n 3931,\n 3931,\n 3931,\n 3931,\n 11781,\n 11781,\n 3931,\n 11781,\n 11277,\n 3931,\n 11780,\n 11780,\n 8088,\n 8088,\n 8088,\n 1686,\n 1686,\n 8088,\n 8088,\n 1686,\n 8088,\n 1686,\n 2013,\n 1686,\n 2013,\n 11383,\n 9132,\n 9132,\n 9132,\n 9132,\n 11383,\n 11749,\n 544,\n 544,\n 544,\n 544,\n 9132,\n 9725,\n 544,\n 9725,\n 5652,\n 10887,\n 10887,\n 10887,\n 5689,\n 5689,\n 10887,\n 5689,\n 5652,\n 8741,\n 8741,\n 8741,\n 8977,\n 8977,\n 8977,\n 8977,\n 8741,\n 930,\n 13774,\n 13774,\n 13774,\n 930,\n 8362,\n 8362,\n 8362,\n 8977,\n 930,\n 8362,\n 11248,\n 11248,\n 8362,\n 11248,\n 5740,\n 8362,\n 11248,\n 5740,\n 11248,\n 5740,\n 8569,\n 12659,\n 12659,\n 12659,\n 5740,\n 8569,\n 12659,\n 8569,\n 2334,\n 9470,\n 9470,\n 9470,\n 9470,\n 2334,\n 9525,\n 9470,\n 4378,\n 4378,\n 9470,\n 4378,\n 12509,\n 4378,\n 4172,\n 4172,\n 4378,\n 4172,\n 193,\n 4172,\n 193,\n 12509,\n 43,\n 43,\n 43,\n 193,\n 8984,\n 43,\n 193,\n 8984,\n 10796,\n 10796,\n 10796,\n 10796,\n 43,\n 1286,\n 10796,\n 8853,\n 8853,\n 10796,\n 8853,\n 1286,\n 9466,\n 9466,\n 9466,\n 1286,\n 9466,\n 8853,\n 5693,\n 9466,\n 5693,\n 13457,\n 9466,\n 2013,\n 2013,\n 10887,\n 10887,\n 10887,\n 10887,\n 2013,\n 10887,\n 2013,\n 5699,\n 9132,\n 9132,\n 7245,\n 7245,\n 7245,\n 7245,\n 9132,\n 8350,\n 8951,\n 8951,\n 8951,\n 9132,\n 8350,\n 8951,\n 8088,\n 8088,\n 8951,\n 8088,\n 8350,\n 8088,\n 8088,\n 2306,\n 2306,\n 1686,\n 1686,\n 1686,\n 2306,\n 7995,\n 1686,\n 12647,\n 12647,\n 1686,\n 1253,\n 1253,\n 12948,\n 12948,\n 12948,\n 3753,\n 3753,\n 3753,\n 1253,\n 12647,\n 3753,\n 1253,\n 12948,\n 3753,\n 12948,\n 11505,\n 3753,\n 3226,\n 3226,\n 7479,\n 7479,\n 7479,\n 3226,\n 11505,\n 3632,\n 3632,\n 3632,\n 3632,\n 7479,\n 8767,\n 3632,\n 8741,\n 8741,\n 3632,\n 631,\n 631,\n 631,\n 8741,\n 13922,\n 631,\n 2560,\n 2560,\n 13922,\n 631,\n 2560,\n 5405,\n 6571,\n 6571,\n 6571,\n 6571,\n 2560,\n 5405,\n 6571,\n 5405,\n 8741,\n 631,\n 631,\n 631,\n 1686,\n 1686,\n 6572,\n 6572,\n 6572,\n 631,\n 631,\n 1686,\n 1686,\n 8849,\n 6004,\n 6004,\n 6004,\n 6004,\n 8849,\n 6572,\n 6004,\n 6631,\n 6631,\n 6004,\n 6631,\n 13108,\n 6631,\n 13108,\n 1147,\n 6616,\n 6616,\n 6616,\n 6616,\n 1686,\n 1686,\n 6616,\n 1686,\n 12615,\n 6616,\n 1686,\n 578,\n 578,\n 578,\n 8849,\n 578,\n 6004,\n 578,\n 6004,\n 8849,\n 6004,\n 7214,\n 7214,\n 6004,\n 7214,\n 2024,\n 7214,\n 2024,\n 12718,\n 13289,\n 13289,\n 13289,\n 1250,\n 1250,\n 1250,\n 4143,\n ...]"
     },
     "execution_count": 38,
     "metadata": {},
     "output_type": "execute_result"
    }
   ],
   "source": [
    "data_i"
   ],
   "metadata": {
    "collapsed": false,
    "pycharm": {
     "name": "#%%\n"
    }
   }
  },
  {
   "cell_type": "code",
   "execution_count": 39,
   "outputs": [
    {
     "ename": "ValueError",
     "evalue": "row index exceeds matrix dimensions",
     "output_type": "error",
     "traceback": [
      "\u001B[1;31m---------------------------------------------------------------------------\u001B[0m",
      "\u001B[1;31mValueError\u001B[0m                                Traceback (most recent call last)",
      "Input \u001B[1;32mIn [39]\u001B[0m, in \u001B[0;36m<cell line: 1>\u001B[1;34m()\u001B[0m\n\u001B[1;32m----> 1\u001B[0m co_sparse \u001B[38;5;241m=\u001B[39m \u001B[43mscipy\u001B[49m\u001B[38;5;241;43m.\u001B[39;49m\u001B[43msparse\u001B[49m\u001B[38;5;241;43m.\u001B[39;49m\u001B[43mcoo_matrix\u001B[49m\u001B[43m(\u001B[49m\u001B[43m(\u001B[49m\u001B[43mdata_vals\u001B[49m\u001B[43m,\u001B[49m\u001B[43m \u001B[49m\u001B[43m(\u001B[49m\u001B[43mdata_i\u001B[49m\u001B[43m,\u001B[49m\u001B[43mdata_j\u001B[49m\u001B[43m)\u001B[49m\u001B[43m)\u001B[49m\u001B[43m,\u001B[49m\u001B[43m \u001B[49m\u001B[43mshape\u001B[49m\u001B[38;5;241;43m=\u001B[39;49m\u001B[43m(\u001B[49m\u001B[43mnum_tokens\u001B[49m\u001B[43m,\u001B[49m\u001B[43m \u001B[49m\u001B[43mnum_tokens\u001B[49m\u001B[43m)\u001B[49m\u001B[43m)\u001B[49m\n",
      "File \u001B[1;32m~\\lib\\site-packages\\scipy\\sparse\\_coo.py:196\u001B[0m, in \u001B[0;36mcoo_matrix.__init__\u001B[1;34m(self, arg1, shape, dtype, copy)\u001B[0m\n\u001B[0;32m    193\u001B[0m \u001B[38;5;28;01mif\u001B[39;00m dtype \u001B[38;5;129;01mis\u001B[39;00m \u001B[38;5;129;01mnot\u001B[39;00m \u001B[38;5;28;01mNone\u001B[39;00m:\n\u001B[0;32m    194\u001B[0m     \u001B[38;5;28mself\u001B[39m\u001B[38;5;241m.\u001B[39mdata \u001B[38;5;241m=\u001B[39m \u001B[38;5;28mself\u001B[39m\u001B[38;5;241m.\u001B[39mdata\u001B[38;5;241m.\u001B[39mastype(dtype, copy\u001B[38;5;241m=\u001B[39m\u001B[38;5;28;01mFalse\u001B[39;00m)\n\u001B[1;32m--> 196\u001B[0m \u001B[38;5;28;43mself\u001B[39;49m\u001B[38;5;241;43m.\u001B[39;49m\u001B[43m_check\u001B[49m\u001B[43m(\u001B[49m\u001B[43m)\u001B[49m\n",
      "File \u001B[1;32m~\\lib\\site-packages\\scipy\\sparse\\_coo.py:283\u001B[0m, in \u001B[0;36mcoo_matrix._check\u001B[1;34m(self)\u001B[0m\n\u001B[0;32m    281\u001B[0m \u001B[38;5;28;01mif\u001B[39;00m \u001B[38;5;28mself\u001B[39m\u001B[38;5;241m.\u001B[39mnnz \u001B[38;5;241m>\u001B[39m \u001B[38;5;241m0\u001B[39m:\n\u001B[0;32m    282\u001B[0m     \u001B[38;5;28;01mif\u001B[39;00m \u001B[38;5;28mself\u001B[39m\u001B[38;5;241m.\u001B[39mrow\u001B[38;5;241m.\u001B[39mmax() \u001B[38;5;241m>\u001B[39m\u001B[38;5;241m=\u001B[39m \u001B[38;5;28mself\u001B[39m\u001B[38;5;241m.\u001B[39mshape[\u001B[38;5;241m0\u001B[39m]:\n\u001B[1;32m--> 283\u001B[0m         \u001B[38;5;28;01mraise\u001B[39;00m \u001B[38;5;167;01mValueError\u001B[39;00m(\u001B[38;5;124m'\u001B[39m\u001B[38;5;124mrow index exceeds matrix dimensions\u001B[39m\u001B[38;5;124m'\u001B[39m)\n\u001B[0;32m    284\u001B[0m     \u001B[38;5;28;01mif\u001B[39;00m \u001B[38;5;28mself\u001B[39m\u001B[38;5;241m.\u001B[39mcol\u001B[38;5;241m.\u001B[39mmax() \u001B[38;5;241m>\u001B[39m\u001B[38;5;241m=\u001B[39m \u001B[38;5;28mself\u001B[39m\u001B[38;5;241m.\u001B[39mshape[\u001B[38;5;241m1\u001B[39m]:\n\u001B[0;32m    285\u001B[0m         \u001B[38;5;28;01mraise\u001B[39;00m \u001B[38;5;167;01mValueError\u001B[39;00m(\u001B[38;5;124m'\u001B[39m\u001B[38;5;124mcolumn index exceeds matrix dimensions\u001B[39m\u001B[38;5;124m'\u001B[39m)\n",
      "\u001B[1;31mValueError\u001B[0m: row index exceeds matrix dimensions"
     ]
    }
   ],
   "source": [
    "co_sparse = scipy.sparse.coo_matrix((data_vals, (data_i,data_j)), shape=(num_tokens, num_tokens))"
   ],
   "metadata": {
    "collapsed": false,
    "pycharm": {
     "name": "#%%\n"
    }
   }
  },
  {
   "cell_type": "code",
   "execution_count": null,
   "outputs": [],
   "source": [
    "data_rows = [pd.arrays.SparseArray([k[0],k[1],v]) for k, v in token_pair_counts.items()]"
   ],
   "metadata": {
    "collapsed": false,
    "pycharm": {
     "name": "#%%\n"
    }
   }
  },
  {
   "cell_type": "code",
   "execution_count": 40,
   "outputs": [],
   "source": [
    "#scipy.sparse.coo_matrix()"
   ],
   "metadata": {
    "collapsed": false,
    "pycharm": {
     "name": "#%%\n"
    }
   }
  },
  {
   "cell_type": "code",
   "execution_count": 41,
   "outputs": [
    {
     "ename": "NameError",
     "evalue": "name 'data_rows' is not defined",
     "output_type": "error",
     "traceback": [
      "\u001B[1;31m---------------------------------------------------------------------------\u001B[0m",
      "\u001B[1;31mNameError\u001B[0m                                 Traceback (most recent call last)",
      "Input \u001B[1;32mIn [41]\u001B[0m, in \u001B[0;36m<cell line: 1>\u001B[1;34m()\u001B[0m\n\u001B[1;32m----> 1\u001B[0m co_df_long \u001B[38;5;241m=\u001B[39m pd\u001B[38;5;241m.\u001B[39mDataFrame(\u001B[43mdata_rows\u001B[49m, columns\u001B[38;5;241m=\u001B[39m[\u001B[38;5;124m'\u001B[39m\u001B[38;5;124mword1\u001B[39m\u001B[38;5;124m'\u001B[39m,\u001B[38;5;124m'\u001B[39m\u001B[38;5;124mword2\u001B[39m\u001B[38;5;124m'\u001B[39m,\u001B[38;5;124m'\u001B[39m\u001B[38;5;124mco_freq\u001B[39m\u001B[38;5;124m'\u001B[39m])\n\u001B[0;32m      2\u001B[0m co_df_long\u001B[38;5;241m.\u001B[39mset_index(\u001B[38;5;124m'\u001B[39m\u001B[38;5;124mword1\u001B[39m\u001B[38;5;124m'\u001B[39m, inplace\u001B[38;5;241m=\u001B[39m\u001B[38;5;28;01mTrue\u001B[39;00m)\n",
      "\u001B[1;31mNameError\u001B[0m: name 'data_rows' is not defined"
     ]
    }
   ],
   "source": [
    "co_df_long = pd.DataFrame(data_rows, columns=['word1','word2','co_freq'])\n",
    "co_df_long.set_index('word1', inplace=True)"
   ],
   "metadata": {
    "collapsed": false,
    "pycharm": {
     "name": "#%%\n"
    }
   }
  },
  {
   "cell_type": "code",
   "execution_count": 42,
   "outputs": [
    {
     "ename": "NameError",
     "evalue": "name 'co_df_long' is not defined",
     "output_type": "error",
     "traceback": [
      "\u001B[1;31m---------------------------------------------------------------------------\u001B[0m",
      "\u001B[1;31mNameError\u001B[0m                                 Traceback (most recent call last)",
      "Input \u001B[1;32mIn [42]\u001B[0m, in \u001B[0;36m<cell line: 1>\u001B[1;34m()\u001B[0m\n\u001B[1;32m----> 1\u001B[0m \u001B[43mco_df_long\u001B[49m\n",
      "\u001B[1;31mNameError\u001B[0m: name 'co_df_long' is not defined"
     ]
    }
   ],
   "source": [
    "co_df_long"
   ],
   "metadata": {
    "collapsed": false,
    "pycharm": {
     "name": "#%%\n"
    }
   }
  },
  {
   "cell_type": "markdown",
   "source": [
    "Now we can construct the word-context matrix"
   ],
   "metadata": {
    "collapsed": false,
    "pycharm": {
     "name": "#%% md\n"
    }
   }
  },
  {
   "cell_type": "code",
   "execution_count": 42,
   "outputs": [],
   "source": [],
   "metadata": {
    "collapsed": false,
    "pycharm": {
     "name": "#%%\n"
    }
   }
  },
  {
   "cell_type": "code",
   "execution_count": 43,
   "outputs": [
    {
     "ename": "NameError",
     "evalue": "name 'co_df_long' is not defined",
     "output_type": "error",
     "traceback": [
      "\u001B[1;31m---------------------------------------------------------------------------\u001B[0m",
      "\u001B[1;31mNameError\u001B[0m                                 Traceback (most recent call last)",
      "Input \u001B[1;32mIn [43]\u001B[0m, in \u001B[0;36m<cell line: 1>\u001B[1;34m()\u001B[0m\n\u001B[1;32m----> 1\u001B[0m co_df \u001B[38;5;241m=\u001B[39m \u001B[43mco_df_long\u001B[49m\u001B[38;5;241m.\u001B[39mpivot(columns\u001B[38;5;241m=\u001B[39m[\u001B[38;5;124m'\u001B[39m\u001B[38;5;124mword2\u001B[39m\u001B[38;5;124m'\u001B[39m])\n\u001B[0;32m      2\u001B[0m co_df\u001B[38;5;241m.\u001B[39mindex\u001B[38;5;241m.\u001B[39mname \u001B[38;5;241m=\u001B[39m \u001B[38;5;28;01mNone\u001B[39;00m\n\u001B[0;32m      3\u001B[0m co_df\u001B[38;5;241m.\u001B[39mcolumns \u001B[38;5;241m=\u001B[39m [c[\u001B[38;5;241m1\u001B[39m] \u001B[38;5;28;01mfor\u001B[39;00m c \u001B[38;5;129;01min\u001B[39;00m co_df\u001B[38;5;241m.\u001B[39mcolumns]\n",
      "\u001B[1;31mNameError\u001B[0m: name 'co_df_long' is not defined"
     ]
    }
   ],
   "source": [
    "co_df = co_df_long.pivot(columns=['word2'])\n",
    "co_df.index.name = None\n",
    "co_df.columns = [c[1] for c in co_df.columns]\n",
    "co_df.columns.name = None\n",
    "co_df.fillna(0.0, inplace=True)\n",
    "# And set the self-occurrences to 0\n",
    "for cur_kw in keywords:\n",
    "    co_df.loc[cur_kw, cur_kw] = 0.0"
   ],
   "metadata": {
    "collapsed": false,
    "pycharm": {
     "name": "#%%\n"
    }
   }
  },
  {
   "cell_type": "code",
   "execution_count": 44,
   "outputs": [],
   "source": [
    "def compute_pmi(df, positive=True):\n",
    "    col_totals = df.sum(axis=0)\n",
    "    total = col_totals.sum()\n",
    "    row_totals = df.sum(axis=1)\n",
    "    expected = np.outer(row_totals, col_totals) / total\n",
    "    df = df / expected\n",
    "    # Silence distracting warnings about log(0):\n",
    "    with np.errstate(divide='ignore'):\n",
    "        df = np.log(df)\n",
    "    df[np.isinf(df)] = 0.0  # log(0) = 0\n",
    "    if positive:\n",
    "        df[df < 0] = 0.0\n",
    "    return df"
   ],
   "metadata": {
    "collapsed": false,
    "pycharm": {
     "name": "#%%\n"
    }
   }
  },
  {
   "cell_type": "code",
   "execution_count": 45,
   "outputs": [],
   "source": [
    "#pmi_df = compute_pmi(co_df)\n",
    "#pmi_df"
   ],
   "metadata": {
    "collapsed": false,
    "pycharm": {
     "name": "#%%\n"
    }
   }
  },
  {
   "cell_type": "code",
   "execution_count": 46,
   "outputs": [
    {
     "ename": "NameError",
     "evalue": "name 'co_df' is not defined",
     "output_type": "error",
     "traceback": [
      "\u001B[1;31m---------------------------------------------------------------------------\u001B[0m",
      "\u001B[1;31mNameError\u001B[0m                                 Traceback (most recent call last)",
      "Input \u001B[1;32mIn [46]\u001B[0m, in \u001B[0;36m<cell line: 1>\u001B[1;34m()\u001B[0m\n\u001B[1;32m----> 1\u001B[0m co_matrix \u001B[38;5;241m=\u001B[39m \u001B[43mco_df\u001B[49m\u001B[38;5;241m.\u001B[39mvalues\n",
      "\u001B[1;31mNameError\u001B[0m: name 'co_df' is not defined"
     ]
    }
   ],
   "source": [
    "co_matrix = co_df.values\n",
    "#pmi_matrix = pmi_df.values"
   ],
   "metadata": {
    "collapsed": false,
    "pycharm": {
     "name": "#%%\n"
    }
   }
  },
  {
   "cell_type": "code",
   "execution_count": 47,
   "outputs": [
    {
     "ename": "NameError",
     "evalue": "name 'co_matrix' is not defined",
     "output_type": "error",
     "traceback": [
      "\u001B[1;31m---------------------------------------------------------------------------\u001B[0m",
      "\u001B[1;31mNameError\u001B[0m                                 Traceback (most recent call last)",
      "Input \u001B[1;32mIn [47]\u001B[0m, in \u001B[0;36m<cell line: 1>\u001B[1;34m()\u001B[0m\n\u001B[1;32m----> 1\u001B[0m u_co, s_co, vh_co \u001B[38;5;241m=\u001B[39m np\u001B[38;5;241m.\u001B[39mlinalg\u001B[38;5;241m.\u001B[39msvd(\u001B[43mco_matrix\u001B[49m, full_matrices\u001B[38;5;241m=\u001B[39m\u001B[38;5;28;01mTrue\u001B[39;00m)\n\u001B[0;32m      2\u001B[0m u_pmi, s_pmi, vh_pmi \u001B[38;5;241m=\u001B[39m np\u001B[38;5;241m.\u001B[39mlinalg\u001B[38;5;241m.\u001B[39msvd(pmi_matrix, full_matrices\u001B[38;5;241m=\u001B[39m\u001B[38;5;28;01mTrue\u001B[39;00m)\n\u001B[0;32m      3\u001B[0m u_co\u001B[38;5;241m.\u001B[39mshape, s_co\u001B[38;5;241m.\u001B[39mshape, vh_co\u001B[38;5;241m.\u001B[39mshape\n",
      "\u001B[1;31mNameError\u001B[0m: name 'co_matrix' is not defined"
     ]
    }
   ],
   "source": [
    "u_co, s_co, vh_co = np.linalg.svd(co_matrix, full_matrices=True)\n",
    "u_pmi, s_pmi, vh_pmi = np.linalg.svd(pmi_matrix, full_matrices=True)\n",
    "u_co.shape, s_co.shape, vh_co.shape"
   ],
   "metadata": {
    "collapsed": false,
    "pycharm": {
     "name": "#%%\n"
    }
   }
  },
  {
   "cell_type": "code",
   "execution_count": 48,
   "outputs": [
    {
     "ename": "NameError",
     "evalue": "name 'u_pmi' is not defined",
     "output_type": "error",
     "traceback": [
      "\u001B[1;31m---------------------------------------------------------------------------\u001B[0m",
      "\u001B[1;31mNameError\u001B[0m                                 Traceback (most recent call last)",
      "Input \u001B[1;32mIn [48]\u001B[0m, in \u001B[0;36m<cell line: 1>\u001B[1;34m()\u001B[0m\n\u001B[1;32m----> 1\u001B[0m u_final \u001B[38;5;241m=\u001B[39m \u001B[43mu_pmi\u001B[49m\n",
      "\u001B[1;31mNameError\u001B[0m: name 'u_pmi' is not defined"
     ]
    }
   ],
   "source": [
    "u_final = u_pmi"
   ],
   "metadata": {
    "collapsed": false,
    "pycharm": {
     "name": "#%%\n"
    }
   }
  },
  {
   "cell_type": "code",
   "execution_count": 49,
   "outputs": [
    {
     "ename": "NameError",
     "evalue": "name 'u_final' is not defined",
     "output_type": "error",
     "traceback": [
      "\u001B[1;31m---------------------------------------------------------------------------\u001B[0m",
      "\u001B[1;31mNameError\u001B[0m                                 Traceback (most recent call last)",
      "Input \u001B[1;32mIn [49]\u001B[0m, in \u001B[0;36m<cell line: 1>\u001B[1;34m()\u001B[0m\n\u001B[1;32m----> 1\u001B[0m word_vecs \u001B[38;5;241m=\u001B[39m pd\u001B[38;5;241m.\u001B[39mDataFrame(\u001B[43mu_final\u001B[49m[:,\u001B[38;5;241m0\u001B[39m:\u001B[38;5;241m2\u001B[39m], columns\u001B[38;5;241m=\u001B[39m[\u001B[38;5;124m'\u001B[39m\u001B[38;5;124mx\u001B[39m\u001B[38;5;124m'\u001B[39m,\u001B[38;5;124m'\u001B[39m\u001B[38;5;124my\u001B[39m\u001B[38;5;124m'\u001B[39m])\n\u001B[0;32m      2\u001B[0m word_vecs[\u001B[38;5;124m'\u001B[39m\u001B[38;5;124mtoken\u001B[39m\u001B[38;5;124m'\u001B[39m] \u001B[38;5;241m=\u001B[39m keywords\n\u001B[0;32m      3\u001B[0m word_vecs\n",
      "\u001B[1;31mNameError\u001B[0m: name 'u_final' is not defined"
     ]
    }
   ],
   "source": [
    "word_vecs = pd.DataFrame(u_final[:,0:2], columns=['x','y'])\n",
    "word_vecs['token'] = keywords\n",
    "word_vecs"
   ],
   "metadata": {
    "collapsed": false,
    "pycharm": {
     "name": "#%%\n"
    }
   }
  },
  {
   "cell_type": "code",
   "execution_count": 50,
   "outputs": [],
   "source": [
    "import pyperclip"
   ],
   "metadata": {
    "collapsed": false,
    "pycharm": {
     "name": "#%%\n"
    }
   }
  },
  {
   "cell_type": "code",
   "execution_count": 50,
   "outputs": [],
   "source": [],
   "metadata": {
    "collapsed": false,
    "pycharm": {
     "name": "#%%\n"
    }
   }
  },
  {
   "cell_type": "code",
   "execution_count": 51,
   "outputs": [
    {
     "ename": "NameError",
     "evalue": "name 'word_vecs_str' is not defined",
     "output_type": "error",
     "traceback": [
      "\u001B[1;31m---------------------------------------------------------------------------\u001B[0m",
      "\u001B[1;31mNameError\u001B[0m                                 Traceback (most recent call last)",
      "Input \u001B[1;32mIn [51]\u001B[0m, in \u001B[0;36m<cell line: 1>\u001B[1;34m()\u001B[0m\n\u001B[1;32m----> 1\u001B[0m pyperclip\u001B[38;5;241m.\u001B[39mcopy(\u001B[38;5;124m\"\u001B[39m\u001B[38;5;124mword_vecs = \u001B[39m\u001B[38;5;124m\"\u001B[39m \u001B[38;5;241m+\u001B[39m \u001B[43mword_vecs_str\u001B[49m)\n",
      "\u001B[1;31mNameError\u001B[0m: name 'word_vecs_str' is not defined"
     ]
    }
   ],
   "source": [
    "pyperclip.copy(\"word_vecs = \" + word_vecs_str)"
   ],
   "metadata": {
    "collapsed": false,
    "pycharm": {
     "name": "#%%\n"
    }
   }
  },
  {
   "cell_type": "markdown",
   "source": [
    "### And plot"
   ],
   "metadata": {
    "collapsed": false,
    "pycharm": {
     "name": "#%% md\n"
    }
   }
  },
  {
   "cell_type": "code",
   "execution_count": null,
   "outputs": [],
   "source": [],
   "metadata": {
    "collapsed": false,
    "pycharm": {
     "name": "#%%\n"
    }
   }
  },
  {
   "cell_type": "code",
   "execution_count": null,
   "outputs": [],
   "source": [
    "word_plot = sns.scatterplot(data=word_vecs,x='x',y='y')\n",
    "label_points(word_vecs.x, word_vecs.y, word_vecs.token, plt.gca())\n",
    "plt.tight_layout()\n",
    "plt.savefig('leviathan.svg')"
   ],
   "metadata": {
    "collapsed": false,
    "pycharm": {
     "name": "#%%\n"
    }
   }
  },
  {
   "cell_type": "code",
   "execution_count": null,
   "outputs": [],
   "source": [
    "import whatlies"
   ],
   "metadata": {
    "collapsed": false,
    "pycharm": {
     "name": "#%%\n"
    }
   }
  },
  {
   "cell_type": "markdown",
   "source": [
    "## Method 2: Word2Vec (with sentence structure)"
   ],
   "metadata": {
    "collapsed": false,
    "pycharm": {
     "name": "#%% md\n"
    }
   }
  },
  {
   "cell_type": "markdown",
   "source": [
    "### Part 1: Just Leviathan"
   ],
   "metadata": {
    "collapsed": false,
    "pycharm": {
     "name": "#%% md\n"
    }
   }
  },
  {
   "cell_type": "code",
   "execution_count": 1,
   "outputs": [
    {
     "ename": "NameError",
     "evalue": "name 'load_texts' is not defined",
     "output_type": "error",
     "traceback": [
      "\u001B[1;31m---------------------------------------------------------------------------\u001B[0m",
      "\u001B[1;31mNameError\u001B[0m                                 Traceback (most recent call last)",
      "Input \u001B[1;32mIn [1]\u001B[0m, in \u001B[0;36m<cell line: 1>\u001B[1;34m()\u001B[0m\n\u001B[1;32m----> 1\u001B[0m text_lev \u001B[38;5;241m=\u001B[39m \u001B[43mload_texts\u001B[49m([\u001B[38;5;124m\"\u001B[39m\u001B[38;5;124mleviathan\u001B[39m\u001B[38;5;124m\"\u001B[39m])\n\u001B[0;32m      2\u001B[0m \u001B[38;5;28mlen\u001B[39m(text_lev)\n",
      "\u001B[1;31mNameError\u001B[0m: name 'load_texts' is not defined"
     ]
    }
   ],
   "source": [
    "text_lev = load_texts([\"leviathan\"])\n",
    "len(text_lev)"
   ],
   "metadata": {
    "collapsed": false,
    "pycharm": {
     "name": "#%%\n"
    }
   }
  },
  {
   "cell_type": "code",
   "execution_count": 53,
   "outputs": [
    {
     "name": "stdout",
     "output_type": "stream",
     "text": [
      " externall\n",
      "externall body\n",
      " externall\n",
      "externall things\n",
      "receive externall\n",
      "externall bodies\n",
      "action externall\n",
      "externall objects\n",
      "action externall\n",
      "externall objects\n",
      "helps externall\n",
      "externall \n",
      " externall\n",
      "externall substances\n",
      "absence externall\n",
      "externall impediment\n",
      "Joining ('externall', 'impediment')\n",
      "mean externall\n",
      "externall impediment\n",
      "Joining ('externall', 'impediment')\n",
      "opposition externall\n",
      "externall body\n",
      "without externall\n",
      "externall impediment\n",
      "Joining ('externall', 'impediment')\n",
      " externall\n",
      "externall accidents\n",
      "caused externall\n",
      "externall obstacle\n",
      " externall\n",
      "externall violence\n",
      " externall\n",
      "externall signes\n",
      " externall\n",
      "externall signes\n",
      "parts externall\n",
      "externall worship\n",
      "raised externall\n",
      "externall things\n",
      "perceptible externall\n",
      "externall senses\n",
      " externall\n",
      "externall sign\n",
      " externall\n",
      "externall matter\n",
      " externall\n",
      "externall darknesse\n",
      " externall\n",
      "externall acts\n",
      "god externall\n",
      "externall worship\n",
      "tongue externall\n",
      "externall thing\n",
      " externall\n",
      "externall actions\n",
      " externall\n",
      "externall marks\n",
      "manners externall\n",
      "externall actions\n",
      "mens externall\n",
      "externall actions\n",
      " externall\n",
      "externall actions\n",
      "impression externall\n",
      "externall bodies\n",
      "representations externall\n",
      "externall bodies\n",
      "doe externall\n",
      "externall acts\n",
      "doe externall\n",
      "externall honor\n",
      " externall\n",
      "externall works\n",
      "justification externall\n",
      "externall works\n"
     ]
    }
   ],
   "source": [
    "clean_text_lev = text_lev.lower()\n",
    "sents_lev = nltk.tokenize.sent_tokenize(clean_text_lev, \"english\")\n",
    "sent_tokens_lev = [nltk.tokenize.word_tokenize(sent) for sent in sents_lev]\n",
    "clean_sent_tokens_lev = [preprocess_tokens(sent_tokens) for sent_tokens in sent_tokens_lev]"
   ],
   "metadata": {
    "collapsed": false,
    "pycharm": {
     "name": "#%%\n"
    }
   }
  },
  {
   "cell_type": "code",
   "execution_count": 54,
   "outputs": [
    {
     "data": {
      "text/plain": "[['introduction',\n  'nature',\n  'art',\n  'whereby',\n  'god',\n  'hath',\n  'made',\n  'governes',\n  'world',\n  'art',\n  'man',\n  'many',\n  'things',\n  'also',\n  'imitated',\n  'make',\n  'artificial',\n  'animal'],\n ['seeing',\n  'life',\n  'motion',\n  'limbs',\n  'begining',\n  'whereof',\n  'principall',\n  'part',\n  'within',\n  'may',\n  'say',\n  'automata',\n  'engines',\n  'move',\n  'springs',\n  'wheeles',\n  'doth',\n  'watch',\n  'artificiall',\n  'life'],\n ['heart',\n  'spring',\n  'nerves',\n  'many',\n  'strings',\n  'joynts',\n  'many',\n  'wheeles',\n  'giving',\n  'motion',\n  'whole',\n  'body',\n  'intended',\n  'artificer'],\n ['art',\n  'goes',\n  'yet',\n  'imitating',\n  'rationall',\n  'excellent',\n  'worke',\n  'nature',\n  'man'],\n ['art',\n  'created',\n  'great',\n  'leviathan',\n  'called',\n  'common-wealth',\n  'state',\n  'latine',\n  'civitas',\n  'artificiall',\n  'man',\n  'though',\n  'greater',\n  'stature',\n  'strength',\n  'naturall',\n  'whose',\n  'protection',\n  'defence',\n  'intended',\n  'soveraign',\n  'artificiall',\n  'soul',\n  'giving',\n  'life',\n  'motion',\n  'whole',\n  'body',\n  'magistrates',\n  'officers',\n  'judicature',\n  'execution',\n  'artificiall',\n  'joynts',\n  'reward',\n  'punishment',\n  'fastned',\n  'seat',\n  'soveraign',\n  'every',\n  'joynt',\n  'member',\n  'moved',\n  'performe',\n  'duty',\n  'nerves',\n  'body',\n  'naturall',\n  'wealth',\n  'riches',\n  'particular',\n  'members',\n  'strength',\n  'salus',\n  'populi',\n  'peoples',\n  'safety',\n  'businesse',\n  'counsellors',\n  'things',\n  'needfull',\n  'know',\n  'suggested',\n  'unto',\n  'memory',\n  'equity',\n  'law',\n  'artificiall',\n  'reason',\n  'concord',\n  'health',\n  'sedition',\n  'sicknesse',\n  'civill',\n  'war',\n  'death'],\n ['lastly',\n  'pacts',\n  'covenants',\n  'parts',\n  'body',\n  'politique',\n  'first',\n  'made',\n  'set',\n  'together',\n  'united',\n  'resemble',\n  'fiat',\n  'let',\n  'us',\n  'make',\n  'man',\n  'pronounced',\n  'god',\n  'creation'],\n ['describe',\n  'nature',\n  'artificiall',\n  'man',\n  'consider',\n  'first',\n  'matter',\n  'thereof',\n  'artificer',\n  'man'],\n ['secondly',\n  'covenants',\n  'made',\n  'rights',\n  'power',\n  'authority',\n  'soveraign',\n  'preserveth',\n  'dissolveth'],\n ['thirdly', 'christian', 'common-wealth'],\n ['lastly', 'kingdome', 'darkness'],\n ['concerning',\n  'first',\n  'saying',\n  'much',\n  'usurped',\n  'late',\n  'wisedome',\n  'acquired',\n  'reading',\n  'books',\n  'man'],\n ['consequently',\n  'whereunto',\n  'persons',\n  'part',\n  'give',\n  'proof',\n  'wise',\n  'take',\n  'great',\n  'delight',\n  'shew',\n  'think',\n  'read',\n  'man',\n  'uncharitable',\n  'censures',\n  'one',\n  'another',\n  'behind',\n  'backs'],\n ['another',\n  'saying',\n  'late',\n  'understood',\n  'might',\n  'learn',\n  'truly',\n  'read',\n  'one',\n  'another',\n  'would',\n  'take',\n  'pains',\n  'nosce',\n  'teipsum',\n  'read',\n  'thy',\n  'self',\n  'meant',\n  'used',\n  'countenance',\n  'either',\n  'barbarous',\n  'state',\n  'man',\n  'power',\n  'towards',\n  'inferiors',\n  'encourage',\n  'man',\n  'low',\n  'degree',\n  'sawcie',\n  'behaviour',\n  'towards',\n  'betters',\n  'teach',\n  'us',\n  'similitude',\n  'thoughts',\n  'passions',\n  'one',\n  'man',\n  'thoughts',\n  'passions',\n  'another',\n  'whosoever',\n  'looketh',\n  'himselfe',\n  'considereth',\n  'doth',\n  'think',\n  'opine',\n  'reason',\n  'hope',\n  'fear',\n  'c',\n  'upon',\n  'grounds',\n  'shall',\n  'thereby',\n  'read',\n  'know',\n  'thoughts',\n  'passions',\n  'man',\n  'upon',\n  'like',\n  'occasions'],\n ['say',\n  'similitude',\n  'passions',\n  'man',\n  'desire',\n  'fear',\n  'hope',\n  'c',\n  'similitude',\n  'objects',\n  'passions',\n  'things',\n  'desired',\n  'fear',\n  'hoped',\n  'c',\n  'constitution',\n  'individuall',\n  'particular',\n  'education',\n  'vary',\n  'easie',\n  'kept',\n  'knowledge',\n  'characters',\n  'mans',\n  'heart',\n  'blotted',\n  'confounded',\n  'dissembling',\n  'lying',\n  'counterfeiting',\n  'erroneous',\n  'doctrines',\n  'legible',\n  'onely',\n  'searcheth',\n  'hearts'],\n ['though',\n  'mens',\n  'actions',\n  'wee',\n  'discover',\n  'designee',\n  'sometimes',\n  'yet',\n  'without',\n  'comparing',\n  'distinguishing',\n  'circumstances',\n  'case',\n  'may',\n  'come',\n  'altered',\n  'decypher',\n  'without',\n  'key',\n  'part',\n  'deceived',\n  'much',\n  'trust',\n  'much',\n  'diffidence',\n  'reads',\n  'himselfe',\n  'good',\n  'evill',\n  'man'],\n ['let',\n  'one',\n  'man',\n  'read',\n  'another',\n  'actions',\n  'never',\n  'perfectly',\n  'serves',\n  'onely',\n  'acquaintance'],\n ['govern',\n  'whole',\n  'nation',\n  'must',\n  'read',\n  'himselfe',\n  'particular',\n  'man',\n  'man-kind',\n  'though',\n  'hard',\n  'harder',\n  'learn',\n  'language',\n  'science',\n  'yet',\n  'shall',\n  'set',\n  'reading',\n  'orderly',\n  'perspicuously',\n  'pains',\n  'left',\n  'another',\n  'onely',\n  'consider',\n  'also',\n  'find',\n  'himselfe'],\n ['kind', 'doctrine', 'admitteth', 'demonstration'],\n ['part',\n  'man',\n  'chapter',\n  'sense',\n  'concerning',\n  'thoughts',\n  'man',\n  'consider',\n  'first',\n  'singly',\n  'afterwards',\n  'trayne',\n  'dependance',\n  'upon',\n  'one',\n  'another'],\n ['singly',\n  'every',\n  'one',\n  'representation',\n  'apparence',\n  'quality',\n  'accident',\n  'body',\n  'without',\n  'us',\n  'commonly',\n  'called',\n  'object'],\n ['object',\n  'worketh',\n  'eyes',\n  'eares',\n  'parts',\n  'mans',\n  'body',\n  'diversity',\n  'working',\n  'produceth',\n  'diversity',\n  'apparences'],\n ['originall',\n  'call',\n  'sense',\n  'conception',\n  'mans',\n  'mind',\n  'hath',\n  'first',\n  'totally',\n  'parts',\n  'begotten',\n  'upon',\n  'organs',\n  'sense'],\n ['rest', 'derived', 'originall'],\n ['know',\n  'naturall',\n  'cause',\n  'sense',\n  'necessary',\n  'business',\n  'hand',\n  'els-where',\n  'written',\n  'large'],\n ['nevertheless',\n  'fill',\n  'part',\n  'present',\n  'method',\n  'briefly',\n  'deliver',\n  'place'],\n ['cause',\n  'sense',\n  'externall',\n  'body',\n  'object',\n  'presseth',\n  'organ',\n  'proper',\n  'sense',\n  'either',\n  'immediatly',\n  'tast',\n  'touch',\n  'mediately',\n  'seeing',\n  'hearing',\n  'smelling',\n  'pressure',\n  'mediation',\n  'nerves',\n  'strings',\n  'membranes',\n  'body',\n  'continued',\n  'inwards',\n  'brain',\n  'heart',\n  'causeth',\n  'resistance',\n  'counter-pressure',\n  'endeavour',\n  'heart',\n  'deliver',\n  'self',\n  'endeavour',\n  'outward',\n  'seemeth',\n  'matter',\n  'without'],\n ['seeming',\n  'fancy',\n  'man',\n  'call',\n  'sense',\n  'consisteth',\n  'eye',\n  'light',\n  'colour',\n  'figured',\n  'eare',\n  'sound',\n  'nostrill',\n  'odour',\n  'tongue',\n  'palat',\n  'savour',\n  'rest',\n  'body',\n  'heat',\n  'cold',\n  'hardnesse',\n  'softnesse',\n  'qualities',\n  'discern',\n  'feeling'],\n ['qualities',\n  'called',\n  'sensible',\n  'object',\n  'causeth',\n  'many',\n  'several',\n  'motions',\n  'matter',\n  'presseth',\n  'organs',\n  'diversly'],\n ['neither',\n  'us',\n  'pressed',\n  'anything',\n  'els',\n  'divers',\n  'motions',\n  'motion',\n  'produceth',\n  'nothing',\n  'motion'],\n ['apparence', 'us', 'fancy', 'waking', 'dreaming'],\n ['pressing',\n  'rubbing',\n  'striking',\n  'eye',\n  'makes',\n  'us',\n  'fancy',\n  'light',\n  'pressing',\n  'eare',\n  'produceth',\n  'dinne',\n  'bodies',\n  'also',\n  'see',\n  'hear',\n  'produce',\n  'strong',\n  'though',\n  'unobserved',\n  'action',\n  'colours',\n  'sounds',\n  'bodies',\n  'objects',\n  'cause',\n  'could',\n  'bee',\n  'severed',\n  'glasses',\n  'ecchoes',\n  'reflection',\n  'wee',\n  'see',\n  'know',\n  'thing',\n  'see',\n  'one',\n  'place',\n  'apparence',\n  'another'],\n ['though',\n  'certain',\n  'distance',\n  'reall',\n  'object',\n  'seem',\n  'invested',\n  'fancy',\n  'begets',\n  'us',\n  'yet',\n  'still',\n  'object',\n  'one',\n  'thing',\n  'image',\n  'fancy',\n  'another'],\n ['sense',\n  'cases',\n  'nothing',\n  'els',\n  'originall',\n  'fancy',\n  'caused',\n  'said',\n  'pressure',\n  'motion',\n  'externall',\n  'things',\n  'upon',\n  'eyes',\n  'eares',\n  'organs',\n  'thereunto',\n  'ordained'],\n ['philosophy-schooles',\n  'universities',\n  'christendome',\n  'grounded',\n  'upon',\n  'certain',\n  'texts',\n  'aristotle',\n  'teach',\n  'another',\n  'doctrine',\n  'say',\n  'cause',\n  'vision',\n  'thing',\n  'seen',\n  'sendeth',\n  'forth',\n  'every',\n  'side',\n  'visible',\n  'species',\n  'english',\n  'visible',\n  'shew',\n  'apparition',\n  'aspect',\n  'seen',\n  'receiving',\n  'whereof',\n  'eye',\n  'seeing'],\n ['cause',\n  'hearing',\n  'thing',\n  'heard',\n  'sendeth',\n  'forth',\n  'audible',\n  'species',\n  'audible',\n  'aspect',\n  'audible',\n  'seen',\n  'entring',\n  'eare',\n  'maketh',\n  'hearing'],\n ['nay',\n  'cause',\n  'understanding',\n  'also',\n  'say',\n  'thing',\n  'understood',\n  'sendeth',\n  'forth',\n  'intelligible',\n  'species',\n  'intelligible',\n  'seen',\n  'comming',\n  'understanding',\n  'makes',\n  'us',\n  'understand'],\n ['say',\n  'disapproving',\n  'use',\n  'universities',\n  'speak',\n  'hereafter',\n  'office',\n  'common-wealth',\n  'must',\n  'let',\n  'see',\n  'occasions',\n  'way',\n  'things',\n  'would',\n  'amended',\n  'amongst',\n  'frequency',\n  'insignificant',\n  'speech',\n  'one'],\n ['chapter', 'ii'],\n ['imagination',\n  'thing',\n  'lies',\n  'still',\n  'unlesse',\n  'somewhat',\n  'els',\n  'stirre',\n  'lye',\n  'still',\n  'ever',\n  'truth',\n  'man',\n  'doubts'],\n ['thing',\n  'motion',\n  'eternally',\n  'motion',\n  'unless',\n  'somewhat',\n  'els',\n  'stay',\n  'though',\n  'reason',\n  'namely',\n  'nothing',\n  'change',\n  'selfe',\n  'easily',\n  'assented'],\n ['man',\n  'measure',\n  'onely',\n  'man',\n  'things',\n  'find',\n  'subject',\n  'motion',\n  'pain',\n  'lassitude',\n  'think',\n  'every',\n  'thing',\n  'els',\n  'growes',\n  'weary',\n  'motion',\n  'seeks',\n  'repose',\n  'accord',\n  'little',\n  'considering',\n  'whether',\n  'motion',\n  'wherein',\n  'desire',\n  'rest',\n  'find',\n  'consisteth'],\n ['hence',\n  'schooles',\n  'say',\n  'heavy',\n  'bodies',\n  'fall',\n  'downwards',\n  'appetite',\n  'rest',\n  'conserve',\n  'nature',\n  'place',\n  'proper',\n  'ascribing',\n  'appetite',\n  'knowledge',\n  'good',\n  'conservation',\n  'man',\n  'things',\n  'inanimate',\n  'absurdly'],\n ['body',\n  'motion',\n  'moveth',\n  'unless',\n  'something',\n  'els',\n  'hinder',\n  'eternally',\n  'whatsoever',\n  'hindreth',\n  'instant',\n  'time',\n  'degrees',\n  'quite',\n  'extinguish',\n  'wee',\n  'see',\n  'water',\n  'though',\n  'wind',\n  'cease',\n  'waves',\n  'give',\n  'rowling',\n  'long',\n  'time',\n  'also',\n  'happeneth',\n  'motion',\n  'made',\n  'internall',\n  'parts',\n  'man',\n  'sees',\n  'dreams',\n  'c',\n  'object',\n  'removed',\n  'eye',\n  'shut',\n  'wee',\n  'still',\n  'retain',\n  'image',\n  'thing',\n  'seen',\n  'though',\n  'obscure',\n  'see'],\n ['latines',\n  'call',\n  'imagination',\n  'image',\n  'made',\n  'seeing',\n  'apply',\n  'though',\n  'improperly',\n  'senses'],\n ['greeks',\n  'call',\n  'fancy',\n  'signifies',\n  'apparence',\n  'proper',\n  'one',\n  'sense',\n  'another'],\n ['imagination',\n  'therefore',\n  'nothing',\n  'decaying',\n  'sense',\n  'found',\n  'man',\n  'many',\n  'living',\n  'creatures',\n  'well',\n  'sleeping',\n  'waking'],\n ['memory',\n  'decay',\n  'sense',\n  'man',\n  'waking',\n  'decay',\n  'motion',\n  'made',\n  'sense',\n  'obscuring',\n  'manner',\n  'light',\n  'sun',\n  'obscureth',\n  'light',\n  'starres',\n  'starrs',\n  'less',\n  'exercise',\n  'vertue',\n  'visible',\n  'day',\n  'night'],\n ['amongst',\n  'many',\n  'stroaks',\n  'eyes',\n  'eares',\n  'organs',\n  'receive',\n  'externall',\n  'bodies',\n  'predominant',\n  'onely',\n  'sensible',\n  'therefore',\n  'light',\n  'sun',\n  'predominant',\n  'affected',\n  'action',\n  'starrs'],\n ['object',\n  'removed',\n  'eyes',\n  'though',\n  'impression',\n  'made',\n  'us',\n  'remain',\n  'yet',\n  'objects',\n  'present',\n  'succeeding',\n  'working',\n  'us',\n  'imagination',\n  'past',\n  'obscured',\n  'made',\n  'weak',\n  'voyce',\n  'man',\n  'noyse',\n  'day'],\n ['whence',\n  'followeth',\n  'longer',\n  'time',\n  'sight',\n  'sense',\n  'object',\n  'weaker',\n  'imagination'],\n ['continuall',\n  'change',\n  'mans',\n  'body',\n  'destroyes',\n  'time',\n  'parts',\n  'sense',\n  'moved',\n  'distance',\n  'time',\n  'place',\n  'hath',\n  'one',\n  'effect',\n  'us'],\n ['distance',\n  'place',\n  'wee',\n  'look',\n  'appears',\n  'dimme',\n  'without',\n  'distinction',\n  'smaller',\n  'parts',\n  'voyces',\n  'grow',\n  'weak',\n  'inarticulate',\n  'also',\n  'great',\n  'distance',\n  'time',\n  'imagination',\n  'past',\n  'weak',\n  'wee',\n  'lose',\n  'example',\n  'cities',\n  'wee',\n  'seen',\n  'many',\n  'particular',\n  'streets',\n  'actions',\n  'many',\n  'particular',\n  'circumstances'],\n ['decaying',\n  'sense',\n  'wee',\n  'would',\n  'express',\n  'thing',\n  'self',\n  'mean',\n  'fancy',\n  'selfe',\n  'wee',\n  'call',\n  'imagination',\n  'said',\n  'would',\n  'express',\n  'decay',\n  'signifie',\n  'sense',\n  'fading',\n  'old',\n  'past',\n  'called',\n  'memory'],\n ['imagination',\n  'memory',\n  'one',\n  'thing',\n  'divers',\n  'considerations',\n  'hath',\n  'divers',\n  'names'],\n ['much', 'memory', 'memory', 'many', 'things', 'called', 'experience'],\n ['againe',\n  'imagination',\n  'things',\n  'formerly',\n  'perceived',\n  'sense',\n  'either',\n  'parts',\n  'severall',\n  'times',\n  'former',\n  'imagining',\n  'whole',\n  'object',\n  'presented',\n  'sense',\n  'simple',\n  'imagination',\n  'one',\n  'imagineth',\n  'man',\n  'horse',\n  'hath',\n  'seen'],\n ['compounded',\n  'sight',\n  'man',\n  'one',\n  'time',\n  'horse',\n  'another',\n  'conceive',\n  'mind',\n  'centaure'],\n ['man',\n  'compoundeth',\n  'image',\n  'person',\n  'image',\n  'actions',\n  'man',\n  'man',\n  'imagins',\n  'himselfe',\n  'hercules',\n  'alexander',\n  'happeneth',\n  'often',\n  'much',\n  'taken',\n  'reading',\n  'romants',\n  'compound',\n  'imagination',\n  'properly',\n  'fiction',\n  'mind'],\n ['also',\n  'imaginations',\n  'rise',\n  'man',\n  'though',\n  'waking',\n  'great',\n  'impression',\n  'made',\n  'sense',\n  'gazing',\n  'upon',\n  'sun',\n  'impression',\n  'leaves',\n  'image',\n  'sun',\n  'eyes',\n  'long',\n  'time',\n  'long',\n  'vehemently',\n  'attent',\n  'upon',\n  'geometricall',\n  'figures',\n  'man',\n  'shall',\n  'dark',\n  'though',\n  'awake',\n  'images',\n  'lines',\n  'angles',\n  'eyes',\n  'kind',\n  'fancy',\n  'hath',\n  'particular',\n  'name',\n  'thing',\n  'doth',\n  'commonly',\n  'fall',\n  'mens',\n  'discourse'],\n ['dreams', 'imaginations', 'sleep', 'call', 'dreams'],\n ['also', 'imaginations', 'either', 'totally', 'parcells', 'sense'],\n ['sense',\n  'brain',\n  'nerves',\n  'necessary',\n  'organs',\n  'sense',\n  'benummed',\n  'sleep',\n  'easily',\n  'moved',\n  'action',\n  'externall',\n  'objects',\n  'happen',\n  'sleep',\n  'imagination',\n  'therefore',\n  'dreame',\n  'proceeds',\n  'agitation',\n  'inward',\n  'parts',\n  'mans',\n  'body',\n  'inward',\n  'parts',\n  'connexion',\n  'brayn',\n  'organs',\n  'distempered',\n  'keep',\n  'motion',\n  'whereby',\n  'imaginations',\n  'formerly',\n  'made',\n  'appeare',\n  'man',\n  'waking',\n  'saving',\n  'organs',\n  'sense',\n  'benummed',\n  'new',\n  'object',\n  'master',\n  'obscure',\n  'vigorous',\n  'impression',\n  'dreame',\n  'must',\n  'needs',\n  'cleare',\n  'silence',\n  'sense',\n  'waking',\n  'thoughts'],\n ['hence',\n  'cometh',\n  'pass',\n  'hard',\n  'matter',\n  'many',\n  'thought',\n  'impossible',\n  'distinguish',\n  'exactly',\n  'sense',\n  'dreaming'],\n ['part',\n  'consider',\n  'dreames',\n  'often',\n  'constantly',\n  'think',\n  'persons',\n  'places',\n  'objects',\n  'actions',\n  'waking',\n  'remember',\n  'long',\n  'trayne',\n  'coherent',\n  'thoughts',\n  'dreaming',\n  'times',\n  'waking',\n  'often',\n  'observe',\n  'absurdity',\n  'dreames',\n  'never',\n  'dream',\n  'absurdities',\n  'waking',\n  'thoughts',\n  'well',\n  'satisfied',\n  'awake',\n  'know',\n  'dreame',\n  'though',\n  'dreame',\n  'think',\n  'selfe',\n  'awake'],\n ['seeing',\n  'dreames',\n  'caused',\n  'distemper',\n  'inward',\n  'parts',\n  'body',\n  'divers',\n  'distempers',\n  'must',\n  'needs',\n  'cause',\n  'different',\n  'dreams'],\n ['hence',\n  'lying',\n  'cold',\n  'breedeth',\n  'dreams',\n  'fear',\n  'raiseth',\n  'thought',\n  'image',\n  'fear',\n  'object',\n  'motion',\n  'brain',\n  'inner',\n  'parts',\n  'inner',\n  'parts',\n  'brain',\n  'reciprocall',\n  'anger',\n  'causeth',\n  'heat',\n  'parts',\n  'body',\n  'awake',\n  'sleep',\n  'heating',\n  'parts',\n  'causeth',\n  'anger',\n  'raiseth',\n  'brain',\n  'imagination',\n  'enemy'],\n ['manner',\n  'naturall',\n  'kindness',\n  'awake',\n  'causeth',\n  'desire',\n  'desire',\n  'makes',\n  'heat',\n  'certain',\n  'parts',\n  'body',\n  'also',\n  'much',\n  'heat',\n  'parts',\n  'wee',\n  'sleep',\n  'raiseth',\n  'brain',\n  'imagination',\n  'kindness',\n  'shewn'],\n ['summe',\n  'dreams',\n  'reverse',\n  'waking',\n  'imaginations',\n  'motion',\n  'awake',\n  'beginning',\n  'one',\n  'end',\n  'dream',\n  'another'],\n ['apparitions',\n  'visions',\n  'difficult',\n  'discerning',\n  'mans',\n  'dream',\n  'waking',\n  'thoughts',\n  'accident',\n  'observe',\n  'slept',\n  'easie',\n  'happen',\n  'man',\n  'full',\n  'fear',\n  'thoughts',\n  'whose',\n  'conscience',\n  'much',\n  'troubled',\n  'sleepeth',\n  'without',\n  'circumstances',\n  'going',\n  'bed',\n  'putting',\n  'clothes',\n  'one',\n  'noddeth',\n  'chayre'],\n ['taketh',\n  'pains',\n  'industriously',\n  'layes',\n  'himselfe',\n  'sleep',\n  'case',\n  'uncouth',\n  'exorbitant',\n  'fancy',\n  'come',\n  'unto',\n  'easily',\n  'think',\n  'dream'],\n ['read',\n  'marcus',\n  'brutes',\n  'one',\n  'life',\n  'given',\n  'julius',\n  'caesar',\n  'also',\n  'favorite',\n  'notwithstanding',\n  'murthered',\n  'phillipi',\n  'night',\n  'gave',\n  'battell',\n  'augustus',\n  'caesar',\n  'saw',\n  'fear',\n  'apparition',\n  'commonly',\n  'related',\n  'historians',\n  'vision',\n  'considering',\n  'circumstances',\n  'one',\n  'may',\n  'easily',\n  'judge',\n  'short',\n  'dream'],\n ['sitting',\n  'tent',\n  'pensive',\n  'troubled',\n  'horrour',\n  'rash',\n  'act',\n  'hard',\n  'slumbering',\n  'cold',\n  'dream',\n  'affrighted',\n  'fear',\n  'degrees',\n  'made',\n  'wake',\n  'also',\n  'must',\n  'needs',\n  'make',\n  'apparition',\n  'degrees',\n  'vanish',\n  'assurance',\n  'slept',\n  'could',\n  'cause',\n  'think',\n  'dream',\n  'thing',\n  'vision'],\n ['rare',\n  'accident',\n  'even',\n  'perfectly',\n  'awake',\n  'timorous',\n  'supperstitious',\n  'possessed',\n  'fear',\n  'tales',\n  'alone',\n  'dark',\n  'subject',\n  'like',\n  'fancies',\n  'believe',\n  'see',\n  'spirits',\n  'dead',\n  'mens',\n  'ghosts',\n  'walking',\n  'churchyards',\n  'whereas',\n  'either',\n  'fancy',\n  'onely',\n  'els',\n  'knavery',\n  'persons',\n  'make',\n  'use',\n  'superstitious',\n  'fear',\n  'pass',\n  'disguised',\n  'night',\n  'places',\n  'would',\n  'known',\n  'haunt'],\n ['ignorance',\n  'distinguish',\n  'dreams',\n  'strong',\n  'fancies',\n  'vision',\n  'sense',\n  'arise',\n  'greatest',\n  'part',\n  'religion',\n  'gentiles',\n  'time',\n  'past',\n  'worshipped',\n  'satyres',\n  'fawnes',\n  'nymphs',\n  'like',\n  'adayes',\n  'opinion',\n  'rude',\n  'people',\n  'fayries',\n  'ghosts',\n  'goblins',\n  'power',\n  'witches'],\n ['witches',\n  'think',\n  'witch',\n  'craft',\n  'reall',\n  'power',\n  'yet',\n  'justly',\n  'punished',\n  'false',\n  'beliefe',\n  'mischiefe',\n  'joyned',\n  'purpose',\n  'trade',\n  'neerer',\n  'new',\n  'religion',\n  'craft',\n  'science'],\n ['fayries',\n  'walking',\n  'ghosts',\n  'opinion',\n  'think',\n  'purpose',\n  'either',\n  'taught',\n  'confuted',\n  'keep',\n  'credit',\n  'use',\n  'exorcisme',\n  'crosses',\n  'holy',\n  'water',\n  'inventions',\n  'ghostly',\n  'man'],\n ['neverthelesse', 'doubt', 'god', 'make', 'unnaturall', 'apparitions'],\n ['often',\n  'man',\n  'need',\n  'fear',\n  'things',\n  'fear',\n  'stay',\n  'change',\n  'course',\n  'nature',\n  'also',\n  'stay',\n  'change',\n  'point',\n  'christian',\n  'faith'],\n ['evill',\n  'man',\n  'pretext',\n  'god',\n  'thing',\n  'bold',\n  'say',\n  'thing',\n  'serves',\n  'turn',\n  'though',\n  'think',\n  'untrue',\n  'part',\n  'wise',\n  'man',\n  'believe',\n  'right',\n  'reason',\n  'makes',\n  'say',\n  'appear',\n  'credible'],\n ['superstitious',\n  'fear',\n  'spirits',\n  'taken',\n  'away',\n  'prognostiques',\n  'dreams',\n  'false',\n  'prophecies',\n  'many',\n  'things',\n  'depending',\n  'thereon',\n  'crafty',\n  'ambitious',\n  'persons',\n  'abuse',\n  'simple',\n  'people',\n  'man',\n  'would',\n  'much',\n  'fitted',\n  'civill',\n  'obey'],\n ['ought', 'work', 'schooles', 'rather', 'nourish', 'doctrine'],\n ['knowing',\n  'imagination',\n  'senses',\n  'receive',\n  'teach',\n  'saying',\n  'imaginations',\n  'rise',\n  'cause',\n  'others',\n  'rise',\n  'commonly',\n  'good',\n  'thoughts',\n  'blown',\n  'inspired',\n  'man',\n  'god',\n  'evill',\n  'thoughts',\n  'divell',\n  'good',\n  'thoughts',\n  'powred',\n  'infused',\n  'man',\n  'god',\n  'evill',\n  'ones',\n  'divell'],\n ['say',\n  'senses',\n  'receive',\n  'species',\n  'things',\n  'deliver',\n  'common-sense',\n  'common',\n  'sense',\n  'delivers',\n  'fancy',\n  'fancy',\n  'memory',\n  'memory',\n  'judgement',\n  'like',\n  'handing',\n  'things',\n  'one',\n  'another',\n  'many',\n  'words',\n  'making',\n  'nothing',\n  'understood'],\n ['understanding',\n  'imagination',\n  'raysed',\n  'man',\n  'creature',\n  'indued',\n  'faculty',\n  'imagining',\n  'words',\n  'voluntary',\n  'signes',\n  'generally',\n  'call',\n  'understanding',\n  'common',\n  'man',\n  'beast'],\n ['dogge',\n  'custome',\n  'understand',\n  'call',\n  'rating',\n  'master',\n  'many',\n  'beasts'],\n ['understanding',\n  'peculiar',\n  'man',\n  'understanding',\n  'onely',\n  'conceptions',\n  'thoughts',\n  'sequell',\n  'contexture',\n  'names',\n  'things',\n  'affirmations',\n  'negations',\n  'formes',\n  'speech',\n  'kinde',\n  'understanding',\n  'shall',\n  'speak',\n  'hereafter'],\n ['chapter', 'iii'],\n ['consequence',\n  'trayne',\n  'imaginations',\n  'consequence',\n  'trayne',\n  'thoughts',\n  'understand',\n  'succession',\n  'one',\n  'thought',\n  'another',\n  'called',\n  'distinguish',\n  'discourse',\n  'words',\n  'mentall',\n  'discourse'],\n ['man',\n  'thinketh',\n  'thing',\n  'whatsoever',\n  'next',\n  'thought',\n  'altogether',\n  'casuall',\n  'seems'],\n ['every', 'thought', 'every', 'thought', 'succeeds', 'indifferently'],\n ['wee',\n  'imagination',\n  'whereof',\n  'formerly',\n  'sense',\n  'whole',\n  'parts',\n  'transition',\n  'one',\n  'imagination',\n  'another',\n  'whereof',\n  'never',\n  'like',\n  'senses'],\n ['reason', 'whereof'],\n ['fancies',\n  'motions',\n  'within',\n  'us',\n  'reliques',\n  'made',\n  'sense',\n  'motions',\n  'immediately',\n  'succeeded',\n  'one',\n  'another',\n  'sense',\n  'continue',\n  'also',\n  'together',\n  'sense',\n  'much',\n  'former',\n  'comming',\n  'take',\n  'place',\n  'praedominant',\n  'later',\n  'followeth',\n  'coherence',\n  'matter',\n  'moved',\n  'manner',\n  'water',\n  'upon',\n  'plain',\n  'table',\n  'drawn',\n  'way',\n  'one',\n  'part',\n  'guided',\n  'finger'],\n ['sense',\n  'one',\n  'thing',\n  'perceived',\n  'sometimes',\n  'one',\n  'thing',\n  'sometimes',\n  'another',\n  'succeedeth',\n  'comes',\n  'passe',\n  'time',\n  'imagining',\n  'thing',\n  'certainty',\n  'shall',\n  'imagine',\n  'next',\n  'onely',\n  'certain',\n  'shall',\n  'something',\n  'succeeded',\n  'one',\n  'time',\n  'another'],\n ['trayne',\n  'thoughts',\n  'unguided',\n  'trayne',\n  'thoughts',\n  'mentall',\n  'discourse',\n  'two',\n  'sorts'],\n ['first',\n  'unguided',\n  'without',\n  'designee',\n  'inconstant',\n  'wherein',\n  'passionate',\n  'thought',\n  'govern',\n  'direct',\n  'follow',\n  'self',\n  'end',\n  'scope',\n  'desire',\n  'passion',\n  'case',\n  'thoughts',\n  'said',\n  'wander',\n  'seem',\n  'impertinent',\n  'one',\n  'another',\n  'dream'],\n ['commonly',\n  'thoughts',\n  'man',\n  'onely',\n  'without',\n  'company',\n  'also',\n  'without',\n  'care',\n  'thing',\n  'though',\n  'even',\n  'thoughts',\n  'busie',\n  'times',\n  'without',\n  'harmony',\n  'sound',\n  'lute',\n  'tune',\n  'would',\n  'yeeld',\n  'man',\n  'tune',\n  'one',\n  'could',\n  'play'],\n ['yet',\n  'wild',\n  'ranging',\n  'mind',\n  'man',\n  'may',\n  'oft-times',\n  'perceive',\n  'way',\n  'dependance',\n  'one',\n  'thought',\n  'upon',\n  'another'],\n ['discourse',\n  'present',\n  'civill',\n  'warre',\n  'could',\n  'seem',\n  'impertinent',\n  'ask',\n  'one',\n  'value',\n  'roman',\n  'penny'],\n ['yet', 'cohaerence', 'manifest', 'enough'],\n ['thought',\n  'warre',\n  'introduced',\n  'thought',\n  'delivering',\n  'king',\n  'enemies',\n  'thought',\n  'brought',\n  'thought',\n  'delivering',\n  'christ',\n  'thought',\n  'pence',\n  'price',\n  'treason',\n  'thence',\n  'easily',\n  'followed',\n  'malicious',\n  'question',\n  'moment',\n  'time',\n  'thought',\n  'quick'],\n ['trayne',\n  'thoughts',\n  'regulated',\n  'second',\n  'constant',\n  'regulated',\n  'desire',\n  'designee'],\n ['impression',\n  'made',\n  'things',\n  'wee',\n  'desire',\n  'fear',\n  'strong',\n  'permanent',\n  'cease',\n  'time',\n  'quick',\n  'return',\n  'strong',\n  'sometimes',\n  'hinder',\n  'break',\n  'sleep'],\n ['desire',\n  'ariseth',\n  'thought',\n  'means',\n  'seen',\n  'produce',\n  'like',\n  'ayme',\n  'thought',\n  'thought',\n  'means',\n  'mean',\n  'continually',\n  'till',\n  'come',\n  'beginning',\n  'within',\n  'power'],\n ['end',\n  'greatnesse',\n  'impression',\n  'comes',\n  'often',\n  'mind',\n  'case',\n  'thoughts',\n  'begin',\n  'wander',\n  'quickly',\n  'reduced',\n  'way',\n  'observed',\n  'one',\n  'seven',\n  'wise',\n  'man',\n  'made',\n  'give',\n  'man',\n  'praecept',\n  'worne',\n  'respice',\n  'finem',\n  'say',\n  'actions',\n  'look',\n  'often',\n  'upon',\n  'would',\n  'thing',\n  'directs',\n  'thoughts',\n  'way',\n  'attain'],\n ['remembrance',\n  'trayn',\n  'regulated',\n  'thoughts',\n  'two',\n  'kinds',\n  'one',\n  'effect',\n  'imagined',\n  'wee',\n  'seek',\n  'causes',\n  'means',\n  'produce',\n  'common',\n  'man',\n  'beast'],\n ['imagining',\n  'thing',\n  'whatsoever',\n  'wee',\n  'seek',\n  'possible',\n  'effects',\n  'produced',\n  'say',\n  'imagine',\n  'wee'],\n ['time',\n  'seen',\n  'signe',\n  'man',\n  'onely',\n  'curiosity',\n  'hardly',\n  'incident',\n  'nature',\n  'living',\n  'creature',\n  'passion',\n  'sensuall',\n  'hunger',\n  'thirst',\n  'lust',\n  'anger'],\n ['summe',\n  'discourse',\n  'mind',\n  'governed',\n  'designee',\n  'nothing',\n  'seeking',\n  'faculty',\n  'invention',\n  'latines',\n  'call',\n  'sagacitas',\n  'solertia',\n  'hunting',\n  'causes',\n  'effect',\n  'present',\n  'past',\n  'effects',\n  'present',\n  'past',\n  'cause',\n  'sometimes',\n  'man',\n  'seeks',\n  'hath',\n  'lost',\n  'place',\n  'time',\n  'wherein',\n  'hee',\n  'misses',\n  'mind',\n  'runs',\n  'back',\n  'place',\n  'place',\n  'time',\n  'time',\n  'find',\n  'say',\n  'find',\n  'certain',\n  'limited',\n  'time',\n  'place',\n  'begin',\n  'method',\n  'seeking'],\n ['thence',\n  'thoughts',\n  'run',\n  'places',\n  'times',\n  'find',\n  'action',\n  'occasion',\n  'might',\n  'make',\n  'lose'],\n ['call',\n  'remembrance',\n  'calling',\n  'mind',\n  'latines',\n  'call',\n  'reminiscentia',\n  're-conning',\n  'former',\n  'actions'],\n ['sometimes',\n  'man',\n  'knows',\n  'place',\n  'determinate',\n  'within',\n  'compasse',\n  'whereof',\n  'seek',\n  'thoughts',\n  'run',\n  'parts',\n  'thereof',\n  'manner',\n  'one',\n  'would',\n  'sweep',\n  'room',\n  'find',\n  'jewell',\n  'spaniel',\n  'ranges',\n  'field',\n  'till',\n  'find',\n  'sent',\n  'man',\n  'run',\n  'alphabet',\n  'start',\n  'rime'],\n ['prudence',\n  'sometime',\n  'man',\n  'desires',\n  'know',\n  'event',\n  'action',\n  'thinketh',\n  'like',\n  'action',\n  'past',\n  'events',\n  'thereof',\n  'one',\n  'another',\n  'supposing',\n  'like',\n  'events',\n  'follow',\n  'like',\n  'actions'],\n ['foresees',\n  'wil',\n  'become',\n  'criminal',\n  're-cons',\n  'seen',\n  'follow',\n  'like',\n  'crime',\n  'order',\n  'thoughts',\n  'crime',\n  'officer',\n  'prison',\n  'judge',\n  'gallowes'],\n ['kind',\n  'thoughts',\n  'called',\n  'foresight',\n  'prudence',\n  'providence',\n  'sometimes',\n  'wisdome',\n  'though',\n  'conjecture',\n  'difficulty',\n  'observing',\n  'circumstances',\n  'fallacious'],\n ['certain',\n  'much',\n  'one',\n  'man',\n  'experience',\n  'things',\n  'past',\n  'another',\n  'much',\n  'also',\n  'prudent',\n  'expectations',\n  'seldomer',\n  'faile'],\n ['present',\n  'onely',\n  'nature',\n  'things',\n  'past',\n  'memory',\n  'onely',\n  'things',\n  'come',\n  'future',\n  'fiction',\n  'mind',\n  'applying',\n  'sequels',\n  'actions',\n  'past',\n  'actions',\n  'present',\n  'certainty',\n  'done',\n  'experience',\n  'certainty',\n  'enough'],\n ['though',\n  'called',\n  'prudence',\n  'event',\n  'answereth',\n  'expectation',\n  'yet',\n  'nature',\n  'presumption'],\n ['foresight',\n  'things',\n  'come',\n  'providence',\n  'belongs',\n  'onely',\n  'whose',\n  'come'],\n ['onely', 'supernaturally', 'proceeds', 'prophecy'],\n ['best',\n  'prophet',\n  'naturally',\n  'best',\n  'guesser',\n  'best',\n  'guesser',\n  'versed',\n  'studied',\n  'matters',\n  'guesses',\n  'hath',\n  'signes',\n  'guesse'],\n ['signes',\n  'signe',\n  'event',\n  'antecedent',\n  'consequent',\n  'contrarily',\n  'consequent',\n  'antecedent',\n  'like',\n  'consequences',\n  'observed',\n  'oftner',\n  'observed',\n  'lesse',\n  'uncertain',\n  'signe'],\n ['therefore',\n  'experience',\n  'kind',\n  'businesse',\n  'signes',\n  'whereby',\n  'guesse',\n  'future',\n  'time',\n  'consequently',\n  'prudent',\n  'much',\n  'prudent',\n  'new',\n  'kind',\n  'business',\n  'equalled',\n  'advantage',\n  'naturall',\n  'extemporary',\n  'wit',\n  'though',\n  'perhaps',\n  'many',\n  'young',\n  'man',\n  'think',\n  'contrary'],\n ['neverthelesse', 'prudence', 'distinguisheth', 'man', 'beast'],\n ['beasts',\n  'year',\n  'old',\n  'observe',\n  'pursue',\n  'good',\n  'prudently',\n  'child',\n  'ten'],\n ['conjecture',\n  'time',\n  'past',\n  'prudence',\n  'praesumtion',\n  'future',\n  'contracted',\n  'experience',\n  'time',\n  'past',\n  'praesumtion',\n  'things',\n  'past',\n  'taken',\n  'things',\n  'future',\n  'past',\n  'also'],\n ['hath',\n  'seen',\n  'courses',\n  'degrees',\n  'flourishing',\n  'state',\n  'hath',\n  'first',\n  'come',\n  'civill',\n  'warre',\n  'ruine',\n  'upon',\n  'sights',\n  'ruines',\n  'state',\n  'guesse',\n  'like',\n  'warre',\n  'like',\n  'courses',\n  'also'],\n ['conjecture',\n  'incertainty',\n  'almost',\n  'conjecture',\n  'future',\n  'grounded',\n  'onely',\n  'upon',\n  'experience'],\n ['act',\n  'mans',\n  'mind',\n  'remember',\n  'naturally',\n  'planted',\n  'need',\n  'thing',\n  'exercise',\n  'born',\n  'man',\n  'live',\n  'use',\n  'five',\n  'senses'],\n ['faculties',\n  'shall',\n  'speak',\n  'seem',\n  'proper',\n  'man',\n  'onely',\n  'acquired',\n  'encreased',\n  'study',\n  'industry',\n  'man',\n  'learned',\n  'instruction',\n  'discipline',\n  'proceed',\n  'invention',\n  'words',\n  'speech'],\n ['besides',\n  'sense',\n  'thoughts',\n  'trayne',\n  'thoughts',\n  'mind',\n  'man',\n  'motion',\n  'though',\n  'help',\n  'speech',\n  'method',\n  'facultyes',\n  'may',\n  'improved',\n  'height',\n  'distinguish',\n  'man',\n  'living',\n  'creatures'],\n ['whatsoever', 'imagine', 'finite'],\n ['therefore', 'idea', 'conception', 'anything', 'call', 'infinite'],\n ['man',\n  'mind',\n  'image',\n  'infinite',\n  'magnitude',\n  'conceive',\n  'ends',\n  'bounds',\n  'thing',\n  'named',\n  'conception',\n  'thing',\n  'inability'],\n ['therefore',\n  'name',\n  'god',\n  'used',\n  'make',\n  'us',\n  'conceive',\n  'incomprehensible',\n  'greatnesse',\n  'power',\n  'unconceivable',\n  'may',\n  'honour'],\n ['also',\n  'whatsoever',\n  'said',\n  'conceive',\n  'perceived',\n  'first',\n  'sense',\n  'either',\n  'parts',\n  'man',\n  'thought',\n  'representing',\n  'thing',\n  'subject',\n  'sense'],\n ['man',\n  'therefore',\n  'conceive',\n  'thing',\n  'must',\n  'conceive',\n  'place',\n  'indued',\n  'determinate',\n  'magnitude',\n  'may',\n  'divided',\n  'parts',\n  'thing',\n  'place',\n  'another',\n  'place',\n  'time',\n  'two',\n  'things',\n  'one',\n  'place',\n  'none',\n  'things',\n  'ever',\n  'incident',\n  'sense',\n  'absurd',\n  'speeches',\n  'taken',\n  'upon',\n  'credit',\n  'without',\n  'signification',\n  'deceived',\n  'philosophers',\n  'deceived',\n  'deceiving',\n  'schoolemen'],\n ['chapter', 'iv'],\n ['speech',\n  'originall',\n  'speech',\n  'invention',\n  'printing',\n  'though',\n  'ingenious',\n  'compared',\n  'invention',\n  'letters',\n  'great',\n  'matter'],\n ['first', 'found', 'use', 'letters', 'known'],\n ['first',\n  'brought',\n  'greece',\n  'man',\n  'say',\n  'cadmus',\n  'sonne',\n  'agenor',\n  'king',\n  'phaenicia'],\n ['profitable',\n  'invention',\n  'continuing',\n  'memory',\n  'time',\n  'past',\n  'conjunction',\n  'mankind',\n  'dispersed',\n  'many',\n  'distant',\n  'regions',\n  'earth',\n  'difficult',\n  'proceeding',\n  'watchfull',\n  'observation',\n  'divers',\n  'motions',\n  'tongue',\n  'palat',\n  'lips',\n  'organs',\n  'speech',\n  'whereby',\n  'make',\n  'many',\n  'differences',\n  'characters',\n  'remember'],\n ['noble',\n  'profitable',\n  'invention',\n  'speech',\n  'consisting',\n  'names',\n  'apellations',\n  'connexion',\n  'whereby',\n  'man',\n  'register',\n  'thoughts',\n  'recall',\n  'past',\n  'also',\n  'declare',\n  'one',\n  'another',\n  'mutuall',\n  'utility',\n  'conversation',\n  'without',\n  'amongst',\n  'man',\n  'neither',\n  'common-wealth',\n  'society',\n  'contract',\n  'peace',\n  'amongst',\n  'lyons',\n  'bears',\n  'wolves'],\n ['first',\n  'author',\n  'speech',\n  'god',\n  'himselfe',\n  'instructed',\n  'adam',\n  'name',\n  'creatures',\n  'presented',\n  'sight',\n  'scripture',\n  'goeth',\n  'matter'],\n ['sufficient',\n  'direct',\n  'adde',\n  'names',\n  'experience',\n  'use',\n  'creatures',\n  'give',\n  'occasion',\n  'joyn',\n  'manner',\n  'degrees',\n  'make',\n  'himselfe',\n  'understood',\n  'succession',\n  'time',\n  'much',\n  'language',\n  'might',\n  'gotten',\n  'found',\n  'use',\n  'though',\n  'copious',\n  'orator',\n  'philosopher',\n  'need'],\n ['find',\n  'thing',\n  'scripture',\n  'directly',\n  'consequence',\n  'gathered',\n  'adam',\n  'taught',\n  'names',\n  'figures',\n  'numbers',\n  'measures',\n  'colours',\n  'sounds',\n  'fancies',\n  'relations',\n  'much',\n  'less',\n  'names',\n  'words',\n  'speech',\n  'generall',\n  'speciall',\n  'affirmative',\n  'negative',\n  'interrogative',\n  'optative',\n  'infinitive',\n  'usefull',\n  'least',\n  'entity',\n  'intentionality',\n  'quiddity',\n  'significant',\n  'words',\n  'school'],\n ['language',\n  'gotten',\n  'augmented',\n  'adam',\n  'posterity',\n  'lost',\n  'tower',\n  'babel',\n  'hand',\n  'god',\n  'every',\n  'man',\n  'stricken',\n  'rebellion',\n  'oblivion',\n  'former',\n  'language'],\n ['hereby',\n  'forced',\n  'disperse',\n  'severall',\n  'parts',\n  'world',\n  'must',\n  'needs',\n  'diversity',\n  'tongues',\n  'proceeded',\n  'degrees',\n  'manner',\n  'need',\n  'mother',\n  'inventions',\n  'taught',\n  'tract',\n  'time',\n  'grew',\n  'every',\n  'copious'],\n ['use',\n  'speech',\n  'generall',\n  'use',\n  'speech',\n  'transferre',\n  'mentall',\n  'discourse',\n  'verbal',\n  'trayne',\n  'thoughts',\n  'trayne',\n  'words',\n  'two',\n  'commodities',\n  'whereof',\n  'one',\n  'registring',\n  'consequences',\n  'thoughts',\n  'apt',\n  'slip',\n  'memory',\n  'put',\n  'us',\n  'new',\n  'labour',\n  'may',\n  'recalled',\n  'words',\n  'marked'],\n ['first', 'use', 'names', 'serve', 'markes', 'notes', 'remembrance'],\n ['another',\n  'many',\n  'use',\n  'words',\n  'signifie',\n  'connexion',\n  'order',\n  'one',\n  'another',\n  'conceive',\n  'think',\n  'matter',\n  'also',\n  'desire',\n  'fear',\n  'passion',\n  'use',\n  'called',\n  'signes'],\n ['speciall',\n  'uses',\n  'speech',\n  'first',\n  'register',\n  'cogitation',\n  'wee',\n  'find',\n  'cause',\n  'thing',\n  'present',\n  'past',\n  'find',\n  'things',\n  'present',\n  'past',\n  'may',\n  'produce',\n  'effect',\n  'summe',\n  'acquiring',\n  'arts'],\n ['secondly',\n  'shew',\n  'others',\n  'knowledge',\n  'attained',\n  'counsell',\n  'teach',\n  'one',\n  'another'],\n ['thirdly',\n  'make',\n  'known',\n  'others',\n  'wills',\n  'purposes',\n  'may',\n  'mutuall',\n  'help',\n  'one',\n  'another'],\n ['fourthly',\n  'please',\n  'delight',\n  'selves',\n  'others',\n  'playing',\n  'words',\n  'pleasure',\n  'ornament',\n  'innocently'],\n ['abuses', 'speech', 'uses', 'also', 'foure', 'correspondent', 'abuses'],\n ['first',\n  'man',\n  'register',\n  'thoughts',\n  'wrong',\n  'inconstancy',\n  'signification',\n  'words',\n  'register',\n  'conceptions',\n  'never',\n  'conceived',\n  'deceive'],\n ['secondly',\n  'use',\n  'words',\n  'metaphorically',\n  'sense',\n  'ordained',\n  'thereby',\n  'deceive',\n  'others'],\n ['thirdly', 'words', 'declare'],\n ['fourthly',\n  'use',\n  'grieve',\n  'one',\n  'another',\n  'seeing',\n  'nature',\n  'hath',\n  'armed',\n  'living',\n  'creatures',\n  'teeth',\n  'horns',\n  'hands',\n  'grieve',\n  'enemy',\n  'abuse',\n  'speech',\n  'grieve',\n  'tongue',\n  'unlesse',\n  'one',\n  'wee',\n  'obliged',\n  'govern',\n  'grieve',\n  'correct',\n  'amend'],\n ['manner',\n  'speech',\n  'serveth',\n  'remembrance',\n  'consequence',\n  'causes',\n  'effects',\n  'consisteth',\n  'imposing',\n  'names',\n  'connexion'],\n ['names',\n  'proper',\n  'common',\n  'universall',\n  'names',\n  'proper',\n  'singular',\n  'one',\n  'onely',\n  'thing',\n  'peter',\n  'john',\n  'man',\n  'tree',\n  'common',\n  'many',\n  'things',\n  'man',\n  'horse',\n  'tree',\n  'every',\n  'though',\n  'one',\n  'name',\n  'nevertheless',\n  'name',\n  'divers',\n  'particular',\n  'things',\n  'respect',\n  'together',\n  'called',\n  'universall',\n  'nothing',\n  'world',\n  'universall',\n  'names',\n  'things',\n  'named',\n  'every',\n  'one',\n  'individual',\n  'singular'],\n ['one',\n  'universall',\n  'name',\n  'imposed',\n  'many',\n  'things',\n  'similitude',\n  'quality',\n  'accident',\n  'whereas',\n  'proper',\n  'name',\n  'bringeth',\n  'mind',\n  'one',\n  'thing',\n  'onely',\n  'universals',\n  'recall',\n  'one',\n  'many'],\n ['names',\n  'universall',\n  'lesse',\n  'extent',\n  'larger',\n  'comprehending',\n  'lesse',\n  'large',\n  'equall',\n  'extent',\n  'comprehending',\n  'reciprocally'],\n ['example',\n  'name',\n  'body',\n  'larger',\n  'signification',\n  'word',\n  'man',\n  'conprehendeth',\n  'names',\n  'man',\n  'rationall',\n  'equall',\n  'extent',\n  'comprehending',\n  'mutually',\n  'one',\n  'another'],\n ['wee',\n  'must',\n  'take',\n  'notice',\n  'name',\n  'alwayes',\n  'understood',\n  'grammar',\n  'one',\n  'onely',\n  'word',\n  'sometimes',\n  'circumlocution',\n  'many',\n  'words',\n  'together'],\n ['words',\n  'hee',\n  'actions',\n  'observeth',\n  'law',\n  'country',\n  'make',\n  'one',\n  'name',\n  'equivalent',\n  'one',\n  'word'],\n ['imposition',\n  'names',\n  'larger',\n  'stricter',\n  'signification',\n  'turn',\n  'reckoning',\n  'consequences',\n  'things',\n  'imagined',\n  'mind',\n  'reckoning',\n  'consequences',\n  'appellations'],\n ['example',\n  'man',\n  'hath',\n  'use',\n  'speech',\n  'born',\n  'remains',\n  'perfectly',\n  'deafe',\n  'dumb',\n  'set',\n  'eyes',\n  'triangle',\n  'two',\n  'right',\n  'angles',\n  'corners',\n  'square',\n  'figure',\n  'may',\n  'meditation',\n  'compare',\n  'find',\n  'three',\n  'angles',\n  'triangle',\n  'equall',\n  'two',\n  'right',\n  'angles',\n  'stand'],\n ['another',\n  'triangle',\n  'shewn',\n  'different',\n  'shape',\n  'former',\n  'know',\n  'without',\n  'new',\n  'labour',\n  'whether',\n  'three',\n  'angles',\n  'also',\n  'equall'],\n ['hath',\n  'use',\n  'words',\n  'observes',\n  'equality',\n  'consequent',\n  'length',\n  'sides',\n  'particular',\n  'thing',\n  'triangle',\n  'onely',\n  'sides',\n  'straight',\n  'angles',\n  'three',\n  'named',\n  'triangle',\n  'boldly',\n  'conclude',\n  'universally',\n  'equality',\n  'angles',\n  'triangles',\n  'whatsoever',\n  'register',\n  'invention',\n  'generall',\n  'termes',\n  'every',\n  'triangle',\n  'hath',\n  'three',\n  'angles',\n  'equall',\n  'two',\n  'right',\n  'angles'],\n ['thus',\n  'consequence',\n  'found',\n  'one',\n  'particular',\n  'comes',\n  'registred',\n  'remembred',\n  'universall',\n  'rule',\n  'discharges',\n  'mentall',\n  'reckoning',\n  'time',\n  'place',\n  'delivers',\n  'us',\n  'labour',\n  'mind',\n  'saving',\n  'first',\n  'makes',\n  'found',\n  'true',\n  'true',\n  'times',\n  'places'],\n ['use', 'words', 'registring', 'thoughts', 'nothing', 'evident', 'numbering'],\n ['naturall',\n  'foole',\n  'could',\n  'never',\n  'learn',\n  'heart',\n  'order',\n  'numerall',\n  'words',\n  'one',\n  'two',\n  'three',\n  'may',\n  'observe',\n  'every',\n  'stroak',\n  'clock',\n  'nod',\n  'say',\n  'one',\n  'one',\n  'one',\n  'never',\n  'know',\n  'houre',\n  'strikes'],\n ['seems',\n  'time',\n  'names',\n  'number',\n  'use',\n  'man',\n  'fayn',\n  'apply',\n  'fingers',\n  'one',\n  'hands',\n  'things',\n  'desired',\n  'keep',\n  'account',\n  'thence',\n  'proceeded',\n  'numerall',\n  'words',\n  'ten',\n  'nation',\n  'five',\n  'begin'],\n ['tell',\n  'ten',\n  'recite',\n  'order',\n  'lose',\n  'himselfe',\n  'know',\n  'done',\n  'much',\n  'lesse',\n  'able',\n  'add',\n  'substract',\n  'performe',\n  'operations',\n  'arithmetique'],\n ['without',\n  'words',\n  'possibility',\n  'reckoning',\n  'numbers',\n  'much',\n  'lesse',\n  'magnitudes',\n  'swiftnesse',\n  'force',\n  'things',\n  'reckonings',\n  'whereof',\n  'necessary',\n  'well-being',\n  'man-kind'],\n ['two',\n  'names',\n  'joyned',\n  'together',\n  'consequence',\n  'affirmation',\n  'thus',\n  'man',\n  'living',\n  'creature',\n  'thus',\n  'man',\n  'living',\n  'creature',\n  'later',\n  'name',\n  'living',\n  'creature',\n  'signifie',\n  'former',\n  'name',\n  'man',\n  'signifieth',\n  'affirmation',\n  'consequence',\n  'true',\n  'otherwise',\n  'false'],\n ['true', 'false', 'attributes', 'speech', 'things'],\n ['speech', 'neither', 'truth', 'falshood'],\n ['errour',\n  'may',\n  'wee',\n  'expect',\n  'shall',\n  'suspect',\n  'neither',\n  'case',\n  'man',\n  'charged',\n  'untruth'],\n ['seeing',\n  'truth',\n  'consisteth',\n  'right',\n  'ordering',\n  'names',\n  'affirmations',\n  'man',\n  'seeketh',\n  'precise',\n  'truth',\n  'need',\n  'remember',\n  'every',\n  'name',\n  'uses',\n  'stands',\n  'place',\n  'accordingly',\n  'els',\n  'find',\n  'himselfe',\n  'entangled',\n  'words',\n  'bird',\n  'lime-twiggs',\n  'struggles',\n  'belimed'],\n ['therefore',\n  'geometry',\n  'onely',\n  'science',\n  'hath',\n  'pleased',\n  'god',\n  'hitherto',\n  'bestow',\n  'mankind',\n  'man',\n  'begin',\n  'settling',\n  'significations',\n  'words',\n  'settling',\n  'significations',\n  'call',\n  'definitions',\n  'place',\n  'beginning',\n  'reckoning'],\n ['appears',\n  'necessary',\n  'man',\n  'aspires',\n  'true',\n  'knowledge',\n  'examine',\n  'definitions',\n  'former',\n  'authors',\n  'either',\n  'correct',\n  'negligently',\n  'set',\n  'make',\n  'himselfe'],\n ['errours',\n  'definitions',\n  'multiply',\n  'according',\n  'reckoning',\n  'proceeds',\n  'lead',\n  'man',\n  'absurdities',\n  'last',\n  'see',\n  'avoyd',\n  'without',\n  'reckoning',\n  'anew',\n  'beginning',\n  'lyes',\n  'foundation',\n  'errours'],\n ['whence',\n  'happens',\n  'trust',\n  'books',\n  'cast',\n  'many',\n  'little',\n  'summs',\n  'greater',\n  'without',\n  'considering',\n  'whether',\n  'little',\n  'summes',\n  'rightly',\n  'cast',\n  'last',\n  'finding',\n  'errour',\n  'visible',\n  'mistrusting',\n  'first',\n  'grounds',\n  'know',\n  'way',\n  'cleere',\n  'spend',\n  'time',\n  'fluttering',\n  'bookes',\n  'birds',\n  'entring',\n  'chimney',\n  'finding',\n  'inclosed',\n  'chamber',\n  'flitter',\n  'false',\n  'light',\n  'glasse',\n  'window',\n  'want',\n  'wit',\n  'consider',\n  'way',\n  'came'],\n ['right',\n  'definition',\n  'names',\n  'lyes',\n  'first',\n  'use',\n  'speech',\n  'acquisition',\n  'science',\n  'wrong',\n  'definitions',\n  'lyes',\n  'first',\n  'abuse',\n  'proceed',\n  'false',\n  'senslesse',\n  'tenets',\n  'make',\n  'man',\n  'take',\n  'instruction',\n  'authority',\n  'books',\n  'meditation',\n  'much',\n  'condition',\n  'ignorant',\n  'man',\n  'man',\n  'endued',\n  'true',\n  'science'],\n ['true', 'science', 'erroneous', 'doctrines', 'ignorance', 'middle'],\n ['naturall', 'sense', 'imagination', 'subject', 'absurdity'],\n ['nature',\n  'selfe',\n  'erre',\n  'man',\n  'abound',\n  'copiousnesse',\n  'language',\n  'become',\n  'wise',\n  'mad',\n  'ordinary'],\n ['possible',\n  'without',\n  'letters',\n  'man',\n  'become',\n  'either',\n  'excellently',\n  'wise',\n  'unless',\n  'memory',\n  'hurt',\n  'disease',\n  'ill',\n  'constitution',\n  'organs',\n  'excellently',\n  'foolish'],\n ['words',\n  'wise',\n  'mens',\n  'counters',\n  'reckon',\n  'mony',\n  'fooles',\n  'value',\n  'authority',\n  'aristotle',\n  'cicero',\n  'thomas',\n  'doctor',\n  'whatsoever',\n  'man'],\n ['subject',\n  'names',\n  'subject',\n  'names',\n  'whatsoever',\n  'enter',\n  'considered',\n  'account',\n  'added',\n  'one',\n  'another',\n  'make',\n  'summe',\n  'substracted',\n  'one',\n  'another',\n  'leave',\n  'remainder'],\n ['latines',\n  'called',\n  'accounts',\n  'mony',\n  'rationes',\n  'accounting',\n  'ratiocinatio',\n  'bills',\n  'books',\n  'account',\n  'call',\n  'items',\n  'called',\n  'nomina',\n  'names',\n  'thence',\n  'seems',\n  'proceed',\n  'extended',\n  'word',\n  'ratio',\n  'faculty',\n  'reckoning',\n  'things'],\n ['greeks',\n  'one',\n  'word',\n  'logos',\n  'speech',\n  'reason',\n  'thought',\n  'speech',\n  'without',\n  'reason',\n  'reasoning',\n  'without',\n  'speech',\n  'act',\n  'reasoning',\n  'called',\n  'syllogisme',\n  'signifieth',\n  'summing',\n  'consequences',\n  'one',\n  'saying',\n  'another'],\n ['things',\n  'may',\n  'enter',\n  'account',\n  'divers',\n  'accidents',\n  'names',\n  'shew',\n  'diversity',\n  'diversly',\n  'wrested',\n  'diversified'],\n ['diversity', 'names', 'may', 'reduced', 'foure', 'generall', 'heads'],\n ['first',\n  'thing',\n  'may',\n  'enter',\n  'account',\n  'matter',\n  'body',\n  'living',\n  'sensible',\n  'rationall',\n  'hot',\n  'cold',\n  'moved',\n  'quiet',\n  'names',\n  'word',\n  'matter',\n  'body',\n  'understood',\n  'names',\n  'matter'],\n ['secondly',\n  'may',\n  'enter',\n  'account',\n  'considered',\n  'accident',\n  'quality',\n  'conceive',\n  'moved',\n  'long',\n  'hot',\n  'c',\n  'name',\n  'thing',\n  'selfe',\n  'little',\n  'change',\n  'wresting',\n  'wee',\n  'make',\n  'name',\n  'accident',\n  'consider',\n  'living',\n  'put',\n  'account',\n  'life',\n  'moved',\n  'motion',\n  'hot',\n  'heat',\n  'long',\n  'length',\n  'like'],\n ['names',\n  'names',\n  'accidents',\n  'properties',\n  'one',\n  'matter',\n  'body',\n  'distinguished',\n  'another'],\n ['called', 'names', 'abstract', 'severed', 'matter', 'account', 'matter'],\n ['thirdly',\n  'bring',\n  'account',\n  'properties',\n  'bodies',\n  'whereby',\n  'make',\n  'distinction',\n  'thing',\n  'seen',\n  'us',\n  'reckon',\n  'thing',\n  'selfe',\n  'sight',\n  'colour',\n  'idea',\n  'fancy',\n  'thing',\n  'heard',\n  'wee',\n  'reckon',\n  'hearing',\n  'sound',\n  'onely',\n  'fancy',\n  'conception',\n  'eare',\n  'names',\n  'fancies'],\n ['fourthly',\n  'bring',\n  'account',\n  'consider',\n  'give',\n  'names',\n  'names',\n  'speeches',\n  'generall',\n  'universall',\n  'speciall',\n  'oequivocall',\n  'names',\n  'names'],\n ['affirmation',\n  'interrogation',\n  'commandement',\n  'narration',\n  'syllogisme',\n  'sermon',\n  'oration',\n  'many',\n  'names',\n  'speeches'],\n ['use',\n  'names',\n  'positive',\n  'variety',\n  'names',\n  'positive',\n  'put',\n  'mark',\n  'somewhat',\n  'nature',\n  'may',\n  'feigned',\n  'mind',\n  'man',\n  'bodies',\n  'may',\n  'conceived',\n  'bodies',\n  'properties',\n  'may',\n  'feigned',\n  'words',\n  'speech'],\n ['negative',\n  'names',\n  'uses',\n  'also',\n  'names',\n  'called',\n  'negative',\n  'notes',\n  'signifie',\n  'word',\n  'name',\n  'thing',\n  'question',\n  'words',\n  'nothing',\n  'man',\n  'infinite',\n  'indocible',\n  'three',\n  'want',\n  'foure',\n  'like',\n  'nevertheless',\n  'use',\n  'reckoning',\n  'correcting',\n  'reckoning',\n  'call',\n  'mind',\n  'past',\n  'cogitations',\n  'though',\n  'names',\n  'thing',\n  'make',\n  'us',\n  'refuse',\n  'admit',\n  'names',\n  'rightly',\n  'used'],\n ['words',\n  'insignificant',\n  'names',\n  'insignificant',\n  'sounds',\n  'two',\n  'sorts'],\n ['one',\n  'new',\n  'yet',\n  'meaning',\n  'explained',\n  'definition',\n  'whereof',\n  'aboundance',\n  'coyned',\n  'schoole-men',\n  'pusled',\n  'philosophers'],\n ['another',\n  'man',\n  'make',\n  'name',\n  'two',\n  'names',\n  'whose',\n  'significations',\n  'contradictory',\n  'inconsistent',\n  'name',\n  'incorporeall',\n  'body',\n  'one',\n  'incorporeall',\n  'substance',\n  'great',\n  'number'],\n ['whensoever',\n  'affirmation',\n  'false',\n  'two',\n  'names',\n  'composed',\n  'put',\n  'together',\n  'made',\n  'one',\n  'signifie',\n  'nothing'],\n ['example',\n  'false',\n  'affirmation',\n  'say',\n  'quadrangle',\n  'round',\n  'word',\n  'round',\n  'quadrangle',\n  'signifies',\n  'nothing',\n  'meere',\n  'sound'],\n ['likewise',\n  'false',\n  'say',\n  'vertue',\n  'powred',\n  'blown',\n  'words',\n  'in-powred',\n  'vertue',\n  'in-blown',\n  'vertue',\n  'absurd',\n  'insignificant',\n  'round',\n  'quadrangle'],\n ['therefore',\n  'shall',\n  'hardly',\n  'meet',\n  'senselesse',\n  'insignificant',\n  'word',\n  'made',\n  'latin',\n  'greek',\n  'names'],\n ['frenchman',\n  'seldome',\n  'hears',\n  'saviour',\n  'called',\n  'name',\n  'parole',\n  'name',\n  'verbe',\n  'often',\n  'yet',\n  'verbe',\n  'parole',\n  'differ',\n  'one',\n  'latin',\n  'french'],\n ['understanding',\n  'man',\n  'upon',\n  'hearing',\n  'speech',\n  'hath',\n  'thoughts',\n  'words',\n  'speech',\n  'connexion',\n  'ordained',\n  'constituted',\n  'signifie',\n  'said',\n  'understand',\n  'understanding',\n  'nothing',\n  'els',\n  'conception',\n  'caused',\n  'speech'],\n ['therefore',\n  'speech',\n  'peculiar',\n  'man',\n  'ought',\n  'know',\n  'understanding',\n  'peculiar',\n  'also'],\n ['therefore',\n  'absurd',\n  'false',\n  'affirmations',\n  'case',\n  'universall',\n  'understanding',\n  'though',\n  'many',\n  'think',\n  'understand',\n  'repeat',\n  'words',\n  'softly',\n  'con',\n  'mind'],\n ['kinds',\n  'speeches',\n  'signifie',\n  'appetites',\n  'aversions',\n  'passions',\n  'mans',\n  'mind',\n  'use',\n  'abuse',\n  'shall',\n  'speak',\n  'spoken',\n  'passions'],\n ['inconstant',\n  'names',\n  'names',\n  'things',\n  'affect',\n  'us',\n  'please',\n  'displease',\n  'us',\n  'man',\n  'alike',\n  'affected',\n  'thing',\n  'man',\n  'times',\n  'common',\n  'discourses',\n  'man',\n  'inconstant',\n  'signification'],\n ['seeing',\n  'names',\n  'imposed',\n  'signifie',\n  'conceptions',\n  'affections',\n  'conceptions',\n  'conceive',\n  'things',\n  'differently',\n  'hardly',\n  'avoyd',\n  'different',\n  'naming'],\n ['though',\n  'nature',\n  'conceive',\n  'yet',\n  'diversity',\n  'reception',\n  'respect',\n  'different',\n  'constitutions',\n  'body',\n  'prejudices',\n  'opinion',\n  'gives',\n  'everything',\n  'tincture',\n  'different',\n  'passions'],\n ['therefore',\n  'reasoning',\n  'man',\n  'bust',\n  'take',\n  'heed',\n  'words',\n  'besides',\n  'signification',\n  'imagine',\n  'nature',\n  'disposition',\n  'interest',\n  'speaker',\n  'names',\n  'vertues',\n  'vices',\n  'one',\n  'man',\n  'calleth',\n  'wisdome',\n  'another',\n  'calleth',\n  'fear',\n  'one',\n  'cruelty',\n  'another',\n  'justice',\n  'one',\n  'prodigality',\n  'another',\n  'magnanimity',\n  'one',\n  'gravity',\n  'another',\n  'stupidity',\n  'c',\n  'therefore',\n  'names',\n  'never',\n  'true',\n  'grounds',\n  'ratiocination'],\n ['metaphors',\n  'tropes',\n  'speech',\n  'less',\n  'dangerous',\n  'profess',\n  'inconstancy'],\n ['chapter', 'v', 'reason', 'science'],\n ['reason',\n  'man',\n  'reasoneth',\n  'hee',\n  'nothing',\n  'els',\n  'conceive',\n  'summe',\n  'totall',\n  'addition',\n  'parcels',\n  'conceive',\n  'remainder',\n  'substraction',\n  'one',\n  'summe',\n  'another',\n  'done',\n  'words',\n  'conceiving',\n  'consequence',\n  'names',\n  'parts',\n  'name',\n  'whole',\n  'names',\n  'whole',\n  'one',\n  'part',\n  'name',\n  'part'],\n ['though',\n  'things',\n  'numbers',\n  'besides',\n  'adding',\n  'substracting',\n  'man',\n  'name',\n  'operations',\n  'multiplying',\n  'dividing',\n  'yet',\n  'multiplication',\n  'addition',\n  'together',\n  'things',\n  'equall',\n  'division',\n  'substracting',\n  'one',\n  'thing',\n  'often'],\n ['operations',\n  'incident',\n  'numbers',\n  'onely',\n  'manner',\n  'things',\n  'added',\n  'together',\n  'taken',\n  'one',\n  'another'],\n ['arithmeticians',\n  'teach',\n  'adde',\n  'substract',\n  'numbers',\n  'geometricians',\n  'teach',\n  'lines',\n  'figures',\n  'solid',\n  'superficiall',\n  'angles',\n  'proportions',\n  'times',\n  'degrees',\n  'swiftnesse',\n  'force',\n  'power',\n  'like',\n  'logicians',\n  'teach',\n  'consequences',\n  'words',\n  'adding',\n  'together',\n  'two',\n  'names',\n  'make',\n  'affirmation',\n  'two',\n  'affirmations',\n  'make',\n  'syllogisme',\n  'many',\n  'syllogismes',\n  'make',\n  'demonstration',\n  'summe',\n  'conclusion',\n  'syllogisme',\n  'substract',\n  'one',\n  'proposition',\n  'finde'],\n ['writers',\n  'politiques',\n  'adde',\n  'together',\n  'pactions',\n  'find',\n  'mens',\n  'duties',\n  'lawyers',\n  'law',\n  'facts',\n  'find',\n  'right',\n  'wrong',\n  'actions',\n  'private',\n  'man'],\n ['summe',\n  'matter',\n  'soever',\n  'place',\n  'addition',\n  'substraction',\n  'also',\n  'place',\n  'reason',\n  'place',\n  'reason',\n  'nothing'],\n ['reason',\n  'defined',\n  'may',\n  'define',\n  'say',\n  'determine',\n  'meant',\n  'word',\n  'reason',\n  'wee',\n  'reckon',\n  'amongst',\n  'faculties',\n  'mind'],\n ['reason',\n  'sense',\n  'nothing',\n  'reckoning',\n  'adding',\n  'substracting',\n  'consequences',\n  'generall',\n  'names',\n  'agreed',\n  'upon',\n  'marking',\n  'signifying',\n  'thoughts',\n  'say',\n  'marking',\n  'reckon',\n  'selves',\n  'signifying',\n  'demonstrate',\n  'approve',\n  'reckonings',\n  'man'],\n ['right',\n  'reason',\n  'arithmetique',\n  'unpractised',\n  'man',\n  'must',\n  'professors',\n  'may',\n  'often',\n  'erre',\n  'cast',\n  'false',\n  'also',\n  'subject',\n  'reasoning',\n  'ablest',\n  'attentive',\n  'practised',\n  'man',\n  'may',\n  'deceive',\n  'inferre',\n  'false',\n  'conclusions',\n  'reason',\n  'selfe',\n  'always',\n  'right',\n  'reason',\n  'well',\n  'arithmetique',\n  'certain',\n  'infallible',\n  'art',\n  'one',\n  'mans',\n  'reason',\n  'reason',\n  'one',\n  'number',\n  'man',\n  'makes',\n  'certaintie',\n  'account',\n  'therefore',\n  'well',\n  'cast',\n  'great',\n  'many',\n  'man',\n  'unanimously',\n  'approved'],\n ['therfore',\n  'controversy',\n  'account',\n  'parties',\n  'must',\n  'accord',\n  'set',\n  'right',\n  'reason',\n  'reason',\n  'arbitrator',\n  'judge',\n  'whose',\n  'sentence',\n  'stand',\n  'controversie',\n  'must',\n  'either',\n  'come',\n  'blowes',\n  'undecided',\n  'want',\n  'right',\n  'reason',\n  'constituted',\n  'nature',\n  'also',\n  'debates',\n  'kind',\n  'soever',\n  'man',\n  'think',\n  'wiser',\n  'others',\n  'clamor',\n  'demand',\n  'right',\n  'reason',\n  'judge',\n  'yet',\n  'seek',\n  'things',\n  'determined',\n  'mens',\n  'reason',\n  'intolerable',\n  'society',\n  'man',\n  'play',\n  'trump',\n  'turned',\n  'use',\n  'trump',\n  'every',\n  'occasion',\n  'suite',\n  'whereof',\n  'hand'],\n ['nothing',\n  'els',\n  'every',\n  'passions',\n  'comes',\n  'bear',\n  'sway',\n  'taken',\n  'right',\n  'reason',\n  'controversies',\n  'bewraying',\n  'want',\n  'right',\n  'reason',\n  'claym',\n  'lay'],\n ['use',\n  'reason',\n  'use',\n  'end',\n  'reason',\n  'finding',\n  'summe',\n  'truth',\n  'one',\n  'consequences',\n  'remote',\n  'first',\n  'definitions',\n  'settled',\n  'significations',\n  'names',\n  'begin',\n  'proceed',\n  'one',\n  'consequence',\n  'another'],\n ['certainty',\n  'last',\n  'conclusion',\n  'without',\n  'certainty',\n  'affirmations',\n  'negations',\n  'grounded',\n  'inferred'],\n ['master',\n  'family',\n  'taking',\n  'account',\n  'casteth',\n  'summs',\n  'bills',\n  'expence',\n  'one',\n  'sum',\n  'regarding',\n  'bill',\n  'summed',\n  'give',\n  'account',\n  'payes',\n  'advantages',\n  'himselfe',\n  'allowed',\n  'account',\n  'grosse',\n  'trusting',\n  'every',\n  'accountants',\n  'skill',\n  'honesty',\n  'also',\n  'reasoning',\n  'things',\n  'takes',\n  'conclusions',\n  'trust',\n  'authors',\n  'doth',\n  'fetch',\n  'first',\n  'items',\n  'every',\n  'reckoning',\n  'significations',\n  'names',\n  'settled',\n  'definitions',\n  'loses',\n  'labour',\n  'know',\n  'thing',\n  'onely',\n  'beleeveth'],\n ['error',\n  'absurdity',\n  'man',\n  'reckons',\n  'without',\n  'use',\n  'words',\n  'may',\n  'done',\n  'particular',\n  'things',\n  'upon',\n  'sight',\n  'one',\n  'thing',\n  'wee',\n  'conjecture',\n  'likely',\n  'preceded',\n  'likely',\n  'follow',\n  'upon',\n  'thought',\n  'likely',\n  'follow',\n  'followes',\n  'thought',\n  'likely',\n  'preceded',\n  'hath',\n  'preceded',\n  'called',\n  'error',\n  'even',\n  'prudent',\n  'man',\n  'subject'],\n ['reason',\n  'words',\n  'generall',\n  'signification',\n  'fall',\n  'upon',\n  'generall',\n  'inference',\n  'false',\n  'though',\n  'commonly',\n  'called',\n  'error',\n  'indeed',\n  'absurdity',\n  'senseless',\n  'speech'],\n ['error',\n  'deception',\n  'presuming',\n  'somewhat',\n  'past',\n  'come',\n  'though',\n  'past',\n  'come',\n  'yet',\n  'impossibility',\n  'discoverable'],\n ['make',\n  'generall',\n  'assertion',\n  'unlesse',\n  'true',\n  'one',\n  'possibility',\n  'unconceivable'],\n ['words',\n  'whereby',\n  'conceive',\n  'nothing',\n  'sound',\n  'call',\n  'absurd',\n  'insignificant',\n  'non-sense'],\n ['therefore',\n  'man',\n  'talk',\n  'round',\n  'quadrangle',\n  'accidents',\n  'bread',\n  'cheese',\n  'immaterial',\n  'substances',\n  'free',\n  'subject',\n  'free',\n  'free',\n  'free',\n  'hindred',\n  'opposition',\n  'say',\n  'errour',\n  'words',\n  'without',\n  'meaning',\n  'say',\n  'absurd'],\n ['said',\n  'second',\n  'chapter',\n  'man',\n  'excell',\n  'animals',\n  'faculty',\n  'conceived',\n  'thing',\n  'whatsoever',\n  'apt',\n  'enquire',\n  'consequences',\n  'effects',\n  'could'],\n ['adde',\n  'degree',\n  'excellence',\n  'words',\n  'reduce',\n  'consequences',\n  'findes',\n  'generall',\n  'rules',\n  'called',\n  'theoremes',\n  'aphorismes',\n  'reason',\n  'reckon',\n  'onely',\n  'number',\n  'things',\n  'whereof',\n  'one',\n  'may',\n  'added',\n  'unto',\n  'substracted',\n  'another'],\n ['priviledge',\n  'allayed',\n  'another',\n  'priviledge',\n  'absurdity',\n  'living',\n  'creature',\n  'subject',\n  'man',\n  'onely'],\n ['man', 'subject', 'professe', 'philosophy'],\n ['true',\n  'cicero',\n  'sayth',\n  'somewhere',\n  'nothing',\n  'absurd',\n  'may',\n  'found',\n  'books',\n  'philosophers'],\n ['reason', 'manifest'],\n ['one',\n  'begins',\n  'ratiocination',\n  'definitions',\n  'explications',\n  'names',\n  'use',\n  'method',\n  'hath',\n  'used',\n  'onely',\n  'geometry',\n  'whose',\n  'conclusions',\n  'thereby',\n  'made',\n  'indisputable'],\n ['causes',\n  'absurditie',\n  'first',\n  'cause',\n  'absurd',\n  'conclusions',\n  'ascribe',\n  'want',\n  'method',\n  'begin',\n  'ratiocination',\n  'definitions',\n  'settled',\n  'significations',\n  'words',\n  'could',\n  'cast',\n  'account',\n  'without',\n  'knowing',\n  'value',\n  'numerall',\n  'words',\n  'one',\n  'two',\n  'three'],\n ['whereas',\n  'bodies',\n  'enter',\n  'account',\n  'upon',\n  'divers',\n  'considerations',\n  'mentioned',\n  'precedent',\n  'chapter',\n  'considerations',\n  'diversly',\n  'named',\n  'divers',\n  'absurdities',\n  'proceed',\n  'confusion',\n  'unfit',\n  'connexion',\n  'names',\n  'assertions'],\n ['therefore',\n  'second',\n  'cause',\n  'absurd',\n  'assertions',\n  'ascribe',\n  'giving',\n  'names',\n  'bodies',\n  'accidents',\n  'accidents',\n  'bodies',\n  'say',\n  'faith',\n  'infused',\n  'inspired',\n  'nothing',\n  'powred',\n  'breathed',\n  'thing',\n  'body',\n  'extension',\n  'body',\n  'phantasmes',\n  'spirits',\n  'c',\n  'third',\n  'ascribe',\n  'giving',\n  'names',\n  'accidents',\n  'bodies',\n  'without',\n  'us',\n  'accidents',\n  'bodies',\n  'say',\n  'colour',\n  'body',\n  'sound',\n  'ayre',\n  'c',\n  'fourth',\n  'giving',\n  'names',\n  'bodies',\n  'names',\n  'speeches',\n  'say',\n  'things',\n  'universall',\n  'living',\n  'creature',\n  'genus',\n  'generall',\n  'thing',\n  'c',\n  'fifth',\n  'giving',\n  'names',\n  'accidents',\n  'names',\n  'speeches',\n  'say',\n  'nature',\n  'thing',\n  'definition',\n  'mans',\n  'command',\n  'like'],\n ['sixth',\n  'use',\n  'metaphors',\n  'tropes',\n  'rhetoricall',\n  'figures',\n  'stead',\n  'words',\n  'proper'],\n ['though',\n  'lawfull',\n  'say',\n  'example',\n  'common',\n  'speech',\n  'way',\n  'goeth',\n  'leadeth',\n  'hither',\n  'thither',\n  'proverb',\n  'sayes',\n  'whereas',\n  'wayes',\n  'go',\n  'proverbs',\n  'speak',\n  'yet',\n  'reckoning',\n  'seeking',\n  'truth',\n  'speeches',\n  'admitted'],\n ['seventh',\n  'names',\n  'signifie',\n  'nothing',\n  'taken',\n  'learned',\n  'rote',\n  'schooles',\n  'hypostatical',\n  'transubstantiate',\n  'consubstantiate',\n  'eternal-now',\n  'like',\n  'canting',\n  'schoole-men'],\n ['avoyd',\n  'things',\n  'easie',\n  'fall',\n  'absurdity',\n  'unlesse',\n  'length',\n  'account',\n  'wherein',\n  'may',\n  'perhaps',\n  'forget',\n  'went'],\n ['man', 'nature', 'reason', 'alike', 'well', 'good', 'principles'],\n ['stupid',\n  'mistake',\n  'geometry',\n  'also',\n  'persist',\n  'another',\n  'detects',\n  'error'],\n ['science',\n  'appears',\n  'reason',\n  'sense',\n  'memory',\n  'borne',\n  'us',\n  'gotten',\n  'experience',\n  'onely',\n  'prudence',\n  'attayned',\n  'industry',\n  'first',\n  'apt',\n  'imposing',\n  'names',\n  'secondly',\n  'getting',\n  'good',\n  'orderly',\n  'method',\n  'proceeding',\n  'elements',\n  'names',\n  'assertions',\n  'made',\n  'connexion',\n  'one',\n  'another',\n  'syllogismes',\n  'connexions',\n  'one',\n  'assertion',\n  'another',\n  'till',\n  'come',\n  'knowledge',\n  'consequences',\n  'names',\n  'appertaining',\n  'subject',\n  'hand',\n  'man',\n  'call',\n  'science'],\n ['whereas',\n  'sense',\n  'memory',\n  'knowledge',\n  'fact',\n  'thing',\n  'past',\n  'irrevocable',\n  'science',\n  'knowledge',\n  'consequences',\n  'dependance',\n  'one',\n  'fact',\n  'upon',\n  'another',\n  'presently',\n  'know',\n  'something',\n  'els',\n  'like',\n  'another',\n  'time',\n  'see',\n  'thing',\n  'comes',\n  'upon',\n  'causes',\n  'manner',\n  'like',\n  'causes',\n  'come',\n  'power',\n  'wee',\n  'see',\n  'make',\n  'produce',\n  'like',\n  'effects'],\n ['children',\n  'therefore',\n  'endued',\n  'reason',\n  'till',\n  'attained',\n  'use',\n  'speech',\n  'called',\n  'reasonable',\n  'creatures',\n  'possibility',\n  'apparent',\n  'use',\n  'reason',\n  'time',\n  'come'],\n ['part',\n  'man',\n  'though',\n  'use',\n  'reasoning',\n  'little',\n  'way',\n  'numbring',\n  'degree',\n  'yet',\n  'serves',\n  'little',\n  'use',\n  'common',\n  'life',\n  'govern',\n  'better',\n  'worse',\n  'according',\n  'differences',\n  'experience',\n  'quicknesse',\n  'memory',\n  'inclinations',\n  'severall',\n  'ends',\n  'specially',\n  'according',\n  'good',\n  'evill',\n  'fortune',\n  'errors',\n  'one',\n  'another'],\n ['science', 'certain', 'rules', 'actions', 'farre', 'know'],\n ['geometry',\n  'thought',\n  'conjuring',\n  'sciences',\n  'taught',\n  'beginnings',\n  'progresse',\n  'may',\n  'see',\n  'acquired',\n  'generated',\n  'point',\n  'like',\n  'children',\n  'thought',\n  'generation',\n  'made',\n  'believe',\n  'women',\n  'brothers',\n  'sisters',\n  'born',\n  'found',\n  'garden'],\n ['yet',\n  'science',\n  'better',\n  'nobler',\n  'condition',\n  'naturall',\n  'prudence',\n  'man',\n  'mis-reasoning',\n  'trusting',\n  'reason',\n  'wrong',\n  'fall',\n  'upon',\n  'false',\n  'absurd',\n  'generall',\n  'rules'],\n ['ignorance',\n  'causes',\n  'rules',\n  'set',\n  'man',\n  'farre',\n  'way',\n  'relying',\n  'false',\n  'rules',\n  'taking',\n  'causes',\n  'aspire',\n  'rather',\n  'causes',\n  'contrary'],\n ['conclude',\n  'light',\n  'humane',\n  'minds',\n  'perspicuous',\n  'words',\n  'exact',\n  'definitions',\n  'first',\n  'snuffed',\n  'purged',\n  'ambiguity',\n  'reason',\n  'pace',\n  'encrease',\n  'science',\n  'way',\n  'benefit',\n  'man-kind',\n  'end'],\n ['contrary',\n  'metaphors',\n  'senslesse',\n  'ambiguous',\n  'words',\n  'like',\n  'ignes',\n  'fatui',\n  'reasoning',\n  'upon',\n  'wandering',\n  'amongst',\n  'innumerable',\n  'absurdities',\n  'end',\n  'contention',\n  'sedition',\n  'contempt'],\n ['prudence',\n  'sapience',\n  'difference',\n  'much',\n  'experience',\n  'prudence',\n  'much',\n  'science',\n  'sapience'],\n ['though',\n  'wee',\n  'usually',\n  'one',\n  'name',\n  'wisedome',\n  'yet',\n  'latines',\n  'always',\n  'distinguish',\n  'prudentia',\n  'sapientia',\n  'ascribing',\n  'former',\n  'experience',\n  'later',\n  'science'],\n ['make',\n  'difference',\n  'appeare',\n  'cleerly',\n  'let',\n  'us',\n  'suppose',\n  'one',\n  'man',\n  'endued',\n  'excellent',\n  'naturall',\n  'use',\n  'dexterity',\n  'handling',\n  'armes',\n  'another',\n  'added',\n  'dexterity',\n  'acquired',\n  'science',\n  'offend',\n  'offended',\n  'adversarie',\n  'every',\n  'possible',\n  'posture',\n  'guard',\n  'ability',\n  'former',\n  'would',\n  'ability',\n  'later',\n  'prudence',\n  'sapience',\n  'usefull',\n  'later',\n  'infallible'],\n ['trusting',\n  'onely',\n  'authority',\n  'books',\n  'follow',\n  'blind',\n  'blindly',\n  'like',\n  'trusting',\n  'false',\n  'rules',\n  'master',\n  'fence',\n  'ventures',\n  'praesumptuously',\n  'upon',\n  'adversary',\n  'either',\n  'kills',\n  'disgraces'],\n ['signes',\n  'science',\n  'signes',\n  'science',\n  'certain',\n  'infallible',\n  'uncertain'],\n ['certain',\n  'pretendeth',\n  'science',\n  'thing',\n  'teach',\n  'say',\n  'demonstrate',\n  'truth',\n  'thereof',\n  'perspicuously',\n  'another',\n  'uncertain',\n  'onely',\n  'particular',\n  'events',\n  'answer',\n  'pretence',\n  'upon',\n  'many',\n  'occasions',\n  'prove',\n  'sayes',\n  'must'],\n ['signes',\n  'prudence',\n  'uncertain',\n  'observe',\n  'experience',\n  'remember',\n  'circumstances',\n  'may',\n  'alter',\n  'successe',\n  'impossible'],\n ['businesse',\n  'whereof',\n  'man',\n  'infallible',\n  'science',\n  'proceed',\n  'forsake',\n  'natural',\n  'judgement',\n  'guided',\n  'generall',\n  'sentences',\n  'read',\n  'authors',\n  'subject',\n  'many',\n  'exceptions',\n  'signe',\n  'folly',\n  'generally',\n  'scorned',\n  'name',\n  'pedantry'],\n ['even',\n  'man',\n  'councells',\n  'common-wealth',\n  'love',\n  'shew',\n  'reading',\n  'politiques',\n  'history',\n  'domestique',\n  'affaires',\n  'particular',\n  'interest',\n  'concerned',\n  'prudence',\n  'enough',\n  'private',\n  'affaires',\n  'publique',\n  'study',\n  'reputation',\n  'owne',\n  'wit',\n  'successe',\n  'anothers',\n  'businesse'],\n ['chapter', 'vi'],\n ['interiour',\n  'beginnings',\n  'voluntary',\n  'motions',\n  'commonly',\n  'called',\n  'passions',\n  'speeches',\n  'expressed'],\n ['motion',\n  'vitall',\n  'animal',\n  'animals',\n  'two',\n  'sorts',\n  'motions',\n  'peculiar',\n  'one',\n  'called',\n  'vitall',\n  'begun',\n  'generation',\n  'continued',\n  'without',\n  'interruption',\n  'whole',\n  'life',\n  'course',\n  'bloud',\n  'pulse',\n  'breathing',\n  'concoctions',\n  'nutrition',\n  'excretion',\n  'c',\n  'motions',\n  'needs',\n  'help',\n  'imagination',\n  'animal',\n  'motion',\n  'otherwise',\n  'called',\n  'voluntary',\n  'motion',\n  'go',\n  'speak',\n  'move',\n  'limbes',\n  'manner',\n  'first',\n  'fancied',\n  'minds'],\n ['sense',\n  'motion',\n  'organs',\n  'interiour',\n  'parts',\n  'mans',\n  'body',\n  'caused',\n  'action',\n  'things',\n  'see',\n  'heare',\n  'c',\n  'fancy',\n  'reliques',\n  'motion',\n  'remaining',\n  'sense',\n  'already',\n  'sayd',\n  'first',\n  'second',\n  'chapters'],\n ['going',\n  'speaking',\n  'like',\n  'voluntary',\n  'motions',\n  'depend',\n  'alwayes',\n  'upon',\n  'precedent',\n  'thought',\n  'whither',\n  'way',\n  'evident',\n  'imagination',\n  'first',\n  'internall',\n  'beginning',\n  'voluntary',\n  'motion'],\n ['although',\n  'unstudied',\n  'man',\n  'doe',\n  'conceive',\n  'motion',\n  'thing',\n  'moved',\n  'invisible',\n  'space',\n  'moved',\n  'shortnesse',\n  'insensible',\n  'yet',\n  'doth',\n  'hinder',\n  'motions'],\n ['let',\n  'space',\n  'never',\n  'little',\n  'moved',\n  'greater',\n  'space',\n  'whereof',\n  'little',\n  'one',\n  'part',\n  'must',\n  'first',\n  'moved'],\n ['small',\n  'beginnings',\n  'motion',\n  'within',\n  'body',\n  'man',\n  'appear',\n  'walking',\n  'speaking',\n  'striking',\n  'visible',\n  'actions',\n  'commonly',\n  'called',\n  'endeavour'],\n ['endeavour',\n  'appetite',\n  'desire',\n  'hunger',\n  'thirst',\n  'aversion',\n  'endeavour',\n  'toward',\n  'something',\n  'causes',\n  'called',\n  'appetite',\n  'desire',\n  'later',\n  'generall',\n  'name',\n  'oftentimes',\n  'restrayned',\n  'signifie',\n  'desire',\n  'food',\n  'namely',\n  'hunger',\n  'thirst'],\n ['endeavour', 'fromward', 'something', 'generally', 'called', 'aversion'],\n ['words',\n  'appetite',\n  'aversion',\n  'latines',\n  'signifie',\n  'motions',\n  'one',\n  'approaching',\n  'retiring'],\n ['also', 'greek', 'words', 'orme', 'aphorme'],\n ['nature',\n  'selfe',\n  'often',\n  'presse',\n  'upon',\n  'man',\n  'truths',\n  'afterwards',\n  'look',\n  'somewhat',\n  'beyond',\n  'nature',\n  'stumble'],\n ['schooles',\n  'find',\n  'meere',\n  'appetite',\n  'go',\n  'move',\n  'actuall',\n  'motion',\n  'motion',\n  'must',\n  'acknowledge',\n  'call',\n  'metaphoricall',\n  'motion',\n  'absurd',\n  'speech',\n  'though',\n  'words',\n  'may',\n  'called',\n  'metaphoricall',\n  'bodies',\n  'motions'],\n ['man', 'desire', 'also', 'sayd', 'love', 'hate', 'things', 'aversion'],\n ['desire',\n  'love',\n  'thing',\n  'save',\n  'desire',\n  'alwayes',\n  'signifie',\n  'absence',\n  'object',\n  'love',\n  'commonly',\n  'presence'],\n ['also', 'aversion', 'signifie', 'absence', 'hate', 'presence', 'object'],\n ['appetites',\n  'aversions',\n  'born',\n  'man',\n  'appetite',\n  'food',\n  'appetite',\n  'excretion',\n  'exoneration',\n  'may',\n  'also',\n  'properly',\n  'called',\n  'aversions',\n  'somewhat',\n  'feele',\n  'bodies',\n  'appetites',\n  'many'],\n ['rest',\n  'appetites',\n  'particular',\n  'things',\n  'proceed',\n  'experience',\n  'triall',\n  'effects',\n  'upon',\n  'man'],\n ['things', 'wee', 'know', 'believe', 'desire', 'tast', 'try'],\n ['aversion',\n  'wee',\n  'things',\n  'onely',\n  'know',\n  'hurt',\n  'us',\n  'also',\n  'know',\n  'whether',\n  'hurt',\n  'us'],\n ['contempt',\n  'things',\n  'neither',\n  'desire',\n  'hate',\n  'said',\n  'contemne',\n  'contempt',\n  'nothing',\n  'els',\n  'immobility',\n  'contumacy',\n  'heart',\n  'resisting',\n  'action',\n  'certain',\n  'things',\n  'proceeding',\n  'heart',\n  'already',\n  'moved',\n  'otherwise',\n  'either',\n  'potent',\n  'objects',\n  'want',\n  'experience'],\n ['constitution',\n  'mans',\n  'body',\n  'continuall',\n  'mutation',\n  'impossible',\n  'things',\n  'alwayes',\n  'cause',\n  'appetites',\n  'aversions',\n  'much',\n  'lesse',\n  'man',\n  'consent',\n  'desire',\n  'almost',\n  'one',\n  'object'],\n ['good',\n  'evill',\n  'whatsoever',\n  'object',\n  'mans',\n  'appetite',\n  'desire',\n  'part',\n  'calleth',\n  'good',\n  'object',\n  'hate',\n  'aversion',\n  'evill',\n  'contempt',\n  'vile',\n  'inconsiderable'],\n ['words',\n  'good',\n  'evill',\n  'contemptible',\n  'ever',\n  'used',\n  'relation',\n  'person',\n  'useth',\n  'nothing',\n  'simply',\n  'absolutely',\n  'common',\n  'rule',\n  'good',\n  'evill',\n  'taken',\n  'nature',\n  'objects',\n  'person',\n  'man',\n  'common-wealth',\n  'common-wealth',\n  'person',\n  'representeth',\n  'arbitrator',\n  'judge',\n  'man',\n  'disagreeing',\n  'shall',\n  'consent',\n  'set',\n  'make',\n  'sentence',\n  'rule',\n  'thereof'],\n ['pulchrum',\n  'turpe',\n  'delightfull',\n  'profitable',\n  'unpleasant',\n  'unprofitable',\n  'latine',\n  'tongue',\n  'two',\n  'words',\n  'whose',\n  'significations',\n  'approach',\n  'good',\n  'evill',\n  'precisely',\n  'pulchrum',\n  'turpe'],\n ['whereof',\n  'former',\n  'signifies',\n  'apparent',\n  'signes',\n  'promiseth',\n  'good',\n  'later',\n  'promiseth',\n  'evill'],\n ['tongue', 'generall', 'names', 'expresse'],\n ['pulchrum',\n  'say',\n  'things',\n  'fayre',\n  'beautifull',\n  'handsome',\n  'gallant',\n  'honourable',\n  'comely',\n  'amiable',\n  'turpe',\n  'foule',\n  'deformed',\n  'ugly',\n  'base',\n  'nauseous',\n  'like',\n  'subject',\n  'shall',\n  'require',\n  'words',\n  'proper',\n  'places',\n  'signifie',\n  'nothing',\n  'els',\n  'mine',\n  'countenance',\n  'promiseth',\n  'good',\n  'evill'],\n ['good',\n  'three',\n  'kinds',\n  'good',\n  'promise',\n  'pulchrum',\n  'good',\n  'effect',\n  'end',\n  'desired',\n  'called',\n  'jucundum',\n  'delightfull',\n  'good',\n  'means',\n  'called',\n  'utile',\n  'profitable',\n  'many',\n  'evill',\n  'evill',\n  'promise',\n  'call',\n  'turpe',\n  'evill',\n  'effect',\n  'end',\n  'molestum',\n  'unpleasant',\n  'troublesome',\n  'evill',\n  'means',\n  'inutile',\n  'unprofitable',\n  'hurtfull'],\n ['delight',\n  'displeasure',\n  'sense',\n  'really',\n  'within',\n  'us',\n  'sayd',\n  'onely',\n  'motion',\n  'caused',\n  'action',\n  'externall',\n  'objects',\n  'apparence',\n  'sight',\n  'light',\n  'colour',\n  'eare',\n  'sound',\n  'nostrill',\n  'odour',\n  'c',\n  'action',\n  'object',\n  'continued',\n  'eyes',\n  'eares',\n  'organs',\n  'heart',\n  'real',\n  'effect',\n  'nothing',\n  'motion',\n  'endeavour',\n  'consisteth',\n  'appetite',\n  'aversion',\n  'object',\n  'moving'],\n ['apparence',\n  'sense',\n  'motion',\n  'wee',\n  'either',\n  'call',\n  'delight',\n  'trouble',\n  'mind'],\n ['pleasure',\n  'offence',\n  'motion',\n  'called',\n  'appetite',\n  'apparence',\n  'delight',\n  'pleasure',\n  'seemeth',\n  'corroboration',\n  'vitall',\n  'motion',\n  'help',\n  'thereunto',\n  'therefore',\n  'things',\n  'caused',\n  'delight',\n  'improperly',\n  'called',\n  'jucunda',\n  'juvando',\n  'helping',\n  'fortifying',\n  'contrary',\n  'molesta',\n  'offensive',\n  'hindering',\n  'troubling',\n  'motion',\n  'vitall'],\n ['pleasure',\n  'therefore',\n  'delight',\n  'apparence',\n  'sense',\n  'good',\n  'molestation',\n  'displeasure',\n  'apparence',\n  'sense',\n  'evill'],\n ['consequently',\n  'appetite',\n  'desire',\n  'love',\n  'accompanied',\n  'delight',\n  'lesse',\n  'hatred',\n  'aversion',\n  'lesse',\n  'displeasure',\n  'offence'],\n ['pleasures',\n  'sense',\n  'pleasures',\n  'mind',\n  'joy',\n  'paine',\n  'griefe',\n  'pleasures',\n  'delights',\n  'arise',\n  'sense',\n  'object',\n  'present',\n  'may',\n  'called',\n  'pleasures',\n  'sense',\n  'word',\n  'sensuall',\n  'used',\n  'onely',\n  'condemn',\n  'place',\n  'till',\n  'law'],\n ['kind',\n  'onerations',\n  'exonerations',\n  'body',\n  'also',\n  'pleasant',\n  'sight',\n  'hearing',\n  'smell',\n  'tast',\n  'touch',\n  'others',\n  'arise',\n  'expectation',\n  'proceeds',\n  'foresight',\n  'end',\n  'consequence',\n  'things',\n  'whether',\n  'things',\n  'sense',\n  'please',\n  'displease',\n  'pleasures',\n  'mind',\n  'draweth',\n  'consequences',\n  'generally',\n  'called',\n  'joy'],\n ['like',\n  'manner',\n  'displeasures',\n  'sense',\n  'called',\n  'payne',\n  'others',\n  'expectation',\n  'consequences',\n  'called',\n  'griefe'],\n ['simple',\n  'passions',\n  'called',\n  'appetite',\n  'desire',\n  'love',\n  'aversion',\n  'hate',\n  'joy',\n  'griefe',\n  'names',\n  'divers',\n  'considerations',\n  'diversified'],\n ['first',\n  'one',\n  'succeed',\n  'another',\n  'diversly',\n  'called',\n  'opinion',\n  'man',\n  'likelihood',\n  'attaining',\n  'desire'],\n ['secondly', 'object', 'loved', 'hated'],\n ['thirdly', 'consideration', 'many', 'together'],\n ['fourthly', 'alteration', 'succession', 'selfe'],\n ['hope—', 'appetite', 'opinion', 'attaining', 'called', 'hope'],\n ['despaire—', 'without', 'opinion', 'despaire'],\n ['fear', 'aversion', 'opinion', 'hurt', 'object', 'fear'],\n ['courage—', 'hope', 'avoyding', 'hurt', 'resistance', 'courage'],\n ['anger—', 'sudden', 'courage', 'anger'],\n ['confidence—', 'constant', 'hope', 'confidence', 'selves'],\n ['diffidence—', 'constant', 'despayre', 'diffidence', 'selves'],\n ['indignation—',\n  'anger',\n  'great',\n  'hurt',\n  'done',\n  'another',\n  'conceive',\n  'done',\n  'injury',\n  'indignation'],\n ['benevolence—',\n  'desire',\n  'good',\n  'another',\n  'benevolence',\n  'good',\n  'charity'],\n ['man', 'generally', 'good', 'nature'],\n ['covetousnesse—',\n  'desire',\n  'riches',\n  'covetousnesse',\n  'name',\n  'used',\n  'alwayes',\n  'signification',\n  'blame',\n  'man',\n  'contending',\n  'displeased',\n  'one',\n  'anothers',\n  'attaining',\n  'though',\n  'desire',\n  'selfe',\n  'blamed',\n  'allowed',\n  'according',\n  'means',\n  'riches',\n  'sought'],\n ['ambition—',\n  'desire',\n  'office',\n  'precedence',\n  'ambition',\n  'name',\n  'used',\n  'also',\n  'worse',\n  'sense',\n  'reason',\n  'mentioned'],\n ['pusillanimity—',\n  'desire',\n  'things',\n  'conduce',\n  'little',\n  'ends',\n  'fear',\n  'things',\n  'little',\n  'hindrance',\n  'pusillanimity'],\n ['magnanimity—', 'contempt', 'little', 'helps', 'hindrances', 'magnanimity'],\n ['valour—',\n  'magnanimity',\n  'danger',\n  'death',\n  'wounds',\n  'valour',\n  'fortitude'],\n ['liberality—',\n  'magnanimity',\n  'use',\n  'riches',\n  'liberality',\n  'miserablenesse—',\n  'pusillanimity',\n  'wretchednesse',\n  'miserablenesse',\n  'parsimony',\n  'liked',\n  'disliked'],\n ['kindnesse—', 'love', 'persons', 'society', 'kindnesse'],\n ['naturall',\n  'lust—',\n  'love',\n  'persons',\n  'pleasing',\n  'sense',\n  'onely',\n  'natural',\n  'lust'],\n ['luxury—',\n  'love',\n  'acquired',\n  'rumination',\n  'imagination',\n  'pleasure',\n  'past',\n  'luxury'],\n ['passion',\n  'love',\n  'jealousie—',\n  'love',\n  'one',\n  'singularly',\n  'desire',\n  'singularly',\n  'beloved',\n  'passion',\n  'love'],\n ['fear', 'love', 'mutuall', 'jealousie'],\n ['revengefulnesse—',\n  'desire',\n  'hurt',\n  'another',\n  'make',\n  'condemn',\n  'fact',\n  'revengefulnesse'],\n ['curiosity—',\n  'desire',\n  'know',\n  'curiosity',\n  'living',\n  'creature',\n  'man',\n  'man',\n  'distinguished',\n  'onely',\n  'reason',\n  'also',\n  'singular',\n  'passion',\n  'animals',\n  'appetite',\n  'food',\n  'pleasures',\n  'sense',\n  'praedominance',\n  'take',\n  'away',\n  'care',\n  'knowing',\n  'causes',\n  'lust',\n  'mind',\n  'perseverance',\n  'delight',\n  'continuall',\n  'indefatigable',\n  'generation',\n  'knowledge',\n  'exceedeth',\n  'short',\n  'vehemence',\n  'carnall',\n  'pleasure'],\n ['religion',\n  'superstition',\n  'true',\n  'religion—',\n  'fear',\n  'power',\n  'invisible',\n  'feigned',\n  'mind',\n  'imagined',\n  'tales',\n  'publiquely',\n  'allowed',\n  'religion',\n  'allowed',\n  'superstition'],\n ['power', 'imagined', 'truly', 'imagine', 'true', 'religion'],\n ['panique',\n  'terrour—',\n  'fear',\n  'without',\n  'apprehension',\n  'panique',\n  'terror',\n  'called',\n  'fables',\n  'make',\n  'pan',\n  'author',\n  'whereas',\n  'truth',\n  'always',\n  'fear',\n  'first',\n  'apprehension',\n  'cause',\n  'though',\n  'rest',\n  'run',\n  'away',\n  'example',\n  'every',\n  'one',\n  'supposing',\n  'fellow',\n  'know'],\n ['therefore', 'passion', 'happens', 'none', 'throng', 'multitude', 'people'],\n ['admiration—',\n  'joy',\n  'apprehension',\n  'novelty',\n  'admiration',\n  'proper',\n  'man',\n  'excites',\n  'appetite',\n  'knowing',\n  'cause'],\n ['glory',\n  'vaine-glory—',\n  'joy',\n  'arising',\n  'imagination',\n  'man',\n  'power',\n  'ability',\n  'exultation',\n  'mind',\n  'called',\n  'glorying',\n  'grounded',\n  'upon',\n  'experience',\n  'former',\n  'actions',\n  'confidence',\n  'grounded',\n  'flattery',\n  'others',\n  'onely',\n  'supposed',\n  'himselfe',\n  'delight',\n  'consequences',\n  'called',\n  'vaine-glory',\n  'name',\n  'properly',\n  'given',\n  'well-grounded',\n  'confidence',\n  'begetteth',\n  'attempt',\n  'whereas',\n  'supposing',\n  'power',\n  'therefore',\n  'rightly',\n  'called',\n  'vaine'],\n ['dejection—',\n  'griefe',\n  'opinion',\n  'want',\n  'power',\n  'called',\n  'dejection',\n  'mind'],\n ['vaine-glory',\n  'consisteth',\n  'feigning',\n  'supposing',\n  'abilities',\n  'know',\n  'incident',\n  'young',\n  'man',\n  'nourished',\n  'histories',\n  'fictions',\n  'gallant',\n  'persons',\n  'corrected',\n  'often',\n  'times',\n  'age',\n  'employment'],\n ['sudden',\n  'glory',\n  'laughter—',\n  'sudden',\n  'glory',\n  'passion',\n  'maketh',\n  'grimaces',\n  'called',\n  'laughter',\n  'caused',\n  'either',\n  'sudden',\n  'act',\n  'pleaseth',\n  'apprehension',\n  'deformed',\n  'thing',\n  'another',\n  'comparison',\n  'whereof',\n  'suddenly',\n  'applaud'],\n ['incident',\n  'conscious',\n  'fewest',\n  'abilities',\n  'forced',\n  'keep',\n  'favour',\n  'observing',\n  'imperfections',\n  'man'],\n ['therefore',\n  'much',\n  'laughter',\n  'defects',\n  'others',\n  'signe',\n  'pusillanimity'],\n ['great',\n  'minds',\n  'one',\n  'proper',\n  'workes',\n  'help',\n  'free',\n  'others',\n  'scorn',\n  'compare',\n  'onely',\n  'able'],\n ['sudden',\n  'dejection',\n  'weeping—',\n  'contrary',\n  'sudden',\n  'dejection',\n  'passion',\n  'causeth',\n  'weeping',\n  'caused',\n  'accidents',\n  'suddenly',\n  'take',\n  'away',\n  'vehement',\n  'hope',\n  'prop',\n  'power',\n  'subject',\n  'rely',\n  'principally',\n  'helps',\n  'externall',\n  'women',\n  'children'],\n ['therefore',\n  'weep',\n  'loss',\n  'friends',\n  'others',\n  'unkindnesse',\n  'others',\n  'sudden',\n  'stop',\n  'made',\n  'thoughts',\n  'revenge',\n  'reconciliation'],\n ['cases',\n  'laughter',\n  'weeping',\n  'sudden',\n  'motions',\n  'custome',\n  'taking',\n  'away'],\n ['man', 'laughs', 'old', 'jests', 'weeps', 'old', 'calamity'],\n ['shame',\n  'blushing—',\n  'griefe',\n  'discovery',\n  'defect',\n  'ability',\n  'shame',\n  'passion',\n  'discovereth',\n  'blushing',\n  'consisteth',\n  'apprehension',\n  'thing',\n  'dishonourable',\n  'young',\n  'man',\n  'signe',\n  'love',\n  'good',\n  'reputation',\n  'commendable',\n  'old',\n  'man',\n  'signe',\n  'comes',\n  'late',\n  'commendable'],\n ['impudence—', 'contempt', 'good', 'reputation', 'called', 'impudence'],\n ['pitty—',\n  'griefe',\n  'calamity',\n  'another',\n  'pitty',\n  'ariseth',\n  'imagination',\n  'like',\n  'calamity',\n  'may',\n  'befall',\n  'himselfe',\n  'therefore',\n  'called',\n  'also',\n  'compassion',\n  'phrase',\n  'present',\n  'time',\n  'fellow-feeling',\n  'therefore',\n  'calamity',\n  'arriving',\n  'great',\n  'wickedness',\n  'best',\n  'man',\n  'least',\n  'pitty',\n  'calamity',\n  'least',\n  'pitty',\n  'think',\n  'least',\n  'obnoxious'],\n ['cruelty—',\n  'contempt',\n  'little',\n  'sense',\n  'calamity',\n  'others',\n  'man',\n  'call',\n  'cruelty',\n  'proceeding',\n  'security',\n  'fortune'],\n ['man',\n  'take',\n  'pleasure',\n  'mens',\n  'great',\n  'harmes',\n  'without',\n  'end',\n  'conceive',\n  'possible'],\n ['emulation',\n  'envy—',\n  'griefe',\n  'success',\n  'competitor',\n  'wealth',\n  'honour',\n  'good',\n  'joyned',\n  'endeavour',\n  'enforce',\n  'abilities',\n  'equal',\n  'exceed',\n  'called',\n  'emulation',\n  'joyned',\n  'endeavour',\n  'supplant',\n  'hinder',\n  'competitor',\n  'envie'],\n ['deliberation—',\n  'mind',\n  'man',\n  'appetites',\n  'aversions',\n  'hopes',\n  'fear',\n  'concerning',\n  'one',\n  'thing',\n  'arise',\n  'alternately',\n  'divers',\n  'good',\n  'evill',\n  'consequences',\n  'omitting',\n  'thing',\n  'propounded',\n  'come',\n  'successively',\n  'thoughts',\n  'sometimes',\n  'appetite',\n  'sometimes',\n  'aversion',\n  'sometimes',\n  'hope',\n  'able',\n  'sometimes',\n  'despaire',\n  'fear',\n  'attempt',\n  'whole',\n  'sum',\n  'desires',\n  'aversions',\n  'hopes',\n  'fear',\n  'continued',\n  'till',\n  'thing',\n  'either',\n  'done',\n  'thought',\n  'impossible',\n  'call',\n  'deliberation'],\n ['therefore',\n  'things',\n  'past',\n  'deliberation',\n  'manifestly',\n  'impossible',\n  'changed',\n  'things',\n  'known',\n  'impossible',\n  'thought',\n  'man',\n  'know',\n  'think',\n  'deliberation',\n  'vaine'],\n ['things',\n  'impossible',\n  'think',\n  'possible',\n  'may',\n  'deliberate',\n  'knowing',\n  'vain'],\n ['called',\n  'deliberation',\n  'putting',\n  'end',\n  'liberty',\n  'omitting',\n  'according',\n  'appetite',\n  'aversion'],\n ['alternate',\n  'succession',\n  'appetites',\n  'aversions',\n  'hopes',\n  'fear',\n  'less',\n  'living',\n  'creatures',\n  'man',\n  'therefore',\n  'beasts',\n  'also',\n  'deliberate'],\n ['every',\n  'deliberation',\n  'sayd',\n  'end',\n  'whereof',\n  'deliberate',\n  'either',\n  'done',\n  'thought',\n  'impossible',\n  'till',\n  'wee',\n  'retain',\n  'liberty',\n  'omitting',\n  'according',\n  'appetite',\n  'aversion'],\n ['deliberation',\n  'last',\n  'appetite',\n  'aversion',\n  'immediately',\n  'adhaering',\n  'action',\n  'omission',\n  'thereof',\n  'wee',\n  'call',\n  'act',\n  'faculty',\n  'willing'],\n ['beasts', 'deliberation', 'must', 'necessarily', 'also'],\n ['definition',\n  'given',\n  'commonly',\n  'schooles',\n  'rationall',\n  'appetite',\n  'good'],\n ['could', 'voluntary', 'act', 'reason'],\n ['voluntary', 'act', 'proceedeth'],\n ['stead',\n  'rationall',\n  'appetite',\n  'shall',\n  'say',\n  'appetite',\n  'resulting',\n  'precedent',\n  'deliberation',\n  'definition',\n  'given'],\n ['therefore', 'last', 'appetite', 'deliberating'],\n ['though',\n  'say',\n  'common',\n  'discourse',\n  'man',\n  'thing',\n  'neverthelesse',\n  'forbore',\n  'yet',\n  'properly',\n  'inclination',\n  'makes',\n  'action',\n  'voluntary',\n  'action',\n  'depends',\n  'last',\n  'inclination',\n  'appetite'],\n ['intervenient',\n  'appetites',\n  'make',\n  'action',\n  'voluntary',\n  'reason',\n  'intervenient',\n  'aversions',\n  'make',\n  'action',\n  'involuntary',\n  'one',\n  'action',\n  'voluntary',\n  'involuntary'],\n ['manifest',\n  'onely',\n  'actions',\n  'beginning',\n  'covetousness',\n  'ambition',\n  'lust',\n  'appetites',\n  'thing',\n  'propounded',\n  'also',\n  'beginning',\n  'aversion',\n  'fear',\n  'consequences',\n  'follow',\n  'omission',\n  'voluntary',\n  'actions'],\n ['formes',\n  'speech',\n  'passion',\n  'formes',\n  'speech',\n  'passions',\n  'expressed',\n  'partly',\n  'partly',\n  'different',\n  'express',\n  'thoughts'],\n ['first',\n  'generally',\n  'passions',\n  'may',\n  'expressed',\n  'indicatively',\n  'love',\n  'fear',\n  'joy',\n  'deliberate',\n  'command',\n  'particular',\n  'expressions',\n  'nevertheless',\n  'affirmations',\n  'unless',\n  'serve',\n  'make',\n  'inferences',\n  'besides',\n  'passion',\n  'proceed'],\n ['deliberation',\n  'expressed',\n  'subjunctively',\n  'speech',\n  'proper',\n  'signifie',\n  'suppositions',\n  'consequences',\n  'done',\n  'follow',\n  'differs',\n  'language',\n  'reasoning',\n  'save',\n  'reasoning',\n  'generall',\n  'words',\n  'deliberation',\n  'part',\n  'particulars'],\n ['language',\n  'desire',\n  'aversion',\n  'imperative',\n  'forbear',\n  'party',\n  'obliged',\n  'forbear',\n  'command',\n  'otherwise',\n  'prayer',\n  'els',\n  'counsell'],\n ['language',\n  'vaine-glory',\n  'indignation',\n  'pitty',\n  'revengefulness',\n  'optative',\n  'desire',\n  'know',\n  'peculiar',\n  'expression',\n  'called',\n  'interrogative',\n  'shall',\n  'done'],\n ['language',\n  'passions',\n  'find',\n  'none',\n  'cursing',\n  'swearing',\n  'reviling',\n  'like',\n  'signifie',\n  'speech',\n  'actions',\n  'tongue',\n  'accustomed'],\n ['forms',\n  'speech',\n  'say',\n  'expressions',\n  'voluntary',\n  'significations',\n  'passions',\n  'certain',\n  'signes',\n  'may',\n  'used',\n  'arbitrarily',\n  'whether',\n  'use',\n  'passions'],\n ['best',\n  'signes',\n  'passions',\n  'present',\n  'either',\n  'countenance',\n  'motions',\n  'body',\n  'actions',\n  'ends',\n  'aims',\n  'otherwise',\n  'know',\n  'man'],\n ['good',\n  'evill',\n  'apparent',\n  'deliberation',\n  'appetites',\n  'aversions',\n  'raised',\n  'foresight',\n  'good',\n  'evill',\n  'consequences',\n  'sequels',\n  'action',\n  'whereof',\n  'deliberate',\n  'good',\n  'evill',\n  'effect',\n  'thereof',\n  'dependeth',\n  'foresight',\n  'long',\n  'chain',\n  'consequences',\n  'seldome',\n  'man',\n  'able',\n  'see',\n  'end'],\n ['far',\n  'man',\n  'seeth',\n  'good',\n  'consequences',\n  'greater',\n  'evill',\n  'whole',\n  'chain',\n  'writers',\n  'call',\n  'apparent',\n  'seeming',\n  'good'],\n ['contrarily',\n  'evill',\n  'exceedeth',\n  'good',\n  'whole',\n  'apparent',\n  'seeming',\n  'evill',\n  'hath',\n  'experience',\n  'reason',\n  'greatest',\n  'surest',\n  'prospect',\n  'consequences',\n  'deliberates',\n  'best',\n  'able',\n  'give',\n  'best',\n  'counsel',\n  'unto',\n  'others'],\n ['felicity',\n  'continual',\n  'successe',\n  'obtaining',\n  'things',\n  'man',\n  'time',\n  'time',\n  'desireth',\n  'say',\n  'continual',\n  'prospering',\n  'man',\n  'call',\n  'felicity',\n  'mean',\n  'felicity',\n  'life'],\n ['thing',\n  'perpetual',\n  'tranquillity',\n  'mind',\n  'live',\n  'life',\n  'motion',\n  'never',\n  'without',\n  'desire',\n  'without',\n  'fear',\n  'without',\n  'sense'],\n ['kind',\n  'felicity',\n  'god',\n  'hath',\n  'ordained',\n  'devoutly',\n  'honour',\n  'man',\n  'shall',\n  'sooner',\n  'know',\n  'enjoy',\n  'joys',\n  'incomprehensible',\n  'word',\n  'school-men',\n  'beatifical',\n  'vision',\n  'unintelligible'],\n ['praise',\n  'magnification',\n  'form',\n  'speech',\n  'whereby',\n  'man',\n  'signifie',\n  'opinion',\n  'goodnesse',\n  'anything',\n  'praise'],\n ['whereby', 'signifie', 'power', 'greatness', 'anything', 'magnifying'],\n ['whereby',\n  'signifie',\n  'opinion',\n  'man',\n  'felicity',\n  'greeks',\n  'called',\n  'makarismos',\n  'name',\n  'tongue'],\n ['thus', 'much', 'sufficient', 'present', 'purpose', 'said', 'passions'],\n ['chapter', 'vii'],\n ['ends',\n  'resolutions',\n  'discourse',\n  'discourse',\n  'governed',\n  'desire',\n  'knowledge',\n  'last',\n  'end',\n  'either',\n  'attaining',\n  'giving'],\n ['chain', 'discourse', 'wheresoever', 'interrupted', 'end', 'time'],\n ['judgement',\n  'sentence',\n  'final',\n  'doubt',\n  'discourse',\n  'meerly',\n  'mentall',\n  'consisteth',\n  'thoughts',\n  'thing',\n  'alternately'],\n ['wheresoever',\n  'break',\n  'chayn',\n  'mans',\n  'discourse',\n  'leave',\n  'praesumption'],\n ['opinion'],\n ['alternate',\n  'appetite',\n  'deliberating',\n  'concerning',\n  'good',\n  'evil',\n  'alternate',\n  'opinion',\n  'enquiry',\n  'truth',\n  'past',\n  'future'],\n ['last',\n  'appetite',\n  'deliberation',\n  'called',\n  'last',\n  'opinion',\n  'search',\n  'truth',\n  'past',\n  'future',\n  'called',\n  'judgement',\n  'resolute',\n  'final',\n  'sentence',\n  'discourseth'],\n ['whole',\n  'chain',\n  'appetites',\n  'alternate',\n  'question',\n  'good',\n  'bad',\n  'called',\n  'deliberation',\n  'whole',\n  'chain',\n  'opinions',\n  'alternate',\n  'question',\n  'true',\n  'false',\n  'called',\n  'doubt'],\n ['discourse',\n  'whatsoever',\n  'end',\n  'absolute',\n  'knowledge',\n  'fact',\n  'past',\n  'come'],\n ['knowledge', 'fact', 'originally', 'sense', 'ever', 'memory'],\n ['knowledge',\n  'consequence',\n  'said',\n  'called',\n  'science',\n  'absolute',\n  'conditionall'],\n ['man',\n  'know',\n  'discourse',\n  'know',\n  'absolutely',\n  'onely',\n  'shall',\n  'shall',\n  'know',\n  'conditionally',\n  'consequence',\n  'one',\n  'thing',\n  'another',\n  'one',\n  'name',\n  'thing',\n  'another',\n  'name',\n  'thing'],\n ['science',\n  'opinion',\n  'conscience',\n  'therefore',\n  'discourse',\n  'put',\n  'speech',\n  'begins',\n  'definitions',\n  'words',\n  'proceeds',\n  'connexion',\n  'general',\n  'affirmations',\n  'syllogismes',\n  'end',\n  'last',\n  'sum',\n  'called',\n  'conclusion',\n  'thought',\n  'mind',\n  'signified',\n  'conditional',\n  'knowledge',\n  'knowledge',\n  'consequence',\n  'words',\n  'commonly',\n  'called',\n  'science'],\n ['first',\n  'ground',\n  'discourse',\n  'definitions',\n  'definitions',\n  'rightly',\n  'joyned',\n  'together',\n  'syllogismes',\n  'end',\n  'conclusion',\n  'opinion',\n  'namely',\n  'truth',\n  'somewhat',\n  'said',\n  'though',\n  'sometimes',\n  'absurd',\n  'senslesse',\n  'words',\n  'without',\n  'possibility',\n  'understood'],\n ['two',\n  'man',\n  'know',\n  'one',\n  'fact',\n  'said',\n  'conscious',\n  'one',\n  'another',\n  'much',\n  'know',\n  'together'],\n ['fittest',\n  'witnesses',\n  'facts',\n  'one',\n  'another',\n  'third',\n  'ever',\n  'reputed',\n  'evill',\n  'act',\n  'man',\n  'speak',\n  'conscience',\n  'corrupt',\n  'force',\n  'another',\n  'insomuch',\n  'plea',\n  'conscience',\n  'always',\n  'hearkened',\n  'unto',\n  'diligently',\n  'times'],\n ['afterwards',\n  'man',\n  'made',\n  'use',\n  'word',\n  'metaphorically',\n  'knowledge',\n  'secret',\n  'facts',\n  'secret',\n  'thoughts',\n  'therefore',\n  'rhetorically',\n  'said',\n  'conscience',\n  'thousand',\n  'witnesses'],\n ['last',\n  'man',\n  'vehemently',\n  'love',\n  'new',\n  'opinions',\n  'though',\n  'never',\n  'absurd',\n  'obstinately',\n  'bent',\n  'maintain',\n  'gave',\n  'opinions',\n  'also',\n  'reverenced',\n  'name',\n  'conscience',\n  'would',\n  'seem',\n  'unlawful',\n  'change',\n  'speak',\n  'pretend',\n  'know',\n  'true',\n  'know',\n  'think'],\n ['beliefe',\n  'faith',\n  'mans',\n  'discourse',\n  'beginneth',\n  'definitions',\n  'beginneth',\n  'either',\n  'contemplation',\n  'still',\n  'called',\n  'opinion',\n  'beginneth',\n  'saying',\n  'another',\n  'whose',\n  'ability',\n  'know',\n  'truth',\n  'whose',\n  'honesty',\n  'deceiving',\n  'doubteth',\n  'discourse',\n  'much',\n  'concerning',\n  'thing',\n  'person',\n  'resolution',\n  'called',\n  'beleefe',\n  'faith',\n  'faith',\n  'man',\n  'beleefe',\n  'man',\n  'truth',\n  'sayes'],\n ['beleefe', 'two', 'opinions', 'one', 'saying', 'man', 'vertue'],\n ['faith',\n  'trust',\n  'beleeve',\n  'man',\n  'signifie',\n  'thing',\n  'namely',\n  'opinion',\n  'veracity',\n  'man',\n  'beleeve',\n  'said',\n  'signifieth',\n  'onely',\n  'opinion',\n  'truth',\n  'saying'],\n ['wee',\n  'observe',\n  'phrase',\n  'beleeve',\n  'also',\n  'latine',\n  'credo',\n  'greek',\n  'pisteno',\n  'eis',\n  'never',\n  'used',\n  'writings',\n  'divines'],\n ['stead',\n  'writings',\n  'put',\n  'beleeve',\n  'faith',\n  'rely',\n  'latin',\n  'credo',\n  'illi',\n  'fido',\n  'illi',\n  'greek',\n  'pisteno',\n  'anto',\n  'singularity',\n  'ecclesiastical',\n  'use',\n  'word',\n  'hath',\n  'raised',\n  'many',\n  'disputes',\n  'right',\n  'object',\n  'christian',\n  'faith'],\n ['beleeving',\n  'creed',\n  'meant',\n  'trust',\n  'person',\n  'confession',\n  'acknowledgement',\n  'doctrine'],\n ['onely',\n  'christians',\n  'manner',\n  'man',\n  'believe',\n  'god',\n  'hold',\n  'truth',\n  'heare',\n  'say',\n  'whether',\n  'understand',\n  'faith',\n  'trust',\n  'possibly',\n  'person',\n  'whatsoever',\n  'believe',\n  'doctrine',\n  'creed'],\n ['whence',\n  'may',\n  'inferre',\n  'wee',\n  'believe',\n  'saying',\n  'whatsoever',\n  'true',\n  'arguments',\n  'taken',\n  'thing',\n  'selfe',\n  'principles',\n  'naturall',\n  'reason',\n  'authority',\n  'good',\n  'opinion',\n  'wee',\n  'hath',\n  'sayd',\n  'speaker',\n  'person',\n  'believe',\n  'trust',\n  'whose',\n  'word',\n  'take',\n  'object',\n  'faith',\n  'honour',\n  'done',\n  'believing',\n  'done',\n  'onely'],\n ['consequently',\n  'wee',\n  'believe',\n  'scriptures',\n  'word',\n  'god',\n  'immediate',\n  'revelation',\n  'god',\n  'himselfe',\n  'beleefe',\n  'faith',\n  'trust',\n  'church',\n  'whose',\n  'word',\n  'take',\n  'acquiesce',\n  'therein'],\n ['believe',\n  'prophet',\n  'relates',\n  'unto',\n  'name',\n  'god',\n  'take',\n  'word',\n  'prophet',\n  'honour',\n  'trust',\n  'believe',\n  'touching',\n  'truth',\n  'relateth',\n  'whether',\n  'true',\n  'false',\n  'prophet'],\n ['also', 'history'],\n ['believe',\n  'written',\n  'historians',\n  'glorious',\n  'acts',\n  'alexander',\n  'caesar',\n  'think',\n  'ghost',\n  'alexander',\n  'caesar',\n  'cause',\n  'offended',\n  'body',\n  'else',\n  'historian'],\n ['livy',\n  'say',\n  'god',\n  'made',\n  'cow',\n  'speak',\n  'believe',\n  'wee',\n  'distrust',\n  'god',\n  'therein',\n  'livy'],\n ['evident',\n  'whatsoever',\n  'believe',\n  'upon',\n  'reason',\n  'drawn',\n  'authority',\n  'man',\n  'onely',\n  'writings',\n  'whether',\n  'sent',\n  'god',\n  'faith',\n  'man',\n  'onely'],\n ['chapter', 'viii'],\n ['vertues',\n  'commonly',\n  'called',\n  'intellectual',\n  'contrary',\n  'defects',\n  'intellectuall',\n  'vertue',\n  'defined',\n  'vertue',\n  'generally',\n  'sorts',\n  'subject',\n  'somewhat',\n  'valued',\n  'eminence',\n  'consisteth',\n  'comparison'],\n ['things', 'equally', 'man', 'nothing', 'would', 'prized'],\n ['vertues',\n  'intellectuall',\n  'always',\n  'understood',\n  'abilityes',\n  'mind',\n  'man',\n  'praise',\n  'value',\n  'desire',\n  'go',\n  'commonly',\n  'name',\n  'good',\n  'witte',\n  'though',\n  'word',\n  'witte',\n  'used',\n  'also',\n  'distinguish',\n  'one',\n  'certain',\n  'ability',\n  'rest'],\n ['wit',\n  'naturall',\n  'acquired',\n  'vertues',\n  'two',\n  'sorts',\n  'naturall',\n  'acquired'],\n ['naturall',\n  'mean',\n  'man',\n  'hath',\n  'birth',\n  'nothing',\n  'else',\n  'sense',\n  'wherein',\n  'man',\n  'differ',\n  'little',\n  'one',\n  'another',\n  'brute',\n  'beasts',\n  'reckoned',\n  'amongst',\n  'vertues'],\n ['mean',\n  'witte',\n  'gotten',\n  'use',\n  'onely',\n  'experience',\n  'without',\n  'method',\n  'culture',\n  'instruction'],\n ['naturall',\n  'witte',\n  'consisteth',\n  'principally',\n  'two',\n  'things',\n  'celerity',\n  'imagining',\n  'swift',\n  'succession',\n  'one',\n  'thought',\n  'another',\n  'steddy',\n  'direction',\n  'approved',\n  'end'],\n ['contrary',\n  'slow',\n  'imagination',\n  'maketh',\n  'defect',\n  'fault',\n  'mind',\n  'commonly',\n  'called',\n  'dulnesse',\n  'stupidity',\n  'sometimes',\n  'names',\n  'signifie',\n  'slownesse',\n  'motion',\n  'difficulty',\n  'moved'],\n ['good',\n  'wit',\n  'fancy',\n  'good',\n  'judgement',\n  'discretion',\n  'difference',\n  'quicknesse',\n  'caused',\n  'difference',\n  'mens',\n  'passions',\n  'love',\n  'dislike',\n  'one',\n  'thing',\n  'another',\n  'therefore',\n  'mens',\n  'thoughts',\n  'run',\n  'one',\n  'way',\n  'another',\n  'held',\n  'observe',\n  'differently',\n  'things',\n  'passe',\n  'imagination'],\n ['whereas',\n  'succession',\n  'mens',\n  'thoughts',\n  'nothing',\n  'observe',\n  'things',\n  'think',\n  'either',\n  'like',\n  'one',\n  'another',\n  'unlike',\n  'serve',\n  'serve',\n  'purpose',\n  'observe',\n  'similitudes',\n  'case',\n  'rarely',\n  'observed',\n  'others',\n  'sayd',\n  'good',\n  'wit',\n  'occasion',\n  'meant',\n  'good',\n  'fancy'],\n ['observe',\n  'differences',\n  'dissimilitudes',\n  'called',\n  'distinguishing',\n  'discerning',\n  'judging',\n  'thing',\n  'thing',\n  'case',\n  'discerning',\n  'easie',\n  'said',\n  'good',\n  'judgement',\n  'particularly',\n  'matter',\n  'conversation',\n  'businesse',\n  'wherein',\n  'times',\n  'places',\n  'persons',\n  'discerned',\n  'vertue',\n  'called',\n  'discretion'],\n ['former',\n  'fancy',\n  'without',\n  'help',\n  'judgement',\n  'commended',\n  'vertue',\n  'later',\n  'judgement',\n  'discretion',\n  'commended',\n  'selfe',\n  'without',\n  'help',\n  'fancy'],\n ['besides',\n  'discretion',\n  'times',\n  'places',\n  'persons',\n  'necessary',\n  'good',\n  'fancy',\n  'required',\n  'also',\n  'often',\n  'application',\n  'thoughts',\n  'end',\n  'say',\n  'use',\n  'made'],\n ['done',\n  'hath',\n  'vertue',\n  'easily',\n  'fitted',\n  'similitudes',\n  'please',\n  'onely',\n  'illustration',\n  'discourse',\n  'adorning',\n  'new',\n  'apt',\n  'metaphors',\n  'also',\n  'rarity',\n  'invention'],\n ['without',\n  'steddinesse',\n  'direction',\n  'end',\n  'great',\n  'fancy',\n  'one',\n  'kind',\n  'madnesse',\n  'entring',\n  'discourse',\n  'snatched',\n  'purpose',\n  'every',\n  'thing',\n  'comes',\n  'thought',\n  'many',\n  'long',\n  'digressions',\n  'parentheses',\n  'utterly',\n  'lose',\n  'kind',\n  'folly',\n  'know',\n  'particular',\n  'name',\n  'cause',\n  'sometimes',\n  'want',\n  'experience',\n  'whereby',\n  'seemeth',\n  'man',\n  'new',\n  'rare',\n  'doth',\n  'others',\n  'sometimes',\n  'pusillanimity',\n  'seems',\n  'great',\n  'man',\n  'think',\n  'trifle',\n  'whatsoever',\n  'new',\n  'great',\n  'therefore',\n  'thought',\n  'fit',\n  'told',\n  'withdrawes',\n  'man',\n  'degrees',\n  'intended',\n  'way',\n  'discourse'],\n ['good',\n  'poem',\n  'whether',\n  'epique',\n  'dramatique',\n  'also',\n  'sonnets',\n  'epigrams',\n  'pieces',\n  'judgement',\n  'fancy',\n  'required',\n  'fancy',\n  'must',\n  'eminent',\n  'please',\n  'extravagancy',\n  'ought',\n  'displease',\n  'indiscretion'],\n ['good',\n  'history',\n  'judgement',\n  'must',\n  'eminent',\n  'goodnesse',\n  'consisteth',\n  'method',\n  'truth',\n  'choyse',\n  'actions',\n  'profitable',\n  'known'],\n ['fancy', 'place', 'onely', 'adorning', 'stile'],\n ['orations',\n  'prayse',\n  'invectives',\n  'fancy',\n  'praedominant',\n  'designe',\n  'truth',\n  'honour',\n  'dishonour',\n  'done',\n  'noble',\n  'vile',\n  'comparisons'],\n ['judgement',\n  'suggest',\n  'circumstances',\n  'make',\n  'action',\n  'laudable',\n  'culpable'],\n ['hortatives',\n  'pleadings',\n  'truth',\n  'disguise',\n  'serveth',\n  'best',\n  'designe',\n  'hand',\n  'judgement',\n  'fancy',\n  'required'],\n ['demonstration',\n  'councell',\n  'rigourous',\n  'search',\n  'truth',\n  'judgement',\n  'except',\n  'sometimes',\n  'understanding',\n  'need',\n  'opened',\n  'apt',\n  'similitude',\n  'much',\n  'use',\n  'fancy'],\n ['metaphors', 'case', 'utterly', 'excluded'],\n ['seeing',\n  'openly',\n  'professe',\n  'deceipt',\n  'admit',\n  'councell',\n  'reasoning',\n  'manifest',\n  'folly'],\n ['discourse',\n  'whatsoever',\n  'defect',\n  'discretion',\n  'apparent',\n  'extravagant',\n  'soever',\n  'fancy',\n  'whole',\n  'discourse',\n  'taken',\n  'signe',\n  'want',\n  'wit',\n  'never',\n  'discretion',\n  'manifest',\n  'though',\n  'fancy',\n  'never',\n  'ordinary'],\n ['secret',\n  'thoughts',\n  'man',\n  'run',\n  'things',\n  'holy',\n  'prophane',\n  'clean',\n  'obscene',\n  'grave',\n  'light',\n  'without',\n  'shame',\n  'blame',\n  'verball',\n  'discourse',\n  'farther',\n  'judgement',\n  'shall',\n  'approve',\n  'time',\n  'place',\n  'persons'],\n ['anatomist',\n  'physitian',\n  'may',\n  'speak',\n  'write',\n  'judgement',\n  'unclean',\n  'things',\n  'please',\n  'profit',\n  'another',\n  'man',\n  'write',\n  'extravagant',\n  'pleasant',\n  'fancies',\n  'man',\n  'tumbled',\n  'dirt',\n  'come',\n  'present',\n  'himselfe',\n  'good',\n  'company'],\n ['tis', 'want', 'discretion', 'makes', 'difference'],\n ['profest',\n  'remissnesse',\n  'mind',\n  'familiar',\n  'company',\n  'man',\n  'may',\n  'play',\n  'sounds',\n  'aequivocal',\n  'significations',\n  'words',\n  'many',\n  'times',\n  'encounters',\n  'extraordinary',\n  'fancy',\n  'sermon',\n  'publique',\n  'persons',\n  'unknown',\n  'ought',\n  'reverence',\n  'gingling',\n  'words',\n  'accounted',\n  'folly',\n  'difference',\n  'onely',\n  'want',\n  'discretion'],\n ['wit', 'wanting', 'fancy', 'wanting', 'discretion'],\n ['judgement',\n  'therefore',\n  'without',\n  'fancy',\n  'wit',\n  'fancy',\n  'without',\n  'judgement'],\n ['prudence',\n  'thoughts',\n  'man',\n  'designe',\n  'hand',\n  'running',\n  'multitude',\n  'things',\n  'observes',\n  'conduce',\n  'designe',\n  'designe',\n  'may',\n  'conduce',\n  'observations',\n  'easie',\n  'usuall',\n  'wit',\n  'called',\n  'prudence',\n  'dependeth',\n  'much',\n  'experience',\n  'memory',\n  'like',\n  'things',\n  'consequences',\n  'heretofore'],\n ['much',\n  'difference',\n  'man',\n  'fancies',\n  'judgements',\n  'experience',\n  'man',\n  'equall',\n  'age',\n  'much',\n  'unequall',\n  'quantity',\n  'lyes',\n  'different',\n  'occasions',\n  'every',\n  'one',\n  'private',\n  'designes'],\n ['govern',\n  'well',\n  'family',\n  'kingdome',\n  'different',\n  'degrees',\n  'prudence',\n  'different',\n  'sorts',\n  'businesse',\n  'draw',\n  'picture',\n  'little',\n  'great',\n  'greater',\n  'life',\n  'different',\n  'degrees',\n  'art'],\n ['plain',\n  'husband-man',\n  'prudent',\n  'affaires',\n  'house',\n  'privy',\n  'counseller',\n  'affaires',\n  'another',\n  'man'],\n ['craft',\n  'prudence',\n  'adde',\n  'use',\n  'unjust',\n  'dishonest',\n  'means',\n  'usually',\n  'prompted',\n  'man',\n  'fear',\n  'want',\n  'crooked',\n  'wisdome',\n  'called',\n  'craft',\n  'signe',\n  'pusillanimity'],\n ['magnanimity', 'contempt', 'unjust', 'dishonest', 'helps'],\n ['latines',\n  'call',\n  'versutia',\n  'translated',\n  'english',\n  'shifting',\n  'putting',\n  'present',\n  'danger',\n  'incommodity',\n  'engaging',\n  'greater',\n  'man',\n  'robbs',\n  'one',\n  'pay',\n  'another',\n  'shorter',\n  'sighted',\n  'craft',\n  'called',\n  'versutia',\n  'versura',\n  'signifies',\n  'taking',\n  'mony',\n  'usurie',\n  'present',\n  'payment',\n  'interest'],\n ['acquired',\n  'wit',\n  'acquired',\n  'wit',\n  'mean',\n  'acquired',\n  'method',\n  'instruction',\n  'none',\n  'reason',\n  'grounded',\n  'right',\n  'use',\n  'speech',\n  'produceth',\n  'sciences'],\n ['reason', 'science', 'already', 'spoken', 'fifth', 'sixth', 'chapters'],\n ['causes',\n  'difference',\n  'witts',\n  'passions',\n  'difference',\n  'passions',\n  'proceedeth',\n  'partly',\n  'different',\n  'constitution',\n  'body',\n  'partly',\n  'different',\n  'education'],\n ['difference',\n  'proceeded',\n  'temper',\n  'brain',\n  'organs',\n  'sense',\n  'either',\n  'exterior',\n  'interior',\n  'would',\n  'lesse',\n  'difference',\n  'man',\n  'sight',\n  'hearing',\n  'senses',\n  'fancies',\n  'discretions'],\n ['proceeds',\n  'therefore',\n  'passions',\n  'different',\n  'onely',\n  'difference',\n  'mens',\n  'complexions',\n  'also',\n  'difference',\n  'customes',\n  'education'],\n ['passions',\n  'cause',\n  'differences',\n  'wit',\n  'principally',\n  'lesse',\n  'desire',\n  'power',\n  'riches',\n  'knowledge',\n  'honour'],\n ['may', 'reduced', 'first', 'desire', 'power'],\n ['riches', 'knowledge', 'honour', 'severall', 'sorts', 'power'],\n ['giddinesse',\n  'madnesse',\n  'therefore',\n  'man',\n  'great',\n  'passion',\n  'things',\n  'man',\n  'terme',\n  'indifferent',\n  'though',\n  'may',\n  'farre',\n  'good',\n  'man',\n  'free',\n  'giving',\n  'offence',\n  'yet',\n  'possibly',\n  'either',\n  'great',\n  'fancy',\n  'much',\n  'judgement'],\n ['thoughts',\n  'desires',\n  'scouts',\n  'spies',\n  'range',\n  'abroad',\n  'find',\n  'way',\n  'things',\n  'desired',\n  'stedinesse',\n  'minds',\n  'motion',\n  'quicknesse',\n  'proceeding',\n  'thence'],\n ['desire',\n  'dead',\n  'weak',\n  'passions',\n  'dulnesse',\n  'passions',\n  'indifferently',\n  'every',\n  'thing',\n  'giddinesse',\n  'distraction',\n  'stronger',\n  'vehement',\n  'passions',\n  'thing',\n  'ordinarily',\n  'seen',\n  'others',\n  'man',\n  'call',\n  'madnesse'],\n ['whereof', 'almost', 'many', 'kinds', 'passions'],\n ['sometimes',\n  'extraordinary',\n  'extravagant',\n  'passion',\n  'proceedeth',\n  'evill',\n  'constitution',\n  'organs',\n  'body',\n  'harme',\n  'done',\n  'sometimes',\n  'hurt',\n  'indisposition',\n  'organs',\n  'caused',\n  'vehemence',\n  'long',\n  'continuance',\n  'passion'],\n ['cases', 'madnesse', 'one', 'nature'],\n ['passion',\n  'whose',\n  'violence',\n  'continuance',\n  'maketh',\n  'madnesse',\n  'either',\n  'great',\n  'vaine-glory',\n  'commonly',\n  'called',\n  'pride',\n  'selfe-conceipt',\n  'great',\n  'dejection',\n  'mind'],\n ['rage',\n  'pride',\n  'subjecteth',\n  'man',\n  'anger',\n  'excesse',\n  'whereof',\n  'madnesse',\n  'called',\n  'rage',\n  'fury'],\n ['thus',\n  'comes',\n  'passe',\n  'excessive',\n  'desire',\n  'revenge',\n  'becomes',\n  'habituall',\n  'hurteth',\n  'organs',\n  'becomes',\n  'rage',\n  'excessive',\n  'love',\n  'jealousie',\n  'becomes',\n  'also',\n  'rage',\n  'excessive',\n  'opinion',\n  'mans',\n  'selfe',\n  'divine',\n  'inspiration',\n  'wisdome',\n  'learning',\n  'forme',\n  'like',\n  'becomes',\n  'distraction',\n  'giddinesse',\n  'joyned',\n  'envy',\n  'rage',\n  'vehement',\n  'opinion',\n  'truth',\n  'thing',\n  'contradicted',\n  'others',\n  'rage'],\n ['melancholy',\n  'dejection',\n  'subject',\n  'man',\n  'causelesse',\n  'fear',\n  'madnesse',\n  'commonly',\n  'called',\n  'melancholy',\n  'apparent',\n  'also',\n  'divers',\n  'manners',\n  'haunting',\n  'solitudes',\n  'graves',\n  'superstitious',\n  'behaviour',\n  'fear',\n  'one',\n  'another',\n  'particular',\n  'thing'],\n ['summe',\n  'passions',\n  'produce',\n  'strange',\n  'unusuall',\n  'behaviour',\n  'called',\n  'generall',\n  'name',\n  'madnesse'],\n ['severall',\n  'kinds',\n  'madnesse',\n  'would',\n  'take',\n  'paines',\n  'might',\n  'enrowle',\n  'legion'],\n ['excesses', 'madnesse', 'doubt', 'passions', 'tend', 'evill', 'degrees'],\n ['example',\n  'though',\n  'effect',\n  'folly',\n  'possessed',\n  'opinion',\n  'inspired',\n  'visible',\n  'alwayes',\n  'one',\n  'man',\n  'extravagant',\n  'action',\n  'proceedeth',\n  'passion',\n  'yet',\n  'many',\n  'conspire',\n  'together',\n  'rage',\n  'whole',\n  'multitude',\n  'visible',\n  'enough'],\n ['argument',\n  'madnesse',\n  'greater',\n  'clamour',\n  'strike',\n  'throw',\n  'stones',\n  'best',\n  'friends'],\n ['yet', 'somewhat', 'lesse', 'multitude'],\n ['clamour', 'fight', 'destroy', 'lifetime', 'protected', 'secured', 'injury'],\n ['madnesse', 'multitude', 'every', 'particular', 'man'],\n ['middest',\n  'sea',\n  'though',\n  'man',\n  'perceive',\n  'sound',\n  'part',\n  'water',\n  'next',\n  'yet',\n  'well',\n  'assured',\n  'part',\n  'contributes',\n  'much',\n  'roaring',\n  'sea',\n  'part',\n  'quantity',\n  'also',\n  'thought',\n  'wee',\n  'perceive',\n  'great',\n  'unquietnesse',\n  'one',\n  'two',\n  'man',\n  'yet',\n  'may',\n  'well',\n  'assured',\n  'singular',\n  'passions',\n  'parts',\n  'seditious',\n  'roaring',\n  'troubled',\n  'nation'],\n ['nothing',\n  'else',\n  'bewrayed',\n  'madnesse',\n  'yet',\n  'arrogating',\n  'inspiration',\n  'argument',\n  'enough'],\n ['man',\n  'bedlam',\n  'entertaine',\n  'sober',\n  'discourse',\n  'desire',\n  'taking',\n  'leave',\n  'know',\n  'might',\n  'another',\n  'time',\n  'requite',\n  'civility',\n  'tell',\n  'god',\n  'father',\n  'think',\n  'need',\n  'expect',\n  'extravagant',\n  'action',\n  'argument',\n  'madnesse'],\n ['opinion',\n  'inspiration',\n  'called',\n  'commonly',\n  'private',\n  'spirit',\n  'begins',\n  'often',\n  'lucky',\n  'finding',\n  'errour',\n  'generally',\n  'held',\n  'others',\n  'knowing',\n  'remembring',\n  'conduct',\n  'reason',\n  'came',\n  'singular',\n  'truth',\n  'think',\n  'though',\n  'many',\n  'times',\n  'untruth',\n  'light',\n  'presently',\n  'admire',\n  'speciall',\n  'grace',\n  'god',\n  'almighty',\n  'hath',\n  'revealed',\n  'supernaturally',\n  'spirit'],\n ['madnesse',\n  'nothing',\n  'else',\n  'much',\n  'appearing',\n  'passion',\n  'may',\n  'gathered',\n  'effects',\n  'wine',\n  'evill',\n  'disposition',\n  'organs'],\n ['variety',\n  'behaviour',\n  'man',\n  'drunk',\n  'much',\n  'mad-men',\n  'raging',\n  'others',\n  'loving',\n  'others',\n  'laughing',\n  'extravagantly',\n  'according',\n  'severall',\n  'domineering',\n  'passions',\n  'effect',\n  'wine',\n  'remove',\n  'dissimulation',\n  'take',\n  'sight',\n  'deformity',\n  'passions'],\n ['believe',\n  'sober',\n  'man',\n  'walk',\n  'alone',\n  'without',\n  'care',\n  'employment',\n  'mind',\n  'would',\n  'unwilling',\n  'vanity',\n  'extravagance',\n  'thoughts',\n  'time',\n  'publiquely',\n  'seen',\n  'confession',\n  'passions',\n  'unguided',\n  'part',\n  'meere',\n  'madnesse'],\n ['opinions',\n  'world',\n  'antient',\n  'later',\n  'ages',\n  'concerning',\n  'cause',\n  'madnesse',\n  'two'],\n ['deriving',\n  'passions',\n  'daemons',\n  'spirits',\n  'either',\n  'good',\n  'bad',\n  'thought',\n  'might',\n  'enter',\n  'man',\n  'possesse',\n  'move',\n  'organs',\n  'strange',\n  'uncouth',\n  'manner',\n  'mad-men',\n  'use'],\n ['former',\n  'sort',\n  'therefore',\n  'called',\n  'man',\n  'mad-men',\n  'later',\n  'called',\n  'sometimes',\n  'daemoniacks',\n  'possessed',\n  'spirits',\n  'sometimes',\n  'energumeni',\n  'agitated',\n  'moved',\n  'spirits',\n  'italy',\n  'called',\n  'onely',\n  'pazzi',\n  'mad-men',\n  'also',\n  'spiritati',\n  'man',\n  'possest'],\n ['great',\n  'conflux',\n  'people',\n  'abdera',\n  'city',\n  'greeks',\n  'acting',\n  'tragedy',\n  'andromeda',\n  'upon',\n  'extream',\n  'hot',\n  'day',\n  'whereupon',\n  'great',\n  'many',\n  'spectators',\n  'falling',\n  'fevers',\n  'accident',\n  'heat',\n  'tragedy',\n  'together',\n  'nothing',\n  'pronounce',\n  'iambiques',\n  'names',\n  'perseus',\n  'andromeda',\n  'together',\n  'fever',\n  'cured',\n  'comming',\n  'winter',\n  'madnesse',\n  'thought',\n  'proceed',\n  'passion',\n  'imprinted',\n  'tragedy'],\n ['likewise',\n  'raigned',\n  'fit',\n  'madnesse',\n  'another',\n  'graecian',\n  'city',\n  'seized',\n  'onely',\n  'young',\n  'maidens',\n  'caused',\n  'many',\n  'hang'],\n ['thought', 'act', 'divel'],\n ['one',\n  'suspected',\n  'contempt',\n  'life',\n  'might',\n  'proceed',\n  'passion',\n  'mind',\n  'supposing',\n  'contemne',\n  'also',\n  'honour',\n  'gave',\n  'counsell',\n  'magistrates',\n  'strip',\n  'hang',\n  'let',\n  'hang',\n  'naked'],\n ['story', 'sayes', 'cured', 'madnesse'],\n ['side',\n  'graecians',\n  'often',\n  'ascribe',\n  'madnesse',\n  'operation',\n  'eumenides',\n  'furyes',\n  'sometimes',\n  'ceres',\n  'phoebus',\n  'god',\n  'much',\n  'man',\n  'attribute',\n  'phantasmes',\n  'think',\n  'aereal',\n  'living',\n  'bodies',\n  'generally',\n  'call',\n  'spirits'],\n ['romans',\n  'held',\n  'opinion',\n  'greeks',\n  'also',\n  'jewes',\n  'calle',\n  'mad-men',\n  'prophets',\n  'according',\n  'thought',\n  'spirits',\n  'good',\n  'bad',\n  'daemoniacks',\n  'called',\n  'prophets',\n  'daemoniacks',\n  'mad-men',\n  'called',\n  'man',\n  'daemoniack',\n  'mad-man'],\n ['gentiles',\n  'tis',\n  'wonder',\n  'diseases',\n  'health',\n  'vices',\n  'vertues',\n  'many',\n  'naturall',\n  'accidents',\n  'termed',\n  'worshipped',\n  'daemons'],\n ['man', 'understand', 'daemon', 'well', 'sometimes', 'ague', 'divell'],\n ['jewes', 'opinion', 'somewhat', 'strange'],\n ['neither',\n  'moses',\n  'abraham',\n  'pretended',\n  'prophecy',\n  'possession',\n  'spirit',\n  'voyce',\n  'god',\n  'vision',\n  'dream',\n  'thing',\n  'law',\n  'morall',\n  'ceremoniall',\n  'taught',\n  'enthusiasme',\n  'possession'],\n ['god', 'sayd', 'numb'],\n [],\n [],\n ['take',\n  'spirit',\n  'moses',\n  'give',\n  'elders',\n  'spirit',\n  'god',\n  'taking',\n  'substance',\n  'god',\n  'divided'],\n ['scriptures',\n  'spirit',\n  'god',\n  'man',\n  'mean',\n  'mans',\n  'spirit',\n  'enclined',\n  'godlinesse'],\n ['said', 'exod'],\n [],\n [],\n ['filled',\n  'spirit',\n  'wisdome',\n  'make',\n  'garments',\n  'aaron',\n  'meant',\n  'spirit',\n  'put',\n  'make',\n  'garments',\n  'wisdome',\n  'spirits',\n  'kind',\n  'work'],\n ['like',\n  'sense',\n  'spirit',\n  'man',\n  'produceth',\n  'unclean',\n  'actions',\n  'ordinarily',\n  'called',\n  'unclean',\n  'spirit',\n  'spirits',\n  'though',\n  'alwayes',\n  'yet',\n  'often',\n  'vertue',\n  'vice',\n  'stiled',\n  'extraordinary',\n  'eminent'],\n ['neither',\n  'prophets',\n  'old',\n  'testament',\n  'pretend',\n  'enthusiasme',\n  'god',\n  'spake',\n  'voyce',\n  'vision',\n  'dream',\n  'burthen',\n  'lord',\n  'possession',\n  'command'],\n ['could', 'jewes', 'fall', 'opinion', 'possession'],\n ['imagine',\n  'reason',\n  'common',\n  'man',\n  'namely',\n  'want',\n  'curiosity',\n  'search',\n  'naturall',\n  'causes',\n  'placing',\n  'felicity',\n  'acquisition',\n  'grosse',\n  'pleasures',\n  'senses',\n  'things',\n  'immediately',\n  'conduce',\n  'thereto'],\n ['see',\n  'strange',\n  'unusuall',\n  'ability',\n  'defect',\n  'mans',\n  'mind',\n  'unlesse',\n  'see',\n  'withall',\n  'cause',\n  'may',\n  'probably',\n  'proceed',\n  'hardly',\n  'think',\n  'naturall',\n  'naturall',\n  'must',\n  'needs',\n  'thinke',\n  'supernaturall',\n  'either',\n  'god',\n  'divell'],\n ['hence', 'came', 'passe', 'saviour', 'mark'],\n ['compassed',\n  'multitude',\n  'house',\n  'doubted',\n  'mad',\n  'went',\n  'hold',\n  'scribes',\n  'said',\n  'belzebub',\n  'cast',\n  'divels',\n  'greater',\n  'mad-man',\n  'awed',\n  'lesser'],\n ['john'],\n [],\n ['said',\n  'hath',\n  'divell',\n  'mad',\n  'whereas',\n  'others',\n  'holding',\n  'prophet',\n  'sayd',\n  'words',\n  'one',\n  'hath',\n  'divell',\n  'old',\n  'testament',\n  'came',\n  'anoynt',\n  'jehu',\n  'king'],\n ['prophet',\n  'company',\n  'asked',\n  'jehu',\n  'came',\n  'mad-man',\n  'summe',\n  'manifest',\n  'whosoever',\n  'behaved',\n  'himselfe',\n  'extraordinary',\n  'manner',\n  'thought',\n  'jewes',\n  'possessed',\n  'either',\n  'good',\n  'evill',\n  'spirit',\n  'except',\n  'sadduces',\n  'erred',\n  'farre',\n  'hand',\n  'believe',\n  'spirits',\n  'neere',\n  'direct',\n  'atheisme',\n  'thereby',\n  'perhaps',\n  'provoked',\n  'others',\n  'terme',\n  'man',\n  'daemoniacks',\n  'rather',\n  'mad-men'],\n ['saviour', 'proceed', 'curing', 'possest', 'mad'],\n ['give',\n  'kind',\n  'answer',\n  'given',\n  'urge',\n  'scripture',\n  'like',\n  'manner',\n  'opinion',\n  'motion',\n  'earth'],\n ['scripture',\n  'written',\n  'shew',\n  'unto',\n  'man',\n  'kingdome',\n  'god',\n  'prepare',\n  'mindes',\n  'become',\n  'obedient',\n  'subject',\n  'leaving',\n  'world',\n  'philosophy',\n  'thereof',\n  'disputation',\n  'man',\n  'exercising',\n  'naturall',\n  'reason'],\n ['whether',\n  'earths',\n  'suns',\n  'motion',\n  'make',\n  'day',\n  'night',\n  'whether',\n  'exorbitant',\n  'actions',\n  'man',\n  'proceed',\n  'passion',\n  'divell',\n  'worship',\n  'one',\n  'obey',\n  'subjection',\n  'god',\n  'almighty',\n  'thing',\n  'scripture',\n  'written'],\n ['saviour',\n  'speaketh',\n  'disease',\n  'person',\n  'usuall',\n  'phrase',\n  'cure',\n  'words',\n  'onely',\n  'christ',\n  'inchanters',\n  'pretend',\n  'whether',\n  'speak',\n  'divel'],\n ['christ', 'also', 'said', 'math'],\n [],\n ['rebuked', 'winds'],\n ['said', 'also', 'luk'],\n [],\n [],\n ['rebuke', 'fever'],\n ['yet', 'argue', 'fever', 'divel'],\n ['whereas',\n  'many',\n  'divels',\n  'said',\n  'confesse',\n  'christ',\n  'necessary',\n  'interpret',\n  'places',\n  'otherwise',\n  'mad-men',\n  'confessed'],\n ['whereas', 'saviour', 'math'],\n [],\n [],\n ['speaketh',\n  'unclean',\n  'spirit',\n  'gone',\n  'man',\n  'wandreth',\n  'dry',\n  'places',\n  'seeking',\n  'rest',\n  'finding',\n  'none',\n  'returning',\n  'man',\n  'seven',\n  'spirits',\n  'worse',\n  'himselfe',\n  'manifestly',\n  'parable',\n  'alluding',\n  'man',\n  'little',\n  'endeavour',\n  'quit',\n  'lusts',\n  'vanquished',\n  'strength',\n  'becomes',\n  'seven',\n  'times',\n  'worse'],\n ['see',\n  'nothing',\n  'scripture',\n  'requireth',\n  'beliefe',\n  'daemoniacks',\n  'thing',\n  'mad-men'],\n ['insignificant',\n  'speech',\n  'yet',\n  'another',\n  'fault',\n  'discourses',\n  'man',\n  'may',\n  'also',\n  'numbred',\n  'amongst',\n  'sorts',\n  'madnesse',\n  'namely',\n  'abuse',\n  'words',\n  'whereof',\n  'spoken',\n  'fifth',\n  'chapter',\n  'name',\n  'absurdity'],\n ['man',\n  'speak',\n  'words',\n  'put',\n  'together',\n  'signification',\n  'fallen',\n  'upon',\n  'misunderstanding',\n  'words',\n  'received',\n  'repeat',\n  'rote',\n  'others',\n  'intention',\n  'deceive',\n  'obscurity'],\n ['incident',\n  'none',\n  'converse',\n  'questions',\n  'matters',\n  'incomprehensible',\n  'schoole-men',\n  'questions',\n  'abstruse',\n  'philosophy'],\n ['common',\n  'sort',\n  'man',\n  'seldome',\n  'speak',\n  'insignificantly',\n  'therefore',\n  'egregious',\n  'persons',\n  'counted',\n  'idiots'],\n ['assured',\n  'words',\n  'without',\n  'thing',\n  'correspondent',\n  'mind',\n  'would',\n  'need',\n  'examples',\n  'man',\n  'require',\n  'let',\n  'take',\n  'schoole-man',\n  'hands',\n  'see',\n  'translate',\n  'one',\n  'chapter',\n  'concerning',\n  'difficult',\n  'point',\n  'trinity',\n  'deity',\n  'nature',\n  'christ',\n  'transubstantiation',\n  'free'],\n ['c',\n  'moderne',\n  'tongues',\n  'make',\n  'intelligible',\n  'tolerable',\n  'latine',\n  'acquainted',\n  'withall',\n  'lived',\n  'latine',\n  'tongue',\n  'vulgar'],\n ['meaning', 'words'],\n ['first',\n  'cause',\n  'necessarily',\n  'inflow',\n  'thing',\n  'second',\n  'force',\n  'essential',\n  'subordination',\n  'second',\n  'causes',\n  'may',\n  'help',\n  'worke',\n  'translation',\n  'title',\n  'sixth',\n  'chapter',\n  'suarez',\n  'first',\n  'booke',\n  'concourse',\n  'motion',\n  'help',\n  'god'],\n ['man',\n  'write',\n  'whole',\n  'volumes',\n  'stuffe',\n  'mad',\n  'intend',\n  'make',\n  'others'],\n ['particularly',\n  'question',\n  'transubstantiation',\n  'certain',\n  'words',\n  'spoken',\n  'say',\n  'white-nesse',\n  'round-nesse',\n  'magni-tude',\n  'quali-ty',\n  'corruptibili-ty',\n  'incorporeall',\n  'c',\n  'go',\n  'wafer',\n  'body',\n  'blessed',\n  'saviour',\n  'make',\n  'nesses',\n  'tudes',\n  'ties',\n  'many',\n  'spirits',\n  'possessing',\n  'body'],\n ['spirits',\n  'mean',\n  'alwayes',\n  'things',\n  'incorporeall',\n  'neverthelesse',\n  'moveable',\n  'one',\n  'place',\n  'another'],\n ['kind',\n  'absurdity',\n  'may',\n  'rightly',\n  'numbred',\n  'amongst',\n  'many',\n  'sorts',\n  'madnesse',\n  'time',\n  'guided',\n  'clear',\n  'thoughts',\n  'worldly',\n  'lust',\n  'forbear',\n  'disputing',\n  'writing',\n  'thus',\n  'lucide',\n  'intervals'],\n ['thus', 'much', 'vertues', 'defects', 'intellectuall'],\n ['chapter', 'ix'],\n ['severall',\n  'subject',\n  'knowledge',\n  'knowledge',\n  'two',\n  'kinds',\n  'whereof',\n  'one',\n  'knowledge',\n  'fact',\n  'knowledge',\n  'consequence',\n  'one',\n  'affirmation',\n  'another'],\n ['former',\n  'nothing',\n  'else',\n  'sense',\n  'memory',\n  'absolute',\n  'knowledge',\n  'see',\n  'fact',\n  'remember',\n  'done',\n  'knowledge',\n  'required',\n  'witnesse'],\n ['later',\n  'called',\n  'science',\n  'conditionall',\n  'know',\n  'figure',\n  'showne',\n  'circle',\n  'straight',\n  'line',\n  'centre',\n  'shall',\n  'divide',\n  'two',\n  'equall',\n  'parts'],\n ['knowledge', 'required', 'philosopher', 'say', 'pretends', 'reasoning'],\n ['register', 'knowledge', 'fact', 'called', 'history'],\n ['whereof',\n  'two',\n  'sorts',\n  'one',\n  'called',\n  'naturall',\n  'history',\n  'history',\n  'facts',\n  'effects',\n  'nature',\n  'dependance',\n  'mans',\n  'histories',\n  'metals',\n  'plants',\n  'animals',\n  'regions',\n  'like'],\n ['civill',\n  'history',\n  'history',\n  'voluntary',\n  'actions',\n  'man',\n  'common-wealths'],\n ['registers',\n  'science',\n  'books',\n  'contain',\n  'demonstrations',\n  'consequences',\n  'one',\n  'affirmation',\n  'another',\n  'commonly',\n  'called',\n  'books',\n  'philosophy',\n  'whereof',\n  'sorts',\n  'many',\n  'according',\n  'diversity',\n  'matter',\n  'may',\n  'divided',\n  'manner',\n  'divided',\n  'following',\n  'table'],\n ['science',\n  'knowledge',\n  'consequences',\n  'called',\n  'also',\n  'philosophy',\n  'consequences',\n  'accidents',\n  'bodies',\n  'naturall',\n  'called',\n  'naturall',\n  'philosophy',\n  'consequences',\n  'accidents',\n  'common',\n  'bodies',\n  'naturall',\n  'quantity',\n  'motion'],\n ['consequences',\n  'quantity',\n  'motion',\n  'indeterminate',\n  'principles',\n  'first',\n  'foundation',\n  'philosophy',\n  'called',\n  'philosophia',\n  'prima',\n  'philosophia',\n  'prima',\n  'b',\n  'consequences',\n  'motion',\n  'quantity',\n  'determined',\n  'consequences',\n  'quantity',\n  'motion',\n  'determined',\n  'figure',\n  'number',\n  'mathematiques',\n  'geometry',\n  'arithmetique',\n  'consequences',\n  'motion',\n  'quantity',\n  'bodies',\n  'speciall',\n  'consequences',\n  'motion',\n  'quantity',\n  'great',\n  'parts',\n  'world',\n  'earth',\n  'stars',\n  'cosmography',\n  'astronomy',\n  'geography',\n  'b',\n  'consequences',\n  'motion',\n  'speciall',\n  'kinds',\n  'figures',\n  'body',\n  'mechaniques',\n  'doctrine',\n  'weight',\n  'science',\n  'engineers',\n  'architecture',\n  'navigation',\n  'physiques',\n  'consequences',\n  'qualities',\n  'consequences',\n  'qualities',\n  'bodies',\n  'transient',\n  'sometimes',\n  'appear',\n  'sometimes',\n  'vanish',\n  'meteorology',\n  'b',\n  'consequences',\n  'qualities',\n  'bodies',\n  'permanent',\n  'consequences',\n  'qualities',\n  'starres',\n  'consequences',\n  'light',\n  'starres'],\n ['motion',\n  'sunne',\n  'made',\n  'science',\n  'sciography',\n  'b',\n  'consequences',\n  'influence',\n  'starres',\n  'astrology',\n  'consequences',\n  'qualities',\n  'liquid',\n  'bodies',\n  'fill',\n  'space',\n  'starres',\n  'ayre',\n  'substance',\n  'aetherial'],\n ['consequences',\n  'qualities',\n  'bodies',\n  'terrestrial',\n  'consequences',\n  'parts',\n  'earth',\n  'without',\n  'sense',\n  'consequences',\n  'qualities',\n  'minerals',\n  'stones',\n  'metals',\n  'c',\n  'consequences',\n  'qualities',\n  'vegetables',\n  'b',\n  'consequences',\n  'qualities',\n  'animals',\n  'consequences',\n  'qualities',\n  'animals',\n  'generall',\n  'consequences',\n  'vision',\n  'optiques',\n  'b',\n  'consequences',\n  'sounds',\n  'musique',\n  'c',\n  'consequences',\n  'rest',\n  'senses',\n  'consequences',\n  'qualities',\n  'man',\n  'speciall',\n  'consequences',\n  'passions',\n  'man',\n  'ethiques',\n  'b',\n  'consequences',\n  'speech',\n  'magnifying',\n  'vilifying',\n  'etc'],\n ['poetry',\n  'ii',\n  'persuading',\n  'rhetorique',\n  'iii',\n  'reasoning',\n  'logique',\n  'iv',\n  'contracting',\n  'science',\n  'unjust',\n  'b',\n  'consequences',\n  'accidents',\n  'politique',\n  'bodies',\n  'called',\n  'politiques',\n  'civill',\n  'philosophy',\n  'consequences',\n  'institution',\n  'common-wealths',\n  'rights',\n  'duties',\n  'body',\n  'politique',\n  'soveraign'],\n ['consequences', 'duty', 'right', 'subject'],\n ['chapter',\n  'x',\n  'power',\n  'worth',\n  'dignity',\n  'honour',\n  'worthiness',\n  'power',\n  'power',\n  'man',\n  'take',\n  'universally',\n  'present',\n  'means',\n  'obtain',\n  'future',\n  'apparent',\n  'good'],\n ['either', 'originall', 'instrumentall'],\n ['naturall',\n  'power',\n  'eminence',\n  'faculties',\n  'body',\n  'mind',\n  'extraordinary',\n  'strength',\n  'forme',\n  'prudence',\n  'arts',\n  'eloquence',\n  'liberality',\n  'nobility'],\n ['instrumentall',\n  'powers',\n  'acquired',\n  'fortune',\n  'means',\n  'instruments',\n  'acquire',\n  'riches',\n  'reputation',\n  'friends',\n  'secret',\n  'working',\n  'god',\n  'man',\n  'call',\n  'good',\n  'luck'],\n ['nature',\n  'power',\n  'point',\n  'like',\n  'fame',\n  'increasing',\n  'proceeds',\n  'like',\n  'motion',\n  'heavy',\n  'bodies',\n  'go',\n  'make',\n  'still',\n  'hast'],\n ['greatest',\n  'humane',\n  'powers',\n  'compounded',\n  'powers',\n  'man',\n  'united',\n  'consent',\n  'one',\n  'person',\n  'naturall',\n  'civill',\n  'use',\n  'powers',\n  'depending',\n  'power',\n  'common-wealth',\n  'depending',\n  'wills',\n  'particular',\n  'power',\n  'faction',\n  'divers',\n  'factions',\n  'leagued'],\n ['therefore', 'servants', 'power', 'friends', 'power', 'strengths', 'united'],\n ['also',\n  'riches',\n  'joyned',\n  'liberality',\n  'power',\n  'procureth',\n  'friends',\n  'servants',\n  'without',\n  'liberality',\n  'case',\n  'defend',\n  'expose',\n  'man',\n  'envy',\n  'prey'],\n ['reputation',\n  'power',\n  'power',\n  'draweth',\n  'adhaerance',\n  'need',\n  'protection'],\n ['reputation', 'love', 'mans', 'country', 'called', 'popularity', 'reason'],\n ['also',\n  'quality',\n  'soever',\n  'maketh',\n  'man',\n  'beloved',\n  'fear',\n  'many',\n  'reputation',\n  'quality',\n  'power',\n  'means',\n  'assistance',\n  'service',\n  'many'],\n ['good',\n  'successe',\n  'power',\n  'maketh',\n  'reputation',\n  'wisdome',\n  'good',\n  'fortune',\n  'makes',\n  'man',\n  'either',\n  'fear',\n  'rely'],\n ['affability',\n  'man',\n  'already',\n  'power',\n  'encrease',\n  'power',\n  'gaineth',\n  'love'],\n ['reputation',\n  'prudence',\n  'conduct',\n  'peace',\n  'war',\n  'power',\n  'prudent',\n  'man',\n  'commit',\n  'government',\n  'selves',\n  'willingly',\n  'others'],\n ['nobility',\n  'power',\n  'places',\n  'onely',\n  'common-wealths',\n  'priviledges',\n  'priviledges',\n  'consisteth',\n  'power'],\n ['eloquence', 'power', 'seeming', 'prudence'],\n ['forme',\n  'power',\n  'promise',\n  'good',\n  'recommendeth',\n  'man',\n  'favour',\n  'women',\n  'strangers'],\n ['sciences',\n  'small',\n  'power',\n  'eminent',\n  'therefore',\n  'acknowledged',\n  'man',\n  'things'],\n ['science', 'nature', 'none', 'understand', 'good', 'measure', 'attayned'],\n ['arts',\n  'publique',\n  'use',\n  'fortification',\n  'making',\n  'engines',\n  'instruments',\n  'war',\n  'conferre',\n  'defence',\n  'victory',\n  'power',\n  'though',\n  'true',\n  'mother',\n  'science',\n  'namely',\n  'mathematiques',\n  'yet',\n  'brought',\n  'light',\n  'hand',\n  'artificer',\n  'esteemed',\n  'midwife',\n  'passing',\n  'vulgar',\n  'mother',\n  'issue'],\n ['worth',\n  'value',\n  'worth',\n  'man',\n  'things',\n  'price',\n  'say',\n  'much',\n  'would',\n  'given',\n  'use',\n  'power',\n  'therefore',\n  'absolute',\n  'thing',\n  'dependant',\n  'need',\n  'judgement',\n  'another'],\n ['able',\n  'conductor',\n  'souldiers',\n  'great',\n  'price',\n  'time',\n  'war',\n  'present',\n  'imminent',\n  'peace'],\n ['learned',\n  'uncorrupt',\n  'judge',\n  'much',\n  'worth',\n  'time',\n  'peace',\n  'much',\n  'war'],\n ['things', 'man', 'seller', 'buyer', 'determines', 'price'],\n ['let',\n  'man',\n  'man',\n  'rate',\n  'highest',\n  'value',\n  'yet',\n  'true',\n  'value',\n  'esteemed',\n  'others'],\n ['manifestation',\n  'value',\n  'set',\n  'one',\n  'another',\n  'commonly',\n  'called',\n  'honouring',\n  'dishonouring'],\n ['value', 'man', 'high', 'rate', 'honour', 'low', 'rate', 'dishonour'],\n ['high',\n  'low',\n  'case',\n  'understood',\n  'comparison',\n  'rate',\n  'man',\n  'setteth',\n  'himselfe'],\n ['dignity',\n  'publique',\n  'worth',\n  'man',\n  'value',\n  'set',\n  'common-wealth',\n  'man',\n  'commonly',\n  'call',\n  'dignity'],\n ['value',\n  'common-wealth',\n  'understood',\n  'offices',\n  'command',\n  'judicature',\n  'publike',\n  'employment',\n  'names',\n  'titles',\n  'introduced',\n  'distinction',\n  'value'],\n ['honour',\n  'dishonour',\n  'pray',\n  'another',\n  'ayde',\n  'kind',\n  'honour',\n  'signe',\n  'opinion',\n  'power',\n  'help',\n  'difficult',\n  'ayde',\n  'honour'],\n ['obey', 'honour', 'man', 'obeyes', 'think', 'power', 'help', 'hurt'],\n ['consequently', 'disobey', 'dishonour'],\n ['give',\n  'great',\n  'gifts',\n  'man',\n  'honour',\n  'tis',\n  'buying',\n  'protection',\n  'acknowledging',\n  'power'],\n ['give',\n  'little',\n  'gifts',\n  'dishonour',\n  'almes',\n  'signifies',\n  'opinion',\n  'need',\n  'small',\n  'helps'],\n ['sedulous',\n  'promoting',\n  'anothers',\n  'good',\n  'also',\n  'flatter',\n  'honour',\n  'signe',\n  'seek',\n  'protection',\n  'ayde'],\n ['neglect', 'dishonour'],\n ['give',\n  'way',\n  'place',\n  'another',\n  'commodity',\n  'honour',\n  'confession',\n  'greater',\n  'power'],\n ['arrogate', 'dishonour'],\n ['shew',\n  'signe',\n  'love',\n  'fear',\n  'another',\n  'honour',\n  'love',\n  'fear',\n  'value'],\n ['contemne',\n  'lesse',\n  'love',\n  'fear',\n  'expects',\n  'dishonour',\n  'tis',\n  'undervaluing'],\n ['praise',\n  'magnifie',\n  'call',\n  'happy',\n  'honour',\n  'nothing',\n  'goodnesse',\n  'power',\n  'felicity',\n  'valued'],\n ['revile', 'mock', 'pitty', 'dishonour'],\n ['speak',\n  'another',\n  'consideration',\n  'appear',\n  'decency',\n  'humility',\n  'honour',\n  'signes',\n  'fear',\n  'offend'],\n ['speak',\n  'rashly',\n  'anything',\n  'obscenely',\n  'slovenly',\n  'impudently',\n  'dishonour'],\n ['believe',\n  'trust',\n  'rely',\n  'another',\n  'honour',\n  'signe',\n  'opinion',\n  'vertue',\n  'power'],\n ['distrust', 'believe', 'dishonour'],\n ['hearken',\n  'mans',\n  'counsell',\n  'discourse',\n  'kind',\n  'soever',\n  'honour',\n  'signe',\n  'think',\n  'wise',\n  'eloquent',\n  'witty'],\n ['sleep', 'go', 'forth', 'talk', 'dishonour'],\n ['things',\n  'another',\n  'takes',\n  'signes',\n  'honour',\n  'law',\n  'custome',\n  'makes',\n  'honour',\n  'approving',\n  'honour',\n  'done',\n  'others',\n  'acknowledgeth',\n  'power',\n  'others',\n  'acknowledge'],\n ['refuse', 'dishonour'],\n ['agree', 'opinion', 'honour', 'signe', 'approving', 'judgement', 'wisdome'],\n ['dissent',\n  'dishonour',\n  'upbraiding',\n  'errour',\n  'dissent',\n  'many',\n  'things',\n  'folly'],\n ['imitate', 'honour', 'vehemently', 'approve'],\n ['imitate', 'ones', 'enemy', 'dishonour'],\n ['honour',\n  'another',\n  'honours',\n  'honour',\n  'signe',\n  'approbation',\n  'judgement'],\n ['honour', 'enemies', 'dishonour'],\n ['employ',\n  'counsell',\n  'actions',\n  'difficulty',\n  'honour',\n  'signe',\n  'opinion',\n  'wisdome',\n  'power'],\n ['deny', 'employment', 'cases', 'seek', 'dishonour'],\n ['wayes',\n  'honouring',\n  'naturall',\n  'well',\n  'within',\n  'without',\n  'common-wealths'],\n ['common-wealths',\n  'supreme',\n  'authority',\n  'make',\n  'whatsoever',\n  'please',\n  'stand',\n  'signes',\n  'honour',\n  'honours'],\n ['soveraign',\n  'doth',\n  'honour',\n  'subject',\n  'whatsoever',\n  'title',\n  'office',\n  'employment',\n  'action',\n  'himselfe',\n  'taken',\n  'signe',\n  'honour'],\n ['king',\n  'persia',\n  'honoured',\n  'mordecay',\n  'appointed',\n  'conducted',\n  'streets',\n  'king',\n  'garment',\n  'upon',\n  'one',\n  'king',\n  'horses',\n  'crown',\n  'head',\n  'prince',\n  'proclayming',\n  'thus',\n  'shall',\n  'done',\n  'king',\n  'honour',\n  'yet',\n  'another',\n  'king',\n  'persia',\n  'another',\n  'time',\n  'one',\n  'demanded',\n  'great',\n  'service',\n  'weare',\n  'one',\n  'king',\n  'robes',\n  'gave',\n  'leave',\n  'addition',\n  'weare',\n  'king',\n  'foole',\n  'dishonour'],\n ['civill',\n  'honour',\n  'magistracy',\n  'offices',\n  'titles',\n  'places',\n  'coats',\n  'scutchions',\n  'painted',\n  'man',\n  'honour',\n  'many',\n  'signes',\n  'favour',\n  'common-wealth',\n  'favour',\n  'power'],\n ['honourable',\n  'whatsoever',\n  'possession',\n  'action',\n  'quality',\n  'argument',\n  'signe',\n  'power'],\n ['therefore',\n  'honoured',\n  'loved',\n  'fear',\n  'many',\n  'honourable',\n  'arguments',\n  'power'],\n ['honoured', 'none', 'dishonourable'],\n ['good', 'fortune', 'lasting', 'honourable', 'signe', 'favour', 'god'],\n ['ill', 'fortune', 'losses', 'dishonourable'],\n ['riches', 'honourable', 'power'],\n ['poverty', 'dishonourable'],\n ['magnanimity',\n  'liberality',\n  'hope',\n  'courage',\n  'confidence',\n  'honourable',\n  'proceed',\n  'conscience',\n  'power'],\n ['pusillanimity', 'parsimony', 'fear', 'diffidence', 'dishonourable'],\n ['timely',\n  'resolution',\n  'determination',\n  'man',\n  'honourable',\n  'contempt',\n  'small',\n  'difficulties',\n  'dangers'],\n ['irresolution',\n  'dishonourable',\n  'signe',\n  'much',\n  'valuing',\n  'little',\n  'impediment',\n  'little',\n  'advantages',\n  'man',\n  'weighed',\n  'things',\n  'long',\n  'time',\n  'permits',\n  'resolves',\n  'difference',\n  'weight',\n  'little',\n  'therefore',\n  'resolve',\n  'overvalues',\n  'little',\n  'things',\n  'pusillanimity'],\n ['actions',\n  'speeches',\n  'proceed',\n  'seem',\n  'proceed',\n  'much',\n  'experience',\n  'science',\n  'discretion',\n  'wit',\n  'honourable',\n  'powers'],\n ['actions',\n  'words',\n  'proceed',\n  'errour',\n  'ignorance',\n  'folly',\n  'dishonourable'],\n ['gravity',\n  'farre',\n  'forth',\n  'seems',\n  'proceed',\n  'mind',\n  'employed',\n  'thing',\n  'else',\n  'honourable',\n  'employment',\n  'signe',\n  'power'],\n ['seem', 'proceed', 'purpose', 'appear', 'grave', 'dishonourable'],\n ['gravity',\n  'former',\n  'like',\n  'steddinesse',\n  'ship',\n  'laden',\n  'merchandise',\n  'later',\n  'like',\n  'steddinesse',\n  'ship',\n  'ballasted',\n  'sand',\n  'trash'],\n ['conspicuous',\n  'say',\n  'known',\n  'wealth',\n  'office',\n  'great',\n  'actions',\n  'eminent',\n  'good',\n  'honourable',\n  'signe',\n  'power',\n  'conspicuous'],\n ['contrary', 'obscurity', 'dishonourable'],\n ['descended',\n  'conspicuous',\n  'parents',\n  'honourable',\n  'easily',\n  'attain',\n  'aydes',\n  'friends',\n  'ancestors'],\n ['contrary', 'descended', 'obscure', 'parentage', 'dishonourable'],\n ['actions',\n  'proceeding',\n  'equity',\n  'joyned',\n  'losse',\n  'honourable',\n  'signes',\n  'magnanimity',\n  'magnanimity',\n  'signe',\n  'power'],\n ['contrary', 'craft', 'shifting', 'neglect', 'equity', 'dishonourable'],\n ['alter',\n  'case',\n  'honour',\n  'whether',\n  'action',\n  'great',\n  'difficult',\n  'consequently',\n  'signe',\n  'much',\n  'power',\n  'unjust',\n  'honour',\n  'consisteth',\n  'onely',\n  'opinion',\n  'power'],\n ['therefore',\n  'ancient',\n  'heathen',\n  'thinke',\n  'dishonoured',\n  'greatly',\n  'honoured',\n  'god',\n  'introduced',\n  'poems',\n  'committing',\n  'rapes',\n  'thefts',\n  'great',\n  'unjust',\n  'unclean',\n  'acts',\n  'much',\n  'nothing',\n  'much',\n  'celebrated',\n  'jupiter',\n  'adulteries',\n  'mercury',\n  'frauds',\n  'thefts',\n  'whose',\n  'praises',\n  'hymne',\n  'homer',\n  'greatest',\n  'born',\n  'morning',\n  'invented',\n  'musique',\n  'noon',\n  'night',\n  'stolen',\n  'away',\n  'cattell',\n  'appollo',\n  'herdsmen'],\n ['also',\n  'amongst',\n  'man',\n  'till',\n  'constituted',\n  'great',\n  'common-wealths',\n  'thought',\n  'dishonour',\n  'pyrate',\n  'high-way',\n  'theefe',\n  'rather',\n  'lawfull',\n  'trade',\n  'onely',\n  'amongst',\n  'greeks',\n  'also',\n  'amongst',\n  'nations',\n  'manifest',\n  'histories',\n  'antient',\n  'time'],\n ['day',\n  'part',\n  'world',\n  'private',\n  'duels',\n  'alwayes',\n  'honourable',\n  'though',\n  'unlawfull',\n  'till',\n  'time',\n  'shall',\n  'honour',\n  'ordained',\n  'refuse',\n  'ignominy',\n  'make',\n  'challenge'],\n ['duels',\n  'also',\n  'many',\n  'times',\n  'effects',\n  'courage',\n  'ground',\n  'courage',\n  'alwayes',\n  'strength',\n  'skill',\n  'power',\n  'though',\n  'part',\n  'effects',\n  'rash',\n  'speaking',\n  'fear',\n  'dishonour',\n  'one',\n  'combatants',\n  'engaged',\n  'rashnesse',\n  'driven',\n  'lists',\n  'avoyd',\n  'disgrace'],\n ['scutchions',\n  'coats',\n  'armes',\n  'haereditary',\n  'eminent',\n  'priviledges',\n  'honourable',\n  'otherwise',\n  'power',\n  'consisteth',\n  'either',\n  'priviledges',\n  'riches',\n  'thing',\n  'equally',\n  'honoured',\n  'man'],\n ['kind',\n  'honour',\n  'commonly',\n  'called',\n  'gentry',\n  'derived',\n  'antient',\n  'germans'],\n ['never', 'thing', 'known', 'german', 'customes', 'unknown'],\n ['use', 'germans', 'inhabited'],\n ['antient',\n  'greek',\n  'commanders',\n  'went',\n  'war',\n  'shields',\n  'painted',\n  'devises',\n  'pleased',\n  'insomuch',\n  'unpainted',\n  'buckler',\n  'signe',\n  'poverty',\n  'common',\n  'souldier',\n  'transmitted',\n  'inheritance'],\n ['romans',\n  'transmitted',\n  'marks',\n  'families',\n  'images',\n  'devises',\n  'ancestors'],\n ['amongst', 'people', 'asia', 'afrique', 'america', 'ever', 'thing'],\n ['germans',\n  'onely',\n  'custome',\n  'derived',\n  'england',\n  'france',\n  'spain',\n  'italy',\n  'great',\n  'numbers',\n  'either',\n  'ayded',\n  'romans',\n  'made',\n  'conquests',\n  'westerne',\n  'parts',\n  'world'],\n ['germany',\n  'antiently',\n  'countries',\n  'beginnings',\n  'divided',\n  'amongst',\n  'infinite',\n  'number',\n  'little',\n  'lords',\n  'masters',\n  'families',\n  'continually',\n  'wars',\n  'one',\n  'another',\n  'masters',\n  'lords',\n  'principally',\n  'end',\n  'might',\n  'covered',\n  'arms',\n  'known',\n  'followers',\n  'partly',\n  'ornament',\n  'painted',\n  'armor',\n  'scutchion',\n  'coat',\n  'picture',\n  'beast',\n  'thing',\n  'also',\n  'put',\n  'eminent',\n  'visible',\n  'mark',\n  'upon',\n  'crest',\n  'helmets'],\n ['ornament',\n  'armes',\n  'crest',\n  'descended',\n  'inheritance',\n  'children',\n  'eldest',\n  'pure',\n  'rest',\n  'note',\n  'diversity',\n  'old',\n  'master',\n  'say',\n  'dutch',\n  'here-alt',\n  'thought',\n  'fit'],\n ['many',\n  'families',\n  'joyned',\n  'together',\n  'made',\n  'greater',\n  'monarchy',\n  'duty',\n  'herealt',\n  'distinguish',\n  'scutchions',\n  'made',\n  'private',\n  'office',\n  'part'],\n ['issue',\n  'lords',\n  'great',\n  'antient',\n  'gentry',\n  'part',\n  'bear',\n  'living',\n  'creatures',\n  'noted',\n  'courage',\n  'rapine',\n  'castles',\n  'battlements',\n  'belts',\n  'weapons',\n  'bars',\n  'palisadoes',\n  'notes',\n  'war',\n  'nothing',\n  'honour',\n  'vertue',\n  'military'],\n ['afterwards',\n  'onely',\n  'king',\n  'popular',\n  'common-wealths',\n  'gave',\n  'divers',\n  'manners',\n  'scutchions',\n  'went',\n  'forth',\n  'war',\n  'returned',\n  'encouragement',\n  'recompence',\n  'service'],\n ['observing',\n  'reader',\n  'may',\n  'found',\n  'ancient',\n  'histories',\n  'greek',\n  'latine',\n  'make',\n  'mention',\n  'german',\n  'nation',\n  'manners',\n  'times'],\n ['titles',\n  'honour',\n  'titles',\n  'honour',\n  'duke',\n  'count',\n  'marquis',\n  'baron',\n  'honourable',\n  'signifying',\n  'value',\n  'set',\n  'upon',\n  'soveraign',\n  'power',\n  'common-wealth',\n  'titles',\n  'old',\n  'time',\n  'titles',\n  'office',\n  'command',\n  'derived',\n  'romans',\n  'germans',\n  'french'],\n ['dukes',\n  'latine',\n  'duces',\n  'generalls',\n  'war',\n  'counts',\n  'comites',\n  'bare',\n  'generall',\n  'company',\n  'friendship',\n  'left',\n  'govern',\n  'defend',\n  'places',\n  'conquered',\n  'pacified',\n  'marquises',\n  'marchiones',\n  'counts',\n  'governed',\n  'marches',\n  'bounds',\n  'empire'],\n ['titles',\n  'duke',\n  'count',\n  'marquis',\n  'came',\n  'empire',\n  'time',\n  'constantine',\n  'great',\n  'customes',\n  'german',\n  'militia'],\n ['baron',\n  'seems',\n  'title',\n  'gaules',\n  'signifies',\n  'great',\n  'man',\n  'king',\n  'princes',\n  'man',\n  'employed',\n  'war',\n  'persons',\n  'seems',\n  'derived',\n  'vir',\n  'ber',\n  'bar',\n  'signified',\n  'language',\n  'gaules',\n  'vir',\n  'latine',\n  'thence',\n  'bero',\n  'baro',\n  'man',\n  'called',\n  'berones',\n  'barones',\n  'spanish',\n  'varones'],\n ['would',\n  'know',\n  'particularly',\n  'originall',\n  'titles',\n  'honour',\n  'may',\n  'find',\n  'done',\n  'mr',\n  'seldens',\n  'excellent',\n  'treatise',\n  'subject'],\n ['processe',\n  'time',\n  'offices',\n  'honour',\n  'occasion',\n  'trouble',\n  'reasons',\n  'good',\n  'peacable',\n  'government',\n  'turned',\n  'meer',\n  'titles',\n  'serving',\n  'part',\n  'distinguish',\n  'precedence',\n  'place',\n  'order',\n  'subject',\n  'common-wealth',\n  'man',\n  'made',\n  'dukes',\n  'counts',\n  'marquises',\n  'barons',\n  'places',\n  'wherein',\n  'neither',\n  'possession',\n  'command',\n  'titles',\n  'also',\n  'devised',\n  'end'],\n ['worthinesse',\n  'fitnesse',\n  'worthinesse',\n  'thing',\n  'different',\n  'worth',\n  'value',\n  'man',\n  'also',\n  'merit',\n  'desert',\n  'consisteth',\n  'particular',\n  'power',\n  'ability',\n  'whereof',\n  'said',\n  'worthy',\n  'particular',\n  'ability',\n  'usually',\n  'named',\n  'fitnesse',\n  'aptitude'],\n ['worthiest',\n  'commander',\n  'judge',\n  'charge',\n  'best',\n  'fitted',\n  'qualities',\n  'required',\n  'well',\n  'discharging',\n  'worthiest',\n  'riches',\n  'qualities',\n  'requisite',\n  'well',\n  'using',\n  'qualities',\n  'absent',\n  'one',\n  'may',\n  'neverthelesse',\n  'worthy',\n  'man',\n  'valuable',\n  'thing',\n  'else'],\n ['man',\n  'may',\n  'worthy',\n  'riches',\n  'office',\n  'employment',\n  'neverthelesse',\n  'plead',\n  'right',\n  'another',\n  'therefore',\n  'said',\n  'merit',\n  'deserve'],\n ['merit',\n  'praesupposeth',\n  'right',\n  'thing',\n  'deserved',\n  'due',\n  'promise',\n  'shall',\n  'say',\n  'hereafter',\n  'shall',\n  'speak',\n  'contracts'],\n ['chapter', 'xi'],\n ['difference',\n  'manners',\n  'meant',\n  'manners',\n  'manners',\n  'mean',\n  'decency',\n  'behaviour',\n  'one',\n  'man',\n  'salute',\n  'another',\n  'man',\n  'wash',\n  'mouth',\n  'pick',\n  'teeth',\n  'company',\n  'points',\n  'small',\n  'morals',\n  'qualities',\n  'man-kind',\n  'concern',\n  'living',\n  'together',\n  'peace',\n  'unity'],\n ['end',\n  'consider',\n  'felicity',\n  'life',\n  'consisteth',\n  'repose',\n  'mind',\n  'satisfied'],\n ['finis',\n  'ultimus',\n  'utmost',\n  'ayme',\n  'summum',\n  'bonum',\n  'greatest',\n  'good',\n  'spoken',\n  'books',\n  'old',\n  'morall',\n  'philosophers'],\n ['man',\n  'live',\n  'whose',\n  'desires',\n  'end',\n  'whose',\n  'senses',\n  'imaginations',\n  'stand'],\n ['felicity',\n  'continuall',\n  'progresse',\n  'desire',\n  'one',\n  'object',\n  'another',\n  'attaining',\n  'former',\n  'still',\n  'way',\n  'later'],\n ['cause',\n  'whereof',\n  'object',\n  'mans',\n  'desire',\n  'enjoy',\n  'onely',\n  'one',\n  'instant',\n  'time',\n  'assure',\n  'ever',\n  'way',\n  'future',\n  'desire'],\n ['therefore',\n  'voluntary',\n  'actions',\n  'inclinations',\n  'man',\n  'tend',\n  'procuring',\n  'also',\n  'assuring',\n  'contented',\n  'life',\n  'differ',\n  'onely',\n  'way',\n  'ariseth',\n  'partly',\n  'diversity',\n  'passions',\n  'divers',\n  'man',\n  'partly',\n  'difference',\n  'knowledge',\n  'opinion',\n  'one',\n  'causes',\n  'produce',\n  'effect',\n  'desired'],\n ['restlesse',\n  'desire',\n  'power',\n  'man',\n  'first',\n  'place',\n  'put',\n  'generall',\n  'inclination',\n  'mankind',\n  'perpetuall',\n  'restlesse',\n  'desire',\n  'power',\n  'power',\n  'ceaseth',\n  'onely',\n  'death'],\n ['cause',\n  'alwayes',\n  'man',\n  'hopes',\n  'intensive',\n  'delight',\n  'already',\n  'attained',\n  'content',\n  'moderate',\n  'power',\n  'assure',\n  'power',\n  'means',\n  'live',\n  'well',\n  'hath',\n  'present',\n  'without',\n  'acquisition'],\n ['hence',\n  'king',\n  'whose',\n  'power',\n  'greatest',\n  'turn',\n  'endeavours',\n  'assuring',\n  'home',\n  'law',\n  'abroad',\n  'wars',\n  'done',\n  'succeedeth',\n  'new',\n  'desire',\n  'fame',\n  'new',\n  'conquest',\n  'others',\n  'ease',\n  'sensuall',\n  'pleasure',\n  'others',\n  'admiration',\n  'flattered',\n  'excellence',\n  'art',\n  'ability',\n  'mind'],\n ['love',\n  'contention',\n  'competition',\n  'competition',\n  'riches',\n  'honour',\n  'command',\n  'power',\n  'enclineth',\n  'contention',\n  'enmity',\n  'war',\n  'way',\n  'one',\n  'competitor',\n  'attaining',\n  'desire',\n  'kill',\n  'subdue',\n  'supplant',\n  'repell'],\n ['particularly',\n  'competition',\n  'praise',\n  'enclineth',\n  'reverence',\n  'antiquity'],\n ['man',\n  'contend',\n  'living',\n  'dead',\n  'ascribing',\n  'due',\n  'may',\n  'obscure',\n  'glory'],\n ['civil',\n  'obey',\n  'love',\n  'ease',\n  'desire',\n  'ease',\n  'sensuall',\n  'delight',\n  'disposeth',\n  'man',\n  'obey',\n  'common',\n  'power',\n  'desires',\n  'man',\n  'doth',\n  'abandon',\n  'protection',\n  'might',\n  'hoped',\n  'industry',\n  'labour'],\n ['fear', 'death', 'wounds', 'fear', 'death', 'wounds', 'disposeth', 'reason'],\n ['contrary',\n  'needy',\n  'man',\n  'hardy',\n  'contented',\n  'present',\n  'condition',\n  'also',\n  'man',\n  'ambitious',\n  'military',\n  'command',\n  'enclined',\n  'continue',\n  'causes',\n  'warre',\n  'stirre',\n  'trouble',\n  'sedition',\n  'honour',\n  'military',\n  'warre',\n  'hope',\n  'mend',\n  'ill',\n  'game',\n  'causing',\n  'new',\n  'shuffle'],\n ['love',\n  'arts',\n  'desire',\n  'knowledge',\n  'arts',\n  'peace',\n  'enclineth',\n  'man',\n  'obey',\n  'common',\n  'power',\n  'desire',\n  'containeth',\n  'desire',\n  'leasure',\n  'consequently',\n  'protection',\n  'power'],\n ['love',\n  'vertue',\n  'love',\n  'praise',\n  'desire',\n  'praise',\n  'disposeth',\n  'laudable',\n  'actions',\n  'please',\n  'whose',\n  'judgement',\n  'value',\n  'man',\n  'contemn',\n  'contemn',\n  'also',\n  'praises'],\n ['desire', 'fame', 'death'],\n ['though',\n  'death',\n  'sense',\n  'praise',\n  'given',\n  'us',\n  'earth',\n  'joyes',\n  'either',\n  'swallowed',\n  'unspeakable',\n  'joyes',\n  'heaven',\n  'extinguished',\n  'extreme',\n  'torments',\n  'hell',\n  'yet',\n  'fame',\n  'vain',\n  'man',\n  'present',\n  'delight',\n  'therein',\n  'foresight',\n  'benefit',\n  'may',\n  'rebound',\n  'thereby',\n  'posterity',\n  'though',\n  'see',\n  'yet',\n  'imagine',\n  'thing',\n  'pleasure',\n  'sense',\n  'also',\n  'pleasure',\n  'imagination'],\n ['hate',\n  'difficulty',\n  'requiting',\n  'great',\n  'benefits',\n  'received',\n  'one',\n  'think',\n  'selves',\n  'equall',\n  'greater',\n  'benefits',\n  'hope',\n  'requite',\n  'disposeth',\n  'counterfiet',\n  'love',\n  'really',\n  'secret',\n  'hatred',\n  'puts',\n  'man',\n  'estate',\n  'desperate',\n  'debtor',\n  'declining',\n  'sight',\n  'creditor',\n  'tacitely',\n  'wishes',\n  'might',\n  'never',\n  'see'],\n ['benefits',\n  'oblige',\n  'obligation',\n  'thraldome',\n  'ones',\n  'equall',\n  'hateful'],\n ['received',\n  'benefits',\n  'one',\n  'acknowledge',\n  'superiour',\n  'enclines',\n  'love',\n  'obligation',\n  'new',\n  'depession',\n  'cheerfull',\n  'acceptation',\n  'man',\n  'call',\n  'gratitude',\n  'honour',\n  'done',\n  'obliger',\n  'taken',\n  'generally',\n  'retribution'],\n ['also',\n  'receive',\n  'benefits',\n  'though',\n  'equall',\n  'inferiour',\n  'long',\n  'hope',\n  'requitall',\n  'disposeth',\n  'love',\n  'intention',\n  'receiver',\n  'obligation',\n  'ayd',\n  'service',\n  'mutuall',\n  'whence',\n  'proceedeth',\n  'emulation',\n  'shall',\n  'exceed',\n  'benefiting',\n  'noble',\n  'profitable',\n  'contention',\n  'possible',\n  'wherein',\n  'victor',\n  'pleased',\n  'victory',\n  'revenged',\n  'confessing'],\n ['conscience',\n  'deserving',\n  'hated',\n  'done',\n  'hurt',\n  'man',\n  'willing',\n  'expiate',\n  'enclineth',\n  'doer',\n  'hate',\n  'sufferer'],\n ['must', 'expect', 'revenge', 'forgivenesse', 'hatefull'],\n ['promptnesse',\n  'hurt',\n  'fear',\n  'fear',\n  'oppression',\n  'disposeth',\n  'man',\n  'anticipate',\n  'seek',\n  'ayd',\n  'society',\n  'way',\n  'man',\n  'secure',\n  'life',\n  'liberty'],\n ['distrust',\n  'wit',\n  'man',\n  'distrust',\n  'subtilty',\n  'tumult',\n  'sedition',\n  'better',\n  'disposed',\n  'victory',\n  'suppose',\n  'wise',\n  'crafty'],\n ['love', 'consult', 'fear', 'circumvented', 'strike', 'first'],\n ['sedition',\n  'man',\n  'alwayes',\n  'procincts',\n  'battell',\n  'hold',\n  'together',\n  'use',\n  'advantages',\n  'force',\n  'better',\n  'stratagem',\n  'proceed',\n  'subtilty',\n  'wit'],\n ['vain',\n  'undertaking',\n  'vain-glory',\n  'vain-glorious',\n  'man',\n  'without',\n  'conscious',\n  'great',\n  'sufficiency',\n  'delight',\n  'supposing',\n  'gallant',\n  'man',\n  'enclined',\n  'onely',\n  'ostentation',\n  'attempt',\n  'danger',\n  'difficulty',\n  'appears',\n  'look',\n  'nothing',\n  'insufficiency',\n  'discovered'],\n ['vain-glorious',\n  'man',\n  'estimate',\n  'sufficiency',\n  'flattery',\n  'man',\n  'fortune',\n  'precedent',\n  'action',\n  'without',\n  'assured',\n  'ground',\n  'hope',\n  'true',\n  'knowledge',\n  'enclined',\n  'rash',\n  'engaging',\n  'approach',\n  'danger',\n  'difficulty',\n  'retire',\n  'seeing',\n  'way',\n  'safety',\n  'rather',\n  'hazard',\n  'honour',\n  'may',\n  'salved',\n  'excuse',\n  'lives',\n  'salve',\n  'sufficient'],\n ['ambition',\n  'opinion',\n  'sufficiency',\n  'man',\n  'strong',\n  'opinion',\n  'wisdome',\n  'matter',\n  'government',\n  'disposed',\n  'ambition'],\n ['without',\n  'publique',\n  'employment',\n  'counsell',\n  'magistracy',\n  'honour',\n  'wisdome',\n  'lost'],\n ['therefore',\n  'eloquent',\n  'speakers',\n  'enclined',\n  'ambition',\n  'eloquence',\n  'seemeth',\n  'wisdome',\n  'others',\n  'irresolution',\n  'great',\n  'valuing',\n  'small',\n  'matters',\n  'pusillanimity',\n  'disposeth',\n  'man',\n  'irresolution',\n  'consequently',\n  'lose',\n  'occasions',\n  'fittest',\n  'opportunities',\n  'action'],\n ['man',\n  'deliberation',\n  'till',\n  'time',\n  'action',\n  'approach',\n  'manifest',\n  'best',\n  'done',\n  'tis',\n  'signe',\n  'difference',\n  'motives',\n  'one',\n  'way',\n  'great',\n  'therefore',\n  'resolve',\n  'lose',\n  'occasion',\n  'weighing',\n  'trifles',\n  'pusillanimity'],\n ['frugality',\n  'though',\n  'poor',\n  'man',\n  'vertue',\n  'maketh',\n  'man',\n  'unapt',\n  'atchieve',\n  'actions',\n  'require',\n  'strength',\n  'many',\n  'man',\n  'weakeneth',\n  'endeavour',\n  'nourished',\n  'kept',\n  'vigor',\n  'reward'],\n ['confidence',\n  'others',\n  'ignorance',\n  'marks',\n  'wisdome',\n  'kindnesse',\n  'eloquence',\n  'flattery',\n  'disposeth',\n  'man',\n  'confide',\n  'former',\n  'seeming',\n  'wisdome',\n  'later',\n  'seeming',\n  'kindnesse'],\n ['adde',\n  'military',\n  'reputation',\n  'disposeth',\n  'man',\n  'adhaere',\n  'subject',\n  'man'],\n ['two',\n  'former',\n  'given',\n  'caution',\n  'danger',\n  'later',\n  'gives',\n  'caution',\n  'danger',\n  'others'],\n ['ignorance',\n  'naturall',\n  'causes',\n  'want',\n  'science',\n  'ignorance',\n  'causes',\n  'disposeth',\n  'rather',\n  'constraineth',\n  'man',\n  'rely',\n  'advise',\n  'authority',\n  'others'],\n ['man',\n  'truth',\n  'concernes',\n  'rely',\n  'must',\n  'rely',\n  'opinion',\n  'think',\n  'wiser',\n  'see',\n  'deceive'],\n ['want',\n  'understanding',\n  'ignorance',\n  'signification',\n  'words',\n  'want',\n  'understanding',\n  'disposeth',\n  'man',\n  'take',\n  'trust',\n  'onely',\n  'truth',\n  'know',\n  'also',\n  'errors',\n  'non-sense',\n  'trust',\n  'neither',\n  'error',\n  'non-sense',\n  'without',\n  'perfect',\n  'understanding',\n  'words',\n  'detected'],\n ['proceedeth',\n  'man',\n  'give',\n  'different',\n  'names',\n  'one',\n  'thing',\n  'difference',\n  'passions',\n  'approve',\n  'private',\n  'opinion',\n  'call',\n  'opinion',\n  'mislike',\n  'haeresie',\n  'yet',\n  'haeresie',\n  'signifies',\n  'private',\n  'opinion',\n  'onely',\n  'greater',\n  'tincture',\n  'choler'],\n ['also',\n  'proceedeth',\n  'man',\n  'distinguish',\n  'without',\n  'study',\n  'great',\n  'understanding',\n  'one',\n  'action',\n  'many',\n  'man',\n  'many',\n  'actions',\n  'one',\n  'multitude',\n  'example',\n  'one',\n  'action',\n  'senators',\n  'rome',\n  'killing',\n  'catiline',\n  'many',\n  'actions',\n  'number',\n  'senators',\n  'killing',\n  'caesar',\n  'therefore',\n  'disposed',\n  'take',\n  'action',\n  'people',\n  'multitude',\n  'actions',\n  'done',\n  'multitude',\n  'man',\n  'led',\n  'perhaps',\n  'perswasion',\n  'one'],\n ['adhaerence',\n  'custome',\n  'ignorance',\n  'nature',\n  'right',\n  'wrong',\n  'ignorance',\n  'causes',\n  'originall',\n  'constitution',\n  'right',\n  'equity',\n  'law',\n  'justice',\n  'disposeth',\n  'man',\n  'make',\n  'custome',\n  'example',\n  'rule',\n  'actions',\n  'manner',\n  'think',\n  'unjust',\n  'hath',\n  'custome',\n  'punish',\n  'impunity',\n  'approbation',\n  'whereof',\n  'produce',\n  'example',\n  'lawyers',\n  'onely',\n  'use',\n  'false',\n  'measure',\n  'justice',\n  'barbarously',\n  'call',\n  'precedent',\n  'like',\n  'little',\n  'children',\n  'rule',\n  'good',\n  'evill',\n  'manners',\n  'correction',\n  'receive',\n  'parents',\n  'masters',\n  'save',\n  'children',\n  'constant',\n  'rule',\n  'whereas',\n  'man',\n  'grown',\n  'strong',\n  'stubborn',\n  'appeale',\n  'custome',\n  'reason',\n  'reason',\n  'custome',\n  'serves',\n  'turn',\n  'receding',\n  'custome',\n  'interest',\n  'requires',\n  'setting',\n  'reason',\n  'oft',\n  'reason',\n  'cause',\n  'doctrine',\n  'right',\n  'wrong',\n  'perpetually',\n  'disputed',\n  'pen',\n  'sword',\n  'whereas',\n  'doctrine',\n  'lines',\n  'figures',\n  'man',\n  'care',\n  'subject',\n  'truth',\n  'thing',\n  'crosses',\n  'mans',\n  'ambition',\n  'profit',\n  'lust'],\n ['doubt',\n  'thing',\n  'contrary',\n  'mans',\n  'right',\n  'dominion',\n  'interest',\n  'man',\n  'dominion',\n  'three',\n  'angles',\n  'triangle',\n  'equall',\n  'two',\n  'angles',\n  'square',\n  'doctrine',\n  'disputed',\n  'yet',\n  'burning',\n  'books',\n  'geometry',\n  'suppressed',\n  'farre',\n  'concerned',\n  'able'],\n ['adhaerence',\n  'private',\n  'man',\n  'ignorance',\n  'causes',\n  'peace',\n  'ignorance',\n  'remote',\n  'causes',\n  'disposeth',\n  'man',\n  'attribute',\n  'events',\n  'causes',\n  'immediate',\n  'instrumentall',\n  'causes',\n  'perceive'],\n ['hence',\n  'comes',\n  'passe',\n  'places',\n  'man',\n  'grieved',\n  'payments',\n  'publique',\n  'discharge',\n  'anger',\n  'upon',\n  'publicans',\n  'say',\n  'farmers',\n  'collectors',\n  'officers',\n  'publique',\n  'revenue',\n  'adhaere',\n  'find',\n  'fault',\n  'publike',\n  'government',\n  'thereby',\n  'engaged',\n  'beyond',\n  'hope',\n  'justification',\n  'fall',\n  'also',\n  'upon',\n  'supreme',\n  'authority',\n  'fear',\n  'punishment',\n  'shame',\n  'receiving',\n  'pardon'],\n ['credulity',\n  'ignorance',\n  'nature',\n  'ignorance',\n  'naturall',\n  'causes',\n  'disposeth',\n  'man',\n  'credulity',\n  'believe',\n  'many',\n  'times',\n  'impossibilities',\n  'know',\n  'nothing',\n  'contrary',\n  'may',\n  'true',\n  'unable',\n  'detect',\n  'impossibility'],\n ['credulity',\n  'man',\n  'love',\n  'hearkened',\n  'unto',\n  'company',\n  'disposeth',\n  'lying',\n  'ignorance',\n  'selfe',\n  'without',\n  'malice',\n  'able',\n  'make',\n  'man',\n  'bothe',\n  'believe',\n  'lyes',\n  'tell',\n  'sometimes',\n  'also',\n  'invent'],\n ['curiosity',\n  'know',\n  'care',\n  'future',\n  'time',\n  'anxiety',\n  'future',\n  'time',\n  'disposeth',\n  'man',\n  'enquire',\n  'causes',\n  'things',\n  'knowledge',\n  'maketh',\n  'man',\n  'better',\n  'able',\n  'order',\n  'present',\n  'best',\n  'advantage'],\n ['naturall',\n  'religion',\n  'curiosity',\n  'love',\n  'knowledge',\n  'causes',\n  'draws',\n  'man',\n  'consideration',\n  'effect',\n  'seek',\n  'cause',\n  'cause',\n  'cause',\n  'till',\n  'necessity',\n  'must',\n  'come',\n  'thought',\n  'last',\n  'cause',\n  'whereof',\n  'former',\n  'cause',\n  'eternall',\n  'man',\n  'call',\n  'god'],\n ['impossible',\n  'make',\n  'profound',\n  'enquiry',\n  'naturall',\n  'causes',\n  'without',\n  'enclined',\n  'thereby',\n  'believe',\n  'one',\n  'god',\n  'eternall',\n  'though',\n  'idea',\n  'mind',\n  'answerable',\n  'nature'],\n ['man',\n  'born',\n  'blind',\n  'hearing',\n  'man',\n  'talk',\n  'warming',\n  'fire',\n  'brought',\n  'warm',\n  'may',\n  'easily',\n  'conceive',\n  'assure',\n  'himselfe',\n  'somewhat',\n  'man',\n  'call',\n  'fire',\n  'cause',\n  'heat',\n  'feeles',\n  'imagine',\n  'like',\n  'idea',\n  'mind',\n  'see',\n  'also',\n  'visible',\n  'things',\n  'world',\n  'admirable',\n  'order',\n  'man',\n  'may',\n  'conceive',\n  'cause',\n  'man',\n  'call',\n  'god',\n  'yet',\n  'idea',\n  'image',\n  'mind'],\n ['make',\n  'little',\n  'enquiry',\n  'naturall',\n  'causes',\n  'things',\n  'yet',\n  'fear',\n  'proceeds',\n  'ignorance',\n  'selfe',\n  'hath',\n  'power',\n  'much',\n  'good',\n  'harm',\n  'enclined',\n  'suppose',\n  'feign',\n  'unto',\n  'severall',\n  'kinds',\n  'powers',\n  'invisible',\n  'stand',\n  'awe',\n  'imaginations',\n  'time',\n  'distresse',\n  'invoke',\n  'also',\n  'time',\n  'expected',\n  'good',\n  'successe',\n  'give',\n  'thanks',\n  'making',\n  'creatures',\n  'fancy',\n  'god'],\n ['means',\n  'hath',\n  'come',\n  'passe',\n  'innumerable',\n  'variety',\n  'fancy',\n  'man',\n  'created',\n  'world',\n  'innumerable',\n  'sorts',\n  'god'],\n ['fear',\n  'things',\n  'invisible',\n  'naturall',\n  'seed',\n  'every',\n  'one',\n  'calleth',\n  'religion',\n  'worship',\n  'fear',\n  'power',\n  'otherwise',\n  'superstition'],\n ['seed',\n  'religion',\n  'observed',\n  'many',\n  'observed',\n  'enclined',\n  'thereby',\n  'nourish',\n  'dresse',\n  'forme',\n  'law',\n  'adde',\n  'invention',\n  'opinion',\n  'causes',\n  'future',\n  'events',\n  'thought',\n  'best',\n  'able',\n  'govern',\n  'others',\n  'make',\n  'unto',\n  'greatest',\n  'use',\n  'powers'],\n ['chapter', 'xii'],\n ['religion',\n  'religion',\n  'man',\n  'onely',\n  'seeing',\n  'signes',\n  'fruit',\n  'religion',\n  'man',\n  'onely',\n  'cause',\n  'doubt',\n  'seed',\n  'religion',\n  'also',\n  'onely',\n  'man',\n  'consisteth',\n  'peculiar',\n  'quality',\n  'least',\n  'eminent',\n  'degree',\n  'thereof',\n  'found',\n  'living',\n  'creatures'],\n ['first',\n  'desire',\n  'knowing',\n  'causes',\n  'first',\n  'peculiar',\n  'nature',\n  'man',\n  'inquisitive',\n  'causes',\n  'events',\n  'see',\n  'lesse',\n  'man',\n  'much',\n  'curious',\n  'search',\n  'causes',\n  'good',\n  'evill',\n  'fortune'],\n ['consideration',\n  'beginning',\n  'things',\n  'secondly',\n  'upon',\n  'sight',\n  'thing',\n  'hath',\n  'beginning',\n  'think',\n  'also',\n  'cause',\n  'determined',\n  'begin',\n  'rather',\n  'sooner',\n  'later'],\n ['observation',\n  'sequell',\n  'things',\n  'thirdly',\n  'whereas',\n  'felicity',\n  'beasts',\n  'enjoying',\n  'quotidian',\n  'food',\n  'ease',\n  'lusts',\n  'little',\n  'foresight',\n  'time',\n  'come',\n  'want',\n  'observation',\n  'memory',\n  'order',\n  'consequence',\n  'dependance',\n  'things',\n  'see',\n  'man',\n  'observeth',\n  'one',\n  'event',\n  'hath',\n  'produced',\n  'another',\n  'remembreth',\n  'antecedence',\n  'consequence',\n  'assure',\n  'himselfe',\n  'true',\n  'causes',\n  'things',\n  'causes',\n  'good',\n  'evill',\n  'fortune',\n  'part',\n  'invisible',\n  'supposes',\n  'causes',\n  'either',\n  'fancy',\n  'suggesteth',\n  'trusteth',\n  'authority',\n  'man',\n  'thinks',\n  'friends',\n  'wiser',\n  'himselfe'],\n ['naturall',\n  'cause',\n  'religion',\n  'anxiety',\n  'time',\n  'come',\n  'two',\n  'first',\n  'make',\n  'anxiety'],\n ['assured',\n  'causes',\n  'things',\n  'arrived',\n  'hitherto',\n  'shall',\n  'arrive',\n  'hereafter',\n  'impossible',\n  'man',\n  'continually',\n  'endeavoureth',\n  'secure',\n  'himselfe',\n  'evill',\n  'fear',\n  'procure',\n  'good',\n  'desireth',\n  'perpetuall',\n  'solicitude',\n  'time',\n  'come',\n  'every',\n  'man',\n  'especially',\n  'provident',\n  'estate',\n  'like',\n  'prometheus'],\n ['prometheus',\n  'interpreted',\n  'prudent',\n  'man',\n  'bound',\n  'hill',\n  'caucasus',\n  'place',\n  'large',\n  'prospect',\n  'eagle',\n  'feeding',\n  'liver',\n  'devoured',\n  'day',\n  'much',\n  'repayred',\n  'night',\n  'man',\n  'looks',\n  'far',\n  'care',\n  'future',\n  'time',\n  'hath',\n  'heart',\n  'day',\n  'long',\n  'gnawed',\n  'fear',\n  'death',\n  'poverty',\n  'calamity',\n  'repose',\n  'pause',\n  'anxiety',\n  'sleep'],\n ['makes',\n  'fear',\n  'power',\n  'invisible',\n  'things',\n  'perpetuall',\n  'fear',\n  'alwayes',\n  'accompanying',\n  'mankind',\n  'ignorance',\n  'causes',\n  'dark',\n  'must',\n  'needs',\n  'object',\n  'something'],\n ['therefore',\n  'nothing',\n  'seen',\n  'nothing',\n  'accuse',\n  'either',\n  'good',\n  'evill',\n  'fortune',\n  'power',\n  'agent',\n  'invisible',\n  'sense',\n  'perhaps',\n  'old',\n  'poets',\n  'said',\n  'god',\n  'first',\n  'created',\n  'humane',\n  'fear',\n  'spoken',\n  'god',\n  'say',\n  'many',\n  'god',\n  'gentiles',\n  'true'],\n ['acknowledging',\n  'one',\n  'god',\n  'eternall',\n  'infinite',\n  'omnipotent',\n  'may',\n  'easily',\n  'derived',\n  'desire',\n  'man',\n  'know',\n  'causes',\n  'naturall',\n  'bodies',\n  'severall',\n  'vertues',\n  'operations',\n  'fear',\n  'befall',\n  'time',\n  'come'],\n ['effect',\n  'hee',\n  'seeth',\n  'come',\n  'passe',\n  'reason',\n  'next',\n  'immediate',\n  'cause',\n  'thereof',\n  'thence',\n  'cause',\n  'cause',\n  'plonge',\n  'himselfe',\n  'profoundly',\n  'pursuit',\n  'causes',\n  'shall',\n  'last',\n  'come',\n  'must',\n  'even',\n  'heathen',\n  'philosophers',\n  'confessed',\n  'one',\n  'first',\n  'mover',\n  'first',\n  'eternall',\n  'cause',\n  'things',\n  'man',\n  'mean',\n  'name',\n  'god',\n  'without',\n  'thought',\n  'fortune',\n  'solicitude',\n  'whereof',\n  'enclines',\n  'fear',\n  'hinders',\n  'search',\n  'causes',\n  'things',\n  'thereby',\n  'gives',\n  'occasion',\n  'feigning',\n  'many',\n  'god',\n  'man',\n  'feigne'],\n ['suppose',\n  'incorporeall',\n  'matter',\n  'substance',\n  'invisible',\n  'agents',\n  'fancyed',\n  'could',\n  'naturall',\n  'cogitation',\n  'fall',\n  'upon',\n  'conceipt',\n  'soule',\n  'man',\n  'soule',\n  'man',\n  'substance',\n  'appeareth',\n  'dream',\n  'one',\n  'sleepeth',\n  'looking-glasse',\n  'one',\n  'awake',\n  'man',\n  'knowing',\n  'apparitions',\n  'nothing',\n  'else',\n  'creatures',\n  'fancy',\n  'think',\n  'reall',\n  'externall',\n  'substances',\n  'therefore',\n  'call',\n  'ghosts',\n  'latines',\n  'called',\n  'imagines',\n  'umbrae',\n  'thought',\n  'spirits',\n  'thin',\n  'aereall',\n  'bodies',\n  'invisible',\n  'agents',\n  'fear',\n  'bee',\n  'like',\n  'save',\n  'appear',\n  'vanish',\n  'please'],\n ['opinion',\n  'spirits',\n  'incorporeall',\n  'immateriall',\n  'could',\n  'never',\n  'enter',\n  'mind',\n  'man',\n  'nature',\n  'though',\n  'man',\n  'may',\n  'put',\n  'together',\n  'words',\n  'contradictory',\n  'signification',\n  'spirit',\n  'incorporeall',\n  'yet',\n  'never',\n  'imagination',\n  'thing',\n  'answering',\n  'therefore',\n  'man',\n  'meditation',\n  'arrive',\n  'acknowledgement',\n  'one',\n  'infinite',\n  'omnipotent',\n  'eternall',\n  'god',\n  'choose',\n  'rather',\n  'confesse',\n  'incomprehensible',\n  'understanding',\n  'define',\n  'nature',\n  'spirit',\n  'incorporeall',\n  'confesse',\n  'definition',\n  'unintelligible',\n  'give',\n  'title',\n  'dogmatically',\n  'intention',\n  'make',\n  'divine',\n  'nature',\n  'understood',\n  'piously',\n  'honour',\n  'attributes',\n  'significations',\n  'remote',\n  'grossenesse',\n  'bodies',\n  'visible'],\n ['know',\n  'way',\n  'effect',\n  'anything',\n  'way',\n  'think',\n  'invisible',\n  'agents',\n  'wrought',\n  'effects',\n  'say',\n  'immediate',\n  'causes',\n  'used',\n  'bringing',\n  'things',\n  'passe',\n  'man',\n  'know',\n  'call',\n  'causing',\n  'almost',\n  'man',\n  'rule',\n  'guesse',\n  'observing',\n  'remembring',\n  'seen',\n  'precede',\n  'like',\n  'effect',\n  'time',\n  'times',\n  'without',\n  'seeing',\n  'antecedent',\n  'subsequent',\n  'event',\n  'dependance',\n  'connexion',\n  'therefore',\n  'like',\n  'things',\n  'past',\n  'expect',\n  'like',\n  'things',\n  'come',\n  'hope',\n  'good',\n  'evill',\n  'luck',\n  'superstitiously',\n  'things',\n  'part',\n  'causing',\n  'athenians',\n  'war',\n  'lepanto',\n  'demand',\n  'another',\n  'phormio',\n  'pompeian',\n  'faction',\n  'warre',\n  'afrique',\n  'another',\n  'scipio',\n  'others',\n  'done',\n  'divers',\n  'occasions',\n  'since'],\n ['like',\n  'manner',\n  'attribute',\n  'fortune',\n  'stander',\n  'lucky',\n  'unlucky',\n  'place',\n  'words',\n  'spoken',\n  'especially',\n  'name',\n  'god',\n  'amongst',\n  'charming',\n  'conjuring',\n  'leiturgy',\n  'witches',\n  'insomuch',\n  'believe',\n  'power',\n  'turn',\n  'stone',\n  'bread',\n  'bread',\n  'man',\n  'thing',\n  'thing'],\n ['honour',\n  'honour',\n  'man',\n  'thirdly',\n  'worship',\n  'naturally',\n  'man',\n  'exhibite',\n  'powers',\n  'invisible',\n  'expressions',\n  'reverence',\n  'would',\n  'use',\n  'towards',\n  'man',\n  'gifts',\n  'petitions',\n  'thanks',\n  'submission',\n  'body',\n  'considerate',\n  'addresses',\n  'sober',\n  'behaviour',\n  'premeditated',\n  'words',\n  'swearing',\n  'assuring',\n  'one',\n  'another',\n  'promises',\n  'invoking'],\n ['beyond',\n  'reason',\n  'suggesteth',\n  'nothing',\n  'leaves',\n  'either',\n  'rest',\n  'ceremonies',\n  'rely',\n  'believe',\n  'wiser'],\n ['attribute',\n  'extraordinary',\n  'events',\n  'lastly',\n  'concerning',\n  'invisible',\n  'powers',\n  'declare',\n  'man',\n  'things',\n  'shall',\n  'hereafter',\n  'come',\n  'passe',\n  'especially',\n  'concerning',\n  'good',\n  'evill',\n  'fortune',\n  'generall',\n  'good',\n  'ill',\n  'successe',\n  'particular',\n  'undertaking',\n  'man',\n  'naturally',\n  'stand',\n  'save',\n  'using',\n  'conjecture',\n  'time',\n  'come',\n  'time',\n  'past',\n  'apt',\n  'onely',\n  'take',\n  'casuall',\n  'things',\n  'one',\n  'two',\n  'encounters',\n  'prognostiques',\n  'like',\n  'encounter',\n  'ever',\n  'also',\n  'believe',\n  'like',\n  'prognostiques',\n  'man',\n  'conceived',\n  'good',\n  'opinion'],\n ['foure',\n  'things',\n  'naturall',\n  'seeds',\n  'religion',\n  'foure',\n  'things',\n  'opinion',\n  'ghosts',\n  'ignorance',\n  'second',\n  'causes',\n  'devotion',\n  'towards',\n  'man',\n  'fear',\n  'taking',\n  'things',\n  'casuall',\n  'prognostiques',\n  'consisteth',\n  'naturall',\n  'seed',\n  'religion',\n  'reason',\n  'different',\n  'fancies',\n  'judgements',\n  'passions',\n  'severall',\n  'man',\n  'hath',\n  'grown',\n  'ceremonies',\n  'different',\n  'used',\n  'one',\n  'man',\n  'part',\n  'ridiculous',\n  'another'],\n ['made',\n  'different',\n  'culture',\n  'seeds',\n  'received',\n  'culture',\n  'two',\n  'sorts',\n  'man'],\n ['one', 'sort', 'nourished', 'ordered', 'according', 'invention'],\n ['done',\n  'god',\n  'commandement',\n  'direction',\n  'sorts',\n  'done',\n  'purpose',\n  'make',\n  'man',\n  'relyed',\n  'apt',\n  'obey',\n  'law',\n  'peace',\n  'charity',\n  'civill',\n  'society'],\n ['religion',\n  'former',\n  'sort',\n  'part',\n  'humane',\n  'politiques',\n  'teacheth',\n  'part',\n  'duty',\n  'earthly',\n  'king',\n  'require',\n  'subject'],\n ['religion',\n  'later',\n  'sort',\n  'divine',\n  'politiques',\n  'containeth',\n  'precepts',\n  'yeelded',\n  'subject',\n  'kingdome',\n  'god'],\n ['former',\n  'sort',\n  'founders',\n  'common-wealths',\n  'law-givers',\n  'gentiles',\n  'later',\n  'sort',\n  'abraham',\n  'moses',\n  'blessed',\n  'saviour',\n  'derived',\n  'unto',\n  'us',\n  'law',\n  'kingdome',\n  'god'],\n ['absurd',\n  'opinion',\n  'gentilisme',\n  'part',\n  'religion',\n  'consisteth',\n  'opinions',\n  'concerning',\n  'nature',\n  'powers',\n  'invisible',\n  'almost',\n  'nothing',\n  'name',\n  'esteemed',\n  'amongst',\n  'gentiles',\n  'one',\n  'place',\n  'another',\n  'god',\n  'divell',\n  'poets',\n  'feigned',\n  'inanimated',\n  'inhabited',\n  'possessed',\n  'spirit'],\n ['unformed', 'matter', 'world', 'god', 'name', 'chaos'],\n ['heaven', 'ocean', 'planets', 'fire', 'earth', 'winds', 'many', 'god'],\n ['man',\n  'women',\n  'bird',\n  'crocodile',\n  'calf',\n  'dogge',\n  'snake',\n  'onion',\n  'leeke',\n  'deified'],\n ['besides',\n  'filled',\n  'almost',\n  'places',\n  'spirits',\n  'called',\n  'daemons',\n  'plains',\n  'pan',\n  'panises',\n  'satyres',\n  'woods',\n  'fawnes',\n  'nymphs',\n  'sea',\n  'tritons',\n  'nymphs',\n  'every',\n  'river',\n  'fountayn',\n  'ghost',\n  'name',\n  'nymphs',\n  'every',\n  'house',\n  'lares',\n  'familiars',\n  'every',\n  'man',\n  'genius',\n  'hell',\n  'ghosts',\n  'spirituall',\n  'officers',\n  'charon',\n  'cerberus',\n  'furies',\n  'night',\n  'time',\n  'places',\n  'larvae',\n  'lemures',\n  'ghosts',\n  'man',\n  'deceased',\n  'whole',\n  'kingdome',\n  'fayries',\n  'bugbears'],\n ['also',\n  'ascribed',\n  'divinity',\n  'built',\n  'temples',\n  'meer',\n  'accidents',\n  'qualities',\n  'time',\n  'night',\n  'day',\n  'peace',\n  'concord',\n  'love',\n  'contention',\n  'vertue',\n  'honour',\n  'health',\n  'rust',\n  'fever',\n  'like',\n  'prayed',\n  'prayed',\n  'ghosts',\n  'names',\n  'hanging',\n  'heads',\n  'letting',\n  'fall',\n  'withholding',\n  'good',\n  'evill',\n  'prayed'],\n ['invoked',\n  'also',\n  'wit',\n  'name',\n  'muses',\n  'ignorance',\n  'name',\n  'fortune',\n  'lust',\n  'name',\n  'cupid',\n  'rage',\n  'name',\n  'furies',\n  'privy',\n  'members',\n  'name',\n  'priapus',\n  'attributed',\n  'pollutions',\n  'incubi',\n  'succubae',\n  'insomuch',\n  'nothing',\n  'poet',\n  'could',\n  'introduce',\n  'person',\n  'poem',\n  'make',\n  'either',\n  'god',\n  'divel'],\n ['authors',\n  'religion',\n  'gentiles',\n  'observing',\n  'second',\n  'ground',\n  'religion',\n  'mens',\n  'ignorance',\n  'causes',\n  'thereby',\n  'aptnesse',\n  'attribute',\n  'fortune',\n  'causes',\n  'dependence',\n  'apparent',\n  'took',\n  'occasion',\n  'obtrude',\n  'ignorance',\n  'stead',\n  'second',\n  'causes',\n  'kind',\n  'second',\n  'ministeriall',\n  'god',\n  'ascribing',\n  'cause',\n  'foecundity',\n  'venus',\n  'cause',\n  'arts',\n  'apollo',\n  'subtilty',\n  'craft',\n  'mercury',\n  'tempests',\n  'stormes',\n  'aeolus',\n  'effects',\n  'god',\n  'insomuch',\n  'amongst',\n  'heathen',\n  'almost',\n  'great',\n  'variety',\n  'god',\n  'businesse'],\n ['worship',\n  'naturally',\n  'man',\n  'conceived',\n  'fit',\n  'bee',\n  'used',\n  'towards',\n  'god',\n  'namely',\n  'oblations',\n  'prayers',\n  'thanks',\n  'rest',\n  'formerly',\n  'named',\n  'legislators',\n  'gentiles',\n  'added',\n  'images',\n  'picture',\n  'sculpture',\n  'ignorant',\n  'sort',\n  'say',\n  'part',\n  'generality',\n  'people',\n  'thinking',\n  'god',\n  'whose',\n  'representation',\n  'made',\n  'really',\n  'included',\n  'housed',\n  'within',\n  'might',\n  'much',\n  'stand',\n  'fear',\n  'endowed',\n  'lands',\n  'houses',\n  'officers',\n  'revenues',\n  'set',\n  'apart',\n  'humane',\n  'uses',\n  'consecrated',\n  'made',\n  'holy',\n  'idols',\n  'caverns',\n  'groves',\n  'woods',\n  'mountains',\n  'whole',\n  'ilands',\n  'attributed',\n  'onely',\n  'shapes',\n  'man',\n  'beasts',\n  'monsters',\n  'also',\n  'faculties',\n  'passions',\n  'man',\n  'beasts',\n  'sense',\n  'speech',\n  'sex',\n  'lust',\n  'generation',\n  'onely',\n  'mixing',\n  'one',\n  'another',\n  'propagate',\n  'kind',\n  'god',\n  'also',\n  'mixing',\n  'man',\n  'women',\n  'beget',\n  'mongrill',\n  'god',\n  'inmates',\n  'heaven',\n  'bacchus',\n  'hercules',\n  'others',\n  'besides',\n  'anger',\n  'revenge',\n  'passions',\n  'living',\n  'creatures',\n  'actions',\n  'proceeding',\n  'fraud',\n  'theft',\n  'adultery',\n  'sodomie',\n  'vice',\n  'may',\n  'taken',\n  'effect',\n  'power',\n  'cause',\n  'pleasure',\n  'vices',\n  'amongst',\n  'man',\n  'taken',\n  'law',\n  'rather',\n  'honour'],\n ['lastly',\n  'prognostiques',\n  'time',\n  'come',\n  'naturally',\n  'conjectures',\n  'upon',\n  'experience',\n  'time',\n  'past',\n  'supernaturall',\n  'divine',\n  'revelation',\n  'authors',\n  'religion',\n  'gentiles',\n  'partly',\n  'upon',\n  'pretended',\n  'experience',\n  'partly',\n  'upon',\n  'pretended',\n  'revelation',\n  'added',\n  'innumerable',\n  'superstitious',\n  'wayes',\n  'divination',\n  'made',\n  'man',\n  'believe',\n  'find',\n  'fortunes',\n  'sometimes',\n  'ambiguous',\n  'senslesse',\n  'answers',\n  'priests',\n  'delphi',\n  'delos',\n  'ammon',\n  'famous',\n  'oracles',\n  'answers',\n  'made',\n  'ambiguous',\n  'designe',\n  'event',\n  'wayes',\n  'absurd',\n  'intoxicating',\n  'vapour',\n  'place',\n  'frequent',\n  'sulphurous',\n  'cavernes',\n  'sometimes',\n  'leaves',\n  'sibills',\n  'whose',\n  'prophecyes',\n  'like',\n  'perhaps',\n  'nostradamus',\n  'fragments',\n  'extant',\n  'seem',\n  'invention',\n  'later',\n  'times',\n  'books',\n  'reputation',\n  'time',\n  'roman',\n  'republique',\n  'sometimes',\n  'insignificant',\n  'speeches',\n  'mad-men',\n  'supposed',\n  'possessed',\n  'divine',\n  'spirit',\n  'possession',\n  'called',\n  'enthusiasme',\n  'kinds',\n  'foretelling',\n  'events',\n  'accounted',\n  'theomancy',\n  'prophecy',\n  'sometimes',\n  'aspect',\n  'starres',\n  'nativity',\n  'called',\n  'horoscopy',\n  'esteemed',\n  'part',\n  'judiciary',\n  'astrology',\n  'sometimes',\n  'hopes',\n  'fear',\n  'called',\n  'thumomancy',\n  'presage',\n  'sometimes',\n  'prediction',\n  'witches',\n  'pretended',\n  'conference',\n  'dead',\n  'called',\n  'necromancy',\n  'conjuring',\n  'witchcraft',\n  'juggling',\n  'confederate',\n  'knavery',\n  'sometimes',\n  'casuall',\n  'flight',\n  'feeding',\n  'birds',\n  'called',\n  'augury',\n  'sometimes',\n  'entrayles',\n  'sacrificed',\n  'beast',\n  'aruspicina',\n  'sometimes',\n  'dreams',\n  'sometimes',\n  'croaking',\n  'ravens',\n  'chattering',\n  'birds',\n  'sometimes',\n  'lineaments',\n  'face',\n  'called',\n  'metoposcopy',\n  'palmistry',\n  'lines',\n  'hand',\n  'casuall',\n  'words',\n  'called',\n  'omina',\n  'sometimes',\n  'monsters',\n  'unusuall',\n  'accidents',\n  'ecclipses',\n  'comets',\n  'rare',\n  'meteors',\n  'earthquakes',\n  'inundations',\n  'uncouth',\n  'births',\n  'like',\n  'called',\n  'portenta',\n  'ostenta',\n  'thought',\n  'portend',\n  'foreshew',\n  'great',\n  'calamity',\n  'come',\n  'sometimes',\n  'meer',\n  'lottery',\n  'crosse',\n  'pile',\n  'counting',\n  'holes',\n  'sive',\n  'dipping',\n  'verses',\n  'homer',\n  'virgil',\n  'innumerable',\n  'vaine',\n  'conceipts'],\n ['easie',\n  'man',\n  'drawn',\n  'believe',\n  'thing',\n  'man',\n  'gotten',\n  'credit',\n  'gentlenesse',\n  'dexterity',\n  'take',\n  'hold',\n  'fear',\n  'ignorance'],\n ['designes',\n  'authors',\n  'religion',\n  'heathen',\n  'therefore',\n  'first',\n  'founders',\n  'legislators',\n  'common-wealths',\n  'amongst',\n  'gentiles',\n  'whose',\n  'ends',\n  'keep',\n  'people',\n  'obey',\n  'peace',\n  'places',\n  'taken',\n  'care',\n  'first',\n  'imprint',\n  'minds',\n  'beliefe',\n  'precepts',\n  'gave',\n  'concerning',\n  'religion',\n  'might',\n  'thought',\n  'proceed',\n  'device',\n  'dictates',\n  'god',\n  'spirit',\n  'else',\n  'higher',\n  'nature',\n  'mere',\n  'mortalls',\n  'law',\n  'might',\n  'easily',\n  'received',\n  'numa',\n  'pompilius',\n  'pretended',\n  'receive',\n  'ceremonies',\n  'instituted',\n  'amongst',\n  'romans',\n  'nymph',\n  'egeria',\n  'first',\n  'king',\n  'founder',\n  'kingdome',\n  'peru',\n  'pretended',\n  'himselfe',\n  'wife',\n  'children',\n  'sunne',\n  'mahomet',\n  'set',\n  'new',\n  'religion',\n  'pretended',\n  'conferences',\n  'holy',\n  'ghost',\n  'forme',\n  'dove'],\n ['secondly',\n  'care',\n  'make',\n  'believed',\n  'things',\n  'displeasing',\n  'god',\n  'forbidden',\n  'law'],\n ['thirdly',\n  'prescribe',\n  'ceremonies',\n  'supplications',\n  'sacrifices',\n  'festivalls',\n  'believe',\n  'anger',\n  'god',\n  'might',\n  'appeased',\n  'ill',\n  'success',\n  'war',\n  'great',\n  'contagions',\n  'sicknesse',\n  'earthquakes',\n  'mans',\n  'private',\n  'misery',\n  'came',\n  'anger',\n  'god',\n  'anger',\n  'neglect',\n  'worship',\n  'forgetting',\n  'mistaking',\n  'point',\n  'ceremonies',\n  'required'],\n ['though',\n  'amongst',\n  'antient',\n  'romans',\n  'man',\n  'forbidden',\n  'deny',\n  'poets',\n  'written',\n  'paines',\n  'pleasures',\n  'life',\n  'divers',\n  'great',\n  'authority',\n  'gravity',\n  'state',\n  'harangues',\n  'openly',\n  'derided',\n  'yet',\n  'beliefe',\n  'alwaies',\n  'cherished',\n  'contrary'],\n ['institutions',\n  'obtayned',\n  'order',\n  'end',\n  'peace',\n  'commonwealth',\n  'common',\n  'people',\n  'misfortunes',\n  'laying',\n  'fault',\n  'neglect',\n  'errour',\n  'ceremonies',\n  'disobedience',\n  'law',\n  'lesse',\n  'apt',\n  'mutiny',\n  'governors'],\n ['entertained',\n  'pomp',\n  'pastime',\n  'festivalls',\n  'publike',\n  'gomes',\n  'made',\n  'honour',\n  'god',\n  'needed',\n  'nothing',\n  'else',\n  'bread',\n  'keep',\n  'discontent',\n  'murmuring',\n  'commotion',\n  'state'],\n ['therefore',\n  'romans',\n  'conquered',\n  'greatest',\n  'part',\n  'known',\n  'world',\n  'made',\n  'scruple',\n  'tollerating',\n  'religion',\n  'whatsoever',\n  'city',\n  'rome',\n  'selfe',\n  'unlesse',\n  'somthing',\n  'could',\n  'consist',\n  'civill',\n  'government',\n  'read',\n  'religion',\n  'forbidden',\n  'jewes',\n  'peculiar',\n  'kingdome',\n  'god',\n  'thought',\n  'unlawfull',\n  'acknowledge',\n  'subjection',\n  'mortall',\n  'king',\n  'state',\n  'whatsoever'],\n ['thus', 'see', 'religion', 'gentiles', 'part', 'policy'],\n ['true',\n  'religion',\n  'law',\n  'god',\n  'kingdome',\n  'god',\n  'himselfe',\n  'supernaturall',\n  'revelation',\n  'planted',\n  'religion',\n  'also',\n  'made',\n  'himselfe',\n  'peculiar',\n  'kingdome',\n  'gave',\n  'law',\n  'behaviour',\n  'towards',\n  'himselfe',\n  'also',\n  'towards',\n  'one',\n  'another',\n  'thereby',\n  'kingdome',\n  'god',\n  'policy',\n  'law',\n  'civill',\n  'part',\n  'religion',\n  'therefore',\n  'distinction',\n  'temporall',\n  'spirituall',\n  'domination',\n  'hath',\n  'place'],\n ['true',\n  'god',\n  'king',\n  'earth',\n  'yet',\n  'may',\n  'king',\n  'peculiar',\n  'chosen',\n  'nation'],\n ['incongruity',\n  'therein',\n  'hath',\n  'generall',\n  'command',\n  'whole',\n  'army',\n  'withall',\n  'peculiar',\n  'regiment',\n  'company'],\n ['god', 'king', 'earth', 'power', 'chosen', 'people', 'king', 'covenant'],\n ['speake',\n  'largly',\n  'kingdome',\n  'god',\n  'nature',\n  'covenant',\n  'following',\n  'discourse',\n  'assigned',\n  'place'],\n ['causes',\n  'change',\n  'religion',\n  'propagation',\n  'religion',\n  'hard',\n  'understand',\n  'causes',\n  'resolution',\n  'first',\n  'seeds',\n  'principles',\n  'opinion',\n  'deity',\n  'powers',\n  'invisible',\n  'supernaturall',\n  'never',\n  'abolished',\n  'humane',\n  'nature',\n  'new',\n  'religions',\n  'may',\n  'againe',\n  'made',\n  'spring',\n  'culture',\n  'man',\n  'purpose',\n  'reputation'],\n ['seeing',\n  'formed',\n  'religion',\n  'founded',\n  'first',\n  'upon',\n  'faith',\n  'multitude',\n  'hath',\n  'one',\n  'person',\n  'believe',\n  'wise',\n  'man',\n  'labour',\n  'procure',\n  'happiness',\n  'also',\n  'holy',\n  'man',\n  'god',\n  'himselfe',\n  'vouchsafeth',\n  'declare',\n  'supernaturally',\n  'followeth',\n  'necessarily',\n  'goverment',\n  'religion',\n  'shall',\n  'come',\n  'either',\n  'wisedome',\n  'man',\n  'sincerity',\n  'love',\n  'suspected',\n  'shall',\n  'unable',\n  'shew',\n  'probable',\n  'token',\n  'divine',\n  'revelation',\n  'religion',\n  'desire',\n  'uphold',\n  'must',\n  'suspected',\n  'likewise',\n  'without',\n  'fear',\n  'civill',\n  'sword',\n  'contradicted',\n  'rejected'],\n ['injoyning',\n  'beleefe',\n  'impossibilities',\n  'taketh',\n  'away',\n  'reputation',\n  'wisedome',\n  'formeth',\n  'religion',\n  'addeth',\n  'allready',\n  'formed',\n  'enjoyning',\n  'beliefe',\n  'contradictories',\n  'parts',\n  'contradiction',\n  'possibly',\n  'true',\n  'therefore',\n  'enjoyne',\n  'beliefe',\n  'argument',\n  'ignorance',\n  'detects',\n  'author',\n  'discredits',\n  'things',\n  'else',\n  'shall',\n  'propound',\n  'revelation',\n  'supernaturall',\n  'revelation',\n  'man',\n  'may',\n  'indeed',\n  'many',\n  'things',\n  'nothing',\n  'naturall',\n  'reason'],\n ['contrary',\n  'religion',\n  'establish',\n  'taketh',\n  'away',\n  'reputation',\n  'sincerity',\n  'saying',\n  'things',\n  'appeare',\n  'signes',\n  'require',\n  'man',\n  'believe',\n  'believed',\n  'doings',\n  'sayings',\n  'therefore',\n  'called',\n  'scandalous',\n  'stumbling',\n  'blocks',\n  'make',\n  'man',\n  'fall',\n  'way',\n  'religion',\n  'injustice',\n  'cruelty',\n  'prophanesse',\n  'avarice',\n  'luxury'],\n ['believe',\n  'doth',\n  'ordinarily',\n  'actions',\n  'proceed',\n  'rootes',\n  'believeth',\n  'invisible',\n  'power',\n  'fear',\n  'affrighteth',\n  'man',\n  'withall',\n  'lesser',\n  'faults'],\n ['taketh',\n  'away',\n  'reputation',\n  'love',\n  'detected',\n  'private',\n  'ends',\n  'beliefe',\n  'require',\n  'others',\n  'conduceth',\n  'seemeth',\n  'conduce',\n  'acquiring',\n  'dominion',\n  'riches',\n  'dignity',\n  'secure',\n  'pleasure',\n  'onely',\n  'specially'],\n ['man',\n  'reap',\n  'benefit',\n  'thought',\n  'sakes',\n  'love',\n  'others',\n  'want',\n  'testimony',\n  'miracles',\n  'lastly',\n  'testimony',\n  'man',\n  'render',\n  'divine',\n  'calling',\n  'operation',\n  'miracles',\n  'true',\n  'prophecy',\n  'also',\n  'miracle',\n  'extraordinary',\n  'felicity'],\n ['therefore',\n  'points',\n  'religion',\n  'received',\n  'miracles',\n  'added',\n  'approve',\n  'calling',\n  'miracle',\n  'obtain',\n  'greater',\n  'beliefe',\n  'custome',\n  'law',\n  'places',\n  'educated',\n  'wrought'],\n ['naturall',\n  'things',\n  'man',\n  'judgement',\n  'require',\n  'naturall',\n  'signes',\n  'arguments',\n  'supernaturall',\n  'things',\n  'require',\n  'signes',\n  'supernaturall',\n  'miracles',\n  'consent',\n  'inwardly',\n  'hearts'],\n ['causes',\n  'weakening',\n  'mens',\n  'faith',\n  'manifestly',\n  'appear',\n  'examples',\n  'following'],\n ['first',\n  'example',\n  'children',\n  'israel',\n  'moses',\n  'approved',\n  'calling',\n  'miracles',\n  'happy',\n  'conduct',\n  'egypt',\n  'absent',\n  'dayes',\n  'revolted',\n  'worship',\n  'true',\n  'god',\n  'recommended',\n  'setting',\n  'exod',\n  'golden',\n  'calfe',\n  'god',\n  'relapsed',\n  'idolatry',\n  'egyptians',\n  'lately',\n  'delivered'],\n ['moses',\n  'aaron',\n  'joshua',\n  'generation',\n  'seen',\n  'great',\n  'works',\n  'god',\n  'israel',\n  'judges',\n  'dead',\n  'another',\n  'generation',\n  'arose',\n  'served',\n  'baal'],\n ['miracles', 'fayling', 'faith', 'also', 'failed'],\n ['sons',\n  'samuel',\n  'sam',\n  'constituted',\n  'father',\n  'judges',\n  'bersabee',\n  'received',\n  'bribes',\n  'judged',\n  'unjustly',\n  'people',\n  'israel',\n  'refused',\n  'god',\n  'king',\n  'manner',\n  'king',\n  'people',\n  'therefore',\n  'cryed',\n  'samuel',\n  'choose',\n  'king',\n  'manner',\n  'nations'],\n ['justice',\n  'fayling',\n  'faith',\n  'also',\n  'fayled',\n  'insomuch',\n  'deposed',\n  'god',\n  'reigning'],\n ['whereas',\n  'planting',\n  'christian',\n  'religion',\n  'oracles',\n  'ceased',\n  'parts',\n  'roman',\n  'empire',\n  'number',\n  'christians',\n  'encreased',\n  'wonderfully',\n  'every',\n  'day',\n  'every',\n  'place',\n  'preaching',\n  'apostles',\n  'evangelists',\n  'great',\n  'part',\n  'successe',\n  'may',\n  'reasonably',\n  'attributed',\n  'contempt',\n  'priests',\n  'gentiles',\n  'time',\n  'brought',\n  'uncleannesse',\n  'avarice',\n  'jugling',\n  'princes'],\n ['also',\n  'religion',\n  'church',\n  'rome',\n  'partly',\n  'cause',\n  'abolished',\n  'england',\n  'many',\n  'parts',\n  'christendome',\n  'insomuch',\n  'fayling',\n  'vertue',\n  'pastors',\n  'maketh',\n  'faith',\n  'faile',\n  'people',\n  'partly',\n  'bringing',\n  'philosophy',\n  'doctrine',\n  'aristotle',\n  'religion',\n  'schoole-men',\n  'whence',\n  'arose',\n  'many',\n  'contradictions',\n  'absurdities',\n  'brought',\n  'clergy',\n  'reputation',\n  'ignorance',\n  'fraudulent',\n  'intention',\n  'enclined',\n  'people',\n  'revolt',\n  'either',\n  'princes',\n  'france',\n  'holland',\n  'england'],\n ['lastly',\n  'amongst',\n  'points',\n  'church',\n  'rome',\n  'declared',\n  'necessary',\n  'salvation',\n  'many',\n  'manifestly',\n  'advantage',\n  'pope',\n  'spirituall',\n  'subject',\n  'residing',\n  'territories',\n  'christian',\n  'princes',\n  'mutuall',\n  'emulation',\n  'princes',\n  'might',\n  'without',\n  'warre',\n  'trouble',\n  'exclude',\n  'forraign',\n  'authority',\n  'easily',\n  'excluded',\n  'england'],\n ['see',\n  'whose',\n  'benefit',\n  'conduceth',\n  'believed',\n  'king',\n  'hath',\n  'authority',\n  'christ',\n  'unlesse',\n  'bishop',\n  'crown'],\n ['king', 'priest', 'marry'],\n ['whether',\n  'prince',\n  'born',\n  'lawfull',\n  'marriage',\n  'must',\n  'judged',\n  'authority',\n  'rome'],\n ['subject',\n  'may',\n  'freed',\n  'alleageance',\n  'court',\n  'rome',\n  'king',\n  'judged',\n  'heretique'],\n ['king',\n  'chilperique',\n  'france',\n  'may',\n  'deposed',\n  'pope',\n  'pope',\n  'zachary',\n  'cause',\n  'kingdome',\n  'given',\n  'one',\n  'subject'],\n ['clergy',\n  'regulars',\n  'country',\n  'soever',\n  'shall',\n  'exempt',\n  'jurisdiction',\n  'king',\n  'cases',\n  'criminall'],\n ['see',\n  'whose',\n  'profit',\n  'redound',\n  'fees',\n  'private',\n  'masses',\n  'vales',\n  'purgatory',\n  'signes',\n  'private',\n  'interest',\n  'enough',\n  'mortifie',\n  'lively',\n  'faith',\n  'sayd',\n  'civill',\n  'magistrate',\n  'custome',\n  'sustain',\n  'opinion',\n  'sanctity',\n  'wisdome',\n  'probity',\n  'teachers'],\n ['may',\n  'attribute',\n  'changes',\n  'religion',\n  'world',\n  'one',\n  'cause',\n  'unpleasing',\n  'priests',\n  'onely',\n  'amongst',\n  'catholiques',\n  'even',\n  'church',\n  'hath',\n  'presumed',\n  'reformation'],\n ['chapter', 'xiii'],\n ['naturall',\n  'condition',\n  'mankind',\n  'concerning',\n  'felicity',\n  'misery',\n  'nature',\n  'hath',\n  'made',\n  'man',\n  'equall',\n  'faculties',\n  'body',\n  'mind',\n  'though',\n  'bee',\n  'found',\n  'one',\n  'man',\n  'sometimes',\n  'manifestly',\n  'stronger',\n  'body',\n  'quicker',\n  'mind',\n  'another',\n  'yet',\n  'reckoned',\n  'together',\n  'difference',\n  'man',\n  'man',\n  'considerable',\n  'one',\n  'man',\n  'thereupon',\n  'claim',\n  'himselfe',\n  'benefit',\n  'another',\n  'may',\n  'pretend',\n  'well'],\n ['strength',\n  'body',\n  'weakest',\n  'strength',\n  'enough',\n  'kill',\n  'strongest',\n  'either',\n  'secret',\n  'machination',\n  'confederacy',\n  'others',\n  'danger',\n  'himselfe'],\n ['faculties',\n  'mind',\n  'setting',\n  'aside',\n  'arts',\n  'grounded',\n  'upon',\n  'words',\n  'especially',\n  'skill',\n  'proceeding',\n  'upon',\n  'generall',\n  'infallible',\n  'rules',\n  'called',\n  'science',\n  'things',\n  'native',\n  'faculty',\n  'born',\n  'us',\n  'attained',\n  'prudence',\n  'look',\n  'somewhat',\n  'els',\n  'find',\n  'yet',\n  'greater',\n  'equality',\n  'amongst',\n  'man',\n  'strength'],\n ['prudence',\n  'experience',\n  'equall',\n  'time',\n  'equally',\n  'bestowes',\n  'man',\n  'things',\n  'equally',\n  'apply',\n  'unto'],\n ['may',\n  'perhaps',\n  'make',\n  'equality',\n  'incredible',\n  'vain',\n  'conceipt',\n  'ones',\n  'owne',\n  'wisdome',\n  'almost',\n  'man',\n  'think',\n  'greater',\n  'degree',\n  'vulgar',\n  'man',\n  'others',\n  'fame',\n  'concurring',\n  'approve'],\n ['nature',\n  'man',\n  'howsoever',\n  'may',\n  'acknowledge',\n  'many',\n  'others',\n  'witty',\n  'eloquent',\n  'learned',\n  'yet',\n  'hardly',\n  'believe',\n  'many',\n  'wise',\n  'see',\n  'wit',\n  'hand',\n  'mens',\n  'distance'],\n ['proveth', 'rather', 'man', 'point', 'equall', 'unequall'],\n ['ordinarily',\n  'greater',\n  'signe',\n  'equall',\n  'distribution',\n  'thing',\n  'every',\n  'man',\n  'contented',\n  'share'],\n ['equality',\n  'proceeds',\n  'diffidence',\n  'equality',\n  'ability',\n  'ariseth',\n  'equality',\n  'hope',\n  'attaining',\n  'ends'],\n ['therefore',\n  'two',\n  'man',\n  'desire',\n  'thing',\n  'neverthelesse',\n  'enjoy',\n  'become',\n  'enemies',\n  'way',\n  'end',\n  'principally',\n  'owne',\n  'conservation',\n  'sometimes',\n  'delectation',\n  'endeavour',\n  'destroy',\n  'subdue',\n  'one'],\n ['hence',\n  'comes',\n  'passe',\n  'invader',\n  'hath',\n  'fear',\n  'mans',\n  'single',\n  'power',\n  'one',\n  'plant',\n  'sow',\n  'build',\n  'possesse',\n  'convenient',\n  'seat',\n  'others',\n  'may',\n  'probably',\n  'expected',\n  'come',\n  'prepared',\n  'forces',\n  'united',\n  'dispossesse',\n  'deprive',\n  'fruit',\n  'labour',\n  'also',\n  'life',\n  'liberty'],\n ['invader', 'like', 'danger', 'another'],\n ['diffidence',\n  'warre',\n  'diffidence',\n  'one',\n  'another',\n  'way',\n  'man',\n  'secure',\n  'himselfe',\n  'reasonable',\n  'anticipation',\n  'force',\n  'wiles',\n  'master',\n  'persons',\n  'man',\n  'long',\n  'till',\n  'see',\n  'power',\n  'great',\n  'enough',\n  'endanger',\n  'conservation',\n  'requireth',\n  'generally',\n  'allowed'],\n ['also',\n  'taking',\n  'pleasure',\n  'contemplating',\n  'power',\n  'acts',\n  'conquest',\n  'pursue',\n  'farther',\n  'security',\n  'requires',\n  'others',\n  'otherwise',\n  'would',\n  'glad',\n  'ease',\n  'within',\n  'modest',\n  'bounds',\n  'invasion',\n  'increase',\n  'power',\n  'would',\n  'able',\n  'long',\n  'time',\n  'standing',\n  'defence',\n  'subsist'],\n ['consequence',\n  'augmentation',\n  'dominion',\n  'man',\n  'necessary',\n  'mans',\n  'conservation',\n  'ought',\n  'allowed'],\n ['againe',\n  'man',\n  'pleasure',\n  'contrary',\n  'great',\n  'deale',\n  'griefe',\n  'keeping',\n  'company',\n  'power',\n  'able',\n  'over-awe'],\n ['every',\n  'man',\n  'looketh',\n  'companion',\n  'value',\n  'rate',\n  'sets',\n  'upon',\n  'himselfe',\n  'upon',\n  'signes',\n  'contempt',\n  'undervaluing',\n  'naturally',\n  'endeavours',\n  'far',\n  'dares',\n  'amongst',\n  'common',\n  'power',\n  'keep',\n  'quiet',\n  'far',\n  'enough',\n  'make',\n  'destroy',\n  'extort',\n  'greater',\n  'value',\n  'contemners',\n  'dommage',\n  'others',\n  'example'],\n ['nature', 'man', 'find', 'three', 'principall', 'causes', 'quarrel'],\n ['first', 'competition', 'secondly', 'diffidence', 'thirdly', 'glory'],\n ['first',\n  'maketh',\n  'man',\n  'invade',\n  'gain',\n  'second',\n  'safety',\n  'third',\n  'reputation'],\n ['first',\n  'use',\n  'violence',\n  'make',\n  'masters',\n  'mens',\n  'persons',\n  'wives',\n  'children',\n  'cattell',\n  'second',\n  'defend',\n  'third',\n  'trifles',\n  'word',\n  'smile',\n  'different',\n  'opinion',\n  'signe',\n  'undervalue',\n  'either',\n  'direct',\n  'persons',\n  'reflexion',\n  'kindred',\n  'friends',\n  'nation',\n  'profession',\n  'name'],\n ['civil',\n  'states',\n  'alwayes',\n  'warre',\n  'every',\n  'one',\n  'every',\n  'one',\n  'hereby',\n  'manifest',\n  'time',\n  'man',\n  'live',\n  'without',\n  'common',\n  'power',\n  'keep',\n  'awe',\n  'condition',\n  'called',\n  'warre',\n  'warre',\n  'every',\n  'man',\n  'every',\n  'man'],\n ['warre',\n  'consisteth',\n  'battell',\n  'onely',\n  'act',\n  'fighting',\n  'tract',\n  'time',\n  'wherein',\n  'contend',\n  'battell',\n  'sufficiently',\n  'known',\n  'therefore',\n  'notion',\n  'time',\n  'considered',\n  'nature',\n  'warre',\n  'nature',\n  'weather'],\n ['nature',\n  'foule',\n  'weather',\n  'lyeth',\n  'showre',\n  'two',\n  'rain',\n  'inclination',\n  'thereto',\n  'many',\n  'dayes',\n  'together',\n  'nature',\n  'war',\n  'consisteth',\n  'actuall',\n  'fighting',\n  'known',\n  'disposition',\n  'thereto',\n  'time',\n  'assurance',\n  'contrary'],\n ['time', 'peace'],\n ['incommodites',\n  'war',\n  'whatsoever',\n  'therefore',\n  'consequent',\n  'time',\n  'warre',\n  'every',\n  'man',\n  'enemy',\n  'every',\n  'man',\n  'consequent',\n  'time',\n  'wherein',\n  'man',\n  'live',\n  'without',\n  'security',\n  'strength',\n  'invention',\n  'shall',\n  'furnish',\n  'withall'],\n ['condition',\n  'place',\n  'industry',\n  'fruit',\n  'thereof',\n  'uncertain',\n  'consequently',\n  'culture',\n  'earth',\n  'navigation',\n  'use',\n  'commodities',\n  'may',\n  'imported',\n  'sea',\n  'commodious',\n  'building',\n  'instruments',\n  'moving',\n  'removing',\n  'things',\n  'require',\n  'much',\n  'force',\n  'knowledge',\n  'face',\n  'earth',\n  'account',\n  'time',\n  'arts',\n  'letters',\n  'society',\n  'worst',\n  'continuall',\n  'fear',\n  'danger',\n  'violent',\n  'death',\n  'life',\n  'man',\n  'solitary',\n  'poore',\n  'nasty',\n  'brutish',\n  'short'],\n ['may',\n  'seem',\n  'strange',\n  'man',\n  'well',\n  'weighed',\n  'things',\n  'nature',\n  'thus',\n  'dissociate',\n  'render',\n  'man',\n  'apt',\n  'invade',\n  'destroy',\n  'one',\n  'another',\n  'may',\n  'therefore',\n  'trusting',\n  'inference',\n  'made',\n  'passions',\n  'desire',\n  'perhaps',\n  'confirmed',\n  'experience'],\n ['let',\n  'therefore',\n  'consider',\n  'himselfe',\n  'taking',\n  'journey',\n  'armes',\n  'himselfe',\n  'seeks',\n  'go',\n  'well',\n  'accompanied',\n  'going',\n  'sleep',\n  'locks',\n  'dores',\n  'even',\n  'house',\n  'locks',\n  'chests',\n  'knows',\n  'bee',\n  'law',\n  'publike',\n  'officers',\n  'armed',\n  'revenge',\n  'injuries',\n  'shall',\n  'bee',\n  'done',\n  'opinion',\n  'fellow',\n  'subject',\n  'rides',\n  'armed',\n  'fellow',\n  'citizens',\n  'locks',\n  'dores',\n  'children',\n  'servants',\n  'locks',\n  'chests'],\n ['much', 'accuse', 'mankind', 'actions', 'words'],\n ['neither', 'us', 'accuse', 'mans', 'nature'],\n ['desires', 'passions', 'man', 'sin'],\n ['actions',\n  'proceed',\n  'passions',\n  'till',\n  'know',\n  'law',\n  'forbids',\n  'till',\n  'law',\n  'made',\n  'know',\n  'law',\n  'made',\n  'till',\n  'agreed',\n  'upon',\n  'person',\n  'shall',\n  'make'],\n ['may',\n  'peradventure',\n  'thought',\n  'never',\n  'time',\n  'condition',\n  'warre',\n  'believe',\n  'never',\n  'generally',\n  'world',\n  'many',\n  'places',\n  'live'],\n ['savage',\n  'people',\n  'many',\n  'places',\n  'america',\n  'except',\n  'government',\n  'small',\n  'families',\n  'concord',\n  'whereof',\n  'dependeth',\n  'naturall',\n  'lust',\n  'government',\n  'live',\n  'day',\n  'brutish',\n  'manner',\n  'said'],\n ['howsoever',\n  'may',\n  'perceived',\n  'manner',\n  'life',\n  'would',\n  'common',\n  'power',\n  'fear',\n  'manner',\n  'life',\n  'man',\n  'formerly',\n  'lived',\n  'peacefull',\n  'government',\n  'use',\n  'degenerate',\n  'civill',\n  'warre'],\n ['though',\n  'never',\n  'time',\n  'wherein',\n  'particular',\n  'man',\n  'condition',\n  'warre',\n  'one',\n  'another',\n  'yet',\n  'times',\n  'king',\n  'persons',\n  'soveraign',\n  'authority',\n  'independency',\n  'continuall',\n  'jealousies',\n  'state',\n  'posture',\n  'gladiators',\n  'weapons',\n  'pointing',\n  'eyes',\n  'fixed',\n  'one',\n  'another',\n  'forts',\n  'garrisons',\n  'guns',\n  'upon',\n  'frontiers',\n  'kingdomes',\n  'continuall',\n  'spyes',\n  'upon',\n  'neighbours',\n  'posture',\n  'war'],\n ['uphold',\n  'thereby',\n  'industry',\n  'subject',\n  'follow',\n  'misery',\n  'accompanies',\n  'liberty',\n  'particular',\n  'man'],\n ['warre',\n  'nothing',\n  'unjust',\n  'warre',\n  'every',\n  'man',\n  'every',\n  'man',\n  'also',\n  'consequent',\n  'nothing',\n  'unjust'],\n ['notions', 'right', 'wrong', 'justice', 'injustice', 'place'],\n ['common', 'power', 'law', 'law', 'injustice'],\n ['force', 'fraud', 'warre', 'two', 'cardinall', 'vertues'],\n ['justice', 'injustice', 'none', 'faculties', 'neither', 'body', 'mind'],\n ['might', 'man', 'alone', 'world', 'well', 'senses', 'passions'],\n ['qualities', 'relate', 'man', 'society', 'solitude'],\n ['consequent',\n  'also',\n  'condition',\n  'propriety',\n  'dominion',\n  'mine',\n  'thine',\n  'distinct',\n  'onely',\n  'every',\n  'mans',\n  'get',\n  'long',\n  'keep'],\n ['thus',\n  'much',\n  'ill',\n  'condition',\n  'man',\n  'meer',\n  'nature',\n  'actually',\n  'placed',\n  'though',\n  'possibility',\n  'come',\n  'consisting',\n  'partly',\n  'passions',\n  'partly',\n  'reason'],\n ['passions',\n  'incline',\n  'man',\n  'peace',\n  'passions',\n  'encline',\n  'man',\n  'peace',\n  'fear',\n  'death',\n  'desire',\n  'things',\n  'necessary',\n  'commodious',\n  'living',\n  'hope',\n  'industry',\n  'obtain'],\n ['reason',\n  'suggesteth',\n  'convenient',\n  'articles',\n  'peace',\n  'upon',\n  'man',\n  'may',\n  'drawn',\n  'agreement'],\n ['articles',\n  'otherwise',\n  'called',\n  'law',\n  'nature',\n  'whereof',\n  'shall',\n  'speak',\n  'particularly',\n  'two',\n  'following',\n  'chapters'],\n ['chapter', 'xiv'],\n ['first',\n  'second',\n  'naturall',\n  'law',\n  'contracts',\n  'right',\n  'nature',\n  'right',\n  'nature',\n  'writers',\n  'commonly',\n  'call',\n  'jus',\n  'naturale',\n  'liberty',\n  'man',\n  'hath',\n  'use',\n  'power',\n  'himselfe',\n  'preservation',\n  'nature',\n  'say',\n  'life',\n  'consequently',\n  'thing',\n  'judgement',\n  'reason',\n  'hee',\n  'shall',\n  'conceive',\n  'aptest',\n  'means',\n  'thereunto'],\n ['liberty',\n  'liberty',\n  'understood',\n  'according',\n  'proper',\n  'signification',\n  'word',\n  'absence',\n  'externall_impediment',\n  'impediment',\n  'may',\n  'oft',\n  'take',\n  'away',\n  'part',\n  'mans',\n  'power',\n  'hee',\n  'would',\n  'hinder',\n  'using',\n  'power',\n  'left',\n  'according',\n  'judgement',\n  'reason',\n  'shall',\n  'dictate'],\n ['law',\n  'nature',\n  'law',\n  'nature',\n  'lex',\n  'naturalis',\n  'precept',\n  'generall',\n  'rule',\n  'found',\n  'reason',\n  'man',\n  'forbidden',\n  'destructive',\n  'life',\n  'taketh',\n  'away',\n  'means',\n  'preserving',\n  'omit',\n  'thinketh',\n  'may',\n  'best',\n  'preserved'],\n ['though',\n  'speak',\n  'subject',\n  'use',\n  'confound',\n  'jus',\n  'lex',\n  'right',\n  'law',\n  'yet',\n  'ought',\n  'distinguished',\n  'right',\n  'consisteth',\n  'liberty',\n  'forbeare',\n  'whereas',\n  'law',\n  'determineth',\n  'bindeth',\n  'one',\n  'law',\n  'right',\n  'differ',\n  'much',\n  'obligation',\n  'liberty',\n  'one',\n  'matter',\n  'inconsistent'],\n ['naturally',\n  'every',\n  'man',\n  'right',\n  'everything',\n  'condition',\n  'man',\n  'hath',\n  'declared',\n  'precedent',\n  'chapter',\n  'condition',\n  'warre',\n  'every',\n  'one',\n  'every',\n  'one',\n  'case',\n  'every',\n  'one',\n  'governed',\n  'reason',\n  'nothing',\n  'make',\n  'use',\n  'may',\n  'help',\n  'unto',\n  'preserving',\n  'life',\n  'enemyes',\n  'followeth',\n  'condition',\n  'every',\n  'man',\n  'right',\n  'every',\n  'thing',\n  'even',\n  'one',\n  'anothers',\n  'body'],\n ['therefore',\n  'long',\n  'naturall',\n  'right',\n  'every',\n  'man',\n  'every',\n  'thing',\n  'endureth',\n  'security',\n  'man',\n  'strong',\n  'wise',\n  'soever',\n  'living',\n  'time',\n  'nature',\n  'ordinarily',\n  'alloweth',\n  'man',\n  'live'],\n ['fundamental',\n  'law',\n  'nature',\n  'consequently',\n  'precept',\n  'generall',\n  'rule',\n  'reason',\n  'every',\n  'man',\n  'ought',\n  'endeavour',\n  'peace',\n  'farre',\n  'hope',\n  'obtaining',\n  'obtain',\n  'may',\n  'seek',\n  'use',\n  'helps',\n  'advantages',\n  'warre',\n  'first',\n  'branch',\n  'rule',\n  'containeth',\n  'first',\n  'fundamentall',\n  'law',\n  'nature',\n  'seek',\n  'peace',\n  'follow',\n  'second',\n  'summe',\n  'right',\n  'nature',\n  'means',\n  'defend',\n  'selves',\n  'second',\n  'law',\n  'nature',\n  'fundamentall',\n  'law',\n  'nature',\n  'man',\n  'commanded',\n  'endeavour',\n  'peace',\n  'derived',\n  'second',\n  'law',\n  'man',\n  'willing',\n  'others',\n  'farre-forth',\n  'peace',\n  'defence',\n  'himselfe',\n  'shall',\n  'think',\n  'necessary',\n  'lay',\n  'right',\n  'things',\n  'contented',\n  'much',\n  'liberty',\n  'man',\n  'would',\n  'allow',\n  'man',\n  'himselfe',\n  'long',\n  'every',\n  'man',\n  'holdeth',\n  'right',\n  'thing',\n  'liketh',\n  'long',\n  'man',\n  'condition',\n  'warre'],\n ['man',\n  'lay',\n  'right',\n  'well',\n  'reason',\n  'one',\n  'devest',\n  'himselfe',\n  'expose',\n  'himselfe',\n  'prey',\n  'man',\n  'bound',\n  'rather',\n  'dispose',\n  'himselfe',\n  'peace'],\n ['law',\n  'gospell',\n  'whatsoever',\n  'require',\n  'others',\n  'ye',\n  'law',\n  'man',\n  'quod',\n  'tibi',\n  'feiri',\n  'non',\n  'vis',\n  'alteri',\n  'ne',\n  'feceris',\n  'lay',\n  'right',\n  'lay',\n  'downe',\n  'mans',\n  'right',\n  'thing',\n  'devest',\n  'himselfe',\n  'liberty',\n  'hindring',\n  'another',\n  'benefit',\n  'right'],\n ['renounceth',\n  'passeth',\n  'away',\n  'right',\n  'giveth',\n  'man',\n  'right',\n  'nothing',\n  'every',\n  'man',\n  'right',\n  'nature',\n  'onely',\n  'standeth',\n  'way',\n  'may',\n  'enjoy',\n  'originall',\n  'right',\n  'without',\n  'hindrance',\n  'without',\n  'hindrance',\n  'another'],\n ['effect',\n  'redoundeth',\n  'one',\n  'man',\n  'another',\n  'mans',\n  'defect',\n  'right',\n  'much',\n  'diminution',\n  'impediment',\n  'use',\n  'right',\n  'originall'],\n ['renouncing',\n  'transferring',\n  'right',\n  'obligation',\n  'duty',\n  'injustice',\n  'right',\n  'layd',\n  'aside',\n  'either',\n  'simply',\n  'renouncing',\n  'transferring',\n  'another'],\n ['simply', 'renouncing', 'cares', 'benefit', 'thereof', 'redoundeth'],\n ['transferring',\n  'intendeth',\n  'benefit',\n  'thereof',\n  'certain',\n  'person',\n  'persons'],\n ['man',\n  'hath',\n  'either',\n  'manner',\n  'abandoned',\n  'granted',\n  'away',\n  'right',\n  'said',\n  'obliged',\n  'bound',\n  'hinder',\n  'right',\n  'granted',\n  'abandoned',\n  'benefit',\n  'ought',\n  'duty',\n  'make',\n  'voyd',\n  'voluntary',\n  'act',\n  'hindrance',\n  'injustice',\n  'injury',\n  'sine',\n  'jure',\n  'right',\n  'renounced',\n  'transferred'],\n ['injury',\n  'injustice',\n  'controversies',\n  'world',\n  'somewhat',\n  'like',\n  'disputations',\n  'scholers',\n  'called',\n  'absurdity'],\n ['called',\n  'absurdity',\n  'contradict',\n  'one',\n  'maintained',\n  'beginning',\n  'world',\n  'called',\n  'injustice',\n  'injury',\n  'voluntarily',\n  'undo',\n  'beginning',\n  'voluntarily',\n  'done'],\n ['way',\n  'man',\n  'either',\n  'simply',\n  'renounceth',\n  'transferreth',\n  'right',\n  'declaration',\n  'signification',\n  'voluntary',\n  'sufficient',\n  'signe',\n  'signes',\n  'doth',\n  'renounce',\n  'transferre',\n  'hath',\n  'renounced',\n  'transferred',\n  'accepteth'],\n ['signes',\n  'either',\n  'words',\n  'onely',\n  'actions',\n  'onely',\n  'happeneth',\n  'often',\n  'words',\n  'actions'],\n ['bonds',\n  'man',\n  'bound',\n  'obliged',\n  'bonds',\n  'strength',\n  'nature',\n  'nothing',\n  'easily',\n  'broken',\n  'mans',\n  'word',\n  'fear',\n  'evill',\n  'consequence',\n  'upon',\n  'rupture'],\n ['rights',\n  'alienable',\n  'whensoever',\n  'man',\n  'transferreth',\n  'right',\n  'renounceth',\n  'either',\n  'consideration',\n  'right',\n  'reciprocally',\n  'transferred',\n  'himselfe',\n  'good',\n  'hopeth',\n  'thereby'],\n ['voluntary',\n  'act',\n  'voluntary',\n  'acts',\n  'every',\n  'man',\n  'object',\n  'good',\n  'himselfe'],\n ['therefore',\n  'rights',\n  'man',\n  'understood',\n  'words',\n  'signes',\n  'abandoned',\n  'transferred'],\n ['first',\n  'man',\n  'lay',\n  'right',\n  'resisting',\n  'assault',\n  'force',\n  'take',\n  'away',\n  'life',\n  'understood',\n  'ayme',\n  'thereby',\n  'good',\n  'himselfe'],\n ['may',\n  'sayd',\n  'wounds',\n  'chayns',\n  'imprisonment',\n  'benefit',\n  'consequent',\n  'patience',\n  'patience',\n  'suffering',\n  'another',\n  'wounded',\n  'imprisoned',\n  'also',\n  'man',\n  'tell',\n  'seeth',\n  'man',\n  'proceed',\n  'violence',\n  'whether',\n  'intend',\n  'death'],\n ['lastly',\n  'motive',\n  'end',\n  'renouncing',\n  'transferring',\n  'right',\n  'introduced',\n  'nothing',\n  'else',\n  'security',\n  'mans',\n  'person',\n  'life',\n  'means',\n  'preserving',\n  'life',\n  'weary'],\n ['therefore',\n  'man',\n  'words',\n  'signes',\n  'seem',\n  'despoyle',\n  'himselfe',\n  'end',\n  'signes',\n  'intended',\n  'understood',\n  'meant',\n  'ignorant',\n  'words',\n  'actions',\n  'interpreted'],\n ['contract', 'mutuall', 'transferring', 'right', 'man', 'call', 'contract'],\n ['difference',\n  'transferring',\n  'right',\n  'thing',\n  'transferring',\n  'tradition',\n  'delivery',\n  'thing',\n  'selfe'],\n ['thing',\n  'may',\n  'delivered',\n  'together',\n  'translation',\n  'right',\n  'buying',\n  'selling',\n  'ready',\n  'mony',\n  'exchange',\n  'goods',\n  'lands',\n  'may',\n  'delivered',\n  'time'],\n ['covenant',\n  'one',\n  'contractors',\n  'may',\n  'deliver',\n  'thing',\n  'contracted',\n  'part',\n  'leave',\n  'perform',\n  'part',\n  'determinate',\n  'time',\n  'mean',\n  'time',\n  'trusted',\n  'contract',\n  'part',\n  'called',\n  'pact',\n  'covenant',\n  'parts',\n  'may',\n  'contract',\n  'performe',\n  'hereafter',\n  'cases',\n  'performe',\n  'time',\n  'come',\n  'trusted',\n  'performance',\n  'called',\n  'keeping',\n  'promise',\n  'faith',\n  'fayling',\n  'performance',\n  'voluntary',\n  'violation',\n  'faith'],\n ['free-gift',\n  'transferring',\n  'right',\n  'mutuall',\n  'one',\n  'parties',\n  'transferreth',\n  'hope',\n  'gain',\n  'thereby',\n  'friendship',\n  'service',\n  'another',\n  'friends',\n  'hope',\n  'gain',\n  'reputation',\n  'charity',\n  'magnanimity',\n  'deliver',\n  'mind',\n  'pain',\n  'compassion',\n  'hope',\n  'reward',\n  'heaven',\n  'contract',\n  'gift',\n  'freegift',\n  'grace',\n  'words',\n  'signifie',\n  'one',\n  'thing'],\n ['signes',\n  'contract',\n  'expresse',\n  'signes',\n  'contract',\n  'either',\n  'expresse',\n  'inference'],\n ['expresse',\n  'words',\n  'spoken',\n  'understanding',\n  'signifie',\n  'words',\n  'either',\n  'time',\n  'present',\n  'past',\n  'give',\n  'grant',\n  'given',\n  'granted',\n  'future',\n  'give',\n  'grant',\n  'words',\n  'future',\n  'called',\n  'promise'],\n ['signes',\n  'contract',\n  'inference',\n  'signes',\n  'inference',\n  'sometimes',\n  'consequence',\n  'words',\n  'sometimes',\n  'consequence',\n  'silence',\n  'sometimes',\n  'consequence',\n  'actions',\n  'sometimes',\n  'consequence',\n  'forbearing',\n  'action',\n  'generally',\n  'signe',\n  'inference',\n  'contract',\n  'whatsoever',\n  'sufficiently',\n  'argues',\n  'contractor'],\n ['free',\n  'gift',\n  'passeth',\n  'words',\n  'present',\n  'past',\n  'words',\n  'alone',\n  'time',\n  'come',\n  'contain',\n  'bare',\n  'promise',\n  'insufficient',\n  'signe',\n  'free-gift',\n  'therefore',\n  'obligatory'],\n ['time',\n  'come',\n  'morrow',\n  'give',\n  'signe',\n  'given',\n  'yet',\n  'consequently',\n  'right',\n  'transferred',\n  'remaineth',\n  'till',\n  'transferre',\n  'act'],\n ['words',\n  'time',\n  'present',\n  'past',\n  'given',\n  'give',\n  'delivered',\n  'morrow',\n  'morrows',\n  'right',\n  'given',\n  'away',\n  'day',\n  'vertue',\n  'words',\n  'though',\n  'argument'],\n ['great',\n  'difference',\n  'signification',\n  'words',\n  'volos',\n  'hoc',\n  'tuum',\n  'esse',\n  'cras',\n  'cros',\n  'dabo',\n  'thine',\n  'morrow',\n  'give',\n  'thee',\n  'morrow',\n  'word',\n  'former',\n  'manner',\n  'speech',\n  'signifies',\n  'act',\n  'present',\n  'later',\n  'signifies',\n  'promise',\n  'act',\n  'come',\n  'therefore',\n  'former',\n  'words',\n  'present',\n  'transferre',\n  'future',\n  'right',\n  'later',\n  'future',\n  'transferre',\n  'nothing'],\n ['signes',\n  'transferre',\n  'right',\n  'besides',\n  'words',\n  'though',\n  'gift',\n  'free',\n  'yet',\n  'may',\n  'right',\n  'understood',\n  'passe',\n  'words',\n  'future',\n  'man',\n  'propound',\n  'prize',\n  'comes',\n  'first',\n  'end',\n  'race',\n  'gift',\n  'free',\n  'though',\n  'words',\n  'future',\n  'yet',\n  'right',\n  'passeth',\n  'would',\n  'words',\n  'understood',\n  'let',\n  'runne'],\n ['signes',\n  'contract',\n  'words',\n  'past',\n  'present',\n  'future',\n  'contracts',\n  'right',\n  'passeth',\n  'onely',\n  'words',\n  'time',\n  'present',\n  'past',\n  'also',\n  'future',\n  'contract',\n  'mutuall',\n  'translation',\n  'change',\n  'right',\n  'therefore',\n  'promiseth',\n  'onely',\n  'hath',\n  'already',\n  'received',\n  'benefit',\n  'promiseth',\n  'understood',\n  'intended',\n  'right',\n  'passe',\n  'unlesse',\n  'content',\n  'words',\n  'understood',\n  'would',\n  'performed',\n  'part',\n  'first'],\n ['cause',\n  'buying',\n  'selling',\n  'acts',\n  'contract',\n  'promise',\n  'equivalent',\n  'covenant',\n  'therefore',\n  'obligatory'],\n ['merit',\n  'performeth',\n  'first',\n  'case',\n  'contract',\n  'said',\n  'merit',\n  'receive',\n  'performance',\n  'hath',\n  'due'],\n ['also',\n  'prize',\n  'propounded',\n  'many',\n  'given',\n  'onely',\n  'winneth',\n  'mony',\n  'thrown',\n  'amongst',\n  'many',\n  'enjoyed',\n  'catch',\n  'though',\n  'free',\n  'gift',\n  'yet',\n  'win',\n  'catch',\n  'merit',\n  'due'],\n ['right',\n  'transferred',\n  'propounding',\n  'prize',\n  'throwing',\n  'mony',\n  'though',\n  'determined',\n  'event',\n  'contention'],\n ['two',\n  'sorts',\n  'merit',\n  'difference',\n  'contract',\n  'merit',\n  'vertue',\n  'power',\n  'contractors',\n  'need',\n  'case',\n  'free',\n  'gift',\n  'enabled',\n  'merit',\n  'onely',\n  'benignity',\n  'giver',\n  'contract',\n  'merit',\n  'contractors',\n  'hand',\n  'hee',\n  'depart',\n  'right',\n  'case',\n  'gift',\n  'merit',\n  'giver',\n  'part',\n  'right',\n  'parted',\n  'mine',\n  'rather',\n  'anothers'],\n ['think',\n  'meaning',\n  'distinction',\n  'schooles',\n  'meritum',\n  'congrui',\n  'meritum',\n  'condigni'],\n ['god',\n  'almighty',\n  'promised',\n  'paradise',\n  'man',\n  'hoodwinkt',\n  'carnall',\n  'desires',\n  'walk',\n  'world',\n  'according',\n  'precepts',\n  'limits',\n  'prescribed',\n  'say',\n  'shall',\n  'walk',\n  'shall',\n  'merit',\n  'paradise',\n  'ex',\n  'congruo'],\n ['man',\n  'demand',\n  'right',\n  'righteousnesse',\n  'power',\n  'himselfe',\n  'free',\n  'grace',\n  'god',\n  'onely',\n  'say',\n  'man',\n  'merit',\n  'paradise',\n  'ex',\n  'condigno'],\n ['say',\n  'think',\n  'meaning',\n  'distinction',\n  'disputers',\n  'agree',\n  'upon',\n  'signification',\n  'termes',\n  'art',\n  'longer',\n  'serves',\n  'turn',\n  'affirme',\n  'thing',\n  'meaning',\n  'onely',\n  'say',\n  'gift',\n  'given',\n  'indefinitely',\n  'prize',\n  'contended',\n  'winneth',\n  'meriteth',\n  'may',\n  'claime',\n  'prize',\n  'due'],\n ['covenants',\n  'mutuall',\n  'trust',\n  'invalid',\n  'covenant',\n  'made',\n  'wherein',\n  'neither',\n  'parties',\n  'performe',\n  'presently',\n  'trust',\n  'one',\n  'another',\n  'condition',\n  'meer',\n  'nature',\n  'condition',\n  'warre',\n  'every',\n  'man',\n  'every',\n  'man',\n  'upon',\n  'reasonable',\n  'suspition',\n  'voyd',\n  'common',\n  'power',\n  'set',\n  'bothe',\n  'right',\n  'force',\n  'sufficient',\n  'compell',\n  'performance',\n  'voyd'],\n ['performeth',\n  'first',\n  'assurance',\n  'performe',\n  'bonds',\n  'words',\n  'weak',\n  'bridle',\n  'mens',\n  'ambition',\n  'avarice',\n  'anger',\n  'passions',\n  'without',\n  'fear',\n  'coerceive',\n  'power',\n  'condition',\n  'meer',\n  'nature',\n  'man',\n  'equall',\n  'judges',\n  'justnesse',\n  'fear',\n  'possibly',\n  'supposed'],\n ['therefore',\n  'performeth',\n  'first',\n  'betray',\n  'himselfe',\n  'enemy',\n  'contrary',\n  'right',\n  'never',\n  'abandon',\n  'defending',\n  'life',\n  'means',\n  'living'],\n ['civill',\n  'estate',\n  'power',\n  'set',\n  'constrain',\n  'would',\n  'otherwise',\n  'violate',\n  'faith',\n  'fear',\n  'reasonable',\n  'cause',\n  'covenant',\n  'perform',\n  'first',\n  'obliged'],\n ['cause',\n  'fear',\n  'maketh',\n  'covenant',\n  'invalid',\n  'must',\n  'alwayes',\n  'something',\n  'arising',\n  'covenant',\n  'made',\n  'new',\n  'fact',\n  'signe',\n  'performe',\n  'else',\n  'make',\n  'covenant',\n  'voyd'],\n ['could',\n  'hinder',\n  'man',\n  'promising',\n  'ought',\n  'admitted',\n  'hindrance',\n  'performing'],\n ['right',\n  'end',\n  'containeth',\n  'right',\n  'means',\n  'transferreth',\n  'right',\n  'transferreth',\n  'means',\n  'enjoying',\n  'farre',\n  'lyeth',\n  'power'],\n ['selleth',\n  'land',\n  'understood',\n  'transferre',\n  'herbage',\n  'whatsoever',\n  'growes',\n  'upon',\n  'sells',\n  'mill',\n  'turn',\n  'away',\n  'stream',\n  'drives'],\n ['give',\n  'man',\n  'right',\n  'government',\n  'soveraign',\n  'understood',\n  'give',\n  'right',\n  'levying',\n  'mony',\n  'maintain',\n  'souldiers',\n  'appointing',\n  'magistrates',\n  'administration',\n  'justice'],\n ['covenant',\n  'beasts',\n  'make',\n  'covenant',\n  'bruit',\n  'beasts',\n  'impossible',\n  'understanding',\n  'speech',\n  'understand',\n  'accept',\n  'translation',\n  'right',\n  'translate',\n  'right',\n  'another',\n  'without',\n  'mutuall',\n  'acceptation',\n  'covenant'],\n ['god',\n  'without',\n  'speciall',\n  'revelation',\n  'make',\n  'covenant',\n  'god',\n  'impossible',\n  'mediation',\n  'god',\n  'speaketh',\n  'either',\n  'revelation',\n  'supernaturall',\n  'lieutenants',\n  'govern',\n  'name',\n  'otherwise',\n  'know',\n  'whether',\n  'covenants',\n  'accepted'],\n ['therefore',\n  'vow',\n  'thing',\n  'contrary',\n  'law',\n  'nature',\n  'vow',\n  'vain',\n  'thing',\n  'unjust',\n  'pay',\n  'vow'],\n ['thing', 'commanded', 'law', 'nature', 'vow', 'law', 'binds'],\n ['covenant',\n  'possible',\n  'future',\n  'matter',\n  'subject',\n  'covenant',\n  'alwayes',\n  'something',\n  'falleth',\n  'deliberation',\n  'covenant',\n  'act',\n  'say',\n  'act',\n  'last',\n  'act',\n  'deliberation',\n  'therefore',\n  'alwayes',\n  'understood',\n  'something',\n  'come',\n  'judged',\n  'possible',\n  'covenanteth',\n  'performe'],\n ['therefore', 'promise', 'known', 'impossible', 'covenant'],\n ['prove',\n  'impossible',\n  'afterwards',\n  'thought',\n  'possible',\n  'covenant',\n  'valid',\n  'bindeth',\n  'though',\n  'thing',\n  'selfe',\n  'yet',\n  'value',\n  'also',\n  'impossible',\n  'unfeigned',\n  'endeavour',\n  'performing',\n  'much',\n  'possible',\n  'man',\n  'obliged'],\n ['covenants',\n  'made',\n  'voyd',\n  'man',\n  'freed',\n  'covenants',\n  'two',\n  'wayes',\n  'performing',\n  'forgiven'],\n ['performance',\n  'naturall',\n  'end',\n  'obligation',\n  'forgivenesse',\n  'restitution',\n  'liberty',\n  'retransferring',\n  'right',\n  'obligation',\n  'consisted'],\n ['covenants',\n  'extorted',\n  'fear',\n  'valide',\n  'covenants',\n  'entred',\n  'fear',\n  'condition',\n  'meer',\n  'nature',\n  'obligatory'],\n ['example',\n  'covenant',\n  'pay',\n  'ransome',\n  'service',\n  'life',\n  'enemy',\n  'bound'],\n ['contract',\n  'wherein',\n  'one',\n  'receiveth',\n  'benefit',\n  'life',\n  'receive',\n  'mony',\n  'service',\n  'consequently',\n  'law',\n  'condition',\n  'meer',\n  'nature',\n  'forbiddeth',\n  'performance',\n  'covenant',\n  'valid'],\n ['therefore',\n  'prisoners',\n  'warre',\n  'trusted',\n  'payment',\n  'ransome',\n  'obliged',\n  'pay',\n  'weaker',\n  'prince',\n  'make',\n  'disadvantageous',\n  'peace',\n  'stronger',\n  'fear',\n  'bound',\n  'keep',\n  'unlesse',\n  'hath',\n  'sayd',\n  'ariseth',\n  'new',\n  'cause',\n  'fear',\n  'renew',\n  'war'],\n ['even',\n  'common-wealths',\n  'forced',\n  'redeem',\n  'selfe',\n  'theefe',\n  'promising',\n  'mony',\n  'bound',\n  'pay',\n  'till',\n  'civill',\n  'law',\n  'discharge'],\n ['whatsoever',\n  'may',\n  'lawfully',\n  'without',\n  'obligation',\n  'may',\n  'lawfully',\n  'covenant',\n  'fear',\n  'lawfully',\n  'covenant',\n  'lawfully',\n  'break'],\n ['former',\n  'covenant',\n  'one',\n  'makes',\n  'voyd',\n  'later',\n  'another',\n  'former',\n  'covenant',\n  'makes',\n  'voyd',\n  'later'],\n ['man',\n  'hath',\n  'passed',\n  'away',\n  'right',\n  'one',\n  'man',\n  'day',\n  'hath',\n  'passe',\n  'morrow',\n  'another',\n  'therefore',\n  'later',\n  'promise',\n  'passeth',\n  'right',\n  'null'],\n ['mans',\n  'covenant',\n  'defend',\n  'himselfe',\n  'voyd',\n  'covenant',\n  'defend',\n  'selfe',\n  'force',\n  'force',\n  'alwayes',\n  'voyd'],\n ['shewed',\n  'man',\n  'transferre',\n  'lay',\n  'right',\n  'save',\n  'himselfe',\n  'death',\n  'wounds',\n  'imprisonment',\n  'avoyding',\n  'whereof',\n  'onely',\n  'end',\n  'laying',\n  'right',\n  'therefore',\n  'promise',\n  'resisting',\n  'force',\n  'covenant',\n  'transferreth',\n  'right',\n  'obliging'],\n ['though',\n  'man',\n  'may',\n  'covenant',\n  'thus',\n  'unlesse',\n  'kill',\n  'covenant',\n  'thus',\n  'unless',\n  'resist',\n  'come',\n  'kill',\n  'man',\n  'nature',\n  'chooseth',\n  'lesser',\n  'evill',\n  'danger',\n  'death',\n  'resisting',\n  'rather',\n  'greater',\n  'certain',\n  'present',\n  'death',\n  'resisting'],\n ['granted',\n  'true',\n  'man',\n  'lead',\n  'criminals',\n  'execution',\n  'prison',\n  'armed',\n  'man',\n  'notwithstanding',\n  'criminals',\n  'consented',\n  'law',\n  'condemned'],\n ['man',\n  'obliged',\n  'accuse',\n  'himselfe',\n  'covenant',\n  'accuse',\n  'ones',\n  'selfe',\n  'without',\n  'assurance',\n  'pardon',\n  'likewise',\n  'invalide'],\n ['condition',\n  'nature',\n  'every',\n  'man',\n  'judge',\n  'place',\n  'accusation',\n  'civill',\n  'state',\n  'accusation',\n  'followed',\n  'punishment',\n  'force',\n  'man',\n  'obliged',\n  'resist'],\n ['also',\n  'true',\n  'accusation',\n  'whose',\n  'condemnation',\n  'man',\n  'falls',\n  'misery',\n  'father',\n  'wife',\n  'benefactor'],\n ['testimony',\n  'accuser',\n  'willingly',\n  'given',\n  'praesumed',\n  'corrupted',\n  'nature',\n  'therefore',\n  'received',\n  'mans',\n  'testimony',\n  'credited',\n  'bound',\n  'give'],\n ['also', 'accusations', 'upon', 'torture', 'reputed', 'testimonies'],\n ['torture',\n  'used',\n  'means',\n  'conjecture',\n  'light',\n  'examination',\n  'search',\n  'truth',\n  'case',\n  'confessed',\n  'tendeth',\n  'ease',\n  'tortured',\n  'informing',\n  'torturers',\n  'therefore',\n  'ought',\n  'credit',\n  'sufficient',\n  'testimony',\n  'whether',\n  'deliver',\n  'himselfe',\n  'true',\n  'false',\n  'accusation',\n  'right',\n  'preserving',\n  'life'],\n ['end',\n  'oath',\n  'forme',\n  'oath',\n  'force',\n  'words',\n  'formerly',\n  'noted',\n  'weak',\n  'hold',\n  'man',\n  'performance',\n  'covenants',\n  'mans',\n  'nature',\n  'two',\n  'imaginable',\n  'helps',\n  'strengthen'],\n ['either',\n  'fear',\n  'consequence',\n  'breaking',\n  'word',\n  'glory',\n  'pride',\n  'appearing',\n  'need',\n  'breake'],\n ['later',\n  'generosity',\n  'rarely',\n  'found',\n  'presumed',\n  'especially',\n  'pursuers',\n  'wealth',\n  'command',\n  'sensuall',\n  'pleasure',\n  'greatest',\n  'part',\n  'mankind'],\n ['passion',\n  'reckoned',\n  'upon',\n  'fear',\n  'whereof',\n  'two',\n  'generall',\n  'objects',\n  'one',\n  'power',\n  'spirits',\n  'invisible',\n  'power',\n  'man',\n  'shall',\n  'therein',\n  'offend'],\n ['two',\n  'though',\n  'former',\n  'greater',\n  'power',\n  'yet',\n  'fear',\n  'later',\n  'commonly',\n  'greater',\n  'fear'],\n ['fear',\n  'former',\n  'every',\n  'man',\n  'religion',\n  'hath',\n  'place',\n  'nature',\n  'man',\n  'civill',\n  'society'],\n ['later',\n  'hath',\n  'least',\n  'place',\n  'enough',\n  'keep',\n  'man',\n  'promises',\n  'condition',\n  'meer',\n  'nature',\n  'inequality',\n  'power',\n  'discerned',\n  'event',\n  'battell'],\n ['time',\n  'civill',\n  'society',\n  'interruption',\n  'thereof',\n  'warre',\n  'nothing',\n  'strengthen',\n  'covenant',\n  'peace',\n  'agreed',\n  'temptations',\n  'avarice',\n  'ambition',\n  'lust',\n  'strong',\n  'desire',\n  'fear',\n  'invisible',\n  'power',\n  'every',\n  'one',\n  'worship',\n  'god',\n  'fear',\n  'revenger',\n  'perfidy'],\n ['therefore',\n  'done',\n  'two',\n  'man',\n  'subject',\n  'civill',\n  'power',\n  'put',\n  'one',\n  'another',\n  'swear',\n  'god',\n  'fear',\n  'swearing',\n  'oath',\n  'forme',\n  'speech',\n  'added',\n  'promise',\n  'promiseth',\n  'signifieth',\n  'unlesse',\n  'performe',\n  'renounceth',\n  'mercy',\n  'god',\n  'calleth',\n  'vengeance',\n  'himselfe'],\n ['heathen',\n  'forme',\n  'let',\n  'jupiter',\n  'kill',\n  'else',\n  'kill',\n  'beast',\n  'forme',\n  'shall',\n  'thus',\n  'thus',\n  'help',\n  'god',\n  'rites',\n  'ceremonies',\n  'every',\n  'one',\n  'useth',\n  'religion',\n  'fear',\n  'breaking',\n  'faith',\n  'might',\n  'greater'],\n ['oath',\n  'god',\n  'appears',\n  'oath',\n  'taken',\n  'according',\n  'forme',\n  'rite',\n  'sweareth',\n  'vain',\n  'oath',\n  'swearing',\n  'thing',\n  'swearer',\n  'thinks',\n  'god'],\n ['though',\n  'man',\n  'sometimes',\n  'used',\n  'swear',\n  'king',\n  'fear',\n  'flattery',\n  'yet',\n  'would',\n  'thereby',\n  'understood',\n  'attributed',\n  'divine',\n  'honour'],\n ['swearing',\n  'unnecessarily',\n  'god',\n  'prophaning',\n  'name',\n  'swearing',\n  'things',\n  'man',\n  'common',\n  'discourse',\n  'swearing',\n  'impious',\n  'custome',\n  'gotten',\n  'much',\n  'vehemence',\n  'talking'],\n ['oath',\n  'addes',\n  'nothing',\n  'obligation',\n  'appears',\n  'also',\n  'oath',\n  'addes',\n  'nothing',\n  'obligation'],\n ['covenant',\n  'lawfull',\n  'binds',\n  'sight',\n  'god',\n  'without',\n  'oath',\n  'much',\n  'unlawfull',\n  'bindeth',\n  'though',\n  'confirmed',\n  'oath'],\n ['chapter', 'xv'],\n ['law',\n  'nature',\n  'third',\n  'law',\n  'nature',\n  'justice',\n  'law',\n  'nature',\n  'obliged',\n  'transferre',\n  'another',\n  'rights',\n  'retained',\n  'hinder',\n  'peace',\n  'mankind',\n  'followeth',\n  'third',\n  'man',\n  'performe',\n  'covenants',\n  'made',\n  'without',\n  'covenants',\n  'vain',\n  'empty',\n  'words',\n  'right',\n  'man',\n  'things',\n  'remaining',\n  'wee',\n  'still',\n  'condition',\n  'warre'],\n ['justice',\n  'injustice',\n  'law',\n  'nature',\n  'consisteth',\n  'fountain',\n  'originall',\n  'justice'],\n ['covenant',\n  'hath',\n  'preceded',\n  'hath',\n  'right',\n  'transferred',\n  'every',\n  'man',\n  'right',\n  'every',\n  'thing',\n  'consequently',\n  'action',\n  'unjust'],\n ['covenant',\n  'made',\n  'break',\n  'unjust',\n  'definition',\n  'injustice',\n  'performance',\n  'covenant'],\n ['whatsoever', 'unjust'],\n ['justice',\n  'propriety',\n  'begin',\n  'constitution',\n  'common-wealth',\n  'covenants',\n  'mutuall',\n  'trust',\n  'fear',\n  'performance',\n  'either',\n  'part',\n  'hath',\n  'said',\n  'former',\n  'chapter',\n  'invalid',\n  'though',\n  'originall',\n  'justice',\n  'making',\n  'covenants',\n  'yet',\n  'injustice',\n  'actually',\n  'none',\n  'till',\n  'cause',\n  'fear',\n  'taken',\n  'away',\n  'man',\n  'naturall',\n  'condition',\n  'warre',\n  'done'],\n ['therefore',\n  'names',\n  'unjust',\n  'place',\n  'must',\n  'coercive',\n  'power',\n  'compell',\n  'man',\n  'equally',\n  'performance',\n  'covenants',\n  'terrour',\n  'punishment',\n  'greater',\n  'benefit',\n  'expect',\n  'breach',\n  'covenant',\n  'make',\n  'good',\n  'propriety',\n  'mutuall',\n  'contract',\n  'man',\n  'acquire',\n  'recompence',\n  'universall',\n  'right',\n  'abandon',\n  'power',\n  'none',\n  'erection',\n  'common-wealth'],\n ['also',\n  'gathered',\n  'ordinary',\n  'definition',\n  'justice',\n  'schooles',\n  'say',\n  'justice',\n  'constant',\n  'giving',\n  'every',\n  'man',\n  'therefore',\n  'propriety',\n  'injustice',\n  'coerceive',\n  'power',\n  'erected',\n  'common-wealth',\n  'propriety',\n  'man',\n  'right',\n  'things',\n  'therefore',\n  'common-wealth',\n  'nothing',\n  'unjust'],\n ...]"
     },
     "execution_count": 54,
     "metadata": {},
     "output_type": "execute_result"
    }
   ],
   "source": [
    "clean_sent_tokens_lev"
   ],
   "metadata": {
    "collapsed": false,
    "pycharm": {
     "name": "#%%\n"
    }
   }
  },
  {
   "cell_type": "code",
   "execution_count": 55,
   "outputs": [],
   "source": [
    "# For the sake of getting individual token counts, we combine into a giant list here\n",
    "# (But this is just for sanity-checking)\n",
    "def combine_sent_tokens(sent_tokens):\n",
    "    tokens_combined = []\n",
    "    for cur_sent_tokens in sent_tokens:\n",
    "        tokens_combined.extend(cur_sent_tokens)\n",
    "    return tokens_combined\n",
    "\n",
    "def get_token_counts(clean_sent_tokens):\n",
    "    clean_tokens_combined = combine_sent_tokens(clean_sent_tokens)\n",
    "    clean_tokens_count = Counter(clean_tokens_combined)\n",
    "    counts_sorted = sorted(clean_tokens_count.items(), key=lambda x: x[1], reverse=True)\n",
    "    return counts_sorted"
   ],
   "metadata": {
    "collapsed": false,
    "pycharm": {
     "name": "#%%\n"
    }
   }
  },
  {
   "cell_type": "code",
   "execution_count": 56,
   "outputs": [
    {
     "data": {
      "text/plain": "[('man', 2020),\n ('god', 1279),\n ('law', 1079),\n ('one', 831),\n ('power', 735),\n ('soveraign', 655),\n ('therefore', 606),\n ('shall', 582),\n ('also', 579),\n ('may', 573),\n ('hath', 446),\n ('say', 446),\n ('subject', 434),\n ('every', 425),\n ('common-wealth', 424),\n ('nature', 417),\n ('onely', 413),\n ('another', 411),\n ('time', 399),\n ('christ', 385),\n ('king', 381),\n ('right', 366),\n ('yet', 346),\n ('upon', 339),\n ('people', 332),\n ('called', 330),\n ('words', 327),\n ('without', 325),\n ('though', 321),\n ('civill', 320),\n ('authority', 317),\n ('place', 313),\n ('first', 312),\n ('made', 304),\n ('thing', 298),\n ('make', 296),\n ('kingdome', 284),\n ('reason', 275),\n ('things', 269),\n ('many', 265),\n ('good', 250),\n ('obey', 249),\n ('moses', 242),\n ('word', 240),\n ('church', 239),\n ('life', 231),\n ('naturall', 230),\n ('himselfe', 227),\n ('said', 210),\n ('bee', 209),\n ('body', 205),\n ('name', 201),\n ('spirit', 197),\n ('christian', 196),\n ('either', 196),\n ('nothing', 196),\n ('person', 195),\n ('much', 194),\n ('publique', 193),\n ('part', 192),\n ('great', 192),\n ('world', 191),\n ('use', 189),\n ('saviour', 189),\n ('done', 188),\n ('hee', 187),\n ('like', 184),\n ('fear', 183),\n ('scripture', 180),\n ('come', 177),\n ('assembly', 176),\n ('sense', 174),\n ('us', 173),\n ('actions', 172),\n ('doctrine', 172),\n ('doe', 168),\n ('holy', 164),\n ('cause', 163),\n ('take', 160),\n ('private', 158),\n ('government', 158),\n ('contrary', 157),\n ('give', 154),\n ('liberty', 154),\n ('manner', 153),\n ('apostles', 150),\n ('st', 150),\n ('faith', 149),\n ('others', 148),\n ('saith', 146),\n ('sometimes', 144),\n ('judge', 144),\n ('honour', 144),\n ('covenant', 144),\n ('death', 143),\n ('must', 143),\n ('new', 143),\n ('two', 140),\n ('know', 139),\n ('true', 137),\n ('would', 136),\n ('wee', 135),\n ('taken', 135),\n ('unto', 132),\n ('religion', 132),\n ('whose', 131),\n ('places', 129),\n ('end', 129),\n ('necessary', 128),\n ('peace', 128),\n ('think', 127),\n ('amongst', 127),\n ('evill', 126),\n ('earth', 126),\n ('bodies', 125),\n ('given', 125),\n ('call', 121),\n ('see', 121),\n ('ought', 121),\n ('worship', 121),\n ('whereof', 120),\n ('names', 119),\n ('common', 118),\n ('consequently', 117),\n ('whatsoever', 117),\n ('could', 116),\n ('act', 116),\n ('seeing', 115),\n ('concerning', 115),\n ('never', 115),\n ('lord', 115),\n ('understood', 114),\n ('neither', 114),\n ('present', 113),\n ('way', 111),\n ('warre', 111),\n ('justice', 111),\n ('whether', 110),\n ('command', 110),\n ('pope', 110),\n ('case', 108),\n ('chapter', 108),\n ('beleeve', 108),\n ('day', 107),\n ('opinion', 107),\n ('wherein', 106),\n ('mans', 105),\n ('prophets', 105),\n ('testament', 105),\n ('particular', 104),\n ('false', 104),\n ('well', 102),\n ('manifest', 102),\n ('none', 102),\n ('old', 101),\n ('till', 101),\n ('put', 100),\n ('greater', 99),\n ('causes', 99),\n ('whole', 98),\n ('thought', 98),\n ('punishment', 97),\n ('set', 97),\n ('thereby', 96),\n ('eternall', 96),\n ('might', 95),\n ('written', 92),\n ('means', 92),\n ('counsell', 92),\n ('away', 91),\n ('crime', 91),\n ('already', 91),\n ('desire', 90),\n ('second', 90),\n ('persons', 89),\n ('children', 89),\n ('heaven', 89),\n ('times', 88),\n ('prophet', 88),\n ('thou', 88),\n ('paul', 88),\n ('jews', 88),\n ('together', 87),\n ('selfe', 87),\n ('lesse', 87),\n ('soveraigns', 87),\n ('benefit', 86),\n ('speak', 85),\n ('speech', 85),\n ('obliged', 85),\n ('else', 85),\n ('according', 84),\n ('consequences', 83),\n ('mind', 82),\n ('thereof', 81),\n ('knowledge', 81),\n ('office', 81),\n ('whereas', 81),\n ('israel', 81),\n ('passions', 80),\n ('generall', 80),\n ('acts', 80),\n ('received', 80),\n ('parts', 79),\n ('action', 79),\n ('condition', 79),\n ('common-wealths', 79),\n ('peter', 78),\n ('judges', 78),\n ('motion', 77),\n ('truth', 77),\n ('long', 77),\n ('question', 77),\n ('hands', 77),\n ('otherwise', 77),\n ('lawfull', 77),\n ('fire', 77),\n ('books', 76),\n ('former', 76),\n ('fact', 76),\n ('father', 76),\n ('priest', 76),\n ('teach', 75),\n ('divers', 75),\n ('salvation', 75),\n ('representative', 75),\n ('high', 74),\n ('ministers', 74),\n ('find', 73),\n ('living', 72),\n ('dominion', 72),\n ('commanded', 72),\n ('signes', 71),\n ('bound', 71),\n ('verse', 71),\n ('matter', 70),\n ('consisteth', 70),\n ('certain', 70),\n ('resurrection', 70),\n ('doth', 69),\n ('meant', 69),\n ('john', 69),\n ('state', 68),\n ('signifie', 68),\n ('neverthelesse', 68),\n ('christians', 68),\n ('consider', 67),\n ('thy', 67),\n ('three', 67),\n ('force', 67),\n ('rest', 66),\n ('fancy', 66),\n ('spirits', 66),\n ('known', 66),\n ('miracles', 66),\n ('read', 65),\n ('thus', 65),\n ('priests', 65),\n ('pastors', 65),\n ('taught', 64),\n ('judgement', 64),\n ('rome', 64),\n ('thee', 64),\n ('whereby', 63),\n ('sufficient', 63),\n ('let', 62),\n ('commonly', 62),\n ('effect', 62),\n ('consequence', 62),\n ('sent', 62),\n ('last', 62),\n ('want', 62),\n ('ghost', 62),\n ('injustice', 62),\n ('little', 61),\n ('dead', 61),\n ('making', 61),\n ('enough', 61),\n ('proceed', 61),\n ('vertue', 60),\n ('enemy', 60),\n ('ignorance', 60),\n ('live', 60),\n ('philosophy', 60),\n ('c', 59),\n ('monarchy', 59),\n ('princes', 59),\n ('used', 58),\n ('ordained', 58),\n ('gave', 58),\n ('need', 58),\n ('divine', 58),\n ('spake', 58),\n ('spirituall', 58),\n ('receive', 57),\n ('spoken', 57),\n ('sentence', 57),\n ('nations', 57),\n ('thoughts', 56),\n ('kind', 56),\n ('unlesse', 56),\n ('ever', 56),\n ('rather', 56),\n ('evident', 56),\n ('promise', 56),\n ('supreme', 56),\n ('war', 55),\n ('mens', 55),\n ('hand', 55),\n ('properly', 55),\n ('third', 55),\n ('love', 55),\n ('supernaturall', 55),\n ('monarch', 55),\n ('example', 54),\n ('equall', 54),\n ('argument', 54),\n ('science', 53),\n ('image', 53),\n ('maketh', 53),\n ('author', 53),\n ('number', 53),\n ('free', 53),\n ('came', 52),\n ('land', 52),\n ('son', 52),\n ('left', 51),\n ('understanding', 51),\n ('water', 51),\n ('severall', 51),\n ('keep', 51),\n ('besides', 51),\n ('secondly', 50),\n ('past', 50),\n ('best', 50),\n ('able', 50),\n ('hurt', 50),\n ('unjust', 50),\n ('understand', 49),\n ('namely', 49),\n ('discourse', 49),\n ('difference', 49),\n ('judgment', 49),\n ('endeavour', 48),\n ('generally', 48),\n ('later', 48),\n ('rule', 48),\n ('cast', 48),\n ('institution', 48),\n ('rights', 47),\n ('doctrines', 47),\n ('vision', 47),\n ('often', 47),\n ('different', 47),\n ('passe', 47),\n ('passion', 47),\n ('kill', 47),\n ('hope', 46),\n ('observe', 46),\n ('even', 46),\n ('follow', 46),\n ('book', 46),\n ('angels', 46),\n ('saying', 45),\n ('seem', 45),\n ('experience', 45),\n ('mony', 45),\n ('rules', 45),\n ('humane', 45),\n ('multitude', 45),\n ('absolute', 45),\n ('therein', 45),\n ('abraham', 45),\n ('mat', 45),\n ('strength', 44),\n ('derived', 44),\n ('proper', 44),\n ('signe', 44),\n ('contract', 44),\n ('signifieth', 44),\n ('service', 44),\n ('declared', 44),\n ('heart', 43),\n ('afterwards', 43),\n ('light', 43),\n ('cases', 43),\n ('believe', 43),\n ('work', 43),\n ('scriptures', 43),\n ('required', 43),\n ('heathen', 43),\n ('punishments', 43),\n ('interpretation', 43),\n ('baptisme', 43),\n ('art', 42),\n ('duty', 42),\n ('easily', 42),\n ('appetite', 42),\n ('images', 42),\n ('gentiles', 42),\n ('sorts', 42),\n ('governed', 42),\n ('consent', 42),\n ('extraordinary', 42),\n ('businesse', 41),\n ('covenants', 41),\n ('still', 41),\n ('imagination', 41),\n ('next', 41),\n ('thence', 41),\n ('signification', 41),\n ('prove', 41),\n ('owne', 41),\n ('injury', 41),\n ('opinions', 41),\n ('obligation', 41),\n ('purgatory', 41),\n ('bishops', 41),\n ('equity', 40),\n ('found', 40),\n ('dream', 40),\n ('brought', 40),\n ('future', 40),\n ('alwayes', 40),\n ('reasoning', 40),\n ('soule', 40),\n ('sin', 40),\n ('sins', 40),\n ('ver', 40),\n ('self', 39),\n ('object', 39),\n ('sight', 39),\n ('impossible', 39),\n ('point', 39),\n ('peculiar', 39),\n ('immediately', 39),\n ('naturally', 39),\n ('stand', 39),\n ('soever', 39),\n ('idolatry', 39),\n ('defence', 38),\n ('makes', 38),\n ('seen', 38),\n ('dreams', 38),\n ('followeth', 38),\n ('conscience', 38),\n ('purpose', 38),\n ('succession', 38),\n ('occasion', 38),\n ('labour', 38),\n ('meaning', 38),\n ('determined', 38),\n ('lay', 38),\n ('answer', 38),\n ('house', 38),\n ('text', 38),\n ('christs', 38),\n ('article', 38),\n ('pastor', 38),\n ('lastly', 37),\n ('creatures', 37),\n ('needs', 37),\n ('beginning', 37),\n ('order', 37),\n ('prophecy', 37),\n ('danger', 37),\n ('vain', 37),\n ('pretend', 37),\n ('fit', 37),\n ('morall', 37),\n ('sinne', 37),\n ('language', 36),\n ('whence', 36),\n ('appear', 36),\n ('drawn', 36),\n ('observed', 36),\n ('wisdome', 36),\n ('serve', 36),\n ('universall', 36),\n ('incorporeall', 36),\n ('speaketh', 36),\n ('witnesse', 36),\n ('committed', 36),\n ('popes', 36),\n ('giving', 35),\n ('thirdly', 35),\n ('master', 35),\n ('ordinary', 35),\n ('commandement', 35),\n ('partly', 35),\n ('city', 35),\n ('unlawfull', 35),\n ('delivered', 35),\n ('jurisdiction', 35),\n ('propriety', 35),\n ('congregation', 35),\n ('subordinate', 35),\n ('commands', 35),\n ('teaching', 35),\n ('darknesse', 35),\n ('whosoever', 34),\n ('value', 34),\n ('mankind', 34),\n ('reputation', 34),\n ('require', 34),\n ('intention', 34),\n ('servants', 34),\n ('prince', 34),\n ('miracle', 34),\n ('everlasting', 34),\n ('angel', 34),\n ('ecclesiasticall', 34),\n ('externall', 33),\n ('change', 33),\n ('mean', 33),\n ('conceive', 33),\n ('summe', 33),\n ('enemies', 33),\n ('principles', 33),\n ('speaking', 33),\n ('ambition', 33),\n ('supposed', 33),\n ('ground', 33),\n ('revelation', 33),\n ('manners', 33),\n ('works', 33),\n ('belongeth', 33),\n ('crimes', 33),\n ('inflicted', 33),\n ('preach', 33),\n ('apostle', 33),\n ('shew', 32),\n ('nation', 32),\n ('hear', 32),\n ('greeks', 32),\n ('voluntary', 32),\n ('custome', 32),\n ('perhaps', 32),\n ('study', 32),\n ('speciall', 32),\n ('pleasure', 32),\n ('bring', 32),\n ('grace', 32),\n ('elders', 32),\n ('lived', 32),\n ('appointed', 32),\n ('england', 32),\n ('giveth', 32),\n ('gift', 32),\n ('saul', 32),\n ('riches', 31),\n ('originall', 31),\n ('seemeth', 31),\n ('greatest', 31),\n ('company', 31),\n ('adam', 31),\n ('account', 31),\n ('substance', 31),\n ('history', 31),\n ('dependeth', 31),\n ('took', 31),\n ('alwaies', 31),\n ('testimony', 31),\n ('judged', 31),\n ('lawfully', 31),\n ('jerusalem', 31),\n ('gen', 31),\n ('commandements', 31),\n ('twelve', 31),\n ('proved', 31),\n ('coming', 31),\n ('beleeved', 31),\n ('officers', 30),\n ('memory', 30),\n ('politique', 30),\n ('hearing', 30),\n ('shewn', 30),\n ('declare', 30),\n ('errour', 30),\n ('allowed', 30),\n ('go', 30),\n ('contempt', 30),\n ('glory', 30),\n ('arguments', 30),\n ('aaron', 30),\n ('title', 30),\n ('deny', 30),\n ('hell', 30),\n ('forbidden', 30),\n ('commandeth', 30),\n ('excommunication', 30),\n ('execution', 29),\n ('govern', 29),\n ('care', 29),\n ('notice', 29),\n ('foundation', 29),\n ('considered', 29),\n ('greek', 29),\n ('acknowledge', 29),\n ('save', 29),\n ('far', 29),\n ('exod', 29),\n ('popular', 29),\n ('meer', 29),\n ('due', 29),\n ('joshua', 29),\n ('teachers', 29),\n ('sufficiently', 29),\n ('breach', 29),\n ('commission', 29),\n ('voice', 29),\n ('david', 29),\n ('die', 29),\n ('saved', 29),\n ('latine', 28),\n ('protection', 28),\n ('moved', 28),\n ('acquired', 28),\n ('organs', 28),\n ('distinguish', 28),\n ('arise', 28),\n ('effects', 28),\n ('interest', 28),\n ('vertues', 28),\n ('bear', 28),\n ('precedent', 28),\n ('presence', 28),\n ('fault', 28),\n ('tis', 28),\n ('punish', 28),\n ('especially', 28),\n ('samuel', 28),\n ('preaching', 28),\n ('represented', 28),\n ('israelites', 28),\n ('elect', 28),\n ('goe', 28),\n ('within', 27),\n ('eyes', 27),\n ('forth', 27),\n ('somewhat', 27),\n ('doubt', 27),\n ('knowing', 27),\n ('creature', 27),\n ('wit', 27),\n ('almost', 27),\n ('please', 27),\n ('taking', 27),\n ('better', 27),\n ('generation', 27),\n ('madnesse', 27),\n ('pretended', 27),\n ('possession', 27),\n ('subjection', 27),\n ('masters', 27),\n ('charge', 27),\n ('estate', 27),\n ('temporall', 27),\n ('clergy', 27),\n ('administration', 27),\n ('chap', 27),\n ('disciples', 27),\n ('innocent', 27),\n ('faithfull', 27),\n ('churches', 27),\n ('luke', 27),\n ('texts', 26),\n ('visible', 26),\n ('senses', 26),\n ('distinction', 26),\n ('ghosts', 26),\n ('punished', 26),\n ('difficulty', 26),\n ('consequent', 26),\n ('mutuall', 26),\n ('authors', 26),\n ('likewise', 26),\n ('friends', 26),\n ('security', 26),\n ('felicity', 26),\n ('designe', 26),\n ('except', 26),\n ('jewes', 26),\n ('following', 26),\n ('powers', 26),\n ('defend', 26),\n ('ancient', 26),\n ('lords', 26),\n ('attributed', 26),\n ('bishop', 26),\n ('goods', 26),\n ('gospel', 26),\n ('cor', 26),\n ('occasions', 25),\n ('hard', 25),\n ('longer', 25),\n ('comes', 25),\n ('prudence', 25),\n ('least', 25),\n ('leave', 25),\n ('refuse', 25),\n ('invisible', 25),\n ('expresse', 25),\n ('proceedeth', 25),\n ('signified', 25),\n ('discretion', 25),\n ('held', 25),\n ('dishonour', 25),\n ('forme', 25),\n ('writing', 25),\n ('sword', 25),\n ('chosen', 25),\n ('marriage', 25),\n ('granted', 25),\n ('submit', 25),\n ('captivity', 25),\n ('deut', 25),\n ('reign', 25),\n ('judicature', 24),\n ('wise', 24),\n ('trust', 24),\n ('brain', 24),\n ('qualities', 24),\n ('reall', 24),\n ('caused', 24),\n ('grounded', 24),\n ('heard', 24),\n ('comming', 24),\n ('formerly', 24),\n ('saw', 24),\n ('lost', 24),\n ('presumption', 24),\n ('letters', 24),\n ('numbers', 24),\n ('mark', 24),\n ('went', 24),\n ('favour', 24),\n ('hold', 24),\n ('immediate', 24),\n ('sort', 24),\n ('performance', 24),\n ('represent', 24),\n ('legislator', 24),\n ('alledged', 24),\n ('minister', 24),\n ('baptized', 24),\n ('seventy', 24),\n ('yee', 24),\n ('excommunicate', 24),\n ('reward', 23),\n ('members', 23),\n ('towards', 23),\n ('easie', 23),\n ('fall', 23),\n ('signifies', 23),\n ('look', 23),\n ('return', 23),\n ('possible', 23),\n ('help', 23),\n ('divided', 23),\n ('absurd', 23),\n ('pleased', 23),\n ('constituted', 23),\n ('demand', 23),\n ('indeed', 23),\n ('bloud', 23),\n ('raised', 23),\n ('witnesses', 23),\n ('strange', 23),\n ('attribute', 23),\n ('appeareth', 23),\n ('choose', 23),\n ('stone', 23),\n ('submission', 23),\n ('forraign', 23),\n ('advice', 23),\n ('expressely', 23),\n ('election', 23),\n ('contained', 23),\n ('shalt', 23),\n ('honor', 23),\n ('deliver', 22),\n ('aristotle', 22),\n ('exercise', 22),\n ('appears', 22),\n ('calling', 22),\n ('ends', 22),\n ('proceeding', 22),\n ('society', 22),\n ('country', 22),\n ('tell', 22),\n ('definition', 22),\n ('enter', 22),\n ('accidents', 22),\n ('small', 22),\n ('deliberation', 22),\n ('writings', 22),\n ('equally', 22),\n ('judgements', 22),\n ('quantity', 22),\n ('violence', 22),\n ('romans', 22),\n ('examples', 22),\n ('acknowledged', 22),\n ('distribution', 22),\n ('fundamentall', 22),\n ('dammage', 22),\n ('lieutenant', 22),\n ('temple', 22),\n ('preached', 22),\n ('artificiall', 21),\n ('constitution', 21),\n ('diversity', 21),\n ('produce', 21),\n ('rise', 21),\n ('caesar', 21),\n ('possessed', 21),\n ('alone', 21),\n ('ariseth', 21),\n ('kinds', 21),\n ('seek', 21),\n ('supernaturally', 21),\n ('fourthly', 21),\n ('selves', 21),\n ('respect', 21),\n ('attributes', 21),\n ('writers', 21),\n ('politiques', 21),\n ('family', 21),\n ('expressed', 21),\n ('depend', 21),\n ('councell', 21),\n ('withall', 21),\n ('interpret', 21),\n ('head', 21),\n ('empire', 21),\n ('home', 21),\n ('disposeth', 21),\n ('excuse', 21),\n ('necessity', 21),\n ('sam', 21),\n ('grant', 21),\n ('promised', 21),\n ('debt', 21),\n ('assemblies', 21),\n ('dominions', 21),\n ('democracy', 21),\n ('sole', 21),\n ('mount', 21),\n ('wicked', 21),\n ('flesh', 21),\n ('performe', 20),\n ('safety', 20),\n ('thereunto', 20),\n ('degrees', 20),\n ('latines', 20),\n ('weak', 20),\n ('againe', 20),\n ('sleep', 20),\n ('anger', 20),\n ('visions', 20),\n ('beasts', 20),\n ('scope', 20),\n ('gotten', 20),\n ('apt', 20),\n ('imposition', 20),\n ('expect', 20),\n ('positive', 20),\n ('bread', 20),\n ('mentioned', 20),\n ('phantasmes', 20),\n ('fourth', 20),\n ('sayes', 20),\n ('employment', 20),\n ('inspiration', 20),\n ('antient', 20),\n ('victory', 20),\n ('titles', 20),\n ('gifts', 20),\n ('agree', 20),\n ('mouth', 20),\n ('oblige', 20),\n ('condemned', 20),\n ('bind', 20),\n ('maintenance', 20),\n ('governours', 20),\n ('aristocracy', 20),\n ('fathers', 20),\n ('eat', 20),\n ('schools', 20),\n ('side', 19),\n ('eternally', 19),\n ('considering', 19),\n ('proceeds', 19),\n ('taketh', 19),\n ('worshipped', 19),\n ('turn', 19),\n ('supposing', 19),\n ('child', 19),\n ('infinite', 19),\n ('adde', 19),\n ('proceeded', 19),\n ('mother', 19),\n ('significations', 19),\n ('added', 19),\n ('wayes', 19),\n ('fortune', 19),\n ('farre', 19),\n ('contention', 19),\n ('pretence', 19),\n ('necessarily', 19),\n ('prayer', 19),\n ('enjoy', 19),\n ('profit', 19),\n ('daemons', 19),\n ('commit', 19),\n ('esteemed', 19),\n ('perpetuall', 19),\n ('torments', 19),\n ('seed', 19),\n ('accuse', 19),\n ('since', 19),\n ('render', 19),\n ('egypt', 19),\n ('build', 19),\n ('voyd', 19),\n ('appoint', 19),\n ('interpreter', 19),\n ('answered', 19),\n ('sacrifice', 19),\n ('beleef', 19),\n ('canonicall', 19),\n ('converted', 19),\n ('devill', 19),\n ('saviours', 19),\n ('quality', 18),\n ('tongue', 18),\n ('motions', 18),\n ('hence', 18),\n ('obscure', 18),\n ('night', 18),\n ('fancies', 18),\n ('credit', 18),\n ('ask', 18),\n ('roman', 18),\n ('event', 18),\n ('born', 18),\n ('learned', 18),\n ('instruction', 18),\n ('rebellion', 18),\n ('wrong', 18),\n ('conclude', 18),\n ('examine', 18),\n ('avoyd', 18),\n ('calleth', 18),\n ('controversies', 18),\n ('aversion', 18),\n ('honourable', 18),\n ('sudden', 18),\n ('form', 18),\n ('insomuch', 18),\n ('pay', 18),\n ('abroad', 18),\n ('questions', 18),\n ('civil', 18),\n ('precepts', 18),\n ('instituted', 18),\n ('resist', 18),\n ('stranger', 18),\n ('protect', 18),\n ('annexed', 18),\n ('senate', 18),\n ('kingdom', 18),\n ('suffer', 18),\n ('capitall', 18),\n ('established', 18),\n ('writer', 18),\n ('doctors', 18),\n ('conversion', 18),\n ('satan', 18),\n ('baptize', 18),\n ('united', 17),\n ('els', 17),\n ('universities', 17),\n ('nay', 17),\n ('cities', 17),\n ('difficult', 17),\n ('notwithstanding', 17),\n ('price', 17),\n ('greatnesse', 17),\n ('begin', 17),\n ('limited', 17),\n ('become', 17),\n ('industry', 17),\n ('philosophers', 17),\n ('commodities', 17),\n ('hitherto', 17),\n ('appetites', 17),\n ('inferre', 17),\n ('controversie', 17),\n ...]"
     },
     "execution_count": 56,
     "metadata": {},
     "output_type": "execute_result"
    }
   ],
   "source": [
    "lev_token_counts = get_token_counts(clean_sent_tokens_lev)\n",
    "lev_token_counts"
   ],
   "metadata": {
    "collapsed": false,
    "pycharm": {
     "name": "#%%\n"
    }
   }
  },
  {
   "cell_type": "code",
   "execution_count": 57,
   "outputs": [
    {
     "data": {
      "text/plain": "['externall',\n 'externall',\n 'externall',\n 'externall',\n 'externall',\n 'externall',\n 'externall',\n 'externall_impediment',\n 'externo',\n 'externall_impediment',\n 'externall',\n 'externall_impediment',\n 'externall',\n 'externall',\n 'externall',\n 'externall',\n 'externall',\n 'externall',\n 'externall',\n 'externall',\n 'externall',\n 'externall',\n 'externall',\n 'externall',\n 'externall',\n 'externall',\n 'externall',\n 'externall',\n 'externall',\n 'externall',\n 'externall',\n 'externall',\n 'externall',\n 'externall',\n 'externall',\n 'externall',\n 'externall']"
     },
     "execution_count": 57,
     "metadata": {},
     "output_type": "execute_result"
    }
   ],
   "source": [
    "lev_tokens = combine_sent_tokens(clean_sent_tokens_lev)\n",
    "[t for t in lev_tokens if \"extern\" in t]"
   ],
   "metadata": {
    "collapsed": false,
    "pycharm": {
     "name": "#%%\n"
    }
   }
  },
  {
   "cell_type": "code",
   "execution_count": 58,
   "outputs": [
    {
     "data": {
      "text/plain": "[('externall_impediment', 3)]"
     },
     "execution_count": 58,
     "metadata": {},
     "output_type": "execute_result"
    }
   ],
   "source": [
    "[c for c in lev_token_counts if \"_\" in c[0]]"
   ],
   "metadata": {
    "collapsed": false,
    "pycharm": {
     "name": "#%%\n"
    }
   }
  },
  {
   "cell_type": "code",
   "execution_count": 59,
   "outputs": [
    {
     "data": {
      "text/plain": "[('free', 53),\n ('freed', 5),\n ('free-gift', 3),\n ('freegift', 1),\n ('free-man', 1),\n ('freemen', 1),\n ('freer', 1)]"
     },
     "execution_count": 59,
     "metadata": {},
     "output_type": "execute_result"
    }
   ],
   "source": [
    "[c for c in lev_token_counts if \"free\" in c[0]]"
   ],
   "metadata": {
    "collapsed": false,
    "pycharm": {
     "name": "#%%\n"
    }
   }
  },
  {
   "cell_type": "code",
   "execution_count": 60,
   "outputs": [
    {
     "data": {
      "text/plain": "[('liberty', 154), ('libertines', 3)]"
     },
     "execution_count": 60,
     "metadata": {},
     "output_type": "execute_result"
    }
   ],
   "source": [
    "[c for c in lev_token_counts if \"libert\" in c[0]]"
   ],
   "metadata": {
    "collapsed": false,
    "pycharm": {
     "name": "#%%\n"
    }
   }
  },
  {
   "cell_type": "code",
   "execution_count": 61,
   "outputs": [
    {
     "data": {
      "text/plain": "[('fear', 183)]"
     },
     "execution_count": 61,
     "metadata": {},
     "output_type": "execute_result"
    }
   ],
   "source": [
    "[c for c in lev_token_counts if \"fear\" in c[0]]"
   ],
   "metadata": {
    "collapsed": false,
    "pycharm": {
     "name": "#%%\n"
    }
   }
  },
  {
   "cell_type": "code",
   "execution_count": 62,
   "outputs": [
    {
     "data": {
      "text/plain": "[('externall', 33), ('externall_impediment', 3), ('externo', 1)]"
     },
     "execution_count": 62,
     "metadata": {},
     "output_type": "execute_result"
    }
   ],
   "source": [
    "[c for c in lev_token_counts if \"extern\" in c[0]]"
   ],
   "metadata": {
    "collapsed": false,
    "pycharm": {
     "name": "#%%\n"
    }
   }
  },
  {
   "cell_type": "code",
   "execution_count": 63,
   "outputs": [
    {
     "data": {
      "text/plain": "[('impediment', 9), ('externall_impediment', 3)]"
     },
     "execution_count": 63,
     "metadata": {},
     "output_type": "execute_result"
    }
   ],
   "source": [
    "[c for c in lev_token_counts if \"imped\" in c[0]]"
   ],
   "metadata": {
    "collapsed": false,
    "pycharm": {
     "name": "#%%\n"
    }
   }
  },
  {
   "cell_type": "code",
   "execution_count": 64,
   "outputs": [],
   "source": [
    "lev_model = Word2Vec(sentences=clean_sent_tokens_lev, vector_size=2, window=global_window,\n",
    "                     min_count=1, workers=4, epochs=global_epochs)\n",
    "\n",
    "lev_model.save(\"w2v_leviathan.model\")"
   ],
   "metadata": {
    "collapsed": false,
    "pycharm": {
     "name": "#%%\n"
    }
   }
  },
  {
   "cell_type": "code",
   "execution_count": 65,
   "outputs": [],
   "source": [
    "#model.most_similar(positive=['woman', 'king'], negative=['man'], topn=1)"
   ],
   "metadata": {
    "collapsed": false,
    "pycharm": {
     "name": "#%%\n"
    }
   }
  },
  {
   "cell_type": "code",
   "execution_count": 65,
   "outputs": [],
   "source": [],
   "metadata": {
    "collapsed": false,
    "pycharm": {
     "name": "#%%\n"
    }
   }
  },
  {
   "cell_type": "code",
   "execution_count": 66,
   "outputs": [],
   "source": [
    "# If moving to Colab\n",
    "#pyperclip.copy(str(w2v_rows))"
   ],
   "metadata": {
    "collapsed": false,
    "pycharm": {
     "name": "#%%\n"
    }
   }
  },
  {
   "cell_type": "code",
   "execution_count": 67,
   "outputs": [],
   "source": [
    "lev_df = get_embedding_df(lev_model)"
   ],
   "metadata": {
    "collapsed": false,
    "pycharm": {
     "name": "#%%\n"
    }
   }
  },
  {
   "cell_type": "code",
   "execution_count": 68,
   "outputs": [
    {
     "data": {
      "text/plain": "                   token         x         y\n0              authority  2.404587  3.981800\n1                 christ  4.982621 -7.700631\n2                 civill  2.810420  5.670979\n3          common-wealth  4.146952  9.405495\n4   externall_impediment  1.248701 -0.720720\n5                   fear  2.110340  2.996876\n6                   free  1.934815  1.712980\n7             government  3.302604  8.132058\n8                   holy  5.239315 -7.435640\n9                justice  3.321737  7.448581\n10                  king  2.253395 -2.135239\n11              kingdome  3.637099 -5.454533\n12                   law  3.047801  5.627185\n13               liberty  3.645709  8.718163\n14                  lord  6.149326 -9.386824\n15                  obey  2.001614  2.231358\n16                 power  2.635231  4.666365\n17             soveraign  4.026141  8.216763",
      "text/html": "<div>\n<style scoped>\n    .dataframe tbody tr th:only-of-type {\n        vertical-align: middle;\n    }\n\n    .dataframe tbody tr th {\n        vertical-align: top;\n    }\n\n    .dataframe thead th {\n        text-align: right;\n    }\n</style>\n<table border=\"1\" class=\"dataframe\">\n  <thead>\n    <tr style=\"text-align: right;\">\n      <th></th>\n      <th>token</th>\n      <th>x</th>\n      <th>y</th>\n    </tr>\n  </thead>\n  <tbody>\n    <tr>\n      <th>0</th>\n      <td>authority</td>\n      <td>2.404587</td>\n      <td>3.981800</td>\n    </tr>\n    <tr>\n      <th>1</th>\n      <td>christ</td>\n      <td>4.982621</td>\n      <td>-7.700631</td>\n    </tr>\n    <tr>\n      <th>2</th>\n      <td>civill</td>\n      <td>2.810420</td>\n      <td>5.670979</td>\n    </tr>\n    <tr>\n      <th>3</th>\n      <td>common-wealth</td>\n      <td>4.146952</td>\n      <td>9.405495</td>\n    </tr>\n    <tr>\n      <th>4</th>\n      <td>externall_impediment</td>\n      <td>1.248701</td>\n      <td>-0.720720</td>\n    </tr>\n    <tr>\n      <th>5</th>\n      <td>fear</td>\n      <td>2.110340</td>\n      <td>2.996876</td>\n    </tr>\n    <tr>\n      <th>6</th>\n      <td>free</td>\n      <td>1.934815</td>\n      <td>1.712980</td>\n    </tr>\n    <tr>\n      <th>7</th>\n      <td>government</td>\n      <td>3.302604</td>\n      <td>8.132058</td>\n    </tr>\n    <tr>\n      <th>8</th>\n      <td>holy</td>\n      <td>5.239315</td>\n      <td>-7.435640</td>\n    </tr>\n    <tr>\n      <th>9</th>\n      <td>justice</td>\n      <td>3.321737</td>\n      <td>7.448581</td>\n    </tr>\n    <tr>\n      <th>10</th>\n      <td>king</td>\n      <td>2.253395</td>\n      <td>-2.135239</td>\n    </tr>\n    <tr>\n      <th>11</th>\n      <td>kingdome</td>\n      <td>3.637099</td>\n      <td>-5.454533</td>\n    </tr>\n    <tr>\n      <th>12</th>\n      <td>law</td>\n      <td>3.047801</td>\n      <td>5.627185</td>\n    </tr>\n    <tr>\n      <th>13</th>\n      <td>liberty</td>\n      <td>3.645709</td>\n      <td>8.718163</td>\n    </tr>\n    <tr>\n      <th>14</th>\n      <td>lord</td>\n      <td>6.149326</td>\n      <td>-9.386824</td>\n    </tr>\n    <tr>\n      <th>15</th>\n      <td>obey</td>\n      <td>2.001614</td>\n      <td>2.231358</td>\n    </tr>\n    <tr>\n      <th>16</th>\n      <td>power</td>\n      <td>2.635231</td>\n      <td>4.666365</td>\n    </tr>\n    <tr>\n      <th>17</th>\n      <td>soveraign</td>\n      <td>4.026141</td>\n      <td>8.216763</td>\n    </tr>\n  </tbody>\n</table>\n</div>"
     },
     "execution_count": 68,
     "metadata": {},
     "output_type": "execute_result"
    }
   ],
   "source": [
    "lev_df"
   ],
   "metadata": {
    "collapsed": false,
    "pycharm": {
     "name": "#%%\n"
    }
   }
  },
  {
   "cell_type": "code",
   "execution_count": 69,
   "outputs": [],
   "source": [
    "point_adjustments_lev = {\n",
    "    #'authority': [0,-0.1],\n",
    "    #'obligation': np.array([0,0.5]),\n",
    "    #'common-wealth': np.array([0,-0.5]),\n",
    "    #'liberty': [0,-0.4],\n",
    "    'government': [0.0,-0.1],\n",
    "    'justice': [0.0,-0.1],\n",
    "    #'law': np.array([0,0.1]),\n",
    "    'civill': [0.1,0.1],\n",
    "    'holy': [0,0.1],\n",
    "    'power': [0,0.0],\n",
    "    'soveraign': [0.0,0.1],\n",
    "    'christ': [0.0,-0.1],\n",
    "}\n",
    "label_adjustments_lev = {\n",
    "\n",
    "}\n",
    "# And adjust the vals accordingly\n",
    "lev_df.set_index('token', inplace=True)\n",
    "for adj_word, adj_shift in point_adjustments_lev.items():\n",
    "    lev_df.loc[adj_word] = lev_df.loc[adj_word] + np.array(adj_shift)\n",
    "lev_df.reset_index(inplace=True)"
   ],
   "metadata": {
    "collapsed": false,
    "pycharm": {
     "name": "#%%\n"
    }
   }
  },
  {
   "cell_type": "code",
   "execution_count": 70,
   "outputs": [
    {
     "data": {
      "text/plain": "                   token         x         y\n0              authority  2.404587  3.981800\n1                 christ  4.982621 -7.800631\n2                 civill  2.910420  5.770978\n3          common-wealth  4.146952  9.405495\n4   externall_impediment  1.248701 -0.720720\n5                   fear  2.110340  2.996876\n6                   free  1.934815  1.712980\n7             government  3.302604  8.032058\n8                   holy  5.239315 -7.335640\n9                justice  3.321737  7.348581\n10                  king  2.253395 -2.135239\n11              kingdome  3.637099 -5.454533\n12                   law  3.047801  5.627185\n13               liberty  3.645709  8.718163\n14                  lord  6.149326 -9.386824\n15                  obey  2.001614  2.231358\n16                 power  2.635231  4.666365\n17             soveraign  4.026141  8.316763",
      "text/html": "<div>\n<style scoped>\n    .dataframe tbody tr th:only-of-type {\n        vertical-align: middle;\n    }\n\n    .dataframe tbody tr th {\n        vertical-align: top;\n    }\n\n    .dataframe thead th {\n        text-align: right;\n    }\n</style>\n<table border=\"1\" class=\"dataframe\">\n  <thead>\n    <tr style=\"text-align: right;\">\n      <th></th>\n      <th>token</th>\n      <th>x</th>\n      <th>y</th>\n    </tr>\n  </thead>\n  <tbody>\n    <tr>\n      <th>0</th>\n      <td>authority</td>\n      <td>2.404587</td>\n      <td>3.981800</td>\n    </tr>\n    <tr>\n      <th>1</th>\n      <td>christ</td>\n      <td>4.982621</td>\n      <td>-7.800631</td>\n    </tr>\n    <tr>\n      <th>2</th>\n      <td>civill</td>\n      <td>2.910420</td>\n      <td>5.770978</td>\n    </tr>\n    <tr>\n      <th>3</th>\n      <td>common-wealth</td>\n      <td>4.146952</td>\n      <td>9.405495</td>\n    </tr>\n    <tr>\n      <th>4</th>\n      <td>externall_impediment</td>\n      <td>1.248701</td>\n      <td>-0.720720</td>\n    </tr>\n    <tr>\n      <th>5</th>\n      <td>fear</td>\n      <td>2.110340</td>\n      <td>2.996876</td>\n    </tr>\n    <tr>\n      <th>6</th>\n      <td>free</td>\n      <td>1.934815</td>\n      <td>1.712980</td>\n    </tr>\n    <tr>\n      <th>7</th>\n      <td>government</td>\n      <td>3.302604</td>\n      <td>8.032058</td>\n    </tr>\n    <tr>\n      <th>8</th>\n      <td>holy</td>\n      <td>5.239315</td>\n      <td>-7.335640</td>\n    </tr>\n    <tr>\n      <th>9</th>\n      <td>justice</td>\n      <td>3.321737</td>\n      <td>7.348581</td>\n    </tr>\n    <tr>\n      <th>10</th>\n      <td>king</td>\n      <td>2.253395</td>\n      <td>-2.135239</td>\n    </tr>\n    <tr>\n      <th>11</th>\n      <td>kingdome</td>\n      <td>3.637099</td>\n      <td>-5.454533</td>\n    </tr>\n    <tr>\n      <th>12</th>\n      <td>law</td>\n      <td>3.047801</td>\n      <td>5.627185</td>\n    </tr>\n    <tr>\n      <th>13</th>\n      <td>liberty</td>\n      <td>3.645709</td>\n      <td>8.718163</td>\n    </tr>\n    <tr>\n      <th>14</th>\n      <td>lord</td>\n      <td>6.149326</td>\n      <td>-9.386824</td>\n    </tr>\n    <tr>\n      <th>15</th>\n      <td>obey</td>\n      <td>2.001614</td>\n      <td>2.231358</td>\n    </tr>\n    <tr>\n      <th>16</th>\n      <td>power</td>\n      <td>2.635231</td>\n      <td>4.666365</td>\n    </tr>\n    <tr>\n      <th>17</th>\n      <td>soveraign</td>\n      <td>4.026141</td>\n      <td>8.316763</td>\n    </tr>\n  </tbody>\n</table>\n</div>"
     },
     "execution_count": 70,
     "metadata": {},
     "output_type": "execute_result"
    }
   ],
   "source": [
    "lev_df"
   ],
   "metadata": {
    "collapsed": false,
    "pycharm": {
     "name": "#%%\n"
    }
   }
  },
  {
   "cell_type": "code",
   "execution_count": 70,
   "outputs": [],
   "source": [],
   "metadata": {
    "collapsed": false,
    "pycharm": {
     "name": "#%%\n"
    }
   }
  },
  {
   "cell_type": "code",
   "execution_count": 71,
   "outputs": [
    {
     "data": {
      "text/plain": "<Figure size 432x288 with 1 Axes>",
      "image/png": "[encoded data removed]"
     },
     "metadata": {},
     "output_type": "display_data"
    }
   ],
   "source": [
    "# Seaborn globals\n",
    "sns.set(rc={'figure.figsize':(10,6)})\n",
    "sns.set_theme(style=\"whitegrid\")\n",
    "word_plot = sns.scatterplot(data=lev_df,x='x',y='y')\n",
    "word_plot.grid(False)\n",
    "word_plot.set_xticks([])\n",
    "word_plot.set_yticks([])\n",
    "word_plot.set_title(\"Word Embeddings for Hobbes' Leviathan (1651)\", fontdict={'size':14})\n",
    "label_points(lev_df.x, lev_df.y, lev_df.token, plt.gca(), x_offset=0.1, adjustments=label_adjustments_lev)\n",
    "plt.tight_layout()\n",
    "fig_output_fpath = os.path.join(fig_path, 'leviathan_embeddings.svg')\n",
    "plt.savefig(fig_output_fpath)"
   ],
   "metadata": {
    "collapsed": false,
    "pycharm": {
     "name": "#%%\n"
    }
   }
  },
  {
   "cell_type": "code",
   "execution_count": 72,
   "outputs": [
    {
     "data": {
      "text/plain": "                   token         x         y\n0              authority  2.404587  3.981800\n1                 christ  4.982621 -7.800631\n2                 civill  2.910420  5.770978\n3          common-wealth  4.146952  9.405495\n4   externall_impediment  1.248701 -0.720720\n5                   fear  2.110340  2.996876\n6                   free  1.934815  1.712980\n7             government  3.302604  8.032058\n8                   holy  5.239315 -7.335640\n9                justice  3.321737  7.348581\n10                  king  2.253395 -2.135239\n11              kingdome  3.637099 -5.454533\n12                   law  3.047801  5.627185\n13               liberty  3.645709  8.718163\n14                  lord  6.149326 -9.386824\n15                  obey  2.001614  2.231358\n16                 power  2.635231  4.666365\n17             soveraign  4.026141  8.316763",
      "text/html": "<div>\n<style scoped>\n    .dataframe tbody tr th:only-of-type {\n        vertical-align: middle;\n    }\n\n    .dataframe tbody tr th {\n        vertical-align: top;\n    }\n\n    .dataframe thead th {\n        text-align: right;\n    }\n</style>\n<table border=\"1\" class=\"dataframe\">\n  <thead>\n    <tr style=\"text-align: right;\">\n      <th></th>\n      <th>token</th>\n      <th>x</th>\n      <th>y</th>\n    </tr>\n  </thead>\n  <tbody>\n    <tr>\n      <th>0</th>\n      <td>authority</td>\n      <td>2.404587</td>\n      <td>3.981800</td>\n    </tr>\n    <tr>\n      <th>1</th>\n      <td>christ</td>\n      <td>4.982621</td>\n      <td>-7.800631</td>\n    </tr>\n    <tr>\n      <th>2</th>\n      <td>civill</td>\n      <td>2.910420</td>\n      <td>5.770978</td>\n    </tr>\n    <tr>\n      <th>3</th>\n      <td>common-wealth</td>\n      <td>4.146952</td>\n      <td>9.405495</td>\n    </tr>\n    <tr>\n      <th>4</th>\n      <td>externall_impediment</td>\n      <td>1.248701</td>\n      <td>-0.720720</td>\n    </tr>\n    <tr>\n      <th>5</th>\n      <td>fear</td>\n      <td>2.110340</td>\n      <td>2.996876</td>\n    </tr>\n    <tr>\n      <th>6</th>\n      <td>free</td>\n      <td>1.934815</td>\n      <td>1.712980</td>\n    </tr>\n    <tr>\n      <th>7</th>\n      <td>government</td>\n      <td>3.302604</td>\n      <td>8.032058</td>\n    </tr>\n    <tr>\n      <th>8</th>\n      <td>holy</td>\n      <td>5.239315</td>\n      <td>-7.335640</td>\n    </tr>\n    <tr>\n      <th>9</th>\n      <td>justice</td>\n      <td>3.321737</td>\n      <td>7.348581</td>\n    </tr>\n    <tr>\n      <th>10</th>\n      <td>king</td>\n      <td>2.253395</td>\n      <td>-2.135239</td>\n    </tr>\n    <tr>\n      <th>11</th>\n      <td>kingdome</td>\n      <td>3.637099</td>\n      <td>-5.454533</td>\n    </tr>\n    <tr>\n      <th>12</th>\n      <td>law</td>\n      <td>3.047801</td>\n      <td>5.627185</td>\n    </tr>\n    <tr>\n      <th>13</th>\n      <td>liberty</td>\n      <td>3.645709</td>\n      <td>8.718163</td>\n    </tr>\n    <tr>\n      <th>14</th>\n      <td>lord</td>\n      <td>6.149326</td>\n      <td>-9.386824</td>\n    </tr>\n    <tr>\n      <th>15</th>\n      <td>obey</td>\n      <td>2.001614</td>\n      <td>2.231358</td>\n    </tr>\n    <tr>\n      <th>16</th>\n      <td>power</td>\n      <td>2.635231</td>\n      <td>4.666365</td>\n    </tr>\n    <tr>\n      <th>17</th>\n      <td>soveraign</td>\n      <td>4.026141</td>\n      <td>8.316763</td>\n    </tr>\n  </tbody>\n</table>\n</div>"
     },
     "execution_count": 72,
     "metadata": {},
     "output_type": "execute_result"
    }
   ],
   "source": [
    "lev_df"
   ],
   "metadata": {
    "collapsed": false,
    "pycharm": {
     "name": "#%%\n"
    }
   }
  },
  {
   "cell_type": "code",
   "execution_count": 73,
   "outputs": [
    {
     "data": {
      "text/plain": "(1.2487009, 6.1493263)"
     },
     "execution_count": 73,
     "metadata": {},
     "output_type": "execute_result"
    }
   ],
   "source": [
    "lev_df['x'].min(), lev_df['x'].max()"
   ],
   "metadata": {
    "collapsed": false,
    "pycharm": {
     "name": "#%%\n"
    }
   }
  },
  {
   "cell_type": "code",
   "execution_count": 74,
   "outputs": [],
   "source": [
    "class PointData:\n",
    "    def __init__(self, x, y, label):\n",
    "        self.x = x\n",
    "        self.y = y\n",
    "        self.label = label\n",
    "\n",
    "    def __str__(self):\n",
    "        escaped_label = self.label.replace(\"_\",\"\\\\_\")\n",
    "        #quoted_label = \"\\\"\" + escaped_label + \"\\\"\"\n",
    "        styled_label = \"\\\\entpgf{\" + escaped_label + \"}\"\n",
    "        return f\"({self.x}, {self.y})[{styled_label}]\"\n",
    "\n",
    "tikz_start = \"\"\"\n",
    "\t\\\\begin{tikzpicture}\n",
    "\t\t\\\\begin{axis}[axis lines=center,\n",
    "\t\t\txmin=!pyxmin!, xmax=!pyxmax!,\n",
    "\t\t\tymin=!pyymin!-!pyycap!, ymax=!pyymax!+!pyycap!,\n",
    "\t\t\txtick={!pyxmin!,!pyxmax!},ytick={!pyymin!,!pyymax!},\n",
    "\t\t\txlabel=$x$,ylabel=$y$,\n",
    "\t\t\tx label style={anchor=west},\n",
    "\t\t\ty label style={anchor=south},\n",
    "\t\t\twidth=\\\\textwidth\n",
    "\t\t\t]\n",
    "\t\t\t\\\\addplot+[only marks,point meta=explicit symbolic, nodes near coords] coordinates\n",
    "\t\t\t{\n",
    "\"\"\"\n",
    "tikz_end = \"\"\"\n",
    "    };\n",
    "    \\\\end{axis}\n",
    "\t\\\\end{tikzpicture}\n",
    "\"\"\"\n",
    "\n",
    "tikz_header = \"\"\"\n",
    "\\\\usepackage{amsmath}\n",
    "\\\\usepackage{amssymb}\n",
    "\\\\usepackage{mathtools}\n",
    "\\\\usepackage{fullpage}\n",
    "\\\\usepackage[T1]{fontenc}\n",
    "\\\\usepackage{lmodern}\n",
    "\\\\usepackage{tikz}\n",
    "\\\\usetikzlibrary{calc,intersections,through,backgrounds}\n",
    "\\\\usetikzlibrary{bayesnet}\n",
    "\\\\usepackage{tikzscale}\n",
    "\\\\usepackage{tkz-euclide}\n",
    "\\\\usepackage{tcolorbox}\n",
    "\\\\tcbuselibrary{skins,breakable}\n",
    "% pgfplots\n",
    "\\\\usepackage{pgfplots}\n",
    "\\\\pgfplotsset{compat=1.8}\n",
    "% For entities in pgfplots\n",
    "\\\\newcommand{\\entpgf}[1]{\\\\texttt{#1}}\n",
    "\"\"\"\n",
    "\n",
    "def custom_latex_export(df, self_contained=False):\n",
    "    pd_list = []\n",
    "    for row_index, row in df.iterrows():\n",
    "        cur_pd = PointData(row['x'], row['y'], row['token'])\n",
    "        pd_list.append(str(cur_pd))\n",
    "    pd_str = \"\\n\".join(pd_list)\n",
    "    pyxmin = math.floor(df['x'].min())\n",
    "    pyxmax = math.ceil(df['x'].max())\n",
    "    pyymin = math.floor(df['y'].min())\n",
    "    pyymax = math.ceil(df['y'].max())\n",
    "    tex_start_lims = tikz_start\n",
    "    tex_start_lims = tex_start_lims.replace(\"!pyxmin!\",str(pyxmin)).replace(\"!pyxmax!\",str(pyxmax))\n",
    "    tex_start_lims = tex_start_lims.replace(\"!pyymin!\",str(pyymin)).replace(\"!pyymax!\",str(pyymax))\n",
    "    # Extend the axis a bit past the min/max\n",
    "    pyyrange = pyymax - pyymin\n",
    "    pyycap = 0.02 * pyyrange\n",
    "    tex_start_lims = tex_start_lims.replace(\"!pyycap!\", str(pyycap))\n",
    "    return_str = tex_start_lims + pd_str + tikz_end\n",
    "    if self_contained:\n",
    "        # Wrap it in a document\n",
    "        doc_start = \"\\\\documentclass{article}\\n\" + tikz_header + \"\\n\\\\begin{document}\\n\"\n",
    "        doc_end = \"\\n\\\\end{document}\"\n",
    "        wrap_str = doc_start + return_str + doc_end\n",
    "        return wrap_str\n",
    "    return return_str\n",
    "# For previewing\n",
    "#tex_str = custom_latex_export(lev_df, self_contained=True)\n",
    "#pyperclip.copy(tex_str)\n",
    "# For exporting\n",
    "tex_str = custom_latex_export(lev_df)\n",
    "pyperclip.copy(tex_str)\n",
    "tex_output_fpath = os.path.join(fig_path, \"hobbes_embeddings.tex\")\n",
    "with open(tex_output_fpath, 'w', encoding='utf-8') as outfile:\n",
    "    outfile.write(tex_str)"
   ],
   "metadata": {
    "collapsed": false,
    "pycharm": {
     "name": "#%%\n"
    }
   }
  },
  {
   "cell_type": "markdown",
   "source": [
    "### And now get the word-context matrix for these terms"
   ],
   "metadata": {
    "collapsed": false,
    "pycharm": {
     "name": "#%% md\n"
    }
   }
  },
  {
   "cell_type": "code",
   "execution_count": 75,
   "outputs": [],
   "source": [
    "lev_sent_tokens_combined = []\n",
    "for cur_sent_tokens in clean_sent_tokens_lev:\n",
    "    lev_sent_tokens_combined.extend(cur_sent_tokens)"
   ],
   "metadata": {
    "collapsed": false,
    "pycharm": {
     "name": "#%%\n"
    }
   }
  },
  {
   "cell_type": "code",
   "execution_count": 76,
   "outputs": [
    {
     "name": "stderr",
     "output_type": "stream",
     "text": [
      "100%|██████████| 94314/94314 [00:00<00:00, 1088643.80it/s]\n"
     ]
    }
   ],
   "source": [
    "lev_ngrams = list(compute_ngrams(lev_sent_tokens_combined, 21))\n",
    "#len(lev_ngrams)\n",
    "lev_kw_pair_counts = {kw_pair: 0 for kw_pair in kw_pairs}\n",
    "#print(lev_kw_pair_counts)\n",
    "for cur_ngram in tqdm(lev_ngrams):\n",
    "    center_word = cur_ngram[10]\n",
    "    if center_word not in keywords:\n",
    "        continue\n",
    "    # If we're here, we know the center word is a keyword\n",
    "    for cur_context_token in cur_ngram:\n",
    "        if cur_context_token in keywords:\n",
    "            # Get the pair in alpha order\n",
    "            kw_pair_tuple = (center_word, cur_context_token)\n",
    "            alpha_tuple = tuple(sorted(kw_pair_tuple))\n",
    "            lev_kw_pair_counts[alpha_tuple] += 1"
   ],
   "metadata": {
    "collapsed": false,
    "pycharm": {
     "name": "#%%\n"
    }
   }
  },
  {
   "cell_type": "code",
   "execution_count": 77,
   "outputs": [
    {
     "data": {
      "text/plain": "{('authority', 'authority'): 425,\n ('authority', 'christ'): 54,\n ('authority', 'civill'): 68,\n ('authority', 'common-wealth'): 134,\n ('authority', 'externall_impediment'): 0,\n ('authority', 'fear'): 2,\n ('authority', 'free'): 0,\n ('authority', 'government'): 12,\n ('authority', 'holy'): 18,\n ('authority', 'justice'): 4,\n ('authority', 'king'): 98,\n ('authority', 'kingdome'): 38,\n ('authority', 'law'): 256,\n ('authority', 'liberty'): 14,\n ('authority', 'lord'): 6,\n ('authority', 'obey'): 34,\n ('authority', 'power'): 140,\n ('authority', 'soveraign'): 224,\n ('christ', 'authority'): 0,\n ('christ', 'christ'): 727,\n ('christ', 'civill'): 18,\n ('christ', 'common-wealth'): 12,\n ('christ', 'externall_impediment'): 0,\n ('christ', 'fear'): 2,\n ('christ', 'free'): 8,\n ('christ', 'government'): 4,\n ('christ', 'holy'): 50,\n ('christ', 'justice'): 0,\n ('christ', 'king'): 130,\n ('christ', 'kingdome'): 130,\n ('christ', 'law'): 74,\n ('christ', 'liberty'): 4,\n ('christ', 'lord'): 40,\n ('christ', 'obey'): 42,\n ('christ', 'power'): 80,\n ('christ', 'soveraign'): 32,\n ('civill', 'authority'): 0,\n ('civill', 'christ'): 0,\n ('civill', 'civill'): 414,\n ('civill', 'common-wealth'): 150,\n ('civill', 'externall_impediment'): 0,\n ('civill', 'fear'): 24,\n ('civill', 'free'): 8,\n ('civill', 'government'): 76,\n ('civill', 'holy'): 10,\n ('civill', 'justice'): 20,\n ('civill', 'king'): 92,\n ('civill', 'kingdome'): 40,\n ('civill', 'law'): 562,\n ('civill', 'liberty'): 26,\n ('civill', 'lord'): 6,\n ('civill', 'obey'): 66,\n ('civill', 'power'): 236,\n ('civill', 'soveraign'): 278,\n ('common-wealth', 'authority'): 0,\n ('common-wealth', 'christ'): 0,\n ('common-wealth', 'civill'): 0,\n ('common-wealth', 'common-wealth'): 598,\n ('common-wealth', 'externall_impediment'): 0,\n ('common-wealth', 'fear'): 18,\n ('common-wealth', 'free'): 8,\n ('common-wealth', 'government'): 36,\n ('common-wealth', 'holy'): 0,\n ('common-wealth', 'justice'): 38,\n ('common-wealth', 'king'): 34,\n ('common-wealth', 'kingdome'): 22,\n ('common-wealth', 'law'): 444,\n ('common-wealth', 'liberty'): 48,\n ('common-wealth', 'lord'): 8,\n ('common-wealth', 'obey'): 62,\n ('common-wealth', 'power'): 216,\n ('common-wealth', 'soveraign'): 320,\n ('externall_impediment', 'authority'): 0,\n ('externall_impediment', 'christ'): 0,\n ('externall_impediment', 'civill'): 0,\n ('externall_impediment', 'common-wealth'): 0,\n ('externall_impediment', 'externall_impediment'): 3,\n ('externall_impediment', 'fear'): 0,\n ('externall_impediment', 'free'): 2,\n ('externall_impediment', 'government'): 0,\n ('externall_impediment', 'holy'): 0,\n ('externall_impediment', 'justice'): 0,\n ('externall_impediment', 'king'): 0,\n ('externall_impediment', 'kingdome'): 0,\n ('externall_impediment', 'law'): 0,\n ('externall_impediment', 'liberty'): 12,\n ('externall_impediment', 'lord'): 0,\n ('externall_impediment', 'obey'): 0,\n ('externall_impediment', 'power'): 2,\n ('externall_impediment', 'soveraign'): 0,\n ('fear', 'authority'): 0,\n ('fear', 'christ'): 0,\n ('fear', 'civill'): 0,\n ('fear', 'common-wealth'): 0,\n ('fear', 'externall_impediment'): 0,\n ('fear', 'fear'): 259,\n ('fear', 'free'): 2,\n ('fear', 'government'): 4,\n ('fear', 'holy'): 2,\n ('fear', 'justice'): 12,\n ('fear', 'king'): 2,\n ('fear', 'kingdome'): 2,\n ('fear', 'law'): 42,\n ('fear', 'liberty'): 30,\n ('fear', 'lord'): 6,\n ('fear', 'obey'): 26,\n ('fear', 'power'): 98,\n ('fear', 'soveraign'): 28,\n ('free', 'authority'): 0,\n ('free', 'christ'): 0,\n ('free', 'civill'): 0,\n ('free', 'common-wealth'): 0,\n ('free', 'externall_impediment'): 0,\n ('free', 'fear'): 0,\n ('free', 'free'): 91,\n ('free', 'government'): 4,\n ('free', 'holy'): 0,\n ('free', 'justice'): 0,\n ('free', 'king'): 0,\n ('free', 'kingdome'): 2,\n ('free', 'law'): 36,\n ('free', 'liberty'): 46,\n ('free', 'lord'): 0,\n ('free', 'obey'): 4,\n ('free', 'power'): 16,\n ('free', 'soveraign'): 4,\n ('government', 'authority'): 0,\n ('government', 'christ'): 0,\n ('government', 'civill'): 0,\n ('government', 'common-wealth'): 0,\n ('government', 'externall_impediment'): 0,\n ('government', 'fear'): 0,\n ('government', 'free'): 0,\n ('government', 'government'): 204,\n ('government', 'holy'): 0,\n ('government', 'justice'): 4,\n ('government', 'king'): 40,\n ('government', 'kingdome'): 16,\n ('government', 'law'): 54,\n ('government', 'liberty'): 12,\n ('government', 'lord'): 2,\n ('government', 'obey'): 16,\n ('government', 'power'): 58,\n ('government', 'soveraign'): 60,\n ('holy', 'authority'): 0,\n ('holy', 'christ'): 0,\n ('holy', 'civill'): 0,\n ('holy', 'common-wealth'): 0,\n ('holy', 'externall_impediment'): 0,\n ('holy', 'fear'): 0,\n ('holy', 'free'): 0,\n ('holy', 'government'): 0,\n ('holy', 'holy'): 250,\n ('holy', 'justice'): 2,\n ('holy', 'king'): 28,\n ('holy', 'kingdome'): 24,\n ('holy', 'law'): 14,\n ('holy', 'liberty'): 2,\n ('holy', 'lord'): 14,\n ('holy', 'obey'): 2,\n ('holy', 'power'): 20,\n ('holy', 'soveraign'): 20,\n ('justice', 'authority'): 0,\n ('justice', 'christ'): 0,\n ('justice', 'civill'): 0,\n ('justice', 'common-wealth'): 0,\n ('justice', 'externall_impediment'): 0,\n ('justice', 'fear'): 0,\n ('justice', 'free'): 0,\n ('justice', 'government'): 0,\n ('justice', 'holy'): 0,\n ('justice', 'justice'): 143,\n ('justice', 'king'): 28,\n ('justice', 'kingdome'): 4,\n ('justice', 'law'): 100,\n ('justice', 'liberty'): 0,\n ('justice', 'lord'): 2,\n ('justice', 'obey'): 8,\n ('justice', 'power'): 36,\n ('justice', 'soveraign'): 38,\n ('king', 'authority'): 0,\n ('king', 'christ'): 0,\n ('king', 'civill'): 0,\n ('king', 'common-wealth'): 0,\n ('king', 'externall_impediment'): 0,\n ('king', 'fear'): 0,\n ('king', 'free'): 0,\n ('king', 'government'): 0,\n ('king', 'holy'): 0,\n ('king', 'justice'): 0,\n ('king', 'king'): 599,\n ('king', 'kingdome'): 110,\n ('king', 'law'): 90,\n ('king', 'liberty'): 6,\n ('king', 'lord'): 48,\n ('king', 'obey'): 54,\n ('king', 'power'): 160,\n ('king', 'soveraign'): 126,\n ('kingdome', 'authority'): 0,\n ('kingdome', 'christ'): 0,\n ('kingdome', 'civill'): 0,\n ('kingdome', 'common-wealth'): 0,\n ('kingdome', 'externall_impediment'): 0,\n ('kingdome', 'fear'): 0,\n ('kingdome', 'free'): 0,\n ('kingdome', 'government'): 0,\n ('kingdome', 'holy'): 0,\n ('kingdome', 'justice'): 0,\n ('kingdome', 'king'): 0,\n ('kingdome', 'kingdome'): 432,\n ('kingdome', 'law'): 78,\n ('kingdome', 'liberty'): 0,\n ('kingdome', 'lord'): 12,\n ('kingdome', 'obey'): 38,\n ('kingdome', 'power'): 120,\n ('kingdome', 'soveraign'): 48,\n ('law', 'authority'): 0,\n ('law', 'christ'): 0,\n ('law', 'civill'): 0,\n ('law', 'common-wealth'): 0,\n ('law', 'externall_impediment'): 0,\n ('law', 'fear'): 0,\n ('law', 'free'): 0,\n ('law', 'government'): 0,\n ('law', 'holy'): 0,\n ('law', 'justice'): 0,\n ('law', 'king'): 0,\n ('law', 'kingdome'): 0,\n ('law', 'law'): 2257,\n ('law', 'liberty'): 108,\n ('law', 'lord'): 12,\n ('law', 'obey'): 268,\n ('law', 'power'): 376,\n ('law', 'soveraign'): 560,\n ('liberty', 'authority'): 0,\n ('liberty', 'christ'): 0,\n ('liberty', 'civill'): 0,\n ('liberty', 'common-wealth'): 0,\n ('liberty', 'externall_impediment'): 0,\n ('liberty', 'fear'): 0,\n ('liberty', 'free'): 0,\n ('liberty', 'government'): 0,\n ('liberty', 'holy'): 0,\n ('liberty', 'justice'): 0,\n ('liberty', 'king'): 0,\n ('liberty', 'kingdome'): 0,\n ('liberty', 'law'): 0,\n ('liberty', 'liberty'): 250,\n ('liberty', 'lord'): 0,\n ('liberty', 'obey'): 14,\n ('liberty', 'power'): 50,\n ('liberty', 'soveraign'): 104,\n ('lord', 'authority'): 0,\n ('lord', 'christ'): 0,\n ('lord', 'civill'): 0,\n ('lord', 'common-wealth'): 0,\n ('lord', 'externall_impediment'): 0,\n ('lord', 'fear'): 0,\n ('lord', 'free'): 0,\n ('lord', 'government'): 0,\n ('lord', 'holy'): 0,\n ('lord', 'justice'): 0,\n ('lord', 'king'): 0,\n ('lord', 'kingdome'): 0,\n ('lord', 'law'): 0,\n ('lord', 'liberty'): 0,\n ('lord', 'lord'): 147,\n ('lord', 'obey'): 24,\n ('lord', 'power'): 20,\n ('lord', 'soveraign'): 12,\n ('obey', 'authority'): 0,\n ('obey', 'christ'): 0,\n ('obey', 'civill'): 0,\n ('obey', 'common-wealth'): 0,\n ('obey', 'externall_impediment'): 0,\n ('obey', 'fear'): 0,\n ('obey', 'free'): 0,\n ('obey', 'government'): 0,\n ('obey', 'holy'): 0,\n ('obey', 'justice'): 0,\n ('obey', 'king'): 0,\n ('obey', 'kingdome'): 0,\n ('obey', 'law'): 0,\n ('obey', 'liberty'): 0,\n ('obey', 'lord'): 0,\n ('obey', 'obey'): 359,\n ('obey', 'power'): 94,\n ('obey', 'soveraign'): 124,\n ('power', 'authority'): 0,\n ('power', 'christ'): 0,\n ('power', 'civill'): 0,\n ('power', 'common-wealth'): 0,\n ('power', 'externall_impediment'): 0,\n ('power', 'fear'): 0,\n ('power', 'free'): 0,\n ('power', 'government'): 0,\n ('power', 'holy'): 0,\n ('power', 'justice'): 0,\n ('power', 'king'): 0,\n ('power', 'kingdome'): 0,\n ('power', 'law'): 0,\n ('power', 'liberty'): 0,\n ('power', 'lord'): 0,\n ('power', 'obey'): 0,\n ('power', 'power'): 1071,\n ('power', 'soveraign'): 624,\n ('soveraign', 'authority'): 0,\n ('soveraign', 'christ'): 0,\n ('soveraign', 'civill'): 0,\n ('soveraign', 'common-wealth'): 0,\n ('soveraign', 'externall_impediment'): 0,\n ('soveraign', 'fear'): 0,\n ('soveraign', 'free'): 0,\n ('soveraign', 'government'): 0,\n ('soveraign', 'holy'): 0,\n ('soveraign', 'justice'): 0,\n ('soveraign', 'king'): 0,\n ('soveraign', 'kingdome'): 0,\n ('soveraign', 'law'): 0,\n ('soveraign', 'liberty'): 0,\n ('soveraign', 'lord'): 0,\n ('soveraign', 'obey'): 0,\n ('soveraign', 'power'): 0,\n ('soveraign', 'soveraign'): 983}"
     },
     "execution_count": 77,
     "metadata": {},
     "output_type": "execute_result"
    }
   ],
   "source": [
    "lev_kw_pair_counts"
   ],
   "metadata": {
    "collapsed": false,
    "pycharm": {
     "name": "#%%\n"
    }
   }
  },
  {
   "cell_type": "code",
   "execution_count": 78,
   "outputs": [],
   "source": [
    "#list(itertools.combinations_with_replacement(cur_ngram,2))"
   ],
   "metadata": {
    "collapsed": false,
    "pycharm": {
     "name": "#%%\n"
    }
   }
  },
  {
   "cell_type": "code",
   "execution_count": 79,
   "outputs": [],
   "source": [
    "# And now restrict to just the kw pairs\n",
    "kw_pair_rows = [[k[0],k[1],v] for k, v in lev_kw_pair_counts.items() if k in kw_pairs]"
   ],
   "metadata": {
    "collapsed": false,
    "pycharm": {
     "name": "#%%\n"
    }
   }
  },
  {
   "cell_type": "code",
   "execution_count": 80,
   "outputs": [
    {
     "data": {
      "text/plain": "                          word2  co_freq\nword1                                   \nauthority             authority      425\nauthority                christ       54\nauthority                civill       68\nauthority         common-wealth      134\nauthority  externall_impediment        0\n...                         ...      ...\nsoveraign               liberty        0\nsoveraign                  lord        0\nsoveraign                  obey        0\nsoveraign                 power        0\nsoveraign             soveraign      983\n\n[324 rows x 2 columns]",
      "text/html": "<div>\n<style scoped>\n    .dataframe tbody tr th:only-of-type {\n        vertical-align: middle;\n    }\n\n    .dataframe tbody tr th {\n        vertical-align: top;\n    }\n\n    .dataframe thead th {\n        text-align: right;\n    }\n</style>\n<table border=\"1\" class=\"dataframe\">\n  <thead>\n    <tr style=\"text-align: right;\">\n      <th></th>\n      <th>word2</th>\n      <th>co_freq</th>\n    </tr>\n    <tr>\n      <th>word1</th>\n      <th></th>\n      <th></th>\n    </tr>\n  </thead>\n  <tbody>\n    <tr>\n      <th>authority</th>\n      <td>authority</td>\n      <td>425</td>\n    </tr>\n    <tr>\n      <th>authority</th>\n      <td>christ</td>\n      <td>54</td>\n    </tr>\n    <tr>\n      <th>authority</th>\n      <td>civill</td>\n      <td>68</td>\n    </tr>\n    <tr>\n      <th>authority</th>\n      <td>common-wealth</td>\n      <td>134</td>\n    </tr>\n    <tr>\n      <th>authority</th>\n      <td>externall_impediment</td>\n      <td>0</td>\n    </tr>\n    <tr>\n      <th>...</th>\n      <td>...</td>\n      <td>...</td>\n    </tr>\n    <tr>\n      <th>soveraign</th>\n      <td>liberty</td>\n      <td>0</td>\n    </tr>\n    <tr>\n      <th>soveraign</th>\n      <td>lord</td>\n      <td>0</td>\n    </tr>\n    <tr>\n      <th>soveraign</th>\n      <td>obey</td>\n      <td>0</td>\n    </tr>\n    <tr>\n      <th>soveraign</th>\n      <td>power</td>\n      <td>0</td>\n    </tr>\n    <tr>\n      <th>soveraign</th>\n      <td>soveraign</td>\n      <td>983</td>\n    </tr>\n  </tbody>\n</table>\n<p>324 rows × 2 columns</p>\n</div>"
     },
     "execution_count": 80,
     "metadata": {},
     "output_type": "execute_result"
    }
   ],
   "source": [
    "kw_pair_df = pd.DataFrame(kw_pair_rows, columns=['word1','word2','co_freq'])\n",
    "kw_pair_df.sort_values(by=['word1','word2'], inplace=True)\n",
    "kw_pair_df.set_index('word1', inplace=True)\n",
    "kw_pair_df"
   ],
   "metadata": {
    "collapsed": false,
    "pycharm": {
     "name": "#%%\n"
    }
   }
  },
  {
   "cell_type": "code",
   "execution_count": 81,
   "outputs": [
    {
     "data": {
      "text/plain": "                      authority  christ  civill  common-wealth  \\\nauthority                   425      54      68            134   \nchrist                       54     727      18             12   \ncivill                       68      18     414            150   \ncommon-wealth               134      12     150            598   \nexternall_impediment          0       0       0              0   \nfear                          2       2      24             18   \nfree                          0       8       8              8   \ngovernment                   12       4      76             36   \nholy                         18      50      10              0   \njustice                       4       0      20             38   \nking                         98     130      92             34   \nkingdome                     38     130      40             22   \nlaw                         256      74     562            444   \nliberty                      14       4      26             48   \nlord                          6      40       6              8   \nobey                         34      42      66             62   \npower                       140      80     236            216   \nsoveraign                   224      32     278            320   \n\n                      externall_impediment  fear  free  government  holy  \\\nauthority                                0     2     0          12    18   \nchrist                                   0     2     8           4    50   \ncivill                                   0    24     8          76    10   \ncommon-wealth                            0    18     8          36     0   \nexternall_impediment                     3     0     2           0     0   \nfear                                     0   259     2           4     2   \nfree                                     2     2    91           4     0   \ngovernment                               0     4     4         204     0   \nholy                                     0     2     0           0   250   \njustice                                  0    12     0           4     2   \nking                                     0     2     0          40    28   \nkingdome                                 0     2     2          16    24   \nlaw                                      0    42    36          54    14   \nliberty                                 12    30    46          12     2   \nlord                                     0     6     0           2    14   \nobey                                     0    26     4          16     2   \npower                                    2    98    16          58    20   \nsoveraign                                0    28     4          60    20   \n\n                      justice  king  kingdome   law  liberty  lord  obey  \\\nauthority                   4    98        38   256       14     6    34   \nchrist                      0   130       130    74        4    40    42   \ncivill                     20    92        40   562       26     6    66   \ncommon-wealth              38    34        22   444       48     8    62   \nexternall_impediment        0     0         0     0       12     0     0   \nfear                       12     2         2    42       30     6    26   \nfree                        0     0         2    36       46     0     4   \ngovernment                  4    40        16    54       12     2    16   \nholy                        2    28        24    14        2    14     2   \njustice                   143    28         4   100        0     2     8   \nking                       28   599       110    90        6    48    54   \nkingdome                    4   110       432    78        0    12    38   \nlaw                       100    90        78  2257      108    12   268   \nliberty                     0     6         0   108      250     0    14   \nlord                        2    48        12    12        0   147    24   \nobey                        8    54        38   268       14    24   359   \npower                      36   160       120   376       50    20    94   \nsoveraign                  38   126        48   560      104    12   124   \n\n                      power  soveraign  \nauthority               140        224  \nchrist                   80         32  \ncivill                  236        278  \ncommon-wealth           216        320  \nexternall_impediment      2          0  \nfear                     98         28  \nfree                     16          4  \ngovernment               58         60  \nholy                     20         20  \njustice                  36         38  \nking                    160        126  \nkingdome                120         48  \nlaw                     376        560  \nliberty                  50        104  \nlord                     20         12  \nobey                     94        124  \npower                  1071        624  \nsoveraign               624        983  ",
      "text/html": "<div>\n<style scoped>\n    .dataframe tbody tr th:only-of-type {\n        vertical-align: middle;\n    }\n\n    .dataframe tbody tr th {\n        vertical-align: top;\n    }\n\n    .dataframe thead th {\n        text-align: right;\n    }\n</style>\n<table border=\"1\" class=\"dataframe\">\n  <thead>\n    <tr style=\"text-align: right;\">\n      <th></th>\n      <th>authority</th>\n      <th>christ</th>\n      <th>civill</th>\n      <th>common-wealth</th>\n      <th>externall_impediment</th>\n      <th>fear</th>\n      <th>free</th>\n      <th>government</th>\n      <th>holy</th>\n      <th>justice</th>\n      <th>king</th>\n      <th>kingdome</th>\n      <th>law</th>\n      <th>liberty</th>\n      <th>lord</th>\n      <th>obey</th>\n      <th>power</th>\n      <th>soveraign</th>\n    </tr>\n  </thead>\n  <tbody>\n    <tr>\n      <th>authority</th>\n      <td>425</td>\n      <td>54</td>\n      <td>68</td>\n      <td>134</td>\n      <td>0</td>\n      <td>2</td>\n      <td>0</td>\n      <td>12</td>\n      <td>18</td>\n      <td>4</td>\n      <td>98</td>\n      <td>38</td>\n      <td>256</td>\n      <td>14</td>\n      <td>6</td>\n      <td>34</td>\n      <td>140</td>\n      <td>224</td>\n    </tr>\n    <tr>\n      <th>christ</th>\n      <td>54</td>\n      <td>727</td>\n      <td>18</td>\n      <td>12</td>\n      <td>0</td>\n      <td>2</td>\n      <td>8</td>\n      <td>4</td>\n      <td>50</td>\n      <td>0</td>\n      <td>130</td>\n      <td>130</td>\n      <td>74</td>\n      <td>4</td>\n      <td>40</td>\n      <td>42</td>\n      <td>80</td>\n      <td>32</td>\n    </tr>\n    <tr>\n      <th>civill</th>\n      <td>68</td>\n      <td>18</td>\n      <td>414</td>\n      <td>150</td>\n      <td>0</td>\n      <td>24</td>\n      <td>8</td>\n      <td>76</td>\n      <td>10</td>\n      <td>20</td>\n      <td>92</td>\n      <td>40</td>\n      <td>562</td>\n      <td>26</td>\n      <td>6</td>\n      <td>66</td>\n      <td>236</td>\n      <td>278</td>\n    </tr>\n    <tr>\n      <th>common-wealth</th>\n      <td>134</td>\n      <td>12</td>\n      <td>150</td>\n      <td>598</td>\n      <td>0</td>\n      <td>18</td>\n      <td>8</td>\n      <td>36</td>\n      <td>0</td>\n      <td>38</td>\n      <td>34</td>\n      <td>22</td>\n      <td>444</td>\n      <td>48</td>\n      <td>8</td>\n      <td>62</td>\n      <td>216</td>\n      <td>320</td>\n    </tr>\n    <tr>\n      <th>externall_impediment</th>\n      <td>0</td>\n      <td>0</td>\n      <td>0</td>\n      <td>0</td>\n      <td>3</td>\n      <td>0</td>\n      <td>2</td>\n      <td>0</td>\n      <td>0</td>\n      <td>0</td>\n      <td>0</td>\n      <td>0</td>\n      <td>0</td>\n      <td>12</td>\n      <td>0</td>\n      <td>0</td>\n      <td>2</td>\n      <td>0</td>\n    </tr>\n    <tr>\n      <th>fear</th>\n      <td>2</td>\n      <td>2</td>\n      <td>24</td>\n      <td>18</td>\n      <td>0</td>\n      <td>259</td>\n      <td>2</td>\n      <td>4</td>\n      <td>2</td>\n      <td>12</td>\n      <td>2</td>\n      <td>2</td>\n      <td>42</td>\n      <td>30</td>\n      <td>6</td>\n      <td>26</td>\n      <td>98</td>\n      <td>28</td>\n    </tr>\n    <tr>\n      <th>free</th>\n      <td>0</td>\n      <td>8</td>\n      <td>8</td>\n      <td>8</td>\n      <td>2</td>\n      <td>2</td>\n      <td>91</td>\n      <td>4</td>\n      <td>0</td>\n      <td>0</td>\n      <td>0</td>\n      <td>2</td>\n      <td>36</td>\n      <td>46</td>\n      <td>0</td>\n      <td>4</td>\n      <td>16</td>\n      <td>4</td>\n    </tr>\n    <tr>\n      <th>government</th>\n      <td>12</td>\n      <td>4</td>\n      <td>76</td>\n      <td>36</td>\n      <td>0</td>\n      <td>4</td>\n      <td>4</td>\n      <td>204</td>\n      <td>0</td>\n      <td>4</td>\n      <td>40</td>\n      <td>16</td>\n      <td>54</td>\n      <td>12</td>\n      <td>2</td>\n      <td>16</td>\n      <td>58</td>\n      <td>60</td>\n    </tr>\n    <tr>\n      <th>holy</th>\n      <td>18</td>\n      <td>50</td>\n      <td>10</td>\n      <td>0</td>\n      <td>0</td>\n      <td>2</td>\n      <td>0</td>\n      <td>0</td>\n      <td>250</td>\n      <td>2</td>\n      <td>28</td>\n      <td>24</td>\n      <td>14</td>\n      <td>2</td>\n      <td>14</td>\n      <td>2</td>\n      <td>20</td>\n      <td>20</td>\n    </tr>\n    <tr>\n      <th>justice</th>\n      <td>4</td>\n      <td>0</td>\n      <td>20</td>\n      <td>38</td>\n      <td>0</td>\n      <td>12</td>\n      <td>0</td>\n      <td>4</td>\n      <td>2</td>\n      <td>143</td>\n      <td>28</td>\n      <td>4</td>\n      <td>100</td>\n      <td>0</td>\n      <td>2</td>\n      <td>8</td>\n      <td>36</td>\n      <td>38</td>\n    </tr>\n    <tr>\n      <th>king</th>\n      <td>98</td>\n      <td>130</td>\n      <td>92</td>\n      <td>34</td>\n      <td>0</td>\n      <td>2</td>\n      <td>0</td>\n      <td>40</td>\n      <td>28</td>\n      <td>28</td>\n      <td>599</td>\n      <td>110</td>\n      <td>90</td>\n      <td>6</td>\n      <td>48</td>\n      <td>54</td>\n      <td>160</td>\n      <td>126</td>\n    </tr>\n    <tr>\n      <th>kingdome</th>\n      <td>38</td>\n      <td>130</td>\n      <td>40</td>\n      <td>22</td>\n      <td>0</td>\n      <td>2</td>\n      <td>2</td>\n      <td>16</td>\n      <td>24</td>\n      <td>4</td>\n      <td>110</td>\n      <td>432</td>\n      <td>78</td>\n      <td>0</td>\n      <td>12</td>\n      <td>38</td>\n      <td>120</td>\n      <td>48</td>\n    </tr>\n    <tr>\n      <th>law</th>\n      <td>256</td>\n      <td>74</td>\n      <td>562</td>\n      <td>444</td>\n      <td>0</td>\n      <td>42</td>\n      <td>36</td>\n      <td>54</td>\n      <td>14</td>\n      <td>100</td>\n      <td>90</td>\n      <td>78</td>\n      <td>2257</td>\n      <td>108</td>\n      <td>12</td>\n      <td>268</td>\n      <td>376</td>\n      <td>560</td>\n    </tr>\n    <tr>\n      <th>liberty</th>\n      <td>14</td>\n      <td>4</td>\n      <td>26</td>\n      <td>48</td>\n      <td>12</td>\n      <td>30</td>\n      <td>46</td>\n      <td>12</td>\n      <td>2</td>\n      <td>0</td>\n      <td>6</td>\n      <td>0</td>\n      <td>108</td>\n      <td>250</td>\n      <td>0</td>\n      <td>14</td>\n      <td>50</td>\n      <td>104</td>\n    </tr>\n    <tr>\n      <th>lord</th>\n      <td>6</td>\n      <td>40</td>\n      <td>6</td>\n      <td>8</td>\n      <td>0</td>\n      <td>6</td>\n      <td>0</td>\n      <td>2</td>\n      <td>14</td>\n      <td>2</td>\n      <td>48</td>\n      <td>12</td>\n      <td>12</td>\n      <td>0</td>\n      <td>147</td>\n      <td>24</td>\n      <td>20</td>\n      <td>12</td>\n    </tr>\n    <tr>\n      <th>obey</th>\n      <td>34</td>\n      <td>42</td>\n      <td>66</td>\n      <td>62</td>\n      <td>0</td>\n      <td>26</td>\n      <td>4</td>\n      <td>16</td>\n      <td>2</td>\n      <td>8</td>\n      <td>54</td>\n      <td>38</td>\n      <td>268</td>\n      <td>14</td>\n      <td>24</td>\n      <td>359</td>\n      <td>94</td>\n      <td>124</td>\n    </tr>\n    <tr>\n      <th>power</th>\n      <td>140</td>\n      <td>80</td>\n      <td>236</td>\n      <td>216</td>\n      <td>2</td>\n      <td>98</td>\n      <td>16</td>\n      <td>58</td>\n      <td>20</td>\n      <td>36</td>\n      <td>160</td>\n      <td>120</td>\n      <td>376</td>\n      <td>50</td>\n      <td>20</td>\n      <td>94</td>\n      <td>1071</td>\n      <td>624</td>\n    </tr>\n    <tr>\n      <th>soveraign</th>\n      <td>224</td>\n      <td>32</td>\n      <td>278</td>\n      <td>320</td>\n      <td>0</td>\n      <td>28</td>\n      <td>4</td>\n      <td>60</td>\n      <td>20</td>\n      <td>38</td>\n      <td>126</td>\n      <td>48</td>\n      <td>560</td>\n      <td>104</td>\n      <td>12</td>\n      <td>124</td>\n      <td>624</td>\n      <td>983</td>\n    </tr>\n  </tbody>\n</table>\n</div>"
     },
     "execution_count": 81,
     "metadata": {},
     "output_type": "execute_result"
    }
   ],
   "source": [
    "kw_grid_df = kw_pair_df.pivot(columns=['word2'])\n",
    "#kw_grid_df.fillna(0.0, inplace=True)\n",
    "kw_grid_df.columns = [c[1] for c in kw_grid_df.columns]\n",
    "kw_grid_df.columns.name = None\n",
    "kw_grid_df.index.name = None\n",
    "# Need to make it symmetric\n",
    "#first_index = kw_grid_df.index[0]\n",
    "#kw_grid_df.insert(0,first_index,np.nan)\n",
    "# Finally, we can reflect across the diagonal\n",
    "num_rows = len(kw_grid_df.index)\n",
    "for i in range(num_rows):\n",
    "    for j in range(i, num_rows):\n",
    "        kw_grid_df.iloc[j,i] = kw_grid_df.iloc[i,j]\n",
    "kw_grid_df"
   ],
   "metadata": {
    "collapsed": false,
    "pycharm": {
     "name": "#%%\n"
    }
   }
  },
  {
   "cell_type": "code",
   "execution_count": 82,
   "outputs": [
    {
     "data": {
      "text/plain": "['law',\n 'power',\n 'soveraign',\n 'christ',\n 'king',\n 'common-wealth',\n 'kingdome',\n 'authority',\n 'civill',\n 'obey',\n 'fear',\n 'holy',\n 'liberty',\n 'government',\n 'lord',\n 'justice',\n 'free',\n 'externall_impediment']"
     },
     "execution_count": 82,
     "metadata": {},
     "output_type": "execute_result"
    }
   ],
   "source": [
    "# Sort by the diagonal entry\n",
    "diag_entries = []\n",
    "for cur_col in kw_grid_df.columns:\n",
    "    cur_diag = kw_grid_df.loc[cur_col, cur_col]\n",
    "    diag_entries.append((cur_col, cur_diag))\n",
    "diag_sorted_counts = sorted(diag_entries, key=lambda x: x[1], reverse=True)\n",
    "diag_sorted_tokens = [c[0] for c in diag_sorted_counts]\n",
    "diag_sorted_tokens"
   ],
   "metadata": {
    "collapsed": false,
    "pycharm": {
     "name": "#%%\n"
    }
   }
  },
  {
   "cell_type": "code",
   "execution_count": 83,
   "outputs": [
    {
     "data": {
      "text/plain": "['law', 'power', 'soveraign', 'christ', 'externall_impediment']"
     },
     "execution_count": 83,
     "metadata": {},
     "output_type": "execute_result"
    }
   ],
   "source": [
    "final_tokens = diag_sorted_tokens[:4] + diag_sorted_tokens[-1:]\n",
    "final_tokens"
   ],
   "metadata": {
    "collapsed": false,
    "pycharm": {
     "name": "#%%\n"
    }
   }
  },
  {
   "cell_type": "code",
   "execution_count": 84,
   "outputs": [],
   "source": [
    "final_grid_df = kw_grid_df[final_tokens].loc[final_tokens].astype(int).astype(str).copy()"
   ],
   "metadata": {
    "collapsed": false,
    "pycharm": {
     "name": "#%%\n"
    }
   }
  },
  {
   "cell_type": "code",
   "execution_count": 85,
   "outputs": [],
   "source": [
    "final_grid_df[\"\\\\cdots\"] = \"\\\\cdots\""
   ],
   "metadata": {
    "collapsed": false,
    "pycharm": {
     "name": "#%%\n"
    }
   }
  },
  {
   "cell_type": "code",
   "execution_count": 86,
   "outputs": [],
   "source": [
    "orig_cols = list(final_grid_df.columns)\n",
    "new_col_order = orig_cols[:-2] + [\"\\\\cdots\"] + orig_cols[-2:-1]\n",
    "final_grid_df = final_grid_df[new_col_order].copy()\n",
    "final_grid_df.loc[\"\\\\vdots\",:] = \"\\\\vdots\""
   ],
   "metadata": {
    "collapsed": false,
    "pycharm": {
     "name": "#%%\n"
    }
   }
  },
  {
   "cell_type": "code",
   "execution_count": 87,
   "outputs": [
    {
     "data": {
      "text/plain": "                         law   power soveraign  christ  \\cdots  \\\nlaw                     2257     376       560      74  \\cdots   \npower                    376    1071       624      80  \\cdots   \nsoveraign                560     624       983      32  \\cdots   \nchrist                    74      80        32     727  \\cdots   \nexternall_impediment       0       2         0       0  \\cdots   \n\\vdots                \\vdots  \\vdots    \\vdots  \\vdots  \\vdots   \n\n                     externall_impediment  \nlaw                                     0  \npower                                   2  \nsoveraign                               0  \nchrist                                  0  \nexternall_impediment                    3  \n\\vdots                             \\vdots  ",
      "text/html": "<div>\n<style scoped>\n    .dataframe tbody tr th:only-of-type {\n        vertical-align: middle;\n    }\n\n    .dataframe tbody tr th {\n        vertical-align: top;\n    }\n\n    .dataframe thead th {\n        text-align: right;\n    }\n</style>\n<table border=\"1\" class=\"dataframe\">\n  <thead>\n    <tr style=\"text-align: right;\">\n      <th></th>\n      <th>law</th>\n      <th>power</th>\n      <th>soveraign</th>\n      <th>christ</th>\n      <th>\\cdots</th>\n      <th>externall_impediment</th>\n    </tr>\n  </thead>\n  <tbody>\n    <tr>\n      <th>law</th>\n      <td>2257</td>\n      <td>376</td>\n      <td>560</td>\n      <td>74</td>\n      <td>\\cdots</td>\n      <td>0</td>\n    </tr>\n    <tr>\n      <th>power</th>\n      <td>376</td>\n      <td>1071</td>\n      <td>624</td>\n      <td>80</td>\n      <td>\\cdots</td>\n      <td>2</td>\n    </tr>\n    <tr>\n      <th>soveraign</th>\n      <td>560</td>\n      <td>624</td>\n      <td>983</td>\n      <td>32</td>\n      <td>\\cdots</td>\n      <td>0</td>\n    </tr>\n    <tr>\n      <th>christ</th>\n      <td>74</td>\n      <td>80</td>\n      <td>32</td>\n      <td>727</td>\n      <td>\\cdots</td>\n      <td>0</td>\n    </tr>\n    <tr>\n      <th>externall_impediment</th>\n      <td>0</td>\n      <td>2</td>\n      <td>0</td>\n      <td>0</td>\n      <td>\\cdots</td>\n      <td>3</td>\n    </tr>\n    <tr>\n      <th>\\vdots</th>\n      <td>\\vdots</td>\n      <td>\\vdots</td>\n      <td>\\vdots</td>\n      <td>\\vdots</td>\n      <td>\\vdots</td>\n      <td>\\vdots</td>\n    </tr>\n  </tbody>\n</table>\n</div>"
     },
     "execution_count": 87,
     "metadata": {},
     "output_type": "execute_result"
    }
   ],
   "source": [
    "final_grid_df"
   ],
   "metadata": {
    "collapsed": false,
    "pycharm": {
     "name": "#%%\n"
    }
   }
  },
  {
   "cell_type": "code",
   "execution_count": 88,
   "outputs": [],
   "source": [
    "orig_rows = list(final_grid_df.index)\n",
    "new_row_order = orig_rows[:-2] + [\"\\\\vdots\"] + orig_rows[-2:-1]\n",
    "final_grid_df = final_grid_df.loc[new_row_order,:].copy()"
   ],
   "metadata": {
    "collapsed": false,
    "pycharm": {
     "name": "#%%\n"
    }
   }
  },
  {
   "cell_type": "code",
   "execution_count": 89,
   "outputs": [],
   "source": [
    "final_grid_df.iloc[-2,-2] = \"\\\\ddots\""
   ],
   "metadata": {
    "collapsed": false,
    "pycharm": {
     "name": "#%%\n"
    }
   }
  },
  {
   "cell_type": "code",
   "execution_count": 90,
   "outputs": [
    {
     "data": {
      "text/plain": "                              \\texttt{law} \\texttt{power} \\texttt{soveraign}  \\\n\\texttt{law}                          2257            376                560   \n\\texttt{power}                         376           1071                624   \n\\texttt{soveraign}                     560            624                983   \n\\texttt{christ}                         74             80                 32   \n\\vdots                              \\vdots         \\vdots             \\vdots   \n\\texttt{externall_impediment}            0              2                  0   \n\n                              \\texttt{christ}  \\cdots  \\\n\\texttt{law}                               74  \\cdots   \n\\texttt{power}                             80  \\cdots   \n\\texttt{soveraign}                         32  \\cdots   \n\\texttt{christ}                           727  \\cdots   \n\\vdots                                 \\vdots  \\ddots   \n\\texttt{externall_impediment}               0  \\cdots   \n\n                              \\texttt{externall_impediment}  \n\\texttt{law}                                              0  \n\\texttt{power}                                            2  \n\\texttt{soveraign}                                        0  \n\\texttt{christ}                                           0  \n\\vdots                                               \\vdots  \n\\texttt{externall_impediment}                             3  ",
      "text/html": "<div>\n<style scoped>\n    .dataframe tbody tr th:only-of-type {\n        vertical-align: middle;\n    }\n\n    .dataframe tbody tr th {\n        vertical-align: top;\n    }\n\n    .dataframe thead th {\n        text-align: right;\n    }\n</style>\n<table border=\"1\" class=\"dataframe\">\n  <thead>\n    <tr style=\"text-align: right;\">\n      <th></th>\n      <th>\\texttt{law}</th>\n      <th>\\texttt{power}</th>\n      <th>\\texttt{soveraign}</th>\n      <th>\\texttt{christ}</th>\n      <th>\\cdots</th>\n      <th>\\texttt{externall_impediment}</th>\n    </tr>\n  </thead>\n  <tbody>\n    <tr>\n      <th>\\texttt{law}</th>\n      <td>2257</td>\n      <td>376</td>\n      <td>560</td>\n      <td>74</td>\n      <td>\\cdots</td>\n      <td>0</td>\n    </tr>\n    <tr>\n      <th>\\texttt{power}</th>\n      <td>376</td>\n      <td>1071</td>\n      <td>624</td>\n      <td>80</td>\n      <td>\\cdots</td>\n      <td>2</td>\n    </tr>\n    <tr>\n      <th>\\texttt{soveraign}</th>\n      <td>560</td>\n      <td>624</td>\n      <td>983</td>\n      <td>32</td>\n      <td>\\cdots</td>\n      <td>0</td>\n    </tr>\n    <tr>\n      <th>\\texttt{christ}</th>\n      <td>74</td>\n      <td>80</td>\n      <td>32</td>\n      <td>727</td>\n      <td>\\cdots</td>\n      <td>0</td>\n    </tr>\n    <tr>\n      <th>\\vdots</th>\n      <td>\\vdots</td>\n      <td>\\vdots</td>\n      <td>\\vdots</td>\n      <td>\\vdots</td>\n      <td>\\ddots</td>\n      <td>\\vdots</td>\n    </tr>\n    <tr>\n      <th>\\texttt{externall_impediment}</th>\n      <td>0</td>\n      <td>2</td>\n      <td>0</td>\n      <td>0</td>\n      <td>\\cdots</td>\n      <td>3</td>\n    </tr>\n  </tbody>\n</table>\n</div>"
     },
     "execution_count": 90,
     "metadata": {},
     "output_type": "execute_result"
    }
   ],
   "source": [
    "#final_grid_df.fillna(0.0, inplace=True)\n",
    "for cur_col in final_grid_df.columns:\n",
    "    if \"cdots\" in cur_col:\n",
    "        continue\n",
    "    rename_map = {cur_col: \"\\\\texttt{\" + cur_col + \"}\"}\n",
    "    final_grid_df.rename(columns=rename_map, inplace=True)\n",
    "    final_grid_df.rename(index=rename_map, inplace=True)\n",
    "final_grid_df"
   ],
   "metadata": {
    "collapsed": false,
    "pycharm": {
     "name": "#%%\n"
    }
   }
  },
  {
   "cell_type": "code",
   "execution_count": 91,
   "outputs": [
    {
     "name": "stdout",
     "output_type": "stream",
     "text": [
      "\\begin{tabular}{lllllll}\n",
      " & \\texttt{law} & \\texttt{power} & \\texttt{soveraign} & \\texttt{christ} & \\cdots & \\texttt{externall_impediment} \\\\\n",
      "\\texttt{law} & 2257 & 376 & 560 & 74 & \\cdots & 0 \\\\\n",
      "\\texttt{power} & 376 & 1071 & 624 & 80 & \\cdots & 2 \\\\\n",
      "\\texttt{soveraign} & 560 & 624 & 983 & 32 & \\cdots & 0 \\\\\n",
      "\\texttt{christ} & 74 & 80 & 32 & 727 & \\cdots & 0 \\\\\n",
      "\\vdots & \\vdots & \\vdots & \\vdots & \\vdots & \\ddots & \\vdots \\\\\n",
      "\\texttt{externall_impediment} & 0 & 2 & 0 & 0 & \\cdots & 3 \\\\\n",
      "\\end{tabular}\n",
      "\n"
     ]
    }
   ],
   "source": [
    "# In TeX\n",
    "print(final_grid_df.style.to_latex())"
   ],
   "metadata": {
    "collapsed": false,
    "pycharm": {
     "name": "#%%\n"
    }
   }
  },
  {
   "cell_type": "code",
   "execution_count": 92,
   "outputs": [
    {
     "data": {
      "text/plain": "                         x      y\ntoken                            \nlaw                   3.05   5.63\npower                 2.64   4.67\nsoveraign             4.03   8.32\nchrist                4.98  -7.80\nexternall_impediment  1.25  -0.72",
      "text/html": "<div>\n<style scoped>\n    .dataframe tbody tr th:only-of-type {\n        vertical-align: middle;\n    }\n\n    .dataframe tbody tr th {\n        vertical-align: top;\n    }\n\n    .dataframe thead th {\n        text-align: right;\n    }\n</style>\n<table border=\"1\" class=\"dataframe\">\n  <thead>\n    <tr style=\"text-align: right;\">\n      <th></th>\n      <th>x</th>\n      <th>y</th>\n    </tr>\n    <tr>\n      <th>token</th>\n      <th></th>\n      <th></th>\n    </tr>\n  </thead>\n  <tbody>\n    <tr>\n      <th>law</th>\n      <td>3.05</td>\n      <td>5.63</td>\n    </tr>\n    <tr>\n      <th>power</th>\n      <td>2.64</td>\n      <td>4.67</td>\n    </tr>\n    <tr>\n      <th>soveraign</th>\n      <td>4.03</td>\n      <td>8.32</td>\n    </tr>\n    <tr>\n      <th>christ</th>\n      <td>4.98</td>\n      <td>-7.80</td>\n    </tr>\n    <tr>\n      <th>externall_impediment</th>\n      <td>1.25</td>\n      <td>-0.72</td>\n    </tr>\n  </tbody>\n</table>\n</div>"
     },
     "execution_count": 92,
     "metadata": {},
     "output_type": "execute_result"
    }
   ],
   "source": [
    "# And now the embeddings\n",
    "final_emb_df = lev_df[lev_df['token'].isin(final_tokens)].copy()\n",
    "final_emb_df.set_index('token', inplace=True)\n",
    "final_emb_df = final_emb_df.loc[final_tokens,].copy()\n",
    "round_coord = lambda x: \"{:.2f}\".format(x)\n",
    "final_rounded_df = final_emb_df.copy()\n",
    "final_rounded_df['x'] = final_rounded_df['x'].apply(round_coord)\n",
    "final_rounded_df['y'] = final_rounded_df['y'].apply(round_coord)\n",
    "final_rounded_df"
   ],
   "metadata": {
    "collapsed": false,
    "pycharm": {
     "name": "#%%\n"
    }
   }
  },
  {
   "cell_type": "code",
   "execution_count": 93,
   "outputs": [],
   "source": [
    "for cur_index in final_rounded_df.index:\n",
    "    new_index = \"\\\\texttt{\" + str(cur_index) + \"}\"\n",
    "    final_rounded_df.rename(index={cur_index:new_index}, inplace=True)"
   ],
   "metadata": {
    "collapsed": false,
    "pycharm": {
     "name": "#%%\n"
    }
   }
  },
  {
   "cell_type": "code",
   "execution_count": 94,
   "outputs": [],
   "source": [
    "final_rounded_df.loc[\"\\\\vdots\"] = \"\\\\vdots\""
   ],
   "metadata": {
    "collapsed": false,
    "pycharm": {
     "name": "#%%\n"
    }
   }
  },
  {
   "cell_type": "code",
   "execution_count": 95,
   "outputs": [],
   "source": [
    "orig_row_order = list(final_rounded_df.index)\n",
    "new_row_order = orig_row_order[:-2] + [\"\\\\vdots\"] + orig_row_order[-2:-1]\n",
    "final_rounded_df = final_rounded_df.loc[new_row_order,:].copy()"
   ],
   "metadata": {
    "collapsed": false,
    "pycharm": {
     "name": "#%%\n"
    }
   }
  },
  {
   "cell_type": "code",
   "execution_count": 96,
   "outputs": [
    {
     "name": "stdout",
     "output_type": "stream",
     "text": [
      "\\begin{tabular}{lll}\n",
      " & x & y \\\\\n",
      "token &  &  \\\\\n",
      "\\texttt{law} & 3.05 & 5.63 \\\\\n",
      "\\texttt{power} & 2.64 & 4.67 \\\\\n",
      "\\texttt{soveraign} & 4.03 & 8.32 \\\\\n",
      "\\texttt{christ} & 4.98 & -7.80 \\\\\n",
      "\\vdots & \\vdots & \\vdots \\\\\n",
      "\\texttt{externall_impediment} & 1.25 & -0.72 \\\\\n",
      "\\end{tabular}\n",
      "\n"
     ]
    }
   ],
   "source": [
    "print(final_rounded_df.style.to_latex())"
   ],
   "metadata": {
    "collapsed": false,
    "pycharm": {
     "name": "#%%\n"
    }
   }
  },
  {
   "cell_type": "markdown",
   "source": [
    "\n",
    "\n",
    "### Part 2: De Cive"
   ],
   "metadata": {
    "collapsed": false,
    "pycharm": {
     "name": "#%% md\n"
    }
   }
  },
  {
   "cell_type": "code",
   "execution_count": 242,
   "outputs": [
    {
     "data": {
      "text/plain": "542963"
     },
     "execution_count": 242,
     "metadata": {},
     "output_type": "execute_result"
    }
   ],
   "source": [
    "text_dc = load_texts(['de_cive'])\n",
    "len(text_dc)"
   ],
   "metadata": {
    "collapsed": false,
    "pycharm": {
     "name": "#%%\n"
    }
   }
  },
  {
   "cell_type": "code",
   "execution_count": 243,
   "outputs": [
    {
     "name": "stdout",
     "output_type": "stream",
     "text": [
      "alwayes externall\n",
      "externall court\n",
      "belongs externall\n",
      "externall obey\n",
      "promise externall\n",
      "externall signes\n",
      "lets externall\n",
      "externall \n",
      " externall\n",
      "externall agent\n",
      "profession externall\n",
      "externall \n"
     ]
    }
   ],
   "source": [
    "clean_text_dc = text_dc.lower()\n",
    "sents_dc = nltk.tokenize.sent_tokenize(clean_text_dc, \"english\")\n",
    "sent_tokens_dc = [nltk.tokenize.word_tokenize(sent) for sent in sents_dc]\n",
    "clean_sent_tokens_dc = [preprocess_tokens(sent_tokens) for sent_tokens in sent_tokens_dc]"
   ],
   "metadata": {
    "collapsed": false,
    "pycharm": {
     "name": "#%%\n"
    }
   }
  },
  {
   "cell_type": "code",
   "execution_count": 244,
   "outputs": [],
   "source": [
    "dc_model = Word2Vec(sentences=clean_sent_tokens_dc, vector_size=2, window=global_window,\n",
    "                        min_count=1, workers=4, epochs=global_epochs)\n",
    "\n",
    "dc_model.save(\"w2v_dc.model\")"
   ],
   "metadata": {
    "collapsed": false,
    "pycharm": {
     "name": "#%%\n"
    }
   }
  },
  {
   "cell_type": "code",
   "execution_count": 245,
   "outputs": [],
   "source": [
    "dc_df = get_embedding_df(dc_model)"
   ],
   "metadata": {
    "collapsed": false,
    "pycharm": {
     "name": "#%%\n"
    }
   }
  },
  {
   "cell_type": "code",
   "execution_count": 246,
   "outputs": [],
   "source": [
    "label_adjustments_dc = {}"
   ],
   "metadata": {
    "collapsed": false,
    "pycharm": {
     "name": "#%%\n"
    }
   }
  },
  {
   "cell_type": "code",
   "execution_count": 247,
   "outputs": [
    {
     "ename": "FileNotFoundError",
     "evalue": "[Errno 2] No such file or directory: '../tex/ch0/figs/dc_embeddings.svg'",
     "output_type": "error",
     "traceback": [
      "\u001B[1;31m---------------------------------------------------------------------------\u001B[0m",
      "\u001B[1;31mFileNotFoundError\u001B[0m                         Traceback (most recent call last)",
      "Input \u001B[1;32mIn [247]\u001B[0m, in \u001B[0;36m<cell line: 9>\u001B[1;34m()\u001B[0m\n\u001B[0;32m      7\u001B[0m plt\u001B[38;5;241m.\u001B[39mtight_layout()\n\u001B[0;32m      8\u001B[0m svg_fpath \u001B[38;5;241m=\u001B[39m \u001B[38;5;124m'\u001B[39m\u001B[38;5;124m../tex/ch0/figs/dc_embeddings.svg\u001B[39m\u001B[38;5;124m'\u001B[39m\n\u001B[1;32m----> 9\u001B[0m \u001B[43mplt\u001B[49m\u001B[38;5;241;43m.\u001B[39;49m\u001B[43msavefig\u001B[49m\u001B[43m(\u001B[49m\u001B[43msvg_fpath\u001B[49m\u001B[43m)\u001B[49m\n",
      "File \u001B[1;32m~\\lib\\site-packages\\matplotlib\\pyplot.py:979\u001B[0m, in \u001B[0;36msavefig\u001B[1;34m(*args, **kwargs)\u001B[0m\n\u001B[0;32m    976\u001B[0m \u001B[38;5;129m@_copy_docstring_and_deprecators\u001B[39m(Figure\u001B[38;5;241m.\u001B[39msavefig)\n\u001B[0;32m    977\u001B[0m \u001B[38;5;28;01mdef\u001B[39;00m \u001B[38;5;21msavefig\u001B[39m(\u001B[38;5;241m*\u001B[39margs, \u001B[38;5;241m*\u001B[39m\u001B[38;5;241m*\u001B[39mkwargs):\n\u001B[0;32m    978\u001B[0m     fig \u001B[38;5;241m=\u001B[39m gcf()\n\u001B[1;32m--> 979\u001B[0m     res \u001B[38;5;241m=\u001B[39m fig\u001B[38;5;241m.\u001B[39msavefig(\u001B[38;5;241m*\u001B[39margs, \u001B[38;5;241m*\u001B[39m\u001B[38;5;241m*\u001B[39mkwargs)\n\u001B[0;32m    980\u001B[0m     fig\u001B[38;5;241m.\u001B[39mcanvas\u001B[38;5;241m.\u001B[39mdraw_idle()   \u001B[38;5;66;03m# need this if 'transparent=True' to reset colors\u001B[39;00m\n\u001B[0;32m    981\u001B[0m     \u001B[38;5;28;01mreturn\u001B[39;00m res\n",
      "File \u001B[1;32m~\\lib\\site-packages\\matplotlib\\figure.py:3046\u001B[0m, in \u001B[0;36mFigure.savefig\u001B[1;34m(self, fname, transparent, **kwargs)\u001B[0m\n\u001B[0;32m   3042\u001B[0m     \u001B[38;5;28;01mfor\u001B[39;00m ax \u001B[38;5;129;01min\u001B[39;00m \u001B[38;5;28mself\u001B[39m\u001B[38;5;241m.\u001B[39maxes:\n\u001B[0;32m   3043\u001B[0m         stack\u001B[38;5;241m.\u001B[39menter_context(\n\u001B[0;32m   3044\u001B[0m             ax\u001B[38;5;241m.\u001B[39mpatch\u001B[38;5;241m.\u001B[39m_cm_set(facecolor\u001B[38;5;241m=\u001B[39m\u001B[38;5;124m'\u001B[39m\u001B[38;5;124mnone\u001B[39m\u001B[38;5;124m'\u001B[39m, edgecolor\u001B[38;5;241m=\u001B[39m\u001B[38;5;124m'\u001B[39m\u001B[38;5;124mnone\u001B[39m\u001B[38;5;124m'\u001B[39m))\n\u001B[1;32m-> 3046\u001B[0m \u001B[38;5;28mself\u001B[39m\u001B[38;5;241m.\u001B[39mcanvas\u001B[38;5;241m.\u001B[39mprint_figure(fname, \u001B[38;5;241m*\u001B[39m\u001B[38;5;241m*\u001B[39mkwargs)\n",
      "File \u001B[1;32m~\\lib\\site-packages\\matplotlib\\backend_bases.py:2319\u001B[0m, in \u001B[0;36mFigureCanvasBase.print_figure\u001B[1;34m(self, filename, dpi, facecolor, edgecolor, orientation, format, bbox_inches, pad_inches, bbox_extra_artists, backend, **kwargs)\u001B[0m\n\u001B[0;32m   2315\u001B[0m \u001B[38;5;28;01mtry\u001B[39;00m:\n\u001B[0;32m   2316\u001B[0m     \u001B[38;5;66;03m# _get_renderer may change the figure dpi (as vector formats\u001B[39;00m\n\u001B[0;32m   2317\u001B[0m     \u001B[38;5;66;03m# force the figure dpi to 72), so we need to set it again here.\u001B[39;00m\n\u001B[0;32m   2318\u001B[0m     \u001B[38;5;28;01mwith\u001B[39;00m cbook\u001B[38;5;241m.\u001B[39m_setattr_cm(\u001B[38;5;28mself\u001B[39m\u001B[38;5;241m.\u001B[39mfigure, dpi\u001B[38;5;241m=\u001B[39mdpi):\n\u001B[1;32m-> 2319\u001B[0m         result \u001B[38;5;241m=\u001B[39m print_method(\n\u001B[0;32m   2320\u001B[0m             filename,\n\u001B[0;32m   2321\u001B[0m             facecolor\u001B[38;5;241m=\u001B[39mfacecolor,\n\u001B[0;32m   2322\u001B[0m             edgecolor\u001B[38;5;241m=\u001B[39medgecolor,\n\u001B[0;32m   2323\u001B[0m             orientation\u001B[38;5;241m=\u001B[39morientation,\n\u001B[0;32m   2324\u001B[0m             bbox_inches_restore\u001B[38;5;241m=\u001B[39m_bbox_inches_restore,\n\u001B[0;32m   2325\u001B[0m             \u001B[38;5;241m*\u001B[39m\u001B[38;5;241m*\u001B[39mkwargs)\n\u001B[0;32m   2326\u001B[0m \u001B[38;5;28;01mfinally\u001B[39;00m:\n\u001B[0;32m   2327\u001B[0m     \u001B[38;5;28;01mif\u001B[39;00m bbox_inches \u001B[38;5;129;01mand\u001B[39;00m restore_bbox:\n",
      "File \u001B[1;32m~\\lib\\site-packages\\matplotlib\\backend_bases.py:1648\u001B[0m, in \u001B[0;36m_check_savefig_extra_args.<locals>.wrapper\u001B[1;34m(*args, **kwargs)\u001B[0m\n\u001B[0;32m   1640\u001B[0m     _api\u001B[38;5;241m.\u001B[39mwarn_deprecated(\n\u001B[0;32m   1641\u001B[0m         \u001B[38;5;124m'\u001B[39m\u001B[38;5;124m3.3\u001B[39m\u001B[38;5;124m'\u001B[39m, name\u001B[38;5;241m=\u001B[39mname, removal\u001B[38;5;241m=\u001B[39m\u001B[38;5;124m'\u001B[39m\u001B[38;5;124m3.6\u001B[39m\u001B[38;5;124m'\u001B[39m,\n\u001B[0;32m   1642\u001B[0m         message\u001B[38;5;241m=\u001B[39m\u001B[38;5;124m'\u001B[39m\u001B[38;5;132;01m%(name)s\u001B[39;00m\u001B[38;5;124m() got unexpected keyword argument \u001B[39m\u001B[38;5;124m\"\u001B[39m\u001B[38;5;124m'\u001B[39m\n\u001B[0;32m   1643\u001B[0m                 \u001B[38;5;241m+\u001B[39m arg \u001B[38;5;241m+\u001B[39m \u001B[38;5;124m'\u001B[39m\u001B[38;5;124m\"\u001B[39m\u001B[38;5;124m which is no longer supported as of \u001B[39m\u001B[38;5;124m'\u001B[39m\n\u001B[0;32m   1644\u001B[0m                 \u001B[38;5;124m'\u001B[39m\u001B[38;5;132;01m%(since)s\u001B[39;00m\u001B[38;5;124m and will become an error \u001B[39m\u001B[38;5;124m'\u001B[39m\n\u001B[0;32m   1645\u001B[0m                 \u001B[38;5;124m'\u001B[39m\u001B[38;5;132;01m%(removal)s\u001B[39;00m\u001B[38;5;124m'\u001B[39m)\n\u001B[0;32m   1646\u001B[0m     kwargs\u001B[38;5;241m.\u001B[39mpop(arg)\n\u001B[1;32m-> 1648\u001B[0m \u001B[38;5;28;01mreturn\u001B[39;00m func(\u001B[38;5;241m*\u001B[39margs, \u001B[38;5;241m*\u001B[39m\u001B[38;5;241m*\u001B[39mkwargs)\n",
      "File \u001B[1;32m~\\lib\\site-packages\\matplotlib\\_api\\deprecation.py:389\u001B[0m, in \u001B[0;36mdelete_parameter.<locals>.wrapper\u001B[1;34m(*inner_args, **inner_kwargs)\u001B[0m\n\u001B[0;32m    384\u001B[0m \u001B[38;5;129m@functools\u001B[39m\u001B[38;5;241m.\u001B[39mwraps(func)\n\u001B[0;32m    385\u001B[0m \u001B[38;5;28;01mdef\u001B[39;00m \u001B[38;5;21mwrapper\u001B[39m(\u001B[38;5;241m*\u001B[39minner_args, \u001B[38;5;241m*\u001B[39m\u001B[38;5;241m*\u001B[39minner_kwargs):\n\u001B[0;32m    386\u001B[0m     \u001B[38;5;28;01mif\u001B[39;00m \u001B[38;5;28mlen\u001B[39m(inner_args) \u001B[38;5;241m<\u001B[39m\u001B[38;5;241m=\u001B[39m name_idx \u001B[38;5;129;01mand\u001B[39;00m name \u001B[38;5;129;01mnot\u001B[39;00m \u001B[38;5;129;01min\u001B[39;00m inner_kwargs:\n\u001B[0;32m    387\u001B[0m         \u001B[38;5;66;03m# Early return in the simple, non-deprecated case (much faster than\u001B[39;00m\n\u001B[0;32m    388\u001B[0m         \u001B[38;5;66;03m# calling bind()).\u001B[39;00m\n\u001B[1;32m--> 389\u001B[0m         \u001B[38;5;28;01mreturn\u001B[39;00m func(\u001B[38;5;241m*\u001B[39minner_args, \u001B[38;5;241m*\u001B[39m\u001B[38;5;241m*\u001B[39minner_kwargs)\n\u001B[0;32m    390\u001B[0m     arguments \u001B[38;5;241m=\u001B[39m signature\u001B[38;5;241m.\u001B[39mbind(\u001B[38;5;241m*\u001B[39minner_args, \u001B[38;5;241m*\u001B[39m\u001B[38;5;241m*\u001B[39minner_kwargs)\u001B[38;5;241m.\u001B[39marguments\n\u001B[0;32m    391\u001B[0m     \u001B[38;5;28;01mif\u001B[39;00m is_varargs \u001B[38;5;129;01mand\u001B[39;00m arguments\u001B[38;5;241m.\u001B[39mget(name):\n",
      "File \u001B[1;32m~\\lib\\site-packages\\matplotlib\\_api\\deprecation.py:415\u001B[0m, in \u001B[0;36mdelete_parameter.<locals>.wrapper\u001B[1;34m(*inner_args, **inner_kwargs)\u001B[0m\n\u001B[0;32m    405\u001B[0m     deprecation_addendum \u001B[38;5;241m=\u001B[39m (\n\u001B[0;32m    406\u001B[0m         \u001B[38;5;124mf\u001B[39m\u001B[38;5;124m\"\u001B[39m\u001B[38;5;124mIf any parameter follows \u001B[39m\u001B[38;5;132;01m{\u001B[39;00mname\u001B[38;5;132;01m!r}\u001B[39;00m\u001B[38;5;124m, they should be passed as \u001B[39m\u001B[38;5;124m\"\u001B[39m\n\u001B[0;32m    407\u001B[0m         \u001B[38;5;124mf\u001B[39m\u001B[38;5;124m\"\u001B[39m\u001B[38;5;124mkeyword, not positionally.\u001B[39m\u001B[38;5;124m\"\u001B[39m)\n\u001B[0;32m    408\u001B[0m     warn_deprecated(\n\u001B[0;32m    409\u001B[0m         since,\n\u001B[0;32m    410\u001B[0m         name\u001B[38;5;241m=\u001B[39m\u001B[38;5;28mrepr\u001B[39m(name),\n\u001B[1;32m   (...)\u001B[0m\n\u001B[0;32m    413\u001B[0m                  \u001B[38;5;28;01melse\u001B[39;00m deprecation_addendum,\n\u001B[0;32m    414\u001B[0m         \u001B[38;5;241m*\u001B[39m\u001B[38;5;241m*\u001B[39mkwargs)\n\u001B[1;32m--> 415\u001B[0m \u001B[38;5;28;01mreturn\u001B[39;00m func(\u001B[38;5;241m*\u001B[39minner_args, \u001B[38;5;241m*\u001B[39m\u001B[38;5;241m*\u001B[39minner_kwargs)\n",
      "File \u001B[1;32m~\\lib\\site-packages\\matplotlib\\backends\\backend_svg.py:1321\u001B[0m, in \u001B[0;36mFigureCanvasSVG.print_svg\u001B[1;34m(self, filename, dpi, bbox_inches_restore, metadata, *args)\u001B[0m\n\u001B[0;32m   1285\u001B[0m \u001B[38;5;129m@_check_savefig_extra_args\u001B[39m\n\u001B[0;32m   1286\u001B[0m \u001B[38;5;129m@_api\u001B[39m\u001B[38;5;241m.\u001B[39mdelete_parameter(\u001B[38;5;124m\"\u001B[39m\u001B[38;5;124m3.4\u001B[39m\u001B[38;5;124m\"\u001B[39m, \u001B[38;5;124m\"\u001B[39m\u001B[38;5;124mdpi\u001B[39m\u001B[38;5;124m\"\u001B[39m)\n\u001B[0;32m   1287\u001B[0m \u001B[38;5;129m@_api\u001B[39m\u001B[38;5;241m.\u001B[39mdelete_parameter(\u001B[38;5;124m\"\u001B[39m\u001B[38;5;124m3.5\u001B[39m\u001B[38;5;124m\"\u001B[39m, \u001B[38;5;124m\"\u001B[39m\u001B[38;5;124margs\u001B[39m\u001B[38;5;124m\"\u001B[39m)\n\u001B[0;32m   1288\u001B[0m \u001B[38;5;28;01mdef\u001B[39;00m \u001B[38;5;21mprint_svg\u001B[39m(\u001B[38;5;28mself\u001B[39m, filename, \u001B[38;5;241m*\u001B[39margs, dpi\u001B[38;5;241m=\u001B[39m\u001B[38;5;28;01mNone\u001B[39;00m, bbox_inches_restore\u001B[38;5;241m=\u001B[39m\u001B[38;5;28;01mNone\u001B[39;00m,\n\u001B[0;32m   1289\u001B[0m               metadata\u001B[38;5;241m=\u001B[39m\u001B[38;5;28;01mNone\u001B[39;00m):\n\u001B[0;32m   1290\u001B[0m     \u001B[38;5;124;03m\"\"\"\u001B[39;00m\n\u001B[0;32m   1291\u001B[0m \u001B[38;5;124;03m    Parameters\u001B[39;00m\n\u001B[0;32m   1292\u001B[0m \u001B[38;5;124;03m    ----------\u001B[39;00m\n\u001B[1;32m   (...)\u001B[0m\n\u001B[0;32m   1319\u001B[0m \u001B[38;5;124;03m        __ DC_\u001B[39;00m\n\u001B[0;32m   1320\u001B[0m \u001B[38;5;124;03m    \"\"\"\u001B[39;00m\n\u001B[1;32m-> 1321\u001B[0m     \u001B[38;5;28;01mwith\u001B[39;00m \u001B[43mcbook\u001B[49m\u001B[38;5;241;43m.\u001B[39;49m\u001B[43mopen_file_cm\u001B[49m\u001B[43m(\u001B[49m\u001B[43mfilename\u001B[49m\u001B[43m,\u001B[49m\u001B[43m \u001B[49m\u001B[38;5;124;43m\"\u001B[39;49m\u001B[38;5;124;43mw\u001B[39;49m\u001B[38;5;124;43m\"\u001B[39;49m\u001B[43m,\u001B[49m\u001B[43m \u001B[49m\u001B[43mencoding\u001B[49m\u001B[38;5;241;43m=\u001B[39;49m\u001B[38;5;124;43m\"\u001B[39;49m\u001B[38;5;124;43mutf-8\u001B[39;49m\u001B[38;5;124;43m\"\u001B[39;49m\u001B[43m)\u001B[49m \u001B[38;5;28;01mas\u001B[39;00m fh:\n\u001B[0;32m   1322\u001B[0m         \u001B[38;5;28;01mif\u001B[39;00m \u001B[38;5;129;01mnot\u001B[39;00m cbook\u001B[38;5;241m.\u001B[39mfile_requires_unicode(fh):\n\u001B[0;32m   1323\u001B[0m             fh \u001B[38;5;241m=\u001B[39m codecs\u001B[38;5;241m.\u001B[39mgetwriter(\u001B[38;5;124m'\u001B[39m\u001B[38;5;124mutf-8\u001B[39m\u001B[38;5;124m'\u001B[39m)(fh)\n",
      "File \u001B[1;32m~\\lib\\site-packages\\matplotlib\\cbook\\__init__.py:465\u001B[0m, in \u001B[0;36mopen_file_cm\u001B[1;34m(path_or_file, mode, encoding)\u001B[0m\n\u001B[0;32m    463\u001B[0m \u001B[38;5;28;01mdef\u001B[39;00m \u001B[38;5;21mopen_file_cm\u001B[39m(path_or_file, mode\u001B[38;5;241m=\u001B[39m\u001B[38;5;124m\"\u001B[39m\u001B[38;5;124mr\u001B[39m\u001B[38;5;124m\"\u001B[39m, encoding\u001B[38;5;241m=\u001B[39m\u001B[38;5;28;01mNone\u001B[39;00m):\n\u001B[0;32m    464\u001B[0m     \u001B[38;5;124mr\u001B[39m\u001B[38;5;124;03m\"\"\"Pass through file objects and context-manage path-likes.\"\"\"\u001B[39;00m\n\u001B[1;32m--> 465\u001B[0m     fh, opened \u001B[38;5;241m=\u001B[39m \u001B[43mto_filehandle\u001B[49m\u001B[43m(\u001B[49m\u001B[43mpath_or_file\u001B[49m\u001B[43m,\u001B[49m\u001B[43m \u001B[49m\u001B[43mmode\u001B[49m\u001B[43m,\u001B[49m\u001B[43m \u001B[49m\u001B[38;5;28;43;01mTrue\u001B[39;49;00m\u001B[43m,\u001B[49m\u001B[43m \u001B[49m\u001B[43mencoding\u001B[49m\u001B[43m)\u001B[49m\n\u001B[0;32m    466\u001B[0m     \u001B[38;5;28;01mreturn\u001B[39;00m fh \u001B[38;5;28;01mif\u001B[39;00m opened \u001B[38;5;28;01melse\u001B[39;00m contextlib\u001B[38;5;241m.\u001B[39mnullcontext(fh)\n",
      "File \u001B[1;32m~\\lib\\site-packages\\matplotlib\\cbook\\__init__.py:451\u001B[0m, in \u001B[0;36mto_filehandle\u001B[1;34m(fname, flag, return_opened, encoding)\u001B[0m\n\u001B[0;32m    449\u001B[0m         fh \u001B[38;5;241m=\u001B[39m bz2\u001B[38;5;241m.\u001B[39mBZ2File(fname, flag)\n\u001B[0;32m    450\u001B[0m     \u001B[38;5;28;01melse\u001B[39;00m:\n\u001B[1;32m--> 451\u001B[0m         fh \u001B[38;5;241m=\u001B[39m \u001B[38;5;28;43mopen\u001B[39;49m\u001B[43m(\u001B[49m\u001B[43mfname\u001B[49m\u001B[43m,\u001B[49m\u001B[43m \u001B[49m\u001B[43mflag\u001B[49m\u001B[43m,\u001B[49m\u001B[43m \u001B[49m\u001B[43mencoding\u001B[49m\u001B[38;5;241;43m=\u001B[39;49m\u001B[43mencoding\u001B[49m\u001B[43m)\u001B[49m\n\u001B[0;32m    452\u001B[0m     opened \u001B[38;5;241m=\u001B[39m \u001B[38;5;28;01mTrue\u001B[39;00m\n\u001B[0;32m    453\u001B[0m \u001B[38;5;28;01melif\u001B[39;00m \u001B[38;5;28mhasattr\u001B[39m(fname, \u001B[38;5;124m'\u001B[39m\u001B[38;5;124mseek\u001B[39m\u001B[38;5;124m'\u001B[39m):\n",
      "\u001B[1;31mFileNotFoundError\u001B[0m: [Errno 2] No such file or directory: '../tex/ch0/figs/dc_embeddings.svg'"
     ]
    },
    {
     "data": {
      "text/plain": "<Figure size 720x432 with 1 Axes>",
      "image/png": "[encoded data removed]"
     },
     "metadata": {},
     "output_type": "display_data"
    }
   ],
   "source": [
    "dc_plot = sns.scatterplot(data=dc_df,x='x',y='y')\n",
    "dc_plot.grid(False)\n",
    "dc_plot.set_xticks([])\n",
    "dc_plot.set_yticks([])\n",
    "dc_plot.set_title(\"Word Embeddings for Hobbes' De Cive (1642)\", fontdict={'size':14})\n",
    "label_points(dc_df.x, dc_df.y, dc_df.token, plt.gca(), x_offset=0.05, adjustments=label_adjustments_dc)\n",
    "plt.tight_layout()\n",
    "svg_fpath = '../tex/ch0/figs/dc_embeddings.svg'\n",
    "plt.savefig(svg_fpath)"
   ],
   "metadata": {
    "collapsed": false,
    "pycharm": {
     "name": "#%%\n"
    }
   }
  },
  {
   "cell_type": "markdown",
   "source": [
    "### Part 3: Elements"
   ],
   "metadata": {
    "collapsed": false,
    "pycharm": {
     "name": "#%% md\n"
    }
   }
  },
  {
   "cell_type": "code",
   "execution_count": null,
   "outputs": [],
   "source": [
    "text_elem = load_texts(['elements'])\n",
    "len(text_elem)"
   ],
   "metadata": {
    "collapsed": false,
    "pycharm": {
     "name": "#%%\n"
    }
   }
  },
  {
   "cell_type": "code",
   "execution_count": null,
   "outputs": [],
   "source": [
    "clean_text_elem = text_elem.lower()\n",
    "sents_elem = nltk.tokenize.sent_tokenize(clean_text_elem, \"english\")\n",
    "sent_tokens_elem = [nltk.tokenize.word_tokenize(sent) for sent in sents_elem]\n",
    "clean_sent_tokens_elem = [preprocess_tokens(sent_tokens) for sent_tokens in sent_tokens_elem]"
   ],
   "metadata": {
    "collapsed": false,
    "pycharm": {
     "name": "#%%\n"
    }
   }
  },
  {
   "cell_type": "code",
   "execution_count": null,
   "outputs": [],
   "source": [
    "elem_model = Word2Vec(sentences=clean_sent_tokens_elem, vector_size=2, window=global_window,\n",
    "                        min_count=1, workers=4, epochs=global_epochs)\n",
    "\n",
    "elem_model.save(\"w2v_elem.model\")"
   ],
   "metadata": {
    "collapsed": false,
    "pycharm": {
     "name": "#%%\n"
    }
   }
  },
  {
   "cell_type": "code",
   "execution_count": null,
   "outputs": [],
   "source": [
    "elem_df = get_embedding_df(elem_model)"
   ],
   "metadata": {
    "collapsed": false,
    "pycharm": {
     "name": "#%%\n"
    }
   }
  },
  {
   "cell_type": "code",
   "execution_count": null,
   "outputs": [],
   "source": [
    "label_adjustments_elem = {}"
   ],
   "metadata": {
    "collapsed": false,
    "pycharm": {
     "name": "#%%\n"
    }
   }
  },
  {
   "cell_type": "code",
   "execution_count": 248,
   "outputs": [
    {
     "ename": "NameError",
     "evalue": "name 'elem_df' is not defined",
     "output_type": "error",
     "traceback": [
      "\u001B[1;31m---------------------------------------------------------------------------\u001B[0m",
      "\u001B[1;31mNameError\u001B[0m                                 Traceback (most recent call last)",
      "Input \u001B[1;32mIn [248]\u001B[0m, in \u001B[0;36m<cell line: 1>\u001B[1;34m()\u001B[0m\n\u001B[1;32m----> 1\u001B[0m elem_plot \u001B[38;5;241m=\u001B[39m sns\u001B[38;5;241m.\u001B[39mscatterplot(data\u001B[38;5;241m=\u001B[39m\u001B[43melem_df\u001B[49m,x\u001B[38;5;241m=\u001B[39m\u001B[38;5;124m'\u001B[39m\u001B[38;5;124mx\u001B[39m\u001B[38;5;124m'\u001B[39m,y\u001B[38;5;241m=\u001B[39m\u001B[38;5;124m'\u001B[39m\u001B[38;5;124my\u001B[39m\u001B[38;5;124m'\u001B[39m)\n\u001B[0;32m      2\u001B[0m elem_plot\u001B[38;5;241m.\u001B[39mgrid(\u001B[38;5;28;01mFalse\u001B[39;00m)\n\u001B[0;32m      3\u001B[0m elem_plot\u001B[38;5;241m.\u001B[39mset_xticks([])\n",
      "\u001B[1;31mNameError\u001B[0m: name 'elem_df' is not defined"
     ]
    }
   ],
   "source": [
    "elem_plot = sns.scatterplot(data=elem_df,x='x',y='y')\n",
    "elem_plot.grid(False)\n",
    "elem_plot.set_xticks([])\n",
    "elem_plot.set_yticks([])\n",
    "elem_plot.set_title(\"Word Embeddings for Hobbes' Elements (1645)\", fontdict={'size':14})\n",
    "label_points(elem_df.x, elem_df.y, elem_df.token, plt.gca(), x_offset=0.05, adjustments=label_adjustments_elem)\n",
    "plt.tight_layout()\n",
    "svg_fpath = '../tex/ch0/figs/elem_embeddings.svg'\n",
    "plt.savefig(svg_fpath)"
   ],
   "metadata": {
    "collapsed": false,
    "pycharm": {
     "name": "#%%\n"
    }
   }
  },
  {
   "cell_type": "code",
   "execution_count": 248,
   "outputs": [],
   "source": [],
   "metadata": {
    "collapsed": false,
    "pycharm": {
     "name": "#%%\n"
    }
   }
  },
  {
   "cell_type": "markdown",
   "source": [
    "### Part 3: Leviathan, Behemoth, De Cive"
   ],
   "metadata": {
    "collapsed": false,
    "pycharm": {
     "name": "#%% md\n"
    }
   }
  },
  {
   "cell_type": "code",
   "execution_count": 249,
   "outputs": [
    {
     "data": {
      "text/plain": "2501361"
     },
     "execution_count": 249,
     "metadata": {},
     "output_type": "execute_result"
    }
   ],
   "source": [
    "text_hobbes = load_texts()\n",
    "len(text_hobbes)"
   ],
   "metadata": {
    "collapsed": false,
    "pycharm": {
     "name": "#%%\n"
    }
   }
  },
  {
   "cell_type": "code",
   "execution_count": 250,
   "outputs": [
    {
     "name": "stdout",
     "output_type": "stream",
     "text": [
      "alwayes externall\n",
      "externall court\n",
      "belongs externall\n",
      "externall obey\n",
      "promise externall\n",
      "externall signes\n",
      "lets externall\n",
      "externall \n",
      " externall\n",
      "externall agent\n",
      "profession externall\n",
      "externall \n",
      " externall\n",
      "externall \n",
      "action externall\n",
      "externall objects\n",
      " externall\n",
      "externall objects\n",
      "jews externall\n",
      "externall performance\n",
      "religion externall\n",
      "externall worship\n",
      " externall\n",
      "externall action\n",
      "internall externall\n",
      "externall righteousness\n",
      " externall\n",
      "externall body\n",
      " externall\n",
      "externall things\n",
      "receive externall\n",
      "externall bodies\n",
      "action externall\n",
      "externall objects\n",
      "action externall\n",
      "externall objects\n",
      "helps externall\n",
      "externall \n",
      " externall\n",
      "externall substances\n",
      "absence externall\n",
      "externall impediment\n",
      "Joining ('externall', 'impediment')\n",
      "mean externall\n",
      "externall impediment\n",
      "Joining ('externall', 'impediment')\n",
      "opposition externall\n",
      "externall body\n",
      "without externall\n",
      "externall impediment\n",
      "Joining ('externall', 'impediment')\n",
      " externall\n",
      "externall accidents\n",
      "caused externall\n",
      "externall obstacle\n",
      " externall\n",
      "externall violence\n",
      " externall\n",
      "externall signes\n",
      " externall\n",
      "externall signes\n",
      "parts externall\n",
      "externall worship\n",
      "raised externall\n",
      "externall things\n",
      "perceptible externall\n",
      "externall senses\n",
      " externall\n",
      "externall sign\n",
      " externall\n",
      "externall matter\n",
      " externall\n",
      "externall darknesse\n",
      " externall\n",
      "externall acts\n",
      "god externall\n",
      "externall worship\n",
      "tongue externall\n",
      "externall thing\n",
      " externall\n",
      "externall actions\n",
      " externall\n",
      "externall marks\n",
      "manners externall\n",
      "externall actions\n",
      "mens externall\n",
      "externall actions\n",
      " externall\n",
      "externall actions\n",
      "impression externall\n",
      "externall bodies\n",
      "representations externall\n",
      "externall bodies\n",
      "doe externall\n",
      "externall acts\n",
      "doe externall\n",
      "externall honor\n",
      " externall\n",
      "externall works\n",
      "justification externall\n",
      "externall works\n"
     ]
    }
   ],
   "source": [
    "clean_text_hobbes = text_hobbes.lower()\n",
    "sents_hobbes = nltk.tokenize.sent_tokenize(clean_text_hobbes, \"english\")\n",
    "sent_tokens_hobbes = [nltk.tokenize.word_tokenize(sent) for sent in sents_hobbes]\n",
    "clean_sent_tokens_hobbes = [preprocess_tokens(sent_tokens) for sent_tokens in sent_tokens_hobbes]"
   ],
   "metadata": {
    "collapsed": false,
    "pycharm": {
     "name": "#%%\n"
    }
   }
  },
  {
   "cell_type": "code",
   "execution_count": 251,
   "outputs": [
    {
     "data": {
      "text/plain": "[('man', 4085),\n ('law', 2222),\n ('god', 2067),\n ('one', 1670),\n ('power', 1506),\n ('therefore', 1350),\n ('king', 1333),\n ('may', 1292),\n ('also', 1221),\n ('hath', 1088),\n ('right', 1074),\n ('shall', 1071),\n ('nature', 923),\n ('every', 891),\n ('subject', 885),\n ('say', 852),\n ('another', 811),\n ('people', 753),\n ('yet', 739),\n ('time', 736),\n ('upon', 735),\n ('christ', 722),\n ('things', 703),\n ('soveraign', 697),\n ('without', 686),\n ('made', 671),\n ('first', 663),\n ('reason', 653),\n ('called', 652),\n ('authority', 609),\n ('make', 604),\n ('onely', 583),\n ('many', 578),\n ('obey', 577),\n ('though', 574),\n ('good', 561),\n ('thing', 558),\n ('civill', 520),\n ('words', 513),\n ('place', 506),\n ('parliament', 505),\n ('either', 501),\n ('done', 499),\n ('must', 496),\n ('said', 495),\n ('great', 491),\n ('would', 488),\n ('doe', 479),\n ('part', 475),\n ('much', 469),\n ('church', 465),\n ('word', 465),\n ('nothing', 431),\n ('government', 430),\n ('common-wealth', 427),\n ('kingdome', 409),\n ('naturall', 398),\n ('us', 390),\n ('others', 388),\n ('unto', 386),\n ('peace', 383),\n ('like', 367),\n ('fear', 366),\n ('city', 360),\n ('himselfe', 360),\n ('come', 356),\n ('actions', 353),\n ('two', 353),\n ('name', 352),\n ('life', 347),\n ('use', 346),\n ('person', 344),\n ('could', 343),\n ('faith', 335),\n ('covenant', 333),\n ('command', 332),\n ('body', 330),\n ('take', 324),\n ('think', 323),\n ('know', 320),\n ('manner', 319),\n ('necessary', 316),\n ('concerning', 315),\n ('lord', 314),\n ('give', 314),\n ('world', 307),\n ('christian', 301),\n ('neither', 301),\n ('call', 298),\n ('whether', 298),\n ('might', 295),\n ('liberty', 294),\n ('true', 293),\n ('well', 292),\n ('taken', 290),\n ('cause', 290),\n ('contrary', 287),\n ('judge', 285),\n ('honour', 284),\n ('moses', 282),\n ('given', 280),\n ('sense', 280),\n ('end', 279),\n ('common', 268),\n ('saviour', 266),\n ('whereof', 265),\n ('doctrine', 265),\n ('whose', 264),\n ('amongst', 264),\n ('private', 262),\n ('scripture', 261),\n ('whatsoever', 261),\n ('present', 257),\n ('way', 257),\n ('state', 256),\n ('see', 251),\n ('publique', 246),\n ('supreme', 245),\n ('else', 244),\n ('never', 244),\n ('spirit', 242),\n ('death', 240),\n ('bee', 240),\n ('whole', 238),\n ('according', 238),\n ('places', 237),\n ('sometimes', 237),\n ('war', 236),\n ('put', 235),\n ('new', 234),\n ('understood', 233),\n ('justice', 230),\n ('ought', 230),\n ('seeing', 230),\n ('assembly', 228),\n ('chapter', 227),\n ('holy', 226),\n ('doth', 226),\n ('together', 224),\n ('opinion', 222),\n ('army', 221),\n ('act', 219),\n ('religion', 219),\n ('apostles', 219),\n ('thou', 215),\n ('mind', 212),\n ('saith', 212),\n ('thought', 211),\n ('thus', 211),\n ('persons', 210),\n ('knowledge', 209),\n ('house', 206),\n ('worship', 206),\n ('wherein', 205),\n ('hee', 204),\n ('set', 203),\n ('st', 202),\n ('evill', 202),\n ('pope', 200),\n ('rest', 200),\n ('long', 199),\n ('particular', 197),\n ('day', 193),\n ('otherwise', 192),\n ('action', 192),\n ('case', 188),\n ('away', 188),\n ('already', 187),\n ('greater', 187),\n ('children', 187),\n ('england', 186),\n ('sent', 186),\n ('consequently', 185),\n ('means', 184),\n ('till', 183),\n ('thereof', 183),\n ('sovereign', 182),\n ('names', 181),\n ('none', 180),\n ('punishment', 179),\n ('whereby', 178),\n ('certain', 177),\n ('dominion', 176),\n ('manifest', 176),\n ('benefit', 174),\n ('selfe', 173),\n ('divers', 172),\n ('father', 171),\n ('truth', 170),\n ('little', 169),\n ('desire', 167),\n ('former', 167),\n ('thereby', 166),\n ('second', 165),\n ('hands', 165),\n ('divine', 165),\n ('beleeve', 165),\n ('consent', 163),\n ('earth', 162),\n ('times', 161),\n ('old', 159),\n ('speak', 158),\n ('wee', 158),\n ('warre', 158),\n ('c', 157),\n ('false', 156),\n ('written', 154),\n ('three', 152),\n ('prophets', 151),\n ('bodies', 150),\n ('salvation', 150),\n ('motion', 150),\n ('enough', 149),\n ('understand', 149),\n ('heaven', 148),\n ('multitude', 148),\n ('lesse', 148),\n ('even', 147),\n ('causes', 146),\n ('commanded', 146),\n ('acts', 145),\n ('besides', 144),\n ('received', 144),\n ('question', 143),\n ('kind', 142),\n ('ministers', 142),\n ('number', 142),\n ('general', 142),\n ('last', 142),\n ('thy', 141),\n ('rather', 141),\n ('passions', 141),\n ('believe', 140),\n ('free', 140),\n ('parts', 140),\n ('absolute', 140),\n ('obliged', 140),\n ('counsell', 140),\n ('monarchy', 138),\n ('sufficient', 137),\n ('bound', 137),\n ('contract', 137),\n ('commands', 136),\n ('came', 134),\n ('namely', 134),\n ('let', 134),\n ('paul', 134),\n ('love', 132),\n ('condition', 132),\n ('consisteth', 132),\n ('matter', 131),\n ('office', 131),\n ('mans', 131),\n ('testament', 130),\n ('force', 130),\n ('consider', 130),\n ('speech', 130),\n ('thee', 130),\n ('want', 128),\n ('nations', 127),\n ('known', 125),\n ('beginning', 125),\n ('declared', 125),\n ('kingdom', 125),\n ('teach', 125),\n ('next', 125),\n ('proceed', 123),\n ('opinions', 122),\n ('better', 122),\n ('commonwealth', 121),\n ('ever', 121),\n ('third', 121),\n ('article', 121),\n ('example', 121),\n ('monarch', 119),\n ('judges', 119),\n ('hope', 119),\n ('eternall', 119),\n ('whereas', 118),\n ('making', 118),\n ('princes', 118),\n ('passion', 118),\n ('need', 118),\n ('john', 117),\n ('follow', 117),\n ('scriptures', 116),\n ('promise', 116),\n ('duty', 115),\n ('effect', 115),\n ('rule', 114),\n ('priest', 114),\n ('receive', 114),\n ('commonly', 113),\n ('lawfull', 113),\n ('israel', 112),\n ('living', 112),\n ('judgement', 112),\n ('chap', 112),\n ('jews', 111),\n ('enemy', 111),\n ('prophet', 111),\n ('high', 110),\n ('whence', 110),\n ('unjust', 110),\n ('future', 110),\n ('rome', 109),\n ('taught', 109),\n ('find', 109),\n ('meant', 109),\n ('consequence', 108),\n ('lords', 108),\n ('strength', 108),\n ('priests', 107),\n ('injury', 107),\n ('abraham', 107),\n ('read', 106),\n ('sentence', 106),\n ('endeavour', 106),\n ('spoken', 106),\n ('experience', 106),\n ('able', 105),\n ('philosophy', 105),\n ('unlesse', 105),\n ('christians', 104),\n ('conscience', 104),\n ('enemies', 103),\n ('greatest', 103),\n ('defence', 103),\n ('keep', 103),\n ('took', 103),\n ('judgment', 103),\n ('equall', 103),\n ('used', 102),\n ('live', 102),\n ('party', 101),\n ('peter', 101),\n ('vain', 101),\n ('brought', 101),\n ('cromwell', 101),\n ('verse', 101),\n ('books', 100),\n ('son', 100),\n ('since', 100),\n ('spirits', 100),\n ('evident', 100),\n ('crime', 100),\n ('fact', 100),\n ('signes', 100),\n ('order', 98),\n ('rights', 98),\n ('kill', 98),\n ('often', 98),\n ('generall', 98),\n ('appetite', 98),\n ('fire', 98),\n ('gave', 97),\n ('art', 97),\n ('wit', 97),\n ('sinne', 97),\n ('money', 96),\n ('still', 96),\n ('natural', 96),\n ('left', 95),\n ('lastly', 95),\n ('humane', 95),\n ('injustice', 94),\n ('best', 94),\n ('required', 94),\n ('among', 94),\n ('trust', 94),\n ('properly', 94),\n ('maketh', 94),\n ('thence', 93),\n ('easily', 93),\n ('glory', 93),\n ('indeed', 92),\n ('civil', 92),\n ('forth', 92),\n ('hand', 92),\n ('bishops', 91),\n ('land', 91),\n ('pleasure', 91),\n ('interpretation', 90),\n ('perhaps', 90),\n ('observe', 90),\n ('found', 90),\n ('members', 90),\n ('past', 90),\n ('nation', 89),\n ('impossible', 89),\n ('heart', 89),\n ('vertue', 89),\n ('covenants', 89),\n ('doctrines', 88),\n ('mean', 88),\n ('prince', 88),\n ('difference', 88),\n ('less', 88),\n ('servants', 88),\n ('although', 88),\n ('consequences', 88),\n ('soveraigns', 88),\n ('title', 87),\n ('majesty', 86),\n ('secondly', 86),\n ('hurt', 86),\n ('understanding', 86),\n ('vers', 86),\n ('afterwards', 85),\n ('except', 85),\n ('danger', 85),\n ('dead', 85),\n ('signifie', 85),\n ('seem', 84),\n ('appear', 84),\n ('object', 84),\n ('year', 83),\n ('ordained', 83),\n ('english', 83),\n ('light', 83),\n ('somewhat', 83),\n ('answer', 83),\n ('conception', 83),\n ('sovereignty', 82),\n ('master', 82),\n ('point', 82),\n ('stand', 82),\n ('fit', 82),\n ('sin', 82),\n ('science', 82),\n ('officers', 82),\n ('representative', 82),\n ('servant', 82),\n ('sorts', 81),\n ('service', 81),\n ('bring', 81),\n ('purpose', 81),\n ('obligation', 81),\n ('shalt', 81),\n ('society', 81),\n ('common-wealths', 81),\n ('cast', 80),\n ('london', 79),\n ('ignorance', 79),\n ('towards', 78),\n ('generally', 78),\n ('governed', 78),\n ('needs', 78),\n ('within', 78),\n ('security', 78),\n ('rump', 78),\n ('image', 78),\n ('rules', 77),\n ('doubt', 77),\n ('owne', 77),\n ('earl', 76),\n ('arise', 76),\n ('work', 76),\n ('presently', 76),\n ('declare', 76),\n ('spirituall', 76),\n ('different', 75),\n ('miracles', 75),\n ('whosoever', 75),\n ('resurrection', 75),\n ('ghost', 74),\n ('soever', 74),\n ('partly', 74),\n ('pastors', 74),\n ('cases', 74),\n ('th', 74),\n ('acknowledge', 74),\n ('breach', 74),\n ('supposed', 74),\n ('subjection', 74),\n ('necessarily', 74),\n ('imagination', 74),\n ('passe', 74),\n ('serve', 73),\n ('equity', 73),\n ('court', 73),\n ('occasion', 73),\n ('sins', 73),\n ('saying', 73),\n ('self', 73),\n ('soldiers', 72),\n ('succession', 72),\n ('meaning', 72),\n ('due', 72),\n ('granted', 72),\n ('appointed', 72),\n ('institution', 72),\n ('discourse', 72),\n ('equality', 72),\n ('side', 71),\n ('points', 71),\n ('far', 71),\n ('rebellion', 71),\n ('scots', 71),\n ('principles', 71),\n ('water', 71),\n ('mat', 71),\n ('govern', 70),\n ('go', 70),\n ('estate', 70),\n ('forces', 70),\n ('favour', 70),\n ('goods', 70),\n ('ambition', 70),\n ('author', 70),\n ('fancy', 70),\n ('ver', 70),\n ('council', 69),\n ('makes', 69),\n ('committed', 69),\n ('taking', 69),\n ('almost', 69),\n ('contained', 69),\n ('argument', 69),\n ('prove', 69),\n ('proper', 69),\n ('mens', 69),\n ('signe', 69),\n ('neverthelesse', 69),\n ('cities', 68),\n ('safety', 68),\n ('least', 68),\n ('wills', 68),\n ('spake', 68),\n ('propriety', 68),\n ('necessity', 67),\n ('derived', 67),\n ('thoughts', 67),\n ('deny', 67),\n ('victory', 67),\n ('followeth', 67),\n ('insomuch', 66),\n ('book', 66),\n ('controversies', 66),\n ('considered', 66),\n ('commons', 65),\n ('pretend', 65),\n ('immediately', 65),\n ('punishments', 65),\n ('conceive', 65),\n ('houses', 65),\n ('naturally', 65),\n ('exercise', 64),\n ('account', 64),\n ('hear', 64),\n ('hence', 64),\n ('voluntary', 64),\n ('constituted', 64),\n ('reasoning', 64),\n ('sword', 64),\n ('thirdly', 63),\n ('signification', 63),\n ('pleased', 63),\n ('therein', 63),\n ('require', 63),\n ('enter', 63),\n ('seen', 63),\n ('preservation', 63),\n ('determined', 63),\n ('giveth', 63),\n ('preach', 62),\n ('delivered', 62),\n ('citizens', 62),\n ('notice', 62),\n ('divided', 62),\n ('giving', 62),\n ('intention', 62),\n ('severall', 62),\n ('v', 62),\n ('observed', 61),\n ('especially', 61),\n ('help', 61),\n ('lay', 61),\n ('allowed', 61),\n ('articles', 61),\n ('works', 61),\n ('forbidden', 61),\n ('please', 61),\n ('shew', 61),\n ('mutuall', 61),\n ('shewed', 61),\n ('moyses', 61),\n ('clergy', 60),\n ('gift', 60),\n ('charge', 60),\n ('sedition', 60),\n ('country', 60),\n ('proceeding', 60),\n ('sign', 60),\n ('signs', 60),\n ('signifieth', 60),\n ('tell', 59),\n ('born', 59),\n ('fall', 59),\n ('commission', 59),\n ('preaching', 59),\n ('foundation', 59),\n ('went', 59),\n ('coming', 59),\n ('gotten', 59),\n ('alwayes', 59),\n ('supernaturall', 59),\n ('proceedeth', 59),\n ('sufficiently', 58),\n ('heathen', 58),\n ('alone', 58),\n ('powers', 58),\n ('following', 58),\n ('extraordinary', 58),\n ('lawfully', 58),\n ('matters', 58),\n ('creatures', 58),\n ('morall', 58),\n ('followes', 58),\n ('elders', 58),\n ('masters', 57),\n ('agree', 57),\n ('aristotle', 57),\n ('wise', 57),\n ('language', 57),\n ('twelve', 57),\n ('dreams', 57),\n ('vision', 57),\n ('sort', 56),\n ('held', 56),\n ('peculiar', 56),\n ('riches', 56),\n ('distinction', 56),\n ('began', 56),\n ('congregation', 56),\n ('friends', 56),\n ('care', 56),\n ('ye', 56),\n ('pretended', 55),\n ('change', 55),\n ('democracy', 55),\n ('hard', 55),\n ('voice', 55),\n ('sir', 55),\n ('subordinate', 55),\n ('wherefore', 55),\n ('baptisme', 55),\n ('evil', 54),\n ('scotland', 54),\n ('kept', 54),\n ('ancient', 54),\n ('chosen', 54),\n ('heard', 54),\n ('raised', 54),\n ('leave', 54),\n ('conceptions', 54),\n ('dream', 54),\n ('truly', 53),\n ('popular', 53),\n ('grant', 53),\n ('seems', 53),\n ('head', 53),\n ('return', 53),\n ('sight', 53),\n ('definition', 53),\n ('angels', 53),\n ('proved', 53),\n ('mankind', 53),\n ('speaking', 53),\n ('images', 53),\n ('labour', 53),\n ('soule', 53),\n ('yee', 53),\n ('mother', 53),\n ('difficulty', 52),\n ('repentance', 52),\n ('nay', 52),\n ('universities', 52),\n ('drawn', 52),\n ('defend', 52),\n ('distinguish', 52),\n ('caused', 52),\n ('oblige', 52),\n ('respect', 52),\n ('happen', 52),\n ('militia', 52),\n ('universall', 52),\n ('belongs', 52),\n ('precept', 52),\n ('longer', 51),\n ('several', 51),\n ('teaching', 51),\n ('possible', 51),\n ('judged', 51),\n ('home', 51),\n ('possession', 51),\n ('churches', 51),\n ('almighty', 51),\n ('ordinary', 51),\n ('ground', 51),\n ('equally', 51),\n ('questions', 51),\n ('suffer', 51),\n ('selves', 51),\n ('seemeth', 51),\n ('pretence', 50),\n ('resist', 50),\n ('chief', 50),\n ('comes', 50),\n ('writing', 50),\n ('later', 50),\n ('greek', 50),\n ('look', 50),\n ('wrong', 50),\n ('custome', 50),\n ('contracts', 50),\n ('notwithstanding', 49),\n ('presbyterians', 49),\n ('always', 49),\n ('reign', 49),\n ('hold', 49),\n ('formerly', 49),\n ('likewise', 49),\n ('simply', 49),\n ('unlawfull', 49),\n ('constitution', 48),\n ('punish', 48),\n ('jurisdiction', 48),\n ('bear', 48),\n ('submit', 48),\n ('become', 48),\n ('study', 48),\n ('profit', 48),\n ('arguments', 48),\n ('learned', 48),\n ('delight', 48),\n ('proceeded', 48),\n ('fault', 48),\n ('company', 48),\n ('wisdome', 48),\n ('goe', 48),\n ('magistrates', 48),\n ('mony', 48),\n ('gentiles', 48),\n ('ireland', 47),\n ('advantage', 47),\n ('text', 47),\n ('refuse', 47),\n ('die', 47),\n ('told', 47),\n ('execution', 47),\n ('seek', 47),\n ('jewes', 47),\n ('speaketh', 47),\n ('christs', 47),\n ('brain', 47),\n ('arms', 46),\n ('unless', 46),\n ('excommunication', 46),\n ('manners', 46),\n ('pass', 46),\n ('nevertheless', 46),\n ('fight', 46),\n ('choose', 46),\n ('acquired', 46),\n ('greeks', 46),\n ('form', 46),\n ('interest', 46),\n ('strange', 46),\n ('protection', 46),\n ('belong', 46),\n ('sect', 46),\n ('aristocracy', 46),\n ('contempt', 46),\n ('wicked', 46),\n ('businesse', 46),\n ('externall', 46),\n ('commandement', 46),\n ('maintain', 45),\n ('bishop', 45),\n ('saved', 45),\n ('save', 45),\n ('oath', 45),\n ('idolatry', 45),\n ('thereunto', 45),\n ('family', 45),\n ('dissolved', 45),\n ('reputation', 45),\n ('diversity', 45),\n ('forbid', 45),\n ('violence', 45),\n ('promised', 45),\n ('protector', 45),\n ('councell', 45),\n ('senses', 45),\n ('aaron', 45),\n ('saw', 44),\n ('public', 44),\n ('mouth', 44),\n ('punished', 44),\n ('calling', 44),\n ('ends', 44),\n ('break', 44),\n ('suppose', 44),\n ('hearing', 44),\n ('everlasting', 44),\n ('election', 44),\n ('enjoy', 44),\n ('proposition', 44),\n ('limited', 44),\n ('consequent', 44),\n ('originall', 44),\n ('gen', 44),\n ('appeareth', 44),\n ('esteemed', 43),\n ('remember', 43),\n ('business', 43),\n ('popes', 43),\n ('lawful', 43),\n ('elected', 43),\n ('precedent', 43),\n ('writings', 43),\n ('late', 43),\n ('testimony', 43),\n ('propositions', 43),\n ('meet', 43),\n ('counsel', 43),\n ('single', 43),\n ('eyes', 43),\n ('purgatory', 43),\n ('sake', 43),\n ('history', 43),\n ('politic', 43),\n ('honourable', 43),\n ('moved', 43),\n ('prophecy', 43),\n ('generation', 43),\n ('tyed', 43),\n ('temporall', 43),\n ('sinnes', 43),\n ('passed', 42),\n ('precepts', 42),\n ('condemned', 42),\n ('fourth', 42),\n ('acknowledged', 42),\n ('controversy', 42),\n ('anger', 42),\n ('something', 42),\n ('substance', 42),\n ('parties', 42),\n ('colour', 42),\n ('knowing', 42),\n ('prudence', 42),\n ('attributed', 42),\n ('deliberation', 42),\n ('sonne', 42),\n ('revelation', 42),\n ('vertues', 42),\n ('cor', 42),\n ('administration', 42),\n ('kinds', 41),\n ('lived', 41),\n ('roman', 41),\n ('deut', 41),\n ('apostle', 41),\n ('signifies', 41),\n ('philosophers', 41),\n ('error', 41),\n ('pastor', 41),\n ('usually', 41),\n ('thereto', 41),\n ('lost', 41),\n ('perform', 41),\n ('guilty', 41),\n ('sit', 41),\n ('expect', 41),\n ('signified', 41),\n ('judicature', 41),\n ('value', 41),\n ('effects', 41),\n ('summe', 41),\n ('anything', 40),\n ('disciples', 40),\n ('ill', 40),\n ('flesh', 40),\n ('interpreter', 40),\n ('raise', 40),\n ('farther', 40),\n ('followed', 40),\n ('laid', 40),\n ('depend', 40),\n ('attributes', 40),\n ('saul', 40),\n ('jerusalem', 40),\n ('child', 40),\n ('send', 40),\n ('demand', 40),\n ('performance', 40),\n ('appears', 40),\n ('dispose', 40),\n ('town', 40),\n ('rightly', 40),\n ('transferred', 40),\n ('matth', 40),\n ('exod', 40),\n ('instituted', 40),\n ('pay', 39),\n ('mentioned', 39),\n ('produce', 39),\n ('get', 39),\n ('minister', 39),\n ('charity', 39),\n ('design', 39),\n ('advice', 39),\n ('deliver', 39),\n ('crimes', 39),\n ('hitherto', 39),\n ('david', 39),\n ('commandeth', 39),\n ('faction', 39),\n ('memory', 39),\n ('reasons', 39),\n ('meer', 39),\n ('errour', 39),\n ('ecclesiasticall', 39),\n ('ariseth', 39),\n ('fathers', 39),\n ('witnesse', 39),\n ('attribute', 39),\n ('commandements', 39),\n ('beleeved', 39),\n ('angel', 39),\n ('marriage', 38),\n ('plain', 38),\n ('treason', 38),\n ('petition', 38),\n ('forced', 38),\n ('learning', 38),\n ('afterward', 38),\n ('sea', 38),\n ('strong', 38),\n ('romans', 38),\n ('preached', 38),\n ('mark', 38),\n ('immediate', 38),\n ('absurd', 38),\n ('fortune', 38),\n ('happens', 38),\n ('examples', 38),\n ('woman', 38),\n ('destroy', 38),\n ('small', 38),\n ('propounded', 38),\n ('sudden', 38),\n ('answered', 38),\n ('lot', 38),\n ('miracle', 38),\n ('performe', 38),\n ('luke', 38),\n ('ii', 37),\n ('virtue', 37),\n ('sure', 37),\n ('baptized', 37),\n ('hell', 37),\n ('interpret', 37),\n ('trusted', 37),\n ('measure', 37),\n ('consideration', 37),\n ('reward', 37),\n ('conclude', 37),\n ('beasts', 37),\n ('major', 37),\n ('contention', 37),\n ('seventy', 37),\n ('discretion', 37),\n ('inflicted', 37),\n ('fourthly', 36),\n ('knew', 36),\n ('gospel', 36),\n ('added', 36),\n ('maintenance', 36),\n ('dispute', 36),\n ('assemblies', 36),\n ('parents', 36),\n ('tis', 36),\n ('authors', 36),\n ('revenge', 36),\n ('wayes', 36),\n ('darknesse', 36),\n ('mine', 36),\n ('creature', 36),\n ('againe', 36),\n ('grace', 36),\n ('saint', 36),\n ('qualities', 36),\n ('seed', 36),\n ('israelites', 36),\n ('belongeth', 36),\n ('incorporeall', 36),\n ('degrees', 35),\n ...]"
     },
     "execution_count": 251,
     "metadata": {},
     "output_type": "execute_result"
    }
   ],
   "source": [
    "get_token_counts(clean_sent_tokens_hobbes)"
   ],
   "metadata": {
    "collapsed": false,
    "pycharm": {
     "name": "#%%\n"
    }
   }
  },
  {
   "cell_type": "code",
   "execution_count": 252,
   "outputs": [],
   "source": [
    "hobbes_model = Word2Vec(sentences=clean_sent_tokens_hobbes, vector_size=2, window=global_window,\n",
    "                        min_count=1, workers=4, epochs=global_epochs)\n",
    "\n",
    "hobbes_model.save(\"w2v_hobbes.model\")"
   ],
   "metadata": {
    "collapsed": false,
    "pycharm": {
     "name": "#%%\n"
    }
   }
  },
  {
   "cell_type": "code",
   "execution_count": 253,
   "outputs": [],
   "source": [
    "hobbes_df = get_embedding_df(hobbes_model)"
   ],
   "metadata": {
    "collapsed": false,
    "pycharm": {
     "name": "#%%\n"
    }
   }
  },
  {
   "cell_type": "code",
   "execution_count": 254,
   "outputs": [],
   "source": [
    "\n",
    "point_adjustments_hobbes = {\n",
    "    #'obligation': np.array([0,0.2]),\n",
    "    #'common-wealth': np.array([0,0.1]),\n",
    "    #'liberty': np.array([0,0.4]),\n",
    "    'government': [0,-0.25],\n",
    "    'justice': [0.0,0.2],\n",
    "    #'law': np.array([0,-0.2]),\n",
    "    #'civill': np.array([0.2,0.0]),\n",
    "    #'soveraign': np.array([0,-0.1]),\n",
    "    #'holy': np.array([0,0.0]),\n",
    "    'lord': [-0.1,0.2],\n",
    "    'holy': [0.05,0.00],\n",
    "    'king': [0.0,0.1],\n",
    "    'kingdome': [0.00,-0.15],\n",
    "    'christ': [0.00,-0.1],\n",
    "    #'liberty': [0.00,0.5],\n",
    "    'free': [0.00,0.5],\n",
    "}\n",
    "# And adjust the vals accordingly\n",
    "hobbes_df.set_index('token', inplace=True)\n",
    "for adj_word, adj_shift in point_adjustments_hobbes.items():\n",
    "    hobbes_df.loc[adj_word] = hobbes_df.loc[adj_word] + np.array(adj_shift)\n",
    "hobbes_df.reset_index(inplace=True)\n",
    "label_adjustments_hobbes = {\n",
    "}"
   ],
   "metadata": {
    "collapsed": false,
    "pycharm": {
     "name": "#%%\n"
    }
   }
  },
  {
   "cell_type": "markdown",
   "source": [
    "And plot"
   ],
   "metadata": {
    "collapsed": false,
    "pycharm": {
     "name": "#%% md\n"
    }
   }
  },
  {
   "cell_type": "code",
   "execution_count": 256,
   "outputs": [
    {
     "data": {
      "text/plain": "<Figure size 720x432 with 1 Axes>",
      "image/png": "[encoded data removed]"
     },
     "metadata": {},
     "output_type": "display_data"
    }
   ],
   "source": [
    "hobbes_plot = sns.scatterplot(data=hobbes_df,x='x',y='y')\n",
    "hobbes_plot.grid(False)\n",
    "hobbes_plot.set_xticks([])\n",
    "hobbes_plot.set_yticks([])\n",
    "hobbes_plot.set_title(\"Word Embeddings for Hobbes' Leviathan, Behemoth, and De Cive\", fontdict={'size':14})\n",
    "label_points(hobbes_df.x, hobbes_df.y, hobbes_df.token, plt.gca(), x_offset=0.05, adjustments=label_adjustments_hobbes)\n",
    "plt.tight_layout()\n",
    "svg_fpath = os.path.join(fig_path, 'hobbes-embeddings.svg')\n",
    "plt.savefig(svg_fpath)"
   ],
   "metadata": {
    "collapsed": false,
    "pycharm": {
     "name": "#%%\n"
    }
   }
  },
  {
   "cell_type": "code",
   "execution_count": 1553,
   "outputs": [
    {
     "data": {
      "text/plain": "<IPython.core.display.SVG object>",
      "image/svg+xml": "<svg xmlns:xlink=\"http://www.w3.org/1999/xlink\" xmlns=\"http://www.w3.org/2000/svg\" width=\"720pt\" height=\"432pt\" viewBox=\"0 0 720 432\" version=\"1.1\">\n <metadata>\n  <rdf:RDF xmlns:dc=\"http://purl.org/dc/elements/1.1/\" xmlns:cc=\"http://creativecommons.org/ns#\" xmlns:rdf=\"http://www.w3.org/1999/02/22-rdf-syntax-ns#\">\n   <cc:Work>\n    <dc:type rdf:resource=\"http://purl.org/dc/dcmitype/StillImage\"/>\n    <dc:date>2022-06-11T01:38:08.190852</dc:date>\n    <dc:format>image/svg+xml</dc:format>\n    <dc:creator>\n     <cc:Agent>\n      <dc:title>Matplotlib v3.5.2, https://matplotlib.org/</dc:title>\n     </cc:Agent>\n    </dc:creator>\n   </cc:Work>\n  </rdf:RDF>\n </metadata>\n <defs>\n  <style type=\"text/css\">*{stroke-linejoin: round; stroke-linecap: butt}</style>\n </defs>\n <g id=\"figure_1\">\n  <g id=\"patch_1\">\n   <path d=\"M 0 432  L 720 432  L 720 0  L 0 0  z \" style=\"fill: #ffffff\"/>\n  </g>\n  <g id=\"axes_1\">\n   <g id=\"patch_2\">\n    <path d=\"M 26.96 405.04  L 672.107677 405.04  L 672.107677 29.96  L 26.96 29.96  z \" style=\"fill: #ffffff\"/>\n   </g>\n   <g id=\"matplotlib.axis_1\">\n    <g id=\"text_1\">\n     <!-- x -->\n     <g style=\"fill: #262626\" transform=\"translate(346.533838 417.629375)scale(0.12 -0.12)\">\n      <defs>\n       <path id=\"ArialMT-78\" d=\"M 47 0  L 1259 1725  L 138 3319  L 841 3319  L 1350 2541  Q 1494 2319 1581 2169  Q 1719 2375 1834 2534  L 2394 3319  L 3066 3319  L 1919 1756  L 3153 0  L 2463 0  L 1781 1031  L 1600 1309  L 728 0  L 47 0  z \" transform=\"scale(0.015625)\"/>\n      </defs>\n      <use xlink:href=\"#ArialMT-78\"/>\n     </g>\n    </g>\n   </g>\n   <g id=\"matplotlib.axis_2\">\n    <g id=\"text_2\">\n     <!-- y -->\n     <g style=\"fill: #262626\" transform=\"translate(20.434375 220.5)rotate(-90)scale(0.12 -0.12)\">\n      <defs>\n       <path id=\"ArialMT-79\" d=\"M 397 -1278  L 334 -750  Q 519 -800 656 -800  Q 844 -800 956 -737  Q 1069 -675 1141 -563  Q 1194 -478 1313 -144  Q 1328 -97 1363 -6  L 103 3319  L 709 3319  L 1400 1397  Q 1534 1031 1641 628  Q 1738 1016 1872 1384  L 2581 3319  L 3144 3319  L 1881 -56  Q 1678 -603 1566 -809  Q 1416 -1088 1222 -1217  Q 1028 -1347 759 -1347  Q 597 -1347 397 -1278  z \" transform=\"scale(0.015625)\"/>\n      </defs>\n      <use xlink:href=\"#ArialMT-79\"/>\n     </g>\n    </g>\n   </g>\n   <g id=\"PathCollection_1\">\n    <defs>\n     <path id=\"mecda62635f\" d=\"M 0 3  C 0.795609 3 1.55874 2.683901 2.12132 2.12132  C 2.683901 1.55874 3 0.795609 3 0  C 3 -0.795609 2.683901 -1.55874 2.12132 -2.12132  C 1.55874 -2.683901 0.795609 -3 0 -3  C -0.795609 -3 -1.55874 -2.683901 -2.12132 -2.12132  C -2.683901 -1.55874 -3 -0.795609 -3 0  C -3 0.795609 -2.683901 1.55874 -2.12132 2.12132  C -1.55874 2.683901 -0.795609 3 0 3  z \" style=\"stroke: #ffffff; stroke-width: 0.48\"/>\n    </defs>\n    <g clip-path=\"url(#pc60dda011b)\">\n     <use xlink:href=\"#mecda62635f\" x=\"411.286789\" y=\"115.528639\" style=\"fill: #4c72b0; stroke: #ffffff; stroke-width: 0.48\"/>\n     <use xlink:href=\"#mecda62635f\" x=\"56.284894\" y=\"387.990909\" style=\"fill: #4c72b0; stroke: #ffffff; stroke-width: 0.48\"/>\n     <use xlink:href=\"#mecda62635f\" x=\"419.751811\" y=\"116.632212\" style=\"fill: #4c72b0; stroke: #ffffff; stroke-width: 0.48\"/>\n     <use xlink:href=\"#mecda62635f\" x=\"603.52323\" y=\"53.640875\" style=\"fill: #4c72b0; stroke: #ffffff; stroke-width: 0.48\"/>\n     <use xlink:href=\"#mecda62635f\" x=\"419.068304\" y=\"105.240814\" style=\"fill: #4c72b0; stroke: #ffffff; stroke-width: 0.48\"/>\n     <use xlink:href=\"#mecda62635f\" x=\"596.865271\" y=\"61.791761\" style=\"fill: #4c72b0; stroke: #ffffff; stroke-width: 0.48\"/>\n     <use xlink:href=\"#mecda62635f\" x=\"64.716143\" y=\"364.449782\" style=\"fill: #4c72b0; stroke: #ffffff; stroke-width: 0.48\"/>\n     <use xlink:href=\"#mecda62635f\" x=\"487.495583\" y=\"81.746098\" style=\"fill: #4c72b0; stroke: #ffffff; stroke-width: 0.48\"/>\n     <use xlink:href=\"#mecda62635f\" x=\"509.209983\" y=\"73.610823\" style=\"fill: #4c72b0; stroke: #ffffff; stroke-width: 0.48\"/>\n     <use xlink:href=\"#mecda62635f\" x=\"82.307035\" y=\"331.078085\" style=\"fill: #4c72b0; stroke: #ffffff; stroke-width: 0.48\"/>\n     <use xlink:href=\"#mecda62635f\" x=\"381.530574\" y=\"135.2089\" style=\"fill: #4c72b0; stroke: #ffffff; stroke-width: 0.48\"/>\n     <use xlink:href=\"#mecda62635f\" x=\"642.782782\" y=\"47.009091\" style=\"fill: #4c72b0; stroke: #ffffff; stroke-width: 0.48\"/>\n     <use xlink:href=\"#mecda62635f\" x=\"261.656099\" y=\"171.026548\" style=\"fill: #4c72b0; stroke: #ffffff; stroke-width: 0.48\"/>\n     <use xlink:href=\"#mecda62635f\" x=\"297.776179\" y=\"159.69585\" style=\"fill: #4c72b0; stroke: #ffffff; stroke-width: 0.48\"/>\n     <use xlink:href=\"#mecda62635f\" x=\"458.541695\" y=\"101.520014\" style=\"fill: #4c72b0; stroke: #ffffff; stroke-width: 0.48\"/>\n     <use xlink:href=\"#mecda62635f\" x=\"535.756943\" y=\"85.719184\" style=\"fill: #4c72b0; stroke: #ffffff; stroke-width: 0.48\"/>\n    </g>\n   </g>\n   <g id=\"patch_3\">\n    <path d=\"M 26.96 405.04  L 26.96 29.96  \" style=\"fill: none; stroke: #cccccc; stroke-width: 1.25; stroke-linejoin: miter; stroke-linecap: square\"/>\n   </g>\n   <g id=\"patch_4\">\n    <path d=\"M 672.107677 405.04  L 672.107677 29.96  \" style=\"fill: none; stroke: #cccccc; stroke-width: 1.25; stroke-linejoin: miter; stroke-linecap: square\"/>\n   </g>\n   <g id=\"patch_5\">\n    <path d=\"M 26.96 405.04  L 672.107677 405.04  \" style=\"fill: none; stroke: #cccccc; stroke-width: 1.25; stroke-linejoin: miter; stroke-linecap: square\"/>\n   </g>\n   <g id=\"patch_6\">\n    <path d=\"M 26.96 29.96  L 672.107677 29.96  \" style=\"fill: none; stroke: #cccccc; stroke-width: 1.25; stroke-linejoin: miter; stroke-linecap: square\"/>\n   </g>\n   <g id=\"text_3\">\n    <!-- authority -->\n    <g style=\"fill: #262626\" transform=\"translate(414.03533 118.81317)scale(0.13 -0.13)\">\n     <defs>\n      <path id=\"ArialMT-61\" d=\"M 2588 409  Q 2275 144 1986 34  Q 1697 -75 1366 -75  Q 819 -75 525 192  Q 231 459 231 875  Q 231 1119 342 1320  Q 453 1522 633 1644  Q 813 1766 1038 1828  Q 1203 1872 1538 1913  Q 2219 1994 2541 2106  Q 2544 2222 2544 2253  Q 2544 2597 2384 2738  Q 2169 2928 1744 2928  Q 1347 2928 1158 2789  Q 969 2650 878 2297  L 328 2372  Q 403 2725 575 2942  Q 747 3159 1072 3276  Q 1397 3394 1825 3394  Q 2250 3394 2515 3294  Q 2781 3194 2906 3042  Q 3031 2891 3081 2659  Q 3109 2516 3109 2141  L 3109 1391  Q 3109 606 3145 398  Q 3181 191 3288 0  L 2700 0  Q 2613 175 2588 409  z M 2541 1666  Q 2234 1541 1622 1453  Q 1275 1403 1131 1340  Q 988 1278 909 1158  Q 831 1038 831 891  Q 831 666 1001 516  Q 1172 366 1500 366  Q 1825 366 2078 508  Q 2331 650 2450 897  Q 2541 1088 2541 1459  L 2541 1666  z \" transform=\"scale(0.015625)\"/>\n      <path id=\"ArialMT-75\" d=\"M 2597 0  L 2597 488  Q 2209 -75 1544 -75  Q 1250 -75 995 37  Q 741 150 617 320  Q 494 491 444 738  Q 409 903 409 1263  L 409 3319  L 972 3319  L 972 1478  Q 972 1038 1006 884  Q 1059 663 1231 536  Q 1403 409 1656 409  Q 1909 409 2131 539  Q 2353 669 2445 892  Q 2538 1116 2538 1541  L 2538 3319  L 3100 3319  L 3100 0  L 2597 0  z \" transform=\"scale(0.015625)\"/>\n      <path id=\"ArialMT-74\" d=\"M 1650 503  L 1731 6  Q 1494 -44 1306 -44  Q 1000 -44 831 53  Q 663 150 594 308  Q 525 466 525 972  L 525 2881  L 113 2881  L 113 3319  L 525 3319  L 525 4141  L 1084 4478  L 1084 3319  L 1650 3319  L 1650 2881  L 1084 2881  L 1084 941  Q 1084 700 1114 631  Q 1144 563 1211 522  Q 1278 481 1403 481  Q 1497 481 1650 503  z \" transform=\"scale(0.015625)\"/>\n      <path id=\"ArialMT-68\" d=\"M 422 0  L 422 4581  L 984 4581  L 984 2938  Q 1378 3394 1978 3394  Q 2347 3394 2619 3248  Q 2891 3103 3008 2847  Q 3125 2591 3125 2103  L 3125 0  L 2563 0  L 2563 2103  Q 2563 2525 2380 2717  Q 2197 2909 1863 2909  Q 1613 2909 1392 2779  Q 1172 2650 1078 2428  Q 984 2206 984 1816  L 984 0  L 422 0  z \" transform=\"scale(0.015625)\"/>\n      <path id=\"ArialMT-6f\" d=\"M 213 1659  Q 213 2581 725 3025  Q 1153 3394 1769 3394  Q 2453 3394 2887 2945  Q 3322 2497 3322 1706  Q 3322 1066 3130 698  Q 2938 331 2570 128  Q 2203 -75 1769 -75  Q 1072 -75 642 372  Q 213 819 213 1659  z M 791 1659  Q 791 1022 1069 705  Q 1347 388 1769 388  Q 2188 388 2466 706  Q 2744 1025 2744 1678  Q 2744 2294 2464 2611  Q 2184 2928 1769 2928  Q 1347 2928 1069 2612  Q 791 2297 791 1659  z \" transform=\"scale(0.015625)\"/>\n      <path id=\"ArialMT-72\" d=\"M 416 0  L 416 3319  L 922 3319  L 922 2816  Q 1116 3169 1280 3281  Q 1444 3394 1641 3394  Q 1925 3394 2219 3213  L 2025 2691  Q 1819 2813 1613 2813  Q 1428 2813 1281 2702  Q 1134 2591 1072 2394  Q 978 2094 978 1738  L 978 0  L 416 0  z \" transform=\"scale(0.015625)\"/>\n      <path id=\"ArialMT-69\" d=\"M 425 3934  L 425 4581  L 988 4581  L 988 3934  L 425 3934  z M 425 0  L 425 3319  L 988 3319  L 988 0  L 425 0  z \" transform=\"scale(0.015625)\"/>\n     </defs>\n     <use xlink:href=\"#ArialMT-61\"/>\n     <use xlink:href=\"#ArialMT-75\" x=\"55.615234\"/>\n     <use xlink:href=\"#ArialMT-74\" x=\"111.230469\"/>\n     <use xlink:href=\"#ArialMT-68\" x=\"139.013672\"/>\n     <use xlink:href=\"#ArialMT-6f\" x=\"194.628906\"/>\n     <use xlink:href=\"#ArialMT-72\" x=\"250.244141\"/>\n     <use xlink:href=\"#ArialMT-69\" x=\"283.544922\"/>\n     <use xlink:href=\"#ArialMT-74\" x=\"305.761719\"/>\n     <use xlink:href=\"#ArialMT-79\" x=\"333.544922\"/>\n    </g>\n   </g>\n   <g id=\"text_4\">\n    <!-- christ -->\n    <g style=\"fill: #262626\" transform=\"translate(59.033435 391.351612)scale(0.13 -0.13)\">\n     <defs>\n      <path id=\"ArialMT-63\" d=\"M 2588 1216  L 3141 1144  Q 3050 572 2676 248  Q 2303 -75 1759 -75  Q 1078 -75 664 370  Q 250 816 250 1647  Q 250 2184 428 2587  Q 606 2991 970 3192  Q 1334 3394 1763 3394  Q 2303 3394 2647 3120  Q 2991 2847 3088 2344  L 2541 2259  Q 2463 2594 2264 2762  Q 2066 2931 1784 2931  Q 1359 2931 1093 2626  Q 828 2322 828 1663  Q 828 994 1084 691  Q 1341 388 1753 388  Q 2084 388 2306 591  Q 2528 794 2588 1216  z \" transform=\"scale(0.015625)\"/>\n      <path id=\"ArialMT-73\" d=\"M 197 991  L 753 1078  Q 800 744 1014 566  Q 1228 388 1613 388  Q 2000 388 2187 545  Q 2375 703 2375 916  Q 2375 1106 2209 1216  Q 2094 1291 1634 1406  Q 1016 1563 777 1677  Q 538 1791 414 1992  Q 291 2194 291 2438  Q 291 2659 392 2848  Q 494 3038 669 3163  Q 800 3259 1026 3326  Q 1253 3394 1513 3394  Q 1903 3394 2198 3281  Q 2494 3169 2634 2976  Q 2775 2784 2828 2463  L 2278 2388  Q 2241 2644 2061 2787  Q 1881 2931 1553 2931  Q 1166 2931 1000 2803  Q 834 2675 834 2503  Q 834 2394 903 2306  Q 972 2216 1119 2156  Q 1203 2125 1616 2013  Q 2213 1853 2448 1751  Q 2684 1650 2818 1456  Q 2953 1263 2953 975  Q 2953 694 2789 445  Q 2625 197 2315 61  Q 2006 -75 1616 -75  Q 969 -75 630 194  Q 291 463 197 991  z \" transform=\"scale(0.015625)\"/>\n     </defs>\n     <use xlink:href=\"#ArialMT-63\"/>\n     <use xlink:href=\"#ArialMT-68\" x=\"50\"/>\n     <use xlink:href=\"#ArialMT-72\" x=\"105.615234\"/>\n     <use xlink:href=\"#ArialMT-69\" x=\"138.916016\"/>\n     <use xlink:href=\"#ArialMT-73\" x=\"161.132812\"/>\n     <use xlink:href=\"#ArialMT-74\" x=\"211.132812\"/>\n    </g>\n   </g>\n   <g id=\"text_5\">\n    <!-- civill -->\n    <g style=\"fill: #262626\" transform=\"translate(422.500352 119.992915)scale(0.13 -0.13)\">\n     <defs>\n      <path id=\"ArialMT-76\" d=\"M 1344 0  L 81 3319  L 675 3319  L 1388 1331  Q 1503 1009 1600 663  Q 1675 925 1809 1294  L 2547 3319  L 3125 3319  L 1869 0  L 1344 0  z \" transform=\"scale(0.015625)\"/>\n      <path id=\"ArialMT-6c\" d=\"M 409 0  L 409 4581  L 972 4581  L 972 0  L 409 0  z \" transform=\"scale(0.015625)\"/>\n     </defs>\n     <use xlink:href=\"#ArialMT-63\"/>\n     <use xlink:href=\"#ArialMT-69\" x=\"50\"/>\n     <use xlink:href=\"#ArialMT-76\" x=\"72.216797\"/>\n     <use xlink:href=\"#ArialMT-69\" x=\"122.216797\"/>\n     <use xlink:href=\"#ArialMT-6c\" x=\"144.433594\"/>\n     <use xlink:href=\"#ArialMT-6c\" x=\"166.650391\"/>\n    </g>\n   </g>\n   <g id=\"text_6\">\n    <!-- common-wealth -->\n    <g style=\"fill: #262626\" transform=\"translate(606.271771 57.001578)scale(0.13 -0.13)\">\n     <defs>\n      <path id=\"ArialMT-6d\" d=\"M 422 0  L 422 3319  L 925 3319  L 925 2853  Q 1081 3097 1340 3245  Q 1600 3394 1931 3394  Q 2300 3394 2536 3241  Q 2772 3088 2869 2813  Q 3263 3394 3894 3394  Q 4388 3394 4653 3120  Q 4919 2847 4919 2278  L 4919 0  L 4359 0  L 4359 2091  Q 4359 2428 4304 2576  Q 4250 2725 4106 2815  Q 3963 2906 3769 2906  Q 3419 2906 3187 2673  Q 2956 2441 2956 1928  L 2956 0  L 2394 0  L 2394 2156  Q 2394 2531 2256 2718  Q 2119 2906 1806 2906  Q 1569 2906 1367 2781  Q 1166 2656 1075 2415  Q 984 2175 984 1722  L 984 0  L 422 0  z \" transform=\"scale(0.015625)\"/>\n      <path id=\"ArialMT-6e\" d=\"M 422 0  L 422 3319  L 928 3319  L 928 2847  Q 1294 3394 1984 3394  Q 2284 3394 2536 3286  Q 2788 3178 2913 3003  Q 3038 2828 3088 2588  Q 3119 2431 3119 2041  L 3119 0  L 2556 0  L 2556 2019  Q 2556 2363 2490 2533  Q 2425 2703 2258 2804  Q 2091 2906 1866 2906  Q 1506 2906 1245 2678  Q 984 2450 984 1813  L 984 0  L 422 0  z \" transform=\"scale(0.015625)\"/>\n      <path id=\"ArialMT-2d\" d=\"M 203 1375  L 203 1941  L 1931 1941  L 1931 1375  L 203 1375  z \" transform=\"scale(0.015625)\"/>\n      <path id=\"ArialMT-77\" d=\"M 1034 0  L 19 3319  L 600 3319  L 1128 1403  L 1325 691  Q 1338 744 1497 1375  L 2025 3319  L 2603 3319  L 3100 1394  L 3266 759  L 3456 1400  L 4025 3319  L 4572 3319  L 3534 0  L 2950 0  L 2422 1988  L 2294 2553  L 1622 0  L 1034 0  z \" transform=\"scale(0.015625)\"/>\n      <path id=\"ArialMT-65\" d=\"M 2694 1069  L 3275 997  Q 3138 488 2766 206  Q 2394 -75 1816 -75  Q 1088 -75 661 373  Q 234 822 234 1631  Q 234 2469 665 2931  Q 1097 3394 1784 3394  Q 2450 3394 2872 2941  Q 3294 2488 3294 1666  Q 3294 1616 3291 1516  L 816 1516  Q 847 969 1125 678  Q 1403 388 1819 388  Q 2128 388 2347 550  Q 2566 713 2694 1069  z M 847 1978  L 2700 1978  Q 2663 2397 2488 2606  Q 2219 2931 1791 2931  Q 1403 2931 1139 2672  Q 875 2413 847 1978  z \" transform=\"scale(0.015625)\"/>\n     </defs>\n     <use xlink:href=\"#ArialMT-63\"/>\n     <use xlink:href=\"#ArialMT-6f\" x=\"50\"/>\n     <use xlink:href=\"#ArialMT-6d\" x=\"105.615234\"/>\n     <use xlink:href=\"#ArialMT-6d\" x=\"188.916016\"/>\n     <use xlink:href=\"#ArialMT-6f\" x=\"272.216797\"/>\n     <use xlink:href=\"#ArialMT-6e\" x=\"327.832031\"/>\n     <use xlink:href=\"#ArialMT-2d\" x=\"383.447266\"/>\n     <use xlink:href=\"#ArialMT-77\" x=\"416.748047\"/>\n     <use xlink:href=\"#ArialMT-65\" x=\"488.964844\"/>\n     <use xlink:href=\"#ArialMT-61\" x=\"544.580078\"/>\n     <use xlink:href=\"#ArialMT-6c\" x=\"600.195312\"/>\n     <use xlink:href=\"#ArialMT-74\" x=\"622.412109\"/>\n     <use xlink:href=\"#ArialMT-68\" x=\"650.195312\"/>\n    </g>\n   </g>\n   <g id=\"text_7\">\n    <!-- free -->\n    <g style=\"fill: #262626\" transform=\"translate(421.816845 108.601517)scale(0.13 -0.13)\">\n     <defs>\n      <path id=\"ArialMT-66\" d=\"M 556 0  L 556 2881  L 59 2881  L 59 3319  L 556 3319  L 556 3672  Q 556 4006 616 4169  Q 697 4388 901 4523  Q 1106 4659 1475 4659  Q 1713 4659 2000 4603  L 1916 4113  Q 1741 4144 1584 4144  Q 1328 4144 1222 4034  Q 1116 3925 1116 3625  L 1116 3319  L 1763 3319  L 1763 2881  L 1116 2881  L 1116 0  L 556 0  z \" transform=\"scale(0.015625)\"/>\n     </defs>\n     <use xlink:href=\"#ArialMT-66\"/>\n     <use xlink:href=\"#ArialMT-72\" x=\"27.783203\"/>\n     <use xlink:href=\"#ArialMT-65\" x=\"61.083984\"/>\n     <use xlink:href=\"#ArialMT-65\" x=\"116.699219\"/>\n    </g>\n   </g>\n   <g id=\"text_8\">\n    <!-- government -->\n    <g style=\"fill: #262626\" transform=\"translate(599.613812 65.00012)scale(0.13 -0.13)\">\n     <defs>\n      <path id=\"ArialMT-67\" d=\"M 319 -275  L 866 -356  Q 900 -609 1056 -725  Q 1266 -881 1628 -881  Q 2019 -881 2231 -725  Q 2444 -569 2519 -288  Q 2563 -116 2559 434  Q 2191 0 1641 0  Q 956 0 581 494  Q 206 988 206 1678  Q 206 2153 378 2554  Q 550 2956 876 3175  Q 1203 3394 1644 3394  Q 2231 3394 2613 2919  L 2613 3319  L 3131 3319  L 3131 450  Q 3131 -325 2973 -648  Q 2816 -972 2473 -1159  Q 2131 -1347 1631 -1347  Q 1038 -1347 672 -1080  Q 306 -813 319 -275  z M 784 1719  Q 784 1066 1043 766  Q 1303 466 1694 466  Q 2081 466 2343 764  Q 2606 1063 2606 1700  Q 2606 2309 2336 2618  Q 2066 2928 1684 2928  Q 1309 2928 1046 2623  Q 784 2319 784 1719  z \" transform=\"scale(0.015625)\"/>\n     </defs>\n     <use xlink:href=\"#ArialMT-67\"/>\n     <use xlink:href=\"#ArialMT-6f\" x=\"55.615234\"/>\n     <use xlink:href=\"#ArialMT-76\" x=\"111.230469\"/>\n     <use xlink:href=\"#ArialMT-65\" x=\"161.230469\"/>\n     <use xlink:href=\"#ArialMT-72\" x=\"216.845703\"/>\n     <use xlink:href=\"#ArialMT-6e\" x=\"250.146484\"/>\n     <use xlink:href=\"#ArialMT-6d\" x=\"305.761719\"/>\n     <use xlink:href=\"#ArialMT-65\" x=\"389.0625\"/>\n     <use xlink:href=\"#ArialMT-6e\" x=\"444.677734\"/>\n     <use xlink:href=\"#ArialMT-74\" x=\"500.292969\"/>\n    </g>\n   </g>\n   <g id=\"text_9\">\n    <!-- holy -->\n    <g style=\"fill: #262626\" transform=\"translate(67.464683 367.734313)scale(0.13 -0.13)\">\n     <use xlink:href=\"#ArialMT-68\"/>\n     <use xlink:href=\"#ArialMT-6f\" x=\"55.615234\"/>\n     <use xlink:href=\"#ArialMT-6c\" x=\"111.230469\"/>\n     <use xlink:href=\"#ArialMT-79\" x=\"133.447266\"/>\n    </g>\n   </g>\n   <g id=\"text_10\">\n    <!-- justice -->\n    <g style=\"fill: #262626\" transform=\"translate(490.244123 85.03063)scale(0.13 -0.13)\">\n     <defs>\n      <path id=\"ArialMT-6a\" d=\"M 419 3928  L 419 4581  L 981 4581  L 981 3928  L 419 3928  z M -294 -1288  L -188 -809  Q -19 -853 78 -853  Q 250 -853 334 -739  Q 419 -625 419 -169  L 419 3319  L 981 3319  L 981 -181  Q 981 -794 822 -1034  Q 619 -1347 147 -1347  Q -81 -1347 -294 -1288  z \" transform=\"scale(0.015625)\"/>\n     </defs>\n     <use xlink:href=\"#ArialMT-6a\"/>\n     <use xlink:href=\"#ArialMT-75\" x=\"22.216797\"/>\n     <use xlink:href=\"#ArialMT-73\" x=\"77.832031\"/>\n     <use xlink:href=\"#ArialMT-74\" x=\"127.832031\"/>\n     <use xlink:href=\"#ArialMT-69\" x=\"155.615234\"/>\n     <use xlink:href=\"#ArialMT-63\" x=\"177.832031\"/>\n     <use xlink:href=\"#ArialMT-65\" x=\"227.832031\"/>\n    </g>\n   </g>\n   <g id=\"text_11\">\n    <!-- king -->\n    <g style=\"fill: #262626\" transform=\"translate(511.958524 76.895354)scale(0.13 -0.13)\">\n     <defs>\n      <path id=\"ArialMT-6b\" d=\"M 425 0  L 425 4581  L 988 4581  L 988 1969  L 2319 3319  L 3047 3319  L 1778 2088  L 3175 0  L 2481 0  L 1384 1697  L 988 1316  L 988 0  L 425 0  z \" transform=\"scale(0.015625)\"/>\n     </defs>\n     <use xlink:href=\"#ArialMT-6b\"/>\n     <use xlink:href=\"#ArialMT-69\" x=\"50\"/>\n     <use xlink:href=\"#ArialMT-6e\" x=\"72.216797\"/>\n     <use xlink:href=\"#ArialMT-67\" x=\"127.832031\"/>\n    </g>\n   </g>\n   <g id=\"text_12\">\n    <!-- kingdome -->\n    <g style=\"fill: #262626\" transform=\"translate(85.055575 334.362616)scale(0.13 -0.13)\">\n     <defs>\n      <path id=\"ArialMT-64\" d=\"M 2575 0  L 2575 419  Q 2259 -75 1647 -75  Q 1250 -75 917 144  Q 584 363 401 755  Q 219 1147 219 1656  Q 219 2153 384 2558  Q 550 2963 881 3178  Q 1213 3394 1622 3394  Q 1922 3394 2156 3267  Q 2391 3141 2538 2938  L 2538 4581  L 3097 4581  L 3097 0  L 2575 0  z M 797 1656  Q 797 1019 1065 703  Q 1334 388 1700 388  Q 2069 388 2326 689  Q 2584 991 2584 1609  Q 2584 2291 2321 2609  Q 2059 2928 1675 2928  Q 1300 2928 1048 2622  Q 797 2316 797 1656  z \" transform=\"scale(0.015625)\"/>\n     </defs>\n     <use xlink:href=\"#ArialMT-6b\"/>\n     <use xlink:href=\"#ArialMT-69\" x=\"50\"/>\n     <use xlink:href=\"#ArialMT-6e\" x=\"72.216797\"/>\n     <use xlink:href=\"#ArialMT-67\" x=\"127.832031\"/>\n     <use xlink:href=\"#ArialMT-64\" x=\"183.447266\"/>\n     <use xlink:href=\"#ArialMT-6f\" x=\"239.0625\"/>\n     <use xlink:href=\"#ArialMT-6d\" x=\"294.677734\"/>\n     <use xlink:href=\"#ArialMT-65\" x=\"377.978516\"/>\n    </g>\n   </g>\n   <g id=\"text_13\">\n    <!-- law -->\n    <g style=\"fill: #262626\" transform=\"translate(384.279115 138.569603)scale(0.13 -0.13)\">\n     <use xlink:href=\"#ArialMT-6c\"/>\n     <use xlink:href=\"#ArialMT-61\" x=\"22.216797\"/>\n     <use xlink:href=\"#ArialMT-77\" x=\"77.832031\"/>\n    </g>\n   </g>\n   <g id=\"text_14\">\n    <!-- liberty -->\n    <g style=\"fill: #262626\" transform=\"translate(645.531323 50.293622)scale(0.13 -0.13)\">\n     <defs>\n      <path id=\"ArialMT-62\" d=\"M 941 0  L 419 0  L 419 4581  L 981 4581  L 981 2947  Q 1338 3394 1891 3394  Q 2197 3394 2470 3270  Q 2744 3147 2920 2923  Q 3097 2700 3197 2384  Q 3297 2069 3297 1709  Q 3297 856 2875 390  Q 2453 -75 1863 -75  Q 1275 -75 941 416  L 941 0  z M 934 1684  Q 934 1088 1097 822  Q 1363 388 1816 388  Q 2184 388 2453 708  Q 2722 1028 2722 1663  Q 2722 2313 2464 2622  Q 2206 2931 1841 2931  Q 1472 2931 1203 2611  Q 934 2291 934 1684  z \" transform=\"scale(0.015625)\"/>\n     </defs>\n     <use xlink:href=\"#ArialMT-6c\"/>\n     <use xlink:href=\"#ArialMT-69\" x=\"22.216797\"/>\n     <use xlink:href=\"#ArialMT-62\" x=\"44.433594\"/>\n     <use xlink:href=\"#ArialMT-65\" x=\"100.048828\"/>\n     <use xlink:href=\"#ArialMT-72\" x=\"155.664062\"/>\n     <use xlink:href=\"#ArialMT-74\" x=\"188.964844\"/>\n     <use xlink:href=\"#ArialMT-79\" x=\"216.748047\"/>\n    </g>\n   </g>\n   <g id=\"text_15\">\n    <!-- lord -->\n    <g style=\"fill: #262626\" transform=\"translate(264.40464 174.387251)scale(0.13 -0.13)\">\n     <use xlink:href=\"#ArialMT-6c\"/>\n     <use xlink:href=\"#ArialMT-6f\" x=\"22.216797\"/>\n     <use xlink:href=\"#ArialMT-72\" x=\"77.832031\"/>\n     <use xlink:href=\"#ArialMT-64\" x=\"111.132812\"/>\n    </g>\n   </g>\n   <g id=\"text_16\">\n    <!-- obey -->\n    <g style=\"fill: #262626\" transform=\"translate(300.52472 162.980382)scale(0.13 -0.13)\">\n     <use xlink:href=\"#ArialMT-6f\"/>\n     <use xlink:href=\"#ArialMT-62\" x=\"55.615234\"/>\n     <use xlink:href=\"#ArialMT-65\" x=\"111.230469\"/>\n     <use xlink:href=\"#ArialMT-79\" x=\"166.845703\"/>\n    </g>\n   </g>\n   <g id=\"text_17\">\n    <!-- power -->\n    <g style=\"fill: #262626\" transform=\"translate(461.290235 104.880717)scale(0.13 -0.13)\">\n     <defs>\n      <path id=\"ArialMT-70\" d=\"M 422 -1272  L 422 3319  L 934 3319  L 934 2888  Q 1116 3141 1344 3267  Q 1572 3394 1897 3394  Q 2322 3394 2647 3175  Q 2972 2956 3137 2557  Q 3303 2159 3303 1684  Q 3303 1175 3120 767  Q 2938 359 2589 142  Q 2241 -75 1856 -75  Q 1575 -75 1351 44  Q 1128 163 984 344  L 984 -1272  L 422 -1272  z M 931 1641  Q 931 1000 1190 694  Q 1450 388 1819 388  Q 2194 388 2461 705  Q 2728 1022 2728 1688  Q 2728 2322 2467 2637  Q 2206 2953 1844 2953  Q 1484 2953 1207 2617  Q 931 2281 931 1641  z \" transform=\"scale(0.015625)\"/>\n     </defs>\n     <use xlink:href=\"#ArialMT-70\"/>\n     <use xlink:href=\"#ArialMT-6f\" x=\"55.615234\"/>\n     <use xlink:href=\"#ArialMT-77\" x=\"111.230469\"/>\n     <use xlink:href=\"#ArialMT-65\" x=\"183.447266\"/>\n     <use xlink:href=\"#ArialMT-72\" x=\"239.0625\"/>\n    </g>\n   </g>\n   <g id=\"text_18\">\n    <!-- soveraign -->\n    <g style=\"fill: #262626\" transform=\"translate(538.505483 89.003716)scale(0.13 -0.13)\">\n     <use xlink:href=\"#ArialMT-73\"/>\n     <use xlink:href=\"#ArialMT-6f\" x=\"50\"/>\n     <use xlink:href=\"#ArialMT-76\" x=\"105.615234\"/>\n     <use xlink:href=\"#ArialMT-65\" x=\"155.615234\"/>\n     <use xlink:href=\"#ArialMT-72\" x=\"211.230469\"/>\n     <use xlink:href=\"#ArialMT-61\" x=\"244.53125\"/>\n     <use xlink:href=\"#ArialMT-69\" x=\"300.146484\"/>\n     <use xlink:href=\"#ArialMT-67\" x=\"322.363281\"/>\n     <use xlink:href=\"#ArialMT-6e\" x=\"377.978516\"/>\n    </g>\n   </g>\n   <g id=\"text_19\">\n    <!-- Word Embeddings for Hobbes' Leviathan, Behemoth, and De Cive -->\n    <g style=\"fill: #262626\" transform=\"translate(144.051026 23.96)scale(0.14 -0.14)\">\n     <defs>\n      <path id=\"ArialMT-57\" d=\"M 1294 0  L 78 4581  L 700 4581  L 1397 1578  Q 1509 1106 1591 641  Q 1766 1375 1797 1488  L 2669 4581  L 3400 4581  L 4056 2263  Q 4303 1400 4413 641  Q 4500 1075 4641 1638  L 5359 4581  L 5969 4581  L 4713 0  L 4128 0  L 3163 3491  Q 3041 3928 3019 4028  Q 2947 3713 2884 3491  L 1913 0  L 1294 0  z \" transform=\"scale(0.015625)\"/>\n      <path id=\"ArialMT-20\" transform=\"scale(0.015625)\"/>\n      <path id=\"ArialMT-45\" d=\"M 506 0  L 506 4581  L 3819 4581  L 3819 4041  L 1113 4041  L 1113 2638  L 3647 2638  L 3647 2100  L 1113 2100  L 1113 541  L 3925 541  L 3925 0  L 506 0  z \" transform=\"scale(0.015625)\"/>\n      <path id=\"ArialMT-48\" d=\"M 513 0  L 513 4581  L 1119 4581  L 1119 2700  L 3500 2700  L 3500 4581  L 4106 4581  L 4106 0  L 3500 0  L 3500 2159  L 1119 2159  L 1119 0  L 513 0  z \" transform=\"scale(0.015625)\"/>\n      <path id=\"ArialMT-27\" d=\"M 425 2959  L 281 3816  L 281 4581  L 922 4581  L 922 3816  L 772 2959  L 425 2959  z \" transform=\"scale(0.015625)\"/>\n      <path id=\"ArialMT-4c\" d=\"M 469 0  L 469 4581  L 1075 4581  L 1075 541  L 3331 541  L 3331 0  L 469 0  z \" transform=\"scale(0.015625)\"/>\n      <path id=\"ArialMT-2c\" d=\"M 569 0  L 569 641  L 1209 641  L 1209 0  Q 1209 -353 1084 -570  Q 959 -788 688 -906  L 531 -666  Q 709 -588 793 -436  Q 878 -284 888 0  L 569 0  z \" transform=\"scale(0.015625)\"/>\n      <path id=\"ArialMT-42\" d=\"M 469 0  L 469 4581  L 2188 4581  Q 2713 4581 3030 4442  Q 3347 4303 3526 4014  Q 3706 3725 3706 3409  Q 3706 3116 3547 2856  Q 3388 2597 3066 2438  Q 3481 2316 3704 2022  Q 3928 1728 3928 1328  Q 3928 1006 3792 729  Q 3656 453 3456 303  Q 3256 153 2954 76  Q 2653 0 2216 0  L 469 0  z M 1075 2656  L 2066 2656  Q 2469 2656 2644 2709  Q 2875 2778 2992 2937  Q 3109 3097 3109 3338  Q 3109 3566 3000 3739  Q 2891 3913 2687 3977  Q 2484 4041 1991 4041  L 1075 4041  L 1075 2656  z M 1075 541  L 2216 541  Q 2509 541 2628 563  Q 2838 600 2978 687  Q 3119 775 3209 942  Q 3300 1109 3300 1328  Q 3300 1584 3169 1773  Q 3038 1963 2805 2039  Q 2572 2116 2134 2116  L 1075 2116  L 1075 541  z \" transform=\"scale(0.015625)\"/>\n      <path id=\"ArialMT-44\" d=\"M 494 0  L 494 4581  L 2072 4581  Q 2606 4581 2888 4516  Q 3281 4425 3559 4188  Q 3922 3881 4101 3404  Q 4281 2928 4281 2316  Q 4281 1794 4159 1391  Q 4038 988 3847 723  Q 3656 459 3429 307  Q 3203 156 2883 78  Q 2563 0 2147 0  L 494 0  z M 1100 541  L 2078 541  Q 2531 541 2789 625  Q 3047 709 3200 863  Q 3416 1078 3536 1442  Q 3656 1806 3656 2325  Q 3656 3044 3420 3430  Q 3184 3816 2847 3947  Q 2603 4041 2063 4041  L 1100 4041  L 1100 541  z \" transform=\"scale(0.015625)\"/>\n      <path id=\"ArialMT-43\" d=\"M 3763 1606  L 4369 1453  Q 4178 706 3683 314  Q 3188 -78 2472 -78  Q 1731 -78 1267 223  Q 803 525 561 1097  Q 319 1669 319 2325  Q 319 3041 592 3573  Q 866 4106 1370 4382  Q 1875 4659 2481 4659  Q 3169 4659 3637 4309  Q 4106 3959 4291 3325  L 3694 3184  Q 3534 3684 3231 3912  Q 2928 4141 2469 4141  Q 1941 4141 1586 3887  Q 1231 3634 1087 3207  Q 944 2781 944 2328  Q 944 1744 1114 1308  Q 1284 872 1643 656  Q 2003 441 2422 441  Q 2931 441 3284 734  Q 3638 1028 3763 1606  z \" transform=\"scale(0.015625)\"/>\n     </defs>\n     <use xlink:href=\"#ArialMT-57\"/>\n     <use xlink:href=\"#ArialMT-6f\" x=\"92.634766\"/>\n     <use xlink:href=\"#ArialMT-72\" x=\"148.25\"/>\n     <use xlink:href=\"#ArialMT-64\" x=\"181.550781\"/>\n     <use xlink:href=\"#ArialMT-20\" x=\"237.166016\"/>\n     <use xlink:href=\"#ArialMT-45\" x=\"264.949219\"/>\n     <use xlink:href=\"#ArialMT-6d\" x=\"331.648438\"/>\n     <use xlink:href=\"#ArialMT-62\" x=\"414.949219\"/>\n     <use xlink:href=\"#ArialMT-65\" x=\"470.564453\"/>\n     <use xlink:href=\"#ArialMT-64\" x=\"526.179688\"/>\n     <use xlink:href=\"#ArialMT-64\" x=\"581.794922\"/>\n     <use xlink:href=\"#ArialMT-69\" x=\"637.410156\"/>\n     <use xlink:href=\"#ArialMT-6e\" x=\"659.626953\"/>\n     <use xlink:href=\"#ArialMT-67\" x=\"715.242188\"/>\n     <use xlink:href=\"#ArialMT-73\" x=\"770.857422\"/>\n     <use xlink:href=\"#ArialMT-20\" x=\"820.857422\"/>\n     <use xlink:href=\"#ArialMT-66\" x=\"848.640625\"/>\n     <use xlink:href=\"#ArialMT-6f\" x=\"876.423828\"/>\n     <use xlink:href=\"#ArialMT-72\" x=\"932.039062\"/>\n     <use xlink:href=\"#ArialMT-20\" x=\"965.339844\"/>\n     <use xlink:href=\"#ArialMT-48\" x=\"993.123047\"/>\n     <use xlink:href=\"#ArialMT-6f\" x=\"1065.339844\"/>\n     <use xlink:href=\"#ArialMT-62\" x=\"1120.955078\"/>\n     <use xlink:href=\"#ArialMT-62\" x=\"1176.570312\"/>\n     <use xlink:href=\"#ArialMT-65\" x=\"1232.185547\"/>\n     <use xlink:href=\"#ArialMT-73\" x=\"1287.800781\"/>\n     <use xlink:href=\"#ArialMT-27\" x=\"1337.800781\"/>\n     <use xlink:href=\"#ArialMT-20\" x=\"1356.892578\"/>\n     <use xlink:href=\"#ArialMT-4c\" x=\"1384.675781\"/>\n     <use xlink:href=\"#ArialMT-65\" x=\"1440.291016\"/>\n     <use xlink:href=\"#ArialMT-76\" x=\"1495.90625\"/>\n     <use xlink:href=\"#ArialMT-69\" x=\"1545.90625\"/>\n     <use xlink:href=\"#ArialMT-61\" x=\"1568.123047\"/>\n     <use xlink:href=\"#ArialMT-74\" x=\"1623.738281\"/>\n     <use xlink:href=\"#ArialMT-68\" x=\"1651.521484\"/>\n     <use xlink:href=\"#ArialMT-61\" x=\"1707.136719\"/>\n     <use xlink:href=\"#ArialMT-6e\" x=\"1762.751953\"/>\n     <use xlink:href=\"#ArialMT-2c\" x=\"1818.367188\"/>\n     <use xlink:href=\"#ArialMT-20\" x=\"1846.150391\"/>\n     <use xlink:href=\"#ArialMT-42\" x=\"1873.933594\"/>\n     <use xlink:href=\"#ArialMT-65\" x=\"1940.632812\"/>\n     <use xlink:href=\"#ArialMT-68\" x=\"1996.248047\"/>\n     <use xlink:href=\"#ArialMT-65\" x=\"2051.863281\"/>\n     <use xlink:href=\"#ArialMT-6d\" x=\"2107.478516\"/>\n     <use xlink:href=\"#ArialMT-6f\" x=\"2190.779297\"/>\n     <use xlink:href=\"#ArialMT-74\" x=\"2246.394531\"/>\n     <use xlink:href=\"#ArialMT-68\" x=\"2274.177734\"/>\n     <use xlink:href=\"#ArialMT-2c\" x=\"2329.792969\"/>\n     <use xlink:href=\"#ArialMT-20\" x=\"2357.576172\"/>\n     <use xlink:href=\"#ArialMT-61\" x=\"2385.359375\"/>\n     <use xlink:href=\"#ArialMT-6e\" x=\"2440.974609\"/>\n     <use xlink:href=\"#ArialMT-64\" x=\"2496.589844\"/>\n     <use xlink:href=\"#ArialMT-20\" x=\"2552.205078\"/>\n     <use xlink:href=\"#ArialMT-44\" x=\"2579.988281\"/>\n     <use xlink:href=\"#ArialMT-65\" x=\"2652.205078\"/>\n     <use xlink:href=\"#ArialMT-20\" x=\"2707.820312\"/>\n     <use xlink:href=\"#ArialMT-43\" x=\"2735.603516\"/>\n     <use xlink:href=\"#ArialMT-69\" x=\"2807.820312\"/>\n     <use xlink:href=\"#ArialMT-76\" x=\"2830.037109\"/>\n     <use xlink:href=\"#ArialMT-65\" x=\"2880.037109\"/>\n    </g>\n   </g>\n  </g>\n </g>\n <defs>\n  <clipPath id=\"pc60dda011b\">\n   <rect x=\"26.96\" y=\"29.96\" width=\"645.147677\" height=\"375.08\"/>\n  </clipPath>\n </defs>\n</svg>"
     },
     "execution_count": 1553,
     "metadata": {},
     "output_type": "execute_result"
    }
   ],
   "source": [
    "from IPython.display import SVG\n",
    "SVG(svg_fpath)"
   ],
   "metadata": {
    "collapsed": false,
    "pycharm": {
     "name": "#%%\n"
    }
   }
  },
  {
   "cell_type": "code",
   "execution_count": 974,
   "outputs": [],
   "source": [],
   "metadata": {
    "collapsed": false,
    "pycharm": {
     "name": "#%%\n"
    }
   }
  },
  {
   "cell_type": "code",
   "execution_count": 918,
   "outputs": [],
   "source": [],
   "metadata": {
    "collapsed": false,
    "pycharm": {
     "name": "#%%\n"
    }
   }
  },
  {
   "cell_type": "code",
   "execution_count": null,
   "outputs": [],
   "source": [],
   "metadata": {
    "collapsed": false,
    "pycharm": {
     "name": "#%%\n"
    }
   }
  }
 ],
 "metadata": {
  "kernelspec": {
   "display_name": "Python 3",
   "language": "python",
   "name": "python3"
  },
  "language_info": {
   "codemirror_mode": {
    "name": "ipython",
    "version": 2
   },
   "file_extension": ".py",
   "mimetype": "text/x-python",
   "name": "python",
   "nbconvert_exporter": "python",
   "pygments_lexer": "ipython2",
   "version": "2.7.6"
  }
 },
 "nbformat": 4,
 "nbformat_minor": 0
}