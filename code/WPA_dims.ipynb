{
 "cells": [
  {
   "cell_type": "code",
   "execution_count": 1,
   "outputs": [
    {
     "data": {
      "text/plain": "{'divide': 'warn', 'over': 'warn', 'under': 'ignore', 'invalid': 'warn'}"
     },
     "execution_count": 1,
     "metadata": {},
     "output_type": "execute_result"
    }
   ],
   "source": [
    "import pandas as pd\n",
    "import numpy as np\n",
    "rng = np.random.default_rng()\n",
    "import matplotlib.pyplot as plt\n",
    "import seaborn as sns\n",
    "np.seterr(all='warn')"
   ],
   "metadata": {
    "collapsed": false,
    "pycharm": {
     "name": "#%%\n"
    }
   }
  },
  {
   "cell_type": "code",
   "execution_count": 2,
   "outputs": [],
   "source": [
    "emb_df = pd.read_csv(\"./wpa_vecs_tsne_full.csv\")\n",
    "num_numeric_cols = len(emb_df.columns) - 1\n",
    "c = [\"token\"] + [f\"d{n}\" for n in range(1,num_numeric_cols+1)]\n",
    "emb_df.columns = c\n",
    "emb_df.set_index(\"token\", inplace=True)"
   ],
   "metadata": {
    "collapsed": false,
    "pycharm": {
     "name": "#%%\n"
    }
   }
  },
  {
   "cell_type": "code",
   "execution_count": 3,
   "outputs": [
    {
     "data": {
      "text/plain": "                 d1         d2\ntoken                         \nman       47.288330  15.887381\nwoman     47.969917  21.281140\nmaster    47.653313  16.629148\nblack     36.707930  21.573680\nslave     37.489190  18.427366\n...             ...        ...\nfranklin  55.314278  -8.581067\nlabor     19.069712 -37.809560\nsquirrel -21.374868  -2.802180\ncamped    44.816790 -35.250300\nattend    10.961719  -2.075806\n\n[1471 rows x 2 columns]",
      "text/html": "<div>\n<style scoped>\n    .dataframe tbody tr th:only-of-type {\n        vertical-align: middle;\n    }\n\n    .dataframe tbody tr th {\n        vertical-align: top;\n    }\n\n    .dataframe thead th {\n        text-align: right;\n    }\n</style>\n<table border=\"1\" class=\"dataframe\">\n  <thead>\n    <tr style=\"text-align: right;\">\n      <th></th>\n      <th>d1</th>\n      <th>d2</th>\n    </tr>\n    <tr>\n      <th>token</th>\n      <th></th>\n      <th></th>\n    </tr>\n  </thead>\n  <tbody>\n    <tr>\n      <th>man</th>\n      <td>47.288330</td>\n      <td>15.887381</td>\n    </tr>\n    <tr>\n      <th>woman</th>\n      <td>47.969917</td>\n      <td>21.281140</td>\n    </tr>\n    <tr>\n      <th>master</th>\n      <td>47.653313</td>\n      <td>16.629148</td>\n    </tr>\n    <tr>\n      <th>black</th>\n      <td>36.707930</td>\n      <td>21.573680</td>\n    </tr>\n    <tr>\n      <th>slave</th>\n      <td>37.489190</td>\n      <td>18.427366</td>\n    </tr>\n    <tr>\n      <th>...</th>\n      <td>...</td>\n      <td>...</td>\n    </tr>\n    <tr>\n      <th>franklin</th>\n      <td>55.314278</td>\n      <td>-8.581067</td>\n    </tr>\n    <tr>\n      <th>labor</th>\n      <td>19.069712</td>\n      <td>-37.809560</td>\n    </tr>\n    <tr>\n      <th>squirrel</th>\n      <td>-21.374868</td>\n      <td>-2.802180</td>\n    </tr>\n    <tr>\n      <th>camped</th>\n      <td>44.816790</td>\n      <td>-35.250300</td>\n    </tr>\n    <tr>\n      <th>attend</th>\n      <td>10.961719</td>\n      <td>-2.075806</td>\n    </tr>\n  </tbody>\n</table>\n<p>1471 rows × 2 columns</p>\n</div>"
     },
     "execution_count": 3,
     "metadata": {},
     "output_type": "execute_result"
    }
   ],
   "source": [
    "emb_df"
   ],
   "metadata": {
    "collapsed": false,
    "pycharm": {
     "name": "#%%\n"
    }
   }
  },
  {
   "cell_type": "code",
   "execution_count": 4,
   "outputs": [],
   "source": [
    "def load_pairs(fpath):\n",
    "    pairs_df = pd.read_csv(fpath, header=None, names=[\"A\",\"B\"])\n",
    "    pairs_list = [(row['A'],row['B']) for row_index, row in pairs_df.iterrows()]\n",
    "    return pairs_list"
   ],
   "metadata": {
    "collapsed": false,
    "pycharm": {
     "name": "#%%\n"
    }
   }
  },
  {
   "cell_type": "code",
   "execution_count": 5,
   "outputs": [],
   "source": [
    "race_pairs = load_pairs(\"../data/word_pairs/race_pairs.csv\")\n",
    "gender_pairs = load_pairs(\"../data/word_pairs/gender_pairs.csv\")"
   ],
   "metadata": {
    "collapsed": false,
    "pycharm": {
     "name": "#%%\n"
    }
   }
  },
  {
   "cell_type": "code",
   "execution_count": 6,
   "outputs": [],
   "source": [
    "def norm_vec(v):\n",
    "    return np.sqrt(np.sum(np.power(v,2)))\n",
    "\n",
    "def normalized(v):\n",
    "    return v / norm_vec(v)\n",
    "\n",
    "def dimension(x, y):\n",
    "    return normalized(normalized(y) - normalized(x))\n",
    "\n",
    "def compute_pair_diff(df, w1, w2, debug=False):\n",
    "    w1_row = np.array(df.loc[w1])\n",
    "    print(w1_row)\n",
    "    w1_emb = normalized(w1_row)\n",
    "    print(w1_emb)\n",
    "    # w2\n",
    "    w2_row = np.array(df.loc[w2])\n",
    "    print(w2_row)\n",
    "    w2_emb = normalized(w2_row)\n",
    "    print(w2_emb)\n",
    "    pair_diff = dimension(w1_emb, w2_emb)\n",
    "    if np.all(np.isinf(pair_diff)):\n",
    "        # Values too close to compute a dist... return NaN\n",
    "        pair_diff = np.empty_like(pair_diff)\n",
    "        pair_diff[:] = np.nan\n",
    "    return pair_diff\n",
    "\n",
    "def make_dim(df, pairs, debug=False):\n",
    "    vprint = print if debug else lambda x: None\n",
    "    num_pairs = len(pairs)\n",
    "    num_cols = len(df.columns)\n",
    "    pair_diffs = np.empty((num_pairs, num_cols), dtype=np.float64)\n",
    "    # Make sure any rows that don't get filled are NaN\n",
    "    pair_diffs[:] = np.nan\n",
    "    for pair_num, cur_pair in enumerate(pairs):\n",
    "        w1 = cur_pair[0]\n",
    "        w2 = cur_pair[1]\n",
    "        vprint(f\"pair #{pair_num}: {w1}, {w2}\")\n",
    "        if w1 not in df.index:\n",
    "            print(f\"pair #{pair_num}, w1 = {w1} not in index\")\n",
    "            continue\n",
    "        if w2 not in df.index:\n",
    "            print(f\"pair #{pair_num}, w2 = {w2} not in index\")\n",
    "            continue\n",
    "        pair_diff = compute_pair_diff(df, w1, w2)\n",
    "        print(f\"pair_diff = {pair_diff}\")\n",
    "        pair_diffs[pair_num,] = pair_diff\n",
    "    print(\"pair_diffs:\")\n",
    "    print(pair_diffs)\n",
    "    # Drop all-NaN rows\n",
    "    nan_mask = np.all(np.isnan(pair_diffs), axis=1)\n",
    "    pair_diffs_nona = pair_diffs[~nan_mask]\n",
    "    print(\"pair_diffs_nona:\")\n",
    "    print(pair_diffs_nona)\n",
    "    # And now get the mean row\n",
    "    mean_vec = np.nanmean(pair_diffs_nona, axis=0)\n",
    "    print(\"mean_vec:\")\n",
    "    print(mean_vec)\n",
    "    # Finally: normalize it\n",
    "    mean_vec_norm = mean_vec / np.sum(mean_vec)\n",
    "    print(\"mean_vec_norm:\")\n",
    "    print(mean_vec_norm)\n",
    "    return mean_vec_norm"
   ],
   "metadata": {
    "collapsed": false,
    "pycharm": {
     "name": "#%%\n"
    }
   }
  },
  {
   "cell_type": "code",
   "execution_count": 7,
   "outputs": [
    {
     "name": "stdout",
     "output_type": "stream",
     "text": [
      "pair #0: black, white\n",
      "[36.70793 21.57368]\n",
      "[0.86213142 0.50668473]\n",
      "[37.575092 22.480253]\n",
      "[0.85814516 0.51340713]\n",
      "pair_diff = [-0.51004982  0.86014486]\n",
      "pair #1: blacks, whites\n",
      "pair #1, w1 = blacks not in index\n",
      "pair #2: African, caucasian\n",
      "pair #2, w1 = African not in index\n",
      "pair #3: African, European\n",
      "pair #3, w1 = African not in index\n",
      "pair #4: Afro, Anglo\n",
      "pair #4, w1 = Afro not in index\n",
      "pair #5: Black, White\n",
      "pair #5, w1 = Black not in index\n",
      "pair #6: Blacks, Whites\n",
      "pair #6, w1 = Blacks not in index\n",
      "pair_diffs:\n",
      "[[-0.51004982  0.86014486]\n",
      " [        nan         nan]\n",
      " [        nan         nan]\n",
      " [        nan         nan]\n",
      " [        nan         nan]\n",
      " [        nan         nan]\n",
      " [        nan         nan]]\n",
      "pair_diffs_nona:\n",
      "[[-0.51004982  0.86014486]]\n",
      "mean_vec:\n",
      "[-0.51004982  0.86014486]\n",
      "mean_vec_norm:\n",
      "[-1.45688963  2.45688963]\n",
      "[47.28833  15.887381]\n",
      "[0.9479313  0.31847489]\n",
      "[47.969917 21.28114 ]\n",
      "[0.9140859  0.40552061]\n",
      "pair_diff = [-0.36239309  0.93202535]\n",
      "pair #1, w2 = women not in index\n",
      "pair #2, w1 = he not in index\n",
      "pair #3, w1 = him not in index\n",
      "pair #4, w1 = his not in index\n",
      "pair #5, w1 = his not in index\n",
      "pair #6, w1 = boy not in index\n",
      "pair #7, w1 = boys not in index\n",
      "pair #8, w1 = male not in index\n",
      "pair #9, w1 = masculine not in index\n",
      "pair_diffs:\n",
      "[[-0.36239309  0.93202535]\n",
      " [        nan         nan]\n",
      " [        nan         nan]\n",
      " [        nan         nan]\n",
      " [        nan         nan]\n",
      " [        nan         nan]\n",
      " [        nan         nan]\n",
      " [        nan         nan]\n",
      " [        nan         nan]\n",
      " [        nan         nan]]\n",
      "pair_diffs_nona:\n",
      "[[-0.36239309  0.93202535]]\n",
      "mean_vec:\n",
      "[-0.36239309  0.93202535]\n",
      "mean_vec_norm:\n",
      "[-0.63618778  1.63618778]\n"
     ]
    }
   ],
   "source": [
    "race_dim = make_dim(emb_df, race_pairs, debug=True)\n",
    "#race_dim = make_dim(emb_df, race_pairs)\n",
    "gender_dim = make_dim(emb_df, gender_pairs)\n",
    "#lux_emb, tb_emb, diff_emb = compute_pair_diff(emb_df, 'luxurious', 'threadbare', debug=True)"
   ],
   "metadata": {
    "collapsed": false,
    "pycharm": {
     "name": "#%%\n"
    }
   }
  },
  {
   "cell_type": "code",
   "execution_count": 8,
   "outputs": [
    {
     "data": {
      "text/plain": "0.9865153414109011"
     },
     "execution_count": 8,
     "metadata": {},
     "output_type": "execute_result"
    }
   ],
   "source": [
    "####ANGLES BETWEEN DIMENSIONS#######\n",
    "def my_cos(x, y):\n",
    "    return np.dot(x,y)/norm_vec(x)/norm_vec(y)\n",
    "\n",
    "race_gender_cos = my_cos(race_dim, gender_dim)\n",
    "#aff_race_cos = my_cos(aff_dim, race_dim)\n",
    "#gender_race_cos = my_cos(gender_dim, race_dim)\n",
    "#print(aff_gender_cos, aff_race_cos, gender_race_cos)\n",
    "race_gender_cos"
   ],
   "metadata": {
    "collapsed": false,
    "pycharm": {
     "name": "#%%\n"
    }
   }
  },
  {
   "cell_type": "code",
   "execution_count": 9,
   "outputs": [],
   "source": [
    "def to_col_vec(orig_vec):\n",
    "    return np.reshape(orig_vec, (num_numeric_cols,1))\n",
    "\n",
    "race_dim_col = to_col_vec(race_dim)\n",
    "gender_dim_col = to_col_vec(gender_dim)"
   ],
   "metadata": {
    "collapsed": false,
    "pycharm": {
     "name": "#%%\n"
    }
   }
  },
  {
   "cell_type": "code",
   "execution_count": 10,
   "outputs": [],
   "source": [
    "# Matrix mults\n",
    "race_proj = np.matmul(emb_df, race_dim_col)\n",
    "gender_proj = np.matmul(emb_df, gender_dim_col)"
   ],
   "metadata": {
    "collapsed": false,
    "pycharm": {
     "name": "#%%\n"
    }
   }
  },
  {
   "cell_type": "code",
   "execution_count": 11,
   "outputs": [],
   "source": [
    "projections_df_full = pd.concat([race_proj, gender_proj], axis=1)\n",
    "projections_df_full.columns = ['race_proj', 'gender_proj']\n",
    "#colnames(projections_df)<-c(\"aff_proj\",\"gender_proj\")"
   ],
   "metadata": {
    "collapsed": false,
    "pycharm": {
     "name": "#%%\n"
    }
   }
  },
  {
   "cell_type": "code",
   "execution_count": 12,
   "outputs": [],
   "source": [
    "kw_tsne = [\n",
    "    \"white\",\"black\",\"slave\",\"master\",\"man\",\"woman\",\n",
    "    #\"rich\",\"poor\",\n",
    "    \"slavery\",\"freedom\"\n",
    "]"
   ],
   "metadata": {
    "collapsed": false,
    "pycharm": {
     "name": "#%%\n"
    }
   }
  },
  {
   "cell_type": "code",
   "execution_count": 18,
   "outputs": [],
   "source": [
    "# Now just the keywords\n",
    "kw_remove = ['freedom', 'slavery', 'rich', 'poor']\n",
    "kw_filtered = [kw for kw in kw_tsne if kw not in kw_remove]\n",
    "#kw_add = ['plantation', 'rich', 'poor', 'child']\n",
    "kw_add = ['baby', 'child']\n",
    "kw_final = kw_filtered + kw_add\n",
    "projections_df = projections_df_full[projections_df_full.index.isin(kw_final)].copy()"
   ],
   "metadata": {
    "collapsed": false,
    "pycharm": {
     "name": "#%%\n"
    }
   }
  },
  {
   "cell_type": "code",
   "execution_count": 19,
   "outputs": [
    {
     "data": {
      "text/plain": "Text(0, 0.5, 'Gender Projection')"
     },
     "execution_count": 19,
     "metadata": {},
     "output_type": "execute_result"
    },
    {
     "data": {
      "text/plain": "<Figure size 792x432 with 1 Axes>",
      "image/png": "[encoded data removed]"
     },
     "metadata": {},
     "output_type": "display_data"
    }
   ],
   "source": [
    "sns.set_theme()\n",
    "sns.set(rc={'figure.figsize':(11,6)})\n",
    "sns.set_style('whitegrid')\n",
    "splot = sns.scatterplot(data=projections_df, x='race_proj', y='gender_proj')\n",
    "\n",
    "def label_point(x, y, val, ax):\n",
    "    a = pd.concat({'x': x, 'y': y, 'val': val}, axis=1)\n",
    "    for i, point in a.iterrows():\n",
    "        ax.text(point['x']+.02, point['y'], str(point['val']))\n",
    "\n",
    "label_point(projections_df['race_proj'], projections_df['gender_proj'], projections_df.index.to_series(), plt.gca())\n",
    "\n",
    "# Set x-axis label\n",
    "plt.xlabel('Race Projection')\n",
    "# Set y-axis label\n",
    "plt.ylabel('Gender Projection')"
   ],
   "metadata": {
    "collapsed": false,
    "pycharm": {
     "name": "#%%\n"
    }
   }
  },
  {
   "cell_type": "code",
   "execution_count": 14,
   "outputs": [],
   "source": [],
   "metadata": {
    "collapsed": false,
    "pycharm": {
     "name": "#%%\n"
    }
   }
  },
  {
   "cell_type": "code",
   "execution_count": 14,
   "outputs": [],
   "source": [],
   "metadata": {
    "collapsed": false,
    "pycharm": {
     "name": "#%%\n"
    }
   }
  },
  {
   "cell_type": "code",
   "execution_count": 14,
   "outputs": [],
   "source": [],
   "metadata": {
    "collapsed": false,
    "pycharm": {
     "name": "#%%\n"
    }
   }
  }
 ],
 "metadata": {
  "kernelspec": {
   "display_name": "Python 3",
   "language": "python",
   "name": "python3"
  },
  "language_info": {
   "codemirror_mode": {
    "name": "ipython",
    "version": 2
   },
   "file_extension": ".py",
   "mimetype": "text/x-python",
   "name": "python",
   "nbconvert_exporter": "python",
   "pygments_lexer": "ipython2",
   "version": "2.7.6"
  }
 },
 "nbformat": 4,
 "nbformat_minor": 0
}