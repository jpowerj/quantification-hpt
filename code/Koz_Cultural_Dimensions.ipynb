{
 "cells": [
  {
   "cell_type": "markdown",
   "source": [
    "## Doing the R code in Python since... I just can't do R without normal dictionaries/Pandas lol"
   ],
   "metadata": {
    "collapsed": false,
    "pycharm": {
     "name": "#%% md\n"
    }
   }
  },
  {
   "cell_type": "code",
   "execution_count": 131,
   "outputs": [
    {
     "data": {
      "text/plain": "{'divide': 'warn', 'over': 'warn', 'under': 'warn', 'invalid': 'warn'}"
     },
     "execution_count": 131,
     "metadata": {},
     "output_type": "execute_result"
    }
   ],
   "source": [
    "import pandas as pd\n",
    "import numpy as np\n",
    "rng = np.random.default_rng()\n",
    "import matplotlib.pyplot as plt\n",
    "import seaborn as sns\n",
    "np.seterr(all='warn')"
   ],
   "metadata": {
    "collapsed": false,
    "pycharm": {
     "name": "#%%\n"
    }
   }
  },
  {
   "cell_type": "code",
   "execution_count": 132,
   "outputs": [],
   "source": [
    "survey_df = pd.read_csv(\"../data/survey_means_weighted.csv\")\n",
    "survey_df.rename(columns={'Unnamed: 0': 'token'}, inplace=True)\n",
    "survey_df.set_index(\"token\", inplace=True)\n",
    "emb_df = pd.read_csv(\"../data/GoogleNews_Fake.csv\")\n",
    "num_numeric_cols = len(emb_df.columns) - 1\n",
    "c = [\"token\"] + [f\"d{n}\" for n in range(1,num_numeric_cols+1)]\n",
    "emb_df.columns = c\n",
    "emb_df.set_index(\"token\", inplace=True)"
   ],
   "metadata": {
    "collapsed": false,
    "pycharm": {
     "name": "#%%\n"
    }
   }
  },
  {
   "cell_type": "code",
   "execution_count": 134,
   "outputs": [],
   "source": [
    "# Sigh. Vectors can't be collinear, so adding some random noise\n",
    "emb_df['d1'] = emb_df['d1'].apply(lambda x: x + rng.normal(0,0.5))\n",
    "emb_df['d2'] = emb_df['d2'].apply(lambda x: x + rng.normal(0,0.5))"
   ],
   "metadata": {
    "collapsed": false,
    "pycharm": {
     "name": "#%%\n"
    }
   }
  },
  {
   "cell_type": "code",
   "execution_count": 135,
   "outputs": [],
   "source": [
    "def load_pairs(fpath):\n",
    "    pairs_df = pd.read_csv(fpath, header=None, names=[\"A\",\"B\"])\n",
    "    pairs_list = [(row['A'],row['B']) for row_index, row in pairs_df.iterrows()]\n",
    "    return pairs_list"
   ],
   "metadata": {
    "collapsed": false,
    "pycharm": {
     "name": "#%%\n"
    }
   }
  },
  {
   "cell_type": "code",
   "execution_count": 157,
   "outputs": [],
   "source": [
    "aff_pairs = load_pairs(\"../data/word_pairs/affluence_pairs.csv\")\n",
    "#aff_pairs = [('rich','poor'), ('luxury', 'cheap')]\n",
    "#aff_pairs = [('rich','poor')]\n",
    "gender_pairs = load_pairs(\"../data/word_pairs/gender_pairs.csv\")\n",
    "#gender_pairs.append(('king','queen'))\n",
    "#gender_pairs = [('man','woman'), ('king','queen'),('female','male')]\n",
    "#gender_pairs = [('male','female')]\n",
    "#race_pairs = load_pairs(\"../data/word_pairs/race_pairs.csv\")"
   ],
   "metadata": {
    "collapsed": false,
    "pycharm": {
     "name": "#%%\n"
    }
   }
  },
  {
   "cell_type": "code",
   "execution_count": 158,
   "outputs": [],
   "source": [
    "def norm_vec(v):\n",
    "    return np.sqrt(np.sum(np.power(v,2)))\n",
    "\n",
    "def normalized(v):\n",
    "    return v / norm_vec(v)\n",
    "\n",
    "def dimension(x, y):\n",
    "    return normalized(normalized(y) - normalized(x))\n",
    "\n",
    "def compute_pair_diff(df, w1, w2, debug=False):\n",
    "    w1_row = np.array(df.loc[w1])\n",
    "    print(w1_row)\n",
    "    w1_emb = normalized(w1_row)\n",
    "    print(w1_emb)\n",
    "    # w2\n",
    "    w2_row = np.array(df.loc[w2])\n",
    "    print(w2_row)\n",
    "    w2_emb = normalized(w2_row)\n",
    "    print(w2_emb)\n",
    "    pair_diff = dimension(w1_emb, w2_emb)\n",
    "    if np.all(np.isinf(pair_diff)):\n",
    "        # Values too close to compute a dist... return NaN\n",
    "        pair_diff = np.empty_like(pair_diff)\n",
    "        pair_diff[:] = np.nan\n",
    "    return pair_diff\n",
    "\n",
    "def make_dim(df, pairs, debug=False):\n",
    "    vprint = print if debug else lambda x: None\n",
    "    num_pairs = len(pairs)\n",
    "    num_cols = len(df.columns)\n",
    "    pair_diffs = np.empty((num_pairs, num_cols), dtype=np.float64)\n",
    "    # Make sure any rows that don't get filled are NaN\n",
    "    pair_diffs[:] = np.nan\n",
    "    for pair_num, cur_pair in enumerate(pairs):\n",
    "        w1 = cur_pair[0]\n",
    "        w2 = cur_pair[1]\n",
    "        vprint(f\"pair #{pair_num}: {w1}, {w2}\")\n",
    "        if w1 not in df.index:\n",
    "            print(f\"pair #{pair_num}, w1 = {w1} not in index\")\n",
    "            continue\n",
    "        if w2 not in df.index:\n",
    "            print(f\"pair #{pair_num}, w2 = {w2} not in index\")\n",
    "            continue\n",
    "        pair_diff = compute_pair_diff(df, w1, w2)\n",
    "        print(f\"pair_diff = {pair_diff}\")\n",
    "        pair_diffs[pair_num,] = pair_diff\n",
    "    print(\"pair_diffs:\")\n",
    "    print(pair_diffs)\n",
    "    # Drop all-NaN rows\n",
    "    nan_mask = np.all(np.isnan(pair_diffs), axis=1)\n",
    "    pair_diffs_nona = pair_diffs[~nan_mask]\n",
    "    print(\"pair_diffs_nona:\")\n",
    "    print(pair_diffs_nona)\n",
    "    # And now get the mean row\n",
    "    mean_vec = np.nanmean(pair_diffs_nona, axis=0)\n",
    "    print(\"mean_vec:\")\n",
    "    print(mean_vec)\n",
    "    # Finally: normalize it\n",
    "    mean_vec_norm = mean_vec / np.sum(mean_vec)\n",
    "    print(\"mean_vec_norm:\")\n",
    "    print(mean_vec_norm)\n",
    "    return mean_vec_norm"
   ],
   "metadata": {
    "collapsed": false,
    "pycharm": {
     "name": "#%%\n"
    }
   }
  },
  {
   "cell_type": "code",
   "execution_count": 159,
   "outputs": [
    {
     "name": "stdout",
     "output_type": "stream",
     "text": [
      "pair #0: rich, poor\n",
      "[9.15017631 9.36874938]\n",
      "[0.69871236 0.71540271]\n",
      "[1.09205318 0.357494  ]\n",
      "[0.95037274 0.31111356]\n",
      "pair_diff = [ 0.52845733 -0.84895986]\n",
      "pair #1: richer, poorer\n",
      "pair #1, w1 = richer not in index\n",
      "pair #2: richest, poorest\n",
      "pair #2, w1 = richest not in index\n",
      "pair #3: affluence, poverty\n",
      "pair #3, w1 = affluence not in index\n",
      "pair #4: advantaged, disadvantaged\n",
      "pair #4, w1 = advantaged not in index\n",
      "pair #5: affluent, destitute\n",
      "pair #5, w1 = affluent not in index\n",
      "pair #6: classy, beggarly\n",
      "pair #6, w1 = classy not in index\n",
      "pair #7: costly, economical\n",
      "pair #7, w1 = costly not in index\n",
      "pair #8: exorbitant, impecunious\n",
      "pair #8, w1 = exorbitant not in index\n",
      "pair #9: expensive, inexpensive\n",
      "pair #9, w1 = expensive not in index\n",
      "pair #10: exquisite, ruined\n",
      "pair #10, w1 = exquisite not in index\n",
      "pair #11: extravagant, necessitous\n",
      "pair #11, w1 = extravagant not in index\n",
      "pair #12: flush, skint\n",
      "pair #12, w1 = flush not in index\n",
      "pair #13: invaluable, cheap\n",
      "pair #13, w1 = invaluable not in index\n",
      "pair #14: lavish, economical\n",
      "pair #14, w1 = lavish not in index\n",
      "pair #15: luxuriant, penurious\n",
      "pair #15, w1 = luxuriant not in index\n",
      "pair #16: luxurious, threadbare\n",
      "pair #16, w1 = luxurious not in index\n",
      "pair #17: luxury, cheap\n",
      "[8.91030252 7.70250461]\n",
      "[0.75651871 0.65397205]\n",
      "[1.06189337 1.69279164]\n",
      "[0.53140116 0.84712031]\n",
      "pair_diff = [-0.75893942  0.65116124]\n",
      "pair #18: moneyed, unmonied\n",
      "pair #18, w1 = moneyed not in index\n",
      "pair #19: opulent, indigent\n",
      "pair #19, w1 = opulent not in index\n",
      "pair #20: plush, threadbare\n",
      "pair #20, w1 = plush not in index\n",
      "pair #21: posh, plain\n",
      "pair #21, w1 = posh not in index\n",
      "pair #22: precious, cheap\n",
      "pair #22, w1 = precious not in index\n",
      "pair #23: priceless, worthless\n",
      "pair #23, w1 = priceless not in index\n",
      "pair #24: privileged, underprivileged\n",
      "pair #24, w1 = privileged not in index\n",
      "pair #25: propertied, bankrupt\n",
      "pair #25, w1 = propertied not in index\n",
      "pair #26: prosperous, unprosperous\n",
      "pair #26, w1 = prosperous not in index\n",
      "pair #27: developed, underdeveloped\n",
      "pair #27, w1 = developed not in index\n",
      "pair #28: solvency, insolvency\n",
      "pair #28, w1 = solvency not in index\n",
      "pair #29: successful, unsuccessful\n",
      "pair #29, w1 = successful not in index\n",
      "pair #30: sumptuous, plain\n",
      "pair #30, w1 = sumptuous not in index\n",
      "pair #31: swanky, basic\n",
      "pair #31, w1 = swanky not in index\n",
      "pair #32: opulent, needy\n",
      "pair #32, w1 = opulent not in index\n",
      "pair #33: upscale, squalid\n",
      "pair #33, w1 = upscale not in index\n",
      "pair #34: valuable, valueless\n",
      "pair #34, w1 = valuable not in index\n",
      "pair #35: wealthy, impoverished\n",
      "pair #35, w1 = wealthy not in index\n",
      "pair #36: ritzy, ramshackle\n",
      "pair #36, w1 = ritzy not in index\n",
      "pair #37: opulence, indigence\n",
      "pair #37, w1 = opulence not in index\n",
      "pair #38: solvent, insolvent\n",
      "pair #38, w1 = solvent not in index\n",
      "pair #39: moneyed, moneyless\n",
      "pair #39, w1 = moneyed not in index\n",
      "pair #40: rich, penniless\n",
      "pair #40, w2 = penniless not in index\n",
      "pair #41: affluence, penury\n",
      "pair #41, w1 = affluence not in index\n",
      "pair_diffs:\n",
      "[[ 0.52845733 -0.84895986]\n",
      " [        nan         nan]\n",
      " [        nan         nan]\n",
      " [        nan         nan]\n",
      " [        nan         nan]\n",
      " [        nan         nan]\n",
      " [        nan         nan]\n",
      " [        nan         nan]\n",
      " [        nan         nan]\n",
      " [        nan         nan]\n",
      " [        nan         nan]\n",
      " [        nan         nan]\n",
      " [        nan         nan]\n",
      " [        nan         nan]\n",
      " [        nan         nan]\n",
      " [        nan         nan]\n",
      " [        nan         nan]\n",
      " [-0.75893942  0.65116124]\n",
      " [        nan         nan]\n",
      " [        nan         nan]\n",
      " [        nan         nan]\n",
      " [        nan         nan]\n",
      " [        nan         nan]\n",
      " [        nan         nan]\n",
      " [        nan         nan]\n",
      " [        nan         nan]\n",
      " [        nan         nan]\n",
      " [        nan         nan]\n",
      " [        nan         nan]\n",
      " [        nan         nan]\n",
      " [        nan         nan]\n",
      " [        nan         nan]\n",
      " [        nan         nan]\n",
      " [        nan         nan]\n",
      " [        nan         nan]\n",
      " [        nan         nan]\n",
      " [        nan         nan]\n",
      " [        nan         nan]\n",
      " [        nan         nan]\n",
      " [        nan         nan]\n",
      " [        nan         nan]\n",
      " [        nan         nan]]\n",
      "pair_diffs_nona:\n",
      "[[ 0.52845733 -0.84895986]\n",
      " [-0.75893942  0.65116124]]\n",
      "mean_vec:\n",
      "[-0.11524104 -0.09889931]\n",
      "mean_vec_norm:\n",
      "[0.53815659 0.46184341]\n",
      "[0.70522184 8.71153093]\n",
      "[0.08068873 0.99673935]\n",
      "[9.02755381 1.71193733]\n",
      "[0.98249021 0.18631422]\n",
      "pair_diff = [ 0.74378452 -0.66841947]\n",
      "pair #1, w1 = men not in index\n",
      "pair #2, w1 = he not in index\n",
      "pair #3, w1 = him not in index\n",
      "pair #4, w1 = his not in index\n",
      "pair #5, w1 = his not in index\n",
      "pair #6, w1 = boy not in index\n",
      "pair #7, w1 = boys not in index\n",
      "[1.15011643 8.97648521]\n",
      "[0.12708659 0.99189163]\n",
      "[9.73847444 1.04921701]\n",
      "[0.99424616 0.10711945]\n",
      "pair_diff = [ 0.69996269 -0.71417941]\n",
      "pair #9, w1 = masculine not in index\n",
      "pair_diffs:\n",
      "[[ 0.74378452 -0.66841947]\n",
      " [        nan         nan]\n",
      " [        nan         nan]\n",
      " [        nan         nan]\n",
      " [        nan         nan]\n",
      " [        nan         nan]\n",
      " [        nan         nan]\n",
      " [        nan         nan]\n",
      " [ 0.69996269 -0.71417941]\n",
      " [        nan         nan]]\n",
      "pair_diffs_nona:\n",
      "[[ 0.74378452 -0.66841947]\n",
      " [ 0.69996269 -0.71417941]]\n",
      "mean_vec:\n",
      "[ 0.72187361 -0.69129944]\n",
      "mean_vec_norm:\n",
      "[ 23.61057446 -22.61057446]\n"
     ]
    }
   ],
   "source": [
    "aff_dim = make_dim(emb_df, aff_pairs, debug=True)\n",
    "#race_dim = make_dim(emb_df, race_pairs)\n",
    "gender_dim = make_dim(emb_df, gender_pairs)\n",
    "#lux_emb, tb_emb, diff_emb = compute_pair_diff(emb_df, 'luxurious', 'threadbare', debug=True)"
   ],
   "metadata": {
    "collapsed": false,
    "pycharm": {
     "name": "#%%\n"
    }
   }
  },
  {
   "cell_type": "code",
   "execution_count": 160,
   "outputs": [
    {
     "data": {
      "text/plain": "array([0.53815659, 0.46184341])"
     },
     "execution_count": 160,
     "metadata": {},
     "output_type": "execute_result"
    }
   ],
   "source": [
    "aff_dim"
   ],
   "metadata": {
    "collapsed": false,
    "pycharm": {
     "name": "#%%\n"
    }
   }
  },
  {
   "cell_type": "code",
   "execution_count": 161,
   "outputs": [],
   "source": [
    "####ANGLES BETWEEN DIMENSIONS#######\n",
    "def my_cos(x, y):\n",
    "    return np.dot(x,y)/norm_vec(x)/norm_vec(y)\n",
    "\n",
    "aff_gender_cos = my_cos(aff_dim, gender_dim)\n",
    "#aff_race_cos = my_cos(aff_dim, race_dim)\n",
    "#gender_race_cos = my_cos(gender_dim, race_dim)\n",
    "#print(aff_gender_cos, aff_race_cos, gender_race_cos)"
   ],
   "metadata": {
    "collapsed": false,
    "pycharm": {
     "name": "#%%\n"
    }
   }
  },
  {
   "cell_type": "code",
   "execution_count": 162,
   "outputs": [
    {
     "data": {
      "text/plain": "array([0.53815659, 0.46184341])"
     },
     "execution_count": 162,
     "metadata": {},
     "output_type": "execute_result"
    }
   ],
   "source": [
    "aff_dim"
   ],
   "metadata": {
    "collapsed": false,
    "pycharm": {
     "name": "#%%\n"
    }
   }
  },
  {
   "cell_type": "code",
   "execution_count": 163,
   "outputs": [
    {
     "data": {
      "text/plain": "((2,), (13, 2))"
     },
     "execution_count": 163,
     "metadata": {},
     "output_type": "execute_result"
    }
   ],
   "source": [
    "aff_dim.shape, emb_df.shape"
   ],
   "metadata": {
    "collapsed": false,
    "pycharm": {
     "name": "#%%\n"
    }
   }
  },
  {
   "cell_type": "code",
   "execution_count": 164,
   "outputs": [],
   "source": [
    "def to_col_vec(orig_vec):\n",
    "    return np.reshape(orig_vec, (num_numeric_cols,1))\n",
    "\n",
    "aff_dim_col = to_col_vec(aff_dim)\n",
    "#race_dim_col = to_col_vec(race_dim)\n",
    "gender_dim_col = to_col_vec(gender_dim)"
   ],
   "metadata": {
    "collapsed": false,
    "pycharm": {
     "name": "#%%\n"
    }
   }
  },
  {
   "cell_type": "code",
   "execution_count": 165,
   "outputs": [],
   "source": [
    "# Matrix mults\n",
    "aff_proj = np.matmul(emb_df, aff_dim_col)\n",
    "#aff_proj = cdfmn%*%aff_dim\n",
    "gender_proj = np.matmul(emb_df, gender_dim_col)\n",
    "#race_proj = np.matmul(emb_df, race_dim_col)"
   ],
   "metadata": {
    "collapsed": false,
    "pycharm": {
     "name": "#%%\n"
    }
   }
  },
  {
   "cell_type": "code",
   "execution_count": 166,
   "outputs": [
    {
     "data": {
      "text/plain": "                   0\ntoken               \nwoman       5.648885\npoor        0.752802\nrich        9.251123\ntennis      7.390066\nbasketball  4.629270\nrugby       2.959440\nman         4.402883\nqueen       7.146422\nking        7.178383\ncheap       1.353270\nluxury      8.352489\nfemale      5.725398\nmale        4.764673",
      "text/html": "<div>\n<style scoped>\n    .dataframe tbody tr th:only-of-type {\n        vertical-align: middle;\n    }\n\n    .dataframe tbody tr th {\n        vertical-align: top;\n    }\n\n    .dataframe thead th {\n        text-align: right;\n    }\n</style>\n<table border=\"1\" class=\"dataframe\">\n  <thead>\n    <tr style=\"text-align: right;\">\n      <th></th>\n      <th>0</th>\n    </tr>\n    <tr>\n      <th>token</th>\n      <th></th>\n    </tr>\n  </thead>\n  <tbody>\n    <tr>\n      <th>woman</th>\n      <td>5.648885</td>\n    </tr>\n    <tr>\n      <th>poor</th>\n      <td>0.752802</td>\n    </tr>\n    <tr>\n      <th>rich</th>\n      <td>9.251123</td>\n    </tr>\n    <tr>\n      <th>tennis</th>\n      <td>7.390066</td>\n    </tr>\n    <tr>\n      <th>basketball</th>\n      <td>4.629270</td>\n    </tr>\n    <tr>\n      <th>rugby</th>\n      <td>2.959440</td>\n    </tr>\n    <tr>\n      <th>man</th>\n      <td>4.402883</td>\n    </tr>\n    <tr>\n      <th>queen</th>\n      <td>7.146422</td>\n    </tr>\n    <tr>\n      <th>king</th>\n      <td>7.178383</td>\n    </tr>\n    <tr>\n      <th>cheap</th>\n      <td>1.353270</td>\n    </tr>\n    <tr>\n      <th>luxury</th>\n      <td>8.352489</td>\n    </tr>\n    <tr>\n      <th>female</th>\n      <td>5.725398</td>\n    </tr>\n    <tr>\n      <th>male</th>\n      <td>4.764673</td>\n    </tr>\n  </tbody>\n</table>\n</div>"
     },
     "execution_count": 166,
     "metadata": {},
     "output_type": "execute_result"
    }
   ],
   "source": [
    "aff_proj"
   ],
   "metadata": {
    "collapsed": false,
    "pycharm": {
     "name": "#%%\n"
    }
   }
  },
  {
   "cell_type": "code",
   "execution_count": 167,
   "outputs": [],
   "source": [
    "projections_df = pd.concat([aff_proj, gender_proj], axis=1)\n",
    "projections_df.columns = ['aff_proj', 'gender_proj']\n",
    "#colnames(projections_df)<-c(\"aff_proj\",\"gender_proj\")"
   ],
   "metadata": {
    "collapsed": false,
    "pycharm": {
     "name": "#%%\n"
    }
   }
  },
  {
   "cell_type": "code",
   "execution_count": 168,
   "outputs": [
    {
     "data": {
      "text/plain": "            aff_proj  gender_proj\ntoken                            \nwoman       5.648885   174.437845\npoor        0.752802    17.700858\nrich        9.251123     4.208114\ntennis      7.390066   125.629825\nbasketball  4.629270   -10.853277\nrugby       2.959440   -91.040506\nman         4.402883  -180.322026\nqueen       7.146422   139.595165\nking        7.178383   -85.425787\ncheap       1.353270   -13.203079\nluxury      8.352489    36.219307\nfemale      5.725398   206.207577\nmale        4.764673  -175.808578",
      "text/html": "<div>\n<style scoped>\n    .dataframe tbody tr th:only-of-type {\n        vertical-align: middle;\n    }\n\n    .dataframe tbody tr th {\n        vertical-align: top;\n    }\n\n    .dataframe thead th {\n        text-align: right;\n    }\n</style>\n<table border=\"1\" class=\"dataframe\">\n  <thead>\n    <tr style=\"text-align: right;\">\n      <th></th>\n      <th>aff_proj</th>\n      <th>gender_proj</th>\n    </tr>\n    <tr>\n      <th>token</th>\n      <th></th>\n      <th></th>\n    </tr>\n  </thead>\n  <tbody>\n    <tr>\n      <th>woman</th>\n      <td>5.648885</td>\n      <td>174.437845</td>\n    </tr>\n    <tr>\n      <th>poor</th>\n      <td>0.752802</td>\n      <td>17.700858</td>\n    </tr>\n    <tr>\n      <th>rich</th>\n      <td>9.251123</td>\n      <td>4.208114</td>\n    </tr>\n    <tr>\n      <th>tennis</th>\n      <td>7.390066</td>\n      <td>125.629825</td>\n    </tr>\n    <tr>\n      <th>basketball</th>\n      <td>4.629270</td>\n      <td>-10.853277</td>\n    </tr>\n    <tr>\n      <th>rugby</th>\n      <td>2.959440</td>\n      <td>-91.040506</td>\n    </tr>\n    <tr>\n      <th>man</th>\n      <td>4.402883</td>\n      <td>-180.322026</td>\n    </tr>\n    <tr>\n      <th>queen</th>\n      <td>7.146422</td>\n      <td>139.595165</td>\n    </tr>\n    <tr>\n      <th>king</th>\n      <td>7.178383</td>\n      <td>-85.425787</td>\n    </tr>\n    <tr>\n      <th>cheap</th>\n      <td>1.353270</td>\n      <td>-13.203079</td>\n    </tr>\n    <tr>\n      <th>luxury</th>\n      <td>8.352489</td>\n      <td>36.219307</td>\n    </tr>\n    <tr>\n      <th>female</th>\n      <td>5.725398</td>\n      <td>206.207577</td>\n    </tr>\n    <tr>\n      <th>male</th>\n      <td>4.764673</td>\n      <td>-175.808578</td>\n    </tr>\n  </tbody>\n</table>\n</div>"
     },
     "execution_count": 168,
     "metadata": {},
     "output_type": "execute_result"
    }
   ],
   "source": [
    "projections_df"
   ],
   "metadata": {
    "collapsed": false,
    "pycharm": {
     "name": "#%%\n"
    }
   }
  },
  {
   "cell_type": "code",
   "execution_count": 169,
   "outputs": [
    {
     "data": {
      "text/plain": "             gender_mean  class_mean  race_mean\ntoken                                          \nbasketball      72.49233    37.48029   81.05358\nbaseball        77.60552    46.90747   38.39533\nboxing          86.39916    36.92365   64.95531\nsoftball        32.61073    45.31939   26.82060\nvolleyball      31.83629    54.05517   25.81080\ntennis          42.65294    75.34252   25.93527\ngolf            64.92760    82.92412   21.00702\nhockey          84.42197    40.18831   18.71368\nsoccer          64.12531    44.74304   35.91770\nhairdresser     20.69020    25.58188   50.86118\nlawyer          61.77906    83.59479   35.66758\ndoctor          60.06721    86.58565   37.82003\nplumber         80.25067    22.84663   39.27434\nscientist       61.87003    75.96935   32.74435\nengineer        69.79498    73.64344   32.92745\nbanker          59.90740    72.64936   32.65704\nnanny           17.65112    26.94414   41.04066\ncarpenter       80.93670    27.46218   42.08532\njournalist      47.79544    54.51160   39.90278\nnurse           26.29599    45.08054   43.68505\njazz            57.35235    62.31129   64.47241\nbluegrass       59.70648    33.35516   27.63540\npunk            68.89970    28.03863   25.61954\nhiphop          70.36341    27.69916   80.38662\nrap             77.08481    23.63341   84.40913\nopera           30.27255    84.88982   18.43137\ntechno          55.59327    41.66504   31.80039\nhamburger       67.21136    30.87822   49.86356\ncheesecake      37.24012    57.44231   40.98562\nsalad           29.50207    57.14181   37.81654\nsteak           74.79743    65.75380   44.73505\nwine            32.28771    72.63448   32.88507\nbeer            76.73858    29.18468   45.83547\npastry          34.25504    57.02082   38.23769\nmotorcycle      78.09129    40.79480   35.71057\nminivan         31.53552    34.76901   36.71924\nskateboard      71.73591    27.84433   33.28712\nsuv             56.46473    55.58908   43.94845\ntruck           78.91742    34.28461   40.08299\nbicycle         53.63020    34.87230   44.11113\nlimousine       54.79961    87.28196   33.15888\nblouse          13.86655    54.48048   44.10218\npants           61.52048    47.87089   49.03491\nnecklace        22.38490    60.73257   45.81803\ntuxedo          87.36133    84.54303   38.43134\nbriefcase       71.59772    73.14077   38.03526\nshirt           55.09586    46.58241   48.94017\ndress           10.09335    57.52888   44.54394\nsuit            78.95429    74.72621   40.26133\nsocks           53.15930    46.93888   48.06988\nshorts          50.21759    40.74440   48.08671\nJake            88.12366    51.34486   24.33859\nShanice         14.56900    35.08187   82.21732\nAaliyah         15.66787    40.41475   78.23722\nConnor          83.58592    59.13945   20.59342\nJamal           87.80617    33.63767   86.35431\nMolly           11.40538    52.93874   20.65734\nTyrone          89.98954    33.37189   86.50137\nAmy             11.52517    54.33826   22.09146",
      "text/html": "<div>\n<style scoped>\n    .dataframe tbody tr th:only-of-type {\n        vertical-align: middle;\n    }\n\n    .dataframe tbody tr th {\n        vertical-align: top;\n    }\n\n    .dataframe thead th {\n        text-align: right;\n    }\n</style>\n<table border=\"1\" class=\"dataframe\">\n  <thead>\n    <tr style=\"text-align: right;\">\n      <th></th>\n      <th>gender_mean</th>\n      <th>class_mean</th>\n      <th>race_mean</th>\n    </tr>\n    <tr>\n      <th>token</th>\n      <th></th>\n      <th></th>\n      <th></th>\n    </tr>\n  </thead>\n  <tbody>\n    <tr>\n      <th>basketball</th>\n      <td>72.49233</td>\n      <td>37.48029</td>\n      <td>81.05358</td>\n    </tr>\n    <tr>\n      <th>baseball</th>\n      <td>77.60552</td>\n      <td>46.90747</td>\n      <td>38.39533</td>\n    </tr>\n    <tr>\n      <th>boxing</th>\n      <td>86.39916</td>\n      <td>36.92365</td>\n      <td>64.95531</td>\n    </tr>\n    <tr>\n      <th>softball</th>\n      <td>32.61073</td>\n      <td>45.31939</td>\n      <td>26.82060</td>\n    </tr>\n    <tr>\n      <th>volleyball</th>\n      <td>31.83629</td>\n      <td>54.05517</td>\n      <td>25.81080</td>\n    </tr>\n    <tr>\n      <th>tennis</th>\n      <td>42.65294</td>\n      <td>75.34252</td>\n      <td>25.93527</td>\n    </tr>\n    <tr>\n      <th>golf</th>\n      <td>64.92760</td>\n      <td>82.92412</td>\n      <td>21.00702</td>\n    </tr>\n    <tr>\n      <th>hockey</th>\n      <td>84.42197</td>\n      <td>40.18831</td>\n      <td>18.71368</td>\n    </tr>\n    <tr>\n      <th>soccer</th>\n      <td>64.12531</td>\n      <td>44.74304</td>\n      <td>35.91770</td>\n    </tr>\n    <tr>\n      <th>hairdresser</th>\n      <td>20.69020</td>\n      <td>25.58188</td>\n      <td>50.86118</td>\n    </tr>\n    <tr>\n      <th>lawyer</th>\n      <td>61.77906</td>\n      <td>83.59479</td>\n      <td>35.66758</td>\n    </tr>\n    <tr>\n      <th>doctor</th>\n      <td>60.06721</td>\n      <td>86.58565</td>\n      <td>37.82003</td>\n    </tr>\n    <tr>\n      <th>plumber</th>\n      <td>80.25067</td>\n      <td>22.84663</td>\n      <td>39.27434</td>\n    </tr>\n    <tr>\n      <th>scientist</th>\n      <td>61.87003</td>\n      <td>75.96935</td>\n      <td>32.74435</td>\n    </tr>\n    <tr>\n      <th>engineer</th>\n      <td>69.79498</td>\n      <td>73.64344</td>\n      <td>32.92745</td>\n    </tr>\n    <tr>\n      <th>banker</th>\n      <td>59.90740</td>\n      <td>72.64936</td>\n      <td>32.65704</td>\n    </tr>\n    <tr>\n      <th>nanny</th>\n      <td>17.65112</td>\n      <td>26.94414</td>\n      <td>41.04066</td>\n    </tr>\n    <tr>\n      <th>carpenter</th>\n      <td>80.93670</td>\n      <td>27.46218</td>\n      <td>42.08532</td>\n    </tr>\n    <tr>\n      <th>journalist</th>\n      <td>47.79544</td>\n      <td>54.51160</td>\n      <td>39.90278</td>\n    </tr>\n    <tr>\n      <th>nurse</th>\n      <td>26.29599</td>\n      <td>45.08054</td>\n      <td>43.68505</td>\n    </tr>\n    <tr>\n      <th>jazz</th>\n      <td>57.35235</td>\n      <td>62.31129</td>\n      <td>64.47241</td>\n    </tr>\n    <tr>\n      <th>bluegrass</th>\n      <td>59.70648</td>\n      <td>33.35516</td>\n      <td>27.63540</td>\n    </tr>\n    <tr>\n      <th>punk</th>\n      <td>68.89970</td>\n      <td>28.03863</td>\n      <td>25.61954</td>\n    </tr>\n    <tr>\n      <th>hiphop</th>\n      <td>70.36341</td>\n      <td>27.69916</td>\n      <td>80.38662</td>\n    </tr>\n    <tr>\n      <th>rap</th>\n      <td>77.08481</td>\n      <td>23.63341</td>\n      <td>84.40913</td>\n    </tr>\n    <tr>\n      <th>opera</th>\n      <td>30.27255</td>\n      <td>84.88982</td>\n      <td>18.43137</td>\n    </tr>\n    <tr>\n      <th>techno</th>\n      <td>55.59327</td>\n      <td>41.66504</td>\n      <td>31.80039</td>\n    </tr>\n    <tr>\n      <th>hamburger</th>\n      <td>67.21136</td>\n      <td>30.87822</td>\n      <td>49.86356</td>\n    </tr>\n    <tr>\n      <th>cheesecake</th>\n      <td>37.24012</td>\n      <td>57.44231</td>\n      <td>40.98562</td>\n    </tr>\n    <tr>\n      <th>salad</th>\n      <td>29.50207</td>\n      <td>57.14181</td>\n      <td>37.81654</td>\n    </tr>\n    <tr>\n      <th>steak</th>\n      <td>74.79743</td>\n      <td>65.75380</td>\n      <td>44.73505</td>\n    </tr>\n    <tr>\n      <th>wine</th>\n      <td>32.28771</td>\n      <td>72.63448</td>\n      <td>32.88507</td>\n    </tr>\n    <tr>\n      <th>beer</th>\n      <td>76.73858</td>\n      <td>29.18468</td>\n      <td>45.83547</td>\n    </tr>\n    <tr>\n      <th>pastry</th>\n      <td>34.25504</td>\n      <td>57.02082</td>\n      <td>38.23769</td>\n    </tr>\n    <tr>\n      <th>motorcycle</th>\n      <td>78.09129</td>\n      <td>40.79480</td>\n      <td>35.71057</td>\n    </tr>\n    <tr>\n      <th>minivan</th>\n      <td>31.53552</td>\n      <td>34.76901</td>\n      <td>36.71924</td>\n    </tr>\n    <tr>\n      <th>skateboard</th>\n      <td>71.73591</td>\n      <td>27.84433</td>\n      <td>33.28712</td>\n    </tr>\n    <tr>\n      <th>suv</th>\n      <td>56.46473</td>\n      <td>55.58908</td>\n      <td>43.94845</td>\n    </tr>\n    <tr>\n      <th>truck</th>\n      <td>78.91742</td>\n      <td>34.28461</td>\n      <td>40.08299</td>\n    </tr>\n    <tr>\n      <th>bicycle</th>\n      <td>53.63020</td>\n      <td>34.87230</td>\n      <td>44.11113</td>\n    </tr>\n    <tr>\n      <th>limousine</th>\n      <td>54.79961</td>\n      <td>87.28196</td>\n      <td>33.15888</td>\n    </tr>\n    <tr>\n      <th>blouse</th>\n      <td>13.86655</td>\n      <td>54.48048</td>\n      <td>44.10218</td>\n    </tr>\n    <tr>\n      <th>pants</th>\n      <td>61.52048</td>\n      <td>47.87089</td>\n      <td>49.03491</td>\n    </tr>\n    <tr>\n      <th>necklace</th>\n      <td>22.38490</td>\n      <td>60.73257</td>\n      <td>45.81803</td>\n    </tr>\n    <tr>\n      <th>tuxedo</th>\n      <td>87.36133</td>\n      <td>84.54303</td>\n      <td>38.43134</td>\n    </tr>\n    <tr>\n      <th>briefcase</th>\n      <td>71.59772</td>\n      <td>73.14077</td>\n      <td>38.03526</td>\n    </tr>\n    <tr>\n      <th>shirt</th>\n      <td>55.09586</td>\n      <td>46.58241</td>\n      <td>48.94017</td>\n    </tr>\n    <tr>\n      <th>dress</th>\n      <td>10.09335</td>\n      <td>57.52888</td>\n      <td>44.54394</td>\n    </tr>\n    <tr>\n      <th>suit</th>\n      <td>78.95429</td>\n      <td>74.72621</td>\n      <td>40.26133</td>\n    </tr>\n    <tr>\n      <th>socks</th>\n      <td>53.15930</td>\n      <td>46.93888</td>\n      <td>48.06988</td>\n    </tr>\n    <tr>\n      <th>shorts</th>\n      <td>50.21759</td>\n      <td>40.74440</td>\n      <td>48.08671</td>\n    </tr>\n    <tr>\n      <th>Jake</th>\n      <td>88.12366</td>\n      <td>51.34486</td>\n      <td>24.33859</td>\n    </tr>\n    <tr>\n      <th>Shanice</th>\n      <td>14.56900</td>\n      <td>35.08187</td>\n      <td>82.21732</td>\n    </tr>\n    <tr>\n      <th>Aaliyah</th>\n      <td>15.66787</td>\n      <td>40.41475</td>\n      <td>78.23722</td>\n    </tr>\n    <tr>\n      <th>Connor</th>\n      <td>83.58592</td>\n      <td>59.13945</td>\n      <td>20.59342</td>\n    </tr>\n    <tr>\n      <th>Jamal</th>\n      <td>87.80617</td>\n      <td>33.63767</td>\n      <td>86.35431</td>\n    </tr>\n    <tr>\n      <th>Molly</th>\n      <td>11.40538</td>\n      <td>52.93874</td>\n      <td>20.65734</td>\n    </tr>\n    <tr>\n      <th>Tyrone</th>\n      <td>89.98954</td>\n      <td>33.37189</td>\n      <td>86.50137</td>\n    </tr>\n    <tr>\n      <th>Amy</th>\n      <td>11.52517</td>\n      <td>54.33826</td>\n      <td>22.09146</td>\n    </tr>\n  </tbody>\n</table>\n</div>"
     },
     "execution_count": 169,
     "metadata": {},
     "output_type": "execute_result"
    }
   ],
   "source": [
    "survey_df"
   ],
   "metadata": {
    "collapsed": false,
    "pycharm": {
     "name": "#%%\n"
    }
   }
  },
  {
   "cell_type": "code",
   "execution_count": 170,
   "outputs": [
    {
     "data": {
      "text/plain": "            aff_proj  gender_proj  gender_mean  class_mean  race_mean\ntoken                                                                \nwoman       5.648885   174.437845          NaN         NaN        NaN\npoor        0.752802    17.700858          NaN         NaN        NaN\nrich        9.251123     4.208114          NaN         NaN        NaN\ntennis      7.390066   125.629825     42.65294    75.34252   25.93527\nbasketball  4.629270   -10.853277     72.49233    37.48029   81.05358\nrugby       2.959440   -91.040506          NaN         NaN        NaN\nman         4.402883  -180.322026          NaN         NaN        NaN\nqueen       7.146422   139.595165          NaN         NaN        NaN\nking        7.178383   -85.425787          NaN         NaN        NaN\ncheap       1.353270   -13.203079          NaN         NaN        NaN\nluxury      8.352489    36.219307          NaN         NaN        NaN\nfemale      5.725398   206.207577          NaN         NaN        NaN\nmale        4.764673  -175.808578          NaN         NaN        NaN",
      "text/html": "<div>\n<style scoped>\n    .dataframe tbody tr th:only-of-type {\n        vertical-align: middle;\n    }\n\n    .dataframe tbody tr th {\n        vertical-align: top;\n    }\n\n    .dataframe thead th {\n        text-align: right;\n    }\n</style>\n<table border=\"1\" class=\"dataframe\">\n  <thead>\n    <tr style=\"text-align: right;\">\n      <th></th>\n      <th>aff_proj</th>\n      <th>gender_proj</th>\n      <th>gender_mean</th>\n      <th>class_mean</th>\n      <th>race_mean</th>\n    </tr>\n    <tr>\n      <th>token</th>\n      <th></th>\n      <th></th>\n      <th></th>\n      <th></th>\n      <th></th>\n    </tr>\n  </thead>\n  <tbody>\n    <tr>\n      <th>woman</th>\n      <td>5.648885</td>\n      <td>174.437845</td>\n      <td>NaN</td>\n      <td>NaN</td>\n      <td>NaN</td>\n    </tr>\n    <tr>\n      <th>poor</th>\n      <td>0.752802</td>\n      <td>17.700858</td>\n      <td>NaN</td>\n      <td>NaN</td>\n      <td>NaN</td>\n    </tr>\n    <tr>\n      <th>rich</th>\n      <td>9.251123</td>\n      <td>4.208114</td>\n      <td>NaN</td>\n      <td>NaN</td>\n      <td>NaN</td>\n    </tr>\n    <tr>\n      <th>tennis</th>\n      <td>7.390066</td>\n      <td>125.629825</td>\n      <td>42.65294</td>\n      <td>75.34252</td>\n      <td>25.93527</td>\n    </tr>\n    <tr>\n      <th>basketball</th>\n      <td>4.629270</td>\n      <td>-10.853277</td>\n      <td>72.49233</td>\n      <td>37.48029</td>\n      <td>81.05358</td>\n    </tr>\n    <tr>\n      <th>rugby</th>\n      <td>2.959440</td>\n      <td>-91.040506</td>\n      <td>NaN</td>\n      <td>NaN</td>\n      <td>NaN</td>\n    </tr>\n    <tr>\n      <th>man</th>\n      <td>4.402883</td>\n      <td>-180.322026</td>\n      <td>NaN</td>\n      <td>NaN</td>\n      <td>NaN</td>\n    </tr>\n    <tr>\n      <th>queen</th>\n      <td>7.146422</td>\n      <td>139.595165</td>\n      <td>NaN</td>\n      <td>NaN</td>\n      <td>NaN</td>\n    </tr>\n    <tr>\n      <th>king</th>\n      <td>7.178383</td>\n      <td>-85.425787</td>\n      <td>NaN</td>\n      <td>NaN</td>\n      <td>NaN</td>\n    </tr>\n    <tr>\n      <th>cheap</th>\n      <td>1.353270</td>\n      <td>-13.203079</td>\n      <td>NaN</td>\n      <td>NaN</td>\n      <td>NaN</td>\n    </tr>\n    <tr>\n      <th>luxury</th>\n      <td>8.352489</td>\n      <td>36.219307</td>\n      <td>NaN</td>\n      <td>NaN</td>\n      <td>NaN</td>\n    </tr>\n    <tr>\n      <th>female</th>\n      <td>5.725398</td>\n      <td>206.207577</td>\n      <td>NaN</td>\n      <td>NaN</td>\n      <td>NaN</td>\n    </tr>\n    <tr>\n      <th>male</th>\n      <td>4.764673</td>\n      <td>-175.808578</td>\n      <td>NaN</td>\n      <td>NaN</td>\n      <td>NaN</td>\n    </tr>\n  </tbody>\n</table>\n</div>"
     },
     "execution_count": 170,
     "metadata": {},
     "output_type": "execute_result"
    }
   ],
   "source": [
    "survey_proj = projections_df.merge(survey_df, left_index=True, right_index=True, how='left')\n",
    "survey_proj"
   ],
   "metadata": {
    "collapsed": false,
    "pycharm": {
     "name": "#%%\n"
    }
   }
  },
  {
   "cell_type": "code",
   "execution_count": 171,
   "outputs": [
    {
     "data": {
      "text/plain": "            aff_proj  gender_proj  gender_mean  class_mean  race_mean\ntoken                                                                \ntennis      7.390066   125.629825     42.65294    75.34252   25.93527\nbasketball  4.629270   -10.853277     72.49233    37.48029   81.05358",
      "text/html": "<div>\n<style scoped>\n    .dataframe tbody tr th:only-of-type {\n        vertical-align: middle;\n    }\n\n    .dataframe tbody tr th {\n        vertical-align: top;\n    }\n\n    .dataframe thead th {\n        text-align: right;\n    }\n</style>\n<table border=\"1\" class=\"dataframe\">\n  <thead>\n    <tr style=\"text-align: right;\">\n      <th></th>\n      <th>aff_proj</th>\n      <th>gender_proj</th>\n      <th>gender_mean</th>\n      <th>class_mean</th>\n      <th>race_mean</th>\n    </tr>\n    <tr>\n      <th>token</th>\n      <th></th>\n      <th></th>\n      <th></th>\n      <th></th>\n      <th></th>\n    </tr>\n  </thead>\n  <tbody>\n    <tr>\n      <th>tennis</th>\n      <td>7.390066</td>\n      <td>125.629825</td>\n      <td>42.65294</td>\n      <td>75.34252</td>\n      <td>25.93527</td>\n    </tr>\n    <tr>\n      <th>basketball</th>\n      <td>4.629270</td>\n      <td>-10.853277</td>\n      <td>72.49233</td>\n      <td>37.48029</td>\n      <td>81.05358</td>\n    </tr>\n  </tbody>\n</table>\n</div>"
     },
     "execution_count": 171,
     "metadata": {},
     "output_type": "execute_result"
    }
   ],
   "source": [
    "survey_proj_nona = survey_proj.dropna()\n",
    "survey_proj_nona"
   ],
   "metadata": {
    "collapsed": false,
    "pycharm": {
     "name": "#%%\n"
    }
   }
  },
  {
   "cell_type": "code",
   "execution_count": 172,
   "outputs": [
    {
     "data": {
      "text/plain": "array([[1., 1.],\n       [1., 1.]])"
     },
     "execution_count": 172,
     "metadata": {},
     "output_type": "execute_result"
    }
   ],
   "source": [
    "# ?? different names?\n",
    "#class_mean = survey_proj['class_mean']\n",
    "#class_mean_nona = class_mean[~np.isnan(class_mean)]\n",
    "#aff_proj = survey_proj['aff_proj']\n",
    "#aff_proj_nona = aff_proj[~np.isnan(aff_proj)]\n",
    "np.corrcoef(survey_proj_nona['class_mean'], survey_proj_nona['aff_proj'])\n",
    "#cor(survey_proj$gender_mean, survey_proj$gender_proj)"
   ],
   "metadata": {
    "collapsed": false,
    "pycharm": {
     "name": "#%%\n"
    }
   }
  },
  {
   "cell_type": "code",
   "execution_count": 173,
   "outputs": [
    {
     "data": {
      "text/plain": "            aff_proj  gender_proj\ntoken                            \nwoman       5.648885   174.437845\npoor        0.752802    17.700858\nrich        9.251123     4.208114\ntennis      7.390066   125.629825\nbasketball  4.629270   -10.853277\nrugby       2.959440   -91.040506\nman         4.402883  -180.322026\nqueen       7.146422   139.595165\nking        7.178383   -85.425787\ncheap       1.353270   -13.203079\nluxury      8.352489    36.219307\nfemale      5.725398   206.207577\nmale        4.764673  -175.808578",
      "text/html": "<div>\n<style scoped>\n    .dataframe tbody tr th:only-of-type {\n        vertical-align: middle;\n    }\n\n    .dataframe tbody tr th {\n        vertical-align: top;\n    }\n\n    .dataframe thead th {\n        text-align: right;\n    }\n</style>\n<table border=\"1\" class=\"dataframe\">\n  <thead>\n    <tr style=\"text-align: right;\">\n      <th></th>\n      <th>aff_proj</th>\n      <th>gender_proj</th>\n    </tr>\n    <tr>\n      <th>token</th>\n      <th></th>\n      <th></th>\n    </tr>\n  </thead>\n  <tbody>\n    <tr>\n      <th>woman</th>\n      <td>5.648885</td>\n      <td>174.437845</td>\n    </tr>\n    <tr>\n      <th>poor</th>\n      <td>0.752802</td>\n      <td>17.700858</td>\n    </tr>\n    <tr>\n      <th>rich</th>\n      <td>9.251123</td>\n      <td>4.208114</td>\n    </tr>\n    <tr>\n      <th>tennis</th>\n      <td>7.390066</td>\n      <td>125.629825</td>\n    </tr>\n    <tr>\n      <th>basketball</th>\n      <td>4.629270</td>\n      <td>-10.853277</td>\n    </tr>\n    <tr>\n      <th>rugby</th>\n      <td>2.959440</td>\n      <td>-91.040506</td>\n    </tr>\n    <tr>\n      <th>man</th>\n      <td>4.402883</td>\n      <td>-180.322026</td>\n    </tr>\n    <tr>\n      <th>queen</th>\n      <td>7.146422</td>\n      <td>139.595165</td>\n    </tr>\n    <tr>\n      <th>king</th>\n      <td>7.178383</td>\n      <td>-85.425787</td>\n    </tr>\n    <tr>\n      <th>cheap</th>\n      <td>1.353270</td>\n      <td>-13.203079</td>\n    </tr>\n    <tr>\n      <th>luxury</th>\n      <td>8.352489</td>\n      <td>36.219307</td>\n    </tr>\n    <tr>\n      <th>female</th>\n      <td>5.725398</td>\n      <td>206.207577</td>\n    </tr>\n    <tr>\n      <th>male</th>\n      <td>4.764673</td>\n      <td>-175.808578</td>\n    </tr>\n  </tbody>\n</table>\n</div>"
     },
     "execution_count": 173,
     "metadata": {},
     "output_type": "execute_result"
    }
   ],
   "source": [
    "projections_df"
   ],
   "metadata": {
    "collapsed": false,
    "pycharm": {
     "name": "#%%\n"
    }
   }
  },
  {
   "cell_type": "code",
   "execution_count": 174,
   "outputs": [
    {
     "data": {
      "text/plain": "Text(0, 0.5, 'd2')"
     },
     "execution_count": 174,
     "metadata": {},
     "output_type": "execute_result"
    },
    {
     "data": {
      "text/plain": "<Figure size 792x432 with 1 Axes>",
      "image/png": "[encoded data removed]"
     },
     "metadata": {},
     "output_type": "display_data"
    }
   ],
   "source": [
    "sns.set_theme()\n",
    "sns.set(rc={'figure.figsize':(11,6)})\n",
    "sns.set_style('whitegrid')\n",
    "splot = sns.scatterplot(data=emb_df, x='d1', y='d2')\n",
    "\n",
    "def label_point(x, y, val, ax):\n",
    "    a = pd.concat({'x': x, 'y': y, 'val': val}, axis=1)\n",
    "    for i, point in a.iterrows():\n",
    "        ax.text(point['x']+.02, point['y'], str(point['val']))\n",
    "\n",
    "label_point(emb_df['d1'], emb_df['d2'], emb_df.index.to_series(), plt.gca())\n",
    "\n",
    "# Set x-axis label\n",
    "plt.xlabel('d1')\n",
    "# Set y-axis label\n",
    "plt.ylabel('d2')"
   ],
   "metadata": {
    "collapsed": false,
    "pycharm": {
     "name": "#%%\n"
    }
   }
  },
  {
   "cell_type": "code",
   "execution_count": 175,
   "outputs": [
    {
     "data": {
      "text/plain": "Text(0, 0.5, 'Gender Projection')"
     },
     "execution_count": 175,
     "metadata": {},
     "output_type": "execute_result"
    },
    {
     "data": {
      "text/plain": "<Figure size 792x432 with 1 Axes>",
      "image/png": "[encoded data removed]"
     },
     "metadata": {},
     "output_type": "display_data"
    }
   ],
   "source": [
    "sns.set_theme()\n",
    "sns.set(rc={'figure.figsize':(11,6)})\n",
    "sns.set_style('whitegrid')\n",
    "splot = sns.scatterplot(data=projections_df, x='aff_proj', y='gender_proj')\n",
    "\n",
    "def label_point(x, y, val, ax):\n",
    "    a = pd.concat({'x': x, 'y': y, 'val': val}, axis=1)\n",
    "    for i, point in a.iterrows():\n",
    "        ax.text(point['x']+.02, point['y'], str(point['val']))\n",
    "\n",
    "label_point(projections_df['aff_proj'], projections_df['gender_proj'], projections_df.index.to_series(), plt.gca())\n",
    "\n",
    "# Set x-axis label\n",
    "plt.xlabel('Affluence Projection')\n",
    "# Set y-axis label\n",
    "plt.ylabel('Gender Projection')"
   ],
   "metadata": {
    "collapsed": false,
    "pycharm": {
     "name": "#%%\n"
    }
   }
  },
  {
   "cell_type": "code",
   "execution_count": 176,
   "outputs": [],
   "source": [
    "from bokeh.plotting import figure, show"
   ],
   "metadata": {
    "collapsed": false,
    "pycharm": {
     "name": "#%%\n"
    }
   }
  },
  {
   "cell_type": "code",
   "execution_count": 177,
   "outputs": [
    {
     "ename": "ValueError",
     "evalue": "expected a dict or pandas.DataFrame, got Index(['woman', 'poor', 'rich', 'tennis', 'basketball', 'rugby', 'man',\n       'queen', 'king', 'cheap', 'luxury', 'female', 'male'],\n      dtype='object', name='token')",
     "output_type": "error",
     "traceback": [
      "\u001B[1;31m---------------------------------------------------------------------------\u001B[0m",
      "\u001B[1;31mValueError\u001B[0m                                Traceback (most recent call last)",
      "Input \u001B[1;32mIn [177]\u001B[0m, in \u001B[0;36m<cell line: 9>\u001B[1;34m()\u001B[0m\n\u001B[0;32m      4\u001B[0m p \u001B[38;5;241m=\u001B[39m figure(tools\u001B[38;5;241m=\u001B[39mTOOLS)\n\u001B[0;32m      6\u001B[0m p\u001B[38;5;241m.\u001B[39mscatter(projections_df[\u001B[38;5;124m'\u001B[39m\u001B[38;5;124maff_proj\u001B[39m\u001B[38;5;124m'\u001B[39m], projections_df[\u001B[38;5;124m'\u001B[39m\u001B[38;5;124mgender_proj\u001B[39m\u001B[38;5;124m'\u001B[39m],\n\u001B[0;32m      7\u001B[0m           fill_alpha\u001B[38;5;241m=\u001B[39m\u001B[38;5;241m0.6\u001B[39m,\n\u001B[0;32m      8\u001B[0m           line_color\u001B[38;5;241m=\u001B[39m\u001B[38;5;28;01mNone\u001B[39;00m)\n\u001B[0;32m      9\u001B[0m labels \u001B[38;5;241m=\u001B[39m LabelSet(x\u001B[38;5;241m=\u001B[39m\u001B[38;5;124m'\u001B[39m\u001B[38;5;124moff_rating\u001B[39m\u001B[38;5;124m'\u001B[39m, y\u001B[38;5;241m=\u001B[39m\u001B[38;5;124m'\u001B[39m\u001B[38;5;124mdef_rating\u001B[39m\u001B[38;5;124m'\u001B[39m, text\u001B[38;5;241m=\u001B[39m\u001B[38;5;124m'\u001B[39m\u001B[38;5;124mnames\u001B[39m\u001B[38;5;124m'\u001B[39m,text_font_size\u001B[38;5;241m=\u001B[39m\u001B[38;5;124m'\u001B[39m\u001B[38;5;124m9pt\u001B[39m\u001B[38;5;124m'\u001B[39m,\n\u001B[1;32m---> 10\u001B[0m                   x_offset\u001B[38;5;241m=\u001B[39m\u001B[38;5;241m5\u001B[39m, y_offset\u001B[38;5;241m=\u001B[39m\u001B[38;5;241m5\u001B[39m, source\u001B[38;5;241m=\u001B[39m\u001B[43mColumnDataSource\u001B[49m\u001B[43m(\u001B[49m\u001B[43mprojections_df\u001B[49m\u001B[38;5;241;43m.\u001B[39;49m\u001B[43mindex\u001B[49m\u001B[43m)\u001B[49m, render_mode\u001B[38;5;241m=\u001B[39m\u001B[38;5;124m'\u001B[39m\u001B[38;5;124mcanvas\u001B[39m\u001B[38;5;124m'\u001B[39m)\n\u001B[0;32m     11\u001B[0m p\u001B[38;5;241m.\u001B[39madd_layout(labels)\n\u001B[0;32m     12\u001B[0m show(p)\n",
      "File \u001B[1;32m~\\lib\\site-packages\\bokeh\\models\\sources.py:237\u001B[0m, in \u001B[0;36mColumnDataSource.__init__\u001B[1;34m(self, *args, **kwargs)\u001B[0m\n\u001B[0;32m    235\u001B[0m         raw_data \u001B[38;5;241m=\u001B[39m \u001B[38;5;28mself\u001B[39m\u001B[38;5;241m.\u001B[39m_data_from_groupby(raw_data)\n\u001B[0;32m    236\u001B[0m     \u001B[38;5;28;01melse\u001B[39;00m:\n\u001B[1;32m--> 237\u001B[0m         \u001B[38;5;28;01mraise\u001B[39;00m \u001B[38;5;167;01mValueError\u001B[39;00m(\u001B[38;5;124mf\u001B[39m\u001B[38;5;124m\"\u001B[39m\u001B[38;5;124mexpected a dict or pandas.DataFrame, got \u001B[39m\u001B[38;5;132;01m{\u001B[39;00mraw_data\u001B[38;5;132;01m}\u001B[39;00m\u001B[38;5;124m\"\u001B[39m)\n\u001B[0;32m    238\u001B[0m \u001B[38;5;28msuper\u001B[39m()\u001B[38;5;241m.\u001B[39m\u001B[38;5;21m__init__\u001B[39m(\u001B[38;5;241m*\u001B[39m\u001B[38;5;241m*\u001B[39mkwargs)\n\u001B[0;32m    239\u001B[0m \u001B[38;5;28mself\u001B[39m\u001B[38;5;241m.\u001B[39mdata\u001B[38;5;241m.\u001B[39mupdate(raw_data)\n",
      "\u001B[1;31mValueError\u001B[0m: expected a dict or pandas.DataFrame, got Index(['woman', 'poor', 'rich', 'tennis', 'basketball', 'rugby', 'man',\n       'queen', 'king', 'cheap', 'luxury', 'female', 'male'],\n      dtype='object', name='token')"
     ]
    }
   ],
   "source": [
    "\n",
    "from bokeh.models import LabelSet, ColumnDataSource\n",
    "\n",
    "TOOLS=\"hover,crosshair,pan,wheel_zoom,zoom_in,zoom_out,box_zoom,undo,redo,reset,tap,save,box_select,poly_select,lasso_select,examine,help\"\n",
    "p = figure(tools=TOOLS)\n",
    "\n",
    "p.scatter(projections_df['aff_proj'], projections_df['gender_proj'],\n",
    "          fill_alpha=0.6,\n",
    "          line_color=None)\n",
    "labels = LabelSet(x='off_rating', y='def_rating', text='names',text_font_size='9pt',\n",
    "                  x_offset=5, y_offset=5, source=ColumnDataSource(projections_df.index), render_mode='canvas')\n",
    "p.add_layout(labels)\n",
    "show(p)\n",
    "show(p)"
   ],
   "metadata": {
    "collapsed": false,
    "pycharm": {
     "name": "#%%\n"
    }
   }
  },
  {
   "cell_type": "code",
   "execution_count": null,
   "outputs": [],
   "source": [],
   "metadata": {
    "collapsed": false,
    "pycharm": {
     "name": "#%%\n"
    }
   }
  },
  {
   "cell_type": "code",
   "execution_count": null,
   "outputs": [],
   "source": [],
   "metadata": {
    "collapsed": false,
    "pycharm": {
     "name": "#%%\n"
    }
   }
  },
  {
   "cell_type": "code",
   "execution_count": null,
   "outputs": [],
   "source": [],
   "metadata": {
    "collapsed": false,
    "pycharm": {
     "name": "#%%\n"
    }
   }
  },
  {
   "cell_type": "code",
   "execution_count": null,
   "outputs": [],
   "source": [],
   "metadata": {
    "collapsed": false,
    "pycharm": {
     "name": "#%%\n"
    }
   }
  }
 ],
 "metadata": {
  "kernelspec": {
   "display_name": "Python 3",
   "language": "python",
   "name": "python3"
  },
  "language_info": {
   "codemirror_mode": {
    "name": "ipython",
    "version": 2
   },
   "file_extension": ".py",
   "mimetype": "text/x-python",
   "name": "python",
   "nbconvert_exporter": "python",
   "pygments_lexer": "ipython2",
   "version": "2.7.6"
  }
 },
 "nbformat": 4,
 "nbformat_minor": 0
}