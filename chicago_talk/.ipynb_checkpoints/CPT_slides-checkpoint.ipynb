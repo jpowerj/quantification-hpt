{
 "cells": [
  {
   "cell_type": "markdown",
   "metadata": {
    "pycharm": {
     "name": "#%% md\n"
    },
    "slideshow": {
     "slide_type": "slide"
    }
   },
   "source": [
    "## Meaning, Understanding, and Quantification in the History of Ideas\n",
    "\n",
    "### Jeff Jacobs, [`jjacobs3@cs.stanford.edu`](mailto:jjacobs3@cs.stanford.edu)\n",
    "\n",
    "### University of Chicago, April 28, 2023\n",
    "\n",
    "* This slideshow: https://jjacobs.me/cpt-talk\n",
    "* All materials: https://github.com/jpowerj/cpt-talk"
   ]
  },
  {
   "cell_type": "markdown",
   "metadata": {
    "pycharm": {
     "name": "#%% md\n"
    },
    "slideshow": {
     "slide_type": "slide"
    },
    "tags": []
   },
   "source": [
    "## Computational Political Theory\n",
    "\n",
    "### What It Is and What It Isn't\n",
    "\n",
    "* It is...\n",
    "    * Adapting to the needs of humans/humanists/the humanities\n",
    "    * Eliminating unnecessary barriers between researchers and their materials\n",
    "* It isn't...\n",
    "    * Replacing humans/humanists/the humanities\n",
    "    * \"Automating\" insights and research work (just the boring parts)"
   ]
  },
  {
   "cell_type": "markdown",
   "metadata": {
    "slideshow": {
     "slide_type": "slide"
    },
    "tags": []
   },
   "source": [
    "## Background"
   ]
  },
  {
   "cell_type": "code",
   "execution_count": 2,
   "metadata": {
    "tags": []
   },
   "outputs": [
    {
     "data": {
      "text/html": [
       "<div>\n",
       "<style scoped>\n",
       "    .dataframe tbody tr th:only-of-type {\n",
       "        vertical-align: middle;\n",
       "    }\n",
       "\n",
       "    .dataframe tbody tr th {\n",
       "        vertical-align: top;\n",
       "    }\n",
       "\n",
       "    .dataframe thead th {\n",
       "        text-align: right;\n",
       "    }\n",
       "</style>\n",
       "<table border=\"1\" class=\"dataframe\">\n",
       "  <thead>\n",
       "    <tr style=\"text-align: right;\">\n",
       "      <th></th>\n",
       "      <th>Arts</th>\n",
       "      <th>Real Estate</th>\n",
       "      <th>Sports</th>\n",
       "      <th>U.S. News</th>\n",
       "      <th>World News</th>\n",
       "      <th>Total</th>\n",
       "    </tr>\n",
       "  </thead>\n",
       "  <tbody>\n",
       "    <tr>\n",
       "      <th>Correct</th>\n",
       "      <td>3020.000</td>\n",
       "      <td>690.00</td>\n",
       "      <td>4860.000</td>\n",
       "      <td>1330.000</td>\n",
       "      <td>1730.000</td>\n",
       "      <td>11630.000</td>\n",
       "    </tr>\n",
       "    <tr>\n",
       "      <th>Incorrect</th>\n",
       "      <td>750.000</td>\n",
       "      <td>60.00</td>\n",
       "      <td>370.000</td>\n",
       "      <td>1100.000</td>\n",
       "      <td>590.000</td>\n",
       "      <td>2870.000</td>\n",
       "    </tr>\n",
       "    <tr>\n",
       "      <th>Accuracy</th>\n",
       "      <td>0.801</td>\n",
       "      <td>0.92</td>\n",
       "      <td>0.929</td>\n",
       "      <td>0.547</td>\n",
       "      <td>0.746</td>\n",
       "      <td>0.802</td>\n",
       "    </tr>\n",
       "  </tbody>\n",
       "</table>\n",
       "</div>"
      ],
      "text/plain": [
       "               Arts  Real Estate    Sports  U.S. News  World News      Total\n",
       "Correct    3020.000       690.00  4860.000   1330.000    1730.000  11630.000\n",
       "Incorrect   750.000        60.00   370.000   1100.000     590.000   2870.000\n",
       "Accuracy      0.801         0.92     0.929      0.547       0.746      0.802"
      ]
     },
     "execution_count": 2,
     "metadata": {},
     "output_type": "execute_result"
    }
   ],
   "source": [
    "import pandas as pd\n",
    "import numpy as np\n",
    "nyt_df = pd.read_csv(\"../results/nyt_sections_frozen.csv\")\n",
    "nyt_df.head()"
   ]
  },
  {
   "cell_type": "markdown",
   "metadata": {
    "slideshow": {
     "slide_type": "slide"
    },
    "tags": []
   },
   "source": [
    "## Models of Meaning and Context"
   ]
  },
  {
   "cell_type": "markdown",
   "metadata": {
    "slideshow": {
     "slide_type": "slide"
    },
    "tags": []
   },
   "source": [
    "## The Empirics of Influence: Historical Sketches"
   ]
  },
  {
   "cell_type": "markdown",
   "metadata": {},
   "source": []
  },
  {
   "cell_type": "code",
   "execution_count": null,
   "metadata": {},
   "outputs": [],
   "source": []
  },
  {
   "cell_type": "code",
   "execution_count": null,
   "metadata": {},
   "outputs": [],
   "source": []
  }
 ],
 "metadata": {
  "kernelspec": {
   "display_name": "Python 3 (ipykernel)",
   "language": "python",
   "name": "python3"
  },
  "language_info": {
   "codemirror_mode": {
    "name": "ipython",
    "version": 3
   },
   "file_extension": ".py",
   "mimetype": "text/x-python",
   "name": "python",
   "nbconvert_exporter": "python",
   "pygments_lexer": "ipython3",
   "version": "3.10.5"
  }
 },
 "nbformat": 4,
 "nbformat_minor": 4
}
