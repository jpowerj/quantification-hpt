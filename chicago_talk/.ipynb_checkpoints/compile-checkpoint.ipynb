{
 "cells": [
  {
   "cell_type": "code",
   "execution_count": 2,
   "id": "851fe721-f0ae-4068-a923-94150fe9c1da",
   "metadata": {
    "tags": []
   },
   "outputs": [
    {
     "name": "stderr",
     "output_type": "stream",
     "text": [
      "[NbConvertApp] Converting notebook CPT.ipynb to slides\n",
      "[NbConvertApp] Writing 627775 bytes to CPT.slides.html\n"
     ]
    }
   ],
   "source": [
    "!jupyter nbconvert CPT.ipynb --to slides --SlidesExporter.reveal_scroll=True"
   ]
  },
  {
   "cell_type": "code",
   "execution_count": null,
   "id": "40806ee1-2210-4d63-a680-2169051c0b41",
   "metadata": {},
   "outputs": [],
   "source": []
  }
 ],
 "metadata": {
  "kernelspec": {
   "display_name": "Python 3 (ipykernel)",
   "language": "python",
   "name": "python3"
  },
  "language_info": {
   "codemirror_mode": {
    "name": "ipython",
    "version": 3
   },
   "file_extension": ".py",
   "mimetype": "text/x-python",
   "name": "python",
   "nbconvert_exporter": "python",
   "pygments_lexer": "ipython3",
   "version": "3.10.5"
  }
 },
 "nbformat": 4,
 "nbformat_minor": 5
}
